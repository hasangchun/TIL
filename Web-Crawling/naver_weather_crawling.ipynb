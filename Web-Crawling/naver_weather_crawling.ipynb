{
 "cells": [
  {
   "cell_type": "code",
   "execution_count": 2,
   "metadata": {},
   "outputs": [
    {
     "name": "stdout",
     "output_type": "stream",
     "text": [
      "현재위치 : 경기도 구리시 인창동\n",
      "현재 온도 : 24℃\n",
      "현재 미세먼지 : 27㎍/㎥\n",
      "현재 초미세먼지 : 14㎍/㎥\n",
      "현재 오존지수 : 0.034ppm\n"
     ]
    }
   ],
   "source": [
    "import requests\n",
    "from bs4 import BeautifulSoup\n",
    "html = requests.get(\"https://search.naver.com/search.naver?query=날씨\")\n",
    "    \n",
    "soup = BeautifulSoup(html.text,\"html.parser\")\n",
    "data1 = soup.find('div',{'class' : 'weather_box'})\n",
    "\n",
    "find_address = data1.find('span',{'class': 'btn_select'}).text\n",
    "print(\"현재위치 : \"+ find_address)\n",
    "find_temp = data1.find('span',{'class': 'todaytemp'}).text\n",
    "print(\"현재 온도 : \"+find_temp+\"℃\")\n",
    "\n",
    "data2 = data1.findAll('dd')\n",
    "\n",
    "find_dust = data2[0].find('span',{'class' : 'num'}).text\n",
    "find_ultra_dust = data2[1].find('span',{'class':'num'}).text\n",
    "find_ozone = data2[2].find('span',{'class': 'num'}).text\n",
    "print(\"현재 미세먼지 : \"+find_dust)\n",
    "print(\"현재 초미세먼지 : \"+find_ultra_dust)\n",
    "print(\"현재 오존지수 : \"+find_ozone)"
   ]
  },
  {
   "cell_type": "code",
   "execution_count": null,
   "metadata": {},
   "outputs": [],
   "source": []
  }
 ],
 "metadata": {
  "kernelspec": {
   "display_name": "Python 3",
   "language": "python",
   "name": "python3"
  },
  "language_info": {
   "codemirror_mode": {
    "name": "ipython",
    "version": 3
   },
   "file_extension": ".py",
   "mimetype": "text/x-python",
   "name": "python",
   "nbconvert_exporter": "python",
   "pygments_lexer": "ipython3",
   "version": "3.8.3"
  }
 },
 "nbformat": 4,
 "nbformat_minor": 4
}
