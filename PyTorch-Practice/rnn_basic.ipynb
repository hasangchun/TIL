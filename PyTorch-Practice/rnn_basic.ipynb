{
 "cells": [
  {
   "cell_type": "code",
   "execution_count": 1,
   "metadata": {},
   "outputs": [
    {
     "name": "stdout",
     "output_type": "stream",
     "text": [
      "one input size torch.Size([1, 1, 4]) out size torch.Size([1, 1, 2])\n",
      "one input size torch.Size([1, 1, 4]) out size torch.Size([1, 1, 2])\n",
      "one input size torch.Size([1, 1, 4]) out size torch.Size([1, 1, 2])\n",
      "one input size torch.Size([1, 1, 4]) out size torch.Size([1, 1, 2])\n",
      "one input size torch.Size([1, 1, 4]) out size torch.Size([1, 1, 2])\n"
     ]
    }
   ],
   "source": [
    "import torch\n",
    "import torch.nn as nn\n",
    "from torch.autograd import Variable\n",
    "\n",
    "# one hot encoding for each char in 'hello'\n",
    "h = [1,0,0,0]\n",
    "e = [0,1,0,0]\n",
    "l = [0,0,1,0]\n",
    "o = [0,0,0,1]\n",
    "\n",
    "# one cell RNN input_dim (4) -> output_dim (2)\n",
    "cell = nn.RNN(input_size = 4, hidden_size = 2, batch_first = True)\n",
    "\n",
    "hidden = Variable(torch.randn(1,1,2))\n",
    "inputs = Variable(torch.Tensor([h,e,l,l,o]))\n",
    "for one in inputs:\n",
    "    one = one.view(1,1,-1)\n",
    "    out, hidden = cell(one, hidden)\n",
    "    print(\"one input size\", one.size(), \"out size\", out.size())\n",
    "    "
   ]
  },
  {
   "cell_type": "code",
   "execution_count": 3,
   "metadata": {},
   "outputs": [
    {
     "name": "stdout",
     "output_type": "stream",
     "text": [
      "sequence input size torch.Size([1, 5, 4]) out size torch.Size([1, 5, 2])\n"
     ]
    }
   ],
   "source": [
    "inputs = inputs.view(1,5,-1)\n",
    "out, hidden = cell(inputs, hidden)\n",
    "print(\"sequence input size\", inputs.size(), \"out size\",out.size())"
   ]
  },
  {
   "cell_type": "code",
   "execution_count": 4,
   "metadata": {},
   "outputs": [
    {
     "name": "stdout",
     "output_type": "stream",
     "text": [
      "batch input size torch.Size([3, 5, 4]) out size torch.Size([3, 5, 2])\n"
     ]
    }
   ],
   "source": [
    "hidden = Variable(torch.randn(1,3,2))\n",
    "inputs = Variable(torch.Tensor([[h,e,l,l,o],\n",
    "                              [e,o,l,l,l],\n",
    "                              [l,l,e,e,l]]))\n",
    "out, hidden = cell(inputs,hidden)\n",
    "print(\"batch input size\", inputs.size(), \"out size\", out.size())"
   ]
  },
  {
   "cell_type": "code",
   "execution_count": 5,
   "metadata": {},
   "outputs": [
    {
     "name": "stdout",
     "output_type": "stream",
     "text": [
      "batch input size torch.Size([5, 3, 4]) out size torch.Size([5, 3, 2])\n"
     ]
    }
   ],
   "source": [
    "cell = nn.RNN(input_size = 4, hidden_size =2)\n",
    "# The given dimensions dim0 and dim1 are swapped.\n",
    "inputs = inputs.transpose(dim0 = 0, dim1 = 1)\n",
    "out, hidden = cell(inputs, hidden)\n",
    "print(\"batch input size\", inputs.size(), \"out size\", out.size())"
   ]
  },
  {
   "cell_type": "code",
   "execution_count": null,
   "metadata": {},
   "outputs": [],
   "source": []
  }
 ],
 "metadata": {
  "kernelspec": {
   "display_name": "Python 3",
   "language": "python",
   "name": "python3"
  },
  "language_info": {
   "codemirror_mode": {
    "name": "ipython",
    "version": 3
   },
   "file_extension": ".py",
   "mimetype": "text/x-python",
   "name": "python",
   "nbconvert_exporter": "python",
   "pygments_lexer": "ipython3",
   "version": "3.8.3"
  }
 },
 "nbformat": 4,
 "nbformat_minor": 4
}
