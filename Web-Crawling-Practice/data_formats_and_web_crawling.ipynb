{
 "cells": [
  {
   "cell_type": "markdown",
   "metadata": {},
   "source": [
    "# JSON format"
   ]
  },
  {
   "cell_type": "code",
   "execution_count": 1,
   "metadata": {},
   "outputs": [],
   "source": [
    "import numpy as np\n",
    "import matplotlib.pyplot as plt\n",
    "import pandas as pd\n",
    "%matplotlib inline\n",
    "import json"
   ]
  },
  {
   "cell_type": "code",
   "execution_count": 7,
   "metadata": {},
   "outputs": [],
   "source": [
    "obj = \"\"\"\n",
    "{\n",
    "    \"name\" :  \"Kim\",\n",
    "    \"places_lived\" : [\"Seoul\", \"Korea\"],\n",
    "    \"pet\" : null,\n",
    "    \"siblings\" : [{\"name\" : \"Scott\", \"age\" : 25, \"pet\" : \"Zuko\"}]\n",
    "}\"\"\""
   ]
  },
  {
   "cell_type": "code",
   "execution_count": 8,
   "metadata": {},
   "outputs": [
    {
     "data": {
      "text/plain": [
       "str"
      ]
     },
     "execution_count": 8,
     "metadata": {},
     "output_type": "execute_result"
    }
   ],
   "source": [
    "type(obj)"
   ]
  },
  {
   "cell_type": "code",
   "execution_count": 9,
   "metadata": {},
   "outputs": [
    {
     "data": {
      "text/plain": [
       "'\\n{\\n    \"name\" :  \"Kim\",\\n    \"places_lived\" : [\"Seoul\", \"Korea\"],\\n    \"pet\" : null,\\n    \"siblings\" : [{\"name\" : \"Scott\", \"age\" : 25, \"pet\" : \"Zuko\"}]\\n}'"
      ]
     },
     "execution_count": 9,
     "metadata": {},
     "output_type": "execute_result"
    }
   ],
   "source": [
    "obj"
   ]
  },
  {
   "cell_type": "code",
   "execution_count": 10,
   "metadata": {},
   "outputs": [
    {
     "data": {
      "text/plain": [
       "{'name': 'Kim',\n",
       " 'places_lived': ['Seoul', 'Korea'],\n",
       " 'pet': None,\n",
       " 'siblings': [{'name': 'Scott', 'age': 25, 'pet': 'Zuko'}]}"
      ]
     },
     "execution_count": 10,
     "metadata": {},
     "output_type": "execute_result"
    }
   ],
   "source": [
    "json.loads(obj)"
   ]
  },
  {
   "cell_type": "code",
   "execution_count": 12,
   "metadata": {},
   "outputs": [
    {
     "data": {
      "text/plain": [
       "dict"
      ]
     },
     "execution_count": 12,
     "metadata": {},
     "output_type": "execute_result"
    }
   ],
   "source": [
    "r = json.loads(obj)  #decoding (json -> dict)\n",
    "type(r)"
   ]
  },
  {
   "cell_type": "code",
   "execution_count": 13,
   "metadata": {},
   "outputs": [
    {
     "data": {
      "text/plain": [
       "'{\"name\": \"Kim\", \"places_lived\": [\"Seoul\", \"Korea\"], \"pet\": null, \"siblings\": [{\"name\": \"Scott\", \"age\": 25, \"pet\": \"Zuko\"}]}'"
      ]
     },
     "execution_count": 13,
     "metadata": {},
     "output_type": "execute_result"
    }
   ],
   "source": [
    "json.dumps(r)  #encoding (dict -> json)"
   ]
  },
  {
   "cell_type": "markdown",
   "metadata": {},
   "source": [
    "## practical example\n",
    "- naver real-time search ranking"
   ]
  },
  {
   "cell_type": "code",
   "execution_count": 14,
   "metadata": {},
   "outputs": [],
   "source": [
    "import requests\n",
    "from pandas.io.json import json_normalize"
   ]
  },
  {
   "cell_type": "code",
   "execution_count": 15,
   "metadata": {},
   "outputs": [],
   "source": [
    "r = requests.get(\"http://rank.search.naver.com/rank.js\")"
   ]
  },
  {
   "cell_type": "code",
   "execution_count": 16,
   "metadata": {},
   "outputs": [
    {
     "data": {
      "text/plain": [
       "<Response [200]>"
      ]
     },
     "execution_count": 16,
     "metadata": {},
     "output_type": "execute_result"
    }
   ],
   "source": [
    "r  # 200이면 정확하게 온 것, 300이나 400이면 서버나 local쪽에서 문제가 있는 것"
   ]
  },
  {
   "cell_type": "code",
   "execution_count": 17,
   "metadata": {},
   "outputs": [
    {
     "data": {
      "text/plain": [
       "'{\"ts\":\"2020-10-22T12:30:00+0900\",\"st\":\"2020-10-22T12:30:00+0900\",\"et\":\"2020-10-22T12:30:00+0900\",\"data\":[{\"category\":\"general\",\"data\":[{\"rank\":1,\"keyword\":\"소병철\",\"change\":\"+\",\"score\":0,\"tvalue\":0,\"cvalue\":0,\"ratio\":\".\",\"delta\":0},{\"rank\":2,\"keyword\":\"아이린\",\"change\":\"+\",\"score\":0,\"tvalue\":0,\"cvalue\":0,\"ratio\":\".\",\"delta\":0},{\"rank\":3,\"keyword\":\"김진애\",\"change\":\"+\",\"score\":0,\"tvalue\":0,\"cvalue\":0,\"ratio\":\".\",\"delta\":0},{\"rank\":4,\"keyword\":\"윤석열\",\"change\":\"+\",\"score\":0,\"tvalue\":0,\"cvalue\":0,\"ratio\":\".\",\"delta\":0},{\"rank\":5,\"keyword\":\"박순철\",\"change\":\"+\",\"score\":0,\"tvalue\":0,\"cvalue\":0,\"ratio\":\".\",\"delta\":0},{\"rank\":6,\"keyword\":\"윤한홍\",\"change\":\"+\",\"score\":0,\"tvalue\":0,\"cvalue\":0,\"ratio\":\".\",\"delta\":0},{\"rank\":7,\"keyword\":\"윤호중\",\"change\":\"+\",\"score\":0,\"tvalue\":0,\"cvalue\":0,\"ratio\":\".\",\"delta\":0},{\"rank\":8,\"keyword\":\"장제원\",\"change\":\"+\",\"score\":0,\"tvalue\":0,\"cvalue\":0,\"ratio\":\".\",\"delta\":0},{\"rank\":9,\"keyword\":\"타이어뱅크\",\"change\":\"+\",\"score\":0,\"tvalue\":0,\"cvalue\":0,\"ratio\":\".\",\"delta\":0},{\"rank\":10,\"keyword\":\"박범계\",\"change\":\"+\",\"score\":0,\"tvalue\":0,\"cvalue\":0,\"ratio\":\".\",\"delta\":0},{\"rank\":11,\"keyword\":\"지주연\",\"change\":\"+\",\"score\":0,\"tvalue\":0,\"cvalue\":0,\"ratio\":\".\",\"delta\":0},{\"rank\":12,\"keyword\":\"김도읍\",\"change\":\"+\",\"score\":0,\"tvalue\":0,\"cvalue\":0,\"ratio\":\".\",\"delta\":0},{\"rank\":13,\"keyword\":\"윤석열와이프\",\"change\":\"+\",\"score\":0,\"tvalue\":0,\"cvalue\":0,\"ratio\":\".\",\"delta\":0},{\"rank\":14,\"keyword\":\"난색\",\"change\":\"+\",\"score\":0,\"tvalue\":0,\"cvalue\":0,\"ratio\":\".\",\"delta\":0},{\"rank\":15,\"keyword\":\"백혜련\",\"change\":\"+\",\"score\":0,\"tvalue\":0,\"cvalue\":0,\"ratio\":\".\",\"delta\":0},{\"rank\":16,\"keyword\":\"레드벨벳\",\"change\":\"+\",\"score\":0,\"tvalue\":0,\"cvalue\":0,\"ratio\":\".\",\"delta\":0},{\"rank\":17,\"keyword\":\"송기헌\",\"change\":\"+\",\"score\":0,\"tvalue\":0,\"cvalue\":0,\"ratio\":\".\",\"delta\":0},{\"rank\":18,\"keyword\":\"나를 사랑한 스파이\",\"change\":\"+\",\"score\":0,\"tvalue\":0,\"cvalue\":0,\"ratio\":\".\",\"delta\":0},{\"rank\":19,\"keyword\":\"국정감사 생중계\",\"change\":\"+\",\"score\":0,\"tvalue\":0,\"cvalue\":0,\"ratio\":\".\",\"delta\":0},{\"rank\":20,\"keyword\":\"비와이\",\"change\":\"+\",\"score\":0,\"tvalue\":0,\"cvalue\":0,\"ratio\":\".\",\"delta\":0}]}]}\\n'"
      ]
     },
     "execution_count": 17,
     "metadata": {},
     "output_type": "execute_result"
    }
   ],
   "source": [
    "r.text"
   ]
  },
  {
   "cell_type": "code",
   "execution_count": 18,
   "metadata": {},
   "outputs": [
    {
     "data": {
      "text/plain": [
       "{'ts': '2020-10-22T12:30:00+0900',\n",
       " 'st': '2020-10-22T12:30:00+0900',\n",
       " 'et': '2020-10-22T12:30:00+0900',\n",
       " 'data': [{'category': 'general',\n",
       "   'data': [{'rank': 1,\n",
       "     'keyword': '소병철',\n",
       "     'change': '+',\n",
       "     'score': 0,\n",
       "     'tvalue': 0,\n",
       "     'cvalue': 0,\n",
       "     'ratio': '.',\n",
       "     'delta': 0},\n",
       "    {'rank': 2,\n",
       "     'keyword': '아이린',\n",
       "     'change': '+',\n",
       "     'score': 0,\n",
       "     'tvalue': 0,\n",
       "     'cvalue': 0,\n",
       "     'ratio': '.',\n",
       "     'delta': 0},\n",
       "    {'rank': 3,\n",
       "     'keyword': '김진애',\n",
       "     'change': '+',\n",
       "     'score': 0,\n",
       "     'tvalue': 0,\n",
       "     'cvalue': 0,\n",
       "     'ratio': '.',\n",
       "     'delta': 0},\n",
       "    {'rank': 4,\n",
       "     'keyword': '윤석열',\n",
       "     'change': '+',\n",
       "     'score': 0,\n",
       "     'tvalue': 0,\n",
       "     'cvalue': 0,\n",
       "     'ratio': '.',\n",
       "     'delta': 0},\n",
       "    {'rank': 5,\n",
       "     'keyword': '박순철',\n",
       "     'change': '+',\n",
       "     'score': 0,\n",
       "     'tvalue': 0,\n",
       "     'cvalue': 0,\n",
       "     'ratio': '.',\n",
       "     'delta': 0},\n",
       "    {'rank': 6,\n",
       "     'keyword': '윤한홍',\n",
       "     'change': '+',\n",
       "     'score': 0,\n",
       "     'tvalue': 0,\n",
       "     'cvalue': 0,\n",
       "     'ratio': '.',\n",
       "     'delta': 0},\n",
       "    {'rank': 7,\n",
       "     'keyword': '윤호중',\n",
       "     'change': '+',\n",
       "     'score': 0,\n",
       "     'tvalue': 0,\n",
       "     'cvalue': 0,\n",
       "     'ratio': '.',\n",
       "     'delta': 0},\n",
       "    {'rank': 8,\n",
       "     'keyword': '장제원',\n",
       "     'change': '+',\n",
       "     'score': 0,\n",
       "     'tvalue': 0,\n",
       "     'cvalue': 0,\n",
       "     'ratio': '.',\n",
       "     'delta': 0},\n",
       "    {'rank': 9,\n",
       "     'keyword': '타이어뱅크',\n",
       "     'change': '+',\n",
       "     'score': 0,\n",
       "     'tvalue': 0,\n",
       "     'cvalue': 0,\n",
       "     'ratio': '.',\n",
       "     'delta': 0},\n",
       "    {'rank': 10,\n",
       "     'keyword': '박범계',\n",
       "     'change': '+',\n",
       "     'score': 0,\n",
       "     'tvalue': 0,\n",
       "     'cvalue': 0,\n",
       "     'ratio': '.',\n",
       "     'delta': 0},\n",
       "    {'rank': 11,\n",
       "     'keyword': '지주연',\n",
       "     'change': '+',\n",
       "     'score': 0,\n",
       "     'tvalue': 0,\n",
       "     'cvalue': 0,\n",
       "     'ratio': '.',\n",
       "     'delta': 0},\n",
       "    {'rank': 12,\n",
       "     'keyword': '김도읍',\n",
       "     'change': '+',\n",
       "     'score': 0,\n",
       "     'tvalue': 0,\n",
       "     'cvalue': 0,\n",
       "     'ratio': '.',\n",
       "     'delta': 0},\n",
       "    {'rank': 13,\n",
       "     'keyword': '윤석열와이프',\n",
       "     'change': '+',\n",
       "     'score': 0,\n",
       "     'tvalue': 0,\n",
       "     'cvalue': 0,\n",
       "     'ratio': '.',\n",
       "     'delta': 0},\n",
       "    {'rank': 14,\n",
       "     'keyword': '난색',\n",
       "     'change': '+',\n",
       "     'score': 0,\n",
       "     'tvalue': 0,\n",
       "     'cvalue': 0,\n",
       "     'ratio': '.',\n",
       "     'delta': 0},\n",
       "    {'rank': 15,\n",
       "     'keyword': '백혜련',\n",
       "     'change': '+',\n",
       "     'score': 0,\n",
       "     'tvalue': 0,\n",
       "     'cvalue': 0,\n",
       "     'ratio': '.',\n",
       "     'delta': 0},\n",
       "    {'rank': 16,\n",
       "     'keyword': '레드벨벳',\n",
       "     'change': '+',\n",
       "     'score': 0,\n",
       "     'tvalue': 0,\n",
       "     'cvalue': 0,\n",
       "     'ratio': '.',\n",
       "     'delta': 0},\n",
       "    {'rank': 17,\n",
       "     'keyword': '송기헌',\n",
       "     'change': '+',\n",
       "     'score': 0,\n",
       "     'tvalue': 0,\n",
       "     'cvalue': 0,\n",
       "     'ratio': '.',\n",
       "     'delta': 0},\n",
       "    {'rank': 18,\n",
       "     'keyword': '나를 사랑한 스파이',\n",
       "     'change': '+',\n",
       "     'score': 0,\n",
       "     'tvalue': 0,\n",
       "     'cvalue': 0,\n",
       "     'ratio': '.',\n",
       "     'delta': 0},\n",
       "    {'rank': 19,\n",
       "     'keyword': '국정감사 생중계',\n",
       "     'change': '+',\n",
       "     'score': 0,\n",
       "     'tvalue': 0,\n",
       "     'cvalue': 0,\n",
       "     'ratio': '.',\n",
       "     'delta': 0},\n",
       "    {'rank': 20,\n",
       "     'keyword': '비와이',\n",
       "     'change': '+',\n",
       "     'score': 0,\n",
       "     'tvalue': 0,\n",
       "     'cvalue': 0,\n",
       "     'ratio': '.',\n",
       "     'delta': 0}]}]}"
      ]
     },
     "execution_count": 18,
     "metadata": {},
     "output_type": "execute_result"
    }
   ],
   "source": [
    "json.loads(r.text)"
   ]
  },
  {
   "cell_type": "code",
   "execution_count": 24,
   "metadata": {},
   "outputs": [
    {
     "data": {
      "text/html": [
       "<div>\n",
       "<style scoped>\n",
       "    .dataframe tbody tr th:only-of-type {\n",
       "        vertical-align: middle;\n",
       "    }\n",
       "\n",
       "    .dataframe tbody tr th {\n",
       "        vertical-align: top;\n",
       "    }\n",
       "\n",
       "    .dataframe thead th {\n",
       "        text-align: right;\n",
       "    }\n",
       "</style>\n",
       "<table border=\"1\" class=\"dataframe\">\n",
       "  <thead>\n",
       "    <tr style=\"text-align: right;\">\n",
       "      <th></th>\n",
       "      <th>ts</th>\n",
       "      <th>st</th>\n",
       "      <th>et</th>\n",
       "      <th>data</th>\n",
       "    </tr>\n",
       "  </thead>\n",
       "  <tbody>\n",
       "    <tr>\n",
       "      <th>0</th>\n",
       "      <td>2020-10-22T12:30:00+0900</td>\n",
       "      <td>2020-10-22T12:30:00+0900</td>\n",
       "      <td>2020-10-22T12:30:00+0900</td>\n",
       "      <td>{'category': 'general', 'data': [{'rank': 1, '...</td>\n",
       "    </tr>\n",
       "  </tbody>\n",
       "</table>\n",
       "</div>"
      ],
      "text/plain": [
       "                         ts                        st  \\\n",
       "0  2020-10-22T12:30:00+0900  2020-10-22T12:30:00+0900   \n",
       "\n",
       "                         et                                               data  \n",
       "0  2020-10-22T12:30:00+0900  {'category': 'general', 'data': [{'rank': 1, '...  "
      ]
     },
     "execution_count": 24,
     "metadata": {},
     "output_type": "execute_result"
    }
   ],
   "source": [
    "pd.DataFrame(json.loads(r.text))"
   ]
  },
  {
   "cell_type": "code",
   "execution_count": 20,
   "metadata": {},
   "outputs": [
    {
     "name": "stderr",
     "output_type": "stream",
     "text": [
      "<ipython-input-20-e20b20a16304>:1: FutureWarning: pandas.io.json.json_normalize is deprecated, use pandas.json_normalize instead\n",
      "  json_normalize(json.loads(r.text))\n"
     ]
    },
    {
     "data": {
      "text/html": [
       "<div>\n",
       "<style scoped>\n",
       "    .dataframe tbody tr th:only-of-type {\n",
       "        vertical-align: middle;\n",
       "    }\n",
       "\n",
       "    .dataframe tbody tr th {\n",
       "        vertical-align: top;\n",
       "    }\n",
       "\n",
       "    .dataframe thead th {\n",
       "        text-align: right;\n",
       "    }\n",
       "</style>\n",
       "<table border=\"1\" class=\"dataframe\">\n",
       "  <thead>\n",
       "    <tr style=\"text-align: right;\">\n",
       "      <th></th>\n",
       "      <th>ts</th>\n",
       "      <th>st</th>\n",
       "      <th>et</th>\n",
       "      <th>data</th>\n",
       "    </tr>\n",
       "  </thead>\n",
       "  <tbody>\n",
       "    <tr>\n",
       "      <th>0</th>\n",
       "      <td>2020-10-22T12:30:00+0900</td>\n",
       "      <td>2020-10-22T12:30:00+0900</td>\n",
       "      <td>2020-10-22T12:30:00+0900</td>\n",
       "      <td>[{'category': 'general', 'data': [{'rank': 1, ...</td>\n",
       "    </tr>\n",
       "  </tbody>\n",
       "</table>\n",
       "</div>"
      ],
      "text/plain": [
       "                         ts                        st  \\\n",
       "0  2020-10-22T12:30:00+0900  2020-10-22T12:30:00+0900   \n",
       "\n",
       "                         et                                               data  \n",
       "0  2020-10-22T12:30:00+0900  [{'category': 'general', 'data': [{'rank': 1, ...  "
      ]
     },
     "execution_count": 20,
     "metadata": {},
     "output_type": "execute_result"
    }
   ],
   "source": [
    "json_normalize(json.loads(r.text))"
   ]
  },
  {
   "cell_type": "code",
   "execution_count": 21,
   "metadata": {},
   "outputs": [
    {
     "name": "stderr",
     "output_type": "stream",
     "text": [
      "<ipython-input-21-85a99a7b9d72>:1: FutureWarning: pandas.io.json.json_normalize is deprecated, use pandas.json_normalize instead\n",
      "  json_normalize(json.loads(r.text), 'data')\n"
     ]
    },
    {
     "data": {
      "text/html": [
       "<div>\n",
       "<style scoped>\n",
       "    .dataframe tbody tr th:only-of-type {\n",
       "        vertical-align: middle;\n",
       "    }\n",
       "\n",
       "    .dataframe tbody tr th {\n",
       "        vertical-align: top;\n",
       "    }\n",
       "\n",
       "    .dataframe thead th {\n",
       "        text-align: right;\n",
       "    }\n",
       "</style>\n",
       "<table border=\"1\" class=\"dataframe\">\n",
       "  <thead>\n",
       "    <tr style=\"text-align: right;\">\n",
       "      <th></th>\n",
       "      <th>category</th>\n",
       "      <th>data</th>\n",
       "    </tr>\n",
       "  </thead>\n",
       "  <tbody>\n",
       "    <tr>\n",
       "      <th>0</th>\n",
       "      <td>general</td>\n",
       "      <td>[{'rank': 1, 'keyword': '소병철', 'change': '+', ...</td>\n",
       "    </tr>\n",
       "  </tbody>\n",
       "</table>\n",
       "</div>"
      ],
      "text/plain": [
       "  category                                               data\n",
       "0  general  [{'rank': 1, 'keyword': '소병철', 'change': '+', ..."
      ]
     },
     "execution_count": 21,
     "metadata": {},
     "output_type": "execute_result"
    }
   ],
   "source": [
    "json_normalize(json.loads(r.text), 'data')"
   ]
  },
  {
   "cell_type": "code",
   "execution_count": 30,
   "metadata": {},
   "outputs": [
    {
     "name": "stderr",
     "output_type": "stream",
     "text": [
      "<ipython-input-30-35dcd5d0c20f>:1: FutureWarning: pandas.io.json.json_normalize is deprecated, use pandas.json_normalize instead\n",
      "  jj = json_normalize(json.loads(r.text), ['data', 'data'])  # record_path = ['data', 'data']\n"
     ]
    },
    {
     "data": {
      "text/html": [
       "<div>\n",
       "<style scoped>\n",
       "    .dataframe tbody tr th:only-of-type {\n",
       "        vertical-align: middle;\n",
       "    }\n",
       "\n",
       "    .dataframe tbody tr th {\n",
       "        vertical-align: top;\n",
       "    }\n",
       "\n",
       "    .dataframe thead th {\n",
       "        text-align: right;\n",
       "    }\n",
       "</style>\n",
       "<table border=\"1\" class=\"dataframe\">\n",
       "  <thead>\n",
       "    <tr style=\"text-align: right;\">\n",
       "      <th></th>\n",
       "      <th>rank</th>\n",
       "      <th>keyword</th>\n",
       "      <th>change</th>\n",
       "      <th>score</th>\n",
       "      <th>tvalue</th>\n",
       "      <th>cvalue</th>\n",
       "      <th>ratio</th>\n",
       "      <th>delta</th>\n",
       "    </tr>\n",
       "  </thead>\n",
       "  <tbody>\n",
       "    <tr>\n",
       "      <th>0</th>\n",
       "      <td>1</td>\n",
       "      <td>소병철</td>\n",
       "      <td>+</td>\n",
       "      <td>0</td>\n",
       "      <td>0</td>\n",
       "      <td>0</td>\n",
       "      <td>.</td>\n",
       "      <td>0</td>\n",
       "    </tr>\n",
       "    <tr>\n",
       "      <th>1</th>\n",
       "      <td>2</td>\n",
       "      <td>아이린</td>\n",
       "      <td>+</td>\n",
       "      <td>0</td>\n",
       "      <td>0</td>\n",
       "      <td>0</td>\n",
       "      <td>.</td>\n",
       "      <td>0</td>\n",
       "    </tr>\n",
       "    <tr>\n",
       "      <th>2</th>\n",
       "      <td>3</td>\n",
       "      <td>김진애</td>\n",
       "      <td>+</td>\n",
       "      <td>0</td>\n",
       "      <td>0</td>\n",
       "      <td>0</td>\n",
       "      <td>.</td>\n",
       "      <td>0</td>\n",
       "    </tr>\n",
       "    <tr>\n",
       "      <th>3</th>\n",
       "      <td>4</td>\n",
       "      <td>윤석열</td>\n",
       "      <td>+</td>\n",
       "      <td>0</td>\n",
       "      <td>0</td>\n",
       "      <td>0</td>\n",
       "      <td>.</td>\n",
       "      <td>0</td>\n",
       "    </tr>\n",
       "    <tr>\n",
       "      <th>4</th>\n",
       "      <td>5</td>\n",
       "      <td>박순철</td>\n",
       "      <td>+</td>\n",
       "      <td>0</td>\n",
       "      <td>0</td>\n",
       "      <td>0</td>\n",
       "      <td>.</td>\n",
       "      <td>0</td>\n",
       "    </tr>\n",
       "    <tr>\n",
       "      <th>5</th>\n",
       "      <td>6</td>\n",
       "      <td>윤한홍</td>\n",
       "      <td>+</td>\n",
       "      <td>0</td>\n",
       "      <td>0</td>\n",
       "      <td>0</td>\n",
       "      <td>.</td>\n",
       "      <td>0</td>\n",
       "    </tr>\n",
       "    <tr>\n",
       "      <th>6</th>\n",
       "      <td>7</td>\n",
       "      <td>윤호중</td>\n",
       "      <td>+</td>\n",
       "      <td>0</td>\n",
       "      <td>0</td>\n",
       "      <td>0</td>\n",
       "      <td>.</td>\n",
       "      <td>0</td>\n",
       "    </tr>\n",
       "    <tr>\n",
       "      <th>7</th>\n",
       "      <td>8</td>\n",
       "      <td>장제원</td>\n",
       "      <td>+</td>\n",
       "      <td>0</td>\n",
       "      <td>0</td>\n",
       "      <td>0</td>\n",
       "      <td>.</td>\n",
       "      <td>0</td>\n",
       "    </tr>\n",
       "    <tr>\n",
       "      <th>8</th>\n",
       "      <td>9</td>\n",
       "      <td>타이어뱅크</td>\n",
       "      <td>+</td>\n",
       "      <td>0</td>\n",
       "      <td>0</td>\n",
       "      <td>0</td>\n",
       "      <td>.</td>\n",
       "      <td>0</td>\n",
       "    </tr>\n",
       "    <tr>\n",
       "      <th>9</th>\n",
       "      <td>10</td>\n",
       "      <td>박범계</td>\n",
       "      <td>+</td>\n",
       "      <td>0</td>\n",
       "      <td>0</td>\n",
       "      <td>0</td>\n",
       "      <td>.</td>\n",
       "      <td>0</td>\n",
       "    </tr>\n",
       "    <tr>\n",
       "      <th>10</th>\n",
       "      <td>11</td>\n",
       "      <td>지주연</td>\n",
       "      <td>+</td>\n",
       "      <td>0</td>\n",
       "      <td>0</td>\n",
       "      <td>0</td>\n",
       "      <td>.</td>\n",
       "      <td>0</td>\n",
       "    </tr>\n",
       "    <tr>\n",
       "      <th>11</th>\n",
       "      <td>12</td>\n",
       "      <td>김도읍</td>\n",
       "      <td>+</td>\n",
       "      <td>0</td>\n",
       "      <td>0</td>\n",
       "      <td>0</td>\n",
       "      <td>.</td>\n",
       "      <td>0</td>\n",
       "    </tr>\n",
       "    <tr>\n",
       "      <th>12</th>\n",
       "      <td>13</td>\n",
       "      <td>윤석열와이프</td>\n",
       "      <td>+</td>\n",
       "      <td>0</td>\n",
       "      <td>0</td>\n",
       "      <td>0</td>\n",
       "      <td>.</td>\n",
       "      <td>0</td>\n",
       "    </tr>\n",
       "    <tr>\n",
       "      <th>13</th>\n",
       "      <td>14</td>\n",
       "      <td>난색</td>\n",
       "      <td>+</td>\n",
       "      <td>0</td>\n",
       "      <td>0</td>\n",
       "      <td>0</td>\n",
       "      <td>.</td>\n",
       "      <td>0</td>\n",
       "    </tr>\n",
       "    <tr>\n",
       "      <th>14</th>\n",
       "      <td>15</td>\n",
       "      <td>백혜련</td>\n",
       "      <td>+</td>\n",
       "      <td>0</td>\n",
       "      <td>0</td>\n",
       "      <td>0</td>\n",
       "      <td>.</td>\n",
       "      <td>0</td>\n",
       "    </tr>\n",
       "    <tr>\n",
       "      <th>15</th>\n",
       "      <td>16</td>\n",
       "      <td>레드벨벳</td>\n",
       "      <td>+</td>\n",
       "      <td>0</td>\n",
       "      <td>0</td>\n",
       "      <td>0</td>\n",
       "      <td>.</td>\n",
       "      <td>0</td>\n",
       "    </tr>\n",
       "    <tr>\n",
       "      <th>16</th>\n",
       "      <td>17</td>\n",
       "      <td>송기헌</td>\n",
       "      <td>+</td>\n",
       "      <td>0</td>\n",
       "      <td>0</td>\n",
       "      <td>0</td>\n",
       "      <td>.</td>\n",
       "      <td>0</td>\n",
       "    </tr>\n",
       "    <tr>\n",
       "      <th>17</th>\n",
       "      <td>18</td>\n",
       "      <td>나를 사랑한 스파이</td>\n",
       "      <td>+</td>\n",
       "      <td>0</td>\n",
       "      <td>0</td>\n",
       "      <td>0</td>\n",
       "      <td>.</td>\n",
       "      <td>0</td>\n",
       "    </tr>\n",
       "    <tr>\n",
       "      <th>18</th>\n",
       "      <td>19</td>\n",
       "      <td>국정감사 생중계</td>\n",
       "      <td>+</td>\n",
       "      <td>0</td>\n",
       "      <td>0</td>\n",
       "      <td>0</td>\n",
       "      <td>.</td>\n",
       "      <td>0</td>\n",
       "    </tr>\n",
       "    <tr>\n",
       "      <th>19</th>\n",
       "      <td>20</td>\n",
       "      <td>비와이</td>\n",
       "      <td>+</td>\n",
       "      <td>0</td>\n",
       "      <td>0</td>\n",
       "      <td>0</td>\n",
       "      <td>.</td>\n",
       "      <td>0</td>\n",
       "    </tr>\n",
       "  </tbody>\n",
       "</table>\n",
       "</div>"
      ],
      "text/plain": [
       "    rank     keyword change  score  tvalue  cvalue ratio  delta\n",
       "0      1         소병철      +      0       0       0     .      0\n",
       "1      2         아이린      +      0       0       0     .      0\n",
       "2      3         김진애      +      0       0       0     .      0\n",
       "3      4         윤석열      +      0       0       0     .      0\n",
       "4      5         박순철      +      0       0       0     .      0\n",
       "5      6         윤한홍      +      0       0       0     .      0\n",
       "6      7         윤호중      +      0       0       0     .      0\n",
       "7      8         장제원      +      0       0       0     .      0\n",
       "8      9       타이어뱅크      +      0       0       0     .      0\n",
       "9     10         박범계      +      0       0       0     .      0\n",
       "10    11         지주연      +      0       0       0     .      0\n",
       "11    12         김도읍      +      0       0       0     .      0\n",
       "12    13      윤석열와이프      +      0       0       0     .      0\n",
       "13    14          난색      +      0       0       0     .      0\n",
       "14    15         백혜련      +      0       0       0     .      0\n",
       "15    16        레드벨벳      +      0       0       0     .      0\n",
       "16    17         송기헌      +      0       0       0     .      0\n",
       "17    18  나를 사랑한 스파이      +      0       0       0     .      0\n",
       "18    19    국정감사 생중계      +      0       0       0     .      0\n",
       "19    20         비와이      +      0       0       0     .      0"
      ]
     },
     "execution_count": 30,
     "metadata": {},
     "output_type": "execute_result"
    }
   ],
   "source": [
    "jj = json_normalize(json.loads(r.text), ['data', 'data'])  # record_path = ['data', 'data']\n",
    "jj"
   ]
  },
  {
   "cell_type": "code",
   "execution_count": 32,
   "metadata": {},
   "outputs": [
    {
     "name": "stdout",
     "output_type": "stream",
     "text": [
      "1  :  소병철\n",
      "2  :  아이린\n",
      "3  :  김진애\n",
      "4  :  윤석열\n",
      "5  :  박순철\n",
      "6  :  윤한홍\n",
      "7  :  윤호중\n",
      "8  :  장제원\n",
      "9  :  타이어뱅크\n",
      "10  :  박범계\n",
      "11  :  지주연\n",
      "12  :  김도읍\n",
      "13  :  윤석열와이프\n",
      "14  :  난색\n",
      "15  :  백혜련\n",
      "16  :  레드벨벳\n",
      "17  :  송기헌\n",
      "18  :  나를 사랑한 스파이\n",
      "19  :  국정감사 생중계\n",
      "20  :  비와이\n"
     ]
    }
   ],
   "source": [
    "for i in range(len(jj)):\n",
    "    ranks = (jj.iloc[i])['rank']\n",
    "    title = (jj.iloc[i])['keyword']\n",
    "    print(ranks, \" : \", title)"
   ]
  },
  {
   "cell_type": "markdown",
   "metadata": {},
   "source": [
    "# HTML Parsing"
   ]
  },
  {
   "cell_type": "code",
   "execution_count": 33,
   "metadata": {},
   "outputs": [],
   "source": [
    "from bs4 import BeautifulSoup"
   ]
  },
  {
   "cell_type": "code",
   "execution_count": 34,
   "metadata": {},
   "outputs": [],
   "source": [
    "html_text = \"\"\"\n",
    "<html>\n",
    "<body>\n",
    "    <h1> reading web page with python </h1>\n",
    "        <p> page analysis </p>\n",
    "        <p> page alignment </p>\n",
    "        <td>some text</td><td></td><td><p>more text</p></td><td>even <p>more text</p></td>\n",
    "</body>\n",
    "</html>\n",
    "\"\"\""
   ]
  },
  {
   "cell_type": "code",
   "execution_count": 36,
   "metadata": {},
   "outputs": [
    {
     "data": {
      "text/plain": [
       "\n",
       "<html>\n",
       "<body>\n",
       "<h1> reading web page with python </h1>\n",
       "<p> page analysis </p>\n",
       "<p> page alignment </p>\n",
       "<td>some text</td><td></td><td><p>more text</p></td><td>even <p>more text</p></td>\n",
       "</body>\n",
       "</html>"
      ]
     },
     "execution_count": 36,
     "metadata": {},
     "output_type": "execute_result"
    }
   ],
   "source": [
    "soup = BeautifulSoup(html_text, 'html.parser')\n",
    "soup"
   ]
  },
  {
   "cell_type": "code",
   "execution_count": 37,
   "metadata": {},
   "outputs": [
    {
     "data": {
      "text/plain": [
       "bs4.BeautifulSoup"
      ]
     },
     "execution_count": 37,
     "metadata": {},
     "output_type": "execute_result"
    }
   ],
   "source": [
    "type(soup)"
   ]
  },
  {
   "cell_type": "code",
   "execution_count": 38,
   "metadata": {},
   "outputs": [
    {
     "data": {
      "text/plain": [
       "['ASCII_SPACES',\n",
       " 'DEFAULT_BUILDER_FEATURES',\n",
       " 'NO_PARSER_SPECIFIED_WARNING',\n",
       " 'ROOT_TAG_NAME',\n",
       " '__bool__',\n",
       " '__call__',\n",
       " '__class__',\n",
       " '__contains__',\n",
       " '__copy__',\n",
       " '__delattr__',\n",
       " '__delitem__',\n",
       " '__dict__',\n",
       " '__dir__',\n",
       " '__doc__',\n",
       " '__eq__',\n",
       " '__format__',\n",
       " '__ge__',\n",
       " '__getattr__',\n",
       " '__getattribute__',\n",
       " '__getitem__',\n",
       " '__getstate__',\n",
       " '__gt__',\n",
       " '__hash__',\n",
       " '__init__',\n",
       " '__init_subclass__',\n",
       " '__iter__',\n",
       " '__le__',\n",
       " '__len__',\n",
       " '__lt__',\n",
       " '__module__',\n",
       " '__ne__',\n",
       " '__new__',\n",
       " '__reduce__',\n",
       " '__reduce_ex__',\n",
       " '__repr__',\n",
       " '__setattr__',\n",
       " '__setitem__',\n",
       " '__sizeof__',\n",
       " '__str__',\n",
       " '__subclasshook__',\n",
       " '__unicode__',\n",
       " '__weakref__',\n",
       " '_all_strings',\n",
       " '_check_markup_is_url',\n",
       " '_decode_markup',\n",
       " '_feed',\n",
       " '_find_all',\n",
       " '_find_one',\n",
       " '_is_xml',\n",
       " '_lastRecursiveChild',\n",
       " '_last_descendant',\n",
       " '_linkage_fixer',\n",
       " '_most_recent_element',\n",
       " '_namespaces',\n",
       " '_popToTag',\n",
       " '_should_pretty_print',\n",
       " 'append',\n",
       " 'attrs',\n",
       " 'builder',\n",
       " 'can_be_empty_element',\n",
       " 'cdata_list_attributes',\n",
       " 'childGenerator',\n",
       " 'children',\n",
       " 'clear',\n",
       " 'contains_replacement_characters',\n",
       " 'contents',\n",
       " 'currentTag',\n",
       " 'current_data',\n",
       " 'declared_html_encoding',\n",
       " 'decode',\n",
       " 'decode_contents',\n",
       " 'decompose',\n",
       " 'decomposed',\n",
       " 'descendants',\n",
       " 'element_classes',\n",
       " 'encode',\n",
       " 'encode_contents',\n",
       " 'endData',\n",
       " 'extend',\n",
       " 'extract',\n",
       " 'fetchNextSiblings',\n",
       " 'fetchParents',\n",
       " 'fetchPrevious',\n",
       " 'fetchPreviousSiblings',\n",
       " 'find',\n",
       " 'findAll',\n",
       " 'findAllNext',\n",
       " 'findAllPrevious',\n",
       " 'findChild',\n",
       " 'findChildren',\n",
       " 'findNext',\n",
       " 'findNextSibling',\n",
       " 'findNextSiblings',\n",
       " 'findParent',\n",
       " 'findParents',\n",
       " 'findPrevious',\n",
       " 'findPreviousSibling',\n",
       " 'findPreviousSiblings',\n",
       " 'find_all',\n",
       " 'find_all_next',\n",
       " 'find_all_previous',\n",
       " 'find_next',\n",
       " 'find_next_sibling',\n",
       " 'find_next_siblings',\n",
       " 'find_parent',\n",
       " 'find_parents',\n",
       " 'find_previous',\n",
       " 'find_previous_sibling',\n",
       " 'find_previous_siblings',\n",
       " 'format_string',\n",
       " 'formatter_for_name',\n",
       " 'get',\n",
       " 'getText',\n",
       " 'get_attribute_list',\n",
       " 'get_text',\n",
       " 'handle_data',\n",
       " 'handle_endtag',\n",
       " 'handle_starttag',\n",
       " 'has_attr',\n",
       " 'has_key',\n",
       " 'hidden',\n",
       " 'index',\n",
       " 'insert',\n",
       " 'insert_after',\n",
       " 'insert_before',\n",
       " 'isSelfClosing',\n",
       " 'is_empty_element',\n",
       " 'is_xml',\n",
       " 'known_xml',\n",
       " 'markup',\n",
       " 'name',\n",
       " 'namespace',\n",
       " 'new_string',\n",
       " 'new_tag',\n",
       " 'next',\n",
       " 'nextGenerator',\n",
       " 'nextSibling',\n",
       " 'nextSiblingGenerator',\n",
       " 'next_element',\n",
       " 'next_elements',\n",
       " 'next_sibling',\n",
       " 'next_siblings',\n",
       " 'object_was_parsed',\n",
       " 'original_encoding',\n",
       " 'parent',\n",
       " 'parentGenerator',\n",
       " 'parents',\n",
       " 'parse_only',\n",
       " 'parserClass',\n",
       " 'parser_class',\n",
       " 'popTag',\n",
       " 'prefix',\n",
       " 'preserve_whitespace_tag_stack',\n",
       " 'preserve_whitespace_tags',\n",
       " 'prettify',\n",
       " 'previous',\n",
       " 'previousGenerator',\n",
       " 'previousSibling',\n",
       " 'previousSiblingGenerator',\n",
       " 'previous_element',\n",
       " 'previous_elements',\n",
       " 'previous_sibling',\n",
       " 'previous_siblings',\n",
       " 'pushTag',\n",
       " 'recursiveChildGenerator',\n",
       " 'renderContents',\n",
       " 'replaceWith',\n",
       " 'replaceWithChildren',\n",
       " 'replace_with',\n",
       " 'replace_with_children',\n",
       " 'reset',\n",
       " 'select',\n",
       " 'select_one',\n",
       " 'setup',\n",
       " 'smooth',\n",
       " 'string',\n",
       " 'string_container',\n",
       " 'string_container_stack',\n",
       " 'strings',\n",
       " 'stripped_strings',\n",
       " 'tagStack',\n",
       " 'text',\n",
       " 'unwrap',\n",
       " 'wrap']"
      ]
     },
     "execution_count": 38,
     "metadata": {},
     "output_type": "execute_result"
    }
   ],
   "source": [
    "dir(soup)"
   ]
  },
  {
   "cell_type": "code",
   "execution_count": 39,
   "metadata": {},
   "outputs": [
    {
     "data": {
      "text/plain": [
       "<html>\n",
       "<body>\n",
       "<h1> reading web page with python </h1>\n",
       "<p> page analysis </p>\n",
       "<p> page alignment </p>\n",
       "<td>some text</td><td></td><td><p>more text</p></td><td>even <p>more text</p></td>\n",
       "</body>\n",
       "</html>"
      ]
     },
     "execution_count": 39,
     "metadata": {},
     "output_type": "execute_result"
    }
   ],
   "source": [
    "soup.html"
   ]
  },
  {
   "cell_type": "code",
   "execution_count": 40,
   "metadata": {},
   "outputs": [
    {
     "data": {
      "text/plain": [
       "<h1> reading web page with python </h1>"
      ]
     },
     "execution_count": 40,
     "metadata": {},
     "output_type": "execute_result"
    }
   ],
   "source": [
    "soup.h1"
   ]
  },
  {
   "cell_type": "code",
   "execution_count": 41,
   "metadata": {},
   "outputs": [
    {
     "data": {
      "text/plain": [
       "<p> page analysis </p>"
      ]
     },
     "execution_count": 41,
     "metadata": {},
     "output_type": "execute_result"
    }
   ],
   "source": [
    "soup.p"
   ]
  },
  {
   "cell_type": "code",
   "execution_count": 43,
   "metadata": {},
   "outputs": [
    {
     "name": "stdout",
     "output_type": "stream",
     "text": [
      "<p> page analysis </p>\n",
      "<p> page alignment </p>\n"
     ]
    }
   ],
   "source": [
    "print(soup.p)\n",
    "print(soup.p.next_sibling.next_sibling)"
   ]
  },
  {
   "cell_type": "code",
   "execution_count": 44,
   "metadata": {},
   "outputs": [
    {
     "data": {
      "text/plain": [
       "<td>some text</td>"
      ]
     },
     "execution_count": 44,
     "metadata": {},
     "output_type": "execute_result"
    }
   ],
   "source": [
    "soup.td"
   ]
  },
  {
   "cell_type": "code",
   "execution_count": 47,
   "metadata": {},
   "outputs": [
    {
     "name": "stdout",
     "output_type": "stream",
     "text": [
      "some text some text\n"
     ]
    }
   ],
   "source": [
    "print(soup.td.text, soup.td.string)"
   ]
  },
  {
   "cell_type": "code",
   "execution_count": 48,
   "metadata": {},
   "outputs": [],
   "source": [
    "html_text2 = \"\"\"\n",
    "<html>\n",
    "<body>\n",
    "    <h1 id=\"title\"> reading web page with python </h1>\n",
    "        <p id=\"body\"> page analysis </p>\n",
    "        <p> page alignment </p>\n",
    "        <td>some text</td><td></td><td><p>more text</p></td><td>even <p>more text</p></td>\n",
    "        <ul>\n",
    "            <li><a href = \"http://www.naver.com\"> naver</a></li>\n",
    "            <li><a href = \"http://www.daum.net\"> daum</a></li>\n",
    "        </ul>\n",
    "    <div id=\"xxx\">\n",
    "        <h1> Wiki-books store </h1>\n",
    "        <ul class=\"item\">\n",
    "            <li> introduction to game design </li>\n",
    "            <li> introduction to python </li>\n",
    "            <li> introduction to web design </li>\n",
    "        </ul>\n",
    "    </div>\n",
    "</body>\n",
    "</html>\n",
    "\"\"\""
   ]
  },
  {
   "cell_type": "code",
   "execution_count": 49,
   "metadata": {},
   "outputs": [],
   "source": [
    "soup = BeautifulSoup(html_text2, 'html.parser')"
   ]
  },
  {
   "cell_type": "markdown",
   "metadata": {},
   "source": [
    "## access by tags"
   ]
  },
  {
   "cell_type": "code",
   "execution_count": 50,
   "metadata": {},
   "outputs": [
    {
     "data": {
      "text/plain": [
       "<h1 id=\"title\"> reading web page with python </h1>"
      ]
     },
     "execution_count": 50,
     "metadata": {},
     "output_type": "execute_result"
    }
   ],
   "source": [
    "soup.find(id='title')"
   ]
  },
  {
   "cell_type": "code",
   "execution_count": 51,
   "metadata": {},
   "outputs": [
    {
     "data": {
      "text/plain": [
       "<p id=\"body\"> page analysis </p>"
      ]
     },
     "execution_count": 51,
     "metadata": {},
     "output_type": "execute_result"
    }
   ],
   "source": [
    "soup.find(id='body')"
   ]
  },
  {
   "cell_type": "code",
   "execution_count": 52,
   "metadata": {},
   "outputs": [
    {
     "data": {
      "text/plain": [
       "' page analysis '"
      ]
     },
     "execution_count": 52,
     "metadata": {},
     "output_type": "execute_result"
    }
   ],
   "source": [
    "soup.find(id='body').text"
   ]
  },
  {
   "cell_type": "code",
   "execution_count": 53,
   "metadata": {},
   "outputs": [
    {
     "name": "stdout",
     "output_type": "stream",
     "text": [
      "<td>some text</td>\n",
      "[<td>some text</td>, <td></td>, <td><p>more text</p></td>, <td>even <p>more text</p></td>]\n"
     ]
    }
   ],
   "source": [
    "print(soup.find('td'))\n",
    "print(soup.find_all('td'))"
   ]
  },
  {
   "cell_type": "code",
   "execution_count": 54,
   "metadata": {},
   "outputs": [
    {
     "data": {
      "text/plain": [
       "[<p id=\"body\"> page analysis </p>,\n",
       " <p> page alignment </p>,\n",
       " <p>more text</p>,\n",
       " <p>more text</p>]"
      ]
     },
     "execution_count": 54,
     "metadata": {},
     "output_type": "execute_result"
    }
   ],
   "source": [
    "soup.find_all('p')"
   ]
  },
  {
   "cell_type": "code",
   "execution_count": 55,
   "metadata": {},
   "outputs": [
    {
     "data": {
      "text/plain": [
       "[<li><a href=\"http://www.naver.com\"> naver</a></li>,\n",
       " <li><a href=\"http://www.daum.net\"> daum</a></li>,\n",
       " <li> introduction to game design </li>,\n",
       " <li> introduction to python </li>,\n",
       " <li> introduction to web design </li>]"
      ]
     },
     "execution_count": 55,
     "metadata": {},
     "output_type": "execute_result"
    }
   ],
   "source": [
    "soup.find_all('li')"
   ]
  },
  {
   "cell_type": "code",
   "execution_count": 56,
   "metadata": {},
   "outputs": [
    {
     "data": {
      "text/plain": [
       "<li><a href=\"http://www.naver.com\"> naver</a></li>"
      ]
     },
     "execution_count": 56,
     "metadata": {},
     "output_type": "execute_result"
    }
   ],
   "source": [
    "soup.find_all('li')[0]"
   ]
  },
  {
   "cell_type": "code",
   "execution_count": 57,
   "metadata": {},
   "outputs": [
    {
     "data": {
      "text/plain": [
       "' naver'"
      ]
     },
     "execution_count": 57,
     "metadata": {},
     "output_type": "execute_result"
    }
   ],
   "source": [
    "soup.find_all('li')[0].string"
   ]
  },
  {
   "cell_type": "code",
   "execution_count": 58,
   "metadata": {},
   "outputs": [
    {
     "data": {
      "text/plain": [
       "(' naver', {'href': 'http://www.naver.com'})"
      ]
     },
     "execution_count": 58,
     "metadata": {},
     "output_type": "execute_result"
    }
   ],
   "source": [
    "soup.find_all('a')[0].string, soup.find_all('a')[0].attrs"
   ]
  },
  {
   "cell_type": "code",
   "execution_count": 59,
   "metadata": {},
   "outputs": [
    {
     "name": "stdout",
     "output_type": "stream",
     "text": [
      " naver --> http://www.naver.com\n",
      " daum --> http://www.daum.net\n"
     ]
    }
   ],
   "source": [
    "for aa in soup.find_all('a'):\n",
    "    href = aa.attrs['href']\n",
    "    text = aa.text\n",
    "    print(text, '-->', href)"
   ]
  },
  {
   "cell_type": "markdown",
   "metadata": {},
   "source": [
    "## access by regular expression"
   ]
  },
  {
   "cell_type": "code",
   "execution_count": 60,
   "metadata": {},
   "outputs": [
    {
     "data": {
      "text/plain": [
       "[<p id=\"body\"> page analysis </p>,\n",
       " <p> page alignment </p>,\n",
       " <p>more text</p>,\n",
       " <p>more text</p>]"
      ]
     },
     "execution_count": 60,
     "metadata": {},
     "output_type": "execute_result"
    }
   ],
   "source": [
    "import re\n",
    "soup.find_all(re.compile(\"^p\")) # tags starting with a character 'p'"
   ]
  },
  {
   "cell_type": "code",
   "execution_count": 61,
   "metadata": {},
   "outputs": [
    {
     "data": {
      "text/plain": [
       "[<div id=\"xxx\">\n",
       " <h1> Wiki-books store </h1>\n",
       " <ul class=\"item\">\n",
       " <li> introduction to game design </li>\n",
       " <li> introduction to python </li>\n",
       " <li> introduction to web design </li>\n",
       " </ul>\n",
       " </div>]"
      ]
     },
     "execution_count": 61,
     "metadata": {},
     "output_type": "execute_result"
    }
   ],
   "source": [
    "soup.find_all(re.compile(\"div\"))"
   ]
  },
  {
   "cell_type": "code",
   "execution_count": 62,
   "metadata": {},
   "outputs": [
    {
     "data": {
      "text/plain": [
       "[<a href=\"http://www.naver.com\"> naver</a>,\n",
       " <a href=\"http://www.daum.net\"> daum</a>]"
      ]
     },
     "execution_count": 62,
     "metadata": {},
     "output_type": "execute_result"
    }
   ],
   "source": [
    "soup.find_all(href=re.compile(\"^http://\"))"
   ]
  },
  {
   "cell_type": "markdown",
   "metadata": {},
   "source": [
    "## access by css selector"
   ]
  },
  {
   "cell_type": "code",
   "execution_count": 64,
   "metadata": {},
   "outputs": [
    {
     "data": {
      "text/plain": [
       "[<h1 id=\"title\"> reading web page with python </h1>,\n",
       " <h1> Wiki-books store </h1>]"
      ]
     },
     "execution_count": 64,
     "metadata": {},
     "output_type": "execute_result"
    }
   ],
   "source": [
    "soup.select('h1')   # by tags"
   ]
  },
  {
   "cell_type": "code",
   "execution_count": 65,
   "metadata": {},
   "outputs": [
    {
     "data": {
      "text/plain": [
       "[<div id=\"xxx\">\n",
       " <h1> Wiki-books store </h1>\n",
       " <ul class=\"item\">\n",
       " <li> introduction to game design </li>\n",
       " <li> introduction to python </li>\n",
       " <li> introduction to web design </li>\n",
       " </ul>\n",
       " </div>]"
      ]
     },
     "execution_count": 65,
     "metadata": {},
     "output_type": "execute_result"
    }
   ],
   "source": [
    "soup.select('#xxx') # by id"
   ]
  },
  {
   "cell_type": "code",
   "execution_count": 66,
   "metadata": {},
   "outputs": [
    {
     "data": {
      "text/plain": [
       "[<ul class=\"item\">\n",
       " <li> introduction to game design </li>\n",
       " <li> introduction to python </li>\n",
       " <li> introduction to web design </li>\n",
       " </ul>]"
      ]
     },
     "execution_count": 66,
     "metadata": {},
     "output_type": "execute_result"
    }
   ],
   "source": [
    "soup.select('.item') # by class name"
   ]
  },
  {
   "cell_type": "code",
   "execution_count": 67,
   "metadata": {},
   "outputs": [
    {
     "data": {
      "text/plain": [
       "[<ul class=\"item\">\n",
       " <li> introduction to game design </li>\n",
       " <li> introduction to python </li>\n",
       " <li> introduction to web design </li>\n",
       " </ul>]"
      ]
     },
     "execution_count": 67,
     "metadata": {},
     "output_type": "execute_result"
    }
   ],
   "source": [
    "soup.select('div .item') # multi-components(tag=div, class=item)"
   ]
  },
  {
   "cell_type": "code",
   "execution_count": 69,
   "metadata": {},
   "outputs": [
    {
     "data": {
      "text/plain": [
       "[<li> introduction to game design </li>,\n",
       " <li> introduction to python </li>,\n",
       " <li> introduction to web design </li>]"
      ]
     },
     "execution_count": 69,
     "metadata": {},
     "output_type": "execute_result"
    }
   ],
   "source": [
    "soup.select('#xxx > ul > li') # hierarchy (child)"
   ]
  },
  {
   "cell_type": "code",
   "execution_count": 70,
   "metadata": {},
   "outputs": [
    {
     "data": {
      "text/plain": [
       "<li> introduction to game design </li>"
      ]
     },
     "execution_count": 70,
     "metadata": {},
     "output_type": "execute_result"
    }
   ],
   "source": [
    "soup.select_one('#xxx > ul > li') # hierarchy (child)"
   ]
  },
  {
   "cell_type": "code",
   "execution_count": 71,
   "metadata": {},
   "outputs": [
    {
     "data": {
      "text/plain": [
       "[<li> introduction to game design </li>,\n",
       " <li> introduction to python </li>,\n",
       " <li> introduction to web design </li>]"
      ]
     },
     "execution_count": 71,
     "metadata": {},
     "output_type": "execute_result"
    }
   ],
   "source": [
    "soup.select('div li')  # hierarchy (div tag >>> ul tag)  (descendants)"
   ]
  },
  {
   "cell_type": "code",
   "execution_count": 72,
   "metadata": {},
   "outputs": [
    {
     "data": {
      "text/plain": [
       "[]"
      ]
     },
     "execution_count": 72,
     "metadata": {},
     "output_type": "execute_result"
    }
   ],
   "source": [
    "soup.find_all('div li')  "
   ]
  },
  {
   "cell_type": "code",
   "execution_count": 76,
   "metadata": {},
   "outputs": [
    {
     "data": {
      "text/plain": [
       "[<p class=\"body strikeout\"></p>]"
      ]
     },
     "execution_count": 76,
     "metadata": {},
     "output_type": "execute_result"
    }
   ],
   "source": [
    "text = '<p class=\"body strikeout\"></p>'\n",
    "\n",
    "css_soup = BeautifulSoup(text,'html.parser')\n",
    "css_soup.find_all(\"p\", class_=\"strikeout\")  # 다 쓰지 않아도 찾을 수 있다."
   ]
  },
  {
   "cell_type": "code",
   "execution_count": 77,
   "metadata": {},
   "outputs": [
    {
     "data": {
      "text/plain": [
       "[<p class=\"body strikeout\"></p>]"
      ]
     },
     "execution_count": 77,
     "metadata": {},
     "output_type": "execute_result"
    }
   ],
   "source": [
    "css_soup.find_all(\"p\", class_=\"body\")  # 다 쓰지 않아도 찾을 수 있다."
   ]
  },
  {
   "cell_type": "code",
   "execution_count": 78,
   "metadata": {},
   "outputs": [
    {
     "data": {
      "text/plain": [
       "[<p class=\"body strikeout\"></p>]"
      ]
     },
     "execution_count": 78,
     "metadata": {},
     "output_type": "execute_result"
    }
   ],
   "source": [
    "css_soup.select('p')"
   ]
  },
  {
   "cell_type": "markdown",
   "metadata": {},
   "source": [
    "# Practical example\n",
    "- extract job information from www.monster.com"
   ]
  },
  {
   "cell_type": "code",
   "execution_count": 80,
   "metadata": {},
   "outputs": [
    {
     "data": {
      "text/plain": [
       "<Response [200]>"
      ]
     },
     "execution_count": 80,
     "metadata": {},
     "output_type": "execute_result"
    }
   ],
   "source": [
    "url = \"https://www.monster.com/jobs/search/?q=Data-Scientist&where=California\"\n",
    "page = requests.get(url)\n",
    "page"
   ]
  },
  {
   "cell_type": "code",
   "execution_count": 81,
   "metadata": {},
   "outputs": [
    {
     "data": {
      "text/plain": [
       "'<!DOCTYPE html>\\r\\n<html xmlns=\"https://www.w3.org/1999/xhtml\" xml:lang=\"en\" lang=\"en\">\\r\\n<head>\\r\\n    \\r\\n<meta http-equiv=\"X-UA-Compatible\" content=\"IE=edge\" />\\r\\n<meta http-equiv=\"Expires\" content=\"0\" />\\r\\n<meta name=\"viewport\" content=\"width=device-width, initial-scale=1.0, maximum-scale=2.0, minimum-scale=1\" />\\r\\n<meta name=\"j_jp\" content=\"1\" />\\r\\n<meta charset=\"UTF-8\">\\r\\n<title>Data Scientist Jobs in California. California Data Scientist Jobs. | Monster.com</title>\\r\\n\\r\\n        <style type=\"text/css\">\\r\\n                @font-face{font-family:\\'Roboto\\';font-style:normal;font-weight:100;font-display:optional;src:local(\\'Roboto Thin\\'),local(\\'Roboto-Thin\\'),local(\\'sans-serif-thin\\'),url(https://fonts.gstatic.com/s/roboto/v19/KFOkCnqEu92Fr1MmgVxFIzIXKMnyrYk.woff2) format(\\'woff2\\');unicode-range:U+0460-052F,U+1C80-1C88,U+20B4,U+2DE0-2DFF,U+A640-A69F,U+FE2E-FE2F}@font-face{font-family:\\'Roboto\\';font-style:normal;font-weight:100;font-display:optional;src:local(\\'Roboto Thin\\'),local(\\'Roboto-Thin\\'),local(\\'sans-serif-thin\\'),url(https://fonts.gstatic.com/s/roboto/v19/KFOkCnqEu92Fr1MmgVxMIzIXKMnyrYk.woff2) format(\\'woff2\\');unicode-range:U+0400-045F,U+0490-0491,U+04B0-04B1,U+2116}@font-face{font-family:\\'Roboto\\';font-style:normal;font-weight:100;font-display:optional;src:local(\\'Roboto Thin\\'),local(\\'Roboto-Thin\\'),local(\\'sans-serif-thin\\'),url(https://fonts.gstatic.com/s/roboto/v19/KFOkCnqEu92Fr1MmgVxEIzIXKMnyrYk.woff2) format(\\'woff2\\');unicode-range:U+1F00-1FFF}@font-face{font-family:\\'Roboto\\';font-style:normal;font-weight:100;font-display:optional;src:local(\\'Roboto Thin\\'),local(\\'Roboto-Thin\\'),local(\\'sans-serif-thin\\'),url(https://fonts.gstatic.com/s/roboto/v19/KFOkCnqEu92Fr1MmgVxLIzIXKMnyrYk.woff2) format(\\'woff2\\');unicode-range:U+0370-03FF}@font-face{font-family:\\'Roboto\\';font-style:normal;font-weight:100;font-display:optional;src:local(\\'Roboto Thin\\'),local(\\'Roboto-Thin\\'),local(\\'sans-serif-thin\\'),url(https://fonts.gstatic.com/s/roboto/v19/KFOkCnqEu92Fr1MmgVxHIzIXKMnyrYk.woff2) format(\\'woff2\\');unicode-range:U+0102-0103,U+0110-0111,U+1EA0-1EF9,U+20AB}@font-face{font-family:\\'Roboto\\';font-style:normal;font-weight:100;font-display:optional;src:local(\\'Roboto Thin\\'),local(\\'Roboto-Thin\\'),local(\\'sans-serif-thin\\'),url(https://fonts.gstatic.com/s/roboto/v19/KFOkCnqEu92Fr1MmgVxGIzIXKMnyrYk.woff2) format(\\'woff2\\');unicode-range:U+0100-024F,U+0259,U+1E00-1EFF,U+2020,U+20A0-20AB,U+20AD-20CF,U+2113,U+2C60-2C7F,U+A720-A7FF}@font-face{font-family:\\'Roboto\\';font-style:normal;font-weight:100;font-display:optional;src:local(\\'Roboto Thin\\'),local(\\'Roboto-Thin\\'),local(\\'sans-serif-thin\\'),url(https://fonts.gstatic.com/s/roboto/v19/KFOkCnqEu92Fr1MmgVxIIzIXKMny.woff2) format(\\'woff2\\');unicode-range:U+0000-00FF,U+0131,U+0152-0153,U+02BB-02BC,U+02C6,U+02DA,U+02DC,U+2000-206F,U+2074,U+20AC,U+2122,U+2191,U+2193,U+2212,U+2215,U+FEFF,U+FFFD}@font-face{font-family:\\'Roboto\\';font-style:normal;font-weight:300;font-display:optional;src:local(\\'Roboto Light\\'),local(\\'Roboto-Light\\'),local(\\'sans-serif-light\\'),url(https://fonts.gstatic.com/s/roboto/v19/KFOlCnqEu92Fr1MmSU5fCRc4AMP6lbBP.woff2) format(\\'woff2\\');unicode-range:U+0460-052F,U+1C80-1C88,U+20B4,U+2DE0-2DFF,U+A640-A69F,U+FE2E-FE2F}@font-face{font-family:\\'Roboto\\';font-style:normal;font-weight:300;font-display:optional;src:local(\\'Roboto Light\\'),local(\\'Roboto-Light\\'),local(\\'sans-serif-light\\'),url(https://fonts.gstatic.com/s/roboto/v19/KFOlCnqEu92Fr1MmSU5fABc4AMP6lbBP.woff2) format(\\'woff2\\');unicode-range:U+0400-045F,U+0490-0491,U+04B0-04B1,U+2116}@font-face{font-family:\\'Roboto\\';font-style:normal;font-weight:300;font-display:optional;src:local(\\'Roboto Light\\'),local(\\'Roboto-Light\\'),local(\\'sans-serif-light\\'),url(https://fonts.gstatic.com/s/roboto/v19/KFOlCnqEu92Fr1MmSU5fCBc4AMP6lbBP.woff2) format(\\'woff2\\');unicode-range:U+1F00-1FFF}@font-face{font-family:\\'Roboto\\';font-style:normal;font-weight:300;font-display:optional;src:local(\\'Roboto Light\\'),local(\\'Roboto-Light\\'),local(\\'sans-serif-light\\'),url(https://fonts.gstatic.com/s/roboto/v19/KFOlCnqEu92Fr1MmSU5fBxc4AMP6lbBP.woff2) format(\\'woff2\\');unicode-range:U+0370-03FF}@font-face{font-family:\\'Roboto\\';font-style:normal;font-weight:300;font-display:optional;src:local(\\'Roboto Light\\'),local(\\'Roboto-Light\\'),local(\\'sans-serif-light\\'),url(https://fonts.gstatic.com/s/roboto/v19/KFOlCnqEu92Fr1MmSU5fCxc4AMP6lbBP.woff2) format(\\'woff2\\');unicode-range:U+0102-0103,U+0110-0111,U+1EA0-1EF9,U+20AB}@font-face{font-family:\\'Roboto\\';font-style:normal;font-weight:300;font-display:optional;src:local(\\'Roboto Light\\'),local(\\'Roboto-Light\\'),local(\\'sans-serif-light\\'),url(https://fonts.gstatic.com/s/roboto/v19/KFOlCnqEu92Fr1MmSU5fChc4AMP6lbBP.woff2) format(\\'woff2\\');unicode-range:U+0100-024F,U+0259,U+1E00-1EFF,U+2020,U+20A0-20AB,U+20AD-20CF,U+2113,U+2C60-2C7F,U+A720-A7FF}@font-face{font-family:\\'Roboto\\';font-style:normal;font-weight:300;font-display:optional;src:local(\\'Roboto Light\\'),local(\\'Roboto-Light\\'),local(\\'sans-serif-light\\'),url(https://fonts.gstatic.com/s/roboto/v19/KFOlCnqEu92Fr1MmSU5fBBc4AMP6lQ.woff2) format(\\'woff2\\');unicode-range:U+0000-00FF,U+0131,U+0152-0153,U+02BB-02BC,U+02C6,U+02DA,U+02DC,U+2000-206F,U+2074,U+20AC,U+2122,U+2191,U+2193,U+2212,U+2215,U+FEFF,U+FFFD}@font-face{font-family:\\'Roboto\\';font-style:normal;font-weight:400;font-display:optional;src:local(\\'Roboto\\'),local(\\'Roboto-Regular\\'),local(\\'sans-serif\\'),url(https://fonts.gstatic.com/s/roboto/v19/KFOmCnqEu92Fr1Mu72xKKTU1Kvnz.woff2) format(\\'woff2\\');unicode-range:U+0460-052F,U+1C80-1C88,U+20B4,U+2DE0-2DFF,U+A640-A69F,U+FE2E-FE2F}@font-face{font-family:\\'Roboto\\';font-style:normal;font-weight:400;font-display:optional;src:local(\\'Roboto\\'),local(\\'Roboto-Regular\\'),local(\\'sans-serif\\'),url(https://fonts.gstatic.com/s/roboto/v19/KFOmCnqEu92Fr1Mu5mxKKTU1Kvnz.woff2) format(\\'woff2\\');unicode-range:U+0400-045F,U+0490-0491,U+04B0-04B1,U+2116}@font-face{font-family:\\'Roboto\\';font-style:normal;font-weight:400;font-display:optional;src:local(\\'Roboto\\'),local(\\'Roboto-Regular\\'),local(\\'sans-serif\\'),url(https://fonts.gstatic.com/s/roboto/v19/KFOmCnqEu92Fr1Mu7mxKKTU1Kvnz.woff2) format(\\'woff2\\');unicode-range:U+1F00-1FFF}@font-face{font-family:\\'Roboto\\';font-style:normal;font-weight:400;font-display:optional;src:local(\\'Roboto\\'),local(\\'Roboto-Regular\\'),local(\\'sans-serif\\'),url(https://fonts.gstatic.com/s/roboto/v19/KFOmCnqEu92Fr1Mu4WxKKTU1Kvnz.woff2) format(\\'woff2\\');unicode-range:U+0370-03FF}@font-face{font-family:\\'Roboto\\';font-style:normal;font-weight:400;font-display:optional;src:local(\\'Roboto\\'),local(\\'Roboto-Regular\\'),local(\\'sans-serif\\'),url(https://fonts.gstatic.com/s/roboto/v19/KFOmCnqEu92Fr1Mu7WxKKTU1Kvnz.woff2) format(\\'woff2\\');unicode-range:U+0102-0103,U+0110-0111,U+1EA0-1EF9,U+20AB}@font-face{font-family:\\'Roboto\\';font-style:normal;font-weight:400;font-display:optional;src:local(\\'Roboto\\'),local(\\'Roboto-Regular\\'),local(\\'sans-serif\\'),url(https://fonts.gstatic.com/s/roboto/v19/KFOmCnqEu92Fr1Mu7GxKKTU1Kvnz.woff2) format(\\'woff2\\');unicode-range:U+0100-024F,U+0259,U+1E00-1EFF,U+2020,U+20A0-20AB,U+20AD-20CF,U+2113,U+2C60-2C7F,U+A720-A7FF}@font-face{font-family:\\'Roboto\\';font-style:normal;font-weight:400;font-display:optional;src:local(\\'Roboto\\'),local(\\'Roboto-Regular\\'),local(\\'sans-serif\\'),url(https://fonts.gstatic.com/s/roboto/v19/KFOmCnqEu92Fr1Mu4mxKKTU1Kg.woff2) format(\\'woff2\\');unicode-range:U+0000-00FF,U+0131,U+0152-0153,U+02BB-02BC,U+02C6,U+02DA,U+02DC,U+2000-206F,U+2074,U+20AC,U+2122,U+2191,U+2193,U+2212,U+2215,U+FEFF,U+FFFD}@font-face{font-family:\\'Roboto\\';font-style:normal;font-weight:500;font-display:optional;src:local(\\'Roboto Medium\\'),local(\\'Roboto-Medium\\'),local(\\'sans-serif-medium\\'),url(https://fonts.gstatic.com/s/roboto/v19/KFOlCnqEu92Fr1MmEU9fCRc4AMP6lbBP.woff2) format(\\'woff2\\');unicode-range:U+0460-052F,U+1C80-1C88,U+20B4,U+2DE0-2DFF,U+A640-A69F,U+FE2E-FE2F}@font-face{font-family:\\'Roboto\\';font-style:normal;font-weight:500;font-display:optional;src:local(\\'Roboto Medium\\'),local(\\'Roboto-Medium\\'),local(\\'sans-serif-medium\\'),url(https://fonts.gstatic.com/s/roboto/v19/KFOlCnqEu92Fr1MmEU9fABc4AMP6lbBP.woff2) format(\\'woff2\\');unicode-range:U+0400-045F,U+0490-0491,U+04B0-04B1,U+2116}@font-face{font-family:\\'Roboto\\';font-style:normal;font-weight:500;font-display:optional;src:local(\\'Roboto Medium\\'),local(\\'Roboto-Medium\\'),local(\\'sans-serif-medium\\'),url(https://fonts.gstatic.com/s/roboto/v19/KFOlCnqEu92Fr1MmEU9fCBc4AMP6lbBP.woff2) format(\\'woff2\\');unicode-range:U+1F00-1FFF}@font-face{font-family:\\'Roboto\\';font-style:normal;font-weight:500;font-display:optional;src:local(\\'Roboto Medium\\'),local(\\'Roboto-Medium\\'),local(\\'sans-serif-medium\\'),url(https://fonts.gstatic.com/s/roboto/v19/KFOlCnqEu92Fr1MmEU9fBxc4AMP6lbBP.woff2) format(\\'woff2\\');unicode-range:U+0370-03FF}@font-face{font-family:\\'Roboto\\';font-style:normal;font-weight:500;font-display:optional;src:local(\\'Roboto Medium\\'),local(\\'Roboto-Medium\\'),local(\\'sans-serif-medium\\'),url(https://fonts.gstatic.com/s/roboto/v19/KFOlCnqEu92Fr1MmEU9fCxc4AMP6lbBP.woff2) format(\\'woff2\\');unicode-range:U+0102-0103,U+0110-0111,U+1EA0-1EF9,U+20AB}@font-face{font-family:\\'Roboto\\';font-style:normal;font-weight:500;font-display:optional;src:local(\\'Roboto Medium\\'),local(\\'Roboto-Medium\\'),local(\\'sans-serif-medium\\'),url(https://fonts.gstatic.com/s/roboto/v19/KFOlCnqEu92Fr1MmEU9fChc4AMP6lbBP.woff2) format(\\'woff2\\');unicode-range:U+0100-024F,U+0259,U+1E00-1EFF,U+2020,U+20A0-20AB,U+20AD-20CF,U+2113,U+2C60-2C7F,U+A720-A7FF}@font-face{font-family:\\'Roboto\\';font-style:normal;font-weight:500;font-display:optional;src:local(\\'Roboto Medium\\'),local(\\'Roboto-Medium\\'),local(\\'sans-serif-medium\\'),url(https://fonts.gstatic.com/s/roboto/v19/KFOlCnqEu92Fr1MmEU9fBBc4AMP6lQ.woff2) format(\\'woff2\\');unicode-range:U+0000-00FF,U+0131,U+0152-0153,U+02BB-02BC,U+02C6,U+02DA,U+02DC,U+2000-206F,U+2074,U+20AC,U+2122,U+2191,U+2193,U+2212,U+2215,U+FEFF,U+FFFD}@font-face{font-family:\\'HCo Champion Middlewt\\';font-display:wrap;src:url(https://media.newjobs.com/homepage/fonts/Champion-Middleweight_Web.woff2) format(\\'woff2\\'),url(https://media.newjobs.com/homepage/fonts/Champion-Middleweight_Web.woff) format(\\'woff\\');\\r\\n        </style>\\r\\n\\r\\n    <style type=\"text/css\">\\r\\n            \\r\\n\\r\\n@font-face{font-family:\"Material Design Icons\";src:url(\"https://securemedia.newjobs.com/global/fonts/materialdesignicons-1.9.32/materialdesignicons-webfont.eot?v=1.9.32\");src:url(\"https://securemedia.newjobs.com/global/fonts/materialdesignicons-1.9.32/materialdesignicons-webfont.eot?#iefix&v=1.9.32\") format(\"embedded-opentype\"),url(\"https://securemedia.newjobs.com/global/fonts/materialdesignicons-1.9.32/materialdesignicons-webfont.woff2?v=1.9.32\") format(\"woff2\"),url(\"https://securemedia.newjobs.com/global/fonts/materialdesignicons-1.9.32/materialdesignicons-webfont.woff?v=1.9.32\") format(\"woff\"),url(\"https://securemedia.newjobs.com/global/fonts/materialdesignicons-1.9.32/materialdesignicons-webfont.ttf?v=1.9.32\") format(\"truetype\"),url(\"https://securemedia.newjobs.com/global/fonts/materialdesignicons-1.9.32/materialdesignicons-webfont.svg?v=1.9.32#materialdesigniconsregular\") format(\"svg\");font-weight:400;font-style:normal;font-display:swap;}.mdi::before{display:inline-block;font-style:normal;font-variant:normal;font-weight:400;font-family:\\'Material Design Icons\\';font-size:inherit;text-rendering:auto;line-height:inherit;-webkit-font-smoothing:antialiased}.mdi-magnify::before{content:\"\\\\f349\"}.mdi-map-marker::before{content:\"\\\\f34e\"}html{font-family:sans-serif}body{margin:0}header,main,nav,section{display:block}a{background-position:0 0;background-repeat:initial initial}h1{font-size:2em;margin:.67em 0}button,input,select{color:inherit;font-family:inherit;font-size:inherit;font-style:inherit;font-variant:inherit;font-weight:inherit;line-height:inherit;margin:0}button{overflow:visible}button,select{text-transform:none}button{-webkit-appearance:button}input{line-height:normal}input[type=\"checkbox\"]{box-sizing:border-box;padding:0}*{box-sizing:border-box}::before,::after{box-sizing:border-box}html{font-size:62.5%}body{font-family:\\'Helvetica Neue\\',Helvetica,Arial,sans-serif;font-size:14px;line-height:1.42857143;color:rgb(51,51,51);background-color:rgb(255,255,255)}input,button,select{font-family:inherit;font-size:inherit;line-height:inherit}a{color:rgb(66,139,202);text-decoration:none}.sr-only{position:absolute;width:1px;height:1px;margin:-1px;padding:0;overflow:hidden;clip:rect(0 0 0 0);border:0}h1,h2,h3,h4{font-family:inherit;font-weight:500;line-height:1.1;color:inherit}h1,h2,h3{margin-top:20px;margin-bottom:10px}h4{margin-top:10px;margin-bottom:10px}h1{font-size:36px}h2{font-size:30px}h3{font-size:24px}h4{font-size:18px}p{margin:0 0 10px}.lead{margin-bottom:20px;font-size:16px;font-weight:200;line-height:1.4}@media (min-width:768px){.lead{font-size:21px}}.text-center{text-align:center}ul{margin-top:0;margin-bottom:10px}ul ul{margin-bottom:0}.list-inline{padding-left:0;list-style:none;margin-left:-5px}.container{margin-right:auto;margin-left:auto;padding-left:15px;padding-right:15px}@media (min-width:768px){.container{width:750px}}@media (min-width:992px){.container{width:970px}}@media (min-width:1200px){.container{width:1170px}}.container-fluid{margin-right:auto;margin-left:auto;padding-left:15px;padding-right:15px}.row{margin-left:-15px;margin-right:-15px}.col-md-4,.col-sm-6,.col-md-8{position:relative;min-height:1px;padding-left:15px;padding-right:15px}@media (min-width:768px){.col-sm-6{float:left}.col-sm-6{width:50%}}@media (min-width:992px){.col-md-4,.col-md-8{float:left}.col-md-8{width:66.66666667%}.col-md-4{width:33.33333333%}}label{display:inline-block;margin-bottom:5px;font-weight:700}input[type=\"checkbox\"]{margin:4px 0 0;line-height:normal}.form-control{display:block;width:100%;height:34px;padding:6px 12px;font-size:14px;line-height:1.42857143;color:rgb(85,85,85);background-color:rgb(255,255,255);background-image:none;border:1px solid rgb(204,204,204);border-top-left-radius:4px;border-top-right-radius:4px;border-bottom-right-radius:4px;border-bottom-left-radius:4px;-webkit-box-shadow:rgba(0,0,0,.0745098) 0 1px 1px inset;box-shadow:rgba(0,0,0,.0745098) 0 1px 1px inset}.form-control::-webkit-input-placeholder{color:rgb(153,153,153)}.form-control[disabled]{background-color:rgb(238,238,238);opacity:1}.form-group{margin-bottom:15px}.checkbox{display:block;min-height:20px;margin-top:10px;margin-bottom:10px;padding-left:20px}.checkbox label{display:inline;font-weight:400}.checkbox input[type=\"checkbox\"]{float:left;margin-left:-20px}.input-sm{height:30px;padding:5px 10px;font-size:12px;line-height:1.5;border-top-left-radius:3px;border-top-right-radius:3px;border-bottom-right-radius:3px;border-bottom-left-radius:3px}@media (min-width:768px){.form-inline .form-group{display:inline-block;margin-bottom:0;vertical-align:middle}.form-inline .form-control{display:inline-block;width:auto;vertical-align:middle}.form-inline .control-label{margin-bottom:0;vertical-align:middle}.form-inline .checkbox{display:inline-block;margin-top:0;margin-bottom:0;padding-left:0;vertical-align:middle}.form-inline .checkbox input[type=\"checkbox\"]{float:none;margin-left:0}}.btn{display:inline-block;margin-bottom:0;font-weight:400;text-align:center;vertical-align:middle;background-image:none;border:1px solid transparent;white-space:nowrap;padding:6px 12px;font-size:14px;line-height:1.42857143;border-top-left-radius:4px;border-top-right-radius:4px;border-bottom-right-radius:4px;border-bottom-left-radius:4px}.btn-primary{color:rgb(255,255,255);background-color:rgb(66,139,202);border-color:rgb(53,126,189)}.btn-link{color:rgb(66,139,202);font-weight:400;border-top-left-radius:0;border-top-right-radius:0;border-bottom-right-radius:0;border-bottom-left-radius:0}.btn-link{background-color:transparent;-webkit-box-shadow:none;box-shadow:none}.btn-link{border-color:transparent}.btn-sm{padding:5px 10px;font-size:12px;line-height:1.5;border-top-left-radius:3px;border-top-right-radius:3px;border-bottom-right-radius:3px;border-bottom-left-radius:3px}.collapse{display:none}.caret{display:inline-block;width:0;height:0;margin-left:2px;vertical-align:middle;border-top-width:4px;border-top-style:solid;border-right-width:4px;border-right-style:solid;border-right-color:transparent;border-left-width:4px;border-left-style:solid;border-left-color:transparent}.dropdown{position:relative}.dropdown-menu{position:absolute;top:100%;left:0;z-index:1000;display:none;float:left;min-width:160px;padding:5px 0;margin:2px 0 0;list-style:none;font-size:14px;background-color:rgb(255,255,255);border:1px solid rgba(0,0,0,.14902);border-top-left-radius:4px;border-top-right-radius:4px;border-bottom-right-radius:4px;border-bottom-left-radius:4px;-webkit-box-shadow:rgba(0,0,0,.172549) 0 6px 12px;box-shadow:rgba(0,0,0,.172549) 0 6px 12px;background-clip:padding-box}.dropdown-menu>li>a{display:block;padding:3px 20px;clear:both;font-weight:400;line-height:1.42857143;color:rgb(51,51,51);white-space:nowrap}@media (min-width:768px){.navbar-right .dropdown-menu{left:auto;right:0}}.input-group{position:relative;display:table;border-collapse:separate}.input-group .form-control{position:relative;z-index:2;float:left;width:100%;margin-bottom:0}.input-group-sm>.form-control,.input-group-sm>.input-group-addon{height:30px;padding:5px 10px;font-size:12px;line-height:1.5;border-top-left-radius:3px;border-top-right-radius:3px;border-bottom-right-radius:3px;border-bottom-left-radius:3px}.input-group-addon,.input-group .form-control{display:table-cell}.input-group .form-control:not(:first-child):not(:last-child){border-top-left-radius:0;border-top-right-radius:0;border-bottom-right-radius:0;border-bottom-left-radius:0}.input-group-addon{width:1%;white-space:nowrap;vertical-align:middle}.input-group-addon:first-child{border-bottom-right-radius:0;border-top-right-radius:0}.input-group-addon:first-child{border-right-width:0}.nav{margin-bottom:0;padding-left:0;list-style:none}.nav>li{position:relative;display:block}.nav>li>a{position:relative;display:block;padding:10px 15px}.navbar{position:relative;min-height:50px;margin-bottom:20px;border:1px solid transparent}@media (min-width:768px){.navbar{border-top-left-radius:4px;border-top-right-radius:4px;border-bottom-right-radius:4px;border-bottom-left-radius:4px}}@media (min-width:768px){.navbar-header{float:left}}.navbar-collapse{max-height:340px;overflow-x:visible;padding-right:15px;padding-left:15px;border-top-width:1px;border-top-style:solid;border-top-color:transparent;box-shadow:rgba(255,255,255,.0980392) 0 1px 0 inset}@media (min-width:768px){.navbar-collapse{width:auto;border-top-width:0;box-shadow:none}.navbar-collapse.collapse{padding-bottom:0;display:block!important;height:auto!important;overflow:visible!important}.navbar-fixed-top .navbar-collapse{padding-left:0;padding-right:0}}.container-fluid>.navbar-header,.container-fluid>.navbar-collapse{margin-right:-15px;margin-left:-15px}@media (min-width:768px){.container-fluid>.navbar-header,.container-fluid>.navbar-collapse{margin-right:0;margin-left:0}}.navbar-fixed-top{position:fixed;right:0;left:0;z-index:1030}@media (min-width:768px){.navbar-fixed-top{border-top-left-radius:0;border-top-right-radius:0;border-bottom-right-radius:0;border-bottom-left-radius:0}}.navbar-fixed-top{top:0;border-width:0 0 1px}.navbar-brand{float:left;padding:15px;font-size:18px;line-height:20px;height:50px}@media (min-width:768px){.navbar>.container-fluid .navbar-brand{margin-left:-15px}}.navbar-toggle{position:relative;float:right;margin-right:15px;padding:9px 10px;margin-top:8px;margin-bottom:8px;background-color:transparent;background-image:none;border:1px solid transparent;border-top-left-radius:4px;border-top-right-radius:4px;border-bottom-right-radius:4px;border-bottom-left-radius:4px}.navbar-toggle .icon-bar{display:block;width:22px;height:2px;border-top-left-radius:1px;border-top-right-radius:1px;border-bottom-right-radius:1px;border-bottom-left-radius:1px}.navbar-toggle .icon-bar+.icon-bar{margin-top:4px}@media (min-width:768px){.navbar-toggle{display:none}}.navbar-nav{margin:7.5px -15px}.navbar-nav>li>a{padding-top:10px;padding-bottom:10px;line-height:20px}@media (min-width:768px){.navbar-nav{float:left;margin:0}.navbar-nav>li{float:left}.navbar-nav>li>a{padding-top:15px;padding-bottom:15px}.navbar-nav.navbar-right:last-child{margin-right:-15px}}@media (min-width:768px){.navbar-right{float:right!important}}.navbar-form{margin:8px -15px;padding:10px 15px;border-top-width:1px;border-top-style:solid;border-top-color:transparent;border-bottom-width:1px;border-bottom-style:solid;border-bottom-color:transparent;-webkit-box-shadow:rgba(255,255,255,.0980392) 0 1px 0 inset,rgba(255,255,255,.0980392) 0 1px 0;box-shadow:rgba(255,255,255,.0980392) 0 1px 0 inset,rgba(255,255,255,.0980392) 0 1px 0}@media (min-width:768px){.navbar-form .form-group{display:inline-block;margin-bottom:0;vertical-align:middle}.navbar-form .form-control{display:inline-block;width:auto;vertical-align:middle}.navbar-form .input-group>.form-control{width:100%}}@media (max-width:767px){.navbar-form .form-group{margin-bottom:5px}}@media (min-width:768px){.navbar-form{width:auto;border:0;margin-left:0;margin-right:0;padding-top:0;padding-bottom:0;-webkit-box-shadow:none;box-shadow:none}}.navbar-nav>li>.dropdown-menu{margin-top:0;border-top-right-radius:0;border-top-left-radius:0}.navbar-text{margin-top:15px;margin-bottom:15px}@media (min-width:768px){.navbar-text{float:left;margin-left:15px;margin-right:15px}}.navbar-default{background-color:rgb(248,248,248);border-color:rgb(231,231,231)}.navbar-default .navbar-brand{color:rgb(119,119,119)}.navbar-default .navbar-text{color:rgb(119,119,119)}.navbar-default .navbar-nav>li>a{color:rgb(119,119,119)}.navbar-default .navbar-toggle{border-color:rgb(221,221,221)}.navbar-default .navbar-toggle .icon-bar{background-color:rgb(136,136,136)}.navbar-default .navbar-collapse,.navbar-default .navbar-form{border-color:rgb(231,231,231)}.thumbnail{display:block;padding:4px;margin-bottom:20px;line-height:1.42857143;background-color:rgb(255,255,255);border:1px solid rgb(221,221,221);border-top-left-radius:4px;border-top-right-radius:4px;border-bottom-right-radius:4px;border-bottom-left-radius:4px}.clearfix::before,.clearfix::after,.container::before,.container::after,.container-fluid::before,.container-fluid::after,.row::before,.row::after,.nav::before,.nav::after,.navbar::before,.navbar::after,.navbar-header::before,.navbar-header::after,.navbar-collapse::before,.navbar-collapse::after{content:\\' \\';display:table}.clearfix::after,.container::after,.container-fluid::after,.row::after,.nav::after,.navbar::after,.navbar-header::after,.navbar-collapse::after{clear:both}.center-block{display:block;margin-left:auto;margin-right:auto}.hide{display:none!important}.hidden{display:none!important;visibility:hidden!important}@media (max-width:767px){.hidden-xs{display:none!important}}@media (max-width:991px) and (min-width:768px){.hidden-sm{display:none!important}}@media (max-width:1199px) and (min-width:992px){.hidden-md{display:none!important}}@media (min-width:1200px){.hidden-lg{display:none!important}}@font-face{font-family:FontAwesome;src:url(https://securemedia.newjobs.com/global/fonts/fontawesome-4.5.0/fontawesome-webfont.eot?#iefix&v=4.5.0) format(\\'embedded-opentype\\'),url(https://securemedia.newjobs.com/global/fonts/fontawesome-4.5.0/fontawesome-webfont.woff2?v=4.5.0) format(\\'woff2\\'),url(https://securemedia.newjobs.com/global/fonts/fontawesome-4.5.0/fontawesome-webfont.woff?v=4.5.0) format(\\'woff\\'),url(https://securemedia.newjobs.com/global/fonts/fontawesome-4.5.0/fonts/fontawesome-webfont.ttf?v=4.5.0) format(\\'truetype\\'),url(https://securemedia.newjobs.com/global/fonts/fontawesome-4.5.0/fontawesome-webfont.svg?v=4.5.0#fontawesomeregular) format(\\'svg\\');font-weight:400;font-style:normal;font-display:swap;}.fa{display:inline-block;font-style:normal;font-variant:normal;font-weight:400;line-height:1;font-family:FontAwesome;font-size:inherit;text-rendering:auto;-webkit-font-smoothing:antialiased}.fa-times::before{content:\\'\\\\f00d\\'}.fa-search::before{content:\\'\\\\f002\\'}body{padding-top:125px;margin-top:0}.navbar *{font-weight:400;text-shadow:none}.navbar{background-image:none;border-top-left-radius:0;border-top-right-radius:0;border-bottom-right-radius:0;border-bottom-left-radius:0;min-width:310px;-webkit-box-shadow:rgba(0,0,0,.2) 0 0 1px;box-shadow:rgba(0,0,0,.2) 0 0 1px}.navbar.solid-nav{background-color:rgb(255,255,255);border:none}.logo-new-branding-g-header{position:relative;background-size:180px;width:180px;height:30px;background-repeat:no-repeat no-repeat}.navbar.solid-nav .navbar-main{padding-top:14px;background-color:rgb(255,255,255);background-position:initial initial;background-repeat:initial initial}.navbar.solid-nav .navbar-text{color:rgba(0,0,0,.870588);font-weight:400;background-image:none;font-size:16px;margin:0;background-position:initial initial;background-repeat:initial initial}.navbar.solid-nav .keywords,.navbar.solid-nav .location{position:relative;border:1px solid #6E46AE}.navbar.solid-nav .input-group{background-image:none;border-top-left-radius:3px;border-top-right-radius:3px;border-bottom-right-radius:3px;border-bottom-left-radius:3px;width:100%;background-position:initial initial;background-repeat:initial initial}.navbar.solid-nav .input-group .form-control{width:90%}.navbar.solid-nav .input-group .form-control,.navbar.solid-nav .input-group .input-group-addon{color:#6E46AE}.navbar.solid-nav .input-group .input-group-addon i{color:#6E46AE;margin-right:0}.navbar.solid-nav .input-group .typeahead{width:100%}.navbar.solid-nav .btn-white{background-color:#6E46AE;color:rgb(255,255,255);border-width:0 0 1px;border-style:solid;border-color:#6E46AE;background-position:initial initial;background-repeat:initial initial}.navbar .navbar-toggle{background-image:none;border:none;background-position:initial initial;background-repeat:initial initial}.navbar .navbar-toggle.search-btn-container{margin:4px 5px 0 0;padding:8px 0 5px}.navbar .navbar-toggle i{color:#6E46AE;font-size:22px;display:block;margin:0}.navbar .caret{border-top-color:rgba(0,0,0,.870588);border-bottom-color:rgba(0,0,0,.870588)}.navbar li a{font-size:14px;color:rgba(0,0,0,.870588)}.navbar li #login-btn-employer{position:relative;background-color:rgb(44,122,192);right:0;text-align:center;margin:-2px 25px 0 0;border-top-left-radius:40px;border-top-right-radius:40px;border-bottom-right-radius:40px;border-bottom-left-radius:40px}.navbar li #login-btn-employer a{font-weight:500;color:rgb(255,255,255);display:block;line-height:18px;font-size:16px;padding:10px 0;width:170px;height:56px}.navbar li #login-btn-employer a span{font-weight:400;font-size:12px}.navbar i{margin-right:4px;color:rgba(255,255,255,.6)}.navbar-brand{float:left;height:50px;padding:12px 0 0 25px}.navbar-form{display:inline-block;float:none}.navbar-form input,.navbar-form button{margin:0}.navbar-form .keywords,.navbar-form .location{border:1px solid rgba(255,255,255,.54902);margin-right:8px}.navbar-form .form-control,.navbar-form .input-group-addon{font-weight:400;background-image:none;border:none;border-top-left-radius:0;border-top-right-radius:0;border-bottom-right-radius:0;border-bottom-left-radius:0;box-shadow:none;color:rgb(255,255,255);font-size:14px;height:38px;padding:4px 8px 0;margin:0;background-position:initial initial;background-repeat:initial initial}.navbar-form .input-group-addon i{font-size:22px}.navbar-form .form-control::-webkit-input-placeholder,.navbar-form .input-group-addon::-webkit-input-placeholder{color:rgb(131,83,167)}.navbar-form .form-control::-webkit-input-placeholder,.navbar-form .input-group-addon::-webkit-input-placeholder{color:rgba(100,40,145,.8)}.navbar-form .input-clear{color:rgba(100,40,145,.258824);font-size:20px;margin:auto;position:absolute;right:6px;top:5px}.navbar-form .form-control{padding-left:0}.navbar-form .btn-white{position:relative;font-weight:400;font-style:normal;font-variant:normal;font-size:14px;line-height:normal;font-family:Roboto,sans-serif;height:40px;background-color:rgba(255,255,255,.247059);border:1px solid rgba(255,255,255,.4);border-top-left-radius:0;border-top-right-radius:0;border-bottom-right-radius:0;border-bottom-left-radius:0;color:rgba(255,255,255,.85098);padding:5px 8px;min-width:83px;vertical-align:top;background-position:initial initial;background-repeat:initial initial}.navbar-default>.container-fluid{padding-right:0}.navbar-default .navbar-nav{margin:0 0 0 25px!important}.navbar-default .navbar-nav::before,.navbar-default .navbar-nav::after{content:none}.nav.navbar-nav:first-child li{position:relative}.subnav{padding:0;border-width:1px 0 0;border-top-style:solid;border-top-color:rgb(245,245,245);background-color:rgb(255,255,255)!important;background-position:initial initial!important;background-repeat:initial initial!important}.subnav-nav>li{display:inline-block;float:none;vertical-align:top;margin-right:58px}.navbar-default .navbar-toggle .icon-bar{background-color:#6E46AE}.navbar-toggle{padding:12px 10px}.navbar-toggle .icon-bar{width:24px;height:3px;border-top-left-radius:0;border-top-right-radius:0;border-bottom-right-radius:0;border-bottom-left-radius:0}.navbar-nav>li>.dropdown-menu{border:1px solid rgb(245,245,245)}.navbar-nav>li>.dropdown-menu .dropdown-menu{border:1px solid rgb(245,245,245)}.navbar li #login-btn-employer{margin-right:25px}.menu{position:fixed;top:63px;left:0;width:356px;background-color:#6E46AE;overflow-y:auto;z-index:1999999999;background-position:initial initial;background-repeat:initial initial}#ml-menu-2{left:auto;right:0}.menu__wrap{position:relative;height:100%;overflow:hidden;width:100%}.menu__level{position:absolute;top:0;left:0;visibility:hidden;overflow:hidden;width:100%;height:100%;margin:0;padding:0;list-style-type:none}.menu__level--current{visibility:visible}.navbar .menu__item{display:block;width:100%}.navbar .menu__link{position:relative;display:block;padding:10px 16px;line-height:20px;font-size:14px;font-weight:400;color:#6E46AE;text-decoration:none;border-bottom-width:1px;border-bottom-style:solid;border-bottom-color:rgba(100,40,145,.541176);min-height:40px}.navbar .menu__link[data-submenu]::after{content:\\'\\\\f105\\'!important;font-family:FontAwesome;position:absolute;right:0;top:6px;padding:.25em 1.25em!important;color:#6E46AE!important;font:normal normal normal medium/normal \"FontAwesome\"!important}.menu__wrap .menu__level li:last-of-type .menu__link{border-top-width:1px;border-top-style:solid;border-top-color:rgba(255,255,255,.117647);border-bottom-width:1px;border-bottom-style:solid;border-bottom-color:rgba(255,255,255,.117647)}.action{background-image:none;border:none;display:block;position:absolute;background-position:initial initial;background-repeat:initial initial}.action--open{display:none;color:rgb(255,255,255);position:fixed;z-index:1000}.navbar .action--close,.navbar #ml-menu-2 .action--close-2{font-size:20px;top:5px;right:7px;padding:10px;color:#6E46AE}a.skip-main{height:1px;left:-999px;overflow:hidden;position:absolute;top:0;width:1px;z-index:-999}@media (min-width:992px){.navbar-form{padding:0;width:532px}.navbar-form .keywords,.navbar-form .location{width:39%;margin-right:8px}}@media (max-width:991px) and (min-width:895px){.navbar-form{width:445px}}@media (min-width:768px){.navbar-default .navbar-nav{float:left}.top-subnav .navbar-nav>li>a{border-bottom-width:0;height:44px;line-height:20px;padding:13px 0}.top-subnav .navbar-nav li a{background-image:none;color:rgba(0,0,0,.870588);font-size:14px;font-weight:400;margin:0;background-position:initial initial;background-repeat:initial initial}.navbar.solid-nav .subnav-nav .dropdown>a{background-image:none;border-width:0 0 2px;border-style:none none solid;border-bottom-color:transparent;height:44px;padding:13px 0;background-position:initial initial;background-repeat:initial initial}.dropdown-menu{-webkit-background-clip:padding-box;-webkit-box-shadow:none;background-clip:padding-box;background-color:rgb(255,255,255);border-top-left-radius:0;border-top-right-radius:0;border-bottom-right-radius:0;border-bottom-left-radius:0;border:0 solid rgba(0,0,0,.14902);box-shadow:none;display:none;float:left;left:-25px;list-style:none;margin:0;min-width:160px;padding:12.5px 0;position:absolute;text-align:left;top:100%;width:200px;z-index:1000}.dropdown-menu .dropdown-menu-sub{left:-1px;width:200px}.navbar-right .dropdown-menu{border:1px solid rgb(245,245,245);box-sizing:border-box;padding:6px 0 10px;top:100%}.navbar-right .dropdown .dropdown-menu>li>a{background-color:white;color:rgba(0,0,0,.729412);display:block;font-size:14px;padding:8px 25px;white-space:nowrap}.dropdown .dropdown-menu>li>a{background-color:white;color:rgba(0,0,0,.729412);display:block;font-size:14px;padding:8px 25px;white-space:normal}.menu{display:none}.dropdown .dropdown-menu>li>a{color:rgba(0,0,0,.870588)}.navbar-right .dropdown .dropdown-menu>li>a{color:rgba(0,0,0,.870588)}.dropdown-menu>li{height:auto}.navbar-nav>li>.dropdown-menu{border:0;box-shadow:rgba(0,0,0,.2) 0 1px 2px;left:0;margin-top:4px;padding:0}.navbar-nav>li>.dropdown-menu .dropdown-menu{border:0}.navbar-nav>li>.dropdown-menu .dropdown-menu-sub{background-color:rgb(247,247,247);left:0;position:relative;top:0;background-position:initial initial;background-repeat:initial initial}.navbar-nav>li>.dropdown-menu .dropdown-menu-sub>li{height:0;overflow:hidden}.navbar-right>li>.dropdown-menu,.navbar-right>.account-dropdown>.dropdown-menu{left:auto;right:25px}.navbar-right .dropdown .dropdown-menu>li>a{padding:10px 12px}.dropdown .dropdown-menu>li>a{padding:10px 12px}}@media (max-width:1600px) and (min-width:1300px){.navbar-form{width:632px}}@media (max-width:1300px) and (min-width:1200px){.navbar-form{width:532px}}@media (max-width:1200px) and (min-width:1100px){.navbar-form{width:485px}}@media (max-width:1100px){.navbar-form{width:451px}.navbar-form .keywords,.navbar-form .location{width:35%}.navbar-form .form-control,.navbar-form .input-group-addon{height:38px;font-size:14px}.navbar-form .btn-white{height:40px;font-size:14px;padding-top:6px}}@media (max-width:1001px){.navbar-form{width:400px;padding-left:0}.navbar-form .keywords,.navbar-form .location{border:0;width:37%;margin-right:4px}.navbar-form .input-group-addon i{font-size:18px}}@media (max-width:991px){form .control-label{float:none;width:auto;text-align:left}form .form-actions{padding-left:0}.navbar{margin-top:0;margin-bottom:0}.navbar-form{padding-right:0}.navbar-default .navbar-nav{margin:0}.btn-white{padding:8px 20px}}@media (max-width:950px){body{padding-top:109px}.navbar-default .navbar-nav{margin:0 0 0 25px!important}.navbar .navbar-brand{padding:5px 15px 18px 25px}.navbar .navbar-right{padding-right:0}.navbar.solid-nav .navbar-main{padding-bottom:0}.navbar-form{margin-top:2px}.navbar-form .form-control{padding:6px 12px 5px 0;font-size:12px;height:34px}.navbar-form .input-group-addon{padding:6px 12px 4px;font-size:12px;height:34px}.navbar-form .btn-white{padding:6px 16px 5px;font-size:14px;height:36px}.navbar-form .keywords,.navbar-form .location{width:37%;margin-right:4px}.navbar-form .location .input-group-addon{padding-top:5px}.navbar-default .navbar-nav{margin:0}.btn-white{padding:8px 20px}.navbar-right #login-btn-employer{display:none}}@media (max-width:950px) and (min-width:767px){.navbar-form .input-clear{top:7px}}@media (max-width:767px){body{padding-top:64px}.form-inline button{margin-left:0}header{padding-top:0;padding-bottom:20px}.navbar{margin-top:0;margin-bottom:0;padding:0}.navbar.solid-nav .navbar-main{padding-top:0}.navbar.solid-nav .navbar-text{color:#6E46AE;font-weight:400;background-image:none;font-size:12px;padding:0;display:block;line-height:16px;background-position:initial initial;background-repeat:initial initial}.logo-new-branding-g-header{width:25px;height:25px;background-size:25px;background-image:url(https://securemedia.newjobs.com/global/img/monster-m-logo-purple.svg)!important}.navbar .navbar-right #login-btn-employer{display:none}.navbar .navbar-collapse{overflow:hidden;border:none}.navbar .navbar-collapse .navbar-form{border:none;box-shadow:none}.navbar .navbar-collapse .navbar-form .top-search{text-align:left}.navbar .navbar-collapse .navbar-form .top-search i{width:20px}.navbar .navbar-collapse .navbar-form .top-search.location .input-group-addon{background-image:none;background-position:initial initial;background-repeat:initial initial}.navbar .navbar-collapse .navbar-form .top-search.location .typeahead{background-image:none;background-position:initial initial;background-repeat:initial initial}.navbar .navbar-collapse .navbar-form .top-search.keywords,.navbar .navbar-collapse .navbar-form .top-search.location{margin-right:0}.navbar .navbar-collapse .navbar-form .btn-white{height:40px;margin-top:3px;width:100%;float:left!important}.navbar li #login-btn-employer{position:absolute;right:0;top:-50px}.navbar li #login-btn-employer a{padding:6px 20px 0;height:60px}.navbar .navbar-text{color:#6E46AE;font-weight:400;background-image:none;font-size:14px;line-height:20px;margin:0;padding:6px 0;background-position:initial initial;background-repeat:initial initial}.navbar-form{width:100%;padding:4px 0 14px 6px}.navbar-form .keywords,.navbar-form .location{width:100%}.navbar-form .form-control,.navbar-form .input-group-addon{color:#6E46AE;font-size:14px;height:40px;line-height:24px}.navbar-form .input-group-addon i{font-size:24px;padding-top:1px}.navbar-default>.container-fluid{padding-right:15px}.navbar-default .navbar-collapse{border-color:rgb(212,214,226)}.nav{margin:0 -15px}form .form-control{text-align:left}}@media (max-width:550px){.navbar .navbar-right #login-btn-employer{display:none}}@media (max-width:447px){.navbar-form{width:100%}.container-fluid{padding-left:10px;padding-right:10px}}@media (max-width:767px){.navbar-default .navbar-nav{display:block}.navbar-default>.container-fluid{padding-left:15px;padding-right:15px}.navbar .navbar-collapse{background-color:white;overflow:hidden}.navbar .navbar-toggle.search-btn-container{margin:4px 10px 0 0!important}.navbar-default .navbar-nav{padding-bottom:7px;margin:0px!important}.navbar-default .navbar-nav .dropdown .dropdown-menu>li>a{color:rgb(33,33,33)}.navbar-default .navbar-nav>li>a{color:rgb(33,33,33);font-size:16px}.navbar-default .navbar-nav>li>a>span{color:rgb(33,33,33);font-size:16px}.navbar-toggle{margin-right:10px}.nav>li>a{padding:10px 20px}.navbar-nav .dropdown .dropdown-menu{-webkit-box-shadow:none;background-color:transparent;border:0;box-shadow:none;float:none;margin-top:0;position:static;width:auto}.navbar-nav .dropdown .dropdown-menu>li>a{padding:7px 20px 7px 40px}.navbar .caret{border-bottom-color:rgb(33,33,33);border-top-color:rgb(33,33,33)}.navbar-fixed-top .navbar-collapse{max-height:none}.navbar-header .navbar-toggle-account{background-image:none;color:#6E46AE;font-size:12px;line-height:16px;margin-bottom:0;margin-right:5px;margin-top:6px;padding:6px 5px;position:relative;background-position:initial initial;background-repeat:initial initial}.navbar-toggle-account .navbar-profile-icon{background-size:23px;background-image:url(https://securemedia.newjobs.com/homepage/images/icons/monster-avatar.svg);display:block;height:23px;width:24px;color:transparent;border:1px solid rgb(100,49,146);border-top-left-radius:50%;border-top-right-radius:50%;border-bottom-right-radius:50%;border-bottom-left-radius:50%;background-repeat:no-repeat no-repeat}.navbar-toggle-account .logged-name{white-space:nowrap;max-width:53px;display:inline-block;text-overflow:ellipsis;overflow:hidden;line-height:16px;font-size:12px;font-weight:400}.navbar-collapse{padding-left:0;padding-right:0}.navbar-form{padding:4px 20px 14px}.navbar.solid-nav .keywords{border:none}.navbar.solid-nav .location{border:none}.navbar.solid-nav .form-group .input-group{border:1px solid #6E46AE;border-top-left-radius:0;border-top-right-radius:0;border-bottom-right-radius:0;border-bottom-left-radius:0}}@media (max-width:950px) and (min-width:768px){.navbar-right .account-dropdown .dropdown-menu{right:0;left:auto}}@media (max-width:447px){.container-fluid{padding-left:10px;padding-right:10px}.navbar-toggle{padding:12px 5px}.nav>li>a{padding:10px 16px}}@media (max-width:767px){.action--open,.action--close{display:block}.menu{z-index:1999999999;top:63px;width:400px;-webkit-transform:translate3d(-100%,0,0)}.menu{position:fixed;left:0;width:300px;background-color:rgb(255,255,255);border-width:1px 1px 1px 0;border-top-style:solid;border-right-style:solid;border-bottom-style:solid;border-top-color:rgba(205,205,205,.498039);border-right-color:rgba(205,205,205,.498039);border-bottom-color:rgba(205,205,205,.498039);background-position:initial initial;background-repeat:initial initial}#ml-menu-2.menu{-webkit-transform:translate3d(100%,0,0)}.navbar .navbar-collapse{background-color:#6E46AE;background-position:initial initial;background-repeat:initial initial}.navbar.solid-nav .navbar-main{padding-bottom:0}.navbar .navbar-toggle.search-btn-container{margin-right:0}.navbar .navbar-brand{position:absolute;left:0;right:0;margin:17px auto 0;width:27px;height:29px;padding:0px!important}.navbar-default .navbar-nav{padding-bottom:0}.navbar-toggle{padding:8px;margin:16px 8px 0}.navbar-toggle.nav-trigger{float:left}.navbar-nav .dropdown .dropdown-menu{padding:0}.navbar-nav .dropdown .dropdown-menu>li>a{background-color:rgb(120,68,159);color:rgb(255,255,255);border-top-width:1px;border-top-style:solid;border-top-color:rgba(255,255,255,.117647);padding:10px 16px;background-position:initial initial;background-repeat:initial initial}.navbar-nav .dropdown .dropdown-menu>li:first-child>a{border:0}.navbar-default .navbar-nav .dropdown .dropdown-menu>li>a{color:rgb(255,255,255)}.navbar .navbar-collapse .navbar-form{padding:20px 12px 12px;margin:0}.navbar-form .form-group{margin-bottom:8px}.navbar-form .form-control{height:38px}.navbar-form .input-group-addon{padding:5px 12px 3px;height:38px}.navbar-form .location .input-group-addon{padding-bottom:2px}.navbar.solid-nav .form-group .input-group{border-color:transparent;background-color:rgb(255,255,255);background-position:initial initial;background-repeat:initial initial}.navbar .navbar-collapse .navbar-form .btn-white{background-image:none;border:2px solid;margin-top:4px;padding:8px 12px;background-position:initial initial;background-repeat:initial initial}.navbar-form .input-clear{font-size:24px!important;top:2px!important;right:8px!important;color:rgb(215,199,227)!important}}@media (max-width:500px){.menu{width:80vw}}@media (max-width:480px){.navbar .navbar-brand{padding:0px!important}}@media (max-width:991px){.container{width:100%}}.navbar-form .input-clear{color:rgb(204,204,204);font-family:verdana;font-weight:500;font-size:20px;height:29px;margin:auto;position:absolute;right:7px;top:3px}.navbar-fixed-top .dropdown-toggle{height:auto;border:0 none}@media (max-width:950px) and (min-width:768px){.nav.navbar-nav.navbar-right.hidden-xs{max-width:105px}}@media (max-width:767px){#mobile-navbar-search.navbar-collapse .navbar-form,#mobile-navbar-search.navbar-collapse{overflow:visible}}.navbar-fixed-top .top-subnav .subnav-nav{width:100%}.navbar-nav>li>.dropdown-menu .dropdown-menu-sub{box-shadow:rgba(0,0,0,.2) 0 1px 2px}.dropdown .dropdown-menu>li>a{white-space:normal}.dropdown-menu .dropdown-menu-sub{height:auto;padding:0}@media (max-width:767px){.navbar-toggle-account .navbar-profile-icon{background-position:50% 50%}}#keywords2{background-color:rgb(255,255,255);background-position:98% 50%;background-repeat:no-repeat no-repeat}.tt-hint{height:30px;padding:8px 12px;font-size:14px;line-height:30px;outline:none;background-position:98% 50%}.tt-hint{color:rgb(153,153,153)}.navbar-header .navbar-brand{float:left;height:50px;padding:12px 0 0 25px}@media (min-width:768px){.top-subnav .navbar-nav.subnav-nav li a{color:rgba(0,0,0,.870588)}.top-subnav .navbar-nav>li>.dropdown-menu{margin-top:4px}}body{padding-top:0;overflow:hidden}.navbar.solid-nav .navbar-right .dropdown .loginLink2{background:none;color:#6E46AE;font-size:14px;line-height:22px;margin-right:16px;margin-top:-6px;padding:5px 0 6px;position:relative;display:inline-table;border:0 none}@media (min-width: 951px){.navbar-right .dropdown .loginLink2 .navbar-profile-icon{background-repeat:no-repeat;background-size:36px 36px;height:36px;width:36px}.navbar.solid-nav .navbar-right .dropdown .loginLink2{margin-top:0;margin-bottom:8px;padding:0;margin-right:25px}}@media (min-width: 992px){#quickJobSearch.navbar-form{padding:0;width:532px}#quickJobSearch.navbar-form .keywords,#quickJobSearch.navbar-form .location{width:39%;margin-right:8px}}@media (min-width: 895px) and (max-width:991px){#quickJobSearch.navbar-form{width:445px}}@media (min-width: 1300px){.container-fluid #quickJobSearch.navbar-form{width:632px}}@media (min-width: 1600px){.container-fluid #quickJobSearch.navbar-form{width:732px}}@media (min-width: 1200px) and (max-width:1300px){#quickJobSearch.navbar-form{width:532px}}@media (min-width: 1100px) and (max-width:1200px){#quickJobSearch.navbar-form{width:500px}}@media (min-width: 768px) and (max-width:1100px){#quickJobSearch.navbar-form{width:451px}#quickJobSearch.navbar-form .keywords,#quickJobSearch.navbar-form .location{width:35%}#quickJobSearch.navbar-form .form-control,#quickJobSearch.navbar-form .input-group-addon{height:38px;font-size:14px}#quickJobSearch.navbar-form .btn-white{height:40px;font-size:14px;padding-top:6px}}@media (max-width: 1001px){#quickJobSearch.navbar-form{padding-left:0}#quickJobSearch.navbar-form .keywords,#quickJobSearch.navbar-form .location{width:37%;margin-right:4px}#quickJobSearch.navbar-form .input-group-addon i{font-size:18px}#quickJobSearch.navbar-form .input-group-addon i.fa-map-marker{font-size:20px;padding-top:2px}}@media (max-width: 991px){#quickJobSearch.navbar-form{padding-right:0}}@media (max-width: 950px){#quickJobSearch.navbar-form{margin-top:2px}#quickJobSearch.navbar-form .form-control{padding:6px 12px 5px 0;font-size:12px;height:34px}#quickJobSearch.navbar-form .input-group-addon{padding:6px 12px 4px;font-size:12px;height:34px}#quickJobSearch.navbar-form .btn-white{padding:6px 16px 5px;font-size:14px;height:38px;margin-top:1px}#quickJobSearch.navbar-form .keywords,#quickJobSearch.navbar-form .location{width:37%;margin-right:4px}#quickJobSearch.navbar-form .location .input-group-addon{padding-top:5px}}#quickJobSearch.navbar-form{margin-top:8px;margin-bottom:8px}@media (max-width:950px){.navbar-header .navbar-brand{padding:5px 15px 18px 25px}}.container-fluid.navbar-main{padding-left:15px}@media (max-width:767px){.container-fluid.navbar-main{padding-left:6px;padding-right:6px}}@media (min-width:768px){.navbar.navbar-default>.container-fluid .navbar-brand{margin-left:-15px}}.container-fluid.top-subnav{padding-left:0}h2{padding-left:0}@media (max-width:768px){.page-layout .mux-secondary-navigation{padding-top:61px}}@media (min-width:768px){.page-layout .mux-secondary-navigation{padding-top:109px}}@media (min-width:950px){.page-layout .mux-secondary-navigation{padding-top:125px}}form .form-group{margin-bottom:15px}form .form-actions{padding-top:12px;padding-left:0}form{margin-bottom:1em;display:block;margin-top:0em}form input,form button,form select{margin-right:0}form .form-control{height:40px;border-color:rgb(189,189,189)}.navbar.solid-nav .navbar-main{padding-top:12px;padding-bottom:12px}.navbar-form .form-control{padding:2px 24px 3px 0}.navbar .navbar-collapse .navbar-form .top-search i{width:24px}.navbar-default .navbar-main .navbar-nav{margin:0px!important}.navbar .action--close,.navbar #ml-menu-2 .action--close-2{top:5px;line-height:normal}nav.navbar-2 .navbar-nav.subnav-nav>li>a{background-image:none;border-bottom-width:0;color:rgba(0,0,0,.870588);font-size:14px;font-weight:400;height:44px;line-height:20px;margin:0;padding:13px 0;background-position:initial initial;background-repeat:initial initial}@media (max-width:1100px) and (min-width:768px){nav.navbar-2 .navbar-form .keywords,nav.navbar-2 .navbar-form .location{width:35%;margin-right:8px}}@media (max-width:1001px){.navbar-form .input-group-addon i{font-size:24px}}@media (max-width:991px){.navbar-form{overflow:visible}}@media (max-width:950px){.navbar.solid-nav .navbar-main{padding-bottom:0}nav.navbar-2 .navbar-form .form-control{padding:5px 24px 5px 0}nav.navbar-2 .navbar-form .input-group-addon{padding:4px 8px 0}}@media (max-width:950px) and (min-width:768px){nav.navbar-2 .navbar-form .keywords,nav.navbar-2 .navbar-form .location{width:37%;margin-right:4px}.navbar-right .account-dropdown .dropdown-menu{right:25px;left:auto}}@media (max-width:767px){.navbar.solid-nav .navbar-main{padding-top:0}nav.navbar-2 .navbar-header{height:64px}.menu{top:64px}#mobile-navbar-search.navbar-collapse .navbar-form,#mobile-navbar-search.navbar-collapse{overflow:hidden}.navbar-form .input-clear{font-size:20px!important;color:rgb(196,173,213)!important}.navbar .navbar-collapse{line-height:normal}.navbar-form .keywords,.navbar-form .location{width:100%}}@media (max-width:1600px) and (min-width:1300px){.navbar-form{width:632px}}@media (max-width:1300px) and (min-width:1200px){.navbar-form{width:532px}}@media (max-width:1200px) and (min-width:1100px){.navbar-form{width:485px}}@media (max-width:1100px) and (min-width:768px){.navbar-form{width:451px}.navbar-form .keywords,.navbar-form .location{width:35%}.navbar-form .form-control,.navbar-form .input-group-addon{height:38px;font-size:14px}.navbar-form .btn-white{height:40px;font-size:14px;padding-top:6px}}@media (max-width:1001px) and (min-width:768){.navbar-form{width:400px;padding-left:0}.navbar-form .keywords,.navbar-form .location{border:0;width:37%;margin-right:4px}.navbar-form .input-group-addon i{font-size:18px}}.navbar.solid-nav .navbar-main{padding-bottom:0}html{font-family:sans-serif}body{margin:0}header,main,nav,section{display:block}a{background-color:transparent}h1{font-size:2em;margin:.67em 0}button,input,select{color:inherit;font-family:inherit;font-size:inherit;font-style:inherit;font-variant:inherit;font-weight:inherit;line-height:inherit;margin:0}button{overflow:visible}button,select{text-transform:none}button{-webkit-appearance:button}input{line-height:normal}input[type=\"checkbox\"]{box-sizing:border-box;padding:0}*,::after,::before{box-sizing:border-box}::after,::before{box-sizing:border-box}html{font-size:10px}body{font-family:Roboto,Helvetica,Arial,sans-serif;font-size:14px;line-height:1.428571429;color:rgb(33,33,33);background-color:rgb(255,255,255)}button,input,select{font-family:inherit;font-size:inherit;line-height:inherit}a{color:#6E46AE;text-decoration:none}.sr-only{position:absolute;width:1px;height:1px;margin:-1px;padding:0;overflow:hidden;clip:rect(0 0 0 0);border:0}html{height:100%}body{height:100vh;position:relative}h1,h2,h3,h4{font-family:inherit;font-weight:500;line-height:1.1;color:inherit}h1,h2,h3{margin-top:24px;margin-bottom:12px}h4{margin-top:12px;margin-bottom:12px}h1{font-size:41px}h2{font-size:34px}h3{font-size:28px}h4{font-size:20px}p{margin:0 0 12px}.lead{margin-bottom:24px;font-size:16px;font-weight:300;line-height:1.4}.text-center{text-align:center}ul{margin-top:0;margin-bottom:12px}ul ul{margin-bottom:0}.list-inline{padding-left:0;list-style:none}.list-inline{margin-left:-5px}.icon{background-size:contain;display:inline-block;height:20px;vertical-align:middle;width:20px;background-position:50% 50%;background-repeat:no-repeat no-repeat}label{display:inline-block;max-width:100%;margin-bottom:5px;font-weight:700}input[type=\"checkbox\"]{margin:4px 0 0;line-height:normal}.form-control{display:block;font-size:14px;line-height:1.428571429;color:rgb(158,158,158)}.form-control{width:100%;height:40px;padding:7px 12px;background-color:rgb(255,255,255);background-image:none;border:1px solid rgb(189,189,189);border-top-left-radius:0;border-top-right-radius:0;border-bottom-right-radius:0;border-bottom-left-radius:0;-webkit-box-shadow:rgba(0,0,0,.0745098) 0 1px 1px inset;box-shadow:rgba(0,0,0,.0745098) 0 1px 1px inset}.form-control::-webkit-input-placeholder{color:rgb(189,189,189)}.form-control[disabled]{background-color:rgb(224,224,224);opacity:1}.form-group{margin-bottom:15px}.checkbox{position:relative;display:block;margin-top:10px;margin-bottom:10px}.checkbox label{min-height:24px;padding-left:20px;margin-bottom:0;font-weight:400}.checkbox input[type=\"checkbox\"]{position:absolute;margin-left:-20px}.input-sm{height:33px;padding:5px 10px;font-size:12px;line-height:1.5;border-top-left-radius:0;border-top-right-radius:0;border-bottom-right-radius:0;border-bottom-left-radius:0}[type=\"checkbox\"]{border:0;height:16px;margin:0;opacity:0;outline:rgb(0,0,0);overflow:hidden;padding:0;position:absolute;width:16px}[type=\"checkbox\"]~.control-label{position:relative}[type=\"checkbox\"]~.control-label::before{border:1px solid rgb(189,189,189);content:\\'\\';display:inline-block;height:16px;margin-right:12px;vertical-align:top;width:16px}[type=\"checkbox\"]~.control-label::after{content:\\'\\';left:4px;position:absolute}[type=\"checkbox\"]:checked~.control-label::after{height:20px;left:-2px;top:-6px;width:16px;background-image:url(\\'data:image/svg+xml;charset=utf-8,%3C?xml%20version=\\\\\\'1.0\\\\\\'%20encoding=\\\\\\'UTF-8\\\\\\'?%3E%3C!DOCTYPE%20svg%20PUBLIC%20\\\\\\'-//W3C//DTD%20SVG%201.1//EN\\\\\\'%20\\\\\\'http://www.w3.org/Graphics/SVG/1.1/DTD/svg11.dtd\\\\\\'%3E%3Csvg%20xmlns=\\\\\\'http://www.w3.org/2000/svg\\\\\\'%20xmlns:xlink=\\\\\\'http://www.w3.org/1999/xlink\\\\\\'%20version=\\\\\\'1.1\\\\\\'%20width=\\\\\\'24\\\\\\'%20height=\\\\\\'24\\\\\\'%20viewBox=\\\\\\'0%200%2024%2024\\\\\\'%20fill=\\\\\\'%23642891\\\\\\'%3E%3Cpath%20d=\\\\\\'M21,7L9,19L3.5,13.5L4.91,12.09L9,16.17L19.59,5.59L21,7Z\\\\\\'/%3E%3C/svg%3E\\')}select.form-control{-webkit-appearance:none;background-size:24px;padding-right:32px;text-align:left;background-image:url(\\'data:image/svg+xml;charset=utf-8,%3C?xml%20version=\\\\\\'1.0\\\\\\'%20encoding=\\\\\\'UTF-8\\\\\\'?%3E%3C!DOCTYPE%20svg%20PUBLIC%20\\\\\\'-//W3C//DTD%20SVG%201.1//EN\\\\\\'%20\\\\\\'http://www.w3.org/Graphics/SVG/1.1/DTD/svg11.dtd\\\\\\'%3E%3Csvg%20xmlns=\\\\\\'http://www.w3.org/2000/svg\\\\\\'%20xmlns:xlink=\\\\\\'http://www.w3.org/1999/xlink\\\\\\'%20version=\\\\\\'1.1\\\\\\'%20width=\\\\\\'24\\\\\\'%20height=\\\\\\'24\\\\\\'%20viewBox=\\\\\\'0%200%2024%2024\\\\\\'%20fill=\\\\\\'%23212121\\\\\\'%3E%3Cpath%20d=\\\\\\'M7.41,8.58L12,13.17L16.59,8.58L18,10L12,16L6,10L7.41,8.58Z\\\\\\'/%3E%3C/svg%3E\\');background-position:right 4px top 50%;background-repeat:no-repeat no-repeat}select.form-control[disabled]{background-color:rgb(224,224,224);color:rgb(158,158,158)}.mux-filter .icon-arrow-down,.mux-recent-searches .icon-arrow-down,.select.form-control.disabled,.select.form-control[disabled],select.form-control.disabled,select.form-control[disabled]{background-image:url(\"data:image/svg+xml;charset=utf-8,%3C?xml version=\\'1.0\\' encoding=\\'UTF-8\\'?%3E%3C!DOCTYPE svg PUBLIC \\'-//W3C//DTD SVG 1.1//EN\\' \\'http://www.w3.org/Graphics/SVG/1.1/DTD/svg11.dtd\\'%3E%3Csvg xmlns=\\'http://www.w3.org/2000/svg\\' xmlns:xlink=\\'http://www.w3.org/1999/xlink\\' version=\\'1.1\\' width=\\'24\\' height=\\'24\\' viewBox=\\'0 0 24 24\\' fill=\\'%239e9e9e\\'%3E%3Cpath d=\\'M7.41,8.58L12,13.17L16.59,8.58L18,10L12,16L6,10L7.41,8.58Z\\'/%3E%3C/svg%3E\")}.form-control{color:rgb(33,33,33)}.form-control{-webkit-box-shadow:none;box-shadow:none}.form-actions{margin-bottom:12px;padding-top:12px}.form-inline .form-group{vertical-align:top}.checkbox{padding-left:0}.checkbox label{font-weight:500;padding-left:0}.checkbox input[type=\"checkbox\"]{margin-left:0}.control-label{font-size:14px;font-weight:500;line-height:1.5;display:inline-block;margin-bottom:4px;max-width:100%}.list-inline{margin-left:-4px}.visible-lg,.visible-lg-block,.visible-lg-inline,.visible-lg-inline-block,.visible-md,.visible-md-block,.visible-md-inline,.visible-md-inline-block,.visible-sm,.visible-sm-block,.visible-sm-inline,.visible-sm-inline-block,.visible-xs,.visible-xs-block,.visible-xs-inline,.visible-xs-inline-block{display:none!important}.alerts-layout,.container{margin-right:auto;margin-left:auto;padding-left:6px;padding-right:6px}.alerts-layout::after,.alerts-layout::before,.container::after,.container::before{content:\\' \\';display:table}.alerts-layout::after,.container::after{clear:both}.container-fluid{margin-right:auto;margin-left:auto;padding-left:6px;padding-right:6px}.container-fluid::after,.container-fluid::before{content:\\' \\';display:table}.container-fluid::after{clear:both}.row{margin-left:-6px;margin-right:-6px}.row::after,.row::before{content:\\' \\';display:table}.row::after{clear:both}.col-md-4,.col-md-8,.col-sm-6{position:relative;min-height:1px;padding-left:6px;padding-right:6px}.alerts-layout,.container{padding-left:8px;padding-right:8px}.flex-row{-webkit-box-pack:justify}.flex-col,.flex-row{-webkit-box-align:center;display:-webkit-box}.flex-col,.page-layout{-webkit-box-orient:vertical;-webkit-box-direction:normal}.page-layout{background-color:rgb(245,245,245);display:-webkit-box;min-height:100vh;position:relative;background-position:initial initial;background-repeat:initial initial}.page-layout .page-content{padding:20px 0 0}.page-layout .alerts-layout{-webkit-box-flex:0}.page-layout .page-content{-webkit-box-flex:1}.page-layout .dimmed-only{background-color:rgba(0,0,0,.541176);height:100%;left:0;position:fixed;top:0;width:100%;z-index:99;background-position:initial initial;background-repeat:initial initial}.mux-secondary-navigation .navigation-content,.page-layout .page-content{margin-left:auto;margin-right:auto;padding-left:6px;padding-right:6px}.mux-close{-webkit-appearance:none;background-color:transparent;border:0;height:24px;overflow:hidden;padding:0;position:relative;width:24px;background-position:initial initial;background-repeat:initial initial}.mux-close .icon-close{background-image:url(\\'data:image/svg+xml;charset=utf-8,%3C?xml%20version=\\\\\\'1.0\\\\\\'%20encoding=\\\\\\'UTF-8\\\\\\'?%3E%3C!DOCTYPE%20svg%20PUBLIC%20\\\\\\'-//W3C//DTD%20SVG%201.1//EN\\\\\\'%20\\\\\\'http://www.w3.org/Graphics/SVG/1.1/DTD/svg11.dtd\\\\\\'%3E%3Csvg%20xmlns=\\\\\\'http://www.w3.org/2000/svg\\\\\\'%20xmlns:xlink=\\\\\\'http://www.w3.org/1999/xlink\\\\\\'%20version=\\\\\\'1.1\\\\\\'%20width=\\\\\\'24\\\\\\'%20height=\\\\\\'24\\\\\\'%20viewBox=\\\\\\'0%200%2024%2024\\\\\\'%20fill=\\\\\\'%239e9e9e\\\\\\'%3E%3Cpath%20d=\\\\\\'M19,6.41L17.59,5L12,10.59L6.41,5L5,6.41L10.59,12L5,17.59L6.41,19L12,13.41L17.59,19L19,17.59L13.41,12L19,6.41Z\\\\\\'/%3E%3C/svg%3E\\')}.alerts-layout{padding-left:0;padding-right:0;position:-webkit-sticky;top:20px;z-index:8}.alerts-layout .alerts-content{margin-top:4px;position:absolute;width:100%}.serp{overflow-x:hidden;overflow-y:visible}.serp .page-layout .dimmed-only{z-index:1030}.mux-flyout .flyout-content{display:none;margin-top:8px;position:absolute;top:100%;z-index:100}.mux-flyout .flyout-content::before{border-width:8px;border-style:solid;border-color:transparent transparent rgb(255,255,255);content:\\'\\';height:0;left:20px;position:absolute;top:-16px;width:0}.mux-flyout .card-header.flex-row{-webkit-box-align:start}.mux-flyout .card-header .title{max-width:calc(100% - 24px)}.mux-flyout .card-header .mux-close{-webkit-box-flex:0}.mux-job-card .card-header{margin-bottom:4px}.mux-job-card .card-header .title{font-size:16px;font-weight:400}.mux-job-card .name,.mux-job-card .title{overflow-wrap:break-word;word-break:break-word;word-wrap:break-word;max-width:100%}.mux-job-card .company .name,.mux-job-card .location .name{color:rgb(158,158,158)}.mux-job-card .company .list-inline,.mux-job-card .company .name{display:inline-block;margin-bottom:0}.mux-job-card .company .name{margin-right:8px}.btn,.mux-btn{display:inline-block;margin-bottom:0;font-weight:400;text-align:center;vertical-align:middle;background-image:none;border:1px solid transparent;white-space:nowrap;padding:7px 12px;font-size:14px;line-height:1.428571429;border-top-left-radius:0;border-top-right-radius:0;border-bottom-right-radius:0;border-bottom-left-radius:0}.btn-primary{color:rgb(255,255,255);background-color:#6E46AE;border-color:rgb(86,34,125)}.btn-link{color:#6E46AE;font-weight:400;border-top-left-radius:0;border-top-right-radius:0;border-bottom-right-radius:0;border-bottom-left-radius:0}.btn-link{background-color:transparent;-webkit-box-shadow:none;box-shadow:none}.btn-link{border-color:transparent}.btn-sm{padding:5px 10px}.btn-sm{font-size:12px;line-height:1.5;border-top-left-radius:0;border-top-right-radius:0;border-bottom-right-radius:0;border-bottom-left-radius:0}.mux-btn{padding:7px 20px;font-size:14px;line-height:1.714285714;border-top-left-radius:0;border-top-right-radius:0;border-bottom-right-radius:0;border-bottom-left-radius:0;min-width:100px}.mux-btn.btn-primary{color:rgb(255,255,255)}.mux-btn.btn-primary{background-color:#6E46AE;border-color:#6E46AE;background-position:initial initial;background-repeat:initial initial}.mux-btn.btn-secondary{background-color:rgba(255,255,255,0);background-position:initial initial;background-repeat:initial initial}.mux-btn.btn-secondary{border-color:#6E46AE;color:#6E46AE}.mux-recent-searches .btn-link{color:#9e9e9e}.caret{display:inline-block;width:0;height:0;margin-left:2px;vertical-align:middle;border-top-width:4px;border-top-style:dashed;border-right-width:4px;border-right-style:solid;border-right-color:transparent;border-left-width:4px;border-left-style:solid;border-left-color:transparent}.dropdown{position:relative}.dropdown-menu{position:absolute;top:100%;left:0;z-index:1000;display:none;float:left;min-width:160px;padding:5px 0;margin:2px 0 0;list-style:none;font-size:14px;text-align:left;background-color:rgb(255,255,255);border:1px solid rgba(0,0,0,.14902);border-top-left-radius:0;border-top-right-radius:0;border-bottom-right-radius:0;border-bottom-left-radius:0;-webkit-box-shadow:rgba(0,0,0,.172549) 0 6px 12px;box-shadow:rgba(0,0,0,.172549) 0 6px 12px;background-clip:padding-box}.dropdown-menu>li>a{display:block;padding:3px 20px;clear:both;font-weight:400;line-height:1.428571429;color:rgb(51,51,51);white-space:nowrap}.navbar{position:relative;min-height:50px;margin-bottom:24px;border:1px solid transparent}.navbar::after,.navbar::before{content:\\' \\';display:table}.navbar::after{clear:both}.navbar-header::after,.navbar-header::before{content:\\' \\';display:table}.navbar-header::after{clear:both}.navbar-collapse{overflow-x:visible;padding-right:6px;padding-left:6px;border-top-width:1px;border-top-style:solid;border-top-color:transparent;-webkit-box-shadow:rgba(255,255,255,.0980392) 0 1px 0 inset;box-shadow:rgba(255,255,255,.0980392) 0 1px 0 inset}.navbar-collapse::after,.navbar-collapse::before{content:\\' \\';display:table}.navbar-collapse::after{clear:both}.navbar-fixed-top .navbar-collapse{max-height:340px}.container-fluid>.navbar-collapse,.container-fluid>.navbar-header{margin-right:-6px;margin-left:-6px}.navbar-fixed-top{position:fixed;right:0;left:0;z-index:1030}.navbar-fixed-top{top:0;border-width:0 0 1px}.navbar-brand{float:left;padding:13px 6px;font-size:16px;line-height:24px;height:50px}.navbar-toggle{position:relative;float:right;margin-right:6px;padding:9px 10px;margin-top:8px;margin-bottom:8px;background-color:transparent;background-image:none;border:1px solid transparent;border-top-left-radius:0;border-top-right-radius:0;border-bottom-right-radius:0;border-bottom-left-radius:0}.navbar-toggle .icon-bar{display:block;width:22px;height:2px;border-top-left-radius:1px;border-top-right-radius:1px;border-bottom-right-radius:1px;border-bottom-left-radius:1px}.navbar-toggle .icon-bar+.icon-bar{margin-top:4px}.navbar-nav{margin:6.5px -6px}.navbar-nav>li>a{padding-top:10px;padding-bottom:10px;line-height:24px}.navbar-form{margin:5px -6px;padding:10px 6px;border-top-width:1px;border-top-style:solid;border-top-color:transparent;border-bottom-width:1px;border-bottom-style:solid;border-bottom-color:transparent;-webkit-box-shadow:rgba(255,255,255,.0980392) 0 1px 0 inset,rgba(255,255,255,.0980392) 0 1px 0;box-shadow:rgba(255,255,255,.0980392) 0 1px 0 inset,rgba(255,255,255,.0980392) 0 1px 0}.navbar-nav>li>.dropdown-menu{margin-top:0;border-top-right-radius:0;border-top-left-radius:0}.navbar-text{margin-top:13px;margin-bottom:13px}.navbar-default{background-color:rgb(248,248,248);border-color:rgb(231,231,231)}.navbar-default .navbar-brand{color:rgb(119,119,119)}.navbar-default .navbar-nav>li>a,.navbar-default .navbar-text{color:rgb(119,119,119)}.navbar-default .navbar-toggle{border-color:rgb(221,221,221)}.navbar-default .navbar-toggle .icon-bar{background-color:rgb(136,136,136)}.navbar-default .navbar-collapse,.navbar-default .navbar-form{border-color:rgb(231,231,231)}.mux-company-logo{background-color:rgb(255,255,255);border:1px solid rgb(224,224,224);display:block;overflow:hidden;padding-top:66.666666667%;position:relative;text-align:center;vertical-align:middle;z-index:1;background-position:50% 50%;background-repeat:no-repeat no-repeat}*{box-sizing:border-box}.mux-content-container{position:relative}.mux-filter{display:inline-block}.mux-filter .flyout-content{top:0;width:100%}.mux-filter .mux-card .card-header{margin-bottom:0}.mux-filter .btn-link{color:rgb(158,158,158)}.mux-filter .icon-settings{background-size:80%;margin-right:4px;background-image:url(\\'data:image/svg+xml;charset=utf-8,%3C?xml%20version=\\\\\\'1.0\\\\\\'%20encoding=\\\\\\'UTF-8\\\\\\'?%3E%3C!DOCTYPE%20svg%20PUBLIC%20\\\\\\'-//W3C//DTD%20SVG%201.1//EN\\\\\\'%20\\\\\\'http://www.w3.org/Graphics/SVG/1.1/DTD/svg11.dtd\\\\\\'%3E%3Csvg%20xmlns=\\\\\\'http://www.w3.org/2000/svg\\\\\\'%20xmlns:xlink=\\\\\\'http://www.w3.org/1999/xlink\\\\\\'%20version=\\\\\\'1.1\\\\\\'%20width=\\\\\\'24\\\\\\'%20height=\\\\\\'24\\\\\\'%20viewBox=\\\\\\'0%200%2024%2024\\\\\\'%20fill=\\\\\\'%239e9e9e\\\\\\'%3E%3Cpath%20d=\\\\\\'M3,17V19H9V17H3M3,5V7H13V5H3M13,21V19H21V17H13V15H11V21H13M7,9V11H3V13H7V15H9V9H7M21,13V11H11V13H21M15,9H17V7H21V5H17V3H15V9Z\\\\\\'/%3E%3C/svg%3E\\')}.mux-filter .control-label{margin-top:0}.mux-filter .form-actions{margin-bottom:0}.mux-job-alert{display:inline-block}.mux-job-alert .flyout-content{background-color:rgb(224,245,253);width:100%}.mux-job-alert .lead{font-size:16px;font-weight:400}.mux-job-alert .form-inline .form-group{vertical-align:top}.mux-job-alert .form-inline .gdpr-info input[type=\"checkbox\"]{position:absolute}.mux-job-alert .gdpr-info{margin-top:12px}.mux-job-alert .gdpr-info .control-label{font-size:12px;font-weight:400;display:inline-block}.mux-mobile-header{z-index:6}.mux-search-results .icon-applied{background-image:url(\\'data:image/svg+xml;charset=utf-8,%3C?xml%20version=\\\\\\'1.0\\\\\\'%20encoding=\\\\\\'UTF-8\\\\\\'?%3E%3C!DOCTYPE%20svg%20PUBLIC%20\\\\\\'-//W3C//DTD%20SVG%201.1//EN\\\\\\'%20\\\\\\'http://www.w3.org/Graphics/SVG/1.1/DTD/svg11.dtd\\\\\\'%3E%3Csvg%20xmlns=\\\\\\'http://www.w3.org/2000/svg\\\\\\'%20xmlns:xlink=\\\\\\'http://www.w3.org/1999/xlink\\\\\\'%20version=\\\\\\'1.1\\\\\\'%20width=\\\\\\'24\\\\\\'%20height=\\\\\\'24\\\\\\'%20viewBox=\\\\\\'0%200%2024%2024\\\\\\'%20fill=\\\\\\'%2346c054\\\\\\'%3E%3Cpath%20d=\\\\\\'M20,12A8,8%200%200,1%2012,20A8,8%200%200,1%204,12A8,8%200%200,1%2012,4C12.76,4%2013.5,4.11%2014.2,4.31L15.77,2.74C14.61,2.26%2013.34,2%2012,2A10,10%200%200,0%202,12A10,10%200%200,0%2012,22A10,10%200%200,0%2022,12M7.91,10.08L6.5,11.5L11,16L21,6L19.59,4.58L11,13.17L7.91,10.08Z\\\\\\'/%3E%3C/svg%3E\\')}.mux-card{margin-bottom:24px;background-color:rgb(255,255,255);border:1px solid transparent;border-top-left-radius:0;border-top-right-radius:0;border-bottom-right-radius:0;border-bottom-left-radius:0;-webkit-box-shadow:rgba(0,0,0,.0470588) 0 1px 1px;box-shadow:rgba(0,0,0,.0470588) 0 1px 1px}.mux-card .card-content{padding:20px}.mux-card .card-content::after,.mux-card .card-content::before{content:\\' \\';display:table}.mux-card .card-content::after{clear:both}.mux-card{border:0;-webkit-box-shadow:rgba(0,0,0,.117647) 0 1px 1px;box-shadow:rgba(0,0,0,.117647) 0 1px 1px;margin-bottom:12px}.mux-card .card-content{margin:0;padding:20px;position:relative}.mux-card .card-content~.card-content{border-top-width:1px;border-top-style:solid;border-top-color:rgb(224,224,224)}.mux-card .card-header{margin-bottom:16px}.mux-card .card-header .title{overflow-wrap:break-word;word-break:break-word;word-wrap:break-word;margin:0}.mux-card .card-header .title{font-size:20px;font-weight:400;line-height:1.4}.mux-company-logo{height:98px;padding:4px;width:186px;background-image:url(https://securemedia.newjobs.com/global/img/company.svg)}.mux-company-logo.thumbnail{border-top-left-radius:0;border-top-right-radius:0;border-bottom-right-radius:0;border-bottom-left-radius:0;height:54px;width:98px}.mux-search-results{position:relative;text-align:center}.mux-search-results .icon-saved{background-image:url(\\'data:image/svg+xml;charset=utf-8,%3C?xml%20version=\\\\\\'1.0\\\\\\'%20encoding=\\\\\\'UTF-8\\\\\\'?%3E%3C!DOCTYPE%20svg%20PUBLIC%20\\\\\\'-//W3C//DTD%20SVG%201.1//EN\\\\\\'%20\\\\\\'http://www.w3.org/Graphics/SVG/1.1/DTD/svg11.dtd\\\\\\'%3E%3Csvg%20xmlns=\\\\\\'http://www.w3.org/2000/svg\\\\\\'%20xmlns:xlink=\\\\\\'http://www.w3.org/1999/xlink\\\\\\'%20version=\\\\\\'1.1\\\\\\'%20width=\\\\\\'24\\\\\\'%20height=\\\\\\'24\\\\\\'%20viewBox=\\\\\\'0%200%2024%2024\\\\\\'%20fill=\\\\\\'%23642891\\\\\\'%3E%3Cpath%20d=\\\\\\'M12,21.35L10.55,20.03C5.4,15.36%202,12.27%202,8.5C2,5.41%204.42,3%207.5,3C9.24,3%2010.91,3.81%2012,5.08C13.09,3.81%2014.76,3%2016.5,3C19.58,3%2022,5.41%2022,8.5C22,12.27%2018.6,15.36%2013.45,20.03L12,21.35Z\\\\\\'/%3E%3C/svg%3E\\')}.mux-search-results .flex-row{-webkit-box-align:start;-webkit-box-pack:justify}.mux-search-results .mux-job-card{margin-bottom:24px;text-align:left}.mux-search-results .mux-job-card .card-header{margin-bottom:0}.mux-search-results .mux-job-card .card-header .title{font-size:14px}.mux-search-results .mux-job-card .card-content{padding-bottom:12px;padding-top:12px}.mux-search-results .mux-job-card .summary,.mux-search-results .mux-job-card .thumbnail{margin-right:8px}.mux-search-results .mux-job-card .thumbnail{-webkit-box-flex:0;margin-top:4px}.mux-search-results .mux-job-card .summary{-webkit-box-flex:1;max-width:186px}.mux-search-results .mux-job-card .location{display:-webkit-box}.mux-search-results .mux-job-card .meta{font-size:12px;font-weight:400;-webkit-box-flex:0;min-width:80px;text-align:right}.mux-search-results .mux-job-card .meta.flex-col{-webkit-box-align:end}.mux-search-results .mux-job-card .meta time{display:inline-block;max-width:100%}.mux-search-results .mux-job-card .meta .mux-tooltip{margin-top:4px}.mux-search-results .mux-job-card .meta .mux-tooltip:first-of-type{margin-top:auto}.mux-search-results .mux-job-card .meta .icon{height:16px;width:16px}.mux-search-results .mux-job-card .applied-only,.mux-search-results .mux-job-card .saved-only{display:none}.mux-search-results .mux-job-card .featured-ad{min-height:60px;position:relative}.non-job-content{background-color:#fff}.non-job-content .title{padding:100px 0}.non-job-content .header{color:#3d2462;font-family:HCo Champion Middlewt;font-size:34px;font-stretch:normal;font-style:normal;font-weight:normal;height:96px;letter-spacing:normal;line-height:1.43;margin:0 auto;text-align:center;width:424px}.non-job-content .header .text-style-1{color:#6e46ae}.non-job-content .subheader{color:#6e46ae;font-family:\\'ProximaNova\\',sans-serif;font-size:20px;font-stretch:normal;font-style:normal;font-weight:bold;height:24px;letter-spacing:normal;line-height:1.3;margin:30px auto 0;text-align:center;width:320px}.non-job-content .bg-texture{padding:36px;width:100%}.mux-secondary-navigation{background-color:rgb(255,255,255);position:relative}.mux-secondary-navigation .navigation-content{-webkit-box-align:center;-ms-flex-align:center;align-items:center;display:-webkit-box;display:-ms-flexbox;display:flex;-webkit-box-pack:justify;-ms-flex-pack:justify;justify-content:space-between;-webkit-box-pack:start;-ms-flex-pack:start;justify-content:flex-start;padding:12px 0;position:relative}.mux-secondary-navigation .navigation-content>.title{display:-webkit-box;display:-ms-flexbox;display:flex;white-space:nowrap;width:800px}.mux-secondary-navigation .navigation-content>.title .figure,.mux-secondary-navigation .navigation-content>.title .pivot{overflow:hidden;text-overflow:ellipsis;white-space:nowrap;font-size:16px;font-weight:400;line-height:1.5;display:inline-block;margin-bottom:0;margin-top:0;max-width:75%;vertical-align:bottom}.mux-secondary-navigation .navigation-content>.title .pivot{font-weight:500;padding-right:4px}.mux-secondary-navigation .mux-btn.btn-neat,.mux-secondary-navigation .title{margin:8px 0 8px 40px}.mux-secondary-navigation .flyout-content{left:0}.mux-secondary-navigation .flyout-content::before{display:none}.mux-secondary-navigation .mux-filter .btn-link{margin-left:0}.mux-secondary-navigation .mux-job-alert{margin-left:auto}.mux-secondary-navigation .mux-job-alert .flyout-content{left:auto;right:0}.mux-mobile-navigation{margin:8px 0;overflow-x:scroll;padding:0 8px;position:relative;white-space:nowrap}.mux-mobile-navigation::-webkit-scrollbar{display:none}@media (max-width:991px) and (min-width:768px){.hidden-sm{display:none!important}}@media only screen and (min-width:768px){.mux-secondary-navigation .navigation-content,.page-layout .page-content{width:732px}}@media (min-width:768px){.lead{font-size:21px}.form-inline .form-group{display:inline-block;margin-bottom:0;vertical-align:middle}.form-inline .form-control{display:inline-block;width:auto;vertical-align:middle}.form-inline .input-group{display:inline-table;vertical-align:middle}.form-inline .control-label{margin-bottom:0;vertical-align:middle}.form-inline .checkbox{display:inline-block;margin-top:0;margin-bottom:0;vertical-align:middle}.form-inline .checkbox label{padding-left:0}.form-inline .checkbox input[type=\"checkbox\"]{position:relative;margin-left:0}.alerts-layout,.container{width:732px}.col-sm-6{float:left}.col-sm-6{width:50%}.alerts-layout{width:716px}.navbar-right .dropdown-menu{right:0;left:auto}.navbar{border-top-left-radius:0;border-top-right-radius:0;border-bottom-right-radius:0;border-bottom-left-radius:0}.navbar-header{float:left}.navbar-collapse{width:auto;border-top-width:0;-webkit-box-shadow:none;box-shadow:none}.navbar-collapse.collapse{padding-bottom:0;display:block!important;height:auto!important;overflow:visible!important}.navbar-fixed-top .navbar-collapse{padding-left:0;padding-right:0}.container-fluid>.navbar-collapse,.container-fluid>.navbar-header{margin-right:0;margin-left:0}.navbar-fixed-top{border-top-left-radius:0;border-top-right-radius:0;border-bottom-right-radius:0;border-bottom-left-radius:0}.navbar>.container-fluid .navbar-brand{margin-left:-6px}.navbar-toggle{display:none}.navbar-nav{float:left;margin:0}.navbar-nav>li{float:left}.navbar-nav>li>a{padding-top:13px;padding-bottom:13px}.navbar-form .form-group{display:inline-block;margin-bottom:0;vertical-align:middle}.navbar-form .form-control{display:inline-block;width:auto;vertical-align:middle}.navbar-form .input-group{display:inline-table;vertical-align:middle}.navbar-form .input-group .form-control,.navbar-form .input-group .input-group-addon{width:auto}.navbar-form .input-group>.form-control{width:100%}.navbar-form{width:auto;border:0;margin-left:0;margin-right:0;padding-top:0;padding-bottom:0;-webkit-box-shadow:none;box-shadow:none}.navbar-text{float:left;margin-left:6px;margin-right:6px}.navbar-right{margin-right:-6px;float:right!important}}@media only screen and (max-width:1279px) and (min-width:992px){.mux-secondary-navigation .navigation-content>.title{width:400px}}@media (max-width:1279px) and (min-width:992px){.hidden-md{display:none!important}}@media only screen and (min-width:992px){.mux-secondary-navigation .navigation-content,.page-layout .page-content{width:952px}.serp{overflow-x:auto;overflow-y:hidden}.serp .list-switch,.serp .mux-mobile-navigation{display:none}.serp .page-content>.row,.serp .page-content>.row>.col-md-4,.serp .page-content>.row>.col-md-8{height:100%}.serp .page-content>.row>.col-md-4{width:32.941176471%}.serp .page-content>.row>.col-md-8{width:67.058823529%}.serp .page-layout{background-image:linear-gradient(rgb(255,255,255),rgb(255,255,255) 195px,rgb(245,245,245) 0);background-position:initial initial;background-repeat:initial initial}.serp .page-layout::before{content:\\'\\';display:none}.mux-custom-scroll{height:100%;overflow:hidden;position:relative}.mux-custom-scroll .scrollable::-webkit-scrollbar{display:none}.mux-custom-scroll .scrollable{height:100%;overflow-y:scroll;position:relative}.mux-filter .flyout-content{top:100%;width:600px}.mux-job-alert .flyout-content{width:600px}.mux-search-results{padding-bottom:40px}.mux-secondary-navigation{z-index:9}}@media (min-width:992px){.alerts-layout,.container{width:952px}.col-md-4,.col-md-8{float:left}.col-md-4{width:33.333333333%}.col-md-8{width:66.666666667%}.alerts-layout{width:936px}}@media only screen and (max-width:1365px) and (min-width:1280px){.mux-secondary-navigation .navigation-content>.title{width:600px}}@media only screen and (min-width:1280px){.mux-secondary-navigation .navigation-content,.page-layout .page-content{width:1216px}}@media (min-width:1280px){.hidden-lg{display:none!important}.alerts-layout,.container{width:1216px}.alerts-layout{width:1200px}}@media only screen and (min-width: 1366px){.serp .mux-page-header .header-content, .serp .mux-primary-navigation .navigation-content, .serp .mux-secondary-navigation .navigation-content, .serp .mux-smart-banner .banner-content, .serp .page-layout .page-content{width:1360px}}@media only screen and (max-width:991px){.page-layout .page-content{padding:8px 0 0}.serp .detail-only{display:none}.serp .mux-secondary-navigation,.serp .navbar-fixed-top{position:fixed;width:100%;z-index:6}.serp .mux-mobile-header{z-index:6}.serp .mux-secondary-navigation{padding-top:0;top:65px;z-index:5}.serp .navigation-content>.title{display:none}.serp .btn-mobile-nav{-webkit-animation:c 0.25s;-webkit-transform:translateX(0)}.serp .mux-flyout .flyout-content{margin-top:0;max-height:calc(100% - 64px);top:64px}.serp .mux-search-results{padding-top:80px}.serp .page-content{padding-top:110px}.mux-flyout .flyout-content{max-height:100%;overflow-y:auto;position:fixed;top:0}.mux-job-alert .flyout-content{top:40px}.mux-secondary-navigation .navigation-content{padding-left:16px;padding-right:16px;position:absolute;width:100%}.mux-secondary-navigation .navigation-content .btn-mobile-nav{border-top-left-radius:20px;border-top-right-radius:20px;border-bottom-right-radius:20px;border-bottom-left-radius:20px;background-color:rgb(0,175,240);border:0;color:rgb(255,255,255);font-size:12px;margin:0;padding:2px 8px;position:relative;z-index:2;background-position:initial initial;background-repeat:initial initial}.mux-secondary-navigation .navigation-content .mux-filter .icon-arrow-down,.mux-secondary-navigation .navigation-content .mux-filter .icon-settings{display:none}.mux-secondary-navigation .navigation-content .mux-job-alert{margin-left:12px;padding:0}.mux-secondary-navigation .navigation-content>.title{font-size:14px;font-weight:400;margin-left:0;-webkit-box-ordinal-group:4;width:100%}}@media only screen and (max-width:767px){.alerts-layout{width:100%}.serp .page-content{padding-top:64px}.serp .page-content>.row>.col-md-4,.serp .page-content>.row>.col-md-8{padding-left:0;padding-right:0;width:100vw}.mux-company-logo{height:54px;width:98px}}@media screen{.dimmed-only{display:none}}@media (max-width:767px){.hidden-xs{display:none!important}.navbar-form .form-group{margin-bottom:5px}}@media (max-device-width:480px) and (orientation:landscape){.navbar-fixed-top .navbar-collapse{max-height:200px}}@media only screen and (max-width:1365px){.mux-search-results .thumbnail{display:none}}.icon{background-size:contain;display:inline-block;height:20px;vertical-align:middle;width:20px;background-position:50% 50%;background-repeat:no-repeat no-repeat}.nav{margin-bottom:0;padding-left:0;list-style:none}.nav::after,.nav::before{content:\\' \\';display:table}.nav::after{clear:both}.nav>li,.nav>li>a{position:relative;display:block}.nav>li>a{padding:10px 15px}.caret{display:inline-block;width:0;height:0;margin-left:2px;vertical-align:middle;border-top-width:4px;border-top-style:dashed;border-right-width:4px;border-right-style:solid;border-right-color:transparent;border-left-width:4px;border-left-style:solid;border-left-color:transparent}.dropdown{position:relative}.dropdown-menu{position:absolute;top:100%;left:0;z-index:1000;display:none;float:left;min-width:160px;padding:5px 0;margin:2px 0 0;list-style:none;font-size:14px;text-align:left;background-color:rgb(255,255,255);border:1px solid rgba(0,0,0,.14902);border-top-left-radius:0;border-top-right-radius:0;border-bottom-right-radius:0;border-bottom-left-radius:0;-webkit-box-shadow:rgba(0,0,0,.172549) 0 6px 12px;box-shadow:rgba(0,0,0,.172549) 0 6px 12px;background-clip:padding-box}.dropdown-menu>li>a{display:block;padding:3px 20px;clear:both;font-weight:400;line-height:1.428571429;color:rgb(51,51,51);white-space:nowrap}.mux-company-logo{background-color:rgb(255,255,255);border:1px solid rgb(224,224,224);display:block;overflow:hidden;padding-top:66.666666667%;position:relative;text-align:center;vertical-align:middle;z-index:1;background-position:50% 50%;background-repeat:no-repeat no-repeat}.mux-company-logo{height:98px;padding:4px;width:186px;background-image:url(https://securemedia.newjobs.com/global/img/company.svg)}.mux-company-logo.thumbnail{height:54px;width:98px}.mux-card{margin-bottom:24px;background-color:rgb(255,255,255);border:1px solid transparent;border-top-left-radius:0;border-top-right-radius:0;border-bottom-right-radius:0;border-bottom-left-radius:0;-webkit-box-shadow:rgba(0,0,0,.0470588) 0 1px 1px;box-shadow:rgba(0,0,0,.0470588) 0 1px 1px}.mux-card .card-content{padding:20px}.mux-card .card-content::after,.mux-card .card-content::before{content:\\' \\';display:table}.mux-card .card-content::after{clear:both}.mux-card{border:0;-webkit-box-shadow:rgba(0,0,0,.117647) 0 1px 1px;box-shadow:rgba(0,0,0,.117647) 0 1px 1px;margin-bottom:12px}.mux-card .card-content{margin:0;padding:20px;position:relative}.mux-card .card-content~.card-content{border-top-width:1px;border-top-style:solid;border-top-color:rgb(224,224,224)}.mux-card .card-header{margin-bottom:16px}.mux-card .card-header .title{overflow-wrap:break-word;word-break:break-word;word-wrap:break-word;margin:0}.mux-card .card-header .title{font-size:20px;font-weight:400;line-height:1.4}.mux-close{-webkit-appearance:none;background-color:transparent;border:0;height:24px;overflow:hidden;padding:0;position:relative;width:24px;background-position:initial initial;background-repeat:initial initial}.mux-close .icon-close{background-image:url(\\'data:image/svg+xml;charset=utf-8,%3C?xml%20version=\\\\\\'1.0\\\\\\'%20encoding=\\\\\\'UTF-8\\\\\\'?%3E%3C!DOCTYPE%20svg%20PUBLIC%20\\\\\\'-//W3C//DTD%20SVG%201.1//EN\\\\\\'%20\\\\\\'http://www.w3.org/Graphics/SVG/1.1/DTD/svg11.dtd\\\\\\'%3E%3Csvg%20xmlns=\\\\\\'http://www.w3.org/2000/svg\\\\\\'%20xmlns:xlink=\\\\\\'http://www.w3.org/1999/xlink\\\\\\'%20version=\\\\\\'1.1\\\\\\'%20width=\\\\\\'24\\\\\\'%20height=\\\\\\'24\\\\\\'%20viewBox=\\\\\\'0%200%2024%2024\\\\\\'%20fill=\\\\\\'%239e9e9e\\\\\\'%3E%3Cpath%20d=\\\\\\'M19,6.41L17.59,5L12,10.59L6.41,5L5,6.41L10.59,12L5,17.59L6.41,19L12,13.41L17.59,19L19,17.59L13.41,12L19,6.41Z\\\\\\'/%3E%3C/svg%3E\\')}.clearfix::after,.clearfix::before{content:\\' \\';display:table}.clearfix::after{clear:both}.center-block{display:block;margin-left:auto;margin-right:auto}.hide{display:none!important}.hidden{display:none!important}.mux-job-preview{min-height:350px;outline:none;position:relative}.btn,.mux-btn{display:inline-block;margin-bottom:0;font-weight:400;text-align:center;vertical-align:middle;background-image:none;border:1px solid transparent;white-space:nowrap;padding:7px 12px;font-size:14px;line-height:1.428571429;border-top-left-radius:0;border-top-right-radius:0;border-bottom-right-radius:0;border-bottom-left-radius:0}.btn-primary{color:rgb(255,255,255);background-color:#6E46AE;border-color:rgb(86,34,125)}.btn-link{color:#6E46AE;font-weight:400;border-top-left-radius:0;border-top-right-radius:0;border-bottom-right-radius:0;border-bottom-left-radius:0}.btn-link{background-color:transparent;-webkit-box-shadow:none;box-shadow:none}.btn-link{border-color:transparent}.btn-sm{padding:5px 10px}.btn-sm{font-size:12px;line-height:1.5;border-top-left-radius:0;border-top-right-radius:0;border-bottom-right-radius:0;border-bottom-left-radius:0}.mux-btn{padding:7px 20px;font-size:14px;line-height:1.714285714;border-top-left-radius:0;border-top-right-radius:0;border-bottom-right-radius:0;border-bottom-left-radius:0;min-width:100px}.mux-btn.btn-primary{color:rgb(255,255,255)}.mux-btn.btn-primary{background-color:#6E46AE;border-color:#6E46AE;background-position:initial initial;background-repeat:initial initial}.mux-btn.btn-secondary{background-color:rgba(255,255,255,0);background-position:initial initial;background-repeat:initial initial}.mux-btn.btn-secondary{border-color:#6E46AE;color:#6E46AE}.mux-btn.btn-neat{border:0;margin:0;min-width:0;padding:0}@media (min-width:768px){.navbar-right .dropdown-menu{right:0;left:auto}}@media only screen and (max-width:767px){.mux-company-logo{height:54px;width:98px}}.mux-search-results .icon-menu-down{background-image:url(\"data:image/svg+xml;charset=utf-8,%3Csvg xmlns=\\\\\\'http://www.w3.org/2000/svg\\\\\\' width=\\\\\\'24\\\\\\' height=\\\\\\'24\\\\\\' viewBox=\\\\\\'0 0 24 24\\\\\\' fill=\\\\\\'%23bdbdbd\\\\\\'%3E%3Cpath d=\\\\\\'M7 10l5 5 5-5H7z\\\\\\'/%3E%3C/svg%3E\")}.mux-search-results .icon-menu-up{background-image:url(\"data:image/svg+xml;charset=utf-8,%3Csvg xmlns=\\\\\\'http://www.w3.org/2000/svg\\\\\\' width=\\\\\\'24\\\\\\' height=\\\\\\'24\\\\\\' viewBox=\\\\\\'0 0 24 24\\\\\\' fill=\\\\\\'%23bdbdbd\\\\\\'%3E%3Cpath d=\\\\\\'M7 15l5-5 5 5H7z\\\\\\'/%3E%3C/svg%3E\")}.mux-search-results .mux-job-card .is-fenced-hide{display:none}.mux-search-results .fenced-alternative,.mux-search-results .fenced-section{background:#f5f5f5;display:inline-grid;font-size:12.5px;text-align:center;width:100%}.mux-search-results .fenced-alternative.inline,.mux-search-results .fenced-section.inline{padding:20px 0 10px}.mux-search-results .fenced-alternative.is-fenced-hide,.mux-search-results .fenced-section.is-fenced-hide{display:none}.mux-search-results .fenced-alternative .name,.mux-search-results .fenced-section .name{color:#9e9e9e}.mux-search-results .fenced-alternative .mux-btn,.mux-search-results .fenced-section .mux-btn{background:0 0;color:#6E46AE;font-size:12px;font-weight:500}.mux-search-results .fenced-alternative .icon,.mux-search-results .fenced-section .icon{vertical-align:top}.mux-search-results .mux-btn.load-more-btn.is-fenced-hide{display:none}.mux-search-results .mux-btn.no-more-jobs-btn.is-fenced-hide{display:none}.fiticon.good{background-image:url(https://securemedia.newjobs.com/marketing/2019Q4/fit-good.png);display:inline-block;background-size:contain;vertical-align:middle;background-repeat:no-repeat}.fiticon.strong{background-image:url(https://securemedia.newjobs.com/marketing/2019Q4/fit-strong.png);display:inline-block;background-size:contain;vertical-align:middle;background-repeat:no-repeat}.fiticon.potential{background-image:url(https://securemedia.newjobs.com/marketing/2019Q4/fit-potential.png);display:inline-block;background-size:contain;vertical-align:middle;background-repeat:no-repeat}\\r\\n\\r\\n.mux-job-cards [class*=col-].inverse-colors {\\r\\n    background-color: #6E46AE;\\r\\n    color: #fff;\\r\\n}\\r\\n\\r\\n#policy-top.widget.popup-widget{background:#E6852B;width:852px;position:fixed;top:-120px;left:50%;margin-left:-410px;padding:0;z-index:1030;border:0;box-shadow:0 2px 12px rgba(0,0,0,.2);transition:.5s}#policy-top.widget.popup-widget.reveal{top:148px;transition:.5s}#policy-top.widget.popup-widget .widget-head{color:#fff;border:0;border-bottom:1px solid rgba(255,255,255,.26);border-radius:0;padding:8px 15px 9px}#policy-top.widget.popup-widget .widget-head .fa{width:30px;padding-right:12px;display:table-cell;vertical-align:top}#policy-top.widget.popup-widget .widget-content{color:#fff;background:none;padding:0 15px 1px}#policy-top.widget.popup-widget .widget-content h5{color:#fff;font-weight:500}#policy-top.widget.popup-widget .marked-title{width:98%;display:table}#policy-top.widget.popup-widget .marked-title h5,#policy-top.widget.popup-widget .marked-title .h5{color:#fff;text-shadow:none;display:table-cell;padding-top:2px}#policy-top .form-control{font-weight:400;height:40px;color:#212121;border-color:#bdbdbd;border-color:rgba(0,0,0,.26)}#policy-top.widget.popup-widget .form-control{width:350px;margin-right:4px;border:0;display:inline-block}#policy-top.widget.widget-head.widget-content h5{color:#fff;nt-weight:400;text-shadow:none}#policy-top.save_search_header{font-size:14px;font-weight:400;line-height:24px;margin-bottom:9px;display:block}#policy-top.widget.popup-widget .savedSearches h5{font-weight:300;text-shadow:none;color:#fff}#policy-top.widget.popup-widget .savedSearches h5 a{font-weight:300;text-shadow:none;text-decoration:underline;color:#fff}#policy-top.widget.popup-widget .savedSearchesstrong{font-weight:600}#policy-top.widget.popup-widget .close-icon{position:absolute;padding:8px;right:0;top:0;font-size:20px;color:#8ADAF8;color:rgba(255,255,255,.54);cursor:pointer}#policy-top.widget.popup-widget .close-icon:hover{color:#DEF5FD;color:rgba(255,255,255,.87)}#policy-top.widget.popup-widget .close-icon{margin-top:5px;position:absolute;padding:8px;right:0;top:0;font-size:20px;color:#8ADAF8;color:rgba(255,255,255,.54);cursor:pointer}#policy-top.widget.popup-widget .close-icon:hover{color:#DEF5FD;color:rgba(255,255,255,.87)}@media (max-width:767px){#policy-top.widget.popup-widget{width:300px;top:-350px;margin-left:-154px;margin-top:89px}#policy-top.widget.popup-widget.reveal{top:74px}#policy-top.widget.popup-widget .form-control{width:100%;display:block}#policy-top.widget.popup-widget .emailButtonModalPopup{width:100%;display:block}#policy-top .litRegPrivacy{display:block}#policy-top.widget.popup-widget.error-state .error-box{margin-top:0;margin-bottom:12px}#policy-top .label--checkbox{margin-left:0;margin-top:4px}}\\r\\n    </style>\\r\\n\\r\\n<!--[if IE 8]>\\r\\n      <link rel=\"stylesheet\" type=\"text/css\" href=\"https://securemedia.newjobs.com/niche/css/generic-template/style-ie.css\" />\\r\\n<![endif]-->\\r\\n<!--[if lt IE 9]>\\r\\n<script src=\"https://securemedia.newjobs.com/niche/js/html5shim.js\"></script>\\r\\n<script src=\"/siteassets/scripts/respond.js\" type=\"text/javascript\"></script>\\r\\n<![endif]-->\\r\\n\\r\\n\\r\\n\\r\\n    <link rel=\"canonical\" href=\"https://www.monster.com/jobs/search/?q=Data-Scientist&amp;where=California\" />\\r\\n<link id=\"favIcon\" runat=\"server\" rel=\"shortcut icon\" href=\"https://securemedia.newjobs.com/favicon.ico\" />\\r\\n<meta name=\"description\" content=\"Explore California Data Scientist jobs and career resources on Monster. Find all the information you need to land a Data Scientist job in California and build a career.\" />\\r\\n<meta name=\"keywords\" content=\"California Data Scientist jobs, California Data Scientist career resources, California Data Scientist careers, California Data Scientist job, California Data Scientist career, California Data Scientist employment, California Data Scientist work, California Data Scientist job opportunities, California Data Scientist employment opportunities\" />\\r\\n<meta name=\"SL.domain\" content=\"login.monster.com\" />\\r\\n<meta name=\"SL.channelAlias\" content=\"MONS\" />\\r\\n    <meta content=\"Data Scientist Jobs in California. California Data Scientist Jobs. | Monster.com\" property=\"og:title\" />\\r\\n    <meta content=\"website\" property=\"og:type\" />\\r\\n    <meta content=\"https://www.monster.com/jobs/search/?q=Data-Scientist&amp;where=California\" property=\"og:url\" />\\r\\n    <meta content=\"https://securemedia.newjobs.com/id/lpf20/CORE/icon-50-m.png\" property=\"og:image\" />\\r\\n    <meta content=\"Monster\" property=\"og:site_name\" />\\r\\n    <meta content=\"Explore California Data Scientist jobs and career resources on Monster. Find all the information you need to land a Data Scientist job in California and build a career.\" property=\"og:description\" />\\r\\n    <meta content=\"Data Scientist Jobs in California. California Data Scientist Jobs. | Monster.com\" itemprop=\"name\" />\\r\\n    <meta content=\"Explore California Data Scientist jobs and career resources on Monster. Find all the information you need to land a Data Scientist job in California and build a career.\" itemprop=\"description\" />\\r\\n    <meta content=\"https://securemedia.newjobs.com/id/lpf20/CORE/icon-50-m.png\" itemprop=\"image\" />\\r\\n    <meta content=\"Site=United States&mURL=http://www.monster.com/search/?q=Data-Scientist&where=California&lid=342\" name=\"OAS_query\" />\\r\\n    <link rel=\"next\" href=\"https://www.monster.com/jobs/search/?page=2\" />\\r\\n<script>\\r\\n        window.MONS_LOCALES = {\\r\\n            coda: {\\r\\n                images: \\'https://coda.newjobs.com/Assets/MUX/JaJobViewCloud/2020.09.0.805/img/\\'\\r\\n            }\\r\\n        }\\r\\n        window.onMsgsReady = function (msgs) {\\r\\n            window.MONS_LOCALES.msg = msgs;\\r\\n    };\\r\\n</script>\\r\\n\\r\\n\\r\\n    <script defer src=\"https://logs.jobs.com/coreTrackFP\" type=\"text/javascript\"></script>\\r\\n    <script defer src=\"https://logs.jobs.com/coreTrack\" type=\"text/javascript\"></script>\\r\\n    <script defer src=\"https://js-seeker.newjobs.com/MONS/v4.1.2.8/ps.deferload.coretrack_js.axd?s=1\" type=\"text/javascript\"></script>\\r\\n\\r\\n<script type=\"text/javascript\" defer src=\"https://coda.newjobs.com/Assets/MUX/CoreLpf20/2020.06.0.176/msgset;MONS/app.lpf20.ids?callback=onMsgsReady\"></script>\\r\\n<script type=\"text/javascript\" defer src=\"https://coda.newjobs.com/Assets/MUX/JaJobViewCloud/2020.09.0.805/js/app.js30.bundle.js\" id=\"AppJs30\" data-locales=\"https://coda.newjobs.com/Assets/MUX/JaJobViewCloud/2020.09.0.805/msgset;MONS/app.js30.ids\"></script>\\r\\n<script type=\"text/javascript\" defer src=\"https://coda.newjobs.com/Assets/MUX/CoreLpf20/2020.06.0.176/js/app.lpf20.bundle.js\" id=\"AppLpf20\" data-locales=\"https://coda.newjobs.com/Assets/MUX/CoreLpf20/2020.06.0.176/msgset;MONS/app.lpf20.ids\"></script>\\r\\n\\r\\n        <link href=\"https://css-seeker.newjobs.com/MONS/v4.1.2.13/js30.hybridviewdesk_css.axd?s=1\" type=\"text/css\" rel=\"stylesheet\" media=\"none\" onload=\"if(media!=\\'all\\')media=\\'all\\'\" />\\r\\n        <noscript><link rel=\"stylesheet\" href=\"https://css-seeker.newjobs.com/MONS/v4.1.2.13/js30.hybridviewdesk_css.axd?s=1\"></noscript>\\r\\n            <link href=\"https://css-seeker.newjobs.com/MONS/v4.1.2.10/js30.global.responsive_css.axd?s=1\" type=\"text/css\" rel=\"stylesheet\" media=\"none\" onload=\"if(media!=\\'all\\')media=\\'all\\'\" />\\r\\n            <noscript><link rel=\"stylesheet\" href=\"https://css-seeker.newjobs.com/MONS/v4.1.2.10/js30.global.responsive_css.axd?s=1\"></noscript>\\r\\n\\r\\n    <script defer type=\"text/javascript\" src=\"https://js-seeker.newjobs.com/MONS/v4.1.2.14/js30.hybridview_js.axd?s=1\"></script>\\r\\n\\r\\n\\r\\n\\r\\n\\r\\n\\r\\n\\r\\n\\r\\n\\r\\n<script type=\"application/ld+json\">\\r\\n    {\\r\\n    \"@context\" : \"http://schema.org\",\\r\\n    \"@type\" : \"Organization\",\\r\\n    \"name\" : \"Monster\",\\r\\n    \"url\" : \"https://www.monster.com/jobs/search/?q=Data-Scientist&amp;where=California\",\\r\\n    \"logo\" : \"https://media.newjobs.com/global/img/header-m.png\",\\r\\n    \"sameAs\" : [ \"https://twitter.com/Monster\", \"https://www.facebook.com/monster\", \"https://plus.google.com/+monster\", \"https://www.youtube.com/monster\", \"https://instagram.com/monster\"]\\r\\n    }\\r\\n</script>\\r\\n\\r\\n        <script>\\r\\n            //Collect all document ready function or handler and put it in queue where it will be executed once the Jquery is loaded\\r\\n            (function (w, d, u) {\\r\\n                w.readyQ = [];\\r\\n                w.bindReadyQ = [];\\r\\n                w.loadQ = [];\\r\\n                w.bindLoadQ = [];\\r\\n\\r\\n                function p(x, y) {\\r\\n                    if (x == \"ready\") {\\r\\n                        w.bindReadyQ.push(y);\\r\\n                    } else {\\r\\n                        w.readyQ.push(x);\\r\\n                    }\\r\\n                };\\r\\n                function q(x, y) {\\r\\n                    if (x == \"load\") {\\r\\n                        w.bindLoadQ.push(y);\\r\\n                    } else {\\r\\n                        w.loadQ.push(x);\\r\\n                    }\\r\\n                };\\r\\n                var a = {\\r\\n                    ready: p,\\r\\n                    bind: p\\r\\n                };\\r\\n                var b = {\\r\\n                    load: q,\\r\\n                    bind: q\\r\\n                };\\r\\n                w.$ = w.jQuery = function (f) {\\r\\n                    if (f === d || f === u) {\\r\\n                        return a\\r\\n                    }\\r\\n                    else if (f === w) {\\r\\n                        return b\\r\\n                    } else {\\r\\n                        p(f)\\r\\n                    }\\r\\n                }\\r\\n            })(window, document)\\r\\n        </script>\\r\\n    \\r\\n<meta content=\"Monster\" name=\"m_impr.a_affiliate_id\" /><meta content=\"q=Data%20Scientist&amp;brd=1&amp;brd=2&amp;cy=US&amp;pp=25&amp;sort=rv.di.dt&amp;nosal=true&amp;geo=California%2c32.18688%2c0%2c0%2c342%2cState&amp;stp=ScoreFenceHash\" name=\"m_impr.s_search_query\" />\\r\\n<meta content=\"Data Scientist\" name=\"m_impr.s_q\" />\\r\\n<meta content=\"California\" name=\"m_impr.s_where\" />\\r\\n<meta content=\"1\" name=\"m_impr.j_pg\" />\\r\\n\\r\\n    \\r\\n\\r\\n\\r\\n\\r\\n    \\r\\n<script type=\"text/javascript\" src=\"//nexus.ensighten.com/monster/limited_prod/Bootstrap.js\" defer></script>\\r\\n    \\r\\n    \\r\\n<meta name=\"debugInfo\" content=\"\\r\\n\"/>\\r\\n    <script type=\"text/javascript\">\\r\\n        var inHeadTS = (new Date()).getTime();\\r\\n    </script>\\r\\n    \\r\\n</head>\\r\\n<body\\r\\n  class=\"serp \"\\r\\n  data-mux=\"serp\"\\r\\n  data-event=\"jobApplyCompleteEvent\"\\r\\n  data-apply-confirmation-info-url=\"//job-openings.monster.com/v2/job/json-applyconfirmation?Js30Flow=1\"\\r\\n  data-report-job-msg=\"Your report has been received. We appreciate your help in identifying issues on our site.\"\\r\\n  data-duplicate-apply-for-job-msg=\"Already applied to this job with this resume.\"\\r\\n  data-new-user-account-msg=\"Welcome! Your Monster account has been created; check your email for additional information.\"\\r\\n  data-signup-alert=\"Welcome{firstName}, press Apply Now to start your application at the employer&#39;s site.\"\\r\\n  data-login-alert=\"Welcome back{firstName}, press Apply Now to start your application at the employer&#39;s site.\"\\r\\n  data-user-firstname=\"\"\\r\\n  data-list-switch=\"#ListSwitch\"\\r\\n>\\r\\n\\r\\n<script defer type=\"text/javascript\" src=https://js-seeker.newjobs.com/MONS/v4.1.2.10/ps.deferload.atm_js.axd?s=1></script>\\r\\n<script type=\"text/javascript\">\\r\\n            //<![CDATA[\\r\\n            var amc=amc||{};if(!amc.on){amc.on=amc.call=function(){}};\\r\\n            document.write(\"<scr\" + \"ipt defer type=\\'text/javascript\\' src=\\'https:///securemedia.newjobs.com/js/sc/sitecatalystLL.js\\'></sc\" + \"ript>\");\\r\\n            //]]>\\r\\n</script>\\r\\n<input type=\"hidden\" id=\"atm_var\" value={&quot;AccountName&quot;:&quot;newjobsProdSeekerUS&quot;,&quot;AppConfig&quot;:{&quot;AppID&quot;:&quot;lpf&quot;,&quot;ChannelID&quot;:&quot;58&quot;,&quot;CountryID&quot;:&quot;164&quot;,&quot;Version&quot;:&quot;0&quot;},&quot;AppID&quot;:&quot;lpf&quot;,&quot;ChannelID&quot;:58,&quot;CountryID&quot;:164,&quot;CurrencyCode&quot;:&quot;USD&quot;,&quot;InitFromOnReady&quot;:false,&quot;PageName&quot;:&quot;desktop|mons|lpf|jobsearch-trovix-cloud&quot;,&quot;Properties&quot;:&quot;%7b+%22eVar2%22%3a%22unrecognized%22%2c%22channel%22%3a%2258%22%2c%22eVar1%22%3a%22D%3dg%22%2c%22prop1%22%3a%22D%3dg%22%2c%22eVar4%22%3a%220%22%2c%22eVar17%22%3a%22California%22%2c%22eVar16%22%3a%22trovix-cloud%22%2c%22eVar23%22%3a%221001%2b%22%2c%22eVar19%22%3a%22Data+Scientist%22%2c%22eVar24%22%3a%221%22%2c%22eVar18%22%3a%22Unspecified%22%2c%22events.event1%22%3a%22jobsearch%22%2c%22eVar20%22%3a%22Unspecified%22%2c%22list2%22%3a%22Unspecified%22%2c%22list1%22%3a%22Unspecified%22%2c%22eVar21%22%3a%22Unspecified%22%2c%22prop16%22%3a%22Unspecified%22%2c%22prop17%22%3a%22Unspecified%22%2c%22prop18%22%3a%22Unspecified%22%2c%22prop19%22%3a%22Unspecified%22%2c%22eVar22%22%3a%22Unspecified%22%2c%22events.event27%22%3a%22true%22%2c%22eVar73%22%3a%22bolded-0_logo-18_bolded-logo-0_regular-8%22%2c%22list3%22%3a%22ViewSplit_NewCardView%2cEmptySearchSplit_Default%2cBAMLiteSplit_BamLite%2cQualifyingTagsSplit_Control%2cTypeaheadElasticSearchSplit_NewElasticSearch%2cSalaryDisplaySplit_Default%2cSavedJobsSplit_Default%2cJobSearchJobViewHybridSplit_JobSearchJobViewHybridView%2cJobSearchJobViewPureSplit_JobSearchJobViewPureView%2cAdsSplit_Default%2cSsrStateExcludeSplit_SsrStateExcludeEnable%2cBrandingCompanyLogoSplit_BrandingCompLogo%2cJVLoadNonJobContentSplit_JvNonJobContentWithUX%2cSsrRestrictKwdParamSplit_SsrRestrictKwdParamEnable%2cJobSearchFencedEnableSplit_Default%2cFitIconScoreCardSplit_Default%22%2c%22eVar43%22%3a%22Cloud+Search+Y%22+%7d&quot;,&quot;RegisteredConfigs&quot;:null,&quot;RunOnLoad&quot;:true,&quot;Version&quot;:&quot;0&quot;} />\\r\\n    \\r\\n<div style=\"display:none;\"></div>\\r\\n        <script defer type=\"text/javascript\" src=https://js-seeker.newjobs.com/MONS/v4.1.2.30/ps.deferload_js.axd?s=1></script>\\r\\n    \\r\\n\\r\\n\\r\\n\\r\\n\\r\\n\\r\\n    <div class=\"page-layout\">\\r\\n        <div id=\"headerWidget\">\\r\\n\\r\\n\\r\\n<input type=\"hidden\" id=\"AcceptCookies\" value=\"True\" />\\r\\n\\r\\n<input type=\"hidden\" id=\"lpfDomainPath\" value=\"https://www.monster.com/jobs\" />\\r\\n<input type=\"hidden\" id=\"servicesDomainPath\" value=\"https://www.monster.com/jobs\" />\\r\\n<input type=\"hidden\" id=\"inboxLink\" value=\"https://www.monster.com/message/inbox\" />\\r\\n<input type=\"hidden\" id=\"countryId\" value=\"164\" />\\r\\n<input type=\"hidden\" id=\"showLocationTypeAheadTrovix\" value=\"True\" />\\r\\n<input type=\"hidden\" id=\"showLocationTypeAheadLucene\" value=\"False\" />\\r\\n<input type=\"hidden\" id=\"showKeywordTypeAheadTrovix\" value=\"True\" />\\r\\n<input type=\"hidden\" id=\"isLoggedIn\" value=\"False\" />\\r\\n<input type=\"hidden\" id=\"isOnlyRecognized\" value=\"False\" />\\r\\n<input type=\"hidden\" id=\"successMessage\" value=\"You have no new messages.\" />\\r\\n<input type=\"hidden\" id=\"cookieName\" value=\"hdCookiesIM\" />\\r\\n<input type=\"hidden\" id=\"cookieValue\" value=\"0\" />\\r\\n<input type=\"hidden\" id=\"cookieExpirationTime\" value=\"365\" />\\r\\n<input type=\"hidden\" id=\"cookieDomain\" value=\".monster.com\" />\\r\\n<input type=\"hidden\" id=\"searchPageAction\" value=\"https://www.monster.com/jobs/search/\" />\\r\\n<input type=\"hidden\" id=\"mcMainBox\" class=\"mc-mail-box\" value=\"\" />\\r\\n<input type=\"hidden\" id=\"mcAwsUrl\" value=\"\" />\\r\\n\\r\\n<input type=\"hidden\" id=\"countryCode\" value=\"US\" />\\r\\n<input type=\"hidden\" id=\"languageCode\" value=\"EN\" />\\r\\n<input type=\"hidden\" id=\"typeAheadRequestUrl\" value=\"https://c6v0t0t861.execute-api.us-east-1.amazonaws.com/Prod/vulcantypeaheadresource?matchString=%Q&amp;countrycode={0}&amp;languagecode={1}&amp;fuzziness=0\" />\\r\\n<input type=\"hidden\" id=\"esTypeaheadEnabled\" value=\"True\" />\\r\\n<input type=\"hidden\" id=\"msgKeywords\" value=\"Key Words\" />\\r\\n<input type=\"hidden\" id=\"msgJobTitles\" value=\"Job Titles\" />\\r\\n<input type=\"hidden\" id=\"msgCompanyNames\" value=\"Company Names\" />\\r\\n<input type=\"hidden\" id=\"isRedirectionToNoCriteriaPageEnabled\" value=\"true\" />\\r\\n<input type=\"hidden\" id=\"noCriteriaPagePrefix\" value=\"nocriteria\" />\\r\\n<input type=\"hidden\" id=\"accountTitle\" value=\"\" />\\r\\n<input type=\"hidden\" id=\"searchKeyword\" value=\"Data Scientist\" />\\r\\n<input type=\"hidden\" id=\"searchLocation\" value=\"California\" />\\r\\n\\r\\n<input type=\"hidden\" id=\"companyTAHeaderSearchSelection\" />\\r\\n<input type=\"hidden\" id=\"companyTASearchEnabled\" value=\"False\" />\\r\\n<input type=\"hidden\" id=\"companyTASearchLimit\" value=\"3\" />\\r\\n<input type=\"hidden\" id=\"isTransitionalGlobalHeaderEnabled\" value=\"True\" />\\r\\n\\r\\n<div id=\"pv_nav-fixed\">\\r\\n\\r\\n    <a href=\"#mainContent\" class=\"skip-main\">Skip to main content</a>\\r\\n\\r\\n\\r\\n    <!-- Top Nav -->\\r\\n        <nav class=\"solid-nav navbar-2 navbar navbar-default navbar-fixed-top\" role=\"banner\" id=\"jsrHeader\">\\r\\n\\r\\n            <div class=\"container-fluid navbar-main\">\\r\\n                <!-- Brand and toggle get grouped for better mobile display -->\\r\\n                <div id=\"mobile-navbar\" class=\"navbar-header\">\\r\\n                        <a class=\"navbar-brand\" href=\"https://www.monster.com/\" aria-label=\"Monster Home\">\\r\\n                            <div class=\"logo-new-branding-g-header\" style=\"background-image:url( https://media.newjobs.com/global/img/monster-logo-h-teal.svg )\">&nbsp;</div>\\r\\n                        </a>\\r\\n\\r\\n\\r\\n                    <button type=\"button\" class=\"navbar-toggle nav-trigger action action--open\" aria-haspopup=\"true\" aria-expanded=\"false\" role=\"menu\" data-target-menu=\"ml-menu\">\\r\\n                        <span class=\"sr-only\">Toggle Navigation Mobile</span>\\r\\n                        <span class=\"icon-bar\"></span>\\r\\n                        <span class=\"icon-bar\"></span>\\r\\n                        <span class=\"icon-bar\"></span>\\r\\n                    </button>\\r\\n                    <button type=\"button\" class=\"navbar-toggle search-btn-container search-trigger\" data-toggle=\"collapse\" data-target=\"#mobile-navbar-search\" aria-haspopup=\"true\" aria-expanded=\"false\" role=\"search\">\\r\\n                        <i class=\"fa fa-search\"></i>\\r\\n                        <span class=\"navbar-text\">Jobs</span>\\r\\n                    </button>\\r\\n                    <!-- End Search Button -->\\r\\n                </div>\\r\\n\\r\\n                <!-- End Mobile Header/Navbar -->\\r\\n                <div class=\"collapse navbar-collapse text-center\" id=\"mobile-navbar-search\" style=\"max-height: 423px;\">\\r\\n                    <!-- End Navbar Right, Login, Signup, & Employer Links -->\\r\\n                    <form id=\"quickJobSearch\" role=\"search\" class=\"navbar-form\" method=\"get\">\\r\\n                        <div class=\"form-group top-search keywords rounded-border\">\\r\\n                            <div class=\"input-group input-group-sm\">\\r\\n                                <span class=\"input-group-addon\"><i class=\"mdi mdi-magnify\"></i></span>\\r\\n                                    <div id=\"multiple-datasets\">                                       \\r\\n                                        <label for=\"keywords2\" class=\"sr-only\">Keywords</label>\\r\\n                                        <input type=\"text\" class=\"form-control typeaheadR tt-hint hasclear\" role=\"combobox\" aria-expanded=\"false\" aria-autocomplete=\"both\"\\r\\n                                               placeholder=\"Search for Jobs\" id=\"keywords2\" name=\"q\" value=\"Data Scientist\" />\\r\\n                                        <input type=\"hidden\" id=\"typeaheadvalues\" value=\"\" />\\r\\n                                    </div>\\r\\n                                <span class=\"input-clear\" style=\"\" aria-label=\"clear\" tabindex=\"0\">x</span>\\r\\n                            </div>\\r\\n                        </div>\\r\\n                        <div class=\"form-group top-search location rounded-border\">\\r\\n\\r\\n                            <div class=\"input-group input-group-sm\">\\r\\n                                <span class=\"input-group-addon\"><i class=\"mdi mdi-map-marker\"></i></span>\\r\\n                                <label for=\"location\" class=\"sr-only\">Location</label>\\r\\n                                <input type=\"text\" autocomplete=\"off\" id=\"location\" name=\"where\" role=\"combobox\" aria-expanded=\"false\" aria-autocomplete=\"both\" class=\"form-control input-sm typeahead hasclear\" placeholder=\"Location\" value=\"California\" />\\r\\n                                <span class=\"input-clear\" style=\"\" aria-label=\"clear\" tabindex=\"0\">x</span>\\r\\n                            </div>\\r\\n                        </div>\\r\\n                        <button onclick=\"InitializeGlobalheaderSearch(); return false;\" class=\"btn btn-white btn-sm rounded-border\" type=\"button\" id=\"doQuickSearch\">Search</button>\\r\\n                            <div class=\"tm-wrap\">\\r\\n                                <input class=\"tm-input hidden\" type=\"hidden\" maxlength=\"200\" />\\r\\n                            </div>\\r\\n                    </form>\\r\\n\\r\\n                    <!-- End Search Form (Desktop & Mobile) -->\\r\\n                    <ul class=\"nav navbar-nav navbar-right hidden-xs\">\\r\\n                            <li>\\r\\n                                <a href=\"https://login20.monster.com/?r=http%3a%2f%2fjobs.monster.com%2fsearch%2f%3fq%3dData-Scientist%26where%3dCalifornia&amp;ch=MONS\" class=\"navbar-icon-link loginLink1\" role=\"button\" aria-haspopup=\"true\" aria-expanded=\"false\">\\r\\n                                    <span>Sign In</span>\\r\\n                                </a>\\r\\n                            </li>\\r\\n                            <li>\\r\\n                                <a href=\"https://hiring.monster.com/?intcid=skr_LPF_TopNav_Employer&amp;ch=MONS\" class=\"navbar-icon-link loginLink2\" role=\"button\" aria-haspopup=\"true\" aria-expanded=\"false\">\\r\\n                                    <span>For Employers</span>\\r\\n                                </a>\\r\\n                            </li>\\r\\n\\r\\n                    </ul>\\r\\n                </div>\\r\\n            </div>\\r\\n            <div class=\"container-fluid subnav top-subnav hidden-xs bg-new\" role=\"navigation\">\\r\\n                <ul class=\"nav navbar-nav hidden-xs subnav-nav clearfix\">\\r\\n                            <li id=\"main-nav-0\" class=\"dropdown\">\\r\\n                                <a href=\"#\" class=\"dropdown-toggle\" data-toggle=\"dropdown\" role=\"button\" aria-haspopup=\"true\" aria-expanded=\"false\">\\r\\n                                    Find Jobs <span class=\"caret\"></span>\\r\\n                                </a>\\r\\n                                <ul class=\"dropdown-menu\">\\r\\n                                    \\r\\n            <li id=\"sub-nav-0\">\\r\\n                <a href=\"https://www.monster.com/jobs/\">Browse Jobs</a>\\r\\n            </li>\\r\\n            <li id=\"sub-nav-1\">\\r\\n                <a href=\"https://www.monster.com/jobs/advanced-search/\">Advanced Search</a>\\r\\n            </li>\\r\\n\\r\\n                                </ul>\\r\\n                            </li>\\r\\n                            <li id=\"main-nav-1\" class=\"dropdown\">\\r\\n                                <a href=\"https://www.monster.com/resumes/post-resume?landedFrom=Header\" class=\"dropdown-toggle\">Upload Resume</a>\\r\\n                            </li>\\r\\n                            <li id=\"main-nav-2\" class=\"dropdown\">\\r\\n                                <a href=\"https://www.monster.com/salary\" class=\"dropdown-toggle\">Salary Tools</a>\\r\\n                            </li>\\r\\n                            <li id=\"main-nav-3\" class=\"dropdown\">\\r\\n                                <a href=\"https://www.monster.com/resumes/writing-services\" class=\"dropdown-toggle\">Resume Help</a>\\r\\n                            </li>\\r\\n                            <li id=\"main-nav-4\" class=\"dropdown\">\\r\\n                                <a href=\"https://www.monster.com/career-advice\" class=\"dropdown-toggle\">Career Advice</a>\\r\\n                            </li>\\r\\n                </ul>\\r\\n\\r\\n            </div>\\r\\n            <!-- End Main Nav or \"Subnav\" (Desktop)-->\\r\\n            <!-- Slideout Menu Container -->\\r\\n            <div class=\"container\">\\r\\n\\r\\n\\r\\n            </div>\\r\\n            <!-- End Main Container for Mobile Main Nav -->\\r\\n            <!-- Main container -->\\r\\n            <div class=\"container\">\\r\\n                <!-- Menu -->\\r\\n                <!-- Mobile Left Nav -->\\r\\n                <nav id=\"ml-menu\" class=\"menu\">\\r\\n                    <!-- Close button for mobile version -->\\r\\n                    <button class=\"action action--close\" aria-label=\"Close Menu\">×</button>\\r\\n                    <!-- Edit contents of Init Crumb 1 to edit first breadcrumb in left slidout menu. -->\\r\\n                    <!-- Menu contents. -->\\r\\n                    <div id=\"ml-menu-container\" class=\"menu__wrap\">\\r\\n                        <ul data-menu=\"main\" class=\"menu__level menu__level--current\">\\r\\n                                <li id=\"mobile-nav-2\" class=\"menu__item\">\\r\\n                                    <a class=\"menu__link\" role=\"menuitem\" href=\"https://login20.monster.com/?r=http%3a%2f%2fjobs.monster.com%2fsearch%2f%3fq%3dData-Scientist%26where%3dCalifornia&amp;ch=MONS\">Sign In</a>\\r\\n                                </li>\\r\\n\\r\\n                            <li role=\"separator\" class=\"divider\"></li>\\r\\n\\r\\n                                    <li id=\"mobile-nav-0\" class=\"menu__item\">\\r\\n                                        <a class=\"menu__link\" role=\"menuitem\" data-submenu=\"submenu-0\" href=\"#\" aria-haspopup=\"true\" aria-expanded=\"false\">Find Jobs</a>\\r\\n                                        <ul data-menu=\"submenu-0\" class=\"menu__level\">\\r\\n                                            \\r\\n    <li id=\"mobile-subnav-2\" class=\"menu__item\">\\r\\n        <a class=\"menu__link bold-submenu\" href=\"#\" role=\"menuitem\">Find Jobs</a>\\r\\n    </li>\\r\\n    <li id=\"mobile-subnav-3\" class=\"menu__item\">\\r\\n        <a class=\"menu__link \" href=\"https://www.monster.com/jobs/\" role=\"menuitem\">Browse Jobs</a>\\r\\n    </li>\\r\\n    <li id=\"mobile-subnav-4\" class=\"menu__item\">\\r\\n        <a class=\"menu__link \" href=\"https://www.monster.com/jobs/advanced-search/\" role=\"menuitem\">Advanced Search</a>\\r\\n    </li>\\r\\n\\r\\n                                        </ul>\\r\\n                                    </li>\\r\\n                                    <li id=\"mobile-nav-1\" class=\"menu__item\">\\r\\n                                        <a class=\"menu__link\" role=\"menuitem\" href=\"https://www.monster.com/resumes/post-resume?landedFrom=Header\">Upload Resume</a>\\r\\n                                    </li>\\r\\n                                    <li id=\"mobile-nav-2\" class=\"menu__item\">\\r\\n                                        <a class=\"menu__link\" role=\"menuitem\" href=\"https://www.monster.com/salary\">Salary Tools</a>\\r\\n                                    </li>\\r\\n                                    <li id=\"mobile-nav-3\" class=\"menu__item\">\\r\\n                                        <a class=\"menu__link\" role=\"menuitem\" href=\"https://www.monster.com/resumes/writing-services\">Resume Help</a>\\r\\n                                    </li>\\r\\n                                    <li id=\"mobile-nav-4\" class=\"menu__item\">\\r\\n                                        <a class=\"menu__link\" role=\"menuitem\" href=\"https://www.monster.com/career-advice\">Career Advice</a>\\r\\n                                    </li>\\r\\n\\r\\n                                <li role=\"separator\" class=\"divider\"></li>\\r\\n                                <li id=\"mobile-nav-2\" class=\"menu__item\">\\r\\n                                    <a class=\"menu__link\" role=\"menuitem\" href=\"https://hiring.monster.com/?intcid=skr_LPF_TopNav_Employer&amp;ch=MONS\">For Employers</a>\\r\\n                                </li>\\r\\n\\r\\n\\r\\n                        </ul>\\r\\n                    </div>\\r\\n                </nav>\\r\\n            </div>\\r\\n            <!-- End Main Container for Mobile Main Nav -->\\r\\n\\r\\n        </nav>\\r\\n        <!-- End Navbar Fixed Top -->\\r\\n</div>\\r\\n\\r\\n\\r\\n    <script type=\"text/javascript\">\\r\\n        //Needed for defer loaded jquery to initialize when jQuery finish loaded\\r\\n        var initInterval = setInterval(function () {\\r\\n            if (window.jQuery) {\\r\\n                clearInterval(initInterval);\\r\\n                init();\\r\\n            }\\r\\n        }, 20);\\r\\n\\r\\n        function init() {\\r\\n\\t\\t\\t$(document).ready(function () {\\r\\n\\r\\n                $(\\'li.twocolumnslink > a\\').on(\\'click\\',\\r\\n                    function (event) {\\r\\n                        var parentLi = $(this).parent();\\r\\n\\r\\n                        if ($(this).parent().attr(\\'class\\').indexOf(\"twocolumnslink-close\") != -1) {\\r\\n                            parentLi.removeClass(\\'twocolumnslink-close\\').addClass(\\'twocolumnslink-open\\');\\r\\n                        } else {\\r\\n                            parentLi.removeClass(\\'twocolumnslink-open\\').addClass(\\'twocolumnslink-close\\');\\r\\n                        }\\r\\n                    });\\r\\n\\r\\n                //Sub-Menu Mobile\\r\\n                var $mlSubMenus = $(\\'#ml-menu-container ul[data-menu*=\"submenu-\"]\\');\\r\\n                if ($mlSubMenus.length) {\\r\\n                    $mlSubMenus.each(function () {\\r\\n                        $(this).appendTo(\\'#ml-menu-container\\');\\r\\n                    });\\r\\n                }\\r\\n\\r\\n                //CMS Desktop\\r\\n                var $cmsNavContainers = $(\"li[id*=\\'main-nav-\\'] div.cmsNavContainer\");\\r\\n                if ($cmsNavContainers.length) {\\r\\n                    for (var i = 0; i < $cmsNavContainers.length; i++) {\\r\\n                        var $this = $($cmsNavContainers[i]);\\r\\n                        $this.addClass(\\'hidden\\');\\r\\n                        var title = $this.find(\\'h3\\').html();\\r\\n                        var $childs = $this.find(\\'ul li\\');\\r\\n\\r\\n                        var $parentUl = $this.closest(\\'ul\\');\\r\\n                        $parentUl.append(\\'<li class=\"cmsNavContainer dropdown-sub\"></li>\\');\\r\\n                        var $newCmsContainer = $parentUl.find(\\'li.cmsNavContainer.dropdown-sub\\');\\r\\n                        $newCmsContainer.append(\\'<a href=\"#\" class=\"dropdown-toggle\" data-toggle=\"dropdown\" role=\"button\" aria-haspopup=\"true\" aria-expanded=\"false\">\\' + title + \\' <span class=\"caret\"></span></a>\\');\\r\\n                        $newCmsContainer.append(\\'<ul class=\"dropdown-menu dropdown-menu-sub\"></ul>\\');\\r\\n                        $newCmsContainer.find(\\'ul\\').append($childs);\\r\\n\\r\\n                        $this.remove();\\r\\n                    }\\r\\n                }\\r\\n\\r\\n                //CMS Mobile\\r\\n                var $mobileCmsNavContainers = $(\"#ml-menu-container ul.cms-submenu div.cmsNavContainer\");\\r\\n                if ($mobileCmsNavContainers.length) {\\r\\n                    for (var i = 0; i < $mobileCmsNavContainers.length; i++) {\\r\\n                        var $this = $($mobileCmsNavContainers[i]);\\r\\n                        var $parentUl = $this.closest(\\'ul.cms-submenu\\');\\r\\n\\r\\n                        $this.addClass(\\'hidden\\');\\r\\n                        var thisTitle = $this.find(\\'h3\\').html();\\r\\n                        var $thisChilds = $this.find(\\'ul li\\');\\r\\n\\r\\n                        var dataMenu = $parentUl.attr(\\'data-menu\\');\\r\\n                        var dataSubFor = $parentUl.attr(\\'data-sub-for\\');\\r\\n\\r\\n                        $thisChilds.each(function () {\\r\\n                            $(this).addClass(\\'menu__item\\');\\r\\n                            $(this).find(\\'a\\').addClass(\\'menu__link\\');\\r\\n                            $(this).find(\\'a\\').attr(\\'role\\', \\'menuitem\\');\\r\\n                        });\\r\\n\\r\\n                        $thisChilds.appendTo($parentUl);\\r\\n                        $this.remove();\\r\\n\\r\\n                        var $subLinkAnchor = $(\"#ml-menu-container a.menu__link[data-submenu=\\'submenu-cms-\" + dataSubFor + \"\\']\");\\r\\n                        if ($subLinkAnchor.length) {\\r\\n                            $subLinkAnchor.html(thisTitle);\\r\\n                        }\\r\\n                    }\\r\\n                }\\r\\n\\r\\n                $(\\'#mobile-navbar button[aria-expanded]\\').on(\\'click\\', function () {\\r\\n                    var $this = $(this);\\r\\n                    var dataTargetMenuId = $this.attr(\\'data-target-menu\\');\\r\\n                    var targetIsNavCollapsed = $(\\'#\\' + dataTargetMenuId).hasClass(\\'navbar-collapse\\');\\r\\n\\r\\n                    if (dataTargetMenuId != null && dataTargetMenuId != \\'\\') {\\r\\n                        setTimeout(function () {\\r\\n                            var menuIsOpen = false;\\r\\n                            if (targetIsNavCollapsed) {\\r\\n                                menuIsOpen = $(\\'#\\' + dataTargetMenuId).hasClass(\\'collapse in\\');\\r\\n                            } else {\\r\\n                                menuIsOpen = $(\\'#\\' + dataTargetMenuId).hasClass(\\'menu--open\\');\\r\\n                            }\\r\\n                            $this.attr(\\'aria-expanded\\', menuIsOpen);\\r\\n                        }, 200);\\r\\n                    }\\r\\n                });\\r\\n\\r\\n                $(\\'#jsrHeader .dropdown\\').children(\\'.dropdown-toggle\\').on(\\'click\\', function (e) {\\r\\n                    if ($(this).parent().is(\\'.open\\')) {\\r\\n                        $(this).attr(\\'aria-expanded\\', false);\\r\\n                    } else {\\r\\n                        $(this).attr(\\'aria-expanded\\', true);\\r\\n                    }\\r\\n                });\\r\\n                $(\\'#jsrHeader .dropdown-sub\\').children(\\'.dropdown-toggle\\').on(\\'click\\', function (e) {\\r\\n                    if ($(this).parent().is(\\'.open\\')) {\\r\\n                        $(this).attr(\\'aria-expanded\\', true);\\r\\n                    } else {\\r\\n                        $(this).attr(\\'aria-expanded\\', false);\\r\\n                    }\\r\\n                });\\r\\n\\r\\n                var gHNInterval = setInterval(function () {\\r\\n                    if (typeof (globalHeaderNavigation) !== \\'undefined\\') {\\r\\n                        clearInterval(gHNInterval);\\r\\n                        globalHeaderNavigation({\"BreadcrumbAriaLabel\":\"Navigation Breadcrumb\",\"InitialBreadcrumbText\":\"all\"});\\r\\n                    }\\r\\n                }, 20);\\r\\n\\r\\n            });\\r\\n        }\\r\\n\\r\\n        document.addEventListener(\"DOMContentLoaded\", function (event) {\\r\\n\\r\\n            var isUsingAppDomainForServices = false;\\r\\n            if (\\'False\\' === \\'True\\') {\\r\\n                isUsingAppDomainForServices = true;\\r\\n            }\\r\\n\\r\\n            var hBarInterval = setInterval(function () {\\r\\n                if (typeof (InitializeHeaderBarJsr) !== \\'undefined\\') {\\r\\n                    clearInterval(hBarInterval);\\r\\n                    InitializeHeaderBarJsr(isUsingAppDomainForServices); // all header related script\\r\\n                }\\r\\n            }, 20);\\r\\n\\r\\n                AppendLocationMostPopularJobUrl();\\r\\n        });\\r\\n    </script>\\r\\n<script type=\"text/javascript\">\\r\\n    function AppendLocationMostPopularJobUrl() {\\r\\n        var jsCritCookie = getCookie(\\'jsCrit\\');\\r\\n        if (jsCritCookie === \"\" || jsCritCookie === null)\\r\\n            return;\\r\\n\\r\\n        var where = decodeURIComponent(getUrlVars(jsCritCookie)[\"where\"]);\\r\\n        if (where === \\'undefined\\' || where === \"\")\\r\\n            return;\\r\\n\\r\\n        var list = $(\\'.dropdown-menu .dropdown-menu-sub\\').children();\\r\\n        $(list).each(function (index) {\\r\\n            var el = $(this).children().first()\\r\\n            var href = $(el).attr(\\'href\\')\\r\\n            if (href.indexOf(\"?q=\") >= 0) {\\r\\n                $(el).attr(\"href\", href + \"&where=\" + where);\\r\\n            }\\r\\n        })\\r\\n    }\\r\\n\\r\\n    function getCookie(cname) {\\r\\n        var name = cname + \"=\";\\r\\n        var decodedCookie = decodeURIComponent(document.cookie);\\r\\n        var ca = decodedCookie.split(\\';\\');\\r\\n        for (var i = 0; i < ca.length; i++) {\\r\\n            var c = ca[i];\\r\\n            while (c.charAt(0) == \\' \\') {\\r\\n                c = c.substring(1);\\r\\n            }\\r\\n            if (c.indexOf(name) == 0) {\\r\\n                return c.substring(name.length, c.length);\\r\\n            }\\r\\n        }\\r\\n        return \"\";\\r\\n    }\\r\\n\\r\\n    function getUrlVars(param) {\\r\\n        var vars = [], hash;\\r\\n        var hashes = param.split(\\'&\\');\\r\\n        for (var i = 0; i < hashes.length; i++) {\\r\\n            hash = hashes[i].split(\\'=\\');\\r\\n            vars.push(hash[0]);\\r\\n            vars[hash[0]] = hash[1];\\r\\n        }\\r\\n        return vars;\\r\\n    }\\r\\n\\r\\n</script>\\r\\n<script type=\"text/javascript\">\\r\\n    window.addEventListener(\\'load\\', function () {\\r\\n        var lbltypehint = document.getElementById(\\'TypeHint\\');\\r\\n        var lbltext = \"Keywords\";\\r\\n        if (lbltypehint != undefined && lbltypehint != null) {\\r\\n            lbltypehint.setAttribute(\\'aria-label\\', lbltext);\\r\\n        }\\r\\n    });\\r\\n</script>\\r\\n\\r\\n    <script type=\"text/javascript\">\\r\\n            if (isMobile != undefined) {\\r\\n                if (isMobile.any() != null && (getCookie(\\'jobr.splitter.cookie\\') === \"\" || getCookie(\\'jobr.splitter.cookie\\') === null)) {\\r\\n                    document.getElementById(\"jsrHeader\").classList.add(\\'showJobr\\');\\r\\n                    document.getElementsByTagName(\\'body\\')[0].classList.add(\\'has-jobr\\');\\r\\n                }\\r\\n            }\\r\\n            var isMobile = {\\r\\n                Android: function () {\\r\\n                    return navigator.userAgent.match(/Android/i);\\r\\n                },\\r\\n                BlackBerry: function () {\\r\\n                    return navigator.userAgent.match(/BlackBerry/i);\\r\\n                },\\r\\n                iOS: function () {\\r\\n                    return navigator.userAgent.match(/iPhone/i);\\r\\n                },\\r\\n                Opera: function () {\\r\\n                    return navigator.userAgent.match(/Opera Mini/i);\\r\\n                },\\r\\n                Windows: function () {\\r\\n                    return navigator.userAgent.match(/IEMobile/i);\\r\\n                },\\r\\n                any: function () {\\r\\n                    return (isMobile.Android() || isMobile.BlackBerry() || isMobile.iOS() || isMobile.Opera() || isMobile.Windows());\\r\\n                }\\r\\n            };\\r\\n    </script>\\r\\n\\r\\n\\r\\n\\r\\n\\r\\n\\r\\n        </div>\\r\\n        \\r\\n    <!--SecondaryNavigation-->\\r\\n\\r\\n\\r\\n<section class=\"mux-secondary-navigation\">\\r\\n    <div class=\"navigation-content\">\\r\\n        <span></span>\\r\\n\\r\\n\\r\\n\\r\\n<input type=\"hidden\" id=\"filterSearchUrl\" value=\"q=Data-Scientist\" />\\r\\n<input type=\"hidden\" id=\"evar63Json\" value=\\'{&quot;company&quot;: [&quot;&quot;],&quot;category&quot;: [&quot;&quot;],&quot;kywdjobtitle&quot;: [&quot;Data Scientist&quot;],&quot;location&quot;: [&quot;California&quot;],&quot;skill&quot;: [&quot;&quot;],&quot;jobstatus&quot;: [&quot;&quot;],&quot;radius&quot;: [&quot;20 miles&quot;],&quot;sort&quot;: [&quot;&quot;],&quot;date&quot;: [&quot;&quot;],&quot;country&quot;: [&quot;&quot;],&quot;salary&quot;: [&quot;&quot;]}\\' />\\r\\n\\r\\n<div class=\"mux-flyout mux-filter\" id=\"filter-flyout\">\\r\\n    <button id=\"filter-flyout\" role=\"button\" class=\"mux-btn btn-link btn-neat flyout-toggle btn-mobile-nav\" data-mux=\"dropdown\" data-type=\"click\" data-close=\"outside\" data-dim-target=\"#mainContent\" aria-haspopup=\"true\" aria-expanded=\"false\"><i class=\"icon icon-settings\" aria-hidden=\"true\"></i>Filter<i class=\"icon icon-arrow-down\" aria-hidden=\"true\"></i></button>\\r\\n    <div class=\"mux-card flyout-content\" aria-labelledby=\"filter-flyout\" data-area=\"dropdown\">\\r\\n        <form class=\"card-content\" action=\"#\" id=\"filter-form\" method=\"post\" data-mux=\"filter\" data-target=\"#filter-flyout\">\\r\\n            <header class=\"card-header flex-row\">\\r\\n                <h3 class=\"title\">Filter your search</h3>\\r\\n                <button type=\"button\" class=\"mux-close\" data-area=\"close\">\\r\\n                    <i class=\"icon icon-close\" aria-hidden=\"true\"></i>\\r\\n                    <span class=\"sr-only\">Close</span>\\r\\n                </button>\\r\\n            </header>\\r\\n<div class=\\'row\\'>                                <div class=\"form-group col-sm-6\">\\r\\n                                    <label for=\"FilterRadius\" class=\"control-label\">Radius:</label>\\r\\n                                        <select class=\"form-control\" id=\"FilterRadius\" name=\"FilterRadius\" data-selector=\"radiusFilterDd\" disabled role=\"listbox\">\\r\\n                                                <option value=\"5\" >5 miles</option>\\r\\n                                                <option value=\"10\" >10 miles</option>\\r\\n                                                <option value=\"20\" selected>20 miles</option>\\r\\n                                                <option value=\"30\" >30 miles</option>\\r\\n                                                <option value=\"40\" >40 miles</option>\\r\\n                                                <option value=\"50\" >50 miles</option>\\r\\n                                                <option value=\"60\" >60 miles</option>\\r\\n                                                <option value=\"75\" >75 miles</option>\\r\\n                                                <option value=\"100\" >100 miles</option>\\r\\n                                                <option value=\"150\" >150 miles</option>\\r\\n                                                <option value=\"200\" >200 miles</option>\\r\\n                                        </select>\\r\\n                                </div>\\r\\n                                    <div class=\"form-group col-sm-6\">\\r\\n                                        <label for=\"FilterCity\" class=\"control-label\">City:</label>\\r\\n                                        <select class=\"form-control\" id=\"FilterCity\" name=\"FilterCity\" data-selector=\"cityFilterDd\" role=\"listbox\">\\r\\n                                            <option value=\"\">All Cities</option>\\r\\n                                                <option value=California selected>Current location</option>\\r\\n                                                <option value=San-Francisco__2c-CA >San Francisco</option>\\r\\n                                                <option value=Los-Angeles__2c-CA >Los Angeles</option>\\r\\n                                                <option value=Menlo-Park__2c-CA >Menlo Park</option>\\r\\n                                                <option value=San-Diego__2c-CA >San Diego</option>\\r\\n                                                <option value=San-Jose__2c-CA >San Jose</option>\\r\\n                                                <option value=Santa-Clara__2c-CA >Santa Clara</option>\\r\\n                                                <option value=Mountain-View__2c-CA >Mountain View</option>\\r\\n                                                <option value=Fremont__2c-CA >Fremont</option>\\r\\n                                                <option value=Sunnyvale__2c-CA >Sunnyvale</option>\\r\\n                                        </select>\\r\\n                                    </div>\\r\\n</div><!--end row1--><div class=\\'row\\'>                                    <div class=\"form-group col-sm-6\">\\r\\n                                        <label for=\"FilterCompany\" class=\"control-label\">Company:</label>\\r\\n                                        <select class=\"form-control\" id=\"FilterCompany\" name=\"FilterCompany\" data-selector=\"companyFilterDd\" role=\"listbox\">\\r\\n                                            <option value=\"\">All Companies</option>\\r\\n                                                    <option value=cmpv=35887 >Facebook, Inc.</option>\\r\\n                                                    <option value=cmpv=15436 >IBM</option>\\r\\n                                                    <option value=cmpv=33368 >University of California Los Angeles</option>\\r\\n                                                    <option value=cmpv=127505 >Talentburst, Inc.</option>\\r\\n                                                    <option value=cmpv=36921 >Cybercoders</option>\\r\\n                                        </select>\\r\\n                                    </div>\\r\\n                                    <div class=\"form-group col-sm-6\">\\r\\n                                        <label for=\"FilterPosted\" class=\"control-label\">Date Posted:</label>\\r\\n                                        <select class=\"form-control\" id=\"FilterPosted\" name=\"FilterPosted\" data-selector=\"datePostedFilterDd\" role=\"listbox\">\\r\\n                                                <option   selected\\r\\n value=\"-1\">\\r\\n                                                    Any date\\r\\n                                                </option>\\r\\n                                                <option  value=\"0\">\\r\\n                                                    Today\\r\\n                                                </option>\\r\\n                                                <option  value=\"1\">\\r\\n                                                    Yesterday\\r\\n                                                </option>\\r\\n                                                <option  value=\"3\">\\r\\n                                                    Last 3 days\\r\\n                                                </option>\\r\\n                                                <option  value=\"7\">\\r\\n                                                    Last 7 Days\\r\\n                                                </option>\\r\\n                                                <option  value=\"14\">\\r\\n                                                    Last 14 Days\\r\\n                                                </option>\\r\\n                                                <option  value=\"30\">\\r\\n                                                    Last 30 days\\r\\n                                                </option>\\r\\n                                        </select>\\r\\n                                    </div>\\r\\n</div><!--end row1--><div class=\\'row\\'>                                    <div class=\"form-group col-sm-6\">\\r\\n                                        <label for=\"FilterJobStatus\" class=\"control-label\">Job Status:</label>\\r\\n                                        <select class=\"form-control\" id=\"FilterJobStatus\" name=\"jbstFilterDd\" data-selector=\"jbstFilterDd\" role=\"listbox\">\\r\\n                                            <option value=\"\">Select</option>\\r\\n                                                <option value=\"Full-Time\" >Full Time</option>\\r\\n                                                <option value=\"Part-Time\" >Part Time</option>\\r\\n                                        </select>\\r\\n                                    </div>\\r\\n</div><!--end row2-->\\r\\n                <div class=\"form-actions\">\\r\\n                    <button type=\"submit\" class=\"mux-btn btn-primary\" id=\"use-filter-btn\">Submit</button>\\r\\n                    <button type=\"reset\" class=\"mux-btn btn-link\" id=\"reset-filter-btn\">Reset Filter</button>\\r\\n                </div>\\r\\n        </form>\\r\\n    </div>\\r\\n</div>\\r\\n\\r\\n    <script type=\"text/javascript\">\\r\\n        window.onload = function () {\\r\\n            var fC = document.getElementById(\\'FilterCity\\');\\r\\n            var fR = document.getElementById(\\'FilterRadius\\');\\r\\n            if (fC != null && fR != null) {\\r\\n                if (fC.selectedIndex != 0) { fR.removeAttribute(\\'disabled\\'); }\\r\\n                fC.onchange = function () {\\r\\n                    if (fC.selectedIndex == 0) {\\r\\n                        fR.setAttribute(\\'disabled\\', \\'disabled\\');\\r\\n                    }\\r\\n                    else {\\r\\n                        fR.removeAttribute(\\'disabled\\');\\r\\n                    }\\r\\n                }\\r\\n            }\\r\\n        };\\r\\n    </script>\\r\\n            <!--Recent Searches-->\\r\\n                <div id=\"rspane\">\\r\\n                    \\r\\n    <input type=\"hidden\" id=\"searchType\" value=\"Power\" />\\r\\n    <input type=\"hidden\" id=\"enableNewJobsCount\" value=\"True\" />\\r\\n    <input type=\"hidden\" id=\"lpfUrl\" value=\"https://www.monster.com/jobs\" />\\r\\n\\r\\n\\r\\n    <script type=\"text/javascript\">\\r\\n        document.addEventListener(\"DOMContentLoaded\", function (event) {\\r\\n            InitializeNewJobsCount();\\r\\n        });\\r\\n    </script>\\r\\n\\r\\n                </div>\\r\\n            <!--Titles-->\\r\\n            <header class=\"title\">\\r\\n                <h1 class=\"pivot \">\\r\\n                     Data Scientist Jobs in California \\r\\n                </h1>\\r\\n                    <h2 class=\"figure\">\\r\\n                        (1773 Jobs Found)\\r\\n                    </h2>\\r\\n            </header>\\r\\n\\r\\n\\r\\n<input type=\"hidden\" id=\"isLoggedIn\" value=\"false\" />\\r\\n<input type=\"hidden\" id=\"maxSaveSearchesAllowed\" value=\"5\" />\\r\\n<input type=\"hidden\" id=\"emailUrl\" value=\"https://www.monster.com/jobs/emailjobs?q=Data-Scientist&amp;where=California\" />\\r\\n\\r\\n\\r\\n    <div id=\"job-alert\" class=\"mux-flyout mux-job-alert\">\\r\\n        <button\\r\\n            id=\"job-alert-flyout\"\\r\\n            role=\"button\"\\r\\n            class=\"mux-btn btn-secondary flyout-toggle btn-mobile-nav\"\\r\\n            \\r\\n              data-mux=\"dropdown\"\\r\\n              data-type=\"click\"\\r\\n              data-close=\"outside\"\\r\\n              aria-haspopup=\"true\"\\r\\n              aria-expanded=\"false\"\\r\\n            \\r\\n        >Create job alert</button>\\r\\n        <div class=\"mux-card flyout-content\" aria-labelledby=\"job-alert-flyout\" data-area=\"dropdown\">\\r\\n            <section class=\"card-content\">\\r\\n                <header class=\"card-header flex-row\">\\r\\n                    <h3 class=\"title\">Get Data Scientist jobs in California as soon as they&#39;re posted</h3>\\r\\n                    <button type=\"button\" class=\"mux-close\" data-area=\"close\">\\r\\n                        <i class=\"icon icon-close\" aria-hidden=\"true\"></i>\\r\\n                        <span class=\"sr-only\">Close</span>\\r\\n                    </button>\\r\\n                </header>\\r\\n\\r\\n                    <p class=\"lead\">Sign up for a Monster account, and we&#39;ll send jobs and job-search advice right to your inbox.</p>\\r\\n\\r\\n                <form action=\"https://www.monster.com/jobs/mkemljobs?q=Data-Scientist&amp;where=California\"\\r\\n                      id=\"job-alert-form\"\\r\\n                      method=\"post\"\\r\\n                      data-mux=\"validate jobAlert\"\\r\\n                      data-trigger=\"#job-alert-flyout\"\\r\\n                      data-bypass=\"false\"\\r\\n                      data-container=\"#job-alert\"\\r\\n                      data-success-msg=\"We&#39;re hunting down jobs and will send them your way soon. \"\\r\\n                >\\r\\n                    <input type=\"hidden\" name=\"agreeTerms\" value=\"true\" />\\r\\n                    <input type=\"hidden\" name=\"searchQuery\" value=\"q=Data%20Scientist&amp;brd=1&amp;brd=2&amp;cy=US&amp;pp=25&amp;sort=rv.di.dt&amp;nosal=true&amp;geo=California%2c32.18688%2c0%2c0%2c342%2cState&amp;stp=ScoreFenceHash\" />\\r\\n                    <input type=\"hidden\" name=\"isDynamicPage\" value=\"True\" />\\r\\n\\r\\n\\r\\n                        <div class=\"form-inline\">\\r\\n                                <div class=\"form-group\">\\r\\n                                    <label class=\"form-label sr-only\" for=\"EmailAddress\">Enter Your Email Address</label>\\r\\n                                    <input placeholder=\"Enter Your Email Address\" type=\"email\" aria-describedby=firstPartyEmailHelp name=\"emailAddress\" id=\"EmailAddress\" class=\"form-control\" maxlength=\"100\" data-msg-required=\"This information is required.\" data-msg-email=\"Email is not valid\" required if\\r\\n                                </div>\\r\\n\\r\\n                            <button title=\"Email me Jobs\"\\r\\n                                    value=\"Send Me Jobs\"\\r\\n                                    class=\"mux-btn btn-secondary\">\\r\\n                                Send Me Jobs\\r\\n                            </button>\\r\\n\\r\\n                                <div class=\"gdpr-info\">\\r\\n                                    <div class=\"checkbox input-group\">\\r\\n                                        <input type=\"checkbox\" name=\"firstPartyEmail\" id=\"FirstPartyEmail\" checked />\\r\\n                                        <label class=\"control-label\" id=\"firstPartyEmailHelp\" for=\"FirstPartyEmail\">Email me Monster job opportunities and updates related to career and education.</label>\\r\\n                                    </div>\\r\\n                                </div>\\r\\n                        </div>\\r\\n                </form>\\r\\n\\r\\n\\r\\n            </section>\\r\\n        </div>\\r\\n    </div>\\r\\n    </div>\\r\\n</section>\\r\\n\\r\\n\\r\\n        \\r\\n\\r\\n<style>\\r\\n    .containerdebug .contentdebug {\\r\\n        padding: 5px;\\r\\n        background-color: #f7e7bd;\\r\\n    }\\r\\n\\r\\n    .containerdebug {\\r\\n        border: 1px solid #748649;\\r\\n        word-wrap: break-word;\\r\\n        padding: 0;\\r\\n    }\\r\\n\\r\\n        .containerdebug div {\\r\\n            width: 100%;\\r\\n        }\\r\\n\\r\\n        .containerdebug .headerdebug {\\r\\n            background-color: #d3d3d3;\\r\\n            padding: 2px;\\r\\n            cursor: pointer;\\r\\n            font-weight: bold;\\r\\n        }\\r\\n</style>\\r\\n\\r\\n\\r\\n\\r\\n\\r\\n\\r\\n        <div class=\"alerts-layout\">\\r\\n            <script type=\"application/json\" id=\"alerts-config\">\\r\\n                {\\r\\n                    \"onPageLoad\": \\r\\n                }\\r\\n            </script>\\r\\n            <div class=\"alerts-content\" aria-live=\"assertive\" data-mux=\"alerts\" data-config=\"#alerts-config\"></div>\\r\\n        </div>\\r\\n        <div id=\"MobileHeader\" class=\"mux-mobile-header detail-only\">\\r\\n          <a href=\"#list\" id=\"ListSwitch\" class=\"mux-btn btn-link list-switch\">\\r\\n            <span class=\"sr-only\">Switch to search results</span>\\r\\n            <i class=\"icon icon-list\"></i>\\r\\n          </a>\\r\\n          <script type=\"text/x-placeholder\" id=\"MobileActions\"></script>\\r\\n        </div>\\r\\n        <main class=\"page-content\" id=\"mainContent\">\\r\\n            <div class=\"row\">\\r\\n                <div class=\"col-md-4 list-only\">\\r\\n                    <div id=\"ResultsContainer\" class=\"mux-custom-scroll\" data-mux=\"customScroll\" data-target=\"html\"  data-extend=\"left\">\\r\\n                        <div id=\"ResultsScrollable\" class=\"scrollable\">\\r\\n                            \\r\\n        \\r\\n\\r\\n        \\r\\n\\r\\n\\r\\n    <script type=\"application/ld+json\">\\r\\n            {\"@context\":\"https://schema.org\",\"@type\":\"ItemList\",\"mainEntityOfPage\":{\\r\\n            \"@type\":\"CollectionPage\",\"@id\":\"https://www.monster.com/jobs/search/?q=Data-Scientist&amp;where=California\"\\r\\n            }\\r\\n            ,\"itemListElement\":[\\r\\n\\r\\n                 {\"@type\":\"ListItem\",\"position\":1,\"url\":\"https://job-openings.monster.com/data-scientist-ai-machine-learning-no-sponsorship-san-jose-ca-us-cybercoders/221272677\"}\\r\\n                    ,\\r\\n                 {\"@type\":\"ListItem\",\"position\":2,\"url\":\"\"}\\r\\n                    ,\\r\\n                 {\"@type\":\"ListItem\",\"position\":3,\"url\":\"https://job-openings.monster.com/water-utility-data-scientist-data-analyst-san-dimas-ca-us-golden-state-water-company/221171967\"}\\r\\n                    ,\\r\\n                 {\"@type\":\"ListItem\",\"position\":4,\"url\":\"https://job-openings.monster.com/sr-to-lead-data-scientist-iot-startup-up-to-200k-sunnyvale-ca-us-skyrocket-ventures/221342195\"}\\r\\n                    ,\\r\\n                 {\"@type\":\"ListItem\",\"position\":5,\"url\":\"https://job-openings.monster.com/data-scientist-newport-beach-ca-us-ims/220913633\"}\\r\\n                    ,\\r\\n                 {\"@type\":\"ListItem\",\"position\":6,\"url\":\"https://job-openings.monster.com/senior-data-scientist-pasadena-ca-us-jobot/221337137\"}\\r\\n                    ,\\r\\n                 {\"@type\":\"ListItem\",\"position\":7,\"url\":\"https://job-openings.monster.com/data-scientist-intermediate-san-francisco-ca-us-the-judge-group/221283779\"}\\r\\n                    ,\\r\\n                 {\"@type\":\"ListItem\",\"position\":8,\"url\":\"\"}\\r\\n                    ,\\r\\n                 {\"@type\":\"ListItem\",\"position\":9,\"url\":\"https://job-openings.monster.com/data-scientist-tester-santa-clara-ca-us-apex-systems/220341774\"}\\r\\n                    ,\\r\\n                 {\"@type\":\"ListItem\",\"position\":10,\"url\":\"https://job-openings.monster.com/data-scientist-ii-santa-clara-ca-us-system-one/221198606\"}\\r\\n                    ,\\r\\n                 {\"@type\":\"ListItem\",\"position\":11,\"url\":\"https://job-openings.monster.com/data-scientist-intern-irvine-ca-us-henkel/221102179\"}\\r\\n                    ,\\r\\n                 {\"@type\":\"ListItem\",\"position\":12,\"url\":\"https://job-openings.monster.com/data-scientist-sunnyvale-ca-us-tech-mahindra-limited/220927185\"}\\r\\n                    ,\\r\\n                 {\"@type\":\"ListItem\",\"position\":13,\"url\":\"https://job-openings.monster.com/manager-of-laboratory-informatics-austin-tx-us-cybercoders/221273009\"}\\r\\n                    ,\\r\\n                 {\"@type\":\"ListItem\",\"position\":14,\"url\":\"https://job-openings.monster.com/data-scientist-los-angeles-ca-us-mastech-digital/220465099\"}\\r\\n                    ,\\r\\n                 {\"@type\":\"ListItem\",\"position\":15,\"url\":\"https://job-openings.monster.com/data-scientist-ii-sunnyvale-ca-us-randstad-life-sciences/221260942\"}\\r\\n                    ,\\r\\n                 {\"@type\":\"ListItem\",\"position\":16,\"url\":\"https://job-openings.monster.com/principal-data-scientist-sunnyvale-ca-us-randstad-technologies/221258720\"}\\r\\n                    ,\\r\\n                 {\"@type\":\"ListItem\",\"position\":17,\"url\":\"https://job-openings.monster.com/senior-data-scientist-san-francisco-ca-us/220742252\"}\\r\\n                    ,\\r\\n                 {\"@type\":\"ListItem\",\"position\":18,\"url\":\"https://job-openings.monster.com/sr-data-scientist-norco-ca-us-vsolvit-llc/221097801\"}\\r\\n                    ,\\r\\n                 {\"@type\":\"ListItem\",\"position\":19,\"url\":\"\"}\\r\\n                    ,\\r\\n                 {\"@type\":\"ListItem\",\"position\":20,\"url\":\"https://job-openings.monster.com/senior-data-science-manager-santa-clara-ca-us-ericsson-inc/220522561\"}\\r\\n                    ,\\r\\n                 {\"@type\":\"ListItem\",\"position\":21,\"url\":\"https://job-openings.monster.com/data-scientist-awesome-company-san-francisco-ca-us-cybercoders/221232309\"}\\r\\n                    ,\\r\\n                 {\"@type\":\"ListItem\",\"position\":22,\"url\":\"https://job-openings.monster.com/data-scientist-irvine-ca-us-jobot/221305341\"}\\r\\n                    ,\\r\\n                 {\"@type\":\"ListItem\",\"position\":23,\"url\":\"https://job-openings.monster.com/sr-product-data-scientist-ii-menlo-park-ca-us-apex-systems/221176175\"}\\r\\n                    ,\\r\\n                 {\"@type\":\"ListItem\",\"position\":24,\"url\":\"https://job-openings.monster.com/data-scientist-intern-irvine-ca-us-henkel/220471802\"}\\r\\n                    ,\\r\\n                 {\"@type\":\"ListItem\",\"position\":25,\"url\":\"https://job-openings.monster.com/principal-data-scientist-sunnyvale-ca-us-randstad-technologies/221258814\"}\\r\\n                    ,\\r\\n                 {\"@type\":\"ListItem\",\"position\":26,\"url\":\"https://job-openings.monster.com/data-scientist-san-jose-ca-us-tech-mahindra-limited/220397585\"}\\r\\n                    ,\\r\\n                 {\"@type\":\"ListItem\",\"position\":27,\"url\":\"https://job-openings.monster.com/senior-data-scientist-oakland-ca-us-cybercoders/221179214\"}\\r\\n                    ,\\r\\n                 {\"@type\":\"ListItem\",\"position\":28,\"url\":\"https://job-openings.monster.com/staff-data-scientist-sunnyvale-ca-us-randstad-technologies/221259012\"}\\r\\n                    ,\\r\\n                 {\"@type\":\"ListItem\",\"position\":29,\"url\":\"https://job-openings.monster.com/engineering-program-manager-data-science-remote-atherton-ca-us-crowdstrike/170db131-9645-4508-98b3-7249264aa698\"}\\r\\n            ]}\\r\\n    </script>\\r\\n\\r\\n\\r\\n\\r\\n        \\r\\n\\r\\n    <div class=\"mux-apas-ads\" data-mux=\"apasAds\" data-config=\"{&quot;targeting&quot;:{&quot;Site&quot;:&quot;United States&quot;,&quot;mURL&quot;:&quot;https%3a%2f%2fwww.monster.com%2fjobs%2fsearch%2f%3fq%3dData-Scientist%26where%3dCalifornia&quot;,&quot;lid&quot;:&quot;342&quot;,&quot;Page&quot;:&quot;Job Search Results&quot;,&quot;mesco&quot;:[1500152001001,1100048001001]},&quot;member&quot;:3525}\" data-ads=\"[{&quot;sizes&quot;:[1,1],&quot;placementId&quot;:14162549,&quot;id&quot;:&quot;bad1&quot;},{&quot;sizes&quot;:[1,1],&quot;placementId&quot;:14343737,&quot;id&quot;:&quot;bad2&quot;},{&quot;sizes&quot;:[728,90],&quot;placementId&quot;:14343738,&quot;id&quot;:&quot;bad3&quot;}]\"></div>\\r\\n<div class=\"mux-search-results\"\\r\\n     data-mux=\"searchResults\"\\r\\n     data-content-target=\"#JobPreview\"\\r\\n     data-results-target=\"#SearchResults\"\\r\\n     data-results-page=\"1\"\\r\\n     data-results-url=\"https://www.monster.com/jobs/search/pagination/?q=Data-Scientist&amp;where=California&amp;isDynamicPage=true&amp;isMKPagination=true\"\\r\\n     data-results-template=\"job-item-template\"\\r\\n     data-results-placeholder=\"job-item-placeholder-template\"\\r\\n     data-results-per-page=\"25\"\\r\\n     data-results-total=\"250\"\\r\\n     data-total-search-results=\"1773\"\\r\\n     data-is-dynamic=\"true\"\\r\\n     data-jv-non-job-content=\"-1\"\\r\\n  data-emulated-click-attr=\"coretrackclickauto\"    data-results-max=\"250\" data-jhash-url=\"https://www.monster.com/jobs/search/jhpagination?q=Data-Scientist&amp;where=California\" data-jhash-size=\"10\"  >\\r\\n\\r\\n    <div id=\"SearchResults\" class=\"mux-card mux-job-card\">\\r\\n\\r\\n                    <section class=\"card-content \"                              data-jobid=\"221272677\"   data-postingid=\"f010d383-7ef4-4ff3-9624-2dea36c2a7c3\"   onclick=\"MKImpressionTrackingMouseDownHijack(this, event)\">\\r\\n                        <div class=\"flex-row\">\\r\\n                                    <div class=\"mux-company-logo thumbnail is-loaded\">\\r\\n                                        <img src=\"https://media.newjobs.com/clu/xcyb/xcyberc3x/branding/6344/CyberCoders-logo.jpg\" alt=\"CyberCoders\" />\\r\\n                                    </div>\\r\\n                            <div class=\"summary\">\\r\\n                                <header class=\"card-header\">\\r\\n                                    <h2 class=\"title\"><a data-bypass=\"true\" data-m_impr_a_placement_id=\"JSR2CW\" data-m_impr_j_cid=\"660\" data-m_impr_j_coc=\"xcyberc3x\" data-m_impr_j_jawsid=\"453866293\" data-m_impr_j_jobid=\"221272677\" data-m_impr_j_jpm=\"1\" data-m_impr_j_jpt=\"1\" data-m_impr_j_lat=\"37.2928\" data-m_impr_j_lid=\"356\" data-m_impr_j_long=\"-121.7979\" data-m_impr_j_occid=\"11787\" data-m_impr_j_p=\"1\" data-m_impr_j_postingid=\"f010d383-7ef4-4ff3-9624-2dea36c2a7c3\" data-m_impr_j_pvc=\"monster\" data-m_impr_s_t=\"t\" data-m_impr_uuid=\"a49f9629-ecc0-4fd0-bb40-54388c5f4301\" href=\"https://job-openings.monster.com/data-scientist-ai-machine-learning-no-sponsorship-san-jose-ca-us-cybercoders/221272677\" onClick=\"clickJobTitle(&#39;plid=356&amp;pcid=660&amp;poccid=11787&#39;,&#39;Data Scientist&#39;,&#39;&#39;); clickJobTitleSiteCat(&#39;{&quot;events.event48&quot;:&quot;true&quot;,&quot;eVar25&quot;:&quot;Data Scientist - AI/Machine Learning - No Sponsorship&quot;,&quot;eVar66&quot;:&quot;Monster&quot;,&quot;eVar67&quot;:&quot;JSR2CW&quot;,&quot;eVar26&quot;:&quot;xcyberc3x_CyberCoders&quot;,&quot;eVar31&quot;:&quot;San Jose_CA_&quot;,&quot;prop22&quot;:&quot;Employee&quot;,&quot;prop24&quot;:&quot;2020-10-20T12:00&quot;,&quot;eVar53&quot;:&quot;1500152001001&quot;,&quot;eVar50&quot;:&quot;Duration&quot;,&quot;eVar74&quot;:&quot;logo&quot;}&#39;)\">Data Scientist - AI/Machine Learning - No Sponsorship\\r\\n</a></h2>\\r\\n                                </header>\\r\\n                                <div class=\"company\">\\r\\n                                        <span class=\"name\">CyberCoders</span>\\r\\n\\r\\n                                    <ul class=\"list-inline\">\\r\\n\\r\\n                                    </ul>\\r\\n                                </div>\\r\\n                                <div class=\"location\">\\r\\n                                        <span class=\"name\">\\r\\nSan Jose, CA\\r\\n</span>\\r\\n                                </div>\\r\\n                            </div>\\r\\n                            <div class=\"meta flex-col\">\\r\\n                                <time datetime=\"2017-05-26T12:00\">1 day ago</time>\\r\\n                                <span data-mux=\"tooltip\" title=\"Applied\" class=\"mux-tooltip applied-only\">\\r\\n                                    <i class=\"icon icon-applied\" aria-hidden=\"true\"></i>\\r\\n                                    <span class=\"sr-only\">Applied</span>\\r\\n                                </span>\\r\\n                                <span data-mux=\"tooltip\" title=\"Saved\" class=\"mux-tooltip saved-only\">\\r\\n                                    <i class=\"icon icon-saved\" aria-hidden=\"true\"></i>\\r\\n                                    <span class=\"sr-only\">Saved</span>\\r\\n                                </span>\\r\\n                            </div>\\r\\n                        </div>\\r\\n                    </section>\\r\\n                        <section class=\"card-content apas-ad\" data-mux=\"searchResultsAds\" style=\"display:none\">\\r\\n                            <div id=\"bad1\"></div>\\r\\n                        </section>\\r\\n                    <section class=\"card-content \"                              data-jobid=\"221171967\"   data-postingid=\"28fa35c9-e23b-4f9e-afed-824cdc4860a3\"   onclick=\"MKImpressionTrackingMouseDownHijack(this, event)\">\\r\\n                        <div class=\"flex-row\">\\r\\n                                    <div class=\"mux-company-logo thumbnail\"></div>\\r\\n                            <div class=\"summary\">\\r\\n                                <header class=\"card-header\">\\r\\n                                    <h2 class=\"title\"><a data-bypass=\"true\" data-m_impr_a_placement_id=\"JSR2CW\" data-m_impr_j_cid=\"559\" data-m_impr_j_coc=\"xw130187315wx\" data-m_impr_j_jawsid=\"453056913\" data-m_impr_j_jobid=\"221171967\" data-m_impr_j_jpm=\"1\" data-m_impr_j_jpt=\"1\" data-m_impr_j_lat=\"34.1088\" data-m_impr_j_lid=\"350\" data-m_impr_j_long=\"-117.8082\" data-m_impr_j_occid=\"11866\" data-m_impr_j_p=\"2\" data-m_impr_j_postingid=\"28fa35c9-e23b-4f9e-afed-824cdc4860a3\" data-m_impr_j_pvc=\"monster\" data-m_impr_s_t=\"t\" data-m_impr_uuid=\"da78df22-d00d-4b40-8997-4050004a20d7\" href=\"https://job-openings.monster.com/water-utility-data-scientist-data-analyst-san-dimas-ca-us-golden-state-water-company/221171967\" onClick=\"clickJobTitle(&#39;plid=350&amp;pcid=559&amp;poccid=11866&#39;,&#39;Data Scientist&#39;,&#39;&#39;); clickJobTitleSiteCat(&#39;{&quot;events.event48&quot;:&quot;true&quot;,&quot;eVar25&quot;:&quot;Water Utility Data Scientist / Data Analyst&quot;,&quot;eVar66&quot;:&quot;Monster&quot;,&quot;eVar67&quot;:&quot;JSR2CW&quot;,&quot;eVar26&quot;:&quot;xw130187315wx_Golden State Water Company&quot;,&quot;eVar31&quot;:&quot;San Dimas_CA_&quot;,&quot;prop22&quot;:&quot;Employee&quot;,&quot;prop24&quot;:&quot;2020-10-15T12:00&quot;,&quot;eVar53&quot;:&quot;1500152001001&quot;,&quot;eVar50&quot;:&quot;Duration&quot;,&quot;eVar74&quot;:&quot;regular&quot;}&#39;)\">Water Utility Data Scientist / Data Analyst\\r\\n</a></h2>\\r\\n                                </header>\\r\\n                                <div class=\"company\">\\r\\n                                        <span class=\"name\">Golden State Water Company</span>\\r\\n\\r\\n                                    <ul class=\"list-inline\">\\r\\n\\r\\n                                    </ul>\\r\\n                                </div>\\r\\n                                <div class=\"location\">\\r\\n                                        <span class=\"name\">\\r\\nSan Dimas, CA\\r\\n</span>\\r\\n                                </div>\\r\\n                            </div>\\r\\n                            <div class=\"meta flex-col\">\\r\\n                                <time datetime=\"2017-05-26T12:00\">6 days ago</time>\\r\\n                                <span data-mux=\"tooltip\" title=\"Applied\" class=\"mux-tooltip applied-only\">\\r\\n                                    <i class=\"icon icon-applied\" aria-hidden=\"true\"></i>\\r\\n                                    <span class=\"sr-only\">Applied</span>\\r\\n                                </span>\\r\\n                                <span data-mux=\"tooltip\" title=\"Saved\" class=\"mux-tooltip saved-only\">\\r\\n                                    <i class=\"icon icon-saved\" aria-hidden=\"true\"></i>\\r\\n                                    <span class=\"sr-only\">Saved</span>\\r\\n                                </span>\\r\\n                            </div>\\r\\n                        </div>\\r\\n                    </section>\\r\\n                    <section class=\"card-content \"                              data-jobid=\"221342195\"   data-postingid=\"5323c08c-9309-4bd1-8047-302702c2fd9f\"   onclick=\"MKImpressionTrackingMouseDownHijack(this, event)\">\\r\\n                        <div class=\"flex-row\">\\r\\n                                    <div class=\"mux-company-logo thumbnail\"></div>\\r\\n                            <div class=\"summary\">\\r\\n                                <header class=\"card-header\">\\r\\n                                    <h2 class=\"title\"><a data-bypass=\"true\" data-m_impr_a_placement_id=\"JSR2CW\" data-m_impr_j_cid=\"559\" data-m_impr_j_coc=\"xskyrocketvenx\" data-m_impr_j_jawsid=\"454364535\" data-m_impr_j_jobid=\"221342195\" data-m_impr_j_jpm=\"1\" data-m_impr_j_jpt=\"1\" data-m_impr_j_lat=\"37.3717\" data-m_impr_j_lid=\"356\" data-m_impr_j_long=\"-122.0255\" data-m_impr_j_occid=\"11866\" data-m_impr_j_p=\"3\" data-m_impr_j_postingid=\"5323c08c-9309-4bd1-8047-302702c2fd9f\" data-m_impr_j_pvc=\"monster\" data-m_impr_s_t=\"t\" data-m_impr_uuid=\"cb2fa57a-0d6e-4d42-8729-11103e7e1c7f\" href=\"https://job-openings.monster.com/sr-to-lead-data-scientist-iot-startup-up-to-200k-sunnyvale-ca-us-skyrocket-ventures/221342195\" onClick=\"clickJobTitle(&#39;plid=356&amp;pcid=559&amp;poccid=11866&#39;,&#39;Data Scientist&#39;,&#39;&#39;); clickJobTitleSiteCat(&#39;{&quot;events.event48&quot;:&quot;true&quot;,&quot;eVar25&quot;:&quot;Sr. to Lead Data Scientist (IoT startup, up to $200k)&quot;,&quot;eVar66&quot;:&quot;Monster&quot;,&quot;eVar67&quot;:&quot;JSR2CW&quot;,&quot;eVar26&quot;:&quot;xskyrocketvenx_Skyrocket Ventures&quot;,&quot;eVar31&quot;:&quot;Sunnyvale_CA_&quot;,&quot;prop22&quot;:&quot;Employee&quot;,&quot;prop24&quot;:&quot;2020-10-21T12:00&quot;,&quot;eVar53&quot;:&quot;1500152001001&quot;,&quot;eVar50&quot;:&quot;Duration&quot;,&quot;eVar74&quot;:&quot;regular&quot;}&#39;)\">Sr. to Lead Data Scientist (IoT startup, up to $200k)\\r\\n</a></h2>\\r\\n                                </header>\\r\\n                                <div class=\"company\">\\r\\n                                        <span class=\"name\">Skyrocket Ventures</span>\\r\\n\\r\\n                                    <ul class=\"list-inline\">\\r\\n\\r\\n                                    </ul>\\r\\n                                </div>\\r\\n                                <div class=\"location\">\\r\\n                                        <span class=\"name\">\\r\\nSunnyvale, CA\\r\\n</span>\\r\\n                                </div>\\r\\n                            </div>\\r\\n                            <div class=\"meta flex-col\">\\r\\n                                <time datetime=\"2017-05-26T12:00\">Posted today</time>\\r\\n                                <span data-mux=\"tooltip\" title=\"Applied\" class=\"mux-tooltip applied-only\">\\r\\n                                    <i class=\"icon icon-applied\" aria-hidden=\"true\"></i>\\r\\n                                    <span class=\"sr-only\">Applied</span>\\r\\n                                </span>\\r\\n                                <span data-mux=\"tooltip\" title=\"Saved\" class=\"mux-tooltip saved-only\">\\r\\n                                    <i class=\"icon icon-saved\" aria-hidden=\"true\"></i>\\r\\n                                    <span class=\"sr-only\">Saved</span>\\r\\n                                </span>\\r\\n                            </div>\\r\\n                        </div>\\r\\n                    </section>\\r\\n                    <section class=\"card-content \"                              data-jobid=\"220913633\"   data-postingid=\"5482e707-ca18-41ce-84e9-fb9dcbb0a8e0\"   onclick=\"MKImpressionTrackingMouseDownHijack(this, event)\">\\r\\n                        <div class=\"flex-row\">\\r\\n                                    <div class=\"mux-company-logo thumbnail\"></div>\\r\\n                            <div class=\"summary\">\\r\\n                                <header class=\"card-header\">\\r\\n                                    <h2 class=\"title\"><a data-bypass=\"true\" data-m_impr_a_placement_id=\"JSR2CW\" data-m_impr_j_cid=\"660\" data-m_impr_j_coc=\"ximssvsx\" data-m_impr_j_jawsid=\"451671237\" data-m_impr_j_jobid=\"220913633\" data-m_impr_j_jpm=\"1\" data-m_impr_j_jpt=\"1\" data-m_impr_j_lat=\"33.6189\" data-m_impr_j_lid=\"347\" data-m_impr_j_long=\"-117.929\" data-m_impr_j_occid=\"11904\" data-m_impr_j_p=\"4\" data-m_impr_j_postingid=\"5482e707-ca18-41ce-84e9-fb9dcbb0a8e0\" data-m_impr_j_pvc=\"monster\" data-m_impr_s_t=\"t\" data-m_impr_uuid=\"4be7bd92-894f-42e0-950b-ed5dbab3dd2b\" href=\"https://job-openings.monster.com/data-scientist-newport-beach-ca-us-ims/220913633\" onClick=\"clickJobTitle(&#39;plid=347&amp;pcid=660&amp;poccid=11904&#39;,&#39;Data Scientist&#39;,&#39;&#39;); clickJobTitleSiteCat(&#39;{&quot;events.event48&quot;:&quot;true&quot;,&quot;eVar25&quot;:&quot;Data Scientist&quot;,&quot;eVar66&quot;:&quot;Monster&quot;,&quot;eVar67&quot;:&quot;JSR2CW&quot;,&quot;eVar26&quot;:&quot;ximssvsx_IMS&quot;,&quot;eVar31&quot;:&quot;Newport Beach_CA_&quot;,&quot;prop22&quot;:&quot;Employee&quot;,&quot;prop24&quot;:&quot;2020-10-07T12:00&quot;,&quot;eVar53&quot;:&quot;1500152001001&quot;,&quot;eVar50&quot;:&quot;Duration&quot;,&quot;eVar74&quot;:&quot;regular&quot;}&#39;)\">Data Scientist\\r\\n</a></h2>\\r\\n                                </header>\\r\\n                                <div class=\"company\">\\r\\n                                        <span class=\"name\">IMS</span>\\r\\n\\r\\n                                    <ul class=\"list-inline\">\\r\\n\\r\\n                                    </ul>\\r\\n                                </div>\\r\\n                                <div class=\"location\">\\r\\n                                        <span class=\"name\">\\r\\nNewport Beach, CA\\r\\n</span>\\r\\n                                </div>\\r\\n                            </div>\\r\\n                            <div class=\"meta flex-col\">\\r\\n                                <time datetime=\"2017-05-26T12:00\">14 days ago</time>\\r\\n                                <span data-mux=\"tooltip\" title=\"Applied\" class=\"mux-tooltip applied-only\">\\r\\n                                    <i class=\"icon icon-applied\" aria-hidden=\"true\"></i>\\r\\n                                    <span class=\"sr-only\">Applied</span>\\r\\n                                </span>\\r\\n                                <span data-mux=\"tooltip\" title=\"Saved\" class=\"mux-tooltip saved-only\">\\r\\n                                    <i class=\"icon icon-saved\" aria-hidden=\"true\"></i>\\r\\n                                    <span class=\"sr-only\">Saved</span>\\r\\n                                </span>\\r\\n                            </div>\\r\\n                        </div>\\r\\n                    </section>\\r\\n                    <section class=\"card-content \"                              data-jobid=\"221337137\"   data-postingid=\"729f3035-64cf-463a-9340-5f4c3f805fbf\"   onclick=\"MKImpressionTrackingMouseDownHijack(this, event)\">\\r\\n                        <div class=\"flex-row\">\\r\\n                                    <div class=\"mux-company-logo thumbnail is-loaded\">\\r\\n                                        <img src=\"https://media.newjobs.com/clu/xjob/xjobot2018x/branding/161229/Jobot-logo-637293157573438943.png\" alt=\"Jobot\" />\\r\\n                                    </div>\\r\\n                            <div class=\"summary\">\\r\\n                                <header class=\"card-header\">\\r\\n                                    <h2 class=\"title\"><a data-bypass=\"true\" data-m_impr_a_placement_id=\"JSR2CW\" data-m_impr_j_cid=\"11\" data-m_impr_j_coc=\"xjobot2018x\" data-m_impr_j_jawsid=\"454333875\" data-m_impr_j_jobid=\"221337137\" data-m_impr_j_jpm=\"1\" data-m_impr_j_jpt=\"1\" data-m_impr_j_lat=\"34.1381\" data-m_impr_j_lid=\"348\" data-m_impr_j_long=\"-118.1666\" data-m_impr_j_occid=\"11892\" data-m_impr_j_p=\"5\" data-m_impr_j_postingid=\"729f3035-64cf-463a-9340-5f4c3f805fbf\" data-m_impr_j_pvc=\"monster\" data-m_impr_s_t=\"t\" data-m_impr_uuid=\"e15b1d6d-1d31-4eaa-a7be-379d166a1efd\" href=\"https://job-openings.monster.com/senior-data-scientist-pasadena-ca-us-jobot/221337137\" onClick=\"clickJobTitle(&#39;plid=348&amp;pcid=11&amp;poccid=11892&#39;,&#39;Data Scientist&#39;,&#39;&#39;); clickJobTitleSiteCat(&#39;{&quot;events.event48&quot;:&quot;true&quot;,&quot;eVar25&quot;:&quot;Senior Data Scientist&quot;,&quot;eVar66&quot;:&quot;Monster&quot;,&quot;eVar67&quot;:&quot;JSR2CW&quot;,&quot;eVar26&quot;:&quot;xjobot2018x_Jobot&quot;,&quot;eVar31&quot;:&quot;Pasadena_CA_&quot;,&quot;prop22&quot;:&quot;Employee&quot;,&quot;prop24&quot;:&quot;2020-10-21T12:00&quot;,&quot;eVar53&quot;:&quot;1500152001001&quot;,&quot;eVar50&quot;:&quot;Duration&quot;,&quot;eVar74&quot;:&quot;logo&quot;}&#39;)\">Senior Data Scientist\\r\\n</a></h2>\\r\\n                                </header>\\r\\n                                <div class=\"company\">\\r\\n                                        <span class=\"name\">Jobot</span>\\r\\n\\r\\n                                    <ul class=\"list-inline\">\\r\\n\\r\\n                                    </ul>\\r\\n                                </div>\\r\\n                                <div class=\"location\">\\r\\n                                        <span class=\"name\">\\r\\nPasadena, CA\\r\\n</span>\\r\\n                                </div>\\r\\n                            </div>\\r\\n                            <div class=\"meta flex-col\">\\r\\n                                <time datetime=\"2017-05-26T12:00\">Posted today</time>\\r\\n                                <span data-mux=\"tooltip\" title=\"Applied\" class=\"mux-tooltip applied-only\">\\r\\n                                    <i class=\"icon icon-applied\" aria-hidden=\"true\"></i>\\r\\n                                    <span class=\"sr-only\">Applied</span>\\r\\n                                </span>\\r\\n                                <span data-mux=\"tooltip\" title=\"Saved\" class=\"mux-tooltip saved-only\">\\r\\n                                    <i class=\"icon icon-saved\" aria-hidden=\"true\"></i>\\r\\n                                    <span class=\"sr-only\">Saved</span>\\r\\n                                </span>\\r\\n                            </div>\\r\\n                        </div>\\r\\n                    </section>\\r\\n                    <section class=\"card-content \"                              data-jobid=\"221283779\"   data-postingid=\"f01fd30a-83ae-4152-aa58-77bd925ad385\"   onclick=\"MKImpressionTrackingMouseDownHijack(this, event)\">\\r\\n                        <div class=\"flex-row\">\\r\\n                                    <div class=\"mux-company-logo thumbnail is-loaded\">\\r\\n                                        <img src=\"https://media.newjobs.com/clu/xjud/xjudgx/branding/27319/The-Judge-Group-logo-637383747136545339.png\" alt=\"The Judge Group\" />\\r\\n                                    </div>\\r\\n                            <div class=\"summary\">\\r\\n                                <header class=\"card-header\">\\r\\n                                    <h2 class=\"title\"><a data-bypass=\"true\" data-m_impr_a_placement_id=\"JSR2CW\" data-m_impr_j_cid=\"660\" data-m_impr_j_coc=\"xjudgwrapx\" data-m_impr_j_jawsid=\"453949961\" data-m_impr_j_jobid=\"221283779\" data-m_impr_j_jpm=\"1\" data-m_impr_j_jpt=\"1\" data-m_impr_j_lat=\"37.7749\" data-m_impr_j_lid=\"355\" data-m_impr_j_long=\"-122.4195\" data-m_impr_j_occid=\"11904\" data-m_impr_j_p=\"6\" data-m_impr_j_postingid=\"f01fd30a-83ae-4152-aa58-77bd925ad385\" data-m_impr_j_pvc=\"monster\" data-m_impr_s_t=\"t\" data-m_impr_uuid=\"8e1fb42a-a70c-4781-b039-cddcc3691537\" href=\"https://job-openings.monster.com/data-scientist-intermediate-san-francisco-ca-us-the-judge-group/221283779\" onClick=\"clickJobTitle(&#39;plid=355&amp;pcid=660&amp;poccid=11904&#39;,&#39;Data Scientist&#39;,&#39;&#39;); clickJobTitleSiteCat(&#39;{&quot;events.event48&quot;:&quot;true&quot;,&quot;eVar25&quot;:&quot;DATA SCIENTIST - INTERMEDIATE&quot;,&quot;eVar66&quot;:&quot;Monster&quot;,&quot;eVar67&quot;:&quot;JSR2CW&quot;,&quot;eVar26&quot;:&quot;xjudgwrapx_The Judge Group&quot;,&quot;eVar31&quot;:&quot;San Francisco_CA_&quot;,&quot;prop22&quot;:&quot;Employee&quot;,&quot;prop24&quot;:&quot;2020-10-20T12:00&quot;,&quot;eVar53&quot;:&quot;1500152001001&quot;,&quot;eVar50&quot;:&quot;Duration&quot;,&quot;eVar74&quot;:&quot;logo&quot;}&#39;)\">DATA SCIENTIST - INTERMEDIATE\\r\\n</a></h2>\\r\\n                                </header>\\r\\n                                <div class=\"company\">\\r\\n                                        <span class=\"name\">The Judge Group</span>\\r\\n\\r\\n                                    <ul class=\"list-inline\">\\r\\n\\r\\n                                    </ul>\\r\\n                                </div>\\r\\n                                <div class=\"location\">\\r\\n                                        <span class=\"name\">\\r\\nSan Francisco, CA\\r\\n</span>\\r\\n                                </div>\\r\\n                            </div>\\r\\n                            <div class=\"meta flex-col\">\\r\\n                                <time datetime=\"2017-05-26T12:00\">1 day ago</time>\\r\\n                                <span data-mux=\"tooltip\" title=\"Applied\" class=\"mux-tooltip applied-only\">\\r\\n                                    <i class=\"icon icon-applied\" aria-hidden=\"true\"></i>\\r\\n                                    <span class=\"sr-only\">Applied</span>\\r\\n                                </span>\\r\\n                                <span data-mux=\"tooltip\" title=\"Saved\" class=\"mux-tooltip saved-only\">\\r\\n                                    <i class=\"icon icon-saved\" aria-hidden=\"true\"></i>\\r\\n                                    <span class=\"sr-only\">Saved</span>\\r\\n                                </span>\\r\\n                            </div>\\r\\n                        </div>\\r\\n                    </section>\\r\\n                        <section class=\"card-content apas-ad\" data-mux=\"searchResultsAds\" style=\"display:none\">\\r\\n                            <div id=\"bad2\"></div>\\r\\n                        </section>\\r\\n                    <section class=\"card-content \"                              data-jobid=\"220341774\"   data-postingid=\"97d005b6-70c0-4d21-99db-0162daedb82f\"   onclick=\"MKImpressionTrackingMouseDownHijack(this, event)\">\\r\\n                        <div class=\"flex-row\">\\r\\n                                    <div class=\"mux-company-logo thumbnail is-loaded\">\\r\\n                                        <img src=\"https://media.newjobs.com/clu/xape/xapexppvx/branding/27017/Apex-Systems-logo-637363659369052192.png\" alt=\"Apex Systems\" />\\r\\n                                    </div>\\r\\n                            <div class=\"summary\">\\r\\n                                <header class=\"card-header\">\\r\\n                                    <h2 class=\"title\"><a data-bypass=\"true\" data-m_impr_a_placement_id=\"JSR2CW\" data-m_impr_j_cid=\"660\" data-m_impr_j_coc=\"xapexppvx\" data-m_impr_j_jawsid=\"448610614\" data-m_impr_j_jobid=\"220341774\" data-m_impr_j_jpm=\"1\" data-m_impr_j_jpt=\"1\" data-m_impr_j_lat=\"37.3934\" data-m_impr_j_lid=\"356\" data-m_impr_j_long=\"-121.9655\" data-m_impr_j_occid=\"11904\" data-m_impr_j_p=\"7\" data-m_impr_j_postingid=\"97d005b6-70c0-4d21-99db-0162daedb82f\" data-m_impr_j_pvc=\"monster\" data-m_impr_s_t=\"t\" data-m_impr_uuid=\"ab439158-d78d-4cf3-9353-45638f013373\" href=\"https://job-openings.monster.com/data-scientist-tester-santa-clara-ca-us-apex-systems/220341774\" onClick=\"clickJobTitle(&#39;plid=356&amp;pcid=660&amp;poccid=11904&#39;,&#39;Data Scientist&#39;,&#39;&#39;); clickJobTitleSiteCat(&#39;{&quot;events.event48&quot;:&quot;true&quot;,&quot;eVar25&quot;:&quot;Data Scientist/Tester&quot;,&quot;eVar66&quot;:&quot;Monster&quot;,&quot;eVar67&quot;:&quot;JSR2CW&quot;,&quot;eVar26&quot;:&quot;xapexppvx_Apex Systems&quot;,&quot;eVar31&quot;:&quot;Santa Clara_CA_&quot;,&quot;prop22&quot;:&quot;Employee&quot;,&quot;prop24&quot;:&quot;2020-10-19T12:00&quot;,&quot;eVar53&quot;:&quot;1500152001001&quot;,&quot;eVar50&quot;:&quot;Duration&quot;,&quot;eVar74&quot;:&quot;logo&quot;}&#39;)\">Data Scientist/Tester\\r\\n</a></h2>\\r\\n                                </header>\\r\\n                                <div class=\"company\">\\r\\n                                        <span class=\"name\">Apex Systems</span>\\r\\n\\r\\n                                    <ul class=\"list-inline\">\\r\\n\\r\\n                                    </ul>\\r\\n                                </div>\\r\\n                                <div class=\"location\">\\r\\n                                        <span class=\"name\">\\r\\nSanta Clara, CA\\r\\n</span>\\r\\n                                </div>\\r\\n                            </div>\\r\\n                            <div class=\"meta flex-col\">\\r\\n                                <time datetime=\"2017-05-26T12:00\">2 days ago</time>\\r\\n                                <span data-mux=\"tooltip\" title=\"Applied\" class=\"mux-tooltip applied-only\">\\r\\n                                    <i class=\"icon icon-applied\" aria-hidden=\"true\"></i>\\r\\n                                    <span class=\"sr-only\">Applied</span>\\r\\n                                </span>\\r\\n                                <span data-mux=\"tooltip\" title=\"Saved\" class=\"mux-tooltip saved-only\">\\r\\n                                    <i class=\"icon icon-saved\" aria-hidden=\"true\"></i>\\r\\n                                    <span class=\"sr-only\">Saved</span>\\r\\n                                </span>\\r\\n                            </div>\\r\\n                        </div>\\r\\n                    </section>\\r\\n                    <section class=\"card-content \"                              data-jobid=\"221198606\"   data-postingid=\"6cccf08c-dd86-483e-9af2-4a4d1ff5670d\"   onclick=\"MKImpressionTrackingMouseDownHijack(this, event)\">\\r\\n                        <div class=\"flex-row\">\\r\\n                                    <div class=\"mux-company-logo thumbnail is-loaded\">\\r\\n                                        <img src=\"https://media.newjobs.com/clu/xhhe/xhhengx/branding/30374/System-One-logo.jpg\" alt=\"System One\" />\\r\\n                                    </div>\\r\\n                            <div class=\"summary\">\\r\\n                                <header class=\"card-header\">\\r\\n                                    <h2 class=\"title\"><a data-bypass=\"true\" data-m_impr_a_placement_id=\"JSR2CW\" data-m_impr_j_cid=\"559\" data-m_impr_j_coc=\"xjoulex\" data-m_impr_j_jawsid=\"453177898\" data-m_impr_j_jobid=\"221198606\" data-m_impr_j_jpm=\"1\" data-m_impr_j_jpt=\"1\" data-m_impr_j_lat=\"37.3519\" data-m_impr_j_lid=\"356\" data-m_impr_j_long=\"-121.952\" data-m_impr_j_occid=\"11749\" data-m_impr_j_p=\"8\" data-m_impr_j_postingid=\"6cccf08c-dd86-483e-9af2-4a4d1ff5670d\" data-m_impr_j_pvc=\"monster\" data-m_impr_s_t=\"t\" data-m_impr_uuid=\"7ddf21a5-7dbc-49be-8f0e-387cbc5daed0\" href=\"https://job-openings.monster.com/data-scientist-ii-santa-clara-ca-us-system-one/221198606\" onClick=\"clickJobTitle(&#39;plid=356&amp;pcid=559&amp;poccid=11749&#39;,&#39;Data Scientist&#39;,&#39;&#39;); clickJobTitleSiteCat(&#39;{&quot;events.event48&quot;:&quot;true&quot;,&quot;eVar25&quot;:&quot;Data Scientist II&quot;,&quot;eVar66&quot;:&quot;Monster&quot;,&quot;eVar67&quot;:&quot;JSR2CW&quot;,&quot;eVar26&quot;:&quot;xjoulex_System One&quot;,&quot;eVar31&quot;:&quot;Santa Clara_CA_&quot;,&quot;prop24&quot;:&quot;2020-10-16T12:00&quot;,&quot;eVar53&quot;:&quot;1500152001001&quot;,&quot;eVar50&quot;:&quot;Duration&quot;,&quot;eVar74&quot;:&quot;logo&quot;}&#39;)\">Data Scientist II\\r\\n</a></h2>\\r\\n                                </header>\\r\\n                                <div class=\"company\">\\r\\n                                        <span class=\"name\">System One</span>\\r\\n\\r\\n                                    <ul class=\"list-inline\">\\r\\n\\r\\n                                    </ul>\\r\\n                                </div>\\r\\n                                <div class=\"location\">\\r\\n                                        <span class=\"name\">\\r\\nSanta Clara, CA\\r\\n</span>\\r\\n                                </div>\\r\\n                            </div>\\r\\n                            <div class=\"meta flex-col\">\\r\\n                                <time datetime=\"2017-05-26T12:00\">5 days ago</time>\\r\\n                                <span data-mux=\"tooltip\" title=\"Applied\" class=\"mux-tooltip applied-only\">\\r\\n                                    <i class=\"icon icon-applied\" aria-hidden=\"true\"></i>\\r\\n                                    <span class=\"sr-only\">Applied</span>\\r\\n                                </span>\\r\\n                                <span data-mux=\"tooltip\" title=\"Saved\" class=\"mux-tooltip saved-only\">\\r\\n                                    <i class=\"icon icon-saved\" aria-hidden=\"true\"></i>\\r\\n                                    <span class=\"sr-only\">Saved</span>\\r\\n                                </span>\\r\\n                            </div>\\r\\n                        </div>\\r\\n                    </section>\\r\\n                    <section class=\"card-content \"                              data-jobid=\"221102179\"   data-postingid=\"7d870156-6c19-4bb5-831c-0b9fbcc83dd2\"   onclick=\"MKImpressionTrackingMouseDownHijack(this, event)\">\\r\\n                        <div class=\"flex-row\">\\r\\n                                    <div class=\"mux-company-logo thumbnail is-loaded\">\\r\\n                                        <img src=\"https://media.newjobs.com/clu/x685/x685177hjsx/branding/166378/ADP-RPO-logo.png\" alt=\"Henkel\" />\\r\\n                                    </div>\\r\\n                            <div class=\"summary\">\\r\\n                                <header class=\"card-header\">\\r\\n                                    <h2 class=\"title\"><a data-bypass=\"true\" data-m_impr_a_placement_id=\"JSR2CW\" data-m_impr_j_cid=\"11\" data-m_impr_j_coc=\"x685177hjsx\" data-m_impr_j_jawsid=\"452747885\" data-m_impr_j_jobid=\"221102179\" data-m_impr_j_jpm=\"1\" data-m_impr_j_jpt=\"1\" data-m_impr_j_lat=\"33.6694\" data-m_impr_j_lid=\"350\" data-m_impr_j_long=\"-117.8232\" data-m_impr_j_occid=\"11892\" data-m_impr_j_p=\"9\" data-m_impr_j_postingid=\"7d870156-6c19-4bb5-831c-0b9fbcc83dd2\" data-m_impr_j_pvc=\"monster\" data-m_impr_s_t=\"t\" data-m_impr_uuid=\"77b76568-e8c8-4150-a9fc-9e57a8cf9244\" href=\"https://job-openings.monster.com/data-scientist-intern-irvine-ca-us-henkel/221102179\" onClick=\"clickJobTitle(&#39;plid=350&amp;pcid=11&amp;poccid=11892&#39;,&#39;Data Scientist&#39;,&#39;&#39;); clickJobTitleSiteCat(&#39;{&quot;events.event48&quot;:&quot;true&quot;,&quot;eVar25&quot;:&quot;Data Scientist Intern&quot;,&quot;eVar66&quot;:&quot;Monster&quot;,&quot;eVar67&quot;:&quot;JSR2CW&quot;,&quot;eVar26&quot;:&quot;x685177hjsx_Henkel&quot;,&quot;eVar31&quot;:&quot;Irvine_CA_&quot;,&quot;prop22&quot;:&quot;Employee&quot;,&quot;prop24&quot;:&quot;2020-10-14T12:00&quot;,&quot;eVar53&quot;:&quot;1500152001001&quot;,&quot;eVar50&quot;:&quot;Duration&quot;,&quot;eVar74&quot;:&quot;logo&quot;}&#39;)\">Data Scientist Intern\\r\\n</a></h2>\\r\\n                                </header>\\r\\n                                <div class=\"company\">\\r\\n                                        <span class=\"name\">Henkel</span>\\r\\n\\r\\n                                    <ul class=\"list-inline\">\\r\\n\\r\\n                                    </ul>\\r\\n                                </div>\\r\\n                                <div class=\"location\">\\r\\n                                        <span class=\"name\">\\r\\nIrvine, CA\\r\\n</span>\\r\\n                                </div>\\r\\n                            </div>\\r\\n                            <div class=\"meta flex-col\">\\r\\n                                <time datetime=\"2017-05-26T12:00\">7 days ago</time>\\r\\n                                <span data-mux=\"tooltip\" title=\"Applied\" class=\"mux-tooltip applied-only\">\\r\\n                                    <i class=\"icon icon-applied\" aria-hidden=\"true\"></i>\\r\\n                                    <span class=\"sr-only\">Applied</span>\\r\\n                                </span>\\r\\n                                <span data-mux=\"tooltip\" title=\"Saved\" class=\"mux-tooltip saved-only\">\\r\\n                                    <i class=\"icon icon-saved\" aria-hidden=\"true\"></i>\\r\\n                                    <span class=\"sr-only\">Saved</span>\\r\\n                                </span>\\r\\n                            </div>\\r\\n                        </div>\\r\\n                    </section>\\r\\n                    <section class=\"card-content \"                              data-jobid=\"220927185\"   data-postingid=\"f0638a99-22fd-4d42-9182-700047c9f4a8\"   onclick=\"MKImpressionTrackingMouseDownHijack(this, event)\">\\r\\n                        <div class=\"flex-row\">\\r\\n                                    <div class=\"mux-company-logo thumbnail is-loaded\">\\r\\n                                        <img src=\"//media.newjobs.com/CompanyJobPostingLogo/1919358/616987.jpg\" alt=\"Tech Mahindra Limited\" />\\r\\n                                    </div>\\r\\n                            <div class=\"summary\">\\r\\n                                <header class=\"card-header\">\\r\\n                                    <h2 class=\"title\"><a data-bypass=\"true\" data-m_impr_a_placement_id=\"JSR2CW\" data-m_impr_j_cid=\"559\" data-m_impr_j_coc=\"xtechminx\" data-m_impr_j_jawsid=\"451725048\" data-m_impr_j_jobid=\"220927185\" data-m_impr_j_jpm=\"1\" data-m_impr_j_jpt=\"1\" data-m_impr_j_lat=\"37.3873\" data-m_impr_j_lid=\"356\" data-m_impr_j_long=\"-122.0158\" data-m_impr_j_occid=\"11866\" data-m_impr_j_p=\"10\" data-m_impr_j_postingid=\"f0638a99-22fd-4d42-9182-700047c9f4a8\" data-m_impr_j_pvc=\"monster\" data-m_impr_s_t=\"t\" data-m_impr_uuid=\"9ab7c130-f7f3-43c4-9e33-fe723d70784b\" href=\"https://job-openings.monster.com/data-scientist-sunnyvale-ca-us-tech-mahindra-limited/220927185\" onClick=\"clickJobTitle(&#39;plid=356&amp;pcid=559&amp;poccid=11866&#39;,&#39;Data Scientist&#39;,&#39;&#39;); clickJobTitleSiteCat(&#39;{&quot;events.event48&quot;:&quot;true&quot;,&quot;eVar25&quot;:&quot;Data Scientist&quot;,&quot;eVar66&quot;:&quot;Monster&quot;,&quot;eVar67&quot;:&quot;JSR2CW&quot;,&quot;eVar26&quot;:&quot;xtechminx_Tech Mahindra Limited&quot;,&quot;eVar31&quot;:&quot;Sunnyvale_CA_&quot;,&quot;prop22&quot;:&quot;Employee&quot;,&quot;prop24&quot;:&quot;2020-10-07T12:00&quot;,&quot;eVar53&quot;:&quot;1500152001001&quot;,&quot;eVar50&quot;:&quot;Duration&quot;,&quot;eVar74&quot;:&quot;logo&quot;}&#39;)\">Data Scientist\\r\\n</a></h2>\\r\\n                                </header>\\r\\n                                <div class=\"company\">\\r\\n                                        <span class=\"name\">Tech Mahindra Limited</span>\\r\\n\\r\\n                                    <ul class=\"list-inline\">\\r\\n\\r\\n                                    </ul>\\r\\n                                </div>\\r\\n                                <div class=\"location\">\\r\\n                                        <span class=\"name\">\\r\\nSunnyvale, CA\\r\\n</span>\\r\\n                                </div>\\r\\n                            </div>\\r\\n                            <div class=\"meta flex-col\">\\r\\n                                <time datetime=\"2017-05-26T12:00\">14 days ago</time>\\r\\n                                <span data-mux=\"tooltip\" title=\"Applied\" class=\"mux-tooltip applied-only\">\\r\\n                                    <i class=\"icon icon-applied\" aria-hidden=\"true\"></i>\\r\\n                                    <span class=\"sr-only\">Applied</span>\\r\\n                                </span>\\r\\n                                <span data-mux=\"tooltip\" title=\"Saved\" class=\"mux-tooltip saved-only\">\\r\\n                                    <i class=\"icon icon-saved\" aria-hidden=\"true\"></i>\\r\\n                                    <span class=\"sr-only\">Saved</span>\\r\\n                                </span>\\r\\n                            </div>\\r\\n                        </div>\\r\\n                    </section>\\r\\n                    <section class=\"card-content \"   data-ssr=\"true\"                               data-jobid=\"221273009\"   data-postingid=\"9cf77e8a-52de-4e55-85f2-1750810ef4cf\"   onclick=\"MKImpressionTrackingMouseDownHijack(this, event)\">\\r\\n<p class=\"entry\">Interesting opportunity</p>                        <div class=\"flex-row\">\\r\\n                                    <div class=\"mux-company-logo thumbnail is-loaded\">\\r\\n                                        <img src=\"https://media.newjobs.com/clu/xcyb/xcyberc3x/branding/6344/CyberCoders-logo.jpg\" alt=\"CyberCoders\" />\\r\\n                                    </div>\\r\\n                            <div class=\"summary\">\\r\\n                                <header class=\"card-header\">\\r\\n                                    <h2 class=\"title\"><a data-bypass=\"true\" data-m_impr_a_placement_id=\"JSRSEC\" data-m_impr_j_cid=\"660\" data-m_impr_j_coc=\"xcyberc3x\" data-m_impr_j_jawsid=\"453866624\" data-m_impr_j_jobid=\"221273009\" data-m_impr_j_jpm=\"1\" data-m_impr_j_jpt=\"1\" data-m_impr_j_lat=\"37.497\" data-m_impr_j_lid=\"0\" data-m_impr_j_long=\"-122.2756\" data-m_impr_j_occid=\"11848\" data-m_impr_j_p=\"11\" data-m_impr_j_postingid=\"9cf77e8a-52de-4e55-85f2-1750810ef4cf\" data-m_impr_j_pvc=\"monster\" data-m_impr_s_t=\"m\" data-m_impr_uuid=\"9ba4348f-4397-4a82-b71a-111711cf1e60\" href=\"https://job-openings.monster.com/manager-of-laboratory-informatics-austin-tx-us-cybercoders/221273009\" onClick=\"clickJobTitle(&#39;plid=0&amp;pcid=660&amp;poccid=11848&#39;,&#39;Data Scientist&#39;,&#39;&#39;); clickJobTitleSiteCat(&#39;{&quot;events.event48&quot;:&quot;true&quot;,&quot;events.event65&quot;:&quot;true&quot;,&quot;eVar25&quot;:&quot;Manager of Laboratory Informatics&quot;,&quot;eVar66&quot;:&quot;Monster&quot;,&quot;eVar67&quot;:&quot;JSRSEC&quot;,&quot;eVar26&quot;:&quot;xcyberc3x_CyberCoders&quot;,&quot;eVar31&quot;:&quot;Austin_TX_&quot;,&quot;prop22&quot;:&quot;Full-Time&quot;,&quot;prop24&quot;:&quot;2020-10-20T04:12&quot;,&quot;eVar47&quot;:&quot;monster&quot;,&quot;eVar53&quot;:&quot;1100048001001&quot;,&quot;eVar50&quot;:&quot;Duration&quot;,&quot;eVar74&quot;:&quot;logo&quot;}&#39;)\">Manager of Laboratory Informatics\\r\\n</a></h2>\\r\\n                                </header>\\r\\n                                <div class=\"company\">\\r\\n                                        <span class=\"name\">CyberCoders</span>\\r\\n\\r\\n                                    <ul class=\"list-inline\">\\r\\n\\r\\n                                    </ul>\\r\\n                                </div>\\r\\n                                <div class=\"location\">\\r\\n                                        <span class=\"name\">\\r\\nAustin, TX\\r\\n</span>\\r\\n                                </div>\\r\\n                            </div>\\r\\n                            <div class=\"meta flex-col\">\\r\\n                                <time datetime=\"2017-05-26T12:00\">1 day ago</time>\\r\\n                                <span data-mux=\"tooltip\" title=\"Applied\" class=\"mux-tooltip applied-only\">\\r\\n                                    <i class=\"icon icon-applied\" aria-hidden=\"true\"></i>\\r\\n                                    <span class=\"sr-only\">Applied</span>\\r\\n                                </span>\\r\\n                                <span data-mux=\"tooltip\" title=\"Saved\" class=\"mux-tooltip saved-only\">\\r\\n                                    <i class=\"icon icon-saved\" aria-hidden=\"true\"></i>\\r\\n                                    <span class=\"sr-only\">Saved</span>\\r\\n                                </span>\\r\\n                            </div>\\r\\n                        </div>\\r\\n                    </section>\\r\\n                    <section class=\"card-content \"                              data-jobid=\"220465099\"   data-postingid=\"934f91bf-bb99-4419-97d5-8a9c28b9c335\"   onclick=\"MKImpressionTrackingMouseDownHijack(this, event)\">\\r\\n                        <div class=\"flex-row\">\\r\\n                                    <div class=\"mux-company-logo thumbnail\"></div>\\r\\n                            <div class=\"summary\">\\r\\n                                <header class=\"card-header\">\\r\\n                                    <h2 class=\"title\"><a data-bypass=\"true\" data-m_impr_a_placement_id=\"JSR2CW\" data-m_impr_j_cid=\"660\" data-m_impr_j_coc=\"xmastech4x\" data-m_impr_j_jawsid=\"449495239\" data-m_impr_j_jobid=\"220465099\" data-m_impr_j_jpm=\"1\" data-m_impr_j_jpt=\"1\" data-m_impr_j_lat=\"34.047\" data-m_impr_j_lid=\"348\" data-m_impr_j_long=\"-118.4487\" data-m_impr_j_occid=\"11904\" data-m_impr_j_p=\"12\" data-m_impr_j_postingid=\"934f91bf-bb99-4419-97d5-8a9c28b9c335\" data-m_impr_j_pvc=\"monster\" data-m_impr_s_t=\"t\" data-m_impr_uuid=\"56ff610e-41f2-4d26-9e0b-de12cc06cbf7\" href=\"https://job-openings.monster.com/data-scientist-los-angeles-ca-us-mastech-digital/220465099\" onClick=\"clickJobTitle(&#39;plid=348&amp;pcid=660&amp;poccid=11904&#39;,&#39;Data Scientist&#39;,&#39;&#39;); clickJobTitleSiteCat(&#39;{&quot;events.event48&quot;:&quot;true&quot;,&quot;eVar25&quot;:&quot;Data Scientist&quot;,&quot;eVar66&quot;:&quot;Monster&quot;,&quot;eVar67&quot;:&quot;JSR2CW&quot;,&quot;eVar26&quot;:&quot;xmastech4x_Mastech Digital&quot;,&quot;eVar31&quot;:&quot;Los Angeles_CA_&quot;,&quot;prop22&quot;:&quot;Employee&quot;,&quot;prop24&quot;:&quot;2020-09-26T12:00&quot;,&quot;eVar53&quot;:&quot;1500152001001&quot;,&quot;eVar50&quot;:&quot;Duration&quot;,&quot;eVar74&quot;:&quot;regular&quot;}&#39;)\">Data Scientist\\r\\n</a></h2>\\r\\n                                </header>\\r\\n                                <div class=\"company\">\\r\\n                                        <span class=\"name\">Mastech Digital</span>\\r\\n\\r\\n                                    <ul class=\"list-inline\">\\r\\n\\r\\n                                    </ul>\\r\\n                                </div>\\r\\n                                <div class=\"location\">\\r\\n                                        <span class=\"name\">\\r\\nLos Angeles, CA\\r\\n</span>\\r\\n                                </div>\\r\\n                            </div>\\r\\n                            <div class=\"meta flex-col\">\\r\\n                                <time datetime=\"2017-05-26T12:00\">25 days ago</time>\\r\\n                                <span data-mux=\"tooltip\" title=\"Applied\" class=\"mux-tooltip applied-only\">\\r\\n                                    <i class=\"icon icon-applied\" aria-hidden=\"true\"></i>\\r\\n                                    <span class=\"sr-only\">Applied</span>\\r\\n                                </span>\\r\\n                                <span data-mux=\"tooltip\" title=\"Saved\" class=\"mux-tooltip saved-only\">\\r\\n                                    <i class=\"icon icon-saved\" aria-hidden=\"true\"></i>\\r\\n                                    <span class=\"sr-only\">Saved</span>\\r\\n                                </span>\\r\\n                            </div>\\r\\n                        </div>\\r\\n                    </section>\\r\\n                    <section class=\"card-content \"                              data-jobid=\"221260942\"   data-postingid=\"d5f4c66b-3dba-4fd8-ae7e-b75f583dff60\"   onclick=\"MKImpressionTrackingMouseDownHijack(this, event)\">\\r\\n                        <div class=\"flex-row\">\\r\\n                                    <div class=\"mux-company-logo thumbnail\"></div>\\r\\n                            <div class=\"summary\">\\r\\n                                <header class=\"card-header\">\\r\\n                                    <h2 class=\"title\"><a data-bypass=\"true\" data-m_impr_a_placement_id=\"JSR2CW\" data-m_impr_j_cid=\"559\" data-m_impr_j_coc=\"xdeltasix\" data-m_impr_j_jawsid=\"453753384\" data-m_impr_j_jobid=\"221260942\" data-m_impr_j_jpm=\"1\" data-m_impr_j_jpt=\"1\" data-m_impr_j_lat=\"37.3873\" data-m_impr_j_lid=\"342\" data-m_impr_j_long=\"-122.0158\" data-m_impr_j_occid=\"11749\" data-m_impr_j_p=\"13\" data-m_impr_j_postingid=\"d5f4c66b-3dba-4fd8-ae7e-b75f583dff60\" data-m_impr_j_pvc=\"monster\" data-m_impr_s_t=\"t\" data-m_impr_uuid=\"650c7b26-b7c2-41c5-abc1-ed7afc580f5c\" href=\"https://job-openings.monster.com/data-scientist-ii-sunnyvale-ca-us-randstad-life-sciences/221260942\" onClick=\"clickJobTitle(&#39;plid=342&amp;pcid=559&amp;poccid=11749&#39;,&#39;Data Scientist&#39;,&#39;&#39;); clickJobTitleSiteCat(&#39;{&quot;events.event48&quot;:&quot;true&quot;,&quot;eVar25&quot;:&quot;Data Scientist II&quot;,&quot;eVar66&quot;:&quot;Monster&quot;,&quot;eVar67&quot;:&quot;JSR2CW&quot;,&quot;eVar26&quot;:&quot;xdeltasix_Randstad Life Sciences&quot;,&quot;eVar31&quot;:&quot;Sunnyvale_CA_&quot;,&quot;prop22&quot;:&quot;Employee&quot;,&quot;prop24&quot;:&quot;2020-10-19T12:00&quot;,&quot;eVar53&quot;:&quot;1500152001001&quot;,&quot;eVar50&quot;:&quot;Duration&quot;,&quot;eVar74&quot;:&quot;regular&quot;}&#39;)\">Data Scientist II\\r\\n</a></h2>\\r\\n                                </header>\\r\\n                                <div class=\"company\">\\r\\n                                        <span class=\"name\">Randstad Life Sciences</span>\\r\\n\\r\\n                                    <ul class=\"list-inline\">\\r\\n\\r\\n                                    </ul>\\r\\n                                </div>\\r\\n                                <div class=\"location\">\\r\\n                                        <span class=\"name\">\\r\\nSunnyvale, CA\\r\\n</span>\\r\\n                                </div>\\r\\n                            </div>\\r\\n                            <div class=\"meta flex-col\">\\r\\n                                <time datetime=\"2017-05-26T12:00\">2 days ago</time>\\r\\n                                <span data-mux=\"tooltip\" title=\"Applied\" class=\"mux-tooltip applied-only\">\\r\\n                                    <i class=\"icon icon-applied\" aria-hidden=\"true\"></i>\\r\\n                                    <span class=\"sr-only\">Applied</span>\\r\\n                                </span>\\r\\n                                <span data-mux=\"tooltip\" title=\"Saved\" class=\"mux-tooltip saved-only\">\\r\\n                                    <i class=\"icon icon-saved\" aria-hidden=\"true\"></i>\\r\\n                                    <span class=\"sr-only\">Saved</span>\\r\\n                                </span>\\r\\n                            </div>\\r\\n                        </div>\\r\\n                    </section>\\r\\n                    <section class=\"card-content \"                              data-jobid=\"221258720\"   data-postingid=\"c27494fd-54ed-4234-b2fe-ad6b5ad4f9ca\"   onclick=\"MKImpressionTrackingMouseDownHijack(this, event)\">\\r\\n                        <div class=\"flex-row\">\\r\\n                                    <div class=\"mux-company-logo thumbnail is-loaded\">\\r\\n                                        <img src=\"https://media.newjobs.com/clu/xnbs/xnbsx/branding/15946/Randstad-Technologies-logo.jpg\" alt=\"Randstad Technologies\" />\\r\\n                                    </div>\\r\\n                            <div class=\"summary\">\\r\\n                                <header class=\"card-header\">\\r\\n                                    <h2 class=\"title\"><a data-bypass=\"true\" data-m_impr_a_placement_id=\"JSR2CW\" data-m_impr_j_cid=\"660\" data-m_impr_j_coc=\"xnbs1x\" data-m_impr_j_jawsid=\"453741569\" data-m_impr_j_jobid=\"221258720\" data-m_impr_j_jpm=\"1\" data-m_impr_j_jpt=\"1\" data-m_impr_j_lat=\"37.3717\" data-m_impr_j_lid=\"342\" data-m_impr_j_long=\"-122.0255\" data-m_impr_j_occid=\"11848\" data-m_impr_j_p=\"14\" data-m_impr_j_postingid=\"c27494fd-54ed-4234-b2fe-ad6b5ad4f9ca\" data-m_impr_j_pvc=\"monster\" data-m_impr_s_t=\"t\" data-m_impr_uuid=\"b44177a2-644c-40a4-bcb9-3efbf60e1671\" href=\"https://job-openings.monster.com/principal-data-scientist-sunnyvale-ca-us-randstad-technologies/221258720\" onClick=\"clickJobTitle(&#39;plid=342&amp;pcid=660&amp;poccid=11848&#39;,&#39;Data Scientist&#39;,&#39;&#39;); clickJobTitleSiteCat(&#39;{&quot;events.event48&quot;:&quot;true&quot;,&quot;eVar25&quot;:&quot;Principal Data Scientist&quot;,&quot;eVar66&quot;:&quot;Monster&quot;,&quot;eVar67&quot;:&quot;JSR2CW&quot;,&quot;eVar26&quot;:&quot;xnbs1x_Randstad Technologies&quot;,&quot;eVar31&quot;:&quot;Sunnyvale_CA_&quot;,&quot;prop22&quot;:&quot;Employee&quot;,&quot;prop24&quot;:&quot;2020-10-19T12:00&quot;,&quot;eVar53&quot;:&quot;1500152001001&quot;,&quot;eVar50&quot;:&quot;Duration&quot;,&quot;eVar74&quot;:&quot;logo&quot;}&#39;)\">Principal Data Scientist\\r\\n</a></h2>\\r\\n                                </header>\\r\\n                                <div class=\"company\">\\r\\n                                        <span class=\"name\">Randstad Technologies</span>\\r\\n\\r\\n                                    <ul class=\"list-inline\">\\r\\n\\r\\n                                    </ul>\\r\\n                                </div>\\r\\n                                <div class=\"location\">\\r\\n                                        <span class=\"name\">\\r\\nSunnyvale, CA\\r\\n</span>\\r\\n                                </div>\\r\\n                            </div>\\r\\n                            <div class=\"meta flex-col\">\\r\\n                                <time datetime=\"2017-05-26T12:00\">2 days ago</time>\\r\\n                                <span data-mux=\"tooltip\" title=\"Applied\" class=\"mux-tooltip applied-only\">\\r\\n                                    <i class=\"icon icon-applied\" aria-hidden=\"true\"></i>\\r\\n                                    <span class=\"sr-only\">Applied</span>\\r\\n                                </span>\\r\\n                                <span data-mux=\"tooltip\" title=\"Saved\" class=\"mux-tooltip saved-only\">\\r\\n                                    <i class=\"icon icon-saved\" aria-hidden=\"true\"></i>\\r\\n                                    <span class=\"sr-only\">Saved</span>\\r\\n                                </span>\\r\\n                            </div>\\r\\n                        </div>\\r\\n                    </section>\\r\\n                    <section class=\"card-content \"                              data-jobid=\"220742252\"   data-postingid=\"2584a9be-9e1e-400d-8667-be1326045bff\"   onclick=\"MKImpressionTrackingMouseDownHijack(this, event)\">\\r\\n                        <div class=\"flex-row\">\\r\\n                                    <div class=\"mux-company-logo thumbnail\"></div>\\r\\n                            <div class=\"summary\">\\r\\n                                <header class=\"card-header\">\\r\\n                                    <h2 class=\"title\"><a data-bypass=\"true\" data-m_impr_a_placement_id=\"JSR2CW\" data-m_impr_j_cid=\"559\" data-m_impr_j_coc=\"\" data-m_impr_j_jawsid=\"450640597\" data-m_impr_j_jobid=\"220742252\" data-m_impr_j_jpm=\"1\" data-m_impr_j_jpt=\"1\" data-m_impr_j_lat=\"37.7888\" data-m_impr_j_lid=\"355\" data-m_impr_j_long=\"-122.3948\" data-m_impr_j_occid=\"11866\" data-m_impr_j_p=\"15\" data-m_impr_j_postingid=\"2584a9be-9e1e-400d-8667-be1326045bff\" data-m_impr_j_pvc=\"monster\" data-m_impr_s_t=\"t\" data-m_impr_uuid=\"fcc2f4a3-ec3a-421b-a67e-2ed12a65874b\" href=\"https://job-openings.monster.com/senior-data-scientist-san-francisco-ca-us/220742252\" onClick=\"clickJobTitle(&#39;plid=355&amp;pcid=559&amp;poccid=11866&#39;,&#39;Data Scientist&#39;,&#39;&#39;); clickJobTitleSiteCat(&#39;{&quot;events.event48&quot;:&quot;true&quot;,&quot;eVar25&quot;:&quot;Senior Data Scientist&quot;,&quot;eVar66&quot;:&quot;Monster&quot;,&quot;eVar67&quot;:&quot;JSR2CW&quot;,&quot;eVar26&quot;:&quot;_Company Confidential&quot;,&quot;eVar31&quot;:&quot;San Francisco_CA_&quot;,&quot;prop22&quot;:&quot;Employee&quot;,&quot;prop24&quot;:&quot;2020-10-18T12:00&quot;,&quot;eVar53&quot;:&quot;1500152001001&quot;,&quot;eVar50&quot;:&quot;Duration&quot;,&quot;eVar74&quot;:&quot;regular&quot;}&#39;)\">Senior Data Scientist\\r\\n</a></h2>\\r\\n                                </header>\\r\\n                                <div class=\"company\">\\r\\n                                        <span class=\"name\">Company Confidential</span>\\r\\n\\r\\n                                    <ul class=\"list-inline\">\\r\\n\\r\\n                                    </ul>\\r\\n                                </div>\\r\\n                                <div class=\"location\">\\r\\n                                        <span class=\"name\">\\r\\nSan Francisco, CA\\r\\n</span>\\r\\n                                </div>\\r\\n                            </div>\\r\\n                            <div class=\"meta flex-col\">\\r\\n                                <time datetime=\"2017-05-26T12:00\">3 days ago</time>\\r\\n                                <span data-mux=\"tooltip\" title=\"Applied\" class=\"mux-tooltip applied-only\">\\r\\n                                    <i class=\"icon icon-applied\" aria-hidden=\"true\"></i>\\r\\n                                    <span class=\"sr-only\">Applied</span>\\r\\n                                </span>\\r\\n                                <span data-mux=\"tooltip\" title=\"Saved\" class=\"mux-tooltip saved-only\">\\r\\n                                    <i class=\"icon icon-saved\" aria-hidden=\"true\"></i>\\r\\n                                    <span class=\"sr-only\">Saved</span>\\r\\n                                </span>\\r\\n                            </div>\\r\\n                        </div>\\r\\n                    </section>\\r\\n                    <section class=\"card-content \"                              data-jobid=\"221097801\"   data-postingid=\"23b8db83-bc3a-4d23-9023-5fa82afce8cd\"   onclick=\"MKImpressionTrackingMouseDownHijack(this, event)\">\\r\\n                        <div class=\"flex-row\">\\r\\n                                    <div class=\"mux-company-logo thumbnail is-loaded\">\\r\\n                                        <img src=\"https://media.newjobs.com/clu/xvso/xvsolvitllcx/branding/151726/VSolvit-LLC-logo.png\" alt=\"VSolvit LLC\" />\\r\\n                                    </div>\\r\\n                            <div class=\"summary\">\\r\\n                                <header class=\"card-header\">\\r\\n                                    <h2 class=\"title\"><a data-bypass=\"true\" data-m_impr_a_placement_id=\"JSR2CW\" data-m_impr_j_cid=\"11\" data-m_impr_j_coc=\"xvsolvitllcx\" data-m_impr_j_jawsid=\"452698526\" data-m_impr_j_jobid=\"221097801\" data-m_impr_j_jpm=\"1\" data-m_impr_j_jpt=\"1\" data-m_impr_j_lat=\"33.9311\" data-m_impr_j_lid=\"20587\" data-m_impr_j_long=\"-117.5487\" data-m_impr_j_occid=\"11892\" data-m_impr_j_p=\"16\" data-m_impr_j_postingid=\"23b8db83-bc3a-4d23-9023-5fa82afce8cd\" data-m_impr_j_pvc=\"monster\" data-m_impr_s_t=\"t\" data-m_impr_uuid=\"d034ba6f-395f-4a0a-be51-27915aa97520\" href=\"https://job-openings.monster.com/sr-data-scientist-norco-ca-us-vsolvit-llc/221097801\" onClick=\"clickJobTitle(&#39;plid=20587&amp;pcid=11&amp;poccid=11892&#39;,&#39;Data Scientist&#39;,&#39;&#39;); clickJobTitleSiteCat(&#39;{&quot;events.event48&quot;:&quot;true&quot;,&quot;eVar25&quot;:&quot;Sr. Data Scientist&quot;,&quot;eVar66&quot;:&quot;Monster&quot;,&quot;eVar67&quot;:&quot;JSR2CW&quot;,&quot;eVar26&quot;:&quot;xvsolvitllcx_VSolvit LLC&quot;,&quot;eVar31&quot;:&quot;Norco_CA_&quot;,&quot;prop22&quot;:&quot;Employee&quot;,&quot;prop24&quot;:&quot;2020-10-14T12:00&quot;,&quot;eVar53&quot;:&quot;1500152001001&quot;,&quot;eVar50&quot;:&quot;Duration&quot;,&quot;eVar74&quot;:&quot;logo&quot;}&#39;)\">Sr. Data Scientist\\r\\n</a></h2>\\r\\n                                </header>\\r\\n                                <div class=\"company\">\\r\\n                                        <span class=\"name\">VSolvit LLC</span>\\r\\n\\r\\n                                    <ul class=\"list-inline\">\\r\\n\\r\\n                                    </ul>\\r\\n                                </div>\\r\\n                                <div class=\"location\">\\r\\n                                        <span class=\"name\">\\r\\nNorco, CA\\r\\n</span>\\r\\n                                </div>\\r\\n                            </div>\\r\\n                            <div class=\"meta flex-col\">\\r\\n                                <time datetime=\"2017-05-26T12:00\">7 days ago</time>\\r\\n                                <span data-mux=\"tooltip\" title=\"Applied\" class=\"mux-tooltip applied-only\">\\r\\n                                    <i class=\"icon icon-applied\" aria-hidden=\"true\"></i>\\r\\n                                    <span class=\"sr-only\">Applied</span>\\r\\n                                </span>\\r\\n                                <span data-mux=\"tooltip\" title=\"Saved\" class=\"mux-tooltip saved-only\">\\r\\n                                    <i class=\"icon icon-saved\" aria-hidden=\"true\"></i>\\r\\n                                    <span class=\"sr-only\">Saved</span>\\r\\n                                </span>\\r\\n                            </div>\\r\\n                        </div>\\r\\n                    </section>\\r\\n                        <section class=\"card-content apas-ad\" data-mux=\"searchResultsAds\" style=\"display:none\">\\r\\n                            <div id=\"bad3\"></div>\\r\\n                        </section>\\r\\n                    <section class=\"card-content \"                              data-jobid=\"220522561\"   data-postingid=\"1bd30e7f-0320-4f71-b090-c994647abf91\"   onclick=\"MKImpressionTrackingMouseDownHijack(this, event)\">\\r\\n                        <div class=\"flex-row\">\\r\\n                                    <div class=\"mux-company-logo thumbnail\"></div>\\r\\n                            <div class=\"summary\">\\r\\n                                <header class=\"card-header\">\\r\\n                                    <h2 class=\"title\"><a data-bypass=\"true\" data-m_impr_a_placement_id=\"JSR2CW\" data-m_impr_j_cid=\"660\" data-m_impr_j_coc=\"xhj282_3482793x\" data-m_impr_j_jawsid=\"449751272\" data-m_impr_j_jobid=\"220522561\" data-m_impr_j_jpm=\"1\" data-m_impr_j_jpt=\"1\" data-m_impr_j_lat=\"37.3934\" data-m_impr_j_lid=\"356\" data-m_impr_j_long=\"-121.9655\" data-m_impr_j_occid=\"11904\" data-m_impr_j_p=\"17\" data-m_impr_j_postingid=\"1bd30e7f-0320-4f71-b090-c994647abf91\" data-m_impr_j_pvc=\"monster\" data-m_impr_s_t=\"t\" data-m_impr_uuid=\"249a1202-5362-4479-9a5c-0025e154526e\" href=\"https://job-openings.monster.com/senior-data-science-manager-santa-clara-ca-us-ericsson-inc/220522561\" onClick=\"clickJobTitle(&#39;plid=356&amp;pcid=660&amp;poccid=11904&#39;,&#39;Data Scientist&#39;,&#39;&#39;); clickJobTitleSiteCat(&#39;{&quot;events.event48&quot;:&quot;true&quot;,&quot;eVar25&quot;:&quot;Senior Data Science Manager&quot;,&quot;eVar66&quot;:&quot;Monster&quot;,&quot;eVar67&quot;:&quot;JSR2CW&quot;,&quot;eVar26&quot;:&quot;xhj282_3482793x_Ericsson Inc&quot;,&quot;eVar31&quot;:&quot;Santa Clara _CA_&quot;,&quot;prop22&quot;:&quot;Employee&quot;,&quot;prop24&quot;:&quot;2020-09-27T12:00&quot;,&quot;eVar53&quot;:&quot;1100048001001&quot;,&quot;eVar50&quot;:&quot;Duration&quot;,&quot;eVar74&quot;:&quot;regular&quot;}&#39;)\">Senior Data Science Manager\\r\\n</a></h2>\\r\\n                                </header>\\r\\n                                <div class=\"company\">\\r\\n                                        <span class=\"name\">Ericsson Inc</span>\\r\\n\\r\\n                                    <ul class=\"list-inline\">\\r\\n\\r\\n                                    </ul>\\r\\n                                </div>\\r\\n                                <div class=\"location\">\\r\\n                                        <span class=\"name\">\\r\\nSanta Clara , CA\\r\\n</span>\\r\\n                                </div>\\r\\n                            </div>\\r\\n                            <div class=\"meta flex-col\">\\r\\n                                <time datetime=\"2017-05-26T12:00\">24 days ago</time>\\r\\n                                <span data-mux=\"tooltip\" title=\"Applied\" class=\"mux-tooltip applied-only\">\\r\\n                                    <i class=\"icon icon-applied\" aria-hidden=\"true\"></i>\\r\\n                                    <span class=\"sr-only\">Applied</span>\\r\\n                                </span>\\r\\n                                <span data-mux=\"tooltip\" title=\"Saved\" class=\"mux-tooltip saved-only\">\\r\\n                                    <i class=\"icon icon-saved\" aria-hidden=\"true\"></i>\\r\\n                                    <span class=\"sr-only\">Saved</span>\\r\\n                                </span>\\r\\n                            </div>\\r\\n                        </div>\\r\\n                    </section>\\r\\n                    <section class=\"card-content \"                              data-jobid=\"221232309\"   data-postingid=\"8bb828a8-9215-431e-9020-dbd7ad3c931c\"   onclick=\"MKImpressionTrackingMouseDownHijack(this, event)\">\\r\\n                        <div class=\"flex-row\">\\r\\n                                    <div class=\"mux-company-logo thumbnail is-loaded\">\\r\\n                                        <img src=\"https://media.newjobs.com/clu/xcyb/xcyberc3x/branding/6344/CyberCoders-logo.jpg\" alt=\"CyberCoders\" />\\r\\n                                    </div>\\r\\n                            <div class=\"summary\">\\r\\n                                <header class=\"card-header\">\\r\\n                                    <h2 class=\"title\"><a data-bypass=\"true\" data-m_impr_a_placement_id=\"JSR2CW\" data-m_impr_j_cid=\"660\" data-m_impr_j_coc=\"xcyberc3x\" data-m_impr_j_jawsid=\"453675975\" data-m_impr_j_jobid=\"221232309\" data-m_impr_j_jpm=\"1\" data-m_impr_j_jpt=\"1\" data-m_impr_j_lat=\"37.7749\" data-m_impr_j_lid=\"355\" data-m_impr_j_long=\"-122.4195\" data-m_impr_j_occid=\"11772\" data-m_impr_j_p=\"18\" data-m_impr_j_postingid=\"8bb828a8-9215-431e-9020-dbd7ad3c931c\" data-m_impr_j_pvc=\"monster\" data-m_impr_s_t=\"t\" data-m_impr_uuid=\"28f2ff3e-853d-405f-8506-9b63cb9bb503\" href=\"https://job-openings.monster.com/data-scientist-awesome-company-san-francisco-ca-us-cybercoders/221232309\" onClick=\"clickJobTitle(&#39;plid=355&amp;pcid=660&amp;poccid=11772&#39;,&#39;Data Scientist&#39;,&#39;&#39;); clickJobTitleSiteCat(&#39;{&quot;events.event48&quot;:&quot;true&quot;,&quot;eVar25&quot;:&quot;Data Scientist - AWESOME COMPANY!&quot;,&quot;eVar66&quot;:&quot;Monster&quot;,&quot;eVar67&quot;:&quot;JSR2CW&quot;,&quot;eVar26&quot;:&quot;xcyberc3x_CyberCoders&quot;,&quot;eVar31&quot;:&quot;San Francisco_CA_&quot;,&quot;prop22&quot;:&quot;Employee&quot;,&quot;prop24&quot;:&quot;2020-10-19T12:00&quot;,&quot;eVar53&quot;:&quot;1500152001001&quot;,&quot;eVar50&quot;:&quot;Duration&quot;,&quot;eVar74&quot;:&quot;logo&quot;}&#39;)\">Data Scientist - AWESOME COMPANY!\\r\\n</a></h2>\\r\\n                                </header>\\r\\n                                <div class=\"company\">\\r\\n                                        <span class=\"name\">CyberCoders</span>\\r\\n\\r\\n                                    <ul class=\"list-inline\">\\r\\n\\r\\n                                    </ul>\\r\\n                                </div>\\r\\n                                <div class=\"location\">\\r\\n                                        <span class=\"name\">\\r\\nSan Francisco, CA\\r\\n</span>\\r\\n                                </div>\\r\\n                            </div>\\r\\n                            <div class=\"meta flex-col\">\\r\\n                                <time datetime=\"2017-05-26T12:00\">2 days ago</time>\\r\\n                                <span data-mux=\"tooltip\" title=\"Applied\" class=\"mux-tooltip applied-only\">\\r\\n                                    <i class=\"icon icon-applied\" aria-hidden=\"true\"></i>\\r\\n                                    <span class=\"sr-only\">Applied</span>\\r\\n                                </span>\\r\\n                                <span data-mux=\"tooltip\" title=\"Saved\" class=\"mux-tooltip saved-only\">\\r\\n                                    <i class=\"icon icon-saved\" aria-hidden=\"true\"></i>\\r\\n                                    <span class=\"sr-only\">Saved</span>\\r\\n                                </span>\\r\\n                            </div>\\r\\n                        </div>\\r\\n                    </section>\\r\\n                    <section class=\"card-content \"                              data-jobid=\"221305341\"   data-postingid=\"4691fae8-4019-40eb-a50a-1c43490e4850\"   onclick=\"MKImpressionTrackingMouseDownHijack(this, event)\">\\r\\n                        <div class=\"flex-row\">\\r\\n                                    <div class=\"mux-company-logo thumbnail is-loaded\">\\r\\n                                        <img src=\"https://media.newjobs.com/clu/xjob/xjobot2018x/branding/161229/Jobot-logo-637293157573438943.png\" alt=\"Jobot\" />\\r\\n                                    </div>\\r\\n                            <div class=\"summary\">\\r\\n                                <header class=\"card-header\">\\r\\n                                    <h2 class=\"title\"><a data-bypass=\"true\" data-m_impr_a_placement_id=\"JSR2CW\" data-m_impr_j_cid=\"11\" data-m_impr_j_coc=\"xjobot2018x\" data-m_impr_j_jawsid=\"454175698\" data-m_impr_j_jobid=\"221305341\" data-m_impr_j_jpm=\"1\" data-m_impr_j_jpt=\"1\" data-m_impr_j_lat=\"33.6415\" data-m_impr_j_lid=\"350\" data-m_impr_j_long=\"-117.7943\" data-m_impr_j_occid=\"11892\" data-m_impr_j_p=\"19\" data-m_impr_j_postingid=\"4691fae8-4019-40eb-a50a-1c43490e4850\" data-m_impr_j_pvc=\"monster\" data-m_impr_s_t=\"t\" data-m_impr_uuid=\"948ef26a-c418-4972-b75d-0551acf5e757\" href=\"https://job-openings.monster.com/data-scientist-irvine-ca-us-jobot/221305341\" onClick=\"clickJobTitle(&#39;plid=350&amp;pcid=11&amp;poccid=11892&#39;,&#39;Data Scientist&#39;,&#39;&#39;); clickJobTitleSiteCat(&#39;{&quot;events.event48&quot;:&quot;true&quot;,&quot;eVar25&quot;:&quot;Data Scientist&quot;,&quot;eVar66&quot;:&quot;Monster&quot;,&quot;eVar67&quot;:&quot;JSR2CW&quot;,&quot;eVar26&quot;:&quot;xjobot2018x_Jobot&quot;,&quot;eVar31&quot;:&quot;Irvine_CA_&quot;,&quot;prop22&quot;:&quot;Employee&quot;,&quot;prop24&quot;:&quot;2020-10-21T12:00&quot;,&quot;eVar53&quot;:&quot;1500152001001&quot;,&quot;eVar50&quot;:&quot;Duration&quot;,&quot;eVar74&quot;:&quot;logo&quot;}&#39;)\">Data Scientist\\r\\n</a></h2>\\r\\n                                </header>\\r\\n                                <div class=\"company\">\\r\\n                                        <span class=\"name\">Jobot</span>\\r\\n\\r\\n                                    <ul class=\"list-inline\">\\r\\n\\r\\n                                    </ul>\\r\\n                                </div>\\r\\n                                <div class=\"location\">\\r\\n                                        <span class=\"name\">\\r\\nIrvine, CA\\r\\n</span>\\r\\n                                </div>\\r\\n                            </div>\\r\\n                            <div class=\"meta flex-col\">\\r\\n                                <time datetime=\"2017-05-26T12:00\">Posted today</time>\\r\\n                                <span data-mux=\"tooltip\" title=\"Applied\" class=\"mux-tooltip applied-only\">\\r\\n                                    <i class=\"icon icon-applied\" aria-hidden=\"true\"></i>\\r\\n                                    <span class=\"sr-only\">Applied</span>\\r\\n                                </span>\\r\\n                                <span data-mux=\"tooltip\" title=\"Saved\" class=\"mux-tooltip saved-only\">\\r\\n                                    <i class=\"icon icon-saved\" aria-hidden=\"true\"></i>\\r\\n                                    <span class=\"sr-only\">Saved</span>\\r\\n                                </span>\\r\\n                            </div>\\r\\n                        </div>\\r\\n                    </section>\\r\\n                    <section class=\"card-content \"                              data-jobid=\"221176175\"   data-postingid=\"bc0a87de-612b-44c5-9663-2cdcf092355b\"   onclick=\"MKImpressionTrackingMouseDownHijack(this, event)\">\\r\\n                        <div class=\"flex-row\">\\r\\n                                    <div class=\"mux-company-logo thumbnail is-loaded\">\\r\\n                                        <img src=\"https://media.newjobs.com/clu/xape/xapexppvx/branding/27017/Apex-Systems-logo-637363659369052192.png\" alt=\"Apex Systems\" />\\r\\n                                    </div>\\r\\n                            <div class=\"summary\">\\r\\n                                <header class=\"card-header\">\\r\\n                                    <h2 class=\"title\"><a data-bypass=\"true\" data-m_impr_a_placement_id=\"JSR2CW\" data-m_impr_j_cid=\"660\" data-m_impr_j_coc=\"xapexppvx\" data-m_impr_j_jawsid=\"453072927\" data-m_impr_j_jobid=\"221176175\" data-m_impr_j_jpm=\"1\" data-m_impr_j_jpt=\"1\" data-m_impr_j_lat=\"37.4524\" data-m_impr_j_lid=\"883\" data-m_impr_j_long=\"-122.1842\" data-m_impr_j_occid=\"11904\" data-m_impr_j_p=\"20\" data-m_impr_j_postingid=\"bc0a87de-612b-44c5-9663-2cdcf092355b\" data-m_impr_j_pvc=\"monster\" data-m_impr_s_t=\"t\" data-m_impr_uuid=\"7b4d4224-d780-4f21-aaa7-a402866cd4c3\" href=\"https://job-openings.monster.com/sr-product-data-scientist-ii-menlo-park-ca-us-apex-systems/221176175\" onClick=\"clickJobTitle(&#39;plid=883&amp;pcid=660&amp;poccid=11904&#39;,&#39;Data Scientist&#39;,&#39;&#39;); clickJobTitleSiteCat(&#39;{&quot;events.event48&quot;:&quot;true&quot;,&quot;eVar25&quot;:&quot;Sr. Product Data Scientist II&quot;,&quot;eVar66&quot;:&quot;Monster&quot;,&quot;eVar67&quot;:&quot;JSR2CW&quot;,&quot;eVar26&quot;:&quot;xapexppvx_Apex Systems&quot;,&quot;eVar31&quot;:&quot;Menlo Park_CA_&quot;,&quot;prop22&quot;:&quot;Employee&quot;,&quot;prop24&quot;:&quot;2020-10-16T12:00&quot;,&quot;eVar53&quot;:&quot;1500152001001&quot;,&quot;eVar50&quot;:&quot;Duration&quot;,&quot;eVar74&quot;:&quot;logo&quot;}&#39;)\">Sr. Product Data Scientist II\\r\\n</a></h2>\\r\\n                                </header>\\r\\n                                <div class=\"company\">\\r\\n                                        <span class=\"name\">Apex Systems</span>\\r\\n\\r\\n                                    <ul class=\"list-inline\">\\r\\n\\r\\n                                    </ul>\\r\\n                                </div>\\r\\n                                <div class=\"location\">\\r\\n                                        <span class=\"name\">\\r\\nMenlo Park, CA\\r\\n</span>\\r\\n                                </div>\\r\\n                            </div>\\r\\n                            <div class=\"meta flex-col\">\\r\\n                                <time datetime=\"2017-05-26T12:00\">5 days ago</time>\\r\\n                                <span data-mux=\"tooltip\" title=\"Applied\" class=\"mux-tooltip applied-only\">\\r\\n                                    <i class=\"icon icon-applied\" aria-hidden=\"true\"></i>\\r\\n                                    <span class=\"sr-only\">Applied</span>\\r\\n                                </span>\\r\\n                                <span data-mux=\"tooltip\" title=\"Saved\" class=\"mux-tooltip saved-only\">\\r\\n                                    <i class=\"icon icon-saved\" aria-hidden=\"true\"></i>\\r\\n                                    <span class=\"sr-only\">Saved</span>\\r\\n                                </span>\\r\\n                            </div>\\r\\n                        </div>\\r\\n                    </section>\\r\\n                    <section class=\"card-content \"                              data-jobid=\"220471802\"   data-postingid=\"c1636017-30ef-4596-a274-cb738831e4b1\"   onclick=\"MKImpressionTrackingMouseDownHijack(this, event)\">\\r\\n                        <div class=\"flex-row\">\\r\\n                                    <div class=\"mux-company-logo thumbnail is-loaded\">\\r\\n                                        <img src=\"https://media.newjobs.com/clu/x685/x685177hjsx/branding/166378/ADP-RPO-logo.png\" alt=\"Henkel\" />\\r\\n                                    </div>\\r\\n                            <div class=\"summary\">\\r\\n                                <header class=\"card-header\">\\r\\n                                    <h2 class=\"title\"><a data-bypass=\"true\" data-m_impr_a_placement_id=\"JSR2CW\" data-m_impr_j_cid=\"11\" data-m_impr_j_coc=\"x685177hjsx\" data-m_impr_j_jawsid=\"449598191\" data-m_impr_j_jobid=\"220471802\" data-m_impr_j_jpm=\"1\" data-m_impr_j_jpt=\"1\" data-m_impr_j_lat=\"33.6694\" data-m_impr_j_lid=\"350\" data-m_impr_j_long=\"-117.8232\" data-m_impr_j_occid=\"11892\" data-m_impr_j_p=\"21\" data-m_impr_j_postingid=\"c1636017-30ef-4596-a274-cb738831e4b1\" data-m_impr_j_pvc=\"monster\" data-m_impr_s_t=\"t\" data-m_impr_uuid=\"5d82559d-f2f8-4a37-a101-1729be45fb81\" href=\"https://job-openings.monster.com/data-scientist-intern-irvine-ca-us-henkel/220471802\" onClick=\"clickJobTitle(&#39;plid=350&amp;pcid=11&amp;poccid=11892&#39;,&#39;Data Scientist&#39;,&#39;&#39;); clickJobTitleSiteCat(&#39;{&quot;events.event48&quot;:&quot;true&quot;,&quot;eVar25&quot;:&quot;Data Scientist Intern&quot;,&quot;eVar66&quot;:&quot;Monster&quot;,&quot;eVar67&quot;:&quot;JSR2CW&quot;,&quot;eVar26&quot;:&quot;x685177hjsx_Henkel&quot;,&quot;eVar31&quot;:&quot;Irvine_CA_&quot;,&quot;prop22&quot;:&quot;Employee&quot;,&quot;prop24&quot;:&quot;2020-10-10T12:00&quot;,&quot;eVar53&quot;:&quot;1500152001001&quot;,&quot;eVar50&quot;:&quot;Duration&quot;,&quot;eVar74&quot;:&quot;logo&quot;}&#39;)\">Data Scientist Intern\\r\\n</a></h2>\\r\\n                                </header>\\r\\n                                <div class=\"company\">\\r\\n                                        <span class=\"name\">Henkel</span>\\r\\n\\r\\n                                    <ul class=\"list-inline\">\\r\\n\\r\\n                                    </ul>\\r\\n                                </div>\\r\\n                                <div class=\"location\">\\r\\n                                        <span class=\"name\">\\r\\nIrvine, CA\\r\\n</span>\\r\\n                                </div>\\r\\n                            </div>\\r\\n                            <div class=\"meta flex-col\">\\r\\n                                <time datetime=\"2017-05-26T12:00\">11 days ago</time>\\r\\n                                <span data-mux=\"tooltip\" title=\"Applied\" class=\"mux-tooltip applied-only\">\\r\\n                                    <i class=\"icon icon-applied\" aria-hidden=\"true\"></i>\\r\\n                                    <span class=\"sr-only\">Applied</span>\\r\\n                                </span>\\r\\n                                <span data-mux=\"tooltip\" title=\"Saved\" class=\"mux-tooltip saved-only\">\\r\\n                                    <i class=\"icon icon-saved\" aria-hidden=\"true\"></i>\\r\\n                                    <span class=\"sr-only\">Saved</span>\\r\\n                                </span>\\r\\n                            </div>\\r\\n                        </div>\\r\\n                    </section>\\r\\n                    <section class=\"card-content \"                              data-jobid=\"221258814\"   data-postingid=\"b9979516-a495-4224-a6aa-35dd229e3fb5\"   onclick=\"MKImpressionTrackingMouseDownHijack(this, event)\">\\r\\n                        <div class=\"flex-row\">\\r\\n                                    <div class=\"mux-company-logo thumbnail is-loaded\">\\r\\n                                        <img src=\"https://media.newjobs.com/clu/xnbs/xnbsx/branding/15946/Randstad-Technologies-logo.jpg\" alt=\"Randstad Technologies\" />\\r\\n                                    </div>\\r\\n                            <div class=\"summary\">\\r\\n                                <header class=\"card-header\">\\r\\n                                    <h2 class=\"title\"><a data-bypass=\"true\" data-m_impr_a_placement_id=\"JSR2CW\" data-m_impr_j_cid=\"660\" data-m_impr_j_coc=\"xnbs1x\" data-m_impr_j_jawsid=\"453741679\" data-m_impr_j_jobid=\"221258814\" data-m_impr_j_jpm=\"1\" data-m_impr_j_jpt=\"1\" data-m_impr_j_lat=\"37.3717\" data-m_impr_j_lid=\"342\" data-m_impr_j_long=\"-122.0255\" data-m_impr_j_occid=\"11848\" data-m_impr_j_p=\"22\" data-m_impr_j_postingid=\"b9979516-a495-4224-a6aa-35dd229e3fb5\" data-m_impr_j_pvc=\"monster\" data-m_impr_s_t=\"t\" data-m_impr_uuid=\"a41da04b-8d58-4761-9d2a-d09da0ea0bf2\" href=\"https://job-openings.monster.com/principal-data-scientist-sunnyvale-ca-us-randstad-technologies/221258814\" onClick=\"clickJobTitle(&#39;plid=342&amp;pcid=660&amp;poccid=11848&#39;,&#39;Data Scientist&#39;,&#39;&#39;); clickJobTitleSiteCat(&#39;{&quot;events.event48&quot;:&quot;true&quot;,&quot;eVar25&quot;:&quot;Principal Data Scientist&quot;,&quot;eVar66&quot;:&quot;Monster&quot;,&quot;eVar67&quot;:&quot;JSR2CW&quot;,&quot;eVar26&quot;:&quot;xnbs1x_Randstad Technologies&quot;,&quot;eVar31&quot;:&quot;Sunnyvale_CA_&quot;,&quot;prop22&quot;:&quot;Employee&quot;,&quot;prop24&quot;:&quot;2020-10-19T12:00&quot;,&quot;eVar53&quot;:&quot;1500152001001&quot;,&quot;eVar50&quot;:&quot;Duration&quot;,&quot;eVar74&quot;:&quot;logo&quot;}&#39;)\">Principal Data Scientist\\r\\n</a></h2>\\r\\n                                </header>\\r\\n                                <div class=\"company\">\\r\\n                                        <span class=\"name\">Randstad Technologies</span>\\r\\n\\r\\n                                    <ul class=\"list-inline\">\\r\\n\\r\\n                                    </ul>\\r\\n                                </div>\\r\\n                                <div class=\"location\">\\r\\n                                        <span class=\"name\">\\r\\nSunnyvale, CA\\r\\n</span>\\r\\n                                </div>\\r\\n                            </div>\\r\\n                            <div class=\"meta flex-col\">\\r\\n                                <time datetime=\"2017-05-26T12:00\">2 days ago</time>\\r\\n                                <span data-mux=\"tooltip\" title=\"Applied\" class=\"mux-tooltip applied-only\">\\r\\n                                    <i class=\"icon icon-applied\" aria-hidden=\"true\"></i>\\r\\n                                    <span class=\"sr-only\">Applied</span>\\r\\n                                </span>\\r\\n                                <span data-mux=\"tooltip\" title=\"Saved\" class=\"mux-tooltip saved-only\">\\r\\n                                    <i class=\"icon icon-saved\" aria-hidden=\"true\"></i>\\r\\n                                    <span class=\"sr-only\">Saved</span>\\r\\n                                </span>\\r\\n                            </div>\\r\\n                        </div>\\r\\n                    </section>\\r\\n                    <section class=\"card-content \"                              data-jobid=\"220397585\"   data-postingid=\"f01ebf8f-3f55-4c5e-abc2-4d9b92887eee\"   onclick=\"MKImpressionTrackingMouseDownHijack(this, event)\">\\r\\n                        <div class=\"flex-row\">\\r\\n                                    <div class=\"mux-company-logo thumbnail is-loaded\">\\r\\n                                        <img src=\"//media.newjobs.com/CompanyJobPostingLogo/1919358/616987.jpg\" alt=\"Tech Mahindra Limited\" />\\r\\n                                    </div>\\r\\n                            <div class=\"summary\">\\r\\n                                <header class=\"card-header\">\\r\\n                                    <h2 class=\"title\"><a data-bypass=\"true\" data-m_impr_a_placement_id=\"JSR2CW\" data-m_impr_j_cid=\"559\" data-m_impr_j_coc=\"xtechminx\" data-m_impr_j_jawsid=\"449007954\" data-m_impr_j_jobid=\"220397585\" data-m_impr_j_jpm=\"1\" data-m_impr_j_jpt=\"1\" data-m_impr_j_lat=\"37.3728\" data-m_impr_j_lid=\"356\" data-m_impr_j_long=\"-121.805\" data-m_impr_j_occid=\"11866\" data-m_impr_j_p=\"23\" data-m_impr_j_postingid=\"f01ebf8f-3f55-4c5e-abc2-4d9b92887eee\" data-m_impr_j_pvc=\"monster\" data-m_impr_s_t=\"t\" data-m_impr_uuid=\"1f1596a9-9130-4953-948b-835d1f326be1\" href=\"https://job-openings.monster.com/data-scientist-san-jose-ca-us-tech-mahindra-limited/220397585\" onClick=\"clickJobTitle(&#39;plid=356&amp;pcid=559&amp;poccid=11866&#39;,&#39;Data Scientist&#39;,&#39;&#39;); clickJobTitleSiteCat(&#39;{&quot;events.event48&quot;:&quot;true&quot;,&quot;eVar25&quot;:&quot;Data Scientist&quot;,&quot;eVar66&quot;:&quot;Monster&quot;,&quot;eVar67&quot;:&quot;JSR2CW&quot;,&quot;eVar26&quot;:&quot;xtechminx_Tech Mahindra Limited&quot;,&quot;eVar31&quot;:&quot;San Jose_CA_&quot;,&quot;prop22&quot;:&quot;Employee&quot;,&quot;prop24&quot;:&quot;2020-09-23T12:00&quot;,&quot;eVar53&quot;:&quot;1500152001001&quot;,&quot;eVar50&quot;:&quot;Duration&quot;,&quot;eVar74&quot;:&quot;logo&quot;}&#39;)\">Data Scientist\\r\\n</a></h2>\\r\\n                                </header>\\r\\n                                <div class=\"company\">\\r\\n                                        <span class=\"name\">Tech Mahindra Limited</span>\\r\\n\\r\\n                                    <ul class=\"list-inline\">\\r\\n\\r\\n                                    </ul>\\r\\n                                </div>\\r\\n                                <div class=\"location\">\\r\\n                                        <span class=\"name\">\\r\\nSan Jose, CA\\r\\n</span>\\r\\n                                </div>\\r\\n                            </div>\\r\\n                            <div class=\"meta flex-col\">\\r\\n                                <time datetime=\"2017-05-26T12:00\">28 days ago</time>\\r\\n                                <span data-mux=\"tooltip\" title=\"Applied\" class=\"mux-tooltip applied-only\">\\r\\n                                    <i class=\"icon icon-applied\" aria-hidden=\"true\"></i>\\r\\n                                    <span class=\"sr-only\">Applied</span>\\r\\n                                </span>\\r\\n                                <span data-mux=\"tooltip\" title=\"Saved\" class=\"mux-tooltip saved-only\">\\r\\n                                    <i class=\"icon icon-saved\" aria-hidden=\"true\"></i>\\r\\n                                    <span class=\"sr-only\">Saved</span>\\r\\n                                </span>\\r\\n                            </div>\\r\\n                        </div>\\r\\n                    </section>\\r\\n                    <section class=\"card-content \"                              data-jobid=\"221179214\"   data-postingid=\"38a2abd8-bee8-4741-b99d-fd8748f36d45\"   onclick=\"MKImpressionTrackingMouseDownHijack(this, event)\">\\r\\n                        <div class=\"flex-row\">\\r\\n                                    <div class=\"mux-company-logo thumbnail is-loaded\">\\r\\n                                        <img src=\"https://media.newjobs.com/clu/xcyb/xcyberc3x/branding/6344/CyberCoders-logo.jpg\" alt=\"CyberCoders\" />\\r\\n                                    </div>\\r\\n                            <div class=\"summary\">\\r\\n                                <header class=\"card-header\">\\r\\n                                    <h2 class=\"title\"><a data-bypass=\"true\" data-m_impr_a_placement_id=\"JSR2CW\" data-m_impr_j_cid=\"660\" data-m_impr_j_coc=\"xcyberc3x\" data-m_impr_j_jawsid=\"453133536\" data-m_impr_j_jobid=\"221179214\" data-m_impr_j_jpm=\"1\" data-m_impr_j_jpt=\"1\" data-m_impr_j_lat=\"37.7776\" data-m_impr_j_lid=\"702\" data-m_impr_j_long=\"-122.2181\" data-m_impr_j_occid=\"11772\" data-m_impr_j_p=\"24\" data-m_impr_j_postingid=\"38a2abd8-bee8-4741-b99d-fd8748f36d45\" data-m_impr_j_pvc=\"monster\" data-m_impr_s_t=\"t\" data-m_impr_uuid=\"b1b1159d-4d28-4d3f-aae7-a5f04aa31607\" href=\"https://job-openings.monster.com/senior-data-scientist-oakland-ca-us-cybercoders/221179214\" onClick=\"clickJobTitle(&#39;plid=702&amp;pcid=660&amp;poccid=11772&#39;,&#39;Data Scientist&#39;,&#39;&#39;); clickJobTitleSiteCat(&#39;{&quot;events.event48&quot;:&quot;true&quot;,&quot;eVar25&quot;:&quot;Senior Data Scientist&quot;,&quot;eVar66&quot;:&quot;Monster&quot;,&quot;eVar67&quot;:&quot;JSR2CW&quot;,&quot;eVar26&quot;:&quot;xcyberc3x_CyberCoders&quot;,&quot;eVar31&quot;:&quot;Oakland_CA_&quot;,&quot;prop22&quot;:&quot;Employee&quot;,&quot;prop24&quot;:&quot;2020-10-16T12:00&quot;,&quot;eVar53&quot;:&quot;1500152001001&quot;,&quot;eVar50&quot;:&quot;Duration&quot;,&quot;eVar74&quot;:&quot;logo&quot;}&#39;)\">Senior Data Scientist\\r\\n</a></h2>\\r\\n                                </header>\\r\\n                                <div class=\"company\">\\r\\n                                        <span class=\"name\">CyberCoders</span>\\r\\n\\r\\n                                    <ul class=\"list-inline\">\\r\\n\\r\\n                                    </ul>\\r\\n                                </div>\\r\\n                                <div class=\"location\">\\r\\n                                        <span class=\"name\">\\r\\nOakland, CA\\r\\n</span>\\r\\n                                </div>\\r\\n                            </div>\\r\\n                            <div class=\"meta flex-col\">\\r\\n                                <time datetime=\"2017-05-26T12:00\">5 days ago</time>\\r\\n                                <span data-mux=\"tooltip\" title=\"Applied\" class=\"mux-tooltip applied-only\">\\r\\n                                    <i class=\"icon icon-applied\" aria-hidden=\"true\"></i>\\r\\n                                    <span class=\"sr-only\">Applied</span>\\r\\n                                </span>\\r\\n                                <span data-mux=\"tooltip\" title=\"Saved\" class=\"mux-tooltip saved-only\">\\r\\n                                    <i class=\"icon icon-saved\" aria-hidden=\"true\"></i>\\r\\n                                    <span class=\"sr-only\">Saved</span>\\r\\n                                </span>\\r\\n                            </div>\\r\\n                        </div>\\r\\n                    </section>\\r\\n                    <section class=\"card-content \"                              data-jobid=\"221259012\"   data-postingid=\"2f470c1e-6236-481f-9d64-cdb80ef38e7e\"   onclick=\"MKImpressionTrackingMouseDownHijack(this, event)\">\\r\\n                        <div class=\"flex-row\">\\r\\n                                    <div class=\"mux-company-logo thumbnail is-loaded\">\\r\\n                                        <img src=\"https://media.newjobs.com/clu/xnbs/xnbsx/branding/15946/Randstad-Technologies-logo.jpg\" alt=\"Randstad Technologies\" />\\r\\n                                    </div>\\r\\n                            <div class=\"summary\">\\r\\n                                <header class=\"card-header\">\\r\\n                                    <h2 class=\"title\"><a data-bypass=\"true\" data-m_impr_a_placement_id=\"JSR2CW\" data-m_impr_j_cid=\"660\" data-m_impr_j_coc=\"xnbs1x\" data-m_impr_j_jawsid=\"453742218\" data-m_impr_j_jobid=\"221259012\" data-m_impr_j_jpm=\"1\" data-m_impr_j_jpt=\"1\" data-m_impr_j_lat=\"37.3717\" data-m_impr_j_lid=\"342\" data-m_impr_j_long=\"-122.0255\" data-m_impr_j_occid=\"11848\" data-m_impr_j_p=\"25\" data-m_impr_j_postingid=\"2f470c1e-6236-481f-9d64-cdb80ef38e7e\" data-m_impr_j_pvc=\"monster\" data-m_impr_s_t=\"t\" data-m_impr_uuid=\"ccf0c623-9e22-46ab-913b-df55f92153d9\" href=\"https://job-openings.monster.com/staff-data-scientist-sunnyvale-ca-us-randstad-technologies/221259012\" onClick=\"clickJobTitle(&#39;plid=342&amp;pcid=660&amp;poccid=11848&#39;,&#39;Data Scientist&#39;,&#39;&#39;); clickJobTitleSiteCat(&#39;{&quot;events.event48&quot;:&quot;true&quot;,&quot;eVar25&quot;:&quot;Staff Data Scientist&quot;,&quot;eVar66&quot;:&quot;Monster&quot;,&quot;eVar67&quot;:&quot;JSR2CW&quot;,&quot;eVar26&quot;:&quot;xnbs1x_Randstad Technologies&quot;,&quot;eVar31&quot;:&quot;Sunnyvale_CA_&quot;,&quot;prop22&quot;:&quot;Employee&quot;,&quot;prop24&quot;:&quot;2020-10-19T12:00&quot;,&quot;eVar53&quot;:&quot;1500152001001&quot;,&quot;eVar50&quot;:&quot;Duration&quot;,&quot;eVar74&quot;:&quot;logo&quot;}&#39;)\">Staff Data Scientist\\r\\n</a></h2>\\r\\n                                </header>\\r\\n                                <div class=\"company\">\\r\\n                                        <span class=\"name\">Randstad Technologies</span>\\r\\n\\r\\n                                    <ul class=\"list-inline\">\\r\\n\\r\\n                                    </ul>\\r\\n                                </div>\\r\\n                                <div class=\"location\">\\r\\n                                        <span class=\"name\">\\r\\nSunnyvale, CA\\r\\n</span>\\r\\n                                </div>\\r\\n                            </div>\\r\\n                            <div class=\"meta flex-col\">\\r\\n                                <time datetime=\"2017-05-26T12:00\">2 days ago</time>\\r\\n                                <span data-mux=\"tooltip\" title=\"Applied\" class=\"mux-tooltip applied-only\">\\r\\n                                    <i class=\"icon icon-applied\" aria-hidden=\"true\"></i>\\r\\n                                    <span class=\"sr-only\">Applied</span>\\r\\n                                </span>\\r\\n                                <span data-mux=\"tooltip\" title=\"Saved\" class=\"mux-tooltip saved-only\">\\r\\n                                    <i class=\"icon icon-saved\" aria-hidden=\"true\"></i>\\r\\n                                    <span class=\"sr-only\">Saved</span>\\r\\n                                </span>\\r\\n                            </div>\\r\\n                        </div>\\r\\n                    </section>\\r\\n                    <section class=\"card-content \"   data-hash=\"jhash=0DDD506176F2BB46F96AFE0335E09BAD\" data-hash-count=\"4\"                               data-jobid=\"170db131-9645-4508-98b3-7249264aa698\"   data-postingid=\"170db131-9645-4508-98b3-7249264aa698\"   onclick=\"MKImpressionTrackingMouseDownHijack(this, event)\">\\r\\n                        <div class=\"flex-row\">\\r\\n                                    <div class=\"mux-company-logo thumbnail\"></div>\\r\\n                            <div class=\"summary\">\\r\\n                                <header class=\"card-header\">\\r\\n                                    <h2 class=\"title\"><a data-bypass=\"true\" data-m_impr_a_placement_id=\"JSR2CW\" data-m_impr_j_cid=\"4\" data-m_impr_j_coc=\"\" data-m_impr_j_jawsid=\"453620063\" data-m_impr_j_jobid=\"315318735\" data-m_impr_j_jpm=\"1\" data-m_impr_j_jpt=\"2\" data-m_impr_j_lat=\"37.4613\" data-m_impr_j_lid=\"883\" data-m_impr_j_long=\"-122.1978\" data-m_impr_j_occid=\"11747\" data-m_impr_j_p=\"26\" data-m_impr_j_postingid=\"170db131-9645-4508-98b3-7249264aa698\" data-m_impr_j_pvc=\"tmppx\" data-m_impr_s_t=\"t\" data-m_impr_uuid=\"80c193fb-9684-4c22-bc06-3aaf8d7e1397\" href=\"https://job-openings.monster.com/engineering-program-manager-data-science-remote-atherton-ca-us-crowdstrike/170db131-9645-4508-98b3-7249264aa698\" onClick=\"clickJobTitle(&#39;plid=883&amp;pcid=4&amp;poccid=11747&#39;,&#39;Data Scientist&#39;,&#39;&#39;); clickJobTitleSiteCat(&#39;{&quot;events.event48&quot;:&quot;true&quot;,&quot;eVar25&quot;:&quot;Engineering Program Manager - Data Science (Remote)&quot;,&quot;eVar66&quot;:&quot;Monster&quot;,&quot;eVar67&quot;:&quot;JSR2CW&quot;,&quot;eVar26&quot;:&quot;_CrowdStrike&quot;,&quot;eVar31&quot;:&quot;Atherton_CA_&quot;,&quot;prop24&quot;:&quot;2020-10-19T12:00&quot;,&quot;eVar53&quot;:&quot;1100041001001&quot;,&quot;eVar50&quot;:&quot;PPC&quot;,&quot;eVar74&quot;:&quot;regular&quot;}&#39;)\">Engineering Program Manager - Data Science (Remote)\\r\\n</a></h2>\\r\\n                                </header>\\r\\n                                <div class=\"company\">\\r\\n                                        <span class=\"name\">CrowdStrike</span>\\r\\n\\r\\n                                    <ul class=\"list-inline\">\\r\\n\\r\\n                                    </ul>\\r\\n                                </div>\\r\\n                                <div class=\"location\">\\r\\n                                        <span class=\"name\">\\r\\nAtherton, CA\\r\\n</span>\\r\\n                                </div>\\r\\n                            </div>\\r\\n                            <div class=\"meta flex-col\">\\r\\n                                <time datetime=\"2017-05-26T12:00\">2 days ago</time>\\r\\n                                <span data-mux=\"tooltip\" title=\"Applied\" class=\"mux-tooltip applied-only\">\\r\\n                                    <i class=\"icon icon-applied\" aria-hidden=\"true\"></i>\\r\\n                                    <span class=\"sr-only\">Applied</span>\\r\\n                                </span>\\r\\n                                <span data-mux=\"tooltip\" title=\"Saved\" class=\"mux-tooltip saved-only\">\\r\\n                                    <i class=\"icon icon-saved\" aria-hidden=\"true\"></i>\\r\\n                                    <span class=\"sr-only\">Saved</span>\\r\\n                                </span>\\r\\n                            </div>\\r\\n                        </div>\\r\\n                            <a data-action=\"jhfetch\" data-jhash-count=\"4\" data-jhash=\"jhash=0DDD506176F2BB46F96AFE0335E09BAD\" data-postingid=\"170db131-9645-4508-98b3-7249264aa698\" href=\"javascript:void(0)\">+ <span>4</span> Other Locations</a>\\r\\n                    </section>\\r\\n    </div>\\r\\n\\r\\n    <a class=\"mux-btn btn-secondary load-more-btn \" id=\"loadMoreJobs\" data-action=\"fetch\" role=\"button\" href=\"https://www.monster.com/jobs/search/?page=2\">Load more jobs</a>\\r\\n    <a class=\"mux-btn btn-secondary no-more-jobs-btn disabled \" style=\"display:none\" id=\"noMoreResults\" role=\"button\">No More Results</a>\\r\\n</div>\\r\\n\\r\\n    \\r\\n                        </div>\\r\\n                    </div>\\r\\n                </div>\\r\\n                <div class=\"col-md-8 detail-only\">\\r\\n                    <div id=\"ContentContainer\" class=\"mux-custom-scroll mux-content-container\" data-mux=\"customScroll\" data-extend=\"right\">\\r\\n                        <div id=\"ContentScrollable\" class=\"scrollable\">\\r\\n                            \\r\\n\\r\\n                            <div\\r\\n                                id=\"JobPreview\"\\r\\n                                class=\"mux-job-preview\"\\r\\n                                data-mux=\"jobPreview\"\\r\\n                                data-cloud-api-uri=\"//logs2.jobs.com\"\\r\\n                                data-content-url=\"//job-openings.monster.com/v2/job/pure-json-view\"\\r\\n                                data-messages-url=\"https://coda.newjobs.com/Assets/MUX/JaJobViewCloud/2020.09.0.805/msgset;MONS/app.jv30.ids\"\\r\\n                                data-content-template=\"job-preview-template\"\\r\\n                                data-content-placeholder=\"job-preview-placeholder-template\"\\r\\n                                data-error-template=\"job-preview-error-template\"\\r\\n                                data-offset-scroll=\"100\"\\r\\n                                data-apply-btn=\"#PrimaryJobApply\"\\r\\n                                data-email-btn=\"#emailFriendOpen\"\\r\\n                            ></div>\\r\\n                            <div class=\"mux-mobile-navigation\" data-mux=\"mobileNavigation\" data-source=\"#SearchResults\"></div>\\r\\n                            \\r\\n\\r\\n                            <script type=\"text/x-placeholder\" id=\"FooterCustomScroll\"></script>\\r\\n                        </div>\\r\\n                    </div>\\r\\n                </div>\\r\\n            </div>\\r\\n            <div class=\"dimmed-only\"></div>\\r\\n        </main>\\r\\n        \\r\\n    \\r\\n<footer id=\"PageFooter\" role=\"contentinfo\" class=\"mux-page-footer\" data-mux=\"cardResponsive\" data-target=\"#FooterCustomScroll\" data-breakpoints=\"md,lg\">\\r\\n        <div class=\"footer-content\">\\r\\n            <a href=\"https://www.monster.com/\" class=\"home\"><i class=\"monster-logo-abbr\"></i><span class=\"sr-only\">CareerOne</span></a>\\r\\n            <div class=\"legal-nav\">\\r\\n                <small class=\"copyright\">Copyright © 2020 | Monster Worldwide </small>\\r\\n                <small class=\"patents\">U.S. Patents No. 7,599,930 B1; 7,827,125 and 7,836,060</small>\\r\\n                <small class=\"affiliates\"></small>\\r\\n            </div>\\r\\n            <div class=\"mux-a11y-switch\">\\r\\n                <input type=\"checkbox\" id=\"a11ySwitch\" />\\r\\n                <label for=\"a11ySwitch\" class=\"toggle\" data-mux=\"a11ySwitch\" data-src=\"https://coda.newjobs.com/Assets/MUX/CoreLpf20/2020.06.0.176/css/app.lpf20.a11y.css https://coda.newjobs.com/Assets/MUX/JaJobViewCloud/2020.09.0.805/css/app.js30.a11y.css\" data-text=\"Standard color version\">\\r\\n                    <i class=\"icon icon-contrast\"></i>\\r\\n                    <span class=\"label\">High contrast version</span>\\r\\n                </label>\\r\\n            </div>\\r\\n        </div>\\r\\n</footer>\\r\\n\\r\\n\\r\\n    </div>\\r\\n    \\r\\n\\r\\n\\r\\n\\r\\n\\r\\n\\r\\n\\r\\n\\r\\n\\r\\n\\r\\n\\r\\n\\r\\n\\r\\n\\r\\n\\r\\n\\r\\n\\r\\n\\r\\n\\r\\n\\r\\n\\r\\n\\r\\n\\r\\n\\r\\n\\r\\n\\r\\n\\r\\n\\r\\n\\r\\n\\r\\n    <div class=\"hide\">\\r\\n\\r\\n    \\r\\n<script id=\"mww_icp_tracking\" type=\"text/javascript\" async=\"true\" src=\"//media.newjobs.com/mm/rainbow/tracking/scripts/Icp/IdentityTracking.js?v=4554511\"></script>\\r\\n\\r\\n        \\r\\n<div style=\"display:none;\"></div>\\r\\n        \\r\\n\\r\\n\\r\\n        \\r\\n\\r\\n\\r\\n\\r\\n    </div>\\r\\n    <script type=\"text/javascript\">\\r\\n        \\r\\n            var filename = \\'https://coda.newjobs.com/Assets/MUX/JaJobViewCloud/2020.09.0.805/js/app.js30.bundle.js\\'.split(\\'/\\').pop();\\r\\n            const asyncScriptsNodeList = document.querySelectorAll(\"script[src*=\\'\"+filename+\"\\']\");\\r\\n            var asyncScripts = Array.prototype.slice.call(asyncScriptsNodeList);\\r\\n            asyncScripts.forEach(function (sc) {\\r\\n                sc.onload = function () {\\r\\n                    \\r\\n                    (function ($, d) {\\r\\n                        readyQ.forEach(function (f) {\\r\\n                            $(f);\\r\\n                        });\\r\\n                        bindReadyQ.forEach(function (f) {\\r\\n                            $(d).bind(\"ready\", f);\\r\\n                        });\\r\\n                    })(jQuery, document);\\r\\n                    (function ($, w) {\\r\\n                        loadQ.forEach(function (f) {\\r\\n                            $(w).load(f);\\r\\n                        });\\r\\n                        bindLoadQ.forEach(function (f) {\\r\\n                            $(w).bind(\"load\", f);\\r\\n                        });\\r\\n                    })(jQuery, window);\\r\\n                }\\r\\n            });\\r\\n    </script>\\r\\n</body>\\r\\n</html>\\r\\n'"
      ]
     },
     "execution_count": 81,
     "metadata": {},
     "output_type": "execute_result"
    }
   ],
   "source": [
    "page.text  # page.content"
   ]
  },
  {
   "cell_type": "code",
   "execution_count": 82,
   "metadata": {},
   "outputs": [],
   "source": [
    "soup = BeautifulSoup(page.text, 'html.parser')"
   ]
  },
  {
   "cell_type": "code",
   "execution_count": 83,
   "metadata": {},
   "outputs": [],
   "source": [
    "results = soup.find(id = \"SearchResults\")"
   ]
  },
  {
   "cell_type": "code",
   "execution_count": 84,
   "metadata": {},
   "outputs": [],
   "source": [
    "job_elems = results.find_all('section', class_ = 'card-content')"
   ]
  },
  {
   "cell_type": "code",
   "execution_count": 97,
   "metadata": {},
   "outputs": [
    {
     "data": {
      "text/plain": [
       "29"
      ]
     },
     "execution_count": 97,
     "metadata": {},
     "output_type": "execute_result"
    }
   ],
   "source": [
    "len(job_elems)"
   ]
  },
  {
   "cell_type": "code",
   "execution_count": 86,
   "metadata": {},
   "outputs": [
    {
     "data": {
      "text/plain": [
       "<section class=\"card-content\" data-jobid=\"221272677\" data-postingid=\"f010d383-7ef4-4ff3-9624-2dea36c2a7c3\" onclick=\"MKImpressionTrackingMouseDownHijack(this, event)\">\n",
       "<div class=\"flex-row\">\n",
       "<div class=\"mux-company-logo thumbnail is-loaded\">\n",
       "<img alt=\"CyberCoders\" src=\"https://media.newjobs.com/clu/xcyb/xcyberc3x/branding/6344/CyberCoders-logo.jpg\"/>\n",
       "</div>\n",
       "<div class=\"summary\">\n",
       "<header class=\"card-header\">\n",
       "<h2 class=\"title\"><a data-bypass=\"true\" data-m_impr_a_placement_id=\"JSR2CW\" data-m_impr_j_cid=\"660\" data-m_impr_j_coc=\"xcyberc3x\" data-m_impr_j_jawsid=\"453866293\" data-m_impr_j_jobid=\"221272677\" data-m_impr_j_jpm=\"1\" data-m_impr_j_jpt=\"1\" data-m_impr_j_lat=\"37.2928\" data-m_impr_j_lid=\"356\" data-m_impr_j_long=\"-121.7979\" data-m_impr_j_occid=\"11787\" data-m_impr_j_p=\"1\" data-m_impr_j_postingid=\"f010d383-7ef4-4ff3-9624-2dea36c2a7c3\" data-m_impr_j_pvc=\"monster\" data-m_impr_s_t=\"t\" data-m_impr_uuid=\"a49f9629-ecc0-4fd0-bb40-54388c5f4301\" href=\"https://job-openings.monster.com/data-scientist-ai-machine-learning-no-sponsorship-san-jose-ca-us-cybercoders/221272677\" onclick=\"clickJobTitle('plid=356&amp;pcid=660&amp;poccid=11787','Data Scientist',''); clickJobTitleSiteCat('{&quot;events.event48&quot;:&quot;true&quot;,&quot;eVar25&quot;:&quot;Data Scientist - AI/Machine Learning - No Sponsorship&quot;,&quot;eVar66&quot;:&quot;Monster&quot;,&quot;eVar67&quot;:&quot;JSR2CW&quot;,&quot;eVar26&quot;:&quot;xcyberc3x_CyberCoders&quot;,&quot;eVar31&quot;:&quot;San Jose_CA_&quot;,&quot;prop22&quot;:&quot;Employee&quot;,&quot;prop24&quot;:&quot;2020-10-20T12:00&quot;,&quot;eVar53&quot;:&quot;1500152001001&quot;,&quot;eVar50&quot;:&quot;Duration&quot;,&quot;eVar74&quot;:&quot;logo&quot;}')\">Data Scientist - AI/Machine Learning - No Sponsorship\n",
       "</a></h2>\n",
       "</header>\n",
       "<div class=\"company\">\n",
       "<span class=\"name\">CyberCoders</span>\n",
       "<ul class=\"list-inline\">\n",
       "</ul>\n",
       "</div>\n",
       "<div class=\"location\">\n",
       "<span class=\"name\">\n",
       "San Jose, CA\n",
       "</span>\n",
       "</div>\n",
       "</div>\n",
       "<div class=\"meta flex-col\">\n",
       "<time datetime=\"2017-05-26T12:00\">1 day ago</time>\n",
       "<span class=\"mux-tooltip applied-only\" data-mux=\"tooltip\" title=\"Applied\">\n",
       "<i aria-hidden=\"true\" class=\"icon icon-applied\"></i>\n",
       "<span class=\"sr-only\">Applied</span>\n",
       "</span>\n",
       "<span class=\"mux-tooltip saved-only\" data-mux=\"tooltip\" title=\"Saved\">\n",
       "<i aria-hidden=\"true\" class=\"icon icon-saved\"></i>\n",
       "<span class=\"sr-only\">Saved</span>\n",
       "</span>\n",
       "</div>\n",
       "</div>\n",
       "</section>"
      ]
     },
     "execution_count": 86,
     "metadata": {},
     "output_type": "execute_result"
    }
   ],
   "source": [
    "job_elems[0]"
   ]
  },
  {
   "cell_type": "code",
   "execution_count": 90,
   "metadata": {},
   "outputs": [
    {
     "data": {
      "text/plain": [
       "<h2 class=\"title\"><a data-bypass=\"true\" data-m_impr_a_placement_id=\"JSR2CW\" data-m_impr_j_cid=\"660\" data-m_impr_j_coc=\"xcyberc3x\" data-m_impr_j_jawsid=\"453866293\" data-m_impr_j_jobid=\"221272677\" data-m_impr_j_jpm=\"1\" data-m_impr_j_jpt=\"1\" data-m_impr_j_lat=\"37.2928\" data-m_impr_j_lid=\"356\" data-m_impr_j_long=\"-121.7979\" data-m_impr_j_occid=\"11787\" data-m_impr_j_p=\"1\" data-m_impr_j_postingid=\"f010d383-7ef4-4ff3-9624-2dea36c2a7c3\" data-m_impr_j_pvc=\"monster\" data-m_impr_s_t=\"t\" data-m_impr_uuid=\"a49f9629-ecc0-4fd0-bb40-54388c5f4301\" href=\"https://job-openings.monster.com/data-scientist-ai-machine-learning-no-sponsorship-san-jose-ca-us-cybercoders/221272677\" onclick=\"clickJobTitle('plid=356&amp;pcid=660&amp;poccid=11787','Data Scientist',''); clickJobTitleSiteCat('{&quot;events.event48&quot;:&quot;true&quot;,&quot;eVar25&quot;:&quot;Data Scientist - AI/Machine Learning - No Sponsorship&quot;,&quot;eVar66&quot;:&quot;Monster&quot;,&quot;eVar67&quot;:&quot;JSR2CW&quot;,&quot;eVar26&quot;:&quot;xcyberc3x_CyberCoders&quot;,&quot;eVar31&quot;:&quot;San Jose_CA_&quot;,&quot;prop22&quot;:&quot;Employee&quot;,&quot;prop24&quot;:&quot;2020-10-20T12:00&quot;,&quot;eVar53&quot;:&quot;1500152001001&quot;,&quot;eVar50&quot;:&quot;Duration&quot;,&quot;eVar74&quot;:&quot;logo&quot;}')\">Data Scientist - AI/Machine Learning - No Sponsorship\n",
       "</a></h2>"
      ]
     },
     "execution_count": 90,
     "metadata": {},
     "output_type": "execute_result"
    }
   ],
   "source": [
    "job_elems[0].find('h2', class_ = 'title')"
   ]
  },
  {
   "cell_type": "code",
   "execution_count": 93,
   "metadata": {},
   "outputs": [
    {
     "name": "stdout",
     "output_type": "stream",
     "text": [
      "Data Scientist - AI/Machine Learning - No Sponsorship\n"
     ]
    }
   ],
   "source": [
    "print(job_elems[0].find('h2', class_ = 'title').text.strip())"
   ]
  },
  {
   "cell_type": "code",
   "execution_count": 98,
   "metadata": {},
   "outputs": [
    {
     "data": {
      "text/plain": [
       "'CyberCoders'"
      ]
     },
     "execution_count": 98,
     "metadata": {},
     "output_type": "execute_result"
    }
   ],
   "source": [
    "job_elems[0].find('div', class_='company').text.strip()"
   ]
  },
  {
   "cell_type": "code",
   "execution_count": 96,
   "metadata": {},
   "outputs": [
    {
     "data": {
      "text/plain": [
       "'San Jose, CA'"
      ]
     },
     "execution_count": 96,
     "metadata": {},
     "output_type": "execute_result"
    }
   ],
   "source": [
    "job_elems[0].find('div', class_='location').text.strip()"
   ]
  },
  {
   "cell_type": "code",
   "execution_count": 101,
   "metadata": {},
   "outputs": [
    {
     "name": "stdout",
     "output_type": "stream",
     "text": [
      "1\n",
      "Data Scientist - AI/Machine Learning - No Sponsorship\n",
      "CyberCoders\n",
      "San Jose, CA\n",
      "3\n",
      "Water Utility Data Scientist / Data Analyst\n",
      "Golden State Water Company\n",
      "San Dimas, CA\n",
      "4\n",
      "Sr. to Lead Data Scientist (IoT startup, up to $200k)\n",
      "Skyrocket Ventures\n",
      "Sunnyvale, CA\n",
      "5\n",
      "Data Scientist\n",
      "IMS\n",
      "Newport Beach, CA\n",
      "6\n",
      "Senior Data Scientist\n",
      "Jobot\n",
      "Pasadena, CA\n",
      "7\n",
      "DATA SCIENTIST - INTERMEDIATE\n",
      "The Judge Group\n",
      "San Francisco, CA\n",
      "9\n",
      "Data Scientist/Tester\n",
      "Apex Systems\n",
      "Santa Clara, CA\n",
      "10\n",
      "Data Scientist II\n",
      "System One\n",
      "Santa Clara, CA\n",
      "11\n",
      "Data Scientist Intern\n",
      "Henkel\n",
      "Irvine, CA\n",
      "12\n",
      "Data Scientist\n",
      "Tech Mahindra Limited\n",
      "Sunnyvale, CA\n",
      "13\n",
      "Manager of Laboratory Informatics\n",
      "CyberCoders\n",
      "Austin, TX\n",
      "14\n",
      "Data Scientist\n",
      "Mastech Digital\n",
      "Los Angeles, CA\n",
      "15\n",
      "Data Scientist II\n",
      "Randstad Life Sciences\n",
      "Sunnyvale, CA\n",
      "16\n",
      "Principal Data Scientist\n",
      "Randstad Technologies\n",
      "Sunnyvale, CA\n",
      "17\n",
      "Senior Data Scientist\n",
      "Company Confidential\n",
      "San Francisco, CA\n",
      "18\n",
      "Sr. Data Scientist\n",
      "VSolvit LLC\n",
      "Norco, CA\n",
      "20\n",
      "Senior Data Science Manager\n",
      "Ericsson Inc\n",
      "Santa Clara , CA\n",
      "21\n",
      "Data Scientist - AWESOME COMPANY!\n",
      "CyberCoders\n",
      "San Francisco, CA\n",
      "22\n",
      "Data Scientist\n",
      "Jobot\n",
      "Irvine, CA\n",
      "23\n",
      "Sr. Product Data Scientist II\n",
      "Apex Systems\n",
      "Menlo Park, CA\n",
      "24\n",
      "Data Scientist Intern\n",
      "Henkel\n",
      "Irvine, CA\n",
      "25\n",
      "Principal Data Scientist\n",
      "Randstad Technologies\n",
      "Sunnyvale, CA\n",
      "26\n",
      "Data Scientist\n",
      "Tech Mahindra Limited\n",
      "San Jose, CA\n",
      "27\n",
      "Senior Data Scientist\n",
      "CyberCoders\n",
      "Oakland, CA\n",
      "28\n",
      "Staff Data Scientist\n",
      "Randstad Technologies\n",
      "Sunnyvale, CA\n",
      "29\n",
      "Engineering Program Manager - Data Science (Remote)\n",
      "CrowdStrike\n",
      "Atherton, CA\n"
     ]
    }
   ],
   "source": [
    "for num,i in enumerate(job_elems):\n",
    "    title = i.find('h2', class_ = 'title')\n",
    "    company = i.find('div', class_='company')\n",
    "    location = i.find('div', class_='location')\n",
    "    \n",
    "    if None in (title, company, location):\n",
    "        continue\n",
    "    print(num + 1)    \n",
    "    print(title.text.strip())\n",
    "    print(company.text.strip())\n",
    "    print(location.text.strip())"
   ]
  }
 ],
 "metadata": {
  "kernelspec": {
   "display_name": "Python 3",
   "language": "python",
   "name": "python3"
  },
  "language_info": {
   "codemirror_mode": {
    "name": "ipython",
    "version": 3
   },
   "file_extension": ".py",
   "mimetype": "text/x-python",
   "name": "python",
   "nbconvert_exporter": "python",
   "pygments_lexer": "ipython3",
   "version": "3.8.3"
  }
 },
 "nbformat": 4,
 "nbformat_minor": 4
}
