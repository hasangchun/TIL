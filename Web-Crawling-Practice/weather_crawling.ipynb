{
 "cells": [
  {
   "cell_type": "markdown",
   "metadata": {},
   "source": [
    "# 2020-09-07 ~ 2020-09-08  Weather analysis\n"
   ]
  },
  {
   "cell_type": "code",
   "execution_count": 46,
   "metadata": {},
   "outputs": [
    {
     "name": "stdout",
     "output_type": "stream",
     "text": [
      "Save weather !\n",
      "Save rain probability !\n",
      "Save rainfall !\n",
      "Save Min/Max temperature !\n",
      "Save temperature !\n",
      "Save wetness !\n"
     ]
    }
   ],
   "source": [
    "import requests\n",
    "from bs4 import BeautifulSoup\n",
    "\n",
    "data_weather = list()\n",
    "data_rain_probability = list()\n",
    "data_rainfall = list()\n",
    "data_temp_min = list()\n",
    "data_temp_max = list()\n",
    "data_temp = list()\n",
    "data_wetness = list()\n",
    "\n",
    "html = requests.get(\"https://www.weather.go.kr/weather/forecast/timeseries.jsp\")\n",
    "soup = BeautifulSoup(html.text,\"html.parser\")\n",
    "\n",
    "table = soup.find('table',{'class' : 'forecastNew3'})\n",
    "tr = table.tbody.tr\n",
    "\n",
    "tr = tr.next_sibling.next_sibling.next_sibling.next_sibling\n",
    "\n",
    "\n",
    "for weather in tr.children:\n",
    "    if weather.name == 'td' and len(weather.contents) > 0:\n",
    "        data_weather.append(weather['title'])\n",
    "print('Save weather !')\n",
    "tr = tr.next_sibling.next_sibling\n",
    "\n",
    "\n",
    "for rain_probability in tr.children:\n",
    "    if rain_probability.name == 'td' and len(rain_probability.contents) > 0:\n",
    "        data_rain_probability.append(rain_probability.contents[0])\n",
    "print('Save rain probability !')\n",
    "tr = tr.next_sibling.next_sibling\n",
    "\n",
    "\n",
    "for rain in tr.children:\n",
    "    if rain.name == 'td' and len(rain.contents) > 0:\n",
    "        num = int(rain['colspan'])\n",
    "        for i in range(num):\n",
    "            data_rainfall.append(rain.contents[0].strip())\n",
    "print('Save rainfall !')\n",
    "tr = tr.next_sibling.next_sibling\n",
    "\n",
    "\n",
    "for temp in tr.children:\n",
    "    if temp.name == 'td' and len(temp.contents) > 0:\n",
    "        num = int(temp['colspan'])\n",
    "        for i in range(num):\n",
    "            data_temp_min.append(temp.contents[0].get_text())\n",
    "            data_temp_max.append(temp.contents[2].get_text())\n",
    "print('Save Min/Max temperature !')\n",
    "tr = tr.next_sibling.next_sibling\n",
    "\n",
    "\n",
    "for temp in tr.children:\n",
    "    if temp.name == 'td' and len(temp.contents) > 0:\n",
    "        data_temp.append(temp.contents[0].get_text())\n",
    "print('Save temperature !')\n",
    "tr = tr.next_sibling.next_sibling.next_sibling.next_sibling\n",
    "\n",
    "\n",
    "for wet_ness in tr.children:\n",
    "    if wet_ness.name == 'td' and len(wet_ness.contents) > 0:\n",
    "        data_wetness.append(wet_ness.contents[0].get_text())\n",
    "print('Save wetness !')"
   ]
  },
  {
   "cell_type": "code",
   "execution_count": 31,
   "metadata": {},
   "outputs": [
    {
     "name": "stdout",
     "output_type": "stream",
     "text": [
      "['21', '20', '20', '20', '21', '21', '22', '22', '22', '21', '21', '23', '25', '25', '24', '22', '21']\n",
      "['20', '20', '20', '20', '20', '20', '20', '20', '21', '21', '21', '21', '21', '21', '21', '21']\n",
      "['22', '22', '22', '22', '22', '22', '22', '22', '26', '26', '26', '26', '26', '26', '26', '26']\n"
     ]
    }
   ],
   "source": [
    "print(data_temp)\n",
    "print(data_temp_min)\n",
    "print(data_temp_max)"
   ]
  },
  {
   "cell_type": "code",
   "execution_count": 33,
   "metadata": {},
   "outputs": [
    {
     "data": {
      "image/png": "[encoded data removed]",
      "text/plain": [
       "<Figure size 432x288 with 1 Axes>"
      ]
     },
     "metadata": {
      "needs_background": "light"
     },
     "output_type": "display_data"
    }
   ],
   "source": [
    "import matplotlib.pyplot as plt\n",
    "import numpy as np\n",
    "%matplotlib inline\n",
    "\n",
    "x = np.arange(0,39,3)\n",
    "plt.plot(x,data_temp[:13], color = 'k', label = 'Temp')\n",
    "plt.plot(x,data_temp_min[:13], color = 'r', label = 'Min Temp')\n",
    "plt.plot(x,data_temp_max[:13], color = 'b', label = 'Max Temp')\n",
    "plt.xlabel('Time')\n",
    "plt.ylabel('Temp')\n",
    "plt.title('Temperature')\n",
    "plt.legend(loc='upper right')\n",
    "plt.show()\n"
   ]
  },
  {
   "cell_type": "code",
   "execution_count": 34,
   "metadata": {},
   "outputs": [
    {
     "name": "stdout",
     "output_type": "stream",
     "text": [
      "['80', '80', '80', '80', '80', '80', '80', '80', '80', '80', '80', '70', '60', '0', '20', '20']\n"
     ]
    }
   ],
   "source": [
    "print(data_rain_probability)"
   ]
  },
  {
   "cell_type": "code",
   "execution_count": 37,
   "metadata": {},
   "outputs": [
    {
     "data": {
      "image/png": "[encoded data removed]",
      "text/plain": [
       "<Figure size 432x288 with 1 Axes>"
      ]
     },
     "metadata": {
      "needs_background": "light"
     },
     "output_type": "display_data"
    }
   ],
   "source": [
    "x = np.arange(0,39,3)\n",
    "plt.plot(x,data_rain_probability[:13], color = 'b', label = 'rain probability')\n",
    "plt.xlabel('Time')\n",
    "plt.ylabel('rain_probability')\n",
    "plt.legend(loc='upper right')\n",
    "plt.show()"
   ]
  },
  {
   "cell_type": "code",
   "execution_count": 35,
   "metadata": {},
   "outputs": [
    {
     "name": "stdout",
     "output_type": "stream",
     "text": [
      "['85', '85', '85', '85', '90', '90', '95', '90', '85', '80', '80', '70', '65', '70', '75', '85', '95']\n"
     ]
    }
   ],
   "source": [
    "print(data_wetness)"
   ]
  },
  {
   "cell_type": "code",
   "execution_count": 27,
   "metadata": {},
   "outputs": [
    {
     "data": {
      "image/png": "[encoded data removed]",
      "text/plain": [
       "<Figure size 432x288 with 1 Axes>"
      ]
     },
     "metadata": {
      "needs_background": "light"
     },
     "output_type": "display_data"
    }
   ],
   "source": [
    "x = np.arange(0,39,3)\n",
    "plt.plot(x,data_wetness[:13], color = 'b', label = 'Wetness')\n",
    "plt.xlabel('Time')\n",
    "plt.ylabel('Wetness')\n",
    "plt.legend(loc='upper right')\n",
    "plt.show()\n"
   ]
  },
  {
   "cell_type": "code",
   "execution_count": 42,
   "metadata": {},
   "outputs": [
    {
     "name": "stdout",
     "output_type": "stream",
     "text": [
      "['10~19', '20~39mm', '20~39mm', '20~39mm', '20~39mm', '20~39mm', '20~39mm', '10~19mm', '10~19mm', '1~4mm', '1~4mm', '5~9mm', '5~9mm', '-', '-']\n"
     ]
    }
   ],
   "source": [
    "print(data_rainfall)"
   ]
  },
  {
   "cell_type": "code",
   "execution_count": 45,
   "metadata": {},
   "outputs": [
    {
     "data": {
      "image/png": "[encoded data removed]",
      "text/plain": [
       "<Figure size 432x288 with 1 Axes>"
      ]
     },
     "metadata": {
      "needs_background": "light"
     },
     "output_type": "display_data"
    }
   ],
   "source": [
    "x = np.arange(0,36,3)\n",
    "plt.plot(x,data_rainfall[1:13], color = 'b', label = 'Rainfall')\n",
    "plt.xlabel('Time')\n",
    "plt.ylabel('Rainfall')\n",
    "plt.legend(loc='upper right')\n",
    "plt.show()"
   ]
  },
  {
   "cell_type": "code",
   "execution_count": 38,
   "metadata": {},
   "outputs": [
    {
     "name": "stdout",
     "output_type": "stream",
     "text": [
      "['비', '비', '비', '비', '비', '비', '비', '비', '비', '비', '비', '비', '비', '맑음', '구름 많음', '구름 많음']\n"
     ]
    }
   ],
   "source": [
    "print(data_weather)"
   ]
  },
  {
   "cell_type": "code",
   "execution_count": null,
   "metadata": {},
   "outputs": [],
   "source": []
  }
 ],
 "metadata": {
  "kernelspec": {
   "display_name": "Python 3",
   "language": "python",
   "name": "python3"
  },
  "language_info": {
   "codemirror_mode": {
    "name": "ipython",
    "version": 3
   },
   "file_extension": ".py",
   "mimetype": "text/x-python",
   "name": "python",
   "nbconvert_exporter": "python",
   "pygments_lexer": "ipython3",
   "version": "3.8.3"
  }
 },
 "nbformat": 4,
 "nbformat_minor": 4
}
