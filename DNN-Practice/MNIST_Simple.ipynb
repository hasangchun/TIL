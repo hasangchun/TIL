{
 "cells": [
  {
   "cell_type": "code",
   "execution_count": 1,
   "metadata": {},
   "outputs": [
    {
     "name": "stdout",
     "output_type": "stream",
     "text": [
      "\n",
      "Epoch 00001: val_loss improved from inf to 0.14746, saving model to ./model_MNIST\\01-0.1475.hdf5\n",
      "\n",
      "Epoch 00002: val_loss improved from 0.14746 to 0.10198, saving model to ./model_MNIST\\02-0.1020.hdf5\n",
      "\n",
      "Epoch 00003: val_loss improved from 0.10198 to 0.08880, saving model to ./model_MNIST\\03-0.0888.hdf5\n",
      "\n",
      "Epoch 00004: val_loss improved from 0.08880 to 0.07830, saving model to ./model_MNIST\\04-0.0783.hdf5\n",
      "\n",
      "Epoch 00005: val_loss improved from 0.07830 to 0.07461, saving model to ./model_MNIST\\05-0.0746.hdf5\n",
      "\n",
      "Epoch 00006: val_loss improved from 0.07461 to 0.06749, saving model to ./model_MNIST\\06-0.0675.hdf5\n",
      "\n",
      "Epoch 00007: val_loss improved from 0.06749 to 0.06510, saving model to ./model_MNIST\\07-0.0651.hdf5\n",
      "\n",
      "Epoch 00008: val_loss improved from 0.06510 to 0.06258, saving model to ./model_MNIST\\08-0.0626.hdf5\n",
      "\n",
      "Epoch 00009: val_loss did not improve from 0.06258\n",
      "\n",
      "Epoch 00010: val_loss improved from 0.06258 to 0.06238, saving model to ./model_MNIST\\10-0.0624.hdf5\n",
      "\n",
      "Epoch 00011: val_loss did not improve from 0.06238\n",
      "\n",
      "Epoch 00012: val_loss did not improve from 0.06238\n",
      "\n",
      "Epoch 00013: val_loss improved from 0.06238 to 0.05932, saving model to ./model_MNIST\\13-0.0593.hdf5\n",
      "\n",
      "Epoch 00014: val_loss did not improve from 0.05932\n",
      "\n",
      "Epoch 00015: val_loss did not improve from 0.05932\n",
      "\n",
      "Epoch 00016: val_loss did not improve from 0.05932\n",
      "\n",
      "Epoch 00017: val_loss did not improve from 0.05932\n",
      "\n",
      "Epoch 00018: val_loss did not improve from 0.05932\n",
      "\n",
      "Epoch 00019: val_loss did not improve from 0.05932\n",
      "\n",
      "Epoch 00020: val_loss did not improve from 0.05932\n",
      "\n",
      "Epoch 00021: val_loss did not improve from 0.05932\n",
      "\n",
      "Epoch 00022: val_loss did not improve from 0.05932\n",
      "\n",
      "Epoch 00023: val_loss did not improve from 0.05932\n",
      "313/313 [==============================] - 2s 5ms/step - loss: 0.0675 - accuracy: 0.9840\n",
      "\n",
      " Test Accuracy: 0.9840\n"
     ]
    },
    {
     "data": {
      "image/png": "[encoded data removed]",
      "text/plain": [
       "<Figure size 432x288 with 1 Axes>"
      ]
     },
     "metadata": {
      "needs_background": "light"
     },
     "output_type": "display_data"
    }
   ],
   "source": [
    "from keras.datasets import mnist\n",
    "from keras.utils import np_utils\n",
    "from keras.models import Sequential\n",
    "from keras.layers import Dense\n",
    "from keras.callbacks import ModelCheckpoint,EarlyStopping\n",
    "\n",
    "import matplotlib.pyplot as plt\n",
    "import numpy\n",
    "import os\n",
    "import tensorflow as tf\n",
    "\n",
    "seed = 0\n",
    "numpy.random.seed(seed)\n",
    "tf.random.set_seed(3)\n",
    "\n",
    "(X_train, Y_train), (X_test, Y_test) = mnist.load_data()\n",
    "\n",
    "X_train = X_train.reshape(X_train.shape[0], 784).astype('float32') / 255\n",
    "X_test = X_test.reshape(X_test.shape[0], 784).astype('float32') / 255\n",
    "\n",
    "Y_train = np_utils.to_categorical(Y_train, 10)\n",
    "Y_test = np_utils.to_categorical(Y_test, 10)\n",
    "\n",
    "model = Sequential()\n",
    "model.add(Dense(512, input_dim=784, activation='relu'))\n",
    "model.add(Dense(10, activation='softmax'))\n",
    "\n",
    "model.compile(loss='categorical_crossentropy',optimizer='adam',metrics=['accuracy'])\n",
    "\n",
    "MODEL_DIR = './model_MNIST/'\n",
    "if not os.path.exists(MODEL_DIR):\n",
    "    os.mkdir(MODEL_DIR)\n",
    "\n",
    "modelpath=\"./model_MNIST/{epoch:02d}-{val_loss:.4f}.hdf5\"\n",
    "checkpointer = ModelCheckpoint(filepath=modelpath, monitor='val_loss', verbose=1, save_best_only=True)\n",
    "early_stopping_callback = EarlyStopping(monitor='val_loss', patience=10)\n",
    "\n",
    "history = model.fit(X_train, Y_train, validation_data=(X_test, Y_test), epochs=30, batch_size=200, verbose=0, callbacks=[early_stopping_callback,checkpointer])\n",
    "\n",
    "print(\"\\n Test Accuracy: %.4f\" % (model.evaluate(X_test, Y_test)[1]))\n",
    "\n",
    "y_vloss = history.history['val_loss']\n",
    "y_loss = history.history['loss']\n",
    "\n",
    "x_len = numpy.arange(len(y_loss))\n",
    "plt.plot(x_len, y_vloss, marker='.', c=\"red\", label='Testset_loss')\n",
    "plt.plot(x_len, y_loss, marker='.', c=\"blue\", label='Trainset_loss')\n",
    "\n",
    "plt.legend(loc='upper right')\n",
    "plt.grid()\n",
    "plt.xlabel('epoch')\n",
    "plt.ylabel('loss')\n",
    "plt.show()"
   ]
  },
  {
   "cell_type": "code",
   "execution_count": null,
   "metadata": {},
   "outputs": [],
   "source": []
  }
 ],
 "metadata": {
  "kernelspec": {
   "display_name": "Python 3",
   "language": "python",
   "name": "python3"
  },
  "language_info": {
   "codemirror_mode": {
    "name": "ipython",
    "version": 3
   },
   "file_extension": ".py",
   "mimetype": "text/x-python",
   "name": "python",
   "nbconvert_exporter": "python",
   "pygments_lexer": "ipython3",
   "version": "3.8.3"
  }
 },
 "nbformat": 4,
 "nbformat_minor": 4
}
