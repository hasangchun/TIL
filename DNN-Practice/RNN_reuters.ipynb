{
 "cells": [
  {
   "cell_type": "code",
   "execution_count": 1,
   "metadata": {},
   "outputs": [
    {
     "name": "stdout",
     "output_type": "stream",
     "text": [
      "Downloading data from https://storage.googleapis.com/tensorflow/tf-keras-datasets/reuters.npz\n",
      "2113536/2110848 [==============================] - 0s 0us/step\n",
      "46 카테고리\n",
      "8982 학습용 뉴스 기사\n",
      "2246 테스트용 뉴스 기사\n",
      "[1, 2, 2, 8, 43, 10, 447, 5, 25, 207, 270, 5, 2, 111, 16, 369, 186, 90, 67, 7, 89, 5, 19, 102, 6, 19, 124, 15, 90, 67, 84, 22, 482, 26, 7, 48, 4, 49, 8, 864, 39, 209, 154, 6, 151, 6, 83, 11, 15, 22, 155, 11, 15, 7, 48, 9, 2, 2, 504, 6, 258, 6, 272, 11, 15, 22, 134, 44, 11, 15, 16, 8, 197, 2, 90, 67, 52, 29, 209, 30, 32, 132, 6, 109, 15, 17, 12]\n",
      "Epoch 1/20\n",
      "90/90 [==============================] - 12s 138ms/step - loss: 2.5777 - accuracy: 0.3497 - val_loss: 2.1698 - val_accuracy: 0.4488\n",
      "Epoch 2/20\n",
      "90/90 [==============================] - 12s 130ms/step - loss: 2.0350 - accuracy: 0.4905 - val_loss: 1.9463 - val_accuracy: 0.5031\n",
      "Epoch 3/20\n",
      "90/90 [==============================] - 13s 143ms/step - loss: 1.9058 - accuracy: 0.5080 - val_loss: 2.0431 - val_accuracy: 0.4590\n",
      "Epoch 4/20\n",
      "90/90 [==============================] - 13s 150ms/step - loss: 1.7727 - accuracy: 0.5393 - val_loss: 1.7080 - val_accuracy: 0.5623\n",
      "Epoch 5/20\n",
      "90/90 [==============================] - 13s 145ms/step - loss: 1.6566 - accuracy: 0.5710 - val_loss: 1.6698 - val_accuracy: 0.5793\n",
      "Epoch 6/20\n",
      "90/90 [==============================] - 14s 151ms/step - loss: 1.6039 - accuracy: 0.5878 - val_loss: 1.6167 - val_accuracy: 0.6028\n",
      "Epoch 7/20\n",
      "90/90 [==============================] - 13s 143ms/step - loss: 1.4731 - accuracy: 0.6293 - val_loss: 1.4995 - val_accuracy: 0.6331\n",
      "Epoch 8/20\n",
      "90/90 [==============================] - 13s 144ms/step - loss: 1.3890 - accuracy: 0.6471 - val_loss: 1.4604 - val_accuracy: 0.6313\n",
      "Epoch 9/20\n",
      "90/90 [==============================] - 13s 143ms/step - loss: 1.3093 - accuracy: 0.6660 - val_loss: 1.4255 - val_accuracy: 0.6460\n",
      "Epoch 10/20\n",
      "90/90 [==============================] - 14s 155ms/step - loss: 1.2202 - accuracy: 0.6868 - val_loss: 1.4020 - val_accuracy: 0.6505\n",
      "Epoch 11/20\n",
      "90/90 [==============================] - 13s 146ms/step - loss: 1.1372 - accuracy: 0.7066 - val_loss: 1.3118 - val_accuracy: 0.6674\n",
      "Epoch 12/20\n",
      "90/90 [==============================] - 13s 143ms/step - loss: 1.0770 - accuracy: 0.7229 - val_loss: 1.3001 - val_accuracy: 0.6741\n",
      "Epoch 13/20\n",
      "90/90 [==============================] - 13s 146ms/step - loss: 1.0352 - accuracy: 0.7339 - val_loss: 1.2808 - val_accuracy: 0.6754\n",
      "Epoch 14/20\n",
      "90/90 [==============================] - 13s 143ms/step - loss: 0.9891 - accuracy: 0.7447 - val_loss: 1.2514 - val_accuracy: 0.6888\n",
      "Epoch 15/20\n",
      "90/90 [==============================] - 13s 143ms/step - loss: 0.9503 - accuracy: 0.7561 - val_loss: 1.2272 - val_accuracy: 0.6937\n",
      "Epoch 16/20\n",
      "90/90 [==============================] - 13s 144ms/step - loss: 0.9127 - accuracy: 0.7678 - val_loss: 1.2556 - val_accuracy: 0.6874\n",
      "Epoch 17/20\n",
      "90/90 [==============================] - 13s 143ms/step - loss: 0.8751 - accuracy: 0.7728 - val_loss: 1.2288 - val_accuracy: 0.6995\n",
      "Epoch 18/20\n",
      "90/90 [==============================] - 13s 143ms/step - loss: 0.8362 - accuracy: 0.7871 - val_loss: 1.2086 - val_accuracy: 0.7053\n",
      "Epoch 19/20\n",
      "90/90 [==============================] - 13s 143ms/step - loss: 0.8006 - accuracy: 0.7959 - val_loss: 1.2306 - val_accuracy: 0.7061\n",
      "Epoch 20/20\n",
      "90/90 [==============================] - 13s 143ms/step - loss: 0.7669 - accuracy: 0.8064 - val_loss: 1.2374 - val_accuracy: 0.7084\n",
      "71/71 [==============================] - 1s 20ms/step - loss: 1.2374 - accuracy: 0.7084\n",
      "\n",
      " Test Accuracy: 0.7084\n"
     ]
    },
    {
     "data": {
      "image/png": "[encoded data removed]",
      "text/plain": [
       "<Figure size 432x288 with 1 Axes>"
      ]
     },
     "metadata": {
      "needs_background": "light"
     },
     "output_type": "display_data"
    }
   ],
   "source": [
    "import numpy\n",
    "import tensorflow as tf\n",
    "import matplotlib.pyplot as plt\n",
    "\n",
    "from keras.datasets import reuters\n",
    "from keras.models import Sequential\n",
    "from keras.layers import Dense, LSTM, Embedding\n",
    "from keras.preprocessing import sequence\n",
    "from keras.utils import np_utils\n",
    "\n",
    "seed = 0\n",
    "numpy.random.seed(seed)\n",
    "tf.random.set_seed(3)\n",
    "\n",
    "(X_train, Y_train), (X_test, Y_test) = reuters.load_data(num_words=1000, test_split=0.2)\n",
    "\n",
    "category = numpy.max(Y_train) + 1\n",
    "print(category, '카테고리')\n",
    "print(len(X_train), '학습용 뉴스 기사')\n",
    "print(len(X_test), '테스트용 뉴스 기사')\n",
    "print(X_train[0])\n",
    "\n",
    "x_train = sequence.pad_sequences(X_train, maxlen=100)\n",
    "x_test = sequence.pad_sequences(X_test, maxlen=100)\n",
    "y_train = np_utils.to_categorical(Y_train)\n",
    "y_test = np_utils.to_categorical(Y_test)\n",
    "\n",
    "model = Sequential()\n",
    "model.add(Embedding(1000, 100))\n",
    "model.add(LSTM(100, activation='tanh'))\n",
    "model.add(Dense(46, activation='softmax'))\n",
    "\n",
    "model.compile(loss='categorical_crossentropy',optimizer='adam',metrics=['accuracy'])\n",
    "\n",
    "history = model.fit(x_train, y_train, batch_size=100, epochs=20, validation_data=(x_test, y_test))\n",
    "\n",
    "print(\"\\n Test Accuracy: %.4f\" % (model.evaluate(x_test, y_test)[1]))\n",
    "\n",
    "\n",
    "y_vloss = history.history['val_loss']\n",
    "\n",
    "y_loss = history.history['loss']\n",
    "\n",
    "x_len = numpy.arange(len(y_loss))\n",
    "plt.plot(x_len, y_vloss, marker='.', c=\"red\", label='Testset_loss')\n",
    "plt.plot(x_len, y_loss, marker='.', c=\"blue\", label='Trainset_loss')\n",
    "\n",
    "plt.legend(loc='upper right')\n",
    "plt.grid()\n",
    "plt.xlabel('epoch')\n",
    "plt.ylabel('loss')\n",
    "plt.show()"
   ]
  },
  {
   "cell_type": "code",
   "execution_count": null,
   "metadata": {},
   "outputs": [],
   "source": []
  }
 ],
 "metadata": {
  "kernelspec": {
   "display_name": "Python 3",
   "language": "python",
   "name": "python3"
  },
  "language_info": {
   "codemirror_mode": {
    "name": "ipython",
    "version": 3
   },
   "file_extension": ".py",
   "mimetype": "text/x-python",
   "name": "python",
   "nbconvert_exporter": "python",
   "pygments_lexer": "ipython3",
   "version": "3.8.3"
  }
 },
 "nbformat": 4,
 "nbformat_minor": 2
}
