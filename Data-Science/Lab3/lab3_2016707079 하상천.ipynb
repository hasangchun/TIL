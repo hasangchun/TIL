{
 "cells": [
  {
   "cell_type": "markdown",
   "metadata": {},
   "source": [
    "# Part 1: Understanding and defining the problem"
   ]
  },
  {
   "cell_type": "markdown",
   "metadata": {},
   "source": [
    "### The goal of this task is to predict the poverty level for each household."
   ]
  },
  {
   "cell_type": "code",
   "execution_count": 1,
   "metadata": {},
   "outputs": [],
   "source": [
    "import pandas as pd\n",
    "import numpy as np\n",
    "import matplotlib.pyplot as plt\n",
    "%matplotlib inline\n",
    "import seaborn as sns"
   ]
  },
  {
   "cell_type": "markdown",
   "metadata": {},
   "source": [
    "#### Q1: Define the machine learning problem of this problem (supervised, unsupervised, binary classification, etc.)"
   ]
  },
  {
   "cell_type": "markdown",
   "metadata": {},
   "source": [
    "**Solution)** target이 있기 때문에 supervised learning이고, 4개의 categories가 있기 때문에 multinomial classification이다."
   ]
  },
  {
   "cell_type": "markdown",
   "metadata": {},
   "source": [
    "#### Q2: Explain the meaning of the target and the categories of the target.\n",
    "In the dataset, we are given data on the individual level with each individual having unique features, but also information about their household. We have to make a prediction for every HOUSEHOLD ONLY, not the individuals."
   ]
  },
  {
   "cell_type": "markdown",
   "metadata": {},
   "source": [
    "**Solution)**  target은 4개의 소득 level을 나타낸다. 1은 extreme poverty이고, 2는 moderate poverty, 3은 vulnerable households, 4는 non-vulnerable households를 나타낸다. "
   ]
  },
  {
   "cell_type": "markdown",
   "metadata": {},
   "source": [
    "#### Q3: Determine what methods can be done to get the prediction for each household, and not for each individual."
   ]
  },
  {
   "cell_type": "markdown",
   "metadata": {},
   "source": [
    "**Solution)**  각각의 household의 unique identifier인 idhogar feature를 사용해서 각각의 household를 구분하고, 이 사람이 household의 head인지 아닌지를 나타내는 parentesco1 feature를 사용해서 구분된 household의 head를 찾아낸다. 각각의 household를 예측하는 방법으로는 찾아낸 household의 head 정보를 통해 예측할 것 이다."
   ]
  },
  {
   "cell_type": "markdown",
   "metadata": {},
   "source": [
    "#### Q4: Some individuals belong to the label \"no head of household\". Determine what should be done with these individuals."
   ]
  },
  {
   "cell_type": "markdown",
   "metadata": {},
   "source": [
    "**Solution)** household의 head가 없는 label은 삭제한다."
   ]
  },
  {
   "cell_type": "markdown",
   "metadata": {},
   "source": [
    "#### Q5: Identify the features that seem important just by reading their definitions."
   ]
  },
  {
   "cell_type": "markdown",
   "metadata": {},
   "source": [
    "**Solution)** v2a1, rooms, r4t3, sanitario1, parentesco1, idhogar, hogar_total, dependency, qmobilephone"
   ]
  },
  {
   "cell_type": "markdown",
   "metadata": {},
   "source": [
    "# Part 2: Data exploration"
   ]
  },
  {
   "cell_type": "markdown",
   "metadata": {},
   "source": [
    "### After reading the train and test data, we have to explore the dataset."
   ]
  },
  {
   "cell_type": "markdown",
   "metadata": {},
   "source": [
    "#### Q1: Identify the shapes of the train and test dataset."
   ]
  },
  {
   "cell_type": "code",
   "execution_count": 560,
   "metadata": {
    "scrolled": true
   },
   "outputs": [
    {
     "data": {
      "text/html": [
       "<div>\n",
       "<style scoped>\n",
       "    .dataframe tbody tr th:only-of-type {\n",
       "        vertical-align: middle;\n",
       "    }\n",
       "\n",
       "    .dataframe tbody tr th {\n",
       "        vertical-align: top;\n",
       "    }\n",
       "\n",
       "    .dataframe thead th {\n",
       "        text-align: right;\n",
       "    }\n",
       "</style>\n",
       "<table border=\"1\" class=\"dataframe\">\n",
       "  <thead>\n",
       "    <tr style=\"text-align: right;\">\n",
       "      <th></th>\n",
       "      <th>0</th>\n",
       "      <th>1</th>\n",
       "      <th>2</th>\n",
       "      <th>3</th>\n",
       "      <th>4</th>\n",
       "      <th>5</th>\n",
       "      <th>6</th>\n",
       "      <th>7</th>\n",
       "      <th>8</th>\n",
       "      <th>9</th>\n",
       "      <th>...</th>\n",
       "      <th>9547</th>\n",
       "      <th>9548</th>\n",
       "      <th>9549</th>\n",
       "      <th>9550</th>\n",
       "      <th>9551</th>\n",
       "      <th>9552</th>\n",
       "      <th>9553</th>\n",
       "      <th>9554</th>\n",
       "      <th>9555</th>\n",
       "      <th>9556</th>\n",
       "    </tr>\n",
       "  </thead>\n",
       "  <tbody>\n",
       "    <tr>\n",
       "      <th>Id</th>\n",
       "      <td>ID_279628684</td>\n",
       "      <td>ID_f29eb3ddd</td>\n",
       "      <td>ID_68de51c94</td>\n",
       "      <td>ID_d671db89c</td>\n",
       "      <td>ID_d56d6f5f5</td>\n",
       "      <td>ID_ec05b1a7b</td>\n",
       "      <td>ID_e9e0c1100</td>\n",
       "      <td>ID_3e04e571e</td>\n",
       "      <td>ID_1284f8aad</td>\n",
       "      <td>ID_51f52fdd2</td>\n",
       "      <td>...</td>\n",
       "      <td>ID_198be48d1</td>\n",
       "      <td>ID_9df63c33e</td>\n",
       "      <td>ID_aacac04a2</td>\n",
       "      <td>ID_90a399a51</td>\n",
       "      <td>ID_79d39dddc</td>\n",
       "      <td>ID_d45ae367d</td>\n",
       "      <td>ID_c94744e07</td>\n",
       "      <td>ID_85fc658f8</td>\n",
       "      <td>ID_ced540c61</td>\n",
       "      <td>ID_a38c64491</td>\n",
       "    </tr>\n",
       "    <tr>\n",
       "      <th>v2a1</th>\n",
       "      <td>190000</td>\n",
       "      <td>135000</td>\n",
       "      <td>NaN</td>\n",
       "      <td>180000</td>\n",
       "      <td>180000</td>\n",
       "      <td>180000</td>\n",
       "      <td>180000</td>\n",
       "      <td>130000</td>\n",
       "      <td>130000</td>\n",
       "      <td>130000</td>\n",
       "      <td>...</td>\n",
       "      <td>46500</td>\n",
       "      <td>46500</td>\n",
       "      <td>46500</td>\n",
       "      <td>NaN</td>\n",
       "      <td>NaN</td>\n",
       "      <td>80000</td>\n",
       "      <td>80000</td>\n",
       "      <td>80000</td>\n",
       "      <td>80000</td>\n",
       "      <td>80000</td>\n",
       "    </tr>\n",
       "    <tr>\n",
       "      <th>hacdor</th>\n",
       "      <td>0</td>\n",
       "      <td>0</td>\n",
       "      <td>0</td>\n",
       "      <td>0</td>\n",
       "      <td>0</td>\n",
       "      <td>0</td>\n",
       "      <td>0</td>\n",
       "      <td>1</td>\n",
       "      <td>1</td>\n",
       "      <td>1</td>\n",
       "      <td>...</td>\n",
       "      <td>0</td>\n",
       "      <td>0</td>\n",
       "      <td>0</td>\n",
       "      <td>0</td>\n",
       "      <td>0</td>\n",
       "      <td>0</td>\n",
       "      <td>0</td>\n",
       "      <td>0</td>\n",
       "      <td>0</td>\n",
       "      <td>0</td>\n",
       "    </tr>\n",
       "    <tr>\n",
       "      <th>rooms</th>\n",
       "      <td>3</td>\n",
       "      <td>4</td>\n",
       "      <td>8</td>\n",
       "      <td>5</td>\n",
       "      <td>5</td>\n",
       "      <td>5</td>\n",
       "      <td>5</td>\n",
       "      <td>2</td>\n",
       "      <td>2</td>\n",
       "      <td>2</td>\n",
       "      <td>...</td>\n",
       "      <td>5</td>\n",
       "      <td>5</td>\n",
       "      <td>5</td>\n",
       "      <td>3</td>\n",
       "      <td>3</td>\n",
       "      <td>6</td>\n",
       "      <td>6</td>\n",
       "      <td>6</td>\n",
       "      <td>6</td>\n",
       "      <td>6</td>\n",
       "    </tr>\n",
       "    <tr>\n",
       "      <th>hacapo</th>\n",
       "      <td>0</td>\n",
       "      <td>0</td>\n",
       "      <td>0</td>\n",
       "      <td>0</td>\n",
       "      <td>0</td>\n",
       "      <td>0</td>\n",
       "      <td>0</td>\n",
       "      <td>0</td>\n",
       "      <td>0</td>\n",
       "      <td>0</td>\n",
       "      <td>...</td>\n",
       "      <td>0</td>\n",
       "      <td>0</td>\n",
       "      <td>0</td>\n",
       "      <td>0</td>\n",
       "      <td>0</td>\n",
       "      <td>0</td>\n",
       "      <td>0</td>\n",
       "      <td>0</td>\n",
       "      <td>0</td>\n",
       "      <td>0</td>\n",
       "    </tr>\n",
       "    <tr>\n",
       "      <th>...</th>\n",
       "      <td>...</td>\n",
       "      <td>...</td>\n",
       "      <td>...</td>\n",
       "      <td>...</td>\n",
       "      <td>...</td>\n",
       "      <td>...</td>\n",
       "      <td>...</td>\n",
       "      <td>...</td>\n",
       "      <td>...</td>\n",
       "      <td>...</td>\n",
       "      <td>...</td>\n",
       "      <td>...</td>\n",
       "      <td>...</td>\n",
       "      <td>...</td>\n",
       "      <td>...</td>\n",
       "      <td>...</td>\n",
       "      <td>...</td>\n",
       "      <td>...</td>\n",
       "      <td>...</td>\n",
       "      <td>...</td>\n",
       "      <td>...</td>\n",
       "    </tr>\n",
       "    <tr>\n",
       "      <th>SQBovercrowding</th>\n",
       "      <td>1</td>\n",
       "      <td>1</td>\n",
       "      <td>0.25</td>\n",
       "      <td>1.77778</td>\n",
       "      <td>1.77778</td>\n",
       "      <td>1.77778</td>\n",
       "      <td>1.77778</td>\n",
       "      <td>16</td>\n",
       "      <td>16</td>\n",
       "      <td>16</td>\n",
       "      <td>...</td>\n",
       "      <td>5.44444</td>\n",
       "      <td>5.44444</td>\n",
       "      <td>5.44444</td>\n",
       "      <td>4</td>\n",
       "      <td>4</td>\n",
       "      <td>1.5625</td>\n",
       "      <td>1.5625</td>\n",
       "      <td>1.5625</td>\n",
       "      <td>1.5625</td>\n",
       "      <td>1.5625</td>\n",
       "    </tr>\n",
       "    <tr>\n",
       "      <th>SQBdependency</th>\n",
       "      <td>0</td>\n",
       "      <td>64</td>\n",
       "      <td>64</td>\n",
       "      <td>1</td>\n",
       "      <td>1</td>\n",
       "      <td>1</td>\n",
       "      <td>1</td>\n",
       "      <td>1</td>\n",
       "      <td>1</td>\n",
       "      <td>1</td>\n",
       "      <td>...</td>\n",
       "      <td>0.444444</td>\n",
       "      <td>0.444444</td>\n",
       "      <td>0.444444</td>\n",
       "      <td>1</td>\n",
       "      <td>1</td>\n",
       "      <td>0.0625</td>\n",
       "      <td>0.0625</td>\n",
       "      <td>0.0625</td>\n",
       "      <td>0.0625</td>\n",
       "      <td>0.0625</td>\n",
       "    </tr>\n",
       "    <tr>\n",
       "      <th>SQBmeaned</th>\n",
       "      <td>100</td>\n",
       "      <td>144</td>\n",
       "      <td>121</td>\n",
       "      <td>121</td>\n",
       "      <td>121</td>\n",
       "      <td>121</td>\n",
       "      <td>121</td>\n",
       "      <td>100</td>\n",
       "      <td>100</td>\n",
       "      <td>100</td>\n",
       "      <td>...</td>\n",
       "      <td>100</td>\n",
       "      <td>100</td>\n",
       "      <td>100</td>\n",
       "      <td>9</td>\n",
       "      <td>9</td>\n",
       "      <td>68.0625</td>\n",
       "      <td>68.0625</td>\n",
       "      <td>68.0625</td>\n",
       "      <td>68.0625</td>\n",
       "      <td>68.0625</td>\n",
       "    </tr>\n",
       "    <tr>\n",
       "      <th>agesq</th>\n",
       "      <td>1849</td>\n",
       "      <td>4489</td>\n",
       "      <td>8464</td>\n",
       "      <td>289</td>\n",
       "      <td>1369</td>\n",
       "      <td>1444</td>\n",
       "      <td>64</td>\n",
       "      <td>49</td>\n",
       "      <td>900</td>\n",
       "      <td>784</td>\n",
       "      <td>...</td>\n",
       "      <td>529</td>\n",
       "      <td>324</td>\n",
       "      <td>4</td>\n",
       "      <td>3721</td>\n",
       "      <td>4489</td>\n",
       "      <td>2116</td>\n",
       "      <td>4</td>\n",
       "      <td>2500</td>\n",
       "      <td>676</td>\n",
       "      <td>441</td>\n",
       "    </tr>\n",
       "    <tr>\n",
       "      <th>Target</th>\n",
       "      <td>4</td>\n",
       "      <td>4</td>\n",
       "      <td>4</td>\n",
       "      <td>4</td>\n",
       "      <td>4</td>\n",
       "      <td>4</td>\n",
       "      <td>4</td>\n",
       "      <td>4</td>\n",
       "      <td>4</td>\n",
       "      <td>4</td>\n",
       "      <td>...</td>\n",
       "      <td>4</td>\n",
       "      <td>4</td>\n",
       "      <td>4</td>\n",
       "      <td>2</td>\n",
       "      <td>2</td>\n",
       "      <td>2</td>\n",
       "      <td>2</td>\n",
       "      <td>2</td>\n",
       "      <td>2</td>\n",
       "      <td>2</td>\n",
       "    </tr>\n",
       "  </tbody>\n",
       "</table>\n",
       "<p>143 rows × 9557 columns</p>\n",
       "</div>"
      ],
      "text/plain": [
       "                         0             1             2             3     \\\n",
       "Id               ID_279628684  ID_f29eb3ddd  ID_68de51c94  ID_d671db89c   \n",
       "v2a1                   190000        135000           NaN        180000   \n",
       "hacdor                      0             0             0             0   \n",
       "rooms                       3             4             8             5   \n",
       "hacapo                      0             0             0             0   \n",
       "...                       ...           ...           ...           ...   \n",
       "SQBovercrowding             1             1          0.25       1.77778   \n",
       "SQBdependency               0            64            64             1   \n",
       "SQBmeaned                 100           144           121           121   \n",
       "agesq                    1849          4489          8464           289   \n",
       "Target                      4             4             4             4   \n",
       "\n",
       "                         4             5             6             7     \\\n",
       "Id               ID_d56d6f5f5  ID_ec05b1a7b  ID_e9e0c1100  ID_3e04e571e   \n",
       "v2a1                   180000        180000        180000        130000   \n",
       "hacdor                      0             0             0             1   \n",
       "rooms                       5             5             5             2   \n",
       "hacapo                      0             0             0             0   \n",
       "...                       ...           ...           ...           ...   \n",
       "SQBovercrowding       1.77778       1.77778       1.77778            16   \n",
       "SQBdependency               1             1             1             1   \n",
       "SQBmeaned                 121           121           121           100   \n",
       "agesq                    1369          1444            64            49   \n",
       "Target                      4             4             4             4   \n",
       "\n",
       "                         8             9     ...          9547          9548  \\\n",
       "Id               ID_1284f8aad  ID_51f52fdd2  ...  ID_198be48d1  ID_9df63c33e   \n",
       "v2a1                   130000        130000  ...         46500         46500   \n",
       "hacdor                      1             1  ...             0             0   \n",
       "rooms                       2             2  ...             5             5   \n",
       "hacapo                      0             0  ...             0             0   \n",
       "...                       ...           ...  ...           ...           ...   \n",
       "SQBovercrowding            16            16  ...       5.44444       5.44444   \n",
       "SQBdependency               1             1  ...      0.444444      0.444444   \n",
       "SQBmeaned                 100           100  ...           100           100   \n",
       "agesq                     900           784  ...           529           324   \n",
       "Target                      4             4  ...             4             4   \n",
       "\n",
       "                         9549          9550          9551          9552  \\\n",
       "Id               ID_aacac04a2  ID_90a399a51  ID_79d39dddc  ID_d45ae367d   \n",
       "v2a1                    46500           NaN           NaN         80000   \n",
       "hacdor                      0             0             0             0   \n",
       "rooms                       5             3             3             6   \n",
       "hacapo                      0             0             0             0   \n",
       "...                       ...           ...           ...           ...   \n",
       "SQBovercrowding       5.44444             4             4        1.5625   \n",
       "SQBdependency        0.444444             1             1        0.0625   \n",
       "SQBmeaned                 100             9             9       68.0625   \n",
       "agesq                       4          3721          4489          2116   \n",
       "Target                      4             2             2             2   \n",
       "\n",
       "                         9553          9554          9555          9556  \n",
       "Id               ID_c94744e07  ID_85fc658f8  ID_ced540c61  ID_a38c64491  \n",
       "v2a1                    80000         80000         80000         80000  \n",
       "hacdor                      0             0             0             0  \n",
       "rooms                       6             6             6             6  \n",
       "hacapo                      0             0             0             0  \n",
       "...                       ...           ...           ...           ...  \n",
       "SQBovercrowding        1.5625        1.5625        1.5625        1.5625  \n",
       "SQBdependency          0.0625        0.0625        0.0625        0.0625  \n",
       "SQBmeaned             68.0625       68.0625       68.0625       68.0625  \n",
       "agesq                       4          2500           676           441  \n",
       "Target                      2             2             2             2  \n",
       "\n",
       "[143 rows x 9557 columns]"
      ]
     },
     "execution_count": 560,
     "metadata": {},
     "output_type": "execute_result"
    }
   ],
   "source": [
    "train_csv = pd.read_csv('train.csv')\n",
    "train_csv.T"
   ]
  },
  {
   "cell_type": "code",
   "execution_count": 523,
   "metadata": {},
   "outputs": [
    {
     "name": "stdout",
     "output_type": "stream",
     "text": [
      "(9557, 143)\n"
     ]
    }
   ],
   "source": [
    "print(train_csv.shape)"
   ]
  },
  {
   "cell_type": "code",
   "execution_count": 585,
   "metadata": {
    "scrolled": true
   },
   "outputs": [
    {
     "data": {
      "text/html": [
       "<div>\n",
       "<style scoped>\n",
       "    .dataframe tbody tr th:only-of-type {\n",
       "        vertical-align: middle;\n",
       "    }\n",
       "\n",
       "    .dataframe tbody tr th {\n",
       "        vertical-align: top;\n",
       "    }\n",
       "\n",
       "    .dataframe thead th {\n",
       "        text-align: right;\n",
       "    }\n",
       "</style>\n",
       "<table border=\"1\" class=\"dataframe\">\n",
       "  <thead>\n",
       "    <tr style=\"text-align: right;\">\n",
       "      <th></th>\n",
       "      <th>0</th>\n",
       "      <th>1</th>\n",
       "      <th>2</th>\n",
       "      <th>3</th>\n",
       "      <th>4</th>\n",
       "      <th>5</th>\n",
       "      <th>6</th>\n",
       "      <th>7</th>\n",
       "      <th>8</th>\n",
       "      <th>9</th>\n",
       "      <th>...</th>\n",
       "      <th>23846</th>\n",
       "      <th>23847</th>\n",
       "      <th>23848</th>\n",
       "      <th>23849</th>\n",
       "      <th>23850</th>\n",
       "      <th>23851</th>\n",
       "      <th>23852</th>\n",
       "      <th>23853</th>\n",
       "      <th>23854</th>\n",
       "      <th>23855</th>\n",
       "    </tr>\n",
       "  </thead>\n",
       "  <tbody>\n",
       "    <tr>\n",
       "      <th>Id</th>\n",
       "      <td>ID_2f6873615</td>\n",
       "      <td>ID_1c78846d2</td>\n",
       "      <td>ID_e5442cf6a</td>\n",
       "      <td>ID_a8db26a79</td>\n",
       "      <td>ID_a62966799</td>\n",
       "      <td>ID_e77d38d45</td>\n",
       "      <td>ID_3c5f4bd51</td>\n",
       "      <td>ID_a849c29bd</td>\n",
       "      <td>ID_472fa82da</td>\n",
       "      <td>ID_24864adcc</td>\n",
       "      <td>...</td>\n",
       "      <td>ID_f0c9c06f7</td>\n",
       "      <td>ID_4b7feead3</td>\n",
       "      <td>ID_c2650e696</td>\n",
       "      <td>ID_64958963c</td>\n",
       "      <td>ID_ecdf63132</td>\n",
       "      <td>ID_a065a7cad</td>\n",
       "      <td>ID_1a7c6953b</td>\n",
       "      <td>ID_07dbb4be2</td>\n",
       "      <td>ID_34d2ed046</td>\n",
       "      <td>ID_34754556f</td>\n",
       "    </tr>\n",
       "    <tr>\n",
       "      <th>v2a1</th>\n",
       "      <td>NaN</td>\n",
       "      <td>NaN</td>\n",
       "      <td>NaN</td>\n",
       "      <td>NaN</td>\n",
       "      <td>175000</td>\n",
       "      <td>400000</td>\n",
       "      <td>400000</td>\n",
       "      <td>300000</td>\n",
       "      <td>300000</td>\n",
       "      <td>NaN</td>\n",
       "      <td>...</td>\n",
       "      <td>NaN</td>\n",
       "      <td>NaN</td>\n",
       "      <td>NaN</td>\n",
       "      <td>NaN</td>\n",
       "      <td>NaN</td>\n",
       "      <td>NaN</td>\n",
       "      <td>NaN</td>\n",
       "      <td>NaN</td>\n",
       "      <td>NaN</td>\n",
       "      <td>NaN</td>\n",
       "    </tr>\n",
       "    <tr>\n",
       "      <th>hacdor</th>\n",
       "      <td>0</td>\n",
       "      <td>0</td>\n",
       "      <td>0</td>\n",
       "      <td>0</td>\n",
       "      <td>0</td>\n",
       "      <td>0</td>\n",
       "      <td>0</td>\n",
       "      <td>0</td>\n",
       "      <td>0</td>\n",
       "      <td>0</td>\n",
       "      <td>...</td>\n",
       "      <td>1</td>\n",
       "      <td>1</td>\n",
       "      <td>1</td>\n",
       "      <td>1</td>\n",
       "      <td>1</td>\n",
       "      <td>1</td>\n",
       "      <td>0</td>\n",
       "      <td>0</td>\n",
       "      <td>0</td>\n",
       "      <td>0</td>\n",
       "    </tr>\n",
       "    <tr>\n",
       "      <th>rooms</th>\n",
       "      <td>5</td>\n",
       "      <td>5</td>\n",
       "      <td>5</td>\n",
       "      <td>14</td>\n",
       "      <td>4</td>\n",
       "      <td>3</td>\n",
       "      <td>3</td>\n",
       "      <td>6</td>\n",
       "      <td>6</td>\n",
       "      <td>6</td>\n",
       "      <td>...</td>\n",
       "      <td>2</td>\n",
       "      <td>2</td>\n",
       "      <td>2</td>\n",
       "      <td>2</td>\n",
       "      <td>2</td>\n",
       "      <td>2</td>\n",
       "      <td>3</td>\n",
       "      <td>3</td>\n",
       "      <td>3</td>\n",
       "      <td>3</td>\n",
       "    </tr>\n",
       "    <tr>\n",
       "      <th>hacapo</th>\n",
       "      <td>0</td>\n",
       "      <td>0</td>\n",
       "      <td>0</td>\n",
       "      <td>0</td>\n",
       "      <td>0</td>\n",
       "      <td>0</td>\n",
       "      <td>0</td>\n",
       "      <td>0</td>\n",
       "      <td>0</td>\n",
       "      <td>0</td>\n",
       "      <td>...</td>\n",
       "      <td>1</td>\n",
       "      <td>1</td>\n",
       "      <td>1</td>\n",
       "      <td>1</td>\n",
       "      <td>1</td>\n",
       "      <td>1</td>\n",
       "      <td>0</td>\n",
       "      <td>0</td>\n",
       "      <td>0</td>\n",
       "      <td>0</td>\n",
       "    </tr>\n",
       "    <tr>\n",
       "      <th>...</th>\n",
       "      <td>...</td>\n",
       "      <td>...</td>\n",
       "      <td>...</td>\n",
       "      <td>...</td>\n",
       "      <td>...</td>\n",
       "      <td>...</td>\n",
       "      <td>...</td>\n",
       "      <td>...</td>\n",
       "      <td>...</td>\n",
       "      <td>...</td>\n",
       "      <td>...</td>\n",
       "      <td>...</td>\n",
       "      <td>...</td>\n",
       "      <td>...</td>\n",
       "      <td>...</td>\n",
       "      <td>...</td>\n",
       "      <td>...</td>\n",
       "      <td>...</td>\n",
       "      <td>...</td>\n",
       "      <td>...</td>\n",
       "      <td>...</td>\n",
       "    </tr>\n",
       "    <tr>\n",
       "      <th>SQBhogar_nin</th>\n",
       "      <td>1</td>\n",
       "      <td>1</td>\n",
       "      <td>1</td>\n",
       "      <td>0</td>\n",
       "      <td>1</td>\n",
       "      <td>0</td>\n",
       "      <td>0</td>\n",
       "      <td>0</td>\n",
       "      <td>0</td>\n",
       "      <td>0</td>\n",
       "      <td>...</td>\n",
       "      <td>4</td>\n",
       "      <td>4</td>\n",
       "      <td>4</td>\n",
       "      <td>4</td>\n",
       "      <td>4</td>\n",
       "      <td>4</td>\n",
       "      <td>4</td>\n",
       "      <td>4</td>\n",
       "      <td>4</td>\n",
       "      <td>4</td>\n",
       "    </tr>\n",
       "    <tr>\n",
       "      <th>SQBovercrowding</th>\n",
       "      <td>2.25</td>\n",
       "      <td>2.25</td>\n",
       "      <td>2.25</td>\n",
       "      <td>1</td>\n",
       "      <td>0.25</td>\n",
       "      <td>1</td>\n",
       "      <td>1</td>\n",
       "      <td>0.25</td>\n",
       "      <td>0.25</td>\n",
       "      <td>0.111111</td>\n",
       "      <td>...</td>\n",
       "      <td>36</td>\n",
       "      <td>36</td>\n",
       "      <td>36</td>\n",
       "      <td>36</td>\n",
       "      <td>36</td>\n",
       "      <td>36</td>\n",
       "      <td>4</td>\n",
       "      <td>4</td>\n",
       "      <td>4</td>\n",
       "      <td>4</td>\n",
       "    </tr>\n",
       "    <tr>\n",
       "      <th>SQBdependency</th>\n",
       "      <td>0.25</td>\n",
       "      <td>0.25</td>\n",
       "      <td>0.25</td>\n",
       "      <td>0</td>\n",
       "      <td>64</td>\n",
       "      <td>0</td>\n",
       "      <td>0</td>\n",
       "      <td>0</td>\n",
       "      <td>0</td>\n",
       "      <td>64</td>\n",
       "      <td>...</td>\n",
       "      <td>0.25</td>\n",
       "      <td>0.25</td>\n",
       "      <td>0.25</td>\n",
       "      <td>0.25</td>\n",
       "      <td>0.25</td>\n",
       "      <td>0.25</td>\n",
       "      <td>1</td>\n",
       "      <td>1</td>\n",
       "      <td>1</td>\n",
       "      <td>1</td>\n",
       "    </tr>\n",
       "    <tr>\n",
       "      <th>SQBmeaned</th>\n",
       "      <td>272.25</td>\n",
       "      <td>272.25</td>\n",
       "      <td>272.25</td>\n",
       "      <td>256</td>\n",
       "      <td>NaN</td>\n",
       "      <td>182.25</td>\n",
       "      <td>182.25</td>\n",
       "      <td>196</td>\n",
       "      <td>196</td>\n",
       "      <td>100</td>\n",
       "      <td>...</td>\n",
       "      <td>33.0625</td>\n",
       "      <td>33.0625</td>\n",
       "      <td>33.0625</td>\n",
       "      <td>33.0625</td>\n",
       "      <td>33.0625</td>\n",
       "      <td>33.0625</td>\n",
       "      <td>36</td>\n",
       "      <td>36</td>\n",
       "      <td>36</td>\n",
       "      <td>36</td>\n",
       "    </tr>\n",
       "    <tr>\n",
       "      <th>agesq</th>\n",
       "      <td>16</td>\n",
       "      <td>1681</td>\n",
       "      <td>1681</td>\n",
       "      <td>3481</td>\n",
       "      <td>324</td>\n",
       "      <td>1444</td>\n",
       "      <td>1764</td>\n",
       "      <td>441</td>\n",
       "      <td>484</td>\n",
       "      <td>4900</td>\n",
       "      <td>...</td>\n",
       "      <td>576</td>\n",
       "      <td>3249</td>\n",
       "      <td>324</td>\n",
       "      <td>2209</td>\n",
       "      <td>729</td>\n",
       "      <td>100</td>\n",
       "      <td>2916</td>\n",
       "      <td>144</td>\n",
       "      <td>144</td>\n",
       "      <td>2601</td>\n",
       "    </tr>\n",
       "  </tbody>\n",
       "</table>\n",
       "<p>142 rows × 23856 columns</p>\n",
       "</div>"
      ],
      "text/plain": [
       "                        0             1             2             3      \\\n",
       "Id               ID_2f6873615  ID_1c78846d2  ID_e5442cf6a  ID_a8db26a79   \n",
       "v2a1                      NaN           NaN           NaN           NaN   \n",
       "hacdor                      0             0             0             0   \n",
       "rooms                       5             5             5            14   \n",
       "hacapo                      0             0             0             0   \n",
       "...                       ...           ...           ...           ...   \n",
       "SQBhogar_nin                1             1             1             0   \n",
       "SQBovercrowding          2.25          2.25          2.25             1   \n",
       "SQBdependency            0.25          0.25          0.25             0   \n",
       "SQBmeaned              272.25        272.25        272.25           256   \n",
       "agesq                      16          1681          1681          3481   \n",
       "\n",
       "                        4             5             6             7      \\\n",
       "Id               ID_a62966799  ID_e77d38d45  ID_3c5f4bd51  ID_a849c29bd   \n",
       "v2a1                   175000        400000        400000        300000   \n",
       "hacdor                      0             0             0             0   \n",
       "rooms                       4             3             3             6   \n",
       "hacapo                      0             0             0             0   \n",
       "...                       ...           ...           ...           ...   \n",
       "SQBhogar_nin                1             0             0             0   \n",
       "SQBovercrowding          0.25             1             1          0.25   \n",
       "SQBdependency              64             0             0             0   \n",
       "SQBmeaned                 NaN        182.25        182.25           196   \n",
       "agesq                     324          1444          1764           441   \n",
       "\n",
       "                        8             9      ...         23846         23847  \\\n",
       "Id               ID_472fa82da  ID_24864adcc  ...  ID_f0c9c06f7  ID_4b7feead3   \n",
       "v2a1                   300000           NaN  ...           NaN           NaN   \n",
       "hacdor                      0             0  ...             1             1   \n",
       "rooms                       6             6  ...             2             2   \n",
       "hacapo                      0             0  ...             1             1   \n",
       "...                       ...           ...  ...           ...           ...   \n",
       "SQBhogar_nin                0             0  ...             4             4   \n",
       "SQBovercrowding          0.25      0.111111  ...            36            36   \n",
       "SQBdependency               0            64  ...          0.25          0.25   \n",
       "SQBmeaned                 196           100  ...       33.0625       33.0625   \n",
       "agesq                     484          4900  ...           576          3249   \n",
       "\n",
       "                        23848         23849         23850         23851  \\\n",
       "Id               ID_c2650e696  ID_64958963c  ID_ecdf63132  ID_a065a7cad   \n",
       "v2a1                      NaN           NaN           NaN           NaN   \n",
       "hacdor                      1             1             1             1   \n",
       "rooms                       2             2             2             2   \n",
       "hacapo                      1             1             1             1   \n",
       "...                       ...           ...           ...           ...   \n",
       "SQBhogar_nin                4             4             4             4   \n",
       "SQBovercrowding            36            36            36            36   \n",
       "SQBdependency            0.25          0.25          0.25          0.25   \n",
       "SQBmeaned             33.0625       33.0625       33.0625       33.0625   \n",
       "agesq                     324          2209           729           100   \n",
       "\n",
       "                        23852         23853         23854         23855  \n",
       "Id               ID_1a7c6953b  ID_07dbb4be2  ID_34d2ed046  ID_34754556f  \n",
       "v2a1                      NaN           NaN           NaN           NaN  \n",
       "hacdor                      0             0             0             0  \n",
       "rooms                       3             3             3             3  \n",
       "hacapo                      0             0             0             0  \n",
       "...                       ...           ...           ...           ...  \n",
       "SQBhogar_nin                4             4             4             4  \n",
       "SQBovercrowding             4             4             4             4  \n",
       "SQBdependency               1             1             1             1  \n",
       "SQBmeaned                  36            36            36            36  \n",
       "agesq                    2916           144           144          2601  \n",
       "\n",
       "[142 rows x 23856 columns]"
      ]
     },
     "execution_count": 585,
     "metadata": {},
     "output_type": "execute_result"
    }
   ],
   "source": [
    "test_csv = pd.read_csv('test.csv')\n",
    "test_csv.T"
   ]
  },
  {
   "cell_type": "code",
   "execution_count": 22,
   "metadata": {},
   "outputs": [
    {
     "name": "stdout",
     "output_type": "stream",
     "text": [
      "(23856, 142)\n"
     ]
    }
   ],
   "source": [
    "print(test_csv.shape)"
   ]
  },
  {
   "cell_type": "markdown",
   "metadata": {},
   "source": [
    "#### Q2: Identify, print, and explain the distribution of the target in both train and test datasets."
   ]
  },
  {
   "cell_type": "code",
   "execution_count": 6,
   "metadata": {
    "scrolled": true
   },
   "outputs": [
    {
     "name": "stdout",
     "output_type": "stream",
     "text": [
      "[755, 1597, 1209, 5996]\n"
     ]
    }
   ],
   "source": [
    "count_target = list()\n",
    "for i in range(4):\n",
    "    count_target.append(train_csv[train_csv['Target'] == i +1].shape[0])\n",
    "print(count_target)"
   ]
  },
  {
   "cell_type": "code",
   "execution_count": 7,
   "metadata": {},
   "outputs": [
    {
     "name": "stdout",
     "output_type": "stream",
     "text": [
      "755 1597 1209 5996\n"
     ]
    }
   ],
   "source": [
    "target_one, target_two, target_three, target_four = count_target\n",
    "print(target_one,target_two,target_three,target_four)"
   ]
  },
  {
   "cell_type": "code",
   "execution_count": 8,
   "metadata": {},
   "outputs": [
    {
     "data": {
      "image/png": "[encoded data removed]",
      "text/plain": [
       "<Figure size 1080x720 with 1 Axes>"
      ]
     },
     "metadata": {},
     "output_type": "display_data"
    }
   ],
   "source": [
    "plt.figure(figsize = (15,10))\n",
    "plt.pie([target_one, target_two, target_three, target_four], \n",
    "        explode=[0.1,0.1,0.05,0.05], # 간격 벌리는 값\n",
    "        labels=['one', 'two', 'three', 'four'],  \n",
    "        colors=['red', 'lightskyblue', 'yellowgreen', 'pink'], \n",
    "        autopct='%.2f%%',  # second decimal place\n",
    "        shadow=True, \n",
    "        startangle=90, # 보기 좋게 돌리기\n",
    "        textprops={'fontsize': 15}) # text font size\n",
    "\n",
    "plt.axis('equal') #  equal length of X and Y axis\n",
    "plt.title('Distribution of the target ', fontsize=25)\n",
    "\n",
    "plt.show()"
   ]
  },
  {
   "cell_type": "markdown",
   "metadata": {},
   "source": [
    "**Solution)** non-vulnerable households가 62.74%로 가장 많고, 그 다음이 16.71%로 moderate poverty, 12.65%로 vulnerable households, 7.90%로 extreme poverty 순서 인 것을 확인할 수 있었다."
   ]
  },
  {
   "cell_type": "markdown",
   "metadata": {},
   "source": [
    "#### Q3: Using the important features you selected in the previous section, determine the various distributions and statistics of those selected features. Determine if the results strengthen your selection."
   ]
  },
  {
   "cell_type": "code",
   "execution_count": 29,
   "metadata": {},
   "outputs": [
    {
     "data": {
      "text/plain": [
       "array(['21eb7fcc1', '0e5d7a658', '2c7317ea8', ..., 'a8eeafc29',\n",
       "       '212db6f6c', 'd6c086aa3'], dtype=object)"
      ]
     },
     "execution_count": 29,
     "metadata": {},
     "output_type": "execute_result"
    }
   ],
   "source": [
    "train_csv['idhogar'].unique()"
   ]
  },
  {
   "cell_type": "code",
   "execution_count": 43,
   "metadata": {},
   "outputs": [
    {
     "data": {
      "text/plain": [
       "(2988,)"
      ]
     },
     "execution_count": 43,
     "metadata": {},
     "output_type": "execute_result"
    }
   ],
   "source": [
    "train_csv['idhogar'].unique().shape   # 각 household의 수"
   ]
  },
  {
   "cell_type": "code",
   "execution_count": 44,
   "metadata": {},
   "outputs": [
    {
     "data": {
      "text/plain": [
       "2973"
      ]
     },
     "execution_count": 44,
     "metadata": {},
     "output_type": "execute_result"
    }
   ],
   "source": [
    "train_csv['parentesco1'].sum()  # household head의 수"
   ]
  },
  {
   "cell_type": "code",
   "execution_count": 45,
   "metadata": {},
   "outputs": [
    {
     "data": {
      "text/plain": [
       "0       1\n",
       "1       1\n",
       "2       1\n",
       "3       0\n",
       "4       0\n",
       "       ..\n",
       "9552    1\n",
       "9553    0\n",
       "9554    0\n",
       "9555    0\n",
       "9556    0\n",
       "Name: parentesco1, Length: 9557, dtype: int64"
      ]
     },
     "execution_count": 45,
     "metadata": {},
     "output_type": "execute_result"
    }
   ],
   "source": [
    "train_csv['parentesco1']"
   ]
  },
  {
   "cell_type": "code",
   "execution_count": 561,
   "metadata": {
    "scrolled": true
   },
   "outputs": [
    {
     "data": {
      "text/html": [
       "<div>\n",
       "<style scoped>\n",
       "    .dataframe tbody tr th:only-of-type {\n",
       "        vertical-align: middle;\n",
       "    }\n",
       "\n",
       "    .dataframe tbody tr th {\n",
       "        vertical-align: top;\n",
       "    }\n",
       "\n",
       "    .dataframe thead th {\n",
       "        text-align: right;\n",
       "    }\n",
       "</style>\n",
       "<table border=\"1\" class=\"dataframe\">\n",
       "  <thead>\n",
       "    <tr style=\"text-align: right;\">\n",
       "      <th></th>\n",
       "      <th>Id</th>\n",
       "      <th>v2a1</th>\n",
       "      <th>hacdor</th>\n",
       "      <th>rooms</th>\n",
       "      <th>hacapo</th>\n",
       "      <th>v14a</th>\n",
       "      <th>refrig</th>\n",
       "      <th>v18q</th>\n",
       "      <th>v18q1</th>\n",
       "      <th>r4h1</th>\n",
       "      <th>...</th>\n",
       "      <th>SQBescolari</th>\n",
       "      <th>SQBage</th>\n",
       "      <th>SQBhogar_total</th>\n",
       "      <th>SQBedjefe</th>\n",
       "      <th>SQBhogar_nin</th>\n",
       "      <th>SQBovercrowding</th>\n",
       "      <th>SQBdependency</th>\n",
       "      <th>SQBmeaned</th>\n",
       "      <th>agesq</th>\n",
       "      <th>Target</th>\n",
       "    </tr>\n",
       "  </thead>\n",
       "  <tbody>\n",
       "    <tr>\n",
       "      <th>0</th>\n",
       "      <td>ID_279628684</td>\n",
       "      <td>190000.0</td>\n",
       "      <td>0</td>\n",
       "      <td>3</td>\n",
       "      <td>0</td>\n",
       "      <td>1</td>\n",
       "      <td>1</td>\n",
       "      <td>0</td>\n",
       "      <td>NaN</td>\n",
       "      <td>0</td>\n",
       "      <td>...</td>\n",
       "      <td>100</td>\n",
       "      <td>1849</td>\n",
       "      <td>1</td>\n",
       "      <td>100</td>\n",
       "      <td>0</td>\n",
       "      <td>1.000000</td>\n",
       "      <td>0.000000</td>\n",
       "      <td>100.0000</td>\n",
       "      <td>1849</td>\n",
       "      <td>4</td>\n",
       "    </tr>\n",
       "    <tr>\n",
       "      <th>1</th>\n",
       "      <td>ID_f29eb3ddd</td>\n",
       "      <td>135000.0</td>\n",
       "      <td>0</td>\n",
       "      <td>4</td>\n",
       "      <td>0</td>\n",
       "      <td>1</td>\n",
       "      <td>1</td>\n",
       "      <td>1</td>\n",
       "      <td>1.0</td>\n",
       "      <td>0</td>\n",
       "      <td>...</td>\n",
       "      <td>144</td>\n",
       "      <td>4489</td>\n",
       "      <td>1</td>\n",
       "      <td>144</td>\n",
       "      <td>0</td>\n",
       "      <td>1.000000</td>\n",
       "      <td>64.000000</td>\n",
       "      <td>144.0000</td>\n",
       "      <td>4489</td>\n",
       "      <td>4</td>\n",
       "    </tr>\n",
       "    <tr>\n",
       "      <th>2</th>\n",
       "      <td>ID_68de51c94</td>\n",
       "      <td>NaN</td>\n",
       "      <td>0</td>\n",
       "      <td>8</td>\n",
       "      <td>0</td>\n",
       "      <td>1</td>\n",
       "      <td>1</td>\n",
       "      <td>0</td>\n",
       "      <td>NaN</td>\n",
       "      <td>0</td>\n",
       "      <td>...</td>\n",
       "      <td>121</td>\n",
       "      <td>8464</td>\n",
       "      <td>1</td>\n",
       "      <td>0</td>\n",
       "      <td>0</td>\n",
       "      <td>0.250000</td>\n",
       "      <td>64.000000</td>\n",
       "      <td>121.0000</td>\n",
       "      <td>8464</td>\n",
       "      <td>4</td>\n",
       "    </tr>\n",
       "    <tr>\n",
       "      <th>5</th>\n",
       "      <td>ID_ec05b1a7b</td>\n",
       "      <td>180000.0</td>\n",
       "      <td>0</td>\n",
       "      <td>5</td>\n",
       "      <td>0</td>\n",
       "      <td>1</td>\n",
       "      <td>1</td>\n",
       "      <td>1</td>\n",
       "      <td>1.0</td>\n",
       "      <td>0</td>\n",
       "      <td>...</td>\n",
       "      <td>121</td>\n",
       "      <td>1444</td>\n",
       "      <td>16</td>\n",
       "      <td>121</td>\n",
       "      <td>4</td>\n",
       "      <td>1.777778</td>\n",
       "      <td>1.000000</td>\n",
       "      <td>121.0000</td>\n",
       "      <td>1444</td>\n",
       "      <td>4</td>\n",
       "    </tr>\n",
       "    <tr>\n",
       "      <th>8</th>\n",
       "      <td>ID_1284f8aad</td>\n",
       "      <td>130000.0</td>\n",
       "      <td>1</td>\n",
       "      <td>2</td>\n",
       "      <td>0</td>\n",
       "      <td>1</td>\n",
       "      <td>1</td>\n",
       "      <td>0</td>\n",
       "      <td>NaN</td>\n",
       "      <td>0</td>\n",
       "      <td>...</td>\n",
       "      <td>81</td>\n",
       "      <td>900</td>\n",
       "      <td>16</td>\n",
       "      <td>81</td>\n",
       "      <td>4</td>\n",
       "      <td>16.000000</td>\n",
       "      <td>1.000000</td>\n",
       "      <td>100.0000</td>\n",
       "      <td>900</td>\n",
       "      <td>4</td>\n",
       "    </tr>\n",
       "    <tr>\n",
       "      <th>...</th>\n",
       "      <td>...</td>\n",
       "      <td>...</td>\n",
       "      <td>...</td>\n",
       "      <td>...</td>\n",
       "      <td>...</td>\n",
       "      <td>...</td>\n",
       "      <td>...</td>\n",
       "      <td>...</td>\n",
       "      <td>...</td>\n",
       "      <td>...</td>\n",
       "      <td>...</td>\n",
       "      <td>...</td>\n",
       "      <td>...</td>\n",
       "      <td>...</td>\n",
       "      <td>...</td>\n",
       "      <td>...</td>\n",
       "      <td>...</td>\n",
       "      <td>...</td>\n",
       "      <td>...</td>\n",
       "      <td>...</td>\n",
       "      <td>...</td>\n",
       "    </tr>\n",
       "    <tr>\n",
       "      <th>9535</th>\n",
       "      <td>ID_18b0a845b</td>\n",
       "      <td>NaN</td>\n",
       "      <td>0</td>\n",
       "      <td>4</td>\n",
       "      <td>0</td>\n",
       "      <td>1</td>\n",
       "      <td>0</td>\n",
       "      <td>0</td>\n",
       "      <td>NaN</td>\n",
       "      <td>1</td>\n",
       "      <td>...</td>\n",
       "      <td>25</td>\n",
       "      <td>676</td>\n",
       "      <td>25</td>\n",
       "      <td>0</td>\n",
       "      <td>9</td>\n",
       "      <td>6.250000</td>\n",
       "      <td>2.250000</td>\n",
       "      <td>20.2500</td>\n",
       "      <td>676</td>\n",
       "      <td>1</td>\n",
       "    </tr>\n",
       "    <tr>\n",
       "      <th>9541</th>\n",
       "      <td>ID_a31274054</td>\n",
       "      <td>NaN</td>\n",
       "      <td>0</td>\n",
       "      <td>3</td>\n",
       "      <td>0</td>\n",
       "      <td>0</td>\n",
       "      <td>0</td>\n",
       "      <td>0</td>\n",
       "      <td>NaN</td>\n",
       "      <td>2</td>\n",
       "      <td>...</td>\n",
       "      <td>4</td>\n",
       "      <td>1600</td>\n",
       "      <td>25</td>\n",
       "      <td>4</td>\n",
       "      <td>9</td>\n",
       "      <td>6.250000</td>\n",
       "      <td>2.250000</td>\n",
       "      <td>16.0000</td>\n",
       "      <td>1600</td>\n",
       "      <td>2</td>\n",
       "    </tr>\n",
       "    <tr>\n",
       "      <th>9545</th>\n",
       "      <td>ID_32a00a8bf</td>\n",
       "      <td>46500.0</td>\n",
       "      <td>0</td>\n",
       "      <td>5</td>\n",
       "      <td>0</td>\n",
       "      <td>1</td>\n",
       "      <td>1</td>\n",
       "      <td>0</td>\n",
       "      <td>NaN</td>\n",
       "      <td>1</td>\n",
       "      <td>...</td>\n",
       "      <td>4</td>\n",
       "      <td>2025</td>\n",
       "      <td>25</td>\n",
       "      <td>4</td>\n",
       "      <td>4</td>\n",
       "      <td>5.444444</td>\n",
       "      <td>0.444444</td>\n",
       "      <td>100.0000</td>\n",
       "      <td>2025</td>\n",
       "      <td>4</td>\n",
       "    </tr>\n",
       "    <tr>\n",
       "      <th>9551</th>\n",
       "      <td>ID_79d39dddc</td>\n",
       "      <td>NaN</td>\n",
       "      <td>0</td>\n",
       "      <td>3</td>\n",
       "      <td>0</td>\n",
       "      <td>1</td>\n",
       "      <td>1</td>\n",
       "      <td>0</td>\n",
       "      <td>NaN</td>\n",
       "      <td>0</td>\n",
       "      <td>...</td>\n",
       "      <td>0</td>\n",
       "      <td>4489</td>\n",
       "      <td>4</td>\n",
       "      <td>0</td>\n",
       "      <td>0</td>\n",
       "      <td>4.000000</td>\n",
       "      <td>1.000000</td>\n",
       "      <td>9.0000</td>\n",
       "      <td>4489</td>\n",
       "      <td>2</td>\n",
       "    </tr>\n",
       "    <tr>\n",
       "      <th>9552</th>\n",
       "      <td>ID_d45ae367d</td>\n",
       "      <td>80000.0</td>\n",
       "      <td>0</td>\n",
       "      <td>6</td>\n",
       "      <td>0</td>\n",
       "      <td>1</td>\n",
       "      <td>1</td>\n",
       "      <td>0</td>\n",
       "      <td>NaN</td>\n",
       "      <td>0</td>\n",
       "      <td>...</td>\n",
       "      <td>81</td>\n",
       "      <td>2116</td>\n",
       "      <td>25</td>\n",
       "      <td>81</td>\n",
       "      <td>1</td>\n",
       "      <td>1.562500</td>\n",
       "      <td>0.062500</td>\n",
       "      <td>68.0625</td>\n",
       "      <td>2116</td>\n",
       "      <td>2</td>\n",
       "    </tr>\n",
       "  </tbody>\n",
       "</table>\n",
       "<p>2973 rows × 143 columns</p>\n",
       "</div>"
      ],
      "text/plain": [
       "                Id      v2a1  hacdor  rooms  hacapo  v14a  refrig  v18q  \\\n",
       "0     ID_279628684  190000.0       0      3       0     1       1     0   \n",
       "1     ID_f29eb3ddd  135000.0       0      4       0     1       1     1   \n",
       "2     ID_68de51c94       NaN       0      8       0     1       1     0   \n",
       "5     ID_ec05b1a7b  180000.0       0      5       0     1       1     1   \n",
       "8     ID_1284f8aad  130000.0       1      2       0     1       1     0   \n",
       "...            ...       ...     ...    ...     ...   ...     ...   ...   \n",
       "9535  ID_18b0a845b       NaN       0      4       0     1       0     0   \n",
       "9541  ID_a31274054       NaN       0      3       0     0       0     0   \n",
       "9545  ID_32a00a8bf   46500.0       0      5       0     1       1     0   \n",
       "9551  ID_79d39dddc       NaN       0      3       0     1       1     0   \n",
       "9552  ID_d45ae367d   80000.0       0      6       0     1       1     0   \n",
       "\n",
       "      v18q1  r4h1  ...  SQBescolari  SQBage  SQBhogar_total  SQBedjefe  \\\n",
       "0       NaN     0  ...          100    1849               1        100   \n",
       "1       1.0     0  ...          144    4489               1        144   \n",
       "2       NaN     0  ...          121    8464               1          0   \n",
       "5       1.0     0  ...          121    1444              16        121   \n",
       "8       NaN     0  ...           81     900              16         81   \n",
       "...     ...   ...  ...          ...     ...             ...        ...   \n",
       "9535    NaN     1  ...           25     676              25          0   \n",
       "9541    NaN     2  ...            4    1600              25          4   \n",
       "9545    NaN     1  ...            4    2025              25          4   \n",
       "9551    NaN     0  ...            0    4489               4          0   \n",
       "9552    NaN     0  ...           81    2116              25         81   \n",
       "\n",
       "      SQBhogar_nin  SQBovercrowding  SQBdependency  SQBmeaned  agesq  Target  \n",
       "0                0         1.000000       0.000000   100.0000   1849       4  \n",
       "1                0         1.000000      64.000000   144.0000   4489       4  \n",
       "2                0         0.250000      64.000000   121.0000   8464       4  \n",
       "5                4         1.777778       1.000000   121.0000   1444       4  \n",
       "8                4        16.000000       1.000000   100.0000    900       4  \n",
       "...            ...              ...            ...        ...    ...     ...  \n",
       "9535             9         6.250000       2.250000    20.2500    676       1  \n",
       "9541             9         6.250000       2.250000    16.0000   1600       2  \n",
       "9545             4         5.444444       0.444444   100.0000   2025       4  \n",
       "9551             0         4.000000       1.000000     9.0000   4489       2  \n",
       "9552             1         1.562500       0.062500    68.0625   2116       2  \n",
       "\n",
       "[2973 rows x 143 columns]"
      ]
     },
     "execution_count": 561,
     "metadata": {},
     "output_type": "execute_result"
    }
   ],
   "source": [
    "train_csv = train_csv[train_csv['parentesco1'] == 1]\n",
    "train_csv"
   ]
  },
  {
   "cell_type": "code",
   "execution_count": 586,
   "metadata": {},
   "outputs": [
    {
     "data": {
      "text/html": [
       "<div>\n",
       "<style scoped>\n",
       "    .dataframe tbody tr th:only-of-type {\n",
       "        vertical-align: middle;\n",
       "    }\n",
       "\n",
       "    .dataframe tbody tr th {\n",
       "        vertical-align: top;\n",
       "    }\n",
       "\n",
       "    .dataframe thead th {\n",
       "        text-align: right;\n",
       "    }\n",
       "</style>\n",
       "<table border=\"1\" class=\"dataframe\">\n",
       "  <thead>\n",
       "    <tr style=\"text-align: right;\">\n",
       "      <th></th>\n",
       "      <th>Id</th>\n",
       "      <th>v2a1</th>\n",
       "      <th>hacdor</th>\n",
       "      <th>rooms</th>\n",
       "      <th>hacapo</th>\n",
       "      <th>v14a</th>\n",
       "      <th>refrig</th>\n",
       "      <th>v18q</th>\n",
       "      <th>v18q1</th>\n",
       "      <th>r4h1</th>\n",
       "      <th>...</th>\n",
       "      <th>age</th>\n",
       "      <th>SQBescolari</th>\n",
       "      <th>SQBage</th>\n",
       "      <th>SQBhogar_total</th>\n",
       "      <th>SQBedjefe</th>\n",
       "      <th>SQBhogar_nin</th>\n",
       "      <th>SQBovercrowding</th>\n",
       "      <th>SQBdependency</th>\n",
       "      <th>SQBmeaned</th>\n",
       "      <th>agesq</th>\n",
       "    </tr>\n",
       "  </thead>\n",
       "  <tbody>\n",
       "    <tr>\n",
       "      <th>2</th>\n",
       "      <td>ID_e5442cf6a</td>\n",
       "      <td>NaN</td>\n",
       "      <td>0</td>\n",
       "      <td>5</td>\n",
       "      <td>0</td>\n",
       "      <td>1</td>\n",
       "      <td>1</td>\n",
       "      <td>0</td>\n",
       "      <td>NaN</td>\n",
       "      <td>1</td>\n",
       "      <td>...</td>\n",
       "      <td>41</td>\n",
       "      <td>289</td>\n",
       "      <td>1681</td>\n",
       "      <td>9</td>\n",
       "      <td>0</td>\n",
       "      <td>1</td>\n",
       "      <td>2.25</td>\n",
       "      <td>0.25</td>\n",
       "      <td>272.2500</td>\n",
       "      <td>1681</td>\n",
       "    </tr>\n",
       "    <tr>\n",
       "      <th>3</th>\n",
       "      <td>ID_a8db26a79</td>\n",
       "      <td>NaN</td>\n",
       "      <td>0</td>\n",
       "      <td>14</td>\n",
       "      <td>0</td>\n",
       "      <td>1</td>\n",
       "      <td>1</td>\n",
       "      <td>1</td>\n",
       "      <td>1.0</td>\n",
       "      <td>0</td>\n",
       "      <td>...</td>\n",
       "      <td>59</td>\n",
       "      <td>256</td>\n",
       "      <td>3481</td>\n",
       "      <td>1</td>\n",
       "      <td>256</td>\n",
       "      <td>0</td>\n",
       "      <td>1.00</td>\n",
       "      <td>0.00</td>\n",
       "      <td>256.0000</td>\n",
       "      <td>3481</td>\n",
       "    </tr>\n",
       "    <tr>\n",
       "      <th>4</th>\n",
       "      <td>ID_a62966799</td>\n",
       "      <td>175000.0</td>\n",
       "      <td>0</td>\n",
       "      <td>4</td>\n",
       "      <td>0</td>\n",
       "      <td>1</td>\n",
       "      <td>1</td>\n",
       "      <td>1</td>\n",
       "      <td>1.0</td>\n",
       "      <td>0</td>\n",
       "      <td>...</td>\n",
       "      <td>18</td>\n",
       "      <td>121</td>\n",
       "      <td>324</td>\n",
       "      <td>1</td>\n",
       "      <td>0</td>\n",
       "      <td>1</td>\n",
       "      <td>0.25</td>\n",
       "      <td>64.00</td>\n",
       "      <td>NaN</td>\n",
       "      <td>324</td>\n",
       "    </tr>\n",
       "    <tr>\n",
       "      <th>6</th>\n",
       "      <td>ID_3c5f4bd51</td>\n",
       "      <td>400000.0</td>\n",
       "      <td>0</td>\n",
       "      <td>3</td>\n",
       "      <td>0</td>\n",
       "      <td>1</td>\n",
       "      <td>1</td>\n",
       "      <td>1</td>\n",
       "      <td>1.0</td>\n",
       "      <td>0</td>\n",
       "      <td>...</td>\n",
       "      <td>42</td>\n",
       "      <td>121</td>\n",
       "      <td>1764</td>\n",
       "      <td>4</td>\n",
       "      <td>0</td>\n",
       "      <td>0</td>\n",
       "      <td>1.00</td>\n",
       "      <td>0.00</td>\n",
       "      <td>182.2500</td>\n",
       "      <td>1764</td>\n",
       "    </tr>\n",
       "    <tr>\n",
       "      <th>8</th>\n",
       "      <td>ID_472fa82da</td>\n",
       "      <td>300000.0</td>\n",
       "      <td>0</td>\n",
       "      <td>6</td>\n",
       "      <td>0</td>\n",
       "      <td>1</td>\n",
       "      <td>1</td>\n",
       "      <td>1</td>\n",
       "      <td>1.0</td>\n",
       "      <td>0</td>\n",
       "      <td>...</td>\n",
       "      <td>22</td>\n",
       "      <td>196</td>\n",
       "      <td>484</td>\n",
       "      <td>4</td>\n",
       "      <td>0</td>\n",
       "      <td>0</td>\n",
       "      <td>0.25</td>\n",
       "      <td>0.00</td>\n",
       "      <td>196.0000</td>\n",
       "      <td>484</td>\n",
       "    </tr>\n",
       "    <tr>\n",
       "      <th>...</th>\n",
       "      <td>...</td>\n",
       "      <td>...</td>\n",
       "      <td>...</td>\n",
       "      <td>...</td>\n",
       "      <td>...</td>\n",
       "      <td>...</td>\n",
       "      <td>...</td>\n",
       "      <td>...</td>\n",
       "      <td>...</td>\n",
       "      <td>...</td>\n",
       "      <td>...</td>\n",
       "      <td>...</td>\n",
       "      <td>...</td>\n",
       "      <td>...</td>\n",
       "      <td>...</td>\n",
       "      <td>...</td>\n",
       "      <td>...</td>\n",
       "      <td>...</td>\n",
       "      <td>...</td>\n",
       "      <td>...</td>\n",
       "      <td>...</td>\n",
       "    </tr>\n",
       "    <tr>\n",
       "      <th>23836</th>\n",
       "      <td>ID_265b917e8</td>\n",
       "      <td>NaN</td>\n",
       "      <td>0</td>\n",
       "      <td>4</td>\n",
       "      <td>0</td>\n",
       "      <td>0</td>\n",
       "      <td>0</td>\n",
       "      <td>0</td>\n",
       "      <td>NaN</td>\n",
       "      <td>1</td>\n",
       "      <td>...</td>\n",
       "      <td>68</td>\n",
       "      <td>9</td>\n",
       "      <td>4624</td>\n",
       "      <td>4</td>\n",
       "      <td>0</td>\n",
       "      <td>1</td>\n",
       "      <td>1.00</td>\n",
       "      <td>64.00</td>\n",
       "      <td>9.0000</td>\n",
       "      <td>4624</td>\n",
       "    </tr>\n",
       "    <tr>\n",
       "      <th>23841</th>\n",
       "      <td>ID_19c0b1480</td>\n",
       "      <td>NaN</td>\n",
       "      <td>0</td>\n",
       "      <td>4</td>\n",
       "      <td>0</td>\n",
       "      <td>1</td>\n",
       "      <td>1</td>\n",
       "      <td>0</td>\n",
       "      <td>NaN</td>\n",
       "      <td>1</td>\n",
       "      <td>...</td>\n",
       "      <td>42</td>\n",
       "      <td>16</td>\n",
       "      <td>1764</td>\n",
       "      <td>36</td>\n",
       "      <td>16</td>\n",
       "      <td>16</td>\n",
       "      <td>9.00</td>\n",
       "      <td>4.00</td>\n",
       "      <td>25.0000</td>\n",
       "      <td>1764</td>\n",
       "    </tr>\n",
       "    <tr>\n",
       "      <th>23843</th>\n",
       "      <td>ID_aa256c594</td>\n",
       "      <td>NaN</td>\n",
       "      <td>0</td>\n",
       "      <td>5</td>\n",
       "      <td>0</td>\n",
       "      <td>1</td>\n",
       "      <td>1</td>\n",
       "      <td>0</td>\n",
       "      <td>NaN</td>\n",
       "      <td>0</td>\n",
       "      <td>...</td>\n",
       "      <td>47</td>\n",
       "      <td>0</td>\n",
       "      <td>2209</td>\n",
       "      <td>9</td>\n",
       "      <td>0</td>\n",
       "      <td>1</td>\n",
       "      <td>1.00</td>\n",
       "      <td>0.25</td>\n",
       "      <td>30.2500</td>\n",
       "      <td>2209</td>\n",
       "    </tr>\n",
       "    <tr>\n",
       "      <th>23847</th>\n",
       "      <td>ID_4b7feead3</td>\n",
       "      <td>NaN</td>\n",
       "      <td>1</td>\n",
       "      <td>2</td>\n",
       "      <td>1</td>\n",
       "      <td>1</td>\n",
       "      <td>1</td>\n",
       "      <td>0</td>\n",
       "      <td>NaN</td>\n",
       "      <td>0</td>\n",
       "      <td>...</td>\n",
       "      <td>57</td>\n",
       "      <td>25</td>\n",
       "      <td>3249</td>\n",
       "      <td>36</td>\n",
       "      <td>25</td>\n",
       "      <td>4</td>\n",
       "      <td>36.00</td>\n",
       "      <td>0.25</td>\n",
       "      <td>33.0625</td>\n",
       "      <td>3249</td>\n",
       "    </tr>\n",
       "    <tr>\n",
       "      <th>23852</th>\n",
       "      <td>ID_1a7c6953b</td>\n",
       "      <td>NaN</td>\n",
       "      <td>0</td>\n",
       "      <td>3</td>\n",
       "      <td>0</td>\n",
       "      <td>1</td>\n",
       "      <td>1</td>\n",
       "      <td>0</td>\n",
       "      <td>NaN</td>\n",
       "      <td>0</td>\n",
       "      <td>...</td>\n",
       "      <td>54</td>\n",
       "      <td>36</td>\n",
       "      <td>2916</td>\n",
       "      <td>16</td>\n",
       "      <td>36</td>\n",
       "      <td>4</td>\n",
       "      <td>4.00</td>\n",
       "      <td>1.00</td>\n",
       "      <td>36.0000</td>\n",
       "      <td>2916</td>\n",
       "    </tr>\n",
       "  </tbody>\n",
       "</table>\n",
       "<p>7334 rows × 142 columns</p>\n",
       "</div>"
      ],
      "text/plain": [
       "                 Id      v2a1  hacdor  rooms  hacapo  v14a  refrig  v18q  \\\n",
       "2      ID_e5442cf6a       NaN       0      5       0     1       1     0   \n",
       "3      ID_a8db26a79       NaN       0     14       0     1       1     1   \n",
       "4      ID_a62966799  175000.0       0      4       0     1       1     1   \n",
       "6      ID_3c5f4bd51  400000.0       0      3       0     1       1     1   \n",
       "8      ID_472fa82da  300000.0       0      6       0     1       1     1   \n",
       "...             ...       ...     ...    ...     ...   ...     ...   ...   \n",
       "23836  ID_265b917e8       NaN       0      4       0     0       0     0   \n",
       "23841  ID_19c0b1480       NaN       0      4       0     1       1     0   \n",
       "23843  ID_aa256c594       NaN       0      5       0     1       1     0   \n",
       "23847  ID_4b7feead3       NaN       1      2       1     1       1     0   \n",
       "23852  ID_1a7c6953b       NaN       0      3       0     1       1     0   \n",
       "\n",
       "       v18q1  r4h1  ...  age  SQBescolari  SQBage  SQBhogar_total  SQBedjefe  \\\n",
       "2        NaN     1  ...   41          289    1681               9          0   \n",
       "3        1.0     0  ...   59          256    3481               1        256   \n",
       "4        1.0     0  ...   18          121     324               1          0   \n",
       "6        1.0     0  ...   42          121    1764               4          0   \n",
       "8        1.0     0  ...   22          196     484               4          0   \n",
       "...      ...   ...  ...  ...          ...     ...             ...        ...   \n",
       "23836    NaN     1  ...   68            9    4624               4          0   \n",
       "23841    NaN     1  ...   42           16    1764              36         16   \n",
       "23843    NaN     0  ...   47            0    2209               9          0   \n",
       "23847    NaN     0  ...   57           25    3249              36         25   \n",
       "23852    NaN     0  ...   54           36    2916              16         36   \n",
       "\n",
       "       SQBhogar_nin  SQBovercrowding  SQBdependency  SQBmeaned  agesq  \n",
       "2                 1             2.25           0.25   272.2500   1681  \n",
       "3                 0             1.00           0.00   256.0000   3481  \n",
       "4                 1             0.25          64.00        NaN    324  \n",
       "6                 0             1.00           0.00   182.2500   1764  \n",
       "8                 0             0.25           0.00   196.0000    484  \n",
       "...             ...              ...            ...        ...    ...  \n",
       "23836             1             1.00          64.00     9.0000   4624  \n",
       "23841            16             9.00           4.00    25.0000   1764  \n",
       "23843             1             1.00           0.25    30.2500   2209  \n",
       "23847             4            36.00           0.25    33.0625   3249  \n",
       "23852             4             4.00           1.00    36.0000   2916  \n",
       "\n",
       "[7334 rows x 142 columns]"
      ]
     },
     "execution_count": 586,
     "metadata": {},
     "output_type": "execute_result"
    }
   ],
   "source": [
    "test_csv = test_csv[test_csv['parentesco1'] == 1]\n",
    "test_csv"
   ]
  },
  {
   "cell_type": "markdown",
   "metadata": {},
   "source": [
    "#### Q4: Create a correlation matrix and determine which features are most correlated with the target. Explain and discuss the findings."
   ]
  },
  {
   "cell_type": "code",
   "execution_count": 47,
   "metadata": {},
   "outputs": [
    {
     "data": {
      "text/html": [
       "<div>\n",
       "<style scoped>\n",
       "    .dataframe tbody tr th:only-of-type {\n",
       "        vertical-align: middle;\n",
       "    }\n",
       "\n",
       "    .dataframe tbody tr th {\n",
       "        vertical-align: top;\n",
       "    }\n",
       "\n",
       "    .dataframe thead th {\n",
       "        text-align: right;\n",
       "    }\n",
       "</style>\n",
       "<table border=\"1\" class=\"dataframe\">\n",
       "  <thead>\n",
       "    <tr style=\"text-align: right;\">\n",
       "      <th></th>\n",
       "      <th>v2a1</th>\n",
       "      <th>hacdor</th>\n",
       "      <th>rooms</th>\n",
       "      <th>hacapo</th>\n",
       "      <th>v14a</th>\n",
       "      <th>refrig</th>\n",
       "      <th>v18q</th>\n",
       "      <th>v18q1</th>\n",
       "      <th>r4h1</th>\n",
       "      <th>r4h2</th>\n",
       "      <th>...</th>\n",
       "      <th>SQBescolari</th>\n",
       "      <th>SQBage</th>\n",
       "      <th>SQBhogar_total</th>\n",
       "      <th>SQBedjefe</th>\n",
       "      <th>SQBhogar_nin</th>\n",
       "      <th>SQBovercrowding</th>\n",
       "      <th>SQBdependency</th>\n",
       "      <th>SQBmeaned</th>\n",
       "      <th>agesq</th>\n",
       "      <th>Target</th>\n",
       "    </tr>\n",
       "  </thead>\n",
       "  <tbody>\n",
       "    <tr>\n",
       "      <th>v2a1</th>\n",
       "      <td>1.000000</td>\n",
       "      <td>-0.077309</td>\n",
       "      <td>0.427115</td>\n",
       "      <td>-0.057284</td>\n",
       "      <td>0.041299</td>\n",
       "      <td>0.103009</td>\n",
       "      <td>0.290376</td>\n",
       "      <td>0.285230</td>\n",
       "      <td>-0.069219</td>\n",
       "      <td>-0.000713</td>\n",
       "      <td>...</td>\n",
       "      <td>0.453701</td>\n",
       "      <td>0.029998</td>\n",
       "      <td>-0.047246</td>\n",
       "      <td>0.313209</td>\n",
       "      <td>-0.068319</td>\n",
       "      <td>-0.172610</td>\n",
       "      <td>-0.070604</td>\n",
       "      <td>0.387446</td>\n",
       "      <td>0.029998</td>\n",
       "      <td>0.259938</td>\n",
       "    </tr>\n",
       "    <tr>\n",
       "      <th>hacdor</th>\n",
       "      <td>-0.077309</td>\n",
       "      <td>1.000000</td>\n",
       "      <td>-0.181283</td>\n",
       "      <td>0.624324</td>\n",
       "      <td>-0.143713</td>\n",
       "      <td>-0.055073</td>\n",
       "      <td>-0.061309</td>\n",
       "      <td>-0.034382</td>\n",
       "      <td>0.186709</td>\n",
       "      <td>0.057368</td>\n",
       "      <td>...</td>\n",
       "      <td>-0.076154</td>\n",
       "      <td>-0.085488</td>\n",
       "      <td>0.280551</td>\n",
       "      <td>-0.054885</td>\n",
       "      <td>0.319831</td>\n",
       "      <td>0.753025</td>\n",
       "      <td>-0.022293</td>\n",
       "      <td>-0.066216</td>\n",
       "      <td>-0.085488</td>\n",
       "      <td>-0.136275</td>\n",
       "    </tr>\n",
       "    <tr>\n",
       "      <th>rooms</th>\n",
       "      <td>0.427115</td>\n",
       "      <td>-0.181283</td>\n",
       "      <td>1.000000</td>\n",
       "      <td>-0.172382</td>\n",
       "      <td>0.136410</td>\n",
       "      <td>0.158394</td>\n",
       "      <td>0.263738</td>\n",
       "      <td>0.178210</td>\n",
       "      <td>-0.039824</td>\n",
       "      <td>0.232702</td>\n",
       "      <td>...</td>\n",
       "      <td>0.251365</td>\n",
       "      <td>0.165341</td>\n",
       "      <td>0.212291</td>\n",
       "      <td>0.191689</td>\n",
       "      <td>0.026839</td>\n",
       "      <td>-0.304343</td>\n",
       "      <td>-0.016747</td>\n",
       "      <td>0.245894</td>\n",
       "      <td>0.165341</td>\n",
       "      <td>0.201019</td>\n",
       "    </tr>\n",
       "    <tr>\n",
       "      <th>hacapo</th>\n",
       "      <td>-0.057284</td>\n",
       "      <td>0.624324</td>\n",
       "      <td>-0.172382</td>\n",
       "      <td>1.000000</td>\n",
       "      <td>-0.154749</td>\n",
       "      <td>-0.062110</td>\n",
       "      <td>-0.051432</td>\n",
       "      <td>-0.019820</td>\n",
       "      <td>0.174432</td>\n",
       "      <td>0.088729</td>\n",
       "      <td>...</td>\n",
       "      <td>-0.071311</td>\n",
       "      <td>-0.050785</td>\n",
       "      <td>0.280245</td>\n",
       "      <td>-0.044957</td>\n",
       "      <td>0.285321</td>\n",
       "      <td>0.590724</td>\n",
       "      <td>-0.015812</td>\n",
       "      <td>-0.068848</td>\n",
       "      <td>-0.050785</td>\n",
       "      <td>-0.096313</td>\n",
       "    </tr>\n",
       "    <tr>\n",
       "      <th>v14a</th>\n",
       "      <td>0.041299</td>\n",
       "      <td>-0.143713</td>\n",
       "      <td>0.136410</td>\n",
       "      <td>-0.154749</td>\n",
       "      <td>1.000000</td>\n",
       "      <td>0.192954</td>\n",
       "      <td>0.029549</td>\n",
       "      <td>0.019820</td>\n",
       "      <td>-0.036434</td>\n",
       "      <td>0.019440</td>\n",
       "      <td>...</td>\n",
       "      <td>0.035839</td>\n",
       "      <td>0.027521</td>\n",
       "      <td>0.014963</td>\n",
       "      <td>0.023389</td>\n",
       "      <td>-0.007836</td>\n",
       "      <td>-0.117487</td>\n",
       "      <td>0.006917</td>\n",
       "      <td>0.036291</td>\n",
       "      <td>0.027521</td>\n",
       "      <td>0.068230</td>\n",
       "    </tr>\n",
       "    <tr>\n",
       "      <th>...</th>\n",
       "      <td>...</td>\n",
       "      <td>...</td>\n",
       "      <td>...</td>\n",
       "      <td>...</td>\n",
       "      <td>...</td>\n",
       "      <td>...</td>\n",
       "      <td>...</td>\n",
       "      <td>...</td>\n",
       "      <td>...</td>\n",
       "      <td>...</td>\n",
       "      <td>...</td>\n",
       "      <td>...</td>\n",
       "      <td>...</td>\n",
       "      <td>...</td>\n",
       "      <td>...</td>\n",
       "      <td>...</td>\n",
       "      <td>...</td>\n",
       "      <td>...</td>\n",
       "      <td>...</td>\n",
       "      <td>...</td>\n",
       "      <td>...</td>\n",
       "    </tr>\n",
       "    <tr>\n",
       "      <th>SQBovercrowding</th>\n",
       "      <td>-0.172610</td>\n",
       "      <td>0.753025</td>\n",
       "      <td>-0.304343</td>\n",
       "      <td>0.590724</td>\n",
       "      <td>-0.117487</td>\n",
       "      <td>-0.060838</td>\n",
       "      <td>-0.087555</td>\n",
       "      <td>-0.017761</td>\n",
       "      <td>0.357841</td>\n",
       "      <td>0.175853</td>\n",
       "      <td>...</td>\n",
       "      <td>-0.149782</td>\n",
       "      <td>-0.208472</td>\n",
       "      <td>0.476532</td>\n",
       "      <td>-0.072770</td>\n",
       "      <td>0.468558</td>\n",
       "      <td>1.000000</td>\n",
       "      <td>-0.115918</td>\n",
       "      <td>-0.114123</td>\n",
       "      <td>-0.208472</td>\n",
       "      <td>-0.219318</td>\n",
       "    </tr>\n",
       "    <tr>\n",
       "      <th>SQBdependency</th>\n",
       "      <td>-0.070604</td>\n",
       "      <td>-0.022293</td>\n",
       "      <td>-0.016747</td>\n",
       "      <td>-0.015812</td>\n",
       "      <td>0.006917</td>\n",
       "      <td>-0.019616</td>\n",
       "      <td>-0.087584</td>\n",
       "      <td>-0.036037</td>\n",
       "      <td>-0.101348</td>\n",
       "      <td>-0.203032</td>\n",
       "      <td>...</td>\n",
       "      <td>-0.069007</td>\n",
       "      <td>0.488207</td>\n",
       "      <td>-0.190491</td>\n",
       "      <td>-0.045370</td>\n",
       "      <td>-0.055355</td>\n",
       "      <td>-0.115918</td>\n",
       "      <td>1.000000</td>\n",
       "      <td>-0.103141</td>\n",
       "      <td>0.488207</td>\n",
       "      <td>-0.054421</td>\n",
       "    </tr>\n",
       "    <tr>\n",
       "      <th>SQBmeaned</th>\n",
       "      <td>0.387446</td>\n",
       "      <td>-0.066216</td>\n",
       "      <td>0.245894</td>\n",
       "      <td>-0.068848</td>\n",
       "      <td>0.036291</td>\n",
       "      <td>0.112194</td>\n",
       "      <td>0.307390</td>\n",
       "      <td>0.119863</td>\n",
       "      <td>-0.041862</td>\n",
       "      <td>-0.047251</td>\n",
       "      <td>...</td>\n",
       "      <td>0.730339</td>\n",
       "      <td>-0.172289</td>\n",
       "      <td>-0.024393</td>\n",
       "      <td>0.448386</td>\n",
       "      <td>0.025293</td>\n",
       "      <td>-0.114123</td>\n",
       "      <td>-0.103141</td>\n",
       "      <td>1.000000</td>\n",
       "      <td>-0.172289</td>\n",
       "      <td>0.276251</td>\n",
       "    </tr>\n",
       "    <tr>\n",
       "      <th>agesq</th>\n",
       "      <td>0.029998</td>\n",
       "      <td>-0.085488</td>\n",
       "      <td>0.165341</td>\n",
       "      <td>-0.050785</td>\n",
       "      <td>0.027521</td>\n",
       "      <td>0.023903</td>\n",
       "      <td>-0.092440</td>\n",
       "      <td>-0.032834</td>\n",
       "      <td>-0.279595</td>\n",
       "      <td>0.013032</td>\n",
       "      <td>...</td>\n",
       "      <td>-0.175633</td>\n",
       "      <td>1.000000</td>\n",
       "      <td>-0.134267</td>\n",
       "      <td>-0.096749</td>\n",
       "      <td>-0.247050</td>\n",
       "      <td>-0.208472</td>\n",
       "      <td>0.488207</td>\n",
       "      <td>-0.172289</td>\n",
       "      <td>1.000000</td>\n",
       "      <td>0.012308</td>\n",
       "    </tr>\n",
       "    <tr>\n",
       "      <th>Target</th>\n",
       "      <td>0.259938</td>\n",
       "      <td>-0.136275</td>\n",
       "      <td>0.201019</td>\n",
       "      <td>-0.096313</td>\n",
       "      <td>0.068230</td>\n",
       "      <td>0.119607</td>\n",
       "      <td>0.230644</td>\n",
       "      <td>-0.006568</td>\n",
       "      <td>-0.186530</td>\n",
       "      <td>0.086395</td>\n",
       "      <td>...</td>\n",
       "      <td>0.314397</td>\n",
       "      <td>0.012308</td>\n",
       "      <td>-0.115226</td>\n",
       "      <td>0.242049</td>\n",
       "      <td>-0.256824</td>\n",
       "      <td>-0.219318</td>\n",
       "      <td>-0.054421</td>\n",
       "      <td>0.276251</td>\n",
       "      <td>0.012308</td>\n",
       "      <td>1.000000</td>\n",
       "    </tr>\n",
       "  </tbody>\n",
       "</table>\n",
       "<p>138 rows × 138 columns</p>\n",
       "</div>"
      ],
      "text/plain": [
       "                     v2a1    hacdor     rooms    hacapo      v14a    refrig  \\\n",
       "v2a1             1.000000 -0.077309  0.427115 -0.057284  0.041299  0.103009   \n",
       "hacdor          -0.077309  1.000000 -0.181283  0.624324 -0.143713 -0.055073   \n",
       "rooms            0.427115 -0.181283  1.000000 -0.172382  0.136410  0.158394   \n",
       "hacapo          -0.057284  0.624324 -0.172382  1.000000 -0.154749 -0.062110   \n",
       "v14a             0.041299 -0.143713  0.136410 -0.154749  1.000000  0.192954   \n",
       "...                   ...       ...       ...       ...       ...       ...   \n",
       "SQBovercrowding -0.172610  0.753025 -0.304343  0.590724 -0.117487 -0.060838   \n",
       "SQBdependency   -0.070604 -0.022293 -0.016747 -0.015812  0.006917 -0.019616   \n",
       "SQBmeaned        0.387446 -0.066216  0.245894 -0.068848  0.036291  0.112194   \n",
       "agesq            0.029998 -0.085488  0.165341 -0.050785  0.027521  0.023903   \n",
       "Target           0.259938 -0.136275  0.201019 -0.096313  0.068230  0.119607   \n",
       "\n",
       "                     v18q     v18q1      r4h1      r4h2  ...  SQBescolari  \\\n",
       "v2a1             0.290376  0.285230 -0.069219 -0.000713  ...     0.453701   \n",
       "hacdor          -0.061309 -0.034382  0.186709  0.057368  ...    -0.076154   \n",
       "rooms            0.263738  0.178210 -0.039824  0.232702  ...     0.251365   \n",
       "hacapo          -0.051432 -0.019820  0.174432  0.088729  ...    -0.071311   \n",
       "v14a             0.029549  0.019820 -0.036434  0.019440  ...     0.035839   \n",
       "...                   ...       ...       ...       ...  ...          ...   \n",
       "SQBovercrowding -0.087555 -0.017761  0.357841  0.175853  ...    -0.149782   \n",
       "SQBdependency   -0.087584 -0.036037 -0.101348 -0.203032  ...    -0.069007   \n",
       "SQBmeaned        0.307390  0.119863 -0.041862 -0.047251  ...     0.730339   \n",
       "agesq           -0.092440 -0.032834 -0.279595  0.013032  ...    -0.175633   \n",
       "Target           0.230644 -0.006568 -0.186530  0.086395  ...     0.314397   \n",
       "\n",
       "                   SQBage  SQBhogar_total  SQBedjefe  SQBhogar_nin  \\\n",
       "v2a1             0.029998       -0.047246   0.313209     -0.068319   \n",
       "hacdor          -0.085488        0.280551  -0.054885      0.319831   \n",
       "rooms            0.165341        0.212291   0.191689      0.026839   \n",
       "hacapo          -0.050785        0.280245  -0.044957      0.285321   \n",
       "v14a             0.027521        0.014963   0.023389     -0.007836   \n",
       "...                   ...             ...        ...           ...   \n",
       "SQBovercrowding -0.208472        0.476532  -0.072770      0.468558   \n",
       "SQBdependency    0.488207       -0.190491  -0.045370     -0.055355   \n",
       "SQBmeaned       -0.172289       -0.024393   0.448386      0.025293   \n",
       "agesq            1.000000       -0.134267  -0.096749     -0.247050   \n",
       "Target           0.012308       -0.115226   0.242049     -0.256824   \n",
       "\n",
       "                 SQBovercrowding  SQBdependency  SQBmeaned     agesq    Target  \n",
       "v2a1                   -0.172610      -0.070604   0.387446  0.029998  0.259938  \n",
       "hacdor                  0.753025      -0.022293  -0.066216 -0.085488 -0.136275  \n",
       "rooms                  -0.304343      -0.016747   0.245894  0.165341  0.201019  \n",
       "hacapo                  0.590724      -0.015812  -0.068848 -0.050785 -0.096313  \n",
       "v14a                   -0.117487       0.006917   0.036291  0.027521  0.068230  \n",
       "...                          ...            ...        ...       ...       ...  \n",
       "SQBovercrowding         1.000000      -0.115918  -0.114123 -0.208472 -0.219318  \n",
       "SQBdependency          -0.115918       1.000000  -0.103141  0.488207 -0.054421  \n",
       "SQBmeaned              -0.114123      -0.103141   1.000000 -0.172289  0.276251  \n",
       "agesq                  -0.208472       0.488207  -0.172289  1.000000  0.012308  \n",
       "Target                 -0.219318      -0.054421   0.276251  0.012308  1.000000  \n",
       "\n",
       "[138 rows x 138 columns]"
      ]
     },
     "execution_count": 47,
     "metadata": {},
     "output_type": "execute_result"
    }
   ],
   "source": [
    "corrmat = train_csv.corr()\n",
    "corrmat"
   ]
  },
  {
   "cell_type": "code",
   "execution_count": 512,
   "metadata": {
    "scrolled": true
   },
   "outputs": [
    {
     "data": {
      "text/html": [
       "<div>\n",
       "<style scoped>\n",
       "    .dataframe tbody tr th:only-of-type {\n",
       "        vertical-align: middle;\n",
       "    }\n",
       "\n",
       "    .dataframe tbody tr th {\n",
       "        vertical-align: top;\n",
       "    }\n",
       "\n",
       "    .dataframe thead th {\n",
       "        text-align: right;\n",
       "    }\n",
       "</style>\n",
       "<table border=\"1\" class=\"dataframe\">\n",
       "  <thead>\n",
       "    <tr style=\"text-align: right;\">\n",
       "      <th></th>\n",
       "      <th>Target</th>\n",
       "      <th>escolari</th>\n",
       "      <th>meaneduc</th>\n",
       "      <th>SQBescolari</th>\n",
       "      <th>cielorazo</th>\n",
       "      <th>eviv3</th>\n",
       "      <th>epared3</th>\n",
       "      <th>SQBmeaned</th>\n",
       "      <th>pisomoscer</th>\n",
       "      <th>etecho3</th>\n",
       "      <th>...</th>\n",
       "      <th>parentesco3</th>\n",
       "      <th>parentesco4</th>\n",
       "      <th>parentesco5</th>\n",
       "      <th>parentesco6</th>\n",
       "      <th>parentesco7</th>\n",
       "      <th>parentesco8</th>\n",
       "      <th>parentesco9</th>\n",
       "      <th>parentesco10</th>\n",
       "      <th>parentesco11</th>\n",
       "      <th>parentesco12</th>\n",
       "    </tr>\n",
       "  </thead>\n",
       "  <tbody>\n",
       "    <tr>\n",
       "      <th>SQBmeaned</th>\n",
       "      <td>0.276251</td>\n",
       "      <td>0.717281</td>\n",
       "      <td>0.944935</td>\n",
       "      <td>0.730339</td>\n",
       "      <td>0.268895</td>\n",
       "      <td>0.217502</td>\n",
       "      <td>0.251108</td>\n",
       "      <td>1.000000</td>\n",
       "      <td>0.225753</td>\n",
       "      <td>0.221398</td>\n",
       "      <td>...</td>\n",
       "      <td>NaN</td>\n",
       "      <td>NaN</td>\n",
       "      <td>NaN</td>\n",
       "      <td>NaN</td>\n",
       "      <td>NaN</td>\n",
       "      <td>NaN</td>\n",
       "      <td>NaN</td>\n",
       "      <td>NaN</td>\n",
       "      <td>NaN</td>\n",
       "      <td>NaN</td>\n",
       "    </tr>\n",
       "    <tr>\n",
       "      <th>agesq</th>\n",
       "      <td>0.012308</td>\n",
       "      <td>-0.246085</td>\n",
       "      <td>-0.229400</td>\n",
       "      <td>-0.175633</td>\n",
       "      <td>0.111298</td>\n",
       "      <td>0.036897</td>\n",
       "      <td>0.028912</td>\n",
       "      <td>-0.172289</td>\n",
       "      <td>0.100949</td>\n",
       "      <td>-0.007073</td>\n",
       "      <td>...</td>\n",
       "      <td>NaN</td>\n",
       "      <td>NaN</td>\n",
       "      <td>NaN</td>\n",
       "      <td>NaN</td>\n",
       "      <td>NaN</td>\n",
       "      <td>NaN</td>\n",
       "      <td>NaN</td>\n",
       "      <td>NaN</td>\n",
       "      <td>NaN</td>\n",
       "      <td>NaN</td>\n",
       "    </tr>\n",
       "    <tr>\n",
       "      <th>Target</th>\n",
       "      <td>1.000000</td>\n",
       "      <td>0.333791</td>\n",
       "      <td>0.333652</td>\n",
       "      <td>0.314397</td>\n",
       "      <td>0.295249</td>\n",
       "      <td>0.293540</td>\n",
       "      <td>0.280947</td>\n",
       "      <td>0.276251</td>\n",
       "      <td>0.275452</td>\n",
       "      <td>0.261142</td>\n",
       "      <td>...</td>\n",
       "      <td>NaN</td>\n",
       "      <td>NaN</td>\n",
       "      <td>NaN</td>\n",
       "      <td>NaN</td>\n",
       "      <td>NaN</td>\n",
       "      <td>NaN</td>\n",
       "      <td>NaN</td>\n",
       "      <td>NaN</td>\n",
       "      <td>NaN</td>\n",
       "      <td>NaN</td>\n",
       "    </tr>\n",
       "  </tbody>\n",
       "</table>\n",
       "<p>3 rows × 138 columns</p>\n",
       "</div>"
      ],
      "text/plain": [
       "             Target  escolari  meaneduc  SQBescolari  cielorazo     eviv3  \\\n",
       "SQBmeaned  0.276251  0.717281  0.944935     0.730339   0.268895  0.217502   \n",
       "agesq      0.012308 -0.246085 -0.229400    -0.175633   0.111298  0.036897   \n",
       "Target     1.000000  0.333791  0.333652     0.314397   0.295249  0.293540   \n",
       "\n",
       "            epared3  SQBmeaned  pisomoscer   etecho3  ...  parentesco3  \\\n",
       "SQBmeaned  0.251108   1.000000    0.225753  0.221398  ...          NaN   \n",
       "agesq      0.028912  -0.172289    0.100949 -0.007073  ...          NaN   \n",
       "Target     0.280947   0.276251    0.275452  0.261142  ...          NaN   \n",
       "\n",
       "           parentesco4  parentesco5  parentesco6  parentesco7  parentesco8  \\\n",
       "SQBmeaned          NaN          NaN          NaN          NaN          NaN   \n",
       "agesq              NaN          NaN          NaN          NaN          NaN   \n",
       "Target             NaN          NaN          NaN          NaN          NaN   \n",
       "\n",
       "           parentesco9  parentesco10  parentesco11  parentesco12  \n",
       "SQBmeaned          NaN           NaN           NaN           NaN  \n",
       "agesq              NaN           NaN           NaN           NaN  \n",
       "Target             NaN           NaN           NaN           NaN  \n",
       "\n",
       "[3 rows x 138 columns]"
      ]
     },
     "execution_count": 512,
     "metadata": {},
     "output_type": "execute_result"
    }
   ],
   "source": [
    "corrmat.sort_values(by='Target', ascending=False).T.tail(3)"
   ]
  },
  {
   "cell_type": "markdown",
   "metadata": {},
   "source": [
    "**Solution)** correlation matrix를 만들어서 확인해본결과, target과 관련이 많은 5개의 feature은 순서대로 escolari, meaneduc, SQBescolari, cielorazo, eviv3 이다. escolari은 학교 다닌 연수를 나타내고, meaneduc는 어른들의 평균 교육 기간을 나타내고, SQBescolari은 escolari feature의 제곱값을 나타내고, cielorazo은 집의 천장이 있는지 없는지를 나타내고, eviv3은 집의 바닥이 좋은지 안좋은지를 나타낸다."
   ]
  },
  {
   "cell_type": "markdown",
   "metadata": {},
   "source": [
    "#### Q5: Determine if there are there any possible outliers? (You might have to take a look at all features)"
   ]
  },
  {
   "cell_type": "code",
   "execution_count": 62,
   "metadata": {
    "scrolled": true
   },
   "outputs": [
    {
     "data": {
      "text/plain": [
       "6     837\n",
       "11    354\n",
       "9     206\n",
       "15    166\n",
       "3     151\n",
       "8     141\n",
       "0     135\n",
       "7     119\n",
       "14    115\n",
       "5     109\n",
       "17     95\n",
       "2      89\n",
       "16     87\n",
       "4      84\n",
       "10     67\n",
       "1      65\n",
       "12     64\n",
       "13     57\n",
       "21     15\n",
       "18      7\n",
       "19      7\n",
       "20      3\n",
       "Name: escolari, dtype: int64"
      ]
     },
     "execution_count": 62,
     "metadata": {},
     "output_type": "execute_result"
    }
   ],
   "source": [
    "train_csv['escolari'].value_counts()"
   ]
  },
  {
   "cell_type": "code",
   "execution_count": 74,
   "metadata": {
    "scrolled": true
   },
   "outputs": [
    {
     "data": {
      "text/plain": [
       "<matplotlib.collections.PathCollection at 0x190e9909e20>"
      ]
     },
     "execution_count": 74,
     "metadata": {},
     "output_type": "execute_result"
    },
    {
     "data": {
      "image/png": "[encoded data removed]",
      "text/plain": [
       "<Figure size 432x288 with 1 Axes>"
      ]
     },
     "metadata": {
      "needs_background": "light"
     },
     "output_type": "display_data"
    }
   ],
   "source": [
    "plt.scatter(train_csv['escolari'], train_csv['Target'])"
   ]
  },
  {
   "cell_type": "code",
   "execution_count": 76,
   "metadata": {},
   "outputs": [
    {
     "data": {
      "image/png": "[encoded data removed]",
      "text/plain": [
       "<Figure size 576x432 with 1 Axes>"
      ]
     },
     "metadata": {
      "needs_background": "light"
     },
     "output_type": "display_data"
    }
   ],
   "source": [
    "plt.subplots(figsize=(8, 6))\n",
    "fig = sns.boxplot(x='escolari', y=\"Target\", data=train_csv)\n",
    "fig.axis(ymin=0, ymax=5);"
   ]
  },
  {
   "cell_type": "code",
   "execution_count": 63,
   "metadata": {
    "scrolled": true
   },
   "outputs": [
    {
     "data": {
      "text/plain": [
       "6.000000     335\n",
       "11.000000    172\n",
       "9.000000     128\n",
       "8.500000     105\n",
       "10.000000    100\n",
       "            ... \n",
       "5.400000       1\n",
       "3.800000       1\n",
       "9.200000       1\n",
       "15.750000      1\n",
       "5.833334       1\n",
       "Name: meaneduc, Length: 155, dtype: int64"
      ]
     },
     "execution_count": 63,
     "metadata": {},
     "output_type": "execute_result"
    }
   ],
   "source": [
    "train_csv['meaneduc'].value_counts()"
   ]
  },
  {
   "cell_type": "code",
   "execution_count": 64,
   "metadata": {},
   "outputs": [
    {
     "data": {
      "text/plain": [
       "7.200000     True\n",
       "27.000000    True\n",
       "4.600000     True\n",
       "7.875000     True\n",
       "13.600000    True\n",
       "0.333333     True\n",
       "6.400000     True\n",
       "13.800000    True\n",
       "9.800000     True\n",
       "17.666666    True\n",
       "8.800000     True\n",
       "7.800000     True\n",
       "3.750000     True\n",
       "9.600000     True\n",
       "8.857142     True\n",
       "5.571429     True\n",
       "13.200000    True\n",
       "4.200000     True\n",
       "11.166667    True\n",
       "9.571428     True\n",
       "12.800000    True\n",
       "37.000000    True\n",
       "24.500000    True\n",
       "23.500000    True\n",
       "14.250000    True\n",
       "32.000000    True\n",
       "6.777778     True\n",
       "9.400000     True\n",
       "10.200000    True\n",
       "11.400000    True\n",
       "7.400000     True\n",
       "3.200000     True\n",
       "3.600000     True\n",
       "6.285714     True\n",
       "5.600000     True\n",
       "14.200000    True\n",
       "11.600000    True\n",
       "7.777778     True\n",
       "5.400000     True\n",
       "3.800000     True\n",
       "9.200000     True\n",
       "15.750000    True\n",
       "5.833334     True\n",
       "Name: meaneduc, dtype: bool"
      ]
     },
     "execution_count": 64,
     "metadata": {},
     "output_type": "execute_result"
    }
   ],
   "source": [
    "df = train_csv['meaneduc'].value_counts() == 1\n",
    "df[df==True]"
   ]
  },
  {
   "cell_type": "code",
   "execution_count": 77,
   "metadata": {},
   "outputs": [
    {
     "data": {
      "text/plain": [
       "<matplotlib.collections.PathCollection at 0x190ea9703a0>"
      ]
     },
     "execution_count": 77,
     "metadata": {},
     "output_type": "execute_result"
    },
    {
     "data": {
      "image/png": "[encoded data removed]",
      "text/plain": [
       "<Figure size 432x288 with 1 Axes>"
      ]
     },
     "metadata": {
      "needs_background": "light"
     },
     "output_type": "display_data"
    }
   ],
   "source": [
    "plt.scatter(train_csv['meaneduc'], train_csv['Target'])"
   ]
  },
  {
   "cell_type": "code",
   "execution_count": 78,
   "metadata": {},
   "outputs": [
    {
     "data": {
      "image/png": "[encoded data removed]",
      "text/plain": [
       "<Figure size 576x432 with 1 Axes>"
      ]
     },
     "metadata": {
      "needs_background": "light"
     },
     "output_type": "display_data"
    }
   ],
   "source": [
    "plt.subplots(figsize=(8, 6))\n",
    "fig = sns.boxplot(x='meaneduc', y=\"Target\", data=train_csv)\n",
    "fig.axis(ymin=0, ymax=5);"
   ]
  },
  {
   "cell_type": "code",
   "execution_count": 65,
   "metadata": {
    "scrolled": true
   },
   "outputs": [
    {
     "data": {
      "text/plain": [
       "36     837\n",
       "121    354\n",
       "81     206\n",
       "225    166\n",
       "9      151\n",
       "64     141\n",
       "0      135\n",
       "49     119\n",
       "196    115\n",
       "25     109\n",
       "289     95\n",
       "4       89\n",
       "256     87\n",
       "16      84\n",
       "100     67\n",
       "1       65\n",
       "144     64\n",
       "169     57\n",
       "441     15\n",
       "324      7\n",
       "361      7\n",
       "400      3\n",
       "Name: SQBescolari, dtype: int64"
      ]
     },
     "execution_count": 65,
     "metadata": {},
     "output_type": "execute_result"
    }
   ],
   "source": [
    "train_csv['SQBescolari'].value_counts()"
   ]
  },
  {
   "cell_type": "code",
   "execution_count": 79,
   "metadata": {},
   "outputs": [
    {
     "data": {
      "text/plain": [
       "<matplotlib.collections.PathCollection at 0x190ea9e34f0>"
      ]
     },
     "execution_count": 79,
     "metadata": {},
     "output_type": "execute_result"
    },
    {
     "data": {
      "image/png": "[encoded data removed]",
      "text/plain": [
       "<Figure size 432x288 with 1 Axes>"
      ]
     },
     "metadata": {
      "needs_background": "light"
     },
     "output_type": "display_data"
    }
   ],
   "source": [
    "plt.scatter(train_csv['SQBescolari'], train_csv['Target'])"
   ]
  },
  {
   "cell_type": "code",
   "execution_count": 80,
   "metadata": {},
   "outputs": [
    {
     "data": {
      "image/png": "[encoded data removed]",
      "text/plain": [
       "<Figure size 576x432 with 1 Axes>"
      ]
     },
     "metadata": {
      "needs_background": "light"
     },
     "output_type": "display_data"
    }
   ],
   "source": [
    "plt.subplots(figsize=(8, 6))\n",
    "fig = sns.boxplot(x='SQBescolari', y=\"Target\", data=train_csv)\n",
    "fig.axis(ymin=0, ymax=5);"
   ]
  },
  {
   "cell_type": "code",
   "execution_count": 250,
   "metadata": {},
   "outputs": [
    {
     "data": {
      "text/plain": [
       "<matplotlib.collections.PathCollection at 0x190e9925130>"
      ]
     },
     "execution_count": 250,
     "metadata": {},
     "output_type": "execute_result"
    },
    {
     "data": {
      "image/png": "[encoded data removed]",
      "text/plain": [
       "<Figure size 864x432 with 3 Axes>"
      ]
     },
     "metadata": {
      "needs_background": "light"
     },
     "output_type": "display_data"
    }
   ],
   "source": [
    "var1 = 'escolari'    # most significant nominal features\n",
    "var2 = 'meaneduc'\n",
    "var3 = 'SQBescolari'\n",
    "plt.figure(figsize=(12,6))\n",
    "plt.subplot(1, 3, 1)\n",
    "plt.scatter(train_csv[var1], train_csv['Target'])\n",
    "plt.subplot(1, 3, 2)\n",
    "plt.scatter(train_csv[var2], train_csv['Target'])\n",
    "plt.subplot(1, 3, 3)\n",
    "plt.scatter(train_csv[var3], train_csv['Target'])"
   ]
  },
  {
   "cell_type": "code",
   "execution_count": 251,
   "metadata": {},
   "outputs": [
    {
     "data": {
      "text/html": [
       "<div>\n",
       "<style scoped>\n",
       "    .dataframe tbody tr th:only-of-type {\n",
       "        vertical-align: middle;\n",
       "    }\n",
       "\n",
       "    .dataframe tbody tr th {\n",
       "        vertical-align: top;\n",
       "    }\n",
       "\n",
       "    .dataframe thead th {\n",
       "        text-align: right;\n",
       "    }\n",
       "</style>\n",
       "<table border=\"1\" class=\"dataframe\">\n",
       "  <thead>\n",
       "    <tr style=\"text-align: right;\">\n",
       "      <th></th>\n",
       "      <th>hacdor</th>\n",
       "      <th>rooms</th>\n",
       "      <th>hacapo</th>\n",
       "      <th>v14a</th>\n",
       "      <th>refrig</th>\n",
       "      <th>v18q</th>\n",
       "      <th>r4h1</th>\n",
       "      <th>r4h2</th>\n",
       "      <th>r4h3</th>\n",
       "      <th>r4m1</th>\n",
       "      <th>...</th>\n",
       "      <th>SQBescolari</th>\n",
       "      <th>SQBage</th>\n",
       "      <th>SQBhogar_total</th>\n",
       "      <th>SQBedjefe</th>\n",
       "      <th>SQBhogar_nin</th>\n",
       "      <th>SQBovercrowding</th>\n",
       "      <th>SQBdependency</th>\n",
       "      <th>SQBmeaned</th>\n",
       "      <th>agesq</th>\n",
       "      <th>Target</th>\n",
       "    </tr>\n",
       "  </thead>\n",
       "  <tbody>\n",
       "    <tr>\n",
       "      <th>6166</th>\n",
       "      <td>0</td>\n",
       "      <td>5</td>\n",
       "      <td>0</td>\n",
       "      <td>1</td>\n",
       "      <td>1</td>\n",
       "      <td>0</td>\n",
       "      <td>0</td>\n",
       "      <td>0</td>\n",
       "      <td>0</td>\n",
       "      <td>0</td>\n",
       "      <td>...</td>\n",
       "      <td>225</td>\n",
       "      <td>1521</td>\n",
       "      <td>9</td>\n",
       "      <td>0</td>\n",
       "      <td>4</td>\n",
       "      <td>2.2500</td>\n",
       "      <td>4.0</td>\n",
       "      <td>1369.0</td>\n",
       "      <td>1521</td>\n",
       "      <td>4</td>\n",
       "    </tr>\n",
       "    <tr>\n",
       "      <th>9059</th>\n",
       "      <td>0</td>\n",
       "      <td>7</td>\n",
       "      <td>0</td>\n",
       "      <td>1</td>\n",
       "      <td>1</td>\n",
       "      <td>0</td>\n",
       "      <td>0</td>\n",
       "      <td>0</td>\n",
       "      <td>0</td>\n",
       "      <td>0</td>\n",
       "      <td>...</td>\n",
       "      <td>81</td>\n",
       "      <td>2601</td>\n",
       "      <td>9</td>\n",
       "      <td>0</td>\n",
       "      <td>4</td>\n",
       "      <td>0.5625</td>\n",
       "      <td>4.0</td>\n",
       "      <td>1024.0</td>\n",
       "      <td>2601</td>\n",
       "      <td>4</td>\n",
       "    </tr>\n",
       "    <tr>\n",
       "      <th>1832</th>\n",
       "      <td>0</td>\n",
       "      <td>4</td>\n",
       "      <td>0</td>\n",
       "      <td>1</td>\n",
       "      <td>1</td>\n",
       "      <td>0</td>\n",
       "      <td>0</td>\n",
       "      <td>0</td>\n",
       "      <td>0</td>\n",
       "      <td>0</td>\n",
       "      <td>...</td>\n",
       "      <td>256</td>\n",
       "      <td>1849</td>\n",
       "      <td>4</td>\n",
       "      <td>0</td>\n",
       "      <td>1</td>\n",
       "      <td>1.0000</td>\n",
       "      <td>1.0</td>\n",
       "      <td>841.0</td>\n",
       "      <td>1849</td>\n",
       "      <td>4</td>\n",
       "    </tr>\n",
       "  </tbody>\n",
       "</table>\n",
       "<p>3 rows × 138 columns</p>\n",
       "</div>"
      ],
      "text/plain": [
       "      hacdor  rooms  hacapo  v14a  refrig  v18q  r4h1  r4h2  r4h3  r4m1  ...  \\\n",
       "6166       0      5       0     1       1     0     0     0     0     0  ...   \n",
       "9059       0      7       0     1       1     0     0     0     0     0  ...   \n",
       "1832       0      4       0     1       1     0     0     0     0     0  ...   \n",
       "\n",
       "      SQBescolari  SQBage  SQBhogar_total  SQBedjefe  SQBhogar_nin  \\\n",
       "6166          225    1521               9          0             4   \n",
       "9059           81    2601               9          0             4   \n",
       "1832          256    1849               4          0             1   \n",
       "\n",
       "      SQBovercrowding  SQBdependency  SQBmeaned  agesq  Target  \n",
       "6166           2.2500            4.0     1369.0   1521       4  \n",
       "9059           0.5625            4.0     1024.0   2601       4  \n",
       "1832           1.0000            1.0      841.0   1849       4  \n",
       "\n",
       "[3 rows x 138 columns]"
      ]
     },
     "execution_count": 251,
     "metadata": {},
     "output_type": "execute_result"
    }
   ],
   "source": [
    "train_csv.sort_values(by='meaneduc', ascending=False)[:3]"
   ]
  },
  {
   "cell_type": "code",
   "execution_count": 252,
   "metadata": {},
   "outputs": [
    {
     "data": {
      "text/html": [
       "<div>\n",
       "<style scoped>\n",
       "    .dataframe tbody tr th:only-of-type {\n",
       "        vertical-align: middle;\n",
       "    }\n",
       "\n",
       "    .dataframe tbody tr th {\n",
       "        vertical-align: top;\n",
       "    }\n",
       "\n",
       "    .dataframe thead th {\n",
       "        text-align: right;\n",
       "    }\n",
       "</style>\n",
       "<table border=\"1\" class=\"dataframe\">\n",
       "  <thead>\n",
       "    <tr style=\"text-align: right;\">\n",
       "      <th></th>\n",
       "      <th>hacdor</th>\n",
       "      <th>rooms</th>\n",
       "      <th>hacapo</th>\n",
       "      <th>v14a</th>\n",
       "      <th>refrig</th>\n",
       "      <th>v18q</th>\n",
       "      <th>r4h1</th>\n",
       "      <th>r4h2</th>\n",
       "      <th>r4h3</th>\n",
       "      <th>r4m1</th>\n",
       "      <th>...</th>\n",
       "      <th>SQBescolari</th>\n",
       "      <th>SQBage</th>\n",
       "      <th>SQBhogar_total</th>\n",
       "      <th>SQBedjefe</th>\n",
       "      <th>SQBhogar_nin</th>\n",
       "      <th>SQBovercrowding</th>\n",
       "      <th>SQBdependency</th>\n",
       "      <th>SQBmeaned</th>\n",
       "      <th>agesq</th>\n",
       "      <th>Target</th>\n",
       "    </tr>\n",
       "  </thead>\n",
       "  <tbody>\n",
       "    <tr>\n",
       "      <th>2321</th>\n",
       "      <td>0</td>\n",
       "      <td>2</td>\n",
       "      <td>0</td>\n",
       "      <td>1</td>\n",
       "      <td>1</td>\n",
       "      <td>1</td>\n",
       "      <td>0</td>\n",
       "      <td>0</td>\n",
       "      <td>0</td>\n",
       "      <td>0</td>\n",
       "      <td>...</td>\n",
       "      <td>441</td>\n",
       "      <td>900</td>\n",
       "      <td>1</td>\n",
       "      <td>0</td>\n",
       "      <td>0</td>\n",
       "      <td>1.000000</td>\n",
       "      <td>0.0</td>\n",
       "      <td>441.00</td>\n",
       "      <td>900</td>\n",
       "      <td>4</td>\n",
       "    </tr>\n",
       "    <tr>\n",
       "      <th>7153</th>\n",
       "      <td>0</td>\n",
       "      <td>6</td>\n",
       "      <td>0</td>\n",
       "      <td>1</td>\n",
       "      <td>1</td>\n",
       "      <td>1</td>\n",
       "      <td>0</td>\n",
       "      <td>0</td>\n",
       "      <td>0</td>\n",
       "      <td>0</td>\n",
       "      <td>...</td>\n",
       "      <td>441</td>\n",
       "      <td>4900</td>\n",
       "      <td>1</td>\n",
       "      <td>0</td>\n",
       "      <td>0</td>\n",
       "      <td>0.111111</td>\n",
       "      <td>64.0</td>\n",
       "      <td>441.00</td>\n",
       "      <td>4900</td>\n",
       "      <td>4</td>\n",
       "    </tr>\n",
       "    <tr>\n",
       "      <th>2625</th>\n",
       "      <td>0</td>\n",
       "      <td>5</td>\n",
       "      <td>0</td>\n",
       "      <td>1</td>\n",
       "      <td>1</td>\n",
       "      <td>1</td>\n",
       "      <td>1</td>\n",
       "      <td>1</td>\n",
       "      <td>2</td>\n",
       "      <td>1</td>\n",
       "      <td>...</td>\n",
       "      <td>441</td>\n",
       "      <td>1600</td>\n",
       "      <td>16</td>\n",
       "      <td>441</td>\n",
       "      <td>4</td>\n",
       "      <td>4.000000</td>\n",
       "      <td>1.0</td>\n",
       "      <td>342.25</td>\n",
       "      <td>1600</td>\n",
       "      <td>4</td>\n",
       "    </tr>\n",
       "  </tbody>\n",
       "</table>\n",
       "<p>3 rows × 138 columns</p>\n",
       "</div>"
      ],
      "text/plain": [
       "      hacdor  rooms  hacapo  v14a  refrig  v18q  r4h1  r4h2  r4h3  r4m1  ...  \\\n",
       "2321       0      2       0     1       1     1     0     0     0     0  ...   \n",
       "7153       0      6       0     1       1     1     0     0     0     0  ...   \n",
       "2625       0      5       0     1       1     1     1     1     2     1  ...   \n",
       "\n",
       "      SQBescolari  SQBage  SQBhogar_total  SQBedjefe  SQBhogar_nin  \\\n",
       "2321          441     900               1          0             0   \n",
       "7153          441    4900               1          0             0   \n",
       "2625          441    1600              16        441             4   \n",
       "\n",
       "      SQBovercrowding  SQBdependency  SQBmeaned  agesq  Target  \n",
       "2321         1.000000            0.0     441.00    900       4  \n",
       "7153         0.111111           64.0     441.00   4900       4  \n",
       "2625         4.000000            1.0     342.25   1600       4  \n",
       "\n",
       "[3 rows x 138 columns]"
      ]
     },
     "execution_count": 252,
     "metadata": {},
     "output_type": "execute_result"
    }
   ],
   "source": [
    "train_csv.sort_values(by='SQBescolari', ascending=False)[:3]  # 겹치는 point가 없다."
   ]
  },
  {
   "cell_type": "code",
   "execution_count": 66,
   "metadata": {
    "scrolled": true
   },
   "outputs": [
    {
     "data": {
      "text/plain": [
       "1    2056\n",
       "0     917\n",
       "Name: cielorazo, dtype: int64"
      ]
     },
     "execution_count": 66,
     "metadata": {},
     "output_type": "execute_result"
    }
   ],
   "source": [
    "train_csv['cielorazo'].value_counts()"
   ]
  },
  {
   "cell_type": "code",
   "execution_count": 81,
   "metadata": {},
   "outputs": [
    {
     "data": {
      "text/plain": [
       "<matplotlib.collections.PathCollection at 0x190e980f8e0>"
      ]
     },
     "execution_count": 81,
     "metadata": {},
     "output_type": "execute_result"
    },
    {
     "data": {
      "image/png": "[encoded data removed]",
      "text/plain": [
       "<Figure size 432x288 with 1 Axes>"
      ]
     },
     "metadata": {
      "needs_background": "light"
     },
     "output_type": "display_data"
    }
   ],
   "source": [
    "plt.scatter(train_csv['cielorazo'], train_csv['Target'])"
   ]
  },
  {
   "cell_type": "code",
   "execution_count": 82,
   "metadata": {},
   "outputs": [
    {
     "data": {
      "image/png": "[encoded data removed]",
      "text/plain": [
       "<Figure size 576x432 with 1 Axes>"
      ]
     },
     "metadata": {
      "needs_background": "light"
     },
     "output_type": "display_data"
    }
   ],
   "source": [
    "plt.subplots(figsize=(8, 6))\n",
    "fig = sns.boxplot(x='cielorazo', y=\"Target\", data=train_csv)\n",
    "fig.axis(ymin=0, ymax=5);"
   ]
  },
  {
   "cell_type": "code",
   "execution_count": 67,
   "metadata": {},
   "outputs": [
    {
     "data": {
      "text/plain": [
       "1    1950\n",
       "0    1023\n",
       "Name: eviv3, dtype: int64"
      ]
     },
     "execution_count": 67,
     "metadata": {},
     "output_type": "execute_result"
    }
   ],
   "source": [
    "train_csv['eviv3'].value_counts()"
   ]
  },
  {
   "cell_type": "code",
   "execution_count": 83,
   "metadata": {
    "scrolled": true
   },
   "outputs": [
    {
     "data": {
      "text/plain": [
       "<matplotlib.collections.PathCollection at 0x190e5182dc0>"
      ]
     },
     "execution_count": 83,
     "metadata": {},
     "output_type": "execute_result"
    },
    {
     "data": {
      "image/png": "[encoded data removed]",
      "text/plain": [
       "<Figure size 432x288 with 1 Axes>"
      ]
     },
     "metadata": {
      "needs_background": "light"
     },
     "output_type": "display_data"
    }
   ],
   "source": [
    "plt.scatter(train_csv['eviv3'], train_csv['Target'])"
   ]
  },
  {
   "cell_type": "code",
   "execution_count": 84,
   "metadata": {},
   "outputs": [
    {
     "data": {
      "image/png": "[encoded data removed]",
      "text/plain": [
       "<Figure size 576x432 with 1 Axes>"
      ]
     },
     "metadata": {
      "needs_background": "light"
     },
     "output_type": "display_data"
    }
   ],
   "source": [
    "plt.subplots(figsize=(8, 6))\n",
    "fig = sns.boxplot(x='eviv3', y=\"Target\", data=train_csv)\n",
    "fig.axis(ymin=0, ymax=5);"
   ]
  },
  {
   "cell_type": "code",
   "execution_count": 68,
   "metadata": {},
   "outputs": [
    {
     "data": {
      "text/plain": [
       "1    1748\n",
       "0    1225\n",
       "Name: epared3, dtype: int64"
      ]
     },
     "execution_count": 68,
     "metadata": {},
     "output_type": "execute_result"
    }
   ],
   "source": [
    "train_csv['epared3'].value_counts()"
   ]
  },
  {
   "cell_type": "code",
   "execution_count": 69,
   "metadata": {
    "scrolled": true
   },
   "outputs": [
    {
     "data": {
      "text/plain": [
       "36.000000     335\n",
       "121.000000    172\n",
       "81.000000     128\n",
       "72.250000     105\n",
       "100.000000    100\n",
       "             ... \n",
       "78.448975       1\n",
       "312.111080      1\n",
       "124.694450      1\n",
       "14.440000       1\n",
       "203.062500      1\n",
       "Name: SQBmeaned, Length: 155, dtype: int64"
      ]
     },
     "execution_count": 69,
     "metadata": {},
     "output_type": "execute_result"
    }
   ],
   "source": [
    "train_csv['SQBmeaned'].value_counts()"
   ]
  },
  {
   "cell_type": "code",
   "execution_count": 70,
   "metadata": {},
   "outputs": [
    {
     "data": {
      "text/plain": [
       "10.240001      True\n",
       "54.760002      True\n",
       "174.239990     True\n",
       "77.440002      True\n",
       "129.959990     True\n",
       "190.440000     True\n",
       "134.560010     True\n",
       "21.160000      True\n",
       "34.027779      True\n",
       "60.840004      True\n",
       "1024.000000    True\n",
       "62.015625      True\n",
       "91.612236      True\n",
       "31.359999      True\n",
       "84.639999      True\n",
       "45.938271      True\n",
       "17.639997      True\n",
       "248.062500     True\n",
       "552.250000     True\n",
       "729.000000     True\n",
       "29.160002      True\n",
       "163.840010     True\n",
       "51.839996      True\n",
       "39.510201      True\n",
       "88.359993      True\n",
       "14.062500      True\n",
       "184.960010     True\n",
       "40.960003      True\n",
       "600.250000     True\n",
       "96.040001      True\n",
       "1369.000000    True\n",
       "60.493824      True\n",
       "201.640000     True\n",
       "31.040819      True\n",
       "12.959999      True\n",
       "104.039990     True\n",
       "0.111111       True\n",
       "92.160004      True\n",
       "78.448975      True\n",
       "312.111080     True\n",
       "124.694450     True\n",
       "14.440000      True\n",
       "203.062500     True\n",
       "Name: SQBmeaned, dtype: bool"
      ]
     },
     "execution_count": 70,
     "metadata": {},
     "output_type": "execute_result"
    }
   ],
   "source": [
    "df = train_csv['SQBmeaned'].value_counts() == 1\n",
    "df[df==True]"
   ]
  },
  {
   "cell_type": "code",
   "execution_count": 121,
   "metadata": {},
   "outputs": [
    {
     "data": {
      "text/plain": [
       "array(['no', '8', 'yes', '3', '.5', '.25', '2', '.66666669', '.33333334',\n",
       "       '1.5', '.40000001', '.75', '1.25', '.2', '2.5', '1.2', '4',\n",
       "       '1.3333334', '2.25', '.22222222', '5', '.83333331', '.80000001',\n",
       "       '6', '3.5', '1.6666666', '.2857143', '1.75', '.71428573',\n",
       "       '.16666667', '.60000002'], dtype=object)"
      ]
     },
     "execution_count": 121,
     "metadata": {},
     "output_type": "execute_result"
    }
   ],
   "source": [
    "train_csv['dependency'].unique()  #dependency rate"
   ]
  },
  {
   "cell_type": "code",
   "execution_count": 122,
   "metadata": {
    "scrolled": true
   },
   "outputs": [
    {
     "data": {
      "text/plain": [
       "array(['10', '12', 'no', '11', '9', '15', '4', '6', '8', '17', '7', '16',\n",
       "       '14', '5', '21', '2', '19', 'yes', '3', '18', '13', '20'],\n",
       "      dtype=object)"
      ]
     },
     "execution_count": 122,
     "metadata": {},
     "output_type": "execute_result"
    }
   ],
   "source": [
    "train_csv['edjefe'].unique() # male head 교육 받은 연수"
   ]
  },
  {
   "cell_type": "code",
   "execution_count": 123,
   "metadata": {},
   "outputs": [
    {
     "data": {
      "text/plain": [
       "array(['no', '11', '4', '10', '9', '15', '7', '14', '13', '8', '17', '6',\n",
       "       '5', '3', '16', '19', 'yes', '21', '12', '2', '20', '18'],\n",
       "      dtype=object)"
      ]
     },
     "execution_count": 123,
     "metadata": {},
     "output_type": "execute_result"
    }
   ],
   "source": [
    "train_csv['edjefa'].unique()  # female head 교육 받은 연수"
   ]
  },
  {
   "cell_type": "code",
   "execution_count": 359,
   "metadata": {},
   "outputs": [
    {
     "data": {
      "text/plain": [
       "array(['.5', 'no', '8', 'yes', '.25', '2', '.33333334', '.375',\n",
       "       '.60000002', '1.5', '.2', '.75', '.66666669', '3', '.14285715',\n",
       "       '.40000001', '.80000001', '1.6666666', '.2857143', '1.25', '2.5',\n",
       "       '5', '.85714287', '1.3333334', '.16666667', '4', '.125',\n",
       "       '.83333331', '2.3333333', '7', '1.2', '3.5', '2.25', '3.3333333',\n",
       "       '6'], dtype=object)"
      ]
     },
     "execution_count": 359,
     "metadata": {},
     "output_type": "execute_result"
    }
   ],
   "source": [
    "test_csv['dependency'].unique()  #dependency rate"
   ]
  },
  {
   "cell_type": "code",
   "execution_count": 360,
   "metadata": {},
   "outputs": [
    {
     "data": {
      "text/plain": [
       "array(['no', '16', '10', '6', '11', '8', '13', '14', '5', '3', '9', '17',\n",
       "       '15', '7', '21', '4', '12', '2', '20', 'yes', '19', '18'],\n",
       "      dtype=object)"
      ]
     },
     "execution_count": 360,
     "metadata": {},
     "output_type": "execute_result"
    }
   ],
   "source": [
    "test_csv['edjefe'].unique() # male head 교육 받은 연수"
   ]
  },
  {
   "cell_type": "code",
   "execution_count": 361,
   "metadata": {},
   "outputs": [
    {
     "data": {
      "text/plain": [
       "array(['17', 'no', '11', '14', '10', '15', '9', '6', '8', '3', '2', '5',\n",
       "       '16', '12', 'yes', '7', '13', '21', '4', '19', '18', '20'],\n",
       "      dtype=object)"
      ]
     },
     "execution_count": 361,
     "metadata": {},
     "output_type": "execute_result"
    }
   ],
   "source": [
    "test_csv['edjefa'].unique()  # female head 교육 받은 연수"
   ]
  },
  {
   "cell_type": "markdown",
   "metadata": {},
   "source": [
    "# Part 3: Data preprocessing"
   ]
  },
  {
   "cell_type": "markdown",
   "metadata": {},
   "source": [
    "### This step has to be in continuation with the data exploration step."
   ]
  },
  {
   "cell_type": "markdown",
   "metadata": {},
   "source": [
    "#### Q1: Determine how the outliers should be handled."
   ]
  },
  {
   "cell_type": "code",
   "execution_count": 201,
   "metadata": {},
   "outputs": [
    {
     "data": {
      "text/plain": [
       "array(['no', '8', 'yes', '3', '.5', '.25', '2', '.66666669', '.33333334',\n",
       "       '1.5', '.40000001', '.75', '1.25', '.2', '2.5', '1.2', '4',\n",
       "       '1.3333334', '2.25', '.22222222', '5', '.83333331', '.80000001',\n",
       "       '6', '3.5', '1.6666666', '.2857143', '1.75', '.71428573',\n",
       "       '.16666667', '.60000002'], dtype=object)"
      ]
     },
     "execution_count": 201,
     "metadata": {},
     "output_type": "execute_result"
    }
   ],
   "source": [
    "train_csv['dependency'].unique()  #dependency rate , object 타입이라 타입 바꾸어줘야 한다."
   ]
  },
  {
   "cell_type": "code",
   "execution_count": 202,
   "metadata": {},
   "outputs": [
    {
     "data": {
      "text/plain": [
       "array(['10', '12', 'no', '11', '9', '15', '4', '6', '8', '17', '7', '16',\n",
       "       '14', '5', '21', '2', '19', 'yes', '3', '18', '13', '20'],\n",
       "      dtype=object)"
      ]
     },
     "execution_count": 202,
     "metadata": {},
     "output_type": "execute_result"
    }
   ],
   "source": [
    "train_csv['edjefe'].unique() # male head 교육 받은 연수 , object 타입이라 타입 바꾸어줘야 한다."
   ]
  },
  {
   "cell_type": "code",
   "execution_count": 203,
   "metadata": {},
   "outputs": [
    {
     "data": {
      "text/plain": [
       "array(['no', '11', '4', '10', '9', '15', '7', '14', '13', '8', '17', '6',\n",
       "       '5', '3', '16', '19', 'yes', '21', '12', '2', '20', '18'],\n",
       "      dtype=object)"
      ]
     },
     "execution_count": 203,
     "metadata": {},
     "output_type": "execute_result"
    }
   ],
   "source": [
    "train_csv['edjefa'].unique()  # female head 교육 받은 연수 , object 타입이라 타입 바꾸어줘야 한다."
   ]
  },
  {
   "cell_type": "code",
   "execution_count": 562,
   "metadata": {},
   "outputs": [],
   "source": [
    "train_csv['dependency'].replace('no','0',inplace=True)"
   ]
  },
  {
   "cell_type": "code",
   "execution_count": 563,
   "metadata": {},
   "outputs": [],
   "source": [
    "train_csv['edjefe'].replace('no','0',inplace=True)"
   ]
  },
  {
   "cell_type": "code",
   "execution_count": 564,
   "metadata": {},
   "outputs": [],
   "source": [
    "train_csv['edjefa'].replace('no','0',inplace=True)"
   ]
  },
  {
   "cell_type": "code",
   "execution_count": 565,
   "metadata": {},
   "outputs": [],
   "source": [
    "train_csv['dependency'].replace('yes',np.nan,inplace=True)  # yes는 평균값으로 바꾸기 위해 임시로 NaN 값을 넣어준다."
   ]
  },
  {
   "cell_type": "code",
   "execution_count": 566,
   "metadata": {},
   "outputs": [],
   "source": [
    "train_csv['edjefe'].replace('yes',np.nan,inplace=True)  # yes는 평균값으로 바꾸기 위해 임시로 NaN 값을 넣어준다."
   ]
  },
  {
   "cell_type": "code",
   "execution_count": 567,
   "metadata": {},
   "outputs": [],
   "source": [
    "train_csv['edjefa'].replace('yes',np.nan,inplace=True)  # yes는 평균값으로 바꾸기 위해 임시로 NaN 값을 넣어준다."
   ]
  },
  {
   "cell_type": "code",
   "execution_count": 568,
   "metadata": {},
   "outputs": [
    {
     "data": {
      "text/plain": [
       "array([0.        , 8.        ,        nan, 3.        , 0.5       ,\n",
       "       0.25      , 2.        , 0.66666669, 0.33333334, 1.5       ,\n",
       "       0.40000001, 0.75      , 1.25      , 0.2       , 2.5       ,\n",
       "       1.2       , 4.        , 1.3333334 , 2.25      , 0.22222222,\n",
       "       5.        , 0.83333331, 0.80000001, 6.        , 3.5       ,\n",
       "       1.6666666 , 0.2857143 , 1.75      , 0.71428573, 0.16666667,\n",
       "       0.60000002])"
      ]
     },
     "execution_count": 568,
     "metadata": {},
     "output_type": "execute_result"
    }
   ],
   "source": [
    "train_csv = train_csv.astype({'dependency' : 'float'})\n",
    "train_csv['dependency'].unique()"
   ]
  },
  {
   "cell_type": "code",
   "execution_count": 569,
   "metadata": {},
   "outputs": [
    {
     "data": {
      "text/plain": [
       "array([10., 12.,  0., 11.,  9., 15.,  4.,  6.,  8., 17.,  7., 16., 14.,\n",
       "        5., 21.,  2., 19., nan,  3., 18., 13., 20.])"
      ]
     },
     "execution_count": 569,
     "metadata": {},
     "output_type": "execute_result"
    }
   ],
   "source": [
    "train_csv = train_csv.astype({'edjefe' : 'float'})\n",
    "train_csv['edjefe'].unique()"
   ]
  },
  {
   "cell_type": "code",
   "execution_count": 570,
   "metadata": {},
   "outputs": [
    {
     "data": {
      "text/plain": [
       "array([ 0., 11.,  4., 10.,  9., 15.,  7., 14., 13.,  8., 17.,  6.,  5.,\n",
       "        3., 16., 19., nan, 21., 12.,  2., 20., 18.])"
      ]
     },
     "execution_count": 570,
     "metadata": {},
     "output_type": "execute_result"
    }
   ],
   "source": [
    "train_csv = train_csv.astype({'edjefa' : 'float'})\n",
    "train_csv['edjefa'].unique()"
   ]
  },
  {
   "cell_type": "code",
   "execution_count": 571,
   "metadata": {},
   "outputs": [
    {
     "data": {
      "text/plain": [
       "1.43"
      ]
     },
     "execution_count": 571,
     "metadata": {},
     "output_type": "execute_result"
    }
   ],
   "source": [
    "mean = round(train_csv['dependency'].mean(),2) \n",
    "mean"
   ]
  },
  {
   "cell_type": "code",
   "execution_count": 572,
   "metadata": {},
   "outputs": [],
   "source": [
    "train_csv['dependency'].replace(np.nan,mean,inplace=True)"
   ]
  },
  {
   "cell_type": "code",
   "execution_count": 573,
   "metadata": {},
   "outputs": [
    {
     "data": {
      "text/plain": [
       "5.03"
      ]
     },
     "execution_count": 573,
     "metadata": {},
     "output_type": "execute_result"
    }
   ],
   "source": [
    "mean = round(train_csv['edjefe'].mean(),2)\n",
    "mean"
   ]
  },
  {
   "cell_type": "code",
   "execution_count": 574,
   "metadata": {},
   "outputs": [],
   "source": [
    "train_csv['edjefe'].replace(np.nan,mean,inplace=True)"
   ]
  },
  {
   "cell_type": "code",
   "execution_count": 575,
   "metadata": {},
   "outputs": [
    {
     "data": {
      "text/plain": [
       "3.2"
      ]
     },
     "execution_count": 575,
     "metadata": {},
     "output_type": "execute_result"
    }
   ],
   "source": [
    "mean = round(train_csv['edjefa'].mean(),2)\n",
    "mean"
   ]
  },
  {
   "cell_type": "code",
   "execution_count": 576,
   "metadata": {},
   "outputs": [],
   "source": [
    "train_csv['edjefa'].replace(np.nan,mean,inplace=True)"
   ]
  },
  {
   "cell_type": "code",
   "execution_count": 540,
   "metadata": {},
   "outputs": [
    {
     "data": {
      "text/plain": [
       "array([0.        , 8.        , 1.43      , 3.        , 0.5       ,\n",
       "       0.25      , 2.        , 0.66666669, 0.33333334, 1.5       ,\n",
       "       0.40000001, 0.75      , 1.25      , 0.2       , 2.5       ,\n",
       "       1.2       , 4.        , 1.3333334 , 2.25      , 0.22222222,\n",
       "       5.        , 0.83333331, 0.80000001, 6.        , 3.5       ,\n",
       "       1.6666666 , 0.2857143 , 1.75      , 0.71428573, 0.16666667,\n",
       "       0.60000002])"
      ]
     },
     "execution_count": 540,
     "metadata": {},
     "output_type": "execute_result"
    }
   ],
   "source": [
    "train_csv['dependency'].unique()"
   ]
  },
  {
   "cell_type": "code",
   "execution_count": 317,
   "metadata": {},
   "outputs": [
    {
     "data": {
      "text/plain": [
       "array([10.  , 12.  ,  0.  , 11.  ,  9.  , 15.  ,  4.  ,  6.  ,  8.  ,\n",
       "       17.  ,  7.  , 16.  , 14.  ,  5.  , 21.  ,  2.  , 19.  ,  5.03,\n",
       "        3.  , 18.  , 13.  , 20.  ])"
      ]
     },
     "execution_count": 317,
     "metadata": {},
     "output_type": "execute_result"
    }
   ],
   "source": [
    "train_csv['edjefe'].unique()"
   ]
  },
  {
   "cell_type": "code",
   "execution_count": 318,
   "metadata": {},
   "outputs": [
    {
     "data": {
      "text/plain": [
       "array([ 0. , 11. ,  4. , 10. ,  9. , 15. ,  7. , 14. , 13. ,  8. , 17. ,\n",
       "        6. ,  5. ,  3. , 16. , 19. ,  3.2, 21. , 12. ,  2. , 20. , 18. ])"
      ]
     },
     "execution_count": 318,
     "metadata": {},
     "output_type": "execute_result"
    }
   ],
   "source": [
    "train_csv['edjefa'].unique()"
   ]
  },
  {
   "cell_type": "code",
   "execution_count": 319,
   "metadata": {
    "scrolled": true
   },
   "outputs": [
    {
     "data": {
      "text/html": [
       "<div>\n",
       "<style scoped>\n",
       "    .dataframe tbody tr th:only-of-type {\n",
       "        vertical-align: middle;\n",
       "    }\n",
       "\n",
       "    .dataframe tbody tr th {\n",
       "        vertical-align: top;\n",
       "    }\n",
       "\n",
       "    .dataframe thead th {\n",
       "        text-align: right;\n",
       "    }\n",
       "</style>\n",
       "<table border=\"1\" class=\"dataframe\">\n",
       "  <thead>\n",
       "    <tr style=\"text-align: right;\">\n",
       "      <th></th>\n",
       "      <th>Id</th>\n",
       "      <th>v2a1</th>\n",
       "      <th>hacdor</th>\n",
       "      <th>rooms</th>\n",
       "      <th>hacapo</th>\n",
       "      <th>v14a</th>\n",
       "      <th>refrig</th>\n",
       "      <th>v18q</th>\n",
       "      <th>v18q1</th>\n",
       "      <th>r4h1</th>\n",
       "      <th>...</th>\n",
       "      <th>SQBescolari</th>\n",
       "      <th>SQBage</th>\n",
       "      <th>SQBhogar_total</th>\n",
       "      <th>SQBedjefe</th>\n",
       "      <th>SQBhogar_nin</th>\n",
       "      <th>SQBovercrowding</th>\n",
       "      <th>SQBdependency</th>\n",
       "      <th>SQBmeaned</th>\n",
       "      <th>agesq</th>\n",
       "      <th>Target</th>\n",
       "    </tr>\n",
       "  </thead>\n",
       "  <tbody>\n",
       "    <tr>\n",
       "      <th>0</th>\n",
       "      <td>ID_279628684</td>\n",
       "      <td>190000.0</td>\n",
       "      <td>0</td>\n",
       "      <td>3</td>\n",
       "      <td>0</td>\n",
       "      <td>1</td>\n",
       "      <td>1</td>\n",
       "      <td>0</td>\n",
       "      <td>NaN</td>\n",
       "      <td>0</td>\n",
       "      <td>...</td>\n",
       "      <td>100</td>\n",
       "      <td>1849</td>\n",
       "      <td>1</td>\n",
       "      <td>100</td>\n",
       "      <td>0</td>\n",
       "      <td>1.000000</td>\n",
       "      <td>0.000000</td>\n",
       "      <td>100.0000</td>\n",
       "      <td>1849</td>\n",
       "      <td>4</td>\n",
       "    </tr>\n",
       "    <tr>\n",
       "      <th>1</th>\n",
       "      <td>ID_f29eb3ddd</td>\n",
       "      <td>135000.0</td>\n",
       "      <td>0</td>\n",
       "      <td>4</td>\n",
       "      <td>0</td>\n",
       "      <td>1</td>\n",
       "      <td>1</td>\n",
       "      <td>1</td>\n",
       "      <td>1.0</td>\n",
       "      <td>0</td>\n",
       "      <td>...</td>\n",
       "      <td>144</td>\n",
       "      <td>4489</td>\n",
       "      <td>1</td>\n",
       "      <td>144</td>\n",
       "      <td>0</td>\n",
       "      <td>1.000000</td>\n",
       "      <td>64.000000</td>\n",
       "      <td>144.0000</td>\n",
       "      <td>4489</td>\n",
       "      <td>4</td>\n",
       "    </tr>\n",
       "    <tr>\n",
       "      <th>2</th>\n",
       "      <td>ID_68de51c94</td>\n",
       "      <td>NaN</td>\n",
       "      <td>0</td>\n",
       "      <td>8</td>\n",
       "      <td>0</td>\n",
       "      <td>1</td>\n",
       "      <td>1</td>\n",
       "      <td>0</td>\n",
       "      <td>NaN</td>\n",
       "      <td>0</td>\n",
       "      <td>...</td>\n",
       "      <td>121</td>\n",
       "      <td>8464</td>\n",
       "      <td>1</td>\n",
       "      <td>0</td>\n",
       "      <td>0</td>\n",
       "      <td>0.250000</td>\n",
       "      <td>64.000000</td>\n",
       "      <td>121.0000</td>\n",
       "      <td>8464</td>\n",
       "      <td>4</td>\n",
       "    </tr>\n",
       "    <tr>\n",
       "      <th>5</th>\n",
       "      <td>ID_ec05b1a7b</td>\n",
       "      <td>180000.0</td>\n",
       "      <td>0</td>\n",
       "      <td>5</td>\n",
       "      <td>0</td>\n",
       "      <td>1</td>\n",
       "      <td>1</td>\n",
       "      <td>1</td>\n",
       "      <td>1.0</td>\n",
       "      <td>0</td>\n",
       "      <td>...</td>\n",
       "      <td>121</td>\n",
       "      <td>1444</td>\n",
       "      <td>16</td>\n",
       "      <td>121</td>\n",
       "      <td>4</td>\n",
       "      <td>1.777778</td>\n",
       "      <td>1.000000</td>\n",
       "      <td>121.0000</td>\n",
       "      <td>1444</td>\n",
       "      <td>4</td>\n",
       "    </tr>\n",
       "    <tr>\n",
       "      <th>8</th>\n",
       "      <td>ID_1284f8aad</td>\n",
       "      <td>130000.0</td>\n",
       "      <td>1</td>\n",
       "      <td>2</td>\n",
       "      <td>0</td>\n",
       "      <td>1</td>\n",
       "      <td>1</td>\n",
       "      <td>0</td>\n",
       "      <td>NaN</td>\n",
       "      <td>0</td>\n",
       "      <td>...</td>\n",
       "      <td>81</td>\n",
       "      <td>900</td>\n",
       "      <td>16</td>\n",
       "      <td>81</td>\n",
       "      <td>4</td>\n",
       "      <td>16.000000</td>\n",
       "      <td>1.000000</td>\n",
       "      <td>100.0000</td>\n",
       "      <td>900</td>\n",
       "      <td>4</td>\n",
       "    </tr>\n",
       "    <tr>\n",
       "      <th>...</th>\n",
       "      <td>...</td>\n",
       "      <td>...</td>\n",
       "      <td>...</td>\n",
       "      <td>...</td>\n",
       "      <td>...</td>\n",
       "      <td>...</td>\n",
       "      <td>...</td>\n",
       "      <td>...</td>\n",
       "      <td>...</td>\n",
       "      <td>...</td>\n",
       "      <td>...</td>\n",
       "      <td>...</td>\n",
       "      <td>...</td>\n",
       "      <td>...</td>\n",
       "      <td>...</td>\n",
       "      <td>...</td>\n",
       "      <td>...</td>\n",
       "      <td>...</td>\n",
       "      <td>...</td>\n",
       "      <td>...</td>\n",
       "      <td>...</td>\n",
       "    </tr>\n",
       "    <tr>\n",
       "      <th>9535</th>\n",
       "      <td>ID_18b0a845b</td>\n",
       "      <td>NaN</td>\n",
       "      <td>0</td>\n",
       "      <td>4</td>\n",
       "      <td>0</td>\n",
       "      <td>1</td>\n",
       "      <td>0</td>\n",
       "      <td>0</td>\n",
       "      <td>NaN</td>\n",
       "      <td>1</td>\n",
       "      <td>...</td>\n",
       "      <td>25</td>\n",
       "      <td>676</td>\n",
       "      <td>25</td>\n",
       "      <td>0</td>\n",
       "      <td>9</td>\n",
       "      <td>6.250000</td>\n",
       "      <td>2.250000</td>\n",
       "      <td>20.2500</td>\n",
       "      <td>676</td>\n",
       "      <td>1</td>\n",
       "    </tr>\n",
       "    <tr>\n",
       "      <th>9541</th>\n",
       "      <td>ID_a31274054</td>\n",
       "      <td>NaN</td>\n",
       "      <td>0</td>\n",
       "      <td>3</td>\n",
       "      <td>0</td>\n",
       "      <td>0</td>\n",
       "      <td>0</td>\n",
       "      <td>0</td>\n",
       "      <td>NaN</td>\n",
       "      <td>2</td>\n",
       "      <td>...</td>\n",
       "      <td>4</td>\n",
       "      <td>1600</td>\n",
       "      <td>25</td>\n",
       "      <td>4</td>\n",
       "      <td>9</td>\n",
       "      <td>6.250000</td>\n",
       "      <td>2.250000</td>\n",
       "      <td>16.0000</td>\n",
       "      <td>1600</td>\n",
       "      <td>2</td>\n",
       "    </tr>\n",
       "    <tr>\n",
       "      <th>9545</th>\n",
       "      <td>ID_32a00a8bf</td>\n",
       "      <td>46500.0</td>\n",
       "      <td>0</td>\n",
       "      <td>5</td>\n",
       "      <td>0</td>\n",
       "      <td>1</td>\n",
       "      <td>1</td>\n",
       "      <td>0</td>\n",
       "      <td>NaN</td>\n",
       "      <td>1</td>\n",
       "      <td>...</td>\n",
       "      <td>4</td>\n",
       "      <td>2025</td>\n",
       "      <td>25</td>\n",
       "      <td>4</td>\n",
       "      <td>4</td>\n",
       "      <td>5.444444</td>\n",
       "      <td>0.444444</td>\n",
       "      <td>100.0000</td>\n",
       "      <td>2025</td>\n",
       "      <td>4</td>\n",
       "    </tr>\n",
       "    <tr>\n",
       "      <th>9551</th>\n",
       "      <td>ID_79d39dddc</td>\n",
       "      <td>NaN</td>\n",
       "      <td>0</td>\n",
       "      <td>3</td>\n",
       "      <td>0</td>\n",
       "      <td>1</td>\n",
       "      <td>1</td>\n",
       "      <td>0</td>\n",
       "      <td>NaN</td>\n",
       "      <td>0</td>\n",
       "      <td>...</td>\n",
       "      <td>0</td>\n",
       "      <td>4489</td>\n",
       "      <td>4</td>\n",
       "      <td>0</td>\n",
       "      <td>0</td>\n",
       "      <td>4.000000</td>\n",
       "      <td>1.000000</td>\n",
       "      <td>9.0000</td>\n",
       "      <td>4489</td>\n",
       "      <td>2</td>\n",
       "    </tr>\n",
       "    <tr>\n",
       "      <th>9552</th>\n",
       "      <td>ID_d45ae367d</td>\n",
       "      <td>80000.0</td>\n",
       "      <td>0</td>\n",
       "      <td>6</td>\n",
       "      <td>0</td>\n",
       "      <td>1</td>\n",
       "      <td>1</td>\n",
       "      <td>0</td>\n",
       "      <td>NaN</td>\n",
       "      <td>0</td>\n",
       "      <td>...</td>\n",
       "      <td>81</td>\n",
       "      <td>2116</td>\n",
       "      <td>25</td>\n",
       "      <td>81</td>\n",
       "      <td>1</td>\n",
       "      <td>1.562500</td>\n",
       "      <td>0.062500</td>\n",
       "      <td>68.0625</td>\n",
       "      <td>2116</td>\n",
       "      <td>2</td>\n",
       "    </tr>\n",
       "  </tbody>\n",
       "</table>\n",
       "<p>2973 rows × 143 columns</p>\n",
       "</div>"
      ],
      "text/plain": [
       "                Id      v2a1  hacdor  rooms  hacapo  v14a  refrig  v18q  \\\n",
       "0     ID_279628684  190000.0       0      3       0     1       1     0   \n",
       "1     ID_f29eb3ddd  135000.0       0      4       0     1       1     1   \n",
       "2     ID_68de51c94       NaN       0      8       0     1       1     0   \n",
       "5     ID_ec05b1a7b  180000.0       0      5       0     1       1     1   \n",
       "8     ID_1284f8aad  130000.0       1      2       0     1       1     0   \n",
       "...            ...       ...     ...    ...     ...   ...     ...   ...   \n",
       "9535  ID_18b0a845b       NaN       0      4       0     1       0     0   \n",
       "9541  ID_a31274054       NaN       0      3       0     0       0     0   \n",
       "9545  ID_32a00a8bf   46500.0       0      5       0     1       1     0   \n",
       "9551  ID_79d39dddc       NaN       0      3       0     1       1     0   \n",
       "9552  ID_d45ae367d   80000.0       0      6       0     1       1     0   \n",
       "\n",
       "      v18q1  r4h1  ...  SQBescolari  SQBage  SQBhogar_total  SQBedjefe  \\\n",
       "0       NaN     0  ...          100    1849               1        100   \n",
       "1       1.0     0  ...          144    4489               1        144   \n",
       "2       NaN     0  ...          121    8464               1          0   \n",
       "5       1.0     0  ...          121    1444              16        121   \n",
       "8       NaN     0  ...           81     900              16         81   \n",
       "...     ...   ...  ...          ...     ...             ...        ...   \n",
       "9535    NaN     1  ...           25     676              25          0   \n",
       "9541    NaN     2  ...            4    1600              25          4   \n",
       "9545    NaN     1  ...            4    2025              25          4   \n",
       "9551    NaN     0  ...            0    4489               4          0   \n",
       "9552    NaN     0  ...           81    2116              25         81   \n",
       "\n",
       "      SQBhogar_nin  SQBovercrowding  SQBdependency  SQBmeaned  agesq  Target  \n",
       "0                0         1.000000       0.000000   100.0000   1849       4  \n",
       "1                0         1.000000      64.000000   144.0000   4489       4  \n",
       "2                0         0.250000      64.000000   121.0000   8464       4  \n",
       "5                4         1.777778       1.000000   121.0000   1444       4  \n",
       "8                4        16.000000       1.000000   100.0000    900       4  \n",
       "...            ...              ...            ...        ...    ...     ...  \n",
       "9535             9         6.250000       2.250000    20.2500    676       1  \n",
       "9541             9         6.250000       2.250000    16.0000   1600       2  \n",
       "9545             4         5.444444       0.444444   100.0000   2025       4  \n",
       "9551             0         4.000000       1.000000     9.0000   4489       2  \n",
       "9552             1         1.562500       0.062500    68.0625   2116       2  \n",
       "\n",
       "[2973 rows x 143 columns]"
      ]
     },
     "execution_count": 319,
     "metadata": {},
     "output_type": "execute_result"
    }
   ],
   "source": [
    "train_csv"
   ]
  },
  {
   "cell_type": "code",
   "execution_count": 587,
   "metadata": {},
   "outputs": [],
   "source": [
    "test_csv['dependency'].replace('no','0',inplace=True)\n",
    "test_csv['edjefe'].replace('no','0',inplace=True)\n",
    "test_csv['edjefa'].replace('no','0',inplace=True)\n",
    "test_csv['dependency'].replace('yes',np.nan,inplace=True)  # yes는 평균값으로 바꾸기 위해 임시로 NaN 값을 넣어준다.\n",
    "test_csv['edjefe'].replace('yes',np.nan,inplace=True)  # yes는 평균값으로 바꾸기 위해 임시로 NaN 값을 넣어준다.\n",
    "test_csv['edjefa'].replace('yes',np.nan,inplace=True)  # yes는 평균값으로 바꾸기 위해 임시로 NaN 값을 넣어준다."
   ]
  },
  {
   "cell_type": "code",
   "execution_count": 588,
   "metadata": {},
   "outputs": [
    {
     "data": {
      "text/plain": [
       "array([0.5       , 0.        , 8.        ,        nan, 0.25      ,\n",
       "       2.        , 0.33333334, 0.375     , 0.60000002, 1.5       ,\n",
       "       0.2       , 0.75      , 0.66666669, 3.        , 0.14285715,\n",
       "       0.40000001, 0.80000001, 1.6666666 , 0.2857143 , 1.25      ,\n",
       "       2.5       , 5.        , 0.85714287, 1.3333334 , 0.16666667,\n",
       "       4.        , 0.125     , 0.83333331, 2.3333333 , 7.        ,\n",
       "       1.2       , 3.5       , 2.25      , 3.3333333 , 6.        ])"
      ]
     },
     "execution_count": 588,
     "metadata": {},
     "output_type": "execute_result"
    }
   ],
   "source": [
    "test_csv = test_csv.astype({'dependency' : 'float'})\n",
    "test_csv['dependency'].unique()"
   ]
  },
  {
   "cell_type": "code",
   "execution_count": 589,
   "metadata": {},
   "outputs": [
    {
     "data": {
      "text/plain": [
       "array([ 0., 16., 10.,  6., 11.,  8., 13., 14.,  5.,  3.,  9., 17., 15.,\n",
       "        7., 21.,  4., 12.,  2., 20., nan, 19., 18.])"
      ]
     },
     "execution_count": 589,
     "metadata": {},
     "output_type": "execute_result"
    }
   ],
   "source": [
    "test_csv = test_csv.astype({'edjefe' : 'float'})\n",
    "test_csv['edjefe'].unique()"
   ]
  },
  {
   "cell_type": "code",
   "execution_count": 590,
   "metadata": {},
   "outputs": [
    {
     "data": {
      "text/plain": [
       "array([17.,  0., 11., 14., 10., 15.,  9.,  6.,  8.,  3.,  2.,  5., 16.,\n",
       "       12., nan,  7., 13., 21.,  4., 19., 18., 20.])"
      ]
     },
     "execution_count": 590,
     "metadata": {},
     "output_type": "execute_result"
    }
   ],
   "source": [
    "test_csv = test_csv.astype({'edjefa' : 'float'})\n",
    "test_csv['edjefa'].unique()"
   ]
  },
  {
   "cell_type": "code",
   "execution_count": 591,
   "metadata": {},
   "outputs": [
    {
     "data": {
      "text/plain": [
       "1.51"
      ]
     },
     "execution_count": 591,
     "metadata": {},
     "output_type": "execute_result"
    }
   ],
   "source": [
    "mean = round(test_csv['dependency'].mean(),2) \n",
    "mean"
   ]
  },
  {
   "cell_type": "code",
   "execution_count": 592,
   "metadata": {},
   "outputs": [],
   "source": [
    "test_csv['dependency'].replace(np.nan,mean,inplace=True)"
   ]
  },
  {
   "cell_type": "code",
   "execution_count": 593,
   "metadata": {},
   "outputs": [
    {
     "data": {
      "text/plain": [
       "5.06"
      ]
     },
     "execution_count": 593,
     "metadata": {},
     "output_type": "execute_result"
    }
   ],
   "source": [
    "mean = round(test_csv['edjefe'].mean(),2)\n",
    "mean"
   ]
  },
  {
   "cell_type": "code",
   "execution_count": 594,
   "metadata": {},
   "outputs": [],
   "source": [
    "test_csv['edjefe'].replace(np.nan,mean,inplace=True)"
   ]
  },
  {
   "cell_type": "code",
   "execution_count": 595,
   "metadata": {},
   "outputs": [
    {
     "data": {
      "text/plain": [
       "3.09"
      ]
     },
     "execution_count": 595,
     "metadata": {},
     "output_type": "execute_result"
    }
   ],
   "source": [
    "mean = round(test_csv['edjefa'].mean(),2)\n",
    "mean"
   ]
  },
  {
   "cell_type": "code",
   "execution_count": 596,
   "metadata": {},
   "outputs": [],
   "source": [
    "test_csv['edjefa'].replace(np.nan,mean,inplace=True)"
   ]
  },
  {
   "cell_type": "code",
   "execution_count": 597,
   "metadata": {},
   "outputs": [
    {
     "data": {
      "text/plain": [
       "array([0.5       , 0.        , 8.        , 1.51      , 0.25      ,\n",
       "       2.        , 0.33333334, 0.375     , 0.60000002, 1.5       ,\n",
       "       0.2       , 0.75      , 0.66666669, 3.        , 0.14285715,\n",
       "       0.40000001, 0.80000001, 1.6666666 , 0.2857143 , 1.25      ,\n",
       "       2.5       , 5.        , 0.85714287, 1.3333334 , 0.16666667,\n",
       "       4.        , 0.125     , 0.83333331, 2.3333333 , 7.        ,\n",
       "       1.2       , 3.5       , 2.25      , 3.3333333 , 6.        ])"
      ]
     },
     "execution_count": 597,
     "metadata": {},
     "output_type": "execute_result"
    }
   ],
   "source": [
    "test_csv['dependency'].unique()"
   ]
  },
  {
   "cell_type": "code",
   "execution_count": 373,
   "metadata": {},
   "outputs": [
    {
     "data": {
      "text/plain": [
       "array([ 0.  , 16.  , 10.  ,  6.  , 11.  ,  8.  , 13.  , 14.  ,  5.  ,\n",
       "        3.  ,  9.  , 17.  , 15.  ,  7.  , 21.  ,  4.  , 12.  ,  2.  ,\n",
       "       20.  ,  5.06, 19.  , 18.  ])"
      ]
     },
     "execution_count": 373,
     "metadata": {},
     "output_type": "execute_result"
    }
   ],
   "source": [
    "test_csv['edjefe'].unique()"
   ]
  },
  {
   "cell_type": "code",
   "execution_count": 374,
   "metadata": {},
   "outputs": [
    {
     "data": {
      "text/plain": [
       "array([17.  ,  0.  , 11.  , 14.  , 10.  , 15.  ,  9.  ,  6.  ,  8.  ,\n",
       "        3.  ,  2.  ,  5.  , 16.  , 12.  ,  3.09,  7.  , 13.  , 21.  ,\n",
       "        4.  , 19.  , 18.  , 20.  ])"
      ]
     },
     "execution_count": 374,
     "metadata": {},
     "output_type": "execute_result"
    }
   ],
   "source": [
    "test_csv['edjefa'].unique()"
   ]
  },
  {
   "cell_type": "code",
   "execution_count": 541,
   "metadata": {},
   "outputs": [
    {
     "data": {
      "text/html": [
       "<div>\n",
       "<style scoped>\n",
       "    .dataframe tbody tr th:only-of-type {\n",
       "        vertical-align: middle;\n",
       "    }\n",
       "\n",
       "    .dataframe tbody tr th {\n",
       "        vertical-align: top;\n",
       "    }\n",
       "\n",
       "    .dataframe thead th {\n",
       "        text-align: right;\n",
       "    }\n",
       "</style>\n",
       "<table border=\"1\" class=\"dataframe\">\n",
       "  <thead>\n",
       "    <tr style=\"text-align: right;\">\n",
       "      <th></th>\n",
       "      <th>hacdor</th>\n",
       "      <th>rooms</th>\n",
       "      <th>hacapo</th>\n",
       "      <th>v14a</th>\n",
       "      <th>refrig</th>\n",
       "      <th>v18q</th>\n",
       "      <th>r4h1</th>\n",
       "      <th>r4h2</th>\n",
       "      <th>r4h3</th>\n",
       "      <th>r4m1</th>\n",
       "      <th>...</th>\n",
       "      <th>age</th>\n",
       "      <th>SQBescolari</th>\n",
       "      <th>SQBage</th>\n",
       "      <th>SQBhogar_total</th>\n",
       "      <th>SQBedjefe</th>\n",
       "      <th>SQBhogar_nin</th>\n",
       "      <th>SQBovercrowding</th>\n",
       "      <th>SQBdependency</th>\n",
       "      <th>SQBmeaned</th>\n",
       "      <th>agesq</th>\n",
       "    </tr>\n",
       "  </thead>\n",
       "  <tbody>\n",
       "    <tr>\n",
       "      <th>2</th>\n",
       "      <td>0</td>\n",
       "      <td>5</td>\n",
       "      <td>0</td>\n",
       "      <td>1</td>\n",
       "      <td>1</td>\n",
       "      <td>0</td>\n",
       "      <td>1</td>\n",
       "      <td>1</td>\n",
       "      <td>2</td>\n",
       "      <td>0</td>\n",
       "      <td>...</td>\n",
       "      <td>41</td>\n",
       "      <td>289</td>\n",
       "      <td>1681</td>\n",
       "      <td>9</td>\n",
       "      <td>0</td>\n",
       "      <td>1</td>\n",
       "      <td>2.25</td>\n",
       "      <td>0.25</td>\n",
       "      <td>272.250000</td>\n",
       "      <td>1681</td>\n",
       "    </tr>\n",
       "    <tr>\n",
       "      <th>3</th>\n",
       "      <td>0</td>\n",
       "      <td>14</td>\n",
       "      <td>0</td>\n",
       "      <td>1</td>\n",
       "      <td>1</td>\n",
       "      <td>1</td>\n",
       "      <td>0</td>\n",
       "      <td>1</td>\n",
       "      <td>1</td>\n",
       "      <td>0</td>\n",
       "      <td>...</td>\n",
       "      <td>59</td>\n",
       "      <td>256</td>\n",
       "      <td>3481</td>\n",
       "      <td>1</td>\n",
       "      <td>256</td>\n",
       "      <td>0</td>\n",
       "      <td>1.00</td>\n",
       "      <td>0.00</td>\n",
       "      <td>256.000000</td>\n",
       "      <td>3481</td>\n",
       "    </tr>\n",
       "    <tr>\n",
       "      <th>4</th>\n",
       "      <td>0</td>\n",
       "      <td>4</td>\n",
       "      <td>0</td>\n",
       "      <td>1</td>\n",
       "      <td>1</td>\n",
       "      <td>1</td>\n",
       "      <td>0</td>\n",
       "      <td>0</td>\n",
       "      <td>0</td>\n",
       "      <td>0</td>\n",
       "      <td>...</td>\n",
       "      <td>18</td>\n",
       "      <td>121</td>\n",
       "      <td>324</td>\n",
       "      <td>1</td>\n",
       "      <td>0</td>\n",
       "      <td>1</td>\n",
       "      <td>0.25</td>\n",
       "      <td>64.00</td>\n",
       "      <td>100.017252</td>\n",
       "      <td>324</td>\n",
       "    </tr>\n",
       "    <tr>\n",
       "      <th>6</th>\n",
       "      <td>0</td>\n",
       "      <td>3</td>\n",
       "      <td>0</td>\n",
       "      <td>1</td>\n",
       "      <td>1</td>\n",
       "      <td>1</td>\n",
       "      <td>0</td>\n",
       "      <td>0</td>\n",
       "      <td>0</td>\n",
       "      <td>0</td>\n",
       "      <td>...</td>\n",
       "      <td>42</td>\n",
       "      <td>121</td>\n",
       "      <td>1764</td>\n",
       "      <td>4</td>\n",
       "      <td>0</td>\n",
       "      <td>0</td>\n",
       "      <td>1.00</td>\n",
       "      <td>0.00</td>\n",
       "      <td>182.250000</td>\n",
       "      <td>1764</td>\n",
       "    </tr>\n",
       "    <tr>\n",
       "      <th>8</th>\n",
       "      <td>0</td>\n",
       "      <td>6</td>\n",
       "      <td>0</td>\n",
       "      <td>1</td>\n",
       "      <td>1</td>\n",
       "      <td>1</td>\n",
       "      <td>0</td>\n",
       "      <td>0</td>\n",
       "      <td>0</td>\n",
       "      <td>0</td>\n",
       "      <td>...</td>\n",
       "      <td>22</td>\n",
       "      <td>196</td>\n",
       "      <td>484</td>\n",
       "      <td>4</td>\n",
       "      <td>0</td>\n",
       "      <td>0</td>\n",
       "      <td>0.25</td>\n",
       "      <td>0.00</td>\n",
       "      <td>196.000000</td>\n",
       "      <td>484</td>\n",
       "    </tr>\n",
       "    <tr>\n",
       "      <th>...</th>\n",
       "      <td>...</td>\n",
       "      <td>...</td>\n",
       "      <td>...</td>\n",
       "      <td>...</td>\n",
       "      <td>...</td>\n",
       "      <td>...</td>\n",
       "      <td>...</td>\n",
       "      <td>...</td>\n",
       "      <td>...</td>\n",
       "      <td>...</td>\n",
       "      <td>...</td>\n",
       "      <td>...</td>\n",
       "      <td>...</td>\n",
       "      <td>...</td>\n",
       "      <td>...</td>\n",
       "      <td>...</td>\n",
       "      <td>...</td>\n",
       "      <td>...</td>\n",
       "      <td>...</td>\n",
       "      <td>...</td>\n",
       "      <td>...</td>\n",
       "    </tr>\n",
       "    <tr>\n",
       "      <th>23836</th>\n",
       "      <td>0</td>\n",
       "      <td>4</td>\n",
       "      <td>0</td>\n",
       "      <td>0</td>\n",
       "      <td>0</td>\n",
       "      <td>0</td>\n",
       "      <td>1</td>\n",
       "      <td>0</td>\n",
       "      <td>1</td>\n",
       "      <td>0</td>\n",
       "      <td>...</td>\n",
       "      <td>68</td>\n",
       "      <td>9</td>\n",
       "      <td>4624</td>\n",
       "      <td>4</td>\n",
       "      <td>0</td>\n",
       "      <td>1</td>\n",
       "      <td>1.00</td>\n",
       "      <td>64.00</td>\n",
       "      <td>9.000000</td>\n",
       "      <td>4624</td>\n",
       "    </tr>\n",
       "    <tr>\n",
       "      <th>23841</th>\n",
       "      <td>0</td>\n",
       "      <td>4</td>\n",
       "      <td>0</td>\n",
       "      <td>1</td>\n",
       "      <td>1</td>\n",
       "      <td>0</td>\n",
       "      <td>1</td>\n",
       "      <td>1</td>\n",
       "      <td>2</td>\n",
       "      <td>1</td>\n",
       "      <td>...</td>\n",
       "      <td>42</td>\n",
       "      <td>16</td>\n",
       "      <td>1764</td>\n",
       "      <td>36</td>\n",
       "      <td>16</td>\n",
       "      <td>16</td>\n",
       "      <td>9.00</td>\n",
       "      <td>4.00</td>\n",
       "      <td>25.000000</td>\n",
       "      <td>1764</td>\n",
       "    </tr>\n",
       "    <tr>\n",
       "      <th>23843</th>\n",
       "      <td>0</td>\n",
       "      <td>5</td>\n",
       "      <td>0</td>\n",
       "      <td>1</td>\n",
       "      <td>1</td>\n",
       "      <td>0</td>\n",
       "      <td>0</td>\n",
       "      <td>1</td>\n",
       "      <td>1</td>\n",
       "      <td>0</td>\n",
       "      <td>...</td>\n",
       "      <td>47</td>\n",
       "      <td>0</td>\n",
       "      <td>2209</td>\n",
       "      <td>9</td>\n",
       "      <td>0</td>\n",
       "      <td>1</td>\n",
       "      <td>1.00</td>\n",
       "      <td>0.25</td>\n",
       "      <td>30.250000</td>\n",
       "      <td>2209</td>\n",
       "    </tr>\n",
       "    <tr>\n",
       "      <th>23847</th>\n",
       "      <td>1</td>\n",
       "      <td>2</td>\n",
       "      <td>1</td>\n",
       "      <td>1</td>\n",
       "      <td>1</td>\n",
       "      <td>0</td>\n",
       "      <td>0</td>\n",
       "      <td>2</td>\n",
       "      <td>2</td>\n",
       "      <td>1</td>\n",
       "      <td>...</td>\n",
       "      <td>57</td>\n",
       "      <td>25</td>\n",
       "      <td>3249</td>\n",
       "      <td>36</td>\n",
       "      <td>25</td>\n",
       "      <td>4</td>\n",
       "      <td>36.00</td>\n",
       "      <td>0.25</td>\n",
       "      <td>33.062500</td>\n",
       "      <td>3249</td>\n",
       "    </tr>\n",
       "    <tr>\n",
       "      <th>23852</th>\n",
       "      <td>0</td>\n",
       "      <td>3</td>\n",
       "      <td>0</td>\n",
       "      <td>1</td>\n",
       "      <td>1</td>\n",
       "      <td>0</td>\n",
       "      <td>0</td>\n",
       "      <td>1</td>\n",
       "      <td>1</td>\n",
       "      <td>0</td>\n",
       "      <td>...</td>\n",
       "      <td>54</td>\n",
       "      <td>36</td>\n",
       "      <td>2916</td>\n",
       "      <td>16</td>\n",
       "      <td>36</td>\n",
       "      <td>4</td>\n",
       "      <td>4.00</td>\n",
       "      <td>1.00</td>\n",
       "      <td>36.000000</td>\n",
       "      <td>2916</td>\n",
       "    </tr>\n",
       "  </tbody>\n",
       "</table>\n",
       "<p>7334 rows × 137 columns</p>\n",
       "</div>"
      ],
      "text/plain": [
       "       hacdor  rooms  hacapo  v14a  refrig  v18q  r4h1  r4h2  r4h3  r4m1  ...  \\\n",
       "2           0      5       0     1       1     0     1     1     2     0  ...   \n",
       "3           0     14       0     1       1     1     0     1     1     0  ...   \n",
       "4           0      4       0     1       1     1     0     0     0     0  ...   \n",
       "6           0      3       0     1       1     1     0     0     0     0  ...   \n",
       "8           0      6       0     1       1     1     0     0     0     0  ...   \n",
       "...       ...    ...     ...   ...     ...   ...   ...   ...   ...   ...  ...   \n",
       "23836       0      4       0     0       0     0     1     0     1     0  ...   \n",
       "23841       0      4       0     1       1     0     1     1     2     1  ...   \n",
       "23843       0      5       0     1       1     0     0     1     1     0  ...   \n",
       "23847       1      2       1     1       1     0     0     2     2     1  ...   \n",
       "23852       0      3       0     1       1     0     0     1     1     0  ...   \n",
       "\n",
       "       age  SQBescolari  SQBage  SQBhogar_total  SQBedjefe  SQBhogar_nin  \\\n",
       "2       41          289    1681               9          0             1   \n",
       "3       59          256    3481               1        256             0   \n",
       "4       18          121     324               1          0             1   \n",
       "6       42          121    1764               4          0             0   \n",
       "8       22          196     484               4          0             0   \n",
       "...    ...          ...     ...             ...        ...           ...   \n",
       "23836   68            9    4624               4          0             1   \n",
       "23841   42           16    1764              36         16            16   \n",
       "23843   47            0    2209               9          0             1   \n",
       "23847   57           25    3249              36         25             4   \n",
       "23852   54           36    2916              16         36             4   \n",
       "\n",
       "       SQBovercrowding  SQBdependency   SQBmeaned  agesq  \n",
       "2                 2.25           0.25  272.250000   1681  \n",
       "3                 1.00           0.00  256.000000   3481  \n",
       "4                 0.25          64.00  100.017252    324  \n",
       "6                 1.00           0.00  182.250000   1764  \n",
       "8                 0.25           0.00  196.000000    484  \n",
       "...                ...            ...         ...    ...  \n",
       "23836             1.00          64.00    9.000000   4624  \n",
       "23841             9.00           4.00   25.000000   1764  \n",
       "23843             1.00           0.25   30.250000   2209  \n",
       "23847            36.00           0.25   33.062500   3249  \n",
       "23852             4.00           1.00   36.000000   2916  \n",
       "\n",
       "[7334 rows x 137 columns]"
      ]
     },
     "execution_count": 541,
     "metadata": {},
     "output_type": "execute_result"
    }
   ],
   "source": [
    "test_csv"
   ]
  },
  {
   "cell_type": "markdown",
   "metadata": {},
   "source": [
    "#### Q2: Explore if there are any missing values in the data."
   ]
  },
  {
   "cell_type": "code",
   "execution_count": 577,
   "metadata": {},
   "outputs": [
    {
     "data": {
      "text/plain": [
       "rez_esc        2972\n",
       "v18q1          2318\n",
       "v2a1           2156\n",
       "meaneduc          3\n",
       "SQBmeaned         3\n",
       "               ... \n",
       "hogar_total       0\n",
       "dependency        0\n",
       "edjefe            0\n",
       "edjefa            0\n",
       "Id                0\n",
       "Length: 143, dtype: int64"
      ]
     },
     "execution_count": 577,
     "metadata": {},
     "output_type": "execute_result"
    }
   ],
   "source": [
    "train_csv.isna().sum().sort_values(ascending=False)"
   ]
  },
  {
   "cell_type": "code",
   "execution_count": 578,
   "metadata": {},
   "outputs": [
    {
     "data": {
      "text/plain": [
       "rez_esc      True\n",
       "v18q1        True\n",
       "v2a1         True\n",
       "meaneduc     True\n",
       "SQBmeaned    True\n",
       "dtype: bool"
      ]
     },
     "execution_count": 578,
     "metadata": {},
     "output_type": "execute_result"
    }
   ],
   "source": [
    "df = train_csv.isna().sum().sort_values(ascending=False)>0\n",
    "df[df == True]  # 5개가 True이니까 5개의 feature만 missing value를 처리해주면 된다."
   ]
  },
  {
   "cell_type": "code",
   "execution_count": 598,
   "metadata": {},
   "outputs": [
    {
     "data": {
      "text/plain": [
       "rez_esc       7330\n",
       "v18q1         5726\n",
       "v2a1          5400\n",
       "SQBmeaned       17\n",
       "meaneduc        17\n",
       "              ... \n",
       "dependency       0\n",
       "edjefe           0\n",
       "edjefa           0\n",
       "instlevel1       0\n",
       "Id               0\n",
       "Length: 142, dtype: int64"
      ]
     },
     "execution_count": 598,
     "metadata": {},
     "output_type": "execute_result"
    }
   ],
   "source": [
    "test_csv.isna().sum().sort_values(ascending=False)"
   ]
  },
  {
   "cell_type": "code",
   "execution_count": 599,
   "metadata": {},
   "outputs": [
    {
     "data": {
      "text/plain": [
       "rez_esc      True\n",
       "v18q1        True\n",
       "v2a1         True\n",
       "SQBmeaned    True\n",
       "meaneduc     True\n",
       "dtype: bool"
      ]
     },
     "execution_count": 599,
     "metadata": {},
     "output_type": "execute_result"
    }
   ],
   "source": [
    "df2 = test_csv.isna().sum().sort_values(ascending=False)>0\n",
    "df2[df2 == True]  # 5개가 True이니까 5개의 feature만 missing value를 처리해주면 된다."
   ]
  },
  {
   "cell_type": "markdown",
   "metadata": {},
   "source": [
    "#### Q3: Determine how these missing values should be handled."
   ]
  },
  {
   "cell_type": "code",
   "execution_count": 579,
   "metadata": {
    "scrolled": true
   },
   "outputs": [
    {
     "data": {
      "text/html": [
       "<div>\n",
       "<style scoped>\n",
       "    .dataframe tbody tr th:only-of-type {\n",
       "        vertical-align: middle;\n",
       "    }\n",
       "\n",
       "    .dataframe tbody tr th {\n",
       "        vertical-align: top;\n",
       "    }\n",
       "\n",
       "    .dataframe thead th {\n",
       "        text-align: right;\n",
       "    }\n",
       "</style>\n",
       "<table border=\"1\" class=\"dataframe\">\n",
       "  <thead>\n",
       "    <tr style=\"text-align: right;\">\n",
       "      <th></th>\n",
       "      <th>rez_esc</th>\n",
       "      <th>v18q1</th>\n",
       "      <th>v2a1</th>\n",
       "      <th>meaneduc</th>\n",
       "      <th>SQBmeaned</th>\n",
       "    </tr>\n",
       "  </thead>\n",
       "  <tbody>\n",
       "    <tr>\n",
       "      <th>0</th>\n",
       "      <td>NaN</td>\n",
       "      <td>NaN</td>\n",
       "      <td>190000.0</td>\n",
       "      <td>10.00</td>\n",
       "      <td>100.0000</td>\n",
       "    </tr>\n",
       "    <tr>\n",
       "      <th>1</th>\n",
       "      <td>NaN</td>\n",
       "      <td>1.0</td>\n",
       "      <td>135000.0</td>\n",
       "      <td>12.00</td>\n",
       "      <td>144.0000</td>\n",
       "    </tr>\n",
       "    <tr>\n",
       "      <th>2</th>\n",
       "      <td>NaN</td>\n",
       "      <td>NaN</td>\n",
       "      <td>NaN</td>\n",
       "      <td>11.00</td>\n",
       "      <td>121.0000</td>\n",
       "    </tr>\n",
       "    <tr>\n",
       "      <th>5</th>\n",
       "      <td>NaN</td>\n",
       "      <td>1.0</td>\n",
       "      <td>180000.0</td>\n",
       "      <td>11.00</td>\n",
       "      <td>121.0000</td>\n",
       "    </tr>\n",
       "    <tr>\n",
       "      <th>8</th>\n",
       "      <td>NaN</td>\n",
       "      <td>NaN</td>\n",
       "      <td>130000.0</td>\n",
       "      <td>10.00</td>\n",
       "      <td>100.0000</td>\n",
       "    </tr>\n",
       "    <tr>\n",
       "      <th>...</th>\n",
       "      <td>...</td>\n",
       "      <td>...</td>\n",
       "      <td>...</td>\n",
       "      <td>...</td>\n",
       "      <td>...</td>\n",
       "    </tr>\n",
       "    <tr>\n",
       "      <th>9535</th>\n",
       "      <td>NaN</td>\n",
       "      <td>NaN</td>\n",
       "      <td>NaN</td>\n",
       "      <td>4.50</td>\n",
       "      <td>20.2500</td>\n",
       "    </tr>\n",
       "    <tr>\n",
       "      <th>9541</th>\n",
       "      <td>NaN</td>\n",
       "      <td>NaN</td>\n",
       "      <td>NaN</td>\n",
       "      <td>4.00</td>\n",
       "      <td>16.0000</td>\n",
       "    </tr>\n",
       "    <tr>\n",
       "      <th>9545</th>\n",
       "      <td>NaN</td>\n",
       "      <td>NaN</td>\n",
       "      <td>46500.0</td>\n",
       "      <td>10.00</td>\n",
       "      <td>100.0000</td>\n",
       "    </tr>\n",
       "    <tr>\n",
       "      <th>9551</th>\n",
       "      <td>NaN</td>\n",
       "      <td>NaN</td>\n",
       "      <td>NaN</td>\n",
       "      <td>3.00</td>\n",
       "      <td>9.0000</td>\n",
       "    </tr>\n",
       "    <tr>\n",
       "      <th>9552</th>\n",
       "      <td>NaN</td>\n",
       "      <td>NaN</td>\n",
       "      <td>80000.0</td>\n",
       "      <td>8.25</td>\n",
       "      <td>68.0625</td>\n",
       "    </tr>\n",
       "  </tbody>\n",
       "</table>\n",
       "<p>2973 rows × 5 columns</p>\n",
       "</div>"
      ],
      "text/plain": [
       "      rez_esc  v18q1      v2a1  meaneduc  SQBmeaned\n",
       "0         NaN    NaN  190000.0     10.00   100.0000\n",
       "1         NaN    1.0  135000.0     12.00   144.0000\n",
       "2         NaN    NaN       NaN     11.00   121.0000\n",
       "5         NaN    1.0  180000.0     11.00   121.0000\n",
       "8         NaN    NaN  130000.0     10.00   100.0000\n",
       "...       ...    ...       ...       ...        ...\n",
       "9535      NaN    NaN       NaN      4.50    20.2500\n",
       "9541      NaN    NaN       NaN      4.00    16.0000\n",
       "9545      NaN    NaN   46500.0     10.00   100.0000\n",
       "9551      NaN    NaN       NaN      3.00     9.0000\n",
       "9552      NaN    NaN   80000.0      8.25    68.0625\n",
       "\n",
       "[2973 rows x 5 columns]"
      ]
     },
     "execution_count": 579,
     "metadata": {},
     "output_type": "execute_result"
    }
   ],
   "source": [
    "train_csv[['rez_esc','v18q1','v2a1','meaneduc','SQBmeaned']]"
   ]
  },
  {
   "cell_type": "code",
   "execution_count": 580,
   "metadata": {
    "scrolled": true
   },
   "outputs": [
    {
     "data": {
      "text/html": [
       "<div>\n",
       "<style scoped>\n",
       "    .dataframe tbody tr th:only-of-type {\n",
       "        vertical-align: middle;\n",
       "    }\n",
       "\n",
       "    .dataframe tbody tr th {\n",
       "        vertical-align: top;\n",
       "    }\n",
       "\n",
       "    .dataframe thead th {\n",
       "        text-align: right;\n",
       "    }\n",
       "</style>\n",
       "<table border=\"1\" class=\"dataframe\">\n",
       "  <thead>\n",
       "    <tr style=\"text-align: right;\">\n",
       "      <th></th>\n",
       "      <th>Id</th>\n",
       "      <th>hacdor</th>\n",
       "      <th>rooms</th>\n",
       "      <th>hacapo</th>\n",
       "      <th>v14a</th>\n",
       "      <th>refrig</th>\n",
       "      <th>v18q</th>\n",
       "      <th>r4h1</th>\n",
       "      <th>r4h2</th>\n",
       "      <th>r4h3</th>\n",
       "      <th>...</th>\n",
       "      <th>SQBescolari</th>\n",
       "      <th>SQBage</th>\n",
       "      <th>SQBhogar_total</th>\n",
       "      <th>SQBedjefe</th>\n",
       "      <th>SQBhogar_nin</th>\n",
       "      <th>SQBovercrowding</th>\n",
       "      <th>SQBdependency</th>\n",
       "      <th>SQBmeaned</th>\n",
       "      <th>agesq</th>\n",
       "      <th>Target</th>\n",
       "    </tr>\n",
       "  </thead>\n",
       "  <tbody>\n",
       "    <tr>\n",
       "      <th>0</th>\n",
       "      <td>ID_279628684</td>\n",
       "      <td>0</td>\n",
       "      <td>3</td>\n",
       "      <td>0</td>\n",
       "      <td>1</td>\n",
       "      <td>1</td>\n",
       "      <td>0</td>\n",
       "      <td>0</td>\n",
       "      <td>1</td>\n",
       "      <td>1</td>\n",
       "      <td>...</td>\n",
       "      <td>100</td>\n",
       "      <td>1849</td>\n",
       "      <td>1</td>\n",
       "      <td>100</td>\n",
       "      <td>0</td>\n",
       "      <td>1.000000</td>\n",
       "      <td>0.000000</td>\n",
       "      <td>100.0000</td>\n",
       "      <td>1849</td>\n",
       "      <td>4</td>\n",
       "    </tr>\n",
       "    <tr>\n",
       "      <th>1</th>\n",
       "      <td>ID_f29eb3ddd</td>\n",
       "      <td>0</td>\n",
       "      <td>4</td>\n",
       "      <td>0</td>\n",
       "      <td>1</td>\n",
       "      <td>1</td>\n",
       "      <td>1</td>\n",
       "      <td>0</td>\n",
       "      <td>1</td>\n",
       "      <td>1</td>\n",
       "      <td>...</td>\n",
       "      <td>144</td>\n",
       "      <td>4489</td>\n",
       "      <td>1</td>\n",
       "      <td>144</td>\n",
       "      <td>0</td>\n",
       "      <td>1.000000</td>\n",
       "      <td>64.000000</td>\n",
       "      <td>144.0000</td>\n",
       "      <td>4489</td>\n",
       "      <td>4</td>\n",
       "    </tr>\n",
       "    <tr>\n",
       "      <th>2</th>\n",
       "      <td>ID_68de51c94</td>\n",
       "      <td>0</td>\n",
       "      <td>8</td>\n",
       "      <td>0</td>\n",
       "      <td>1</td>\n",
       "      <td>1</td>\n",
       "      <td>0</td>\n",
       "      <td>0</td>\n",
       "      <td>0</td>\n",
       "      <td>0</td>\n",
       "      <td>...</td>\n",
       "      <td>121</td>\n",
       "      <td>8464</td>\n",
       "      <td>1</td>\n",
       "      <td>0</td>\n",
       "      <td>0</td>\n",
       "      <td>0.250000</td>\n",
       "      <td>64.000000</td>\n",
       "      <td>121.0000</td>\n",
       "      <td>8464</td>\n",
       "      <td>4</td>\n",
       "    </tr>\n",
       "    <tr>\n",
       "      <th>5</th>\n",
       "      <td>ID_ec05b1a7b</td>\n",
       "      <td>0</td>\n",
       "      <td>5</td>\n",
       "      <td>0</td>\n",
       "      <td>1</td>\n",
       "      <td>1</td>\n",
       "      <td>1</td>\n",
       "      <td>0</td>\n",
       "      <td>2</td>\n",
       "      <td>2</td>\n",
       "      <td>...</td>\n",
       "      <td>121</td>\n",
       "      <td>1444</td>\n",
       "      <td>16</td>\n",
       "      <td>121</td>\n",
       "      <td>4</td>\n",
       "      <td>1.777778</td>\n",
       "      <td>1.000000</td>\n",
       "      <td>121.0000</td>\n",
       "      <td>1444</td>\n",
       "      <td>4</td>\n",
       "    </tr>\n",
       "    <tr>\n",
       "      <th>8</th>\n",
       "      <td>ID_1284f8aad</td>\n",
       "      <td>1</td>\n",
       "      <td>2</td>\n",
       "      <td>0</td>\n",
       "      <td>1</td>\n",
       "      <td>1</td>\n",
       "      <td>0</td>\n",
       "      <td>0</td>\n",
       "      <td>1</td>\n",
       "      <td>1</td>\n",
       "      <td>...</td>\n",
       "      <td>81</td>\n",
       "      <td>900</td>\n",
       "      <td>16</td>\n",
       "      <td>81</td>\n",
       "      <td>4</td>\n",
       "      <td>16.000000</td>\n",
       "      <td>1.000000</td>\n",
       "      <td>100.0000</td>\n",
       "      <td>900</td>\n",
       "      <td>4</td>\n",
       "    </tr>\n",
       "    <tr>\n",
       "      <th>...</th>\n",
       "      <td>...</td>\n",
       "      <td>...</td>\n",
       "      <td>...</td>\n",
       "      <td>...</td>\n",
       "      <td>...</td>\n",
       "      <td>...</td>\n",
       "      <td>...</td>\n",
       "      <td>...</td>\n",
       "      <td>...</td>\n",
       "      <td>...</td>\n",
       "      <td>...</td>\n",
       "      <td>...</td>\n",
       "      <td>...</td>\n",
       "      <td>...</td>\n",
       "      <td>...</td>\n",
       "      <td>...</td>\n",
       "      <td>...</td>\n",
       "      <td>...</td>\n",
       "      <td>...</td>\n",
       "      <td>...</td>\n",
       "      <td>...</td>\n",
       "    </tr>\n",
       "    <tr>\n",
       "      <th>9535</th>\n",
       "      <td>ID_18b0a845b</td>\n",
       "      <td>0</td>\n",
       "      <td>4</td>\n",
       "      <td>0</td>\n",
       "      <td>1</td>\n",
       "      <td>0</td>\n",
       "      <td>0</td>\n",
       "      <td>1</td>\n",
       "      <td>1</td>\n",
       "      <td>2</td>\n",
       "      <td>...</td>\n",
       "      <td>25</td>\n",
       "      <td>676</td>\n",
       "      <td>25</td>\n",
       "      <td>0</td>\n",
       "      <td>9</td>\n",
       "      <td>6.250000</td>\n",
       "      <td>2.250000</td>\n",
       "      <td>20.2500</td>\n",
       "      <td>676</td>\n",
       "      <td>1</td>\n",
       "    </tr>\n",
       "    <tr>\n",
       "      <th>9541</th>\n",
       "      <td>ID_a31274054</td>\n",
       "      <td>0</td>\n",
       "      <td>3</td>\n",
       "      <td>0</td>\n",
       "      <td>0</td>\n",
       "      <td>0</td>\n",
       "      <td>0</td>\n",
       "      <td>2</td>\n",
       "      <td>2</td>\n",
       "      <td>4</td>\n",
       "      <td>...</td>\n",
       "      <td>4</td>\n",
       "      <td>1600</td>\n",
       "      <td>25</td>\n",
       "      <td>4</td>\n",
       "      <td>9</td>\n",
       "      <td>6.250000</td>\n",
       "      <td>2.250000</td>\n",
       "      <td>16.0000</td>\n",
       "      <td>1600</td>\n",
       "      <td>2</td>\n",
       "    </tr>\n",
       "    <tr>\n",
       "      <th>9545</th>\n",
       "      <td>ID_32a00a8bf</td>\n",
       "      <td>0</td>\n",
       "      <td>5</td>\n",
       "      <td>0</td>\n",
       "      <td>1</td>\n",
       "      <td>1</td>\n",
       "      <td>0</td>\n",
       "      <td>1</td>\n",
       "      <td>2</td>\n",
       "      <td>3</td>\n",
       "      <td>...</td>\n",
       "      <td>4</td>\n",
       "      <td>2025</td>\n",
       "      <td>25</td>\n",
       "      <td>4</td>\n",
       "      <td>4</td>\n",
       "      <td>5.444444</td>\n",
       "      <td>0.444444</td>\n",
       "      <td>100.0000</td>\n",
       "      <td>2025</td>\n",
       "      <td>4</td>\n",
       "    </tr>\n",
       "    <tr>\n",
       "      <th>9551</th>\n",
       "      <td>ID_79d39dddc</td>\n",
       "      <td>0</td>\n",
       "      <td>3</td>\n",
       "      <td>0</td>\n",
       "      <td>1</td>\n",
       "      <td>1</td>\n",
       "      <td>0</td>\n",
       "      <td>0</td>\n",
       "      <td>1</td>\n",
       "      <td>1</td>\n",
       "      <td>...</td>\n",
       "      <td>0</td>\n",
       "      <td>4489</td>\n",
       "      <td>4</td>\n",
       "      <td>0</td>\n",
       "      <td>0</td>\n",
       "      <td>4.000000</td>\n",
       "      <td>1.000000</td>\n",
       "      <td>9.0000</td>\n",
       "      <td>4489</td>\n",
       "      <td>2</td>\n",
       "    </tr>\n",
       "    <tr>\n",
       "      <th>9552</th>\n",
       "      <td>ID_d45ae367d</td>\n",
       "      <td>0</td>\n",
       "      <td>6</td>\n",
       "      <td>0</td>\n",
       "      <td>1</td>\n",
       "      <td>1</td>\n",
       "      <td>0</td>\n",
       "      <td>0</td>\n",
       "      <td>2</td>\n",
       "      <td>2</td>\n",
       "      <td>...</td>\n",
       "      <td>81</td>\n",
       "      <td>2116</td>\n",
       "      <td>25</td>\n",
       "      <td>81</td>\n",
       "      <td>1</td>\n",
       "      <td>1.562500</td>\n",
       "      <td>0.062500</td>\n",
       "      <td>68.0625</td>\n",
       "      <td>2116</td>\n",
       "      <td>2</td>\n",
       "    </tr>\n",
       "  </tbody>\n",
       "</table>\n",
       "<p>2973 rows × 140 columns</p>\n",
       "</div>"
      ],
      "text/plain": [
       "                Id  hacdor  rooms  hacapo  v14a  refrig  v18q  r4h1  r4h2  \\\n",
       "0     ID_279628684       0      3       0     1       1     0     0     1   \n",
       "1     ID_f29eb3ddd       0      4       0     1       1     1     0     1   \n",
       "2     ID_68de51c94       0      8       0     1       1     0     0     0   \n",
       "5     ID_ec05b1a7b       0      5       0     1       1     1     0     2   \n",
       "8     ID_1284f8aad       1      2       0     1       1     0     0     1   \n",
       "...            ...     ...    ...     ...   ...     ...   ...   ...   ...   \n",
       "9535  ID_18b0a845b       0      4       0     1       0     0     1     1   \n",
       "9541  ID_a31274054       0      3       0     0       0     0     2     2   \n",
       "9545  ID_32a00a8bf       0      5       0     1       1     0     1     2   \n",
       "9551  ID_79d39dddc       0      3       0     1       1     0     0     1   \n",
       "9552  ID_d45ae367d       0      6       0     1       1     0     0     2   \n",
       "\n",
       "      r4h3  ...  SQBescolari  SQBage  SQBhogar_total  SQBedjefe  SQBhogar_nin  \\\n",
       "0        1  ...          100    1849               1        100             0   \n",
       "1        1  ...          144    4489               1        144             0   \n",
       "2        0  ...          121    8464               1          0             0   \n",
       "5        2  ...          121    1444              16        121             4   \n",
       "8        1  ...           81     900              16         81             4   \n",
       "...    ...  ...          ...     ...             ...        ...           ...   \n",
       "9535     2  ...           25     676              25          0             9   \n",
       "9541     4  ...            4    1600              25          4             9   \n",
       "9545     3  ...            4    2025              25          4             4   \n",
       "9551     1  ...            0    4489               4          0             0   \n",
       "9552     2  ...           81    2116              25         81             1   \n",
       "\n",
       "      SQBovercrowding  SQBdependency  SQBmeaned  agesq  Target  \n",
       "0            1.000000       0.000000   100.0000   1849       4  \n",
       "1            1.000000      64.000000   144.0000   4489       4  \n",
       "2            0.250000      64.000000   121.0000   8464       4  \n",
       "5            1.777778       1.000000   121.0000   1444       4  \n",
       "8           16.000000       1.000000   100.0000    900       4  \n",
       "...               ...            ...        ...    ...     ...  \n",
       "9535         6.250000       2.250000    20.2500    676       1  \n",
       "9541         6.250000       2.250000    16.0000   1600       2  \n",
       "9545         5.444444       0.444444   100.0000   2025       4  \n",
       "9551         4.000000       1.000000     9.0000   4489       2  \n",
       "9552         1.562500       0.062500    68.0625   2116       2  \n",
       "\n",
       "[2973 rows x 140 columns]"
      ]
     },
     "execution_count": 580,
     "metadata": {},
     "output_type": "execute_result"
    }
   ],
   "source": [
    "train_df = train_csv.drop(['rez_esc','v18q1','v2a1'], axis=1)\n",
    "train_df"
   ]
  },
  {
   "cell_type": "code",
   "execution_count": 582,
   "metadata": {},
   "outputs": [
    {
     "data": {
      "text/html": [
       "<div>\n",
       "<style scoped>\n",
       "    .dataframe tbody tr th:only-of-type {\n",
       "        vertical-align: middle;\n",
       "    }\n",
       "\n",
       "    .dataframe tbody tr th {\n",
       "        vertical-align: top;\n",
       "    }\n",
       "\n",
       "    .dataframe thead th {\n",
       "        text-align: right;\n",
       "    }\n",
       "</style>\n",
       "<table border=\"1\" class=\"dataframe\">\n",
       "  <thead>\n",
       "    <tr style=\"text-align: right;\">\n",
       "      <th></th>\n",
       "      <th>Id</th>\n",
       "      <th>hacdor</th>\n",
       "      <th>rooms</th>\n",
       "      <th>hacapo</th>\n",
       "      <th>v14a</th>\n",
       "      <th>refrig</th>\n",
       "      <th>v18q</th>\n",
       "      <th>r4h1</th>\n",
       "      <th>r4h2</th>\n",
       "      <th>r4h3</th>\n",
       "      <th>...</th>\n",
       "      <th>SQBescolari</th>\n",
       "      <th>SQBage</th>\n",
       "      <th>SQBhogar_total</th>\n",
       "      <th>SQBedjefe</th>\n",
       "      <th>SQBhogar_nin</th>\n",
       "      <th>SQBovercrowding</th>\n",
       "      <th>SQBdependency</th>\n",
       "      <th>SQBmeaned</th>\n",
       "      <th>agesq</th>\n",
       "      <th>Target</th>\n",
       "    </tr>\n",
       "  </thead>\n",
       "  <tbody>\n",
       "    <tr>\n",
       "      <th>0</th>\n",
       "      <td>ID_279628684</td>\n",
       "      <td>0</td>\n",
       "      <td>3</td>\n",
       "      <td>0</td>\n",
       "      <td>1</td>\n",
       "      <td>1</td>\n",
       "      <td>0</td>\n",
       "      <td>0</td>\n",
       "      <td>1</td>\n",
       "      <td>1</td>\n",
       "      <td>...</td>\n",
       "      <td>100</td>\n",
       "      <td>1849</td>\n",
       "      <td>1</td>\n",
       "      <td>100</td>\n",
       "      <td>0</td>\n",
       "      <td>1.000000</td>\n",
       "      <td>0.000000</td>\n",
       "      <td>100.0000</td>\n",
       "      <td>1849</td>\n",
       "      <td>4</td>\n",
       "    </tr>\n",
       "    <tr>\n",
       "      <th>1</th>\n",
       "      <td>ID_f29eb3ddd</td>\n",
       "      <td>0</td>\n",
       "      <td>4</td>\n",
       "      <td>0</td>\n",
       "      <td>1</td>\n",
       "      <td>1</td>\n",
       "      <td>1</td>\n",
       "      <td>0</td>\n",
       "      <td>1</td>\n",
       "      <td>1</td>\n",
       "      <td>...</td>\n",
       "      <td>144</td>\n",
       "      <td>4489</td>\n",
       "      <td>1</td>\n",
       "      <td>144</td>\n",
       "      <td>0</td>\n",
       "      <td>1.000000</td>\n",
       "      <td>64.000000</td>\n",
       "      <td>144.0000</td>\n",
       "      <td>4489</td>\n",
       "      <td>4</td>\n",
       "    </tr>\n",
       "    <tr>\n",
       "      <th>2</th>\n",
       "      <td>ID_68de51c94</td>\n",
       "      <td>0</td>\n",
       "      <td>8</td>\n",
       "      <td>0</td>\n",
       "      <td>1</td>\n",
       "      <td>1</td>\n",
       "      <td>0</td>\n",
       "      <td>0</td>\n",
       "      <td>0</td>\n",
       "      <td>0</td>\n",
       "      <td>...</td>\n",
       "      <td>121</td>\n",
       "      <td>8464</td>\n",
       "      <td>1</td>\n",
       "      <td>0</td>\n",
       "      <td>0</td>\n",
       "      <td>0.250000</td>\n",
       "      <td>64.000000</td>\n",
       "      <td>121.0000</td>\n",
       "      <td>8464</td>\n",
       "      <td>4</td>\n",
       "    </tr>\n",
       "    <tr>\n",
       "      <th>5</th>\n",
       "      <td>ID_ec05b1a7b</td>\n",
       "      <td>0</td>\n",
       "      <td>5</td>\n",
       "      <td>0</td>\n",
       "      <td>1</td>\n",
       "      <td>1</td>\n",
       "      <td>1</td>\n",
       "      <td>0</td>\n",
       "      <td>2</td>\n",
       "      <td>2</td>\n",
       "      <td>...</td>\n",
       "      <td>121</td>\n",
       "      <td>1444</td>\n",
       "      <td>16</td>\n",
       "      <td>121</td>\n",
       "      <td>4</td>\n",
       "      <td>1.777778</td>\n",
       "      <td>1.000000</td>\n",
       "      <td>121.0000</td>\n",
       "      <td>1444</td>\n",
       "      <td>4</td>\n",
       "    </tr>\n",
       "    <tr>\n",
       "      <th>8</th>\n",
       "      <td>ID_1284f8aad</td>\n",
       "      <td>1</td>\n",
       "      <td>2</td>\n",
       "      <td>0</td>\n",
       "      <td>1</td>\n",
       "      <td>1</td>\n",
       "      <td>0</td>\n",
       "      <td>0</td>\n",
       "      <td>1</td>\n",
       "      <td>1</td>\n",
       "      <td>...</td>\n",
       "      <td>81</td>\n",
       "      <td>900</td>\n",
       "      <td>16</td>\n",
       "      <td>81</td>\n",
       "      <td>4</td>\n",
       "      <td>16.000000</td>\n",
       "      <td>1.000000</td>\n",
       "      <td>100.0000</td>\n",
       "      <td>900</td>\n",
       "      <td>4</td>\n",
       "    </tr>\n",
       "    <tr>\n",
       "      <th>...</th>\n",
       "      <td>...</td>\n",
       "      <td>...</td>\n",
       "      <td>...</td>\n",
       "      <td>...</td>\n",
       "      <td>...</td>\n",
       "      <td>...</td>\n",
       "      <td>...</td>\n",
       "      <td>...</td>\n",
       "      <td>...</td>\n",
       "      <td>...</td>\n",
       "      <td>...</td>\n",
       "      <td>...</td>\n",
       "      <td>...</td>\n",
       "      <td>...</td>\n",
       "      <td>...</td>\n",
       "      <td>...</td>\n",
       "      <td>...</td>\n",
       "      <td>...</td>\n",
       "      <td>...</td>\n",
       "      <td>...</td>\n",
       "      <td>...</td>\n",
       "    </tr>\n",
       "    <tr>\n",
       "      <th>9535</th>\n",
       "      <td>ID_18b0a845b</td>\n",
       "      <td>0</td>\n",
       "      <td>4</td>\n",
       "      <td>0</td>\n",
       "      <td>1</td>\n",
       "      <td>0</td>\n",
       "      <td>0</td>\n",
       "      <td>1</td>\n",
       "      <td>1</td>\n",
       "      <td>2</td>\n",
       "      <td>...</td>\n",
       "      <td>25</td>\n",
       "      <td>676</td>\n",
       "      <td>25</td>\n",
       "      <td>0</td>\n",
       "      <td>9</td>\n",
       "      <td>6.250000</td>\n",
       "      <td>2.250000</td>\n",
       "      <td>20.2500</td>\n",
       "      <td>676</td>\n",
       "      <td>1</td>\n",
       "    </tr>\n",
       "    <tr>\n",
       "      <th>9541</th>\n",
       "      <td>ID_a31274054</td>\n",
       "      <td>0</td>\n",
       "      <td>3</td>\n",
       "      <td>0</td>\n",
       "      <td>0</td>\n",
       "      <td>0</td>\n",
       "      <td>0</td>\n",
       "      <td>2</td>\n",
       "      <td>2</td>\n",
       "      <td>4</td>\n",
       "      <td>...</td>\n",
       "      <td>4</td>\n",
       "      <td>1600</td>\n",
       "      <td>25</td>\n",
       "      <td>4</td>\n",
       "      <td>9</td>\n",
       "      <td>6.250000</td>\n",
       "      <td>2.250000</td>\n",
       "      <td>16.0000</td>\n",
       "      <td>1600</td>\n",
       "      <td>2</td>\n",
       "    </tr>\n",
       "    <tr>\n",
       "      <th>9545</th>\n",
       "      <td>ID_32a00a8bf</td>\n",
       "      <td>0</td>\n",
       "      <td>5</td>\n",
       "      <td>0</td>\n",
       "      <td>1</td>\n",
       "      <td>1</td>\n",
       "      <td>0</td>\n",
       "      <td>1</td>\n",
       "      <td>2</td>\n",
       "      <td>3</td>\n",
       "      <td>...</td>\n",
       "      <td>4</td>\n",
       "      <td>2025</td>\n",
       "      <td>25</td>\n",
       "      <td>4</td>\n",
       "      <td>4</td>\n",
       "      <td>5.444444</td>\n",
       "      <td>0.444444</td>\n",
       "      <td>100.0000</td>\n",
       "      <td>2025</td>\n",
       "      <td>4</td>\n",
       "    </tr>\n",
       "    <tr>\n",
       "      <th>9551</th>\n",
       "      <td>ID_79d39dddc</td>\n",
       "      <td>0</td>\n",
       "      <td>3</td>\n",
       "      <td>0</td>\n",
       "      <td>1</td>\n",
       "      <td>1</td>\n",
       "      <td>0</td>\n",
       "      <td>0</td>\n",
       "      <td>1</td>\n",
       "      <td>1</td>\n",
       "      <td>...</td>\n",
       "      <td>0</td>\n",
       "      <td>4489</td>\n",
       "      <td>4</td>\n",
       "      <td>0</td>\n",
       "      <td>0</td>\n",
       "      <td>4.000000</td>\n",
       "      <td>1.000000</td>\n",
       "      <td>9.0000</td>\n",
       "      <td>4489</td>\n",
       "      <td>2</td>\n",
       "    </tr>\n",
       "    <tr>\n",
       "      <th>9552</th>\n",
       "      <td>ID_d45ae367d</td>\n",
       "      <td>0</td>\n",
       "      <td>6</td>\n",
       "      <td>0</td>\n",
       "      <td>1</td>\n",
       "      <td>1</td>\n",
       "      <td>0</td>\n",
       "      <td>0</td>\n",
       "      <td>2</td>\n",
       "      <td>2</td>\n",
       "      <td>...</td>\n",
       "      <td>81</td>\n",
       "      <td>2116</td>\n",
       "      <td>25</td>\n",
       "      <td>81</td>\n",
       "      <td>1</td>\n",
       "      <td>1.562500</td>\n",
       "      <td>0.062500</td>\n",
       "      <td>68.0625</td>\n",
       "      <td>2116</td>\n",
       "      <td>2</td>\n",
       "    </tr>\n",
       "  </tbody>\n",
       "</table>\n",
       "<p>2970 rows × 140 columns</p>\n",
       "</div>"
      ],
      "text/plain": [
       "                Id  hacdor  rooms  hacapo  v14a  refrig  v18q  r4h1  r4h2  \\\n",
       "0     ID_279628684       0      3       0     1       1     0     0     1   \n",
       "1     ID_f29eb3ddd       0      4       0     1       1     1     0     1   \n",
       "2     ID_68de51c94       0      8       0     1       1     0     0     0   \n",
       "5     ID_ec05b1a7b       0      5       0     1       1     1     0     2   \n",
       "8     ID_1284f8aad       1      2       0     1       1     0     0     1   \n",
       "...            ...     ...    ...     ...   ...     ...   ...   ...   ...   \n",
       "9535  ID_18b0a845b       0      4       0     1       0     0     1     1   \n",
       "9541  ID_a31274054       0      3       0     0       0     0     2     2   \n",
       "9545  ID_32a00a8bf       0      5       0     1       1     0     1     2   \n",
       "9551  ID_79d39dddc       0      3       0     1       1     0     0     1   \n",
       "9552  ID_d45ae367d       0      6       0     1       1     0     0     2   \n",
       "\n",
       "      r4h3  ...  SQBescolari  SQBage  SQBhogar_total  SQBedjefe  SQBhogar_nin  \\\n",
       "0        1  ...          100    1849               1        100             0   \n",
       "1        1  ...          144    4489               1        144             0   \n",
       "2        0  ...          121    8464               1          0             0   \n",
       "5        2  ...          121    1444              16        121             4   \n",
       "8        1  ...           81     900              16         81             4   \n",
       "...    ...  ...          ...     ...             ...        ...           ...   \n",
       "9535     2  ...           25     676              25          0             9   \n",
       "9541     4  ...            4    1600              25          4             9   \n",
       "9545     3  ...            4    2025              25          4             4   \n",
       "9551     1  ...            0    4489               4          0             0   \n",
       "9552     2  ...           81    2116              25         81             1   \n",
       "\n",
       "      SQBovercrowding  SQBdependency  SQBmeaned  agesq  Target  \n",
       "0            1.000000       0.000000   100.0000   1849       4  \n",
       "1            1.000000      64.000000   144.0000   4489       4  \n",
       "2            0.250000      64.000000   121.0000   8464       4  \n",
       "5            1.777778       1.000000   121.0000   1444       4  \n",
       "8           16.000000       1.000000   100.0000    900       4  \n",
       "...               ...            ...        ...    ...     ...  \n",
       "9535         6.250000       2.250000    20.2500    676       1  \n",
       "9541         6.250000       2.250000    16.0000   1600       2  \n",
       "9545         5.444444       0.444444   100.0000   2025       4  \n",
       "9551         4.000000       1.000000     9.0000   4489       2  \n",
       "9552         1.562500       0.062500    68.0625   2116       2  \n",
       "\n",
       "[2970 rows x 140 columns]"
      ]
     },
     "execution_count": 582,
     "metadata": {},
     "output_type": "execute_result"
    }
   ],
   "source": [
    "train_df= train_df.dropna(axis=0)\n",
    "train_df"
   ]
  },
  {
   "cell_type": "code",
   "execution_count": 583,
   "metadata": {
    "scrolled": true
   },
   "outputs": [
    {
     "data": {
      "text/plain": [
       "Target        0\n",
       "planpri       0\n",
       "sanitario5    0\n",
       "sanitario3    0\n",
       "sanitario2    0\n",
       "             ..\n",
       "edjefa        0\n",
       "meaneduc      0\n",
       "instlevel1    0\n",
       "instlevel2    0\n",
       "Id            0\n",
       "Length: 140, dtype: int64"
      ]
     },
     "execution_count": 583,
     "metadata": {},
     "output_type": "execute_result"
    }
   ],
   "source": [
    "train_df.isna().sum().sort_values(ascending=False)  # missing value가 없는 것을 확인 할 수 있다."
   ]
  },
  {
   "cell_type": "code",
   "execution_count": 584,
   "metadata": {},
   "outputs": [
    {
     "data": {
      "text/html": [
       "<div>\n",
       "<style scoped>\n",
       "    .dataframe tbody tr th:only-of-type {\n",
       "        vertical-align: middle;\n",
       "    }\n",
       "\n",
       "    .dataframe tbody tr th {\n",
       "        vertical-align: top;\n",
       "    }\n",
       "\n",
       "    .dataframe thead th {\n",
       "        text-align: right;\n",
       "    }\n",
       "</style>\n",
       "<table border=\"1\" class=\"dataframe\">\n",
       "  <thead>\n",
       "    <tr style=\"text-align: right;\">\n",
       "      <th></th>\n",
       "      <th>Id</th>\n",
       "      <th>hacdor</th>\n",
       "      <th>rooms</th>\n",
       "      <th>hacapo</th>\n",
       "      <th>v14a</th>\n",
       "      <th>refrig</th>\n",
       "      <th>v18q</th>\n",
       "      <th>r4h1</th>\n",
       "      <th>r4h2</th>\n",
       "      <th>r4h3</th>\n",
       "      <th>...</th>\n",
       "      <th>SQBescolari</th>\n",
       "      <th>SQBage</th>\n",
       "      <th>SQBhogar_total</th>\n",
       "      <th>SQBedjefe</th>\n",
       "      <th>SQBhogar_nin</th>\n",
       "      <th>SQBovercrowding</th>\n",
       "      <th>SQBdependency</th>\n",
       "      <th>SQBmeaned</th>\n",
       "      <th>agesq</th>\n",
       "      <th>Target</th>\n",
       "    </tr>\n",
       "  </thead>\n",
       "  <tbody>\n",
       "    <tr>\n",
       "      <th>0</th>\n",
       "      <td>ID_279628684</td>\n",
       "      <td>0</td>\n",
       "      <td>3</td>\n",
       "      <td>0</td>\n",
       "      <td>1</td>\n",
       "      <td>1</td>\n",
       "      <td>0</td>\n",
       "      <td>0</td>\n",
       "      <td>1</td>\n",
       "      <td>1</td>\n",
       "      <td>...</td>\n",
       "      <td>100</td>\n",
       "      <td>1849</td>\n",
       "      <td>1</td>\n",
       "      <td>100</td>\n",
       "      <td>0</td>\n",
       "      <td>1.000000</td>\n",
       "      <td>0.000000</td>\n",
       "      <td>100.0000</td>\n",
       "      <td>1849</td>\n",
       "      <td>4</td>\n",
       "    </tr>\n",
       "    <tr>\n",
       "      <th>1</th>\n",
       "      <td>ID_f29eb3ddd</td>\n",
       "      <td>0</td>\n",
       "      <td>4</td>\n",
       "      <td>0</td>\n",
       "      <td>1</td>\n",
       "      <td>1</td>\n",
       "      <td>1</td>\n",
       "      <td>0</td>\n",
       "      <td>1</td>\n",
       "      <td>1</td>\n",
       "      <td>...</td>\n",
       "      <td>144</td>\n",
       "      <td>4489</td>\n",
       "      <td>1</td>\n",
       "      <td>144</td>\n",
       "      <td>0</td>\n",
       "      <td>1.000000</td>\n",
       "      <td>64.000000</td>\n",
       "      <td>144.0000</td>\n",
       "      <td>4489</td>\n",
       "      <td>4</td>\n",
       "    </tr>\n",
       "    <tr>\n",
       "      <th>2</th>\n",
       "      <td>ID_68de51c94</td>\n",
       "      <td>0</td>\n",
       "      <td>8</td>\n",
       "      <td>0</td>\n",
       "      <td>1</td>\n",
       "      <td>1</td>\n",
       "      <td>0</td>\n",
       "      <td>0</td>\n",
       "      <td>0</td>\n",
       "      <td>0</td>\n",
       "      <td>...</td>\n",
       "      <td>121</td>\n",
       "      <td>8464</td>\n",
       "      <td>1</td>\n",
       "      <td>0</td>\n",
       "      <td>0</td>\n",
       "      <td>0.250000</td>\n",
       "      <td>64.000000</td>\n",
       "      <td>121.0000</td>\n",
       "      <td>8464</td>\n",
       "      <td>4</td>\n",
       "    </tr>\n",
       "    <tr>\n",
       "      <th>5</th>\n",
       "      <td>ID_ec05b1a7b</td>\n",
       "      <td>0</td>\n",
       "      <td>5</td>\n",
       "      <td>0</td>\n",
       "      <td>1</td>\n",
       "      <td>1</td>\n",
       "      <td>1</td>\n",
       "      <td>0</td>\n",
       "      <td>2</td>\n",
       "      <td>2</td>\n",
       "      <td>...</td>\n",
       "      <td>121</td>\n",
       "      <td>1444</td>\n",
       "      <td>16</td>\n",
       "      <td>121</td>\n",
       "      <td>4</td>\n",
       "      <td>1.777778</td>\n",
       "      <td>1.000000</td>\n",
       "      <td>121.0000</td>\n",
       "      <td>1444</td>\n",
       "      <td>4</td>\n",
       "    </tr>\n",
       "    <tr>\n",
       "      <th>8</th>\n",
       "      <td>ID_1284f8aad</td>\n",
       "      <td>1</td>\n",
       "      <td>2</td>\n",
       "      <td>0</td>\n",
       "      <td>1</td>\n",
       "      <td>1</td>\n",
       "      <td>0</td>\n",
       "      <td>0</td>\n",
       "      <td>1</td>\n",
       "      <td>1</td>\n",
       "      <td>...</td>\n",
       "      <td>81</td>\n",
       "      <td>900</td>\n",
       "      <td>16</td>\n",
       "      <td>81</td>\n",
       "      <td>4</td>\n",
       "      <td>16.000000</td>\n",
       "      <td>1.000000</td>\n",
       "      <td>100.0000</td>\n",
       "      <td>900</td>\n",
       "      <td>4</td>\n",
       "    </tr>\n",
       "    <tr>\n",
       "      <th>...</th>\n",
       "      <td>...</td>\n",
       "      <td>...</td>\n",
       "      <td>...</td>\n",
       "      <td>...</td>\n",
       "      <td>...</td>\n",
       "      <td>...</td>\n",
       "      <td>...</td>\n",
       "      <td>...</td>\n",
       "      <td>...</td>\n",
       "      <td>...</td>\n",
       "      <td>...</td>\n",
       "      <td>...</td>\n",
       "      <td>...</td>\n",
       "      <td>...</td>\n",
       "      <td>...</td>\n",
       "      <td>...</td>\n",
       "      <td>...</td>\n",
       "      <td>...</td>\n",
       "      <td>...</td>\n",
       "      <td>...</td>\n",
       "      <td>...</td>\n",
       "    </tr>\n",
       "    <tr>\n",
       "      <th>9535</th>\n",
       "      <td>ID_18b0a845b</td>\n",
       "      <td>0</td>\n",
       "      <td>4</td>\n",
       "      <td>0</td>\n",
       "      <td>1</td>\n",
       "      <td>0</td>\n",
       "      <td>0</td>\n",
       "      <td>1</td>\n",
       "      <td>1</td>\n",
       "      <td>2</td>\n",
       "      <td>...</td>\n",
       "      <td>25</td>\n",
       "      <td>676</td>\n",
       "      <td>25</td>\n",
       "      <td>0</td>\n",
       "      <td>9</td>\n",
       "      <td>6.250000</td>\n",
       "      <td>2.250000</td>\n",
       "      <td>20.2500</td>\n",
       "      <td>676</td>\n",
       "      <td>1</td>\n",
       "    </tr>\n",
       "    <tr>\n",
       "      <th>9541</th>\n",
       "      <td>ID_a31274054</td>\n",
       "      <td>0</td>\n",
       "      <td>3</td>\n",
       "      <td>0</td>\n",
       "      <td>0</td>\n",
       "      <td>0</td>\n",
       "      <td>0</td>\n",
       "      <td>2</td>\n",
       "      <td>2</td>\n",
       "      <td>4</td>\n",
       "      <td>...</td>\n",
       "      <td>4</td>\n",
       "      <td>1600</td>\n",
       "      <td>25</td>\n",
       "      <td>4</td>\n",
       "      <td>9</td>\n",
       "      <td>6.250000</td>\n",
       "      <td>2.250000</td>\n",
       "      <td>16.0000</td>\n",
       "      <td>1600</td>\n",
       "      <td>2</td>\n",
       "    </tr>\n",
       "    <tr>\n",
       "      <th>9545</th>\n",
       "      <td>ID_32a00a8bf</td>\n",
       "      <td>0</td>\n",
       "      <td>5</td>\n",
       "      <td>0</td>\n",
       "      <td>1</td>\n",
       "      <td>1</td>\n",
       "      <td>0</td>\n",
       "      <td>1</td>\n",
       "      <td>2</td>\n",
       "      <td>3</td>\n",
       "      <td>...</td>\n",
       "      <td>4</td>\n",
       "      <td>2025</td>\n",
       "      <td>25</td>\n",
       "      <td>4</td>\n",
       "      <td>4</td>\n",
       "      <td>5.444444</td>\n",
       "      <td>0.444444</td>\n",
       "      <td>100.0000</td>\n",
       "      <td>2025</td>\n",
       "      <td>4</td>\n",
       "    </tr>\n",
       "    <tr>\n",
       "      <th>9551</th>\n",
       "      <td>ID_79d39dddc</td>\n",
       "      <td>0</td>\n",
       "      <td>3</td>\n",
       "      <td>0</td>\n",
       "      <td>1</td>\n",
       "      <td>1</td>\n",
       "      <td>0</td>\n",
       "      <td>0</td>\n",
       "      <td>1</td>\n",
       "      <td>1</td>\n",
       "      <td>...</td>\n",
       "      <td>0</td>\n",
       "      <td>4489</td>\n",
       "      <td>4</td>\n",
       "      <td>0</td>\n",
       "      <td>0</td>\n",
       "      <td>4.000000</td>\n",
       "      <td>1.000000</td>\n",
       "      <td>9.0000</td>\n",
       "      <td>4489</td>\n",
       "      <td>2</td>\n",
       "    </tr>\n",
       "    <tr>\n",
       "      <th>9552</th>\n",
       "      <td>ID_d45ae367d</td>\n",
       "      <td>0</td>\n",
       "      <td>6</td>\n",
       "      <td>0</td>\n",
       "      <td>1</td>\n",
       "      <td>1</td>\n",
       "      <td>0</td>\n",
       "      <td>0</td>\n",
       "      <td>2</td>\n",
       "      <td>2</td>\n",
       "      <td>...</td>\n",
       "      <td>81</td>\n",
       "      <td>2116</td>\n",
       "      <td>25</td>\n",
       "      <td>81</td>\n",
       "      <td>1</td>\n",
       "      <td>1.562500</td>\n",
       "      <td>0.062500</td>\n",
       "      <td>68.0625</td>\n",
       "      <td>2116</td>\n",
       "      <td>2</td>\n",
       "    </tr>\n",
       "  </tbody>\n",
       "</table>\n",
       "<p>2970 rows × 140 columns</p>\n",
       "</div>"
      ],
      "text/plain": [
       "                Id  hacdor  rooms  hacapo  v14a  refrig  v18q  r4h1  r4h2  \\\n",
       "0     ID_279628684       0      3       0     1       1     0     0     1   \n",
       "1     ID_f29eb3ddd       0      4       0     1       1     1     0     1   \n",
       "2     ID_68de51c94       0      8       0     1       1     0     0     0   \n",
       "5     ID_ec05b1a7b       0      5       0     1       1     1     0     2   \n",
       "8     ID_1284f8aad       1      2       0     1       1     0     0     1   \n",
       "...            ...     ...    ...     ...   ...     ...   ...   ...   ...   \n",
       "9535  ID_18b0a845b       0      4       0     1       0     0     1     1   \n",
       "9541  ID_a31274054       0      3       0     0       0     0     2     2   \n",
       "9545  ID_32a00a8bf       0      5       0     1       1     0     1     2   \n",
       "9551  ID_79d39dddc       0      3       0     1       1     0     0     1   \n",
       "9552  ID_d45ae367d       0      6       0     1       1     0     0     2   \n",
       "\n",
       "      r4h3  ...  SQBescolari  SQBage  SQBhogar_total  SQBedjefe  SQBhogar_nin  \\\n",
       "0        1  ...          100    1849               1        100             0   \n",
       "1        1  ...          144    4489               1        144             0   \n",
       "2        0  ...          121    8464               1          0             0   \n",
       "5        2  ...          121    1444              16        121             4   \n",
       "8        1  ...           81     900              16         81             4   \n",
       "...    ...  ...          ...     ...             ...        ...           ...   \n",
       "9535     2  ...           25     676              25          0             9   \n",
       "9541     4  ...            4    1600              25          4             9   \n",
       "9545     3  ...            4    2025              25          4             4   \n",
       "9551     1  ...            0    4489               4          0             0   \n",
       "9552     2  ...           81    2116              25         81             1   \n",
       "\n",
       "      SQBovercrowding  SQBdependency  SQBmeaned  agesq  Target  \n",
       "0            1.000000       0.000000   100.0000   1849       4  \n",
       "1            1.000000      64.000000   144.0000   4489       4  \n",
       "2            0.250000      64.000000   121.0000   8464       4  \n",
       "5            1.777778       1.000000   121.0000   1444       4  \n",
       "8           16.000000       1.000000   100.0000    900       4  \n",
       "...               ...            ...        ...    ...     ...  \n",
       "9535         6.250000       2.250000    20.2500    676       1  \n",
       "9541         6.250000       2.250000    16.0000   1600       2  \n",
       "9545         5.444444       0.444444   100.0000   2025       4  \n",
       "9551         4.000000       1.000000     9.0000   4489       2  \n",
       "9552         1.562500       0.062500    68.0625   2116       2  \n",
       "\n",
       "[2970 rows x 140 columns]"
      ]
     },
     "execution_count": 584,
     "metadata": {},
     "output_type": "execute_result"
    }
   ],
   "source": [
    "train_csv = train_df\n",
    "train_csv"
   ]
  },
  {
   "cell_type": "code",
   "execution_count": 600,
   "metadata": {},
   "outputs": [
    {
     "data": {
      "text/html": [
       "<div>\n",
       "<style scoped>\n",
       "    .dataframe tbody tr th:only-of-type {\n",
       "        vertical-align: middle;\n",
       "    }\n",
       "\n",
       "    .dataframe tbody tr th {\n",
       "        vertical-align: top;\n",
       "    }\n",
       "\n",
       "    .dataframe thead th {\n",
       "        text-align: right;\n",
       "    }\n",
       "</style>\n",
       "<table border=\"1\" class=\"dataframe\">\n",
       "  <thead>\n",
       "    <tr style=\"text-align: right;\">\n",
       "      <th></th>\n",
       "      <th>rez_esc</th>\n",
       "      <th>v18q1</th>\n",
       "      <th>v2a1</th>\n",
       "      <th>meaneduc</th>\n",
       "      <th>SQBmeaned</th>\n",
       "    </tr>\n",
       "  </thead>\n",
       "  <tbody>\n",
       "    <tr>\n",
       "      <th>2</th>\n",
       "      <td>NaN</td>\n",
       "      <td>NaN</td>\n",
       "      <td>NaN</td>\n",
       "      <td>16.50</td>\n",
       "      <td>272.2500</td>\n",
       "    </tr>\n",
       "    <tr>\n",
       "      <th>3</th>\n",
       "      <td>NaN</td>\n",
       "      <td>1.0</td>\n",
       "      <td>NaN</td>\n",
       "      <td>16.00</td>\n",
       "      <td>256.0000</td>\n",
       "    </tr>\n",
       "    <tr>\n",
       "      <th>4</th>\n",
       "      <td>NaN</td>\n",
       "      <td>1.0</td>\n",
       "      <td>175000.0</td>\n",
       "      <td>NaN</td>\n",
       "      <td>NaN</td>\n",
       "    </tr>\n",
       "    <tr>\n",
       "      <th>6</th>\n",
       "      <td>NaN</td>\n",
       "      <td>1.0</td>\n",
       "      <td>400000.0</td>\n",
       "      <td>13.50</td>\n",
       "      <td>182.2500</td>\n",
       "    </tr>\n",
       "    <tr>\n",
       "      <th>8</th>\n",
       "      <td>NaN</td>\n",
       "      <td>1.0</td>\n",
       "      <td>300000.0</td>\n",
       "      <td>14.00</td>\n",
       "      <td>196.0000</td>\n",
       "    </tr>\n",
       "    <tr>\n",
       "      <th>...</th>\n",
       "      <td>...</td>\n",
       "      <td>...</td>\n",
       "      <td>...</td>\n",
       "      <td>...</td>\n",
       "      <td>...</td>\n",
       "    </tr>\n",
       "    <tr>\n",
       "      <th>23836</th>\n",
       "      <td>NaN</td>\n",
       "      <td>NaN</td>\n",
       "      <td>NaN</td>\n",
       "      <td>3.00</td>\n",
       "      <td>9.0000</td>\n",
       "    </tr>\n",
       "    <tr>\n",
       "      <th>23841</th>\n",
       "      <td>NaN</td>\n",
       "      <td>NaN</td>\n",
       "      <td>NaN</td>\n",
       "      <td>5.00</td>\n",
       "      <td>25.0000</td>\n",
       "    </tr>\n",
       "    <tr>\n",
       "      <th>23843</th>\n",
       "      <td>NaN</td>\n",
       "      <td>NaN</td>\n",
       "      <td>NaN</td>\n",
       "      <td>5.50</td>\n",
       "      <td>30.2500</td>\n",
       "    </tr>\n",
       "    <tr>\n",
       "      <th>23847</th>\n",
       "      <td>NaN</td>\n",
       "      <td>NaN</td>\n",
       "      <td>NaN</td>\n",
       "      <td>5.75</td>\n",
       "      <td>33.0625</td>\n",
       "    </tr>\n",
       "    <tr>\n",
       "      <th>23852</th>\n",
       "      <td>NaN</td>\n",
       "      <td>NaN</td>\n",
       "      <td>NaN</td>\n",
       "      <td>6.00</td>\n",
       "      <td>36.0000</td>\n",
       "    </tr>\n",
       "  </tbody>\n",
       "</table>\n",
       "<p>7334 rows × 5 columns</p>\n",
       "</div>"
      ],
      "text/plain": [
       "       rez_esc  v18q1      v2a1  meaneduc  SQBmeaned\n",
       "2          NaN    NaN       NaN     16.50   272.2500\n",
       "3          NaN    1.0       NaN     16.00   256.0000\n",
       "4          NaN    1.0  175000.0       NaN        NaN\n",
       "6          NaN    1.0  400000.0     13.50   182.2500\n",
       "8          NaN    1.0  300000.0     14.00   196.0000\n",
       "...        ...    ...       ...       ...        ...\n",
       "23836      NaN    NaN       NaN      3.00     9.0000\n",
       "23841      NaN    NaN       NaN      5.00    25.0000\n",
       "23843      NaN    NaN       NaN      5.50    30.2500\n",
       "23847      NaN    NaN       NaN      5.75    33.0625\n",
       "23852      NaN    NaN       NaN      6.00    36.0000\n",
       "\n",
       "[7334 rows x 5 columns]"
      ]
     },
     "execution_count": 600,
     "metadata": {},
     "output_type": "execute_result"
    }
   ],
   "source": [
    "test_csv[['rez_esc','v18q1','v2a1','meaneduc','SQBmeaned']]"
   ]
  },
  {
   "cell_type": "code",
   "execution_count": 601,
   "metadata": {},
   "outputs": [
    {
     "data": {
      "text/plain": [
       "(7334, 139)"
      ]
     },
     "execution_count": 601,
     "metadata": {},
     "output_type": "execute_result"
    }
   ],
   "source": [
    "test_csv = test_csv.drop(['rez_esc','v18q1','v2a1'], axis=1)\n",
    "test_csv.shape"
   ]
  },
  {
   "cell_type": "code",
   "execution_count": 602,
   "metadata": {},
   "outputs": [
    {
     "data": {
      "text/html": [
       "<div>\n",
       "<style scoped>\n",
       "    .dataframe tbody tr th:only-of-type {\n",
       "        vertical-align: middle;\n",
       "    }\n",
       "\n",
       "    .dataframe tbody tr th {\n",
       "        vertical-align: top;\n",
       "    }\n",
       "\n",
       "    .dataframe thead th {\n",
       "        text-align: right;\n",
       "    }\n",
       "</style>\n",
       "<table border=\"1\" class=\"dataframe\">\n",
       "  <thead>\n",
       "    <tr style=\"text-align: right;\">\n",
       "      <th></th>\n",
       "      <th>Id</th>\n",
       "      <th>hacdor</th>\n",
       "      <th>rooms</th>\n",
       "      <th>hacapo</th>\n",
       "      <th>v14a</th>\n",
       "      <th>refrig</th>\n",
       "      <th>v18q</th>\n",
       "      <th>r4h1</th>\n",
       "      <th>r4h2</th>\n",
       "      <th>r4h3</th>\n",
       "      <th>...</th>\n",
       "      <th>age</th>\n",
       "      <th>SQBescolari</th>\n",
       "      <th>SQBage</th>\n",
       "      <th>SQBhogar_total</th>\n",
       "      <th>SQBedjefe</th>\n",
       "      <th>SQBhogar_nin</th>\n",
       "      <th>SQBovercrowding</th>\n",
       "      <th>SQBdependency</th>\n",
       "      <th>SQBmeaned</th>\n",
       "      <th>agesq</th>\n",
       "    </tr>\n",
       "  </thead>\n",
       "  <tbody>\n",
       "    <tr>\n",
       "      <th>2</th>\n",
       "      <td>ID_e5442cf6a</td>\n",
       "      <td>0</td>\n",
       "      <td>5</td>\n",
       "      <td>0</td>\n",
       "      <td>1</td>\n",
       "      <td>1</td>\n",
       "      <td>0</td>\n",
       "      <td>1</td>\n",
       "      <td>1</td>\n",
       "      <td>2</td>\n",
       "      <td>...</td>\n",
       "      <td>41</td>\n",
       "      <td>289</td>\n",
       "      <td>1681</td>\n",
       "      <td>9</td>\n",
       "      <td>0</td>\n",
       "      <td>1</td>\n",
       "      <td>2.250000</td>\n",
       "      <td>0.25</td>\n",
       "      <td>272.2500</td>\n",
       "      <td>1681</td>\n",
       "    </tr>\n",
       "    <tr>\n",
       "      <th>3</th>\n",
       "      <td>ID_a8db26a79</td>\n",
       "      <td>0</td>\n",
       "      <td>14</td>\n",
       "      <td>0</td>\n",
       "      <td>1</td>\n",
       "      <td>1</td>\n",
       "      <td>1</td>\n",
       "      <td>0</td>\n",
       "      <td>1</td>\n",
       "      <td>1</td>\n",
       "      <td>...</td>\n",
       "      <td>59</td>\n",
       "      <td>256</td>\n",
       "      <td>3481</td>\n",
       "      <td>1</td>\n",
       "      <td>256</td>\n",
       "      <td>0</td>\n",
       "      <td>1.000000</td>\n",
       "      <td>0.00</td>\n",
       "      <td>256.0000</td>\n",
       "      <td>3481</td>\n",
       "    </tr>\n",
       "    <tr>\n",
       "      <th>6</th>\n",
       "      <td>ID_3c5f4bd51</td>\n",
       "      <td>0</td>\n",
       "      <td>3</td>\n",
       "      <td>0</td>\n",
       "      <td>1</td>\n",
       "      <td>1</td>\n",
       "      <td>1</td>\n",
       "      <td>0</td>\n",
       "      <td>0</td>\n",
       "      <td>0</td>\n",
       "      <td>...</td>\n",
       "      <td>42</td>\n",
       "      <td>121</td>\n",
       "      <td>1764</td>\n",
       "      <td>4</td>\n",
       "      <td>0</td>\n",
       "      <td>0</td>\n",
       "      <td>1.000000</td>\n",
       "      <td>0.00</td>\n",
       "      <td>182.2500</td>\n",
       "      <td>1764</td>\n",
       "    </tr>\n",
       "    <tr>\n",
       "      <th>8</th>\n",
       "      <td>ID_472fa82da</td>\n",
       "      <td>0</td>\n",
       "      <td>6</td>\n",
       "      <td>0</td>\n",
       "      <td>1</td>\n",
       "      <td>1</td>\n",
       "      <td>1</td>\n",
       "      <td>0</td>\n",
       "      <td>0</td>\n",
       "      <td>0</td>\n",
       "      <td>...</td>\n",
       "      <td>22</td>\n",
       "      <td>196</td>\n",
       "      <td>484</td>\n",
       "      <td>4</td>\n",
       "      <td>0</td>\n",
       "      <td>0</td>\n",
       "      <td>0.250000</td>\n",
       "      <td>0.00</td>\n",
       "      <td>196.0000</td>\n",
       "      <td>484</td>\n",
       "    </tr>\n",
       "    <tr>\n",
       "      <th>9</th>\n",
       "      <td>ID_24864adcc</td>\n",
       "      <td>0</td>\n",
       "      <td>6</td>\n",
       "      <td>0</td>\n",
       "      <td>1</td>\n",
       "      <td>1</td>\n",
       "      <td>0</td>\n",
       "      <td>0</td>\n",
       "      <td>0</td>\n",
       "      <td>0</td>\n",
       "      <td>...</td>\n",
       "      <td>70</td>\n",
       "      <td>100</td>\n",
       "      <td>4900</td>\n",
       "      <td>1</td>\n",
       "      <td>0</td>\n",
       "      <td>0</td>\n",
       "      <td>0.111111</td>\n",
       "      <td>64.00</td>\n",
       "      <td>100.0000</td>\n",
       "      <td>4900</td>\n",
       "    </tr>\n",
       "    <tr>\n",
       "      <th>...</th>\n",
       "      <td>...</td>\n",
       "      <td>...</td>\n",
       "      <td>...</td>\n",
       "      <td>...</td>\n",
       "      <td>...</td>\n",
       "      <td>...</td>\n",
       "      <td>...</td>\n",
       "      <td>...</td>\n",
       "      <td>...</td>\n",
       "      <td>...</td>\n",
       "      <td>...</td>\n",
       "      <td>...</td>\n",
       "      <td>...</td>\n",
       "      <td>...</td>\n",
       "      <td>...</td>\n",
       "      <td>...</td>\n",
       "      <td>...</td>\n",
       "      <td>...</td>\n",
       "      <td>...</td>\n",
       "      <td>...</td>\n",
       "      <td>...</td>\n",
       "    </tr>\n",
       "    <tr>\n",
       "      <th>23836</th>\n",
       "      <td>ID_265b917e8</td>\n",
       "      <td>0</td>\n",
       "      <td>4</td>\n",
       "      <td>0</td>\n",
       "      <td>0</td>\n",
       "      <td>0</td>\n",
       "      <td>0</td>\n",
       "      <td>1</td>\n",
       "      <td>0</td>\n",
       "      <td>1</td>\n",
       "      <td>...</td>\n",
       "      <td>68</td>\n",
       "      <td>9</td>\n",
       "      <td>4624</td>\n",
       "      <td>4</td>\n",
       "      <td>0</td>\n",
       "      <td>1</td>\n",
       "      <td>1.000000</td>\n",
       "      <td>64.00</td>\n",
       "      <td>9.0000</td>\n",
       "      <td>4624</td>\n",
       "    </tr>\n",
       "    <tr>\n",
       "      <th>23841</th>\n",
       "      <td>ID_19c0b1480</td>\n",
       "      <td>0</td>\n",
       "      <td>4</td>\n",
       "      <td>0</td>\n",
       "      <td>1</td>\n",
       "      <td>1</td>\n",
       "      <td>0</td>\n",
       "      <td>1</td>\n",
       "      <td>1</td>\n",
       "      <td>2</td>\n",
       "      <td>...</td>\n",
       "      <td>42</td>\n",
       "      <td>16</td>\n",
       "      <td>1764</td>\n",
       "      <td>36</td>\n",
       "      <td>16</td>\n",
       "      <td>16</td>\n",
       "      <td>9.000000</td>\n",
       "      <td>4.00</td>\n",
       "      <td>25.0000</td>\n",
       "      <td>1764</td>\n",
       "    </tr>\n",
       "    <tr>\n",
       "      <th>23843</th>\n",
       "      <td>ID_aa256c594</td>\n",
       "      <td>0</td>\n",
       "      <td>5</td>\n",
       "      <td>0</td>\n",
       "      <td>1</td>\n",
       "      <td>1</td>\n",
       "      <td>0</td>\n",
       "      <td>0</td>\n",
       "      <td>1</td>\n",
       "      <td>1</td>\n",
       "      <td>...</td>\n",
       "      <td>47</td>\n",
       "      <td>0</td>\n",
       "      <td>2209</td>\n",
       "      <td>9</td>\n",
       "      <td>0</td>\n",
       "      <td>1</td>\n",
       "      <td>1.000000</td>\n",
       "      <td>0.25</td>\n",
       "      <td>30.2500</td>\n",
       "      <td>2209</td>\n",
       "    </tr>\n",
       "    <tr>\n",
       "      <th>23847</th>\n",
       "      <td>ID_4b7feead3</td>\n",
       "      <td>1</td>\n",
       "      <td>2</td>\n",
       "      <td>1</td>\n",
       "      <td>1</td>\n",
       "      <td>1</td>\n",
       "      <td>0</td>\n",
       "      <td>0</td>\n",
       "      <td>2</td>\n",
       "      <td>2</td>\n",
       "      <td>...</td>\n",
       "      <td>57</td>\n",
       "      <td>25</td>\n",
       "      <td>3249</td>\n",
       "      <td>36</td>\n",
       "      <td>25</td>\n",
       "      <td>4</td>\n",
       "      <td>36.000000</td>\n",
       "      <td>0.25</td>\n",
       "      <td>33.0625</td>\n",
       "      <td>3249</td>\n",
       "    </tr>\n",
       "    <tr>\n",
       "      <th>23852</th>\n",
       "      <td>ID_1a7c6953b</td>\n",
       "      <td>0</td>\n",
       "      <td>3</td>\n",
       "      <td>0</td>\n",
       "      <td>1</td>\n",
       "      <td>1</td>\n",
       "      <td>0</td>\n",
       "      <td>0</td>\n",
       "      <td>1</td>\n",
       "      <td>1</td>\n",
       "      <td>...</td>\n",
       "      <td>54</td>\n",
       "      <td>36</td>\n",
       "      <td>2916</td>\n",
       "      <td>16</td>\n",
       "      <td>36</td>\n",
       "      <td>4</td>\n",
       "      <td>4.000000</td>\n",
       "      <td>1.00</td>\n",
       "      <td>36.0000</td>\n",
       "      <td>2916</td>\n",
       "    </tr>\n",
       "  </tbody>\n",
       "</table>\n",
       "<p>7317 rows × 139 columns</p>\n",
       "</div>"
      ],
      "text/plain": [
       "                 Id  hacdor  rooms  hacapo  v14a  refrig  v18q  r4h1  r4h2  \\\n",
       "2      ID_e5442cf6a       0      5       0     1       1     0     1     1   \n",
       "3      ID_a8db26a79       0     14       0     1       1     1     0     1   \n",
       "6      ID_3c5f4bd51       0      3       0     1       1     1     0     0   \n",
       "8      ID_472fa82da       0      6       0     1       1     1     0     0   \n",
       "9      ID_24864adcc       0      6       0     1       1     0     0     0   \n",
       "...             ...     ...    ...     ...   ...     ...   ...   ...   ...   \n",
       "23836  ID_265b917e8       0      4       0     0       0     0     1     0   \n",
       "23841  ID_19c0b1480       0      4       0     1       1     0     1     1   \n",
       "23843  ID_aa256c594       0      5       0     1       1     0     0     1   \n",
       "23847  ID_4b7feead3       1      2       1     1       1     0     0     2   \n",
       "23852  ID_1a7c6953b       0      3       0     1       1     0     0     1   \n",
       "\n",
       "       r4h3  ...  age  SQBescolari  SQBage  SQBhogar_total  SQBedjefe  \\\n",
       "2         2  ...   41          289    1681               9          0   \n",
       "3         1  ...   59          256    3481               1        256   \n",
       "6         0  ...   42          121    1764               4          0   \n",
       "8         0  ...   22          196     484               4          0   \n",
       "9         0  ...   70          100    4900               1          0   \n",
       "...     ...  ...  ...          ...     ...             ...        ...   \n",
       "23836     1  ...   68            9    4624               4          0   \n",
       "23841     2  ...   42           16    1764              36         16   \n",
       "23843     1  ...   47            0    2209               9          0   \n",
       "23847     2  ...   57           25    3249              36         25   \n",
       "23852     1  ...   54           36    2916              16         36   \n",
       "\n",
       "       SQBhogar_nin  SQBovercrowding  SQBdependency  SQBmeaned  agesq  \n",
       "2                 1         2.250000           0.25   272.2500   1681  \n",
       "3                 0         1.000000           0.00   256.0000   3481  \n",
       "6                 0         1.000000           0.00   182.2500   1764  \n",
       "8                 0         0.250000           0.00   196.0000    484  \n",
       "9                 0         0.111111          64.00   100.0000   4900  \n",
       "...             ...              ...            ...        ...    ...  \n",
       "23836             1         1.000000          64.00     9.0000   4624  \n",
       "23841            16         9.000000           4.00    25.0000   1764  \n",
       "23843             1         1.000000           0.25    30.2500   2209  \n",
       "23847             4        36.000000           0.25    33.0625   3249  \n",
       "23852             4         4.000000           1.00    36.0000   2916  \n",
       "\n",
       "[7317 rows x 139 columns]"
      ]
     },
     "execution_count": 602,
     "metadata": {},
     "output_type": "execute_result"
    }
   ],
   "source": [
    "test_csv= test_csv.dropna(axis=0)\n",
    "test_csv"
   ]
  },
  {
   "cell_type": "code",
   "execution_count": 603,
   "metadata": {},
   "outputs": [
    {
     "data": {
      "text/plain": [
       "agesq         0\n",
       "planpri       0\n",
       "sanitario5    0\n",
       "sanitario3    0\n",
       "sanitario2    0\n",
       "             ..\n",
       "edjefe        0\n",
       "edjefa        0\n",
       "meaneduc      0\n",
       "instlevel1    0\n",
       "Id            0\n",
       "Length: 139, dtype: int64"
      ]
     },
     "execution_count": 603,
     "metadata": {},
     "output_type": "execute_result"
    }
   ],
   "source": [
    "test_csv.isna().sum().sort_values(ascending=False)  # missing value가 없는 것을 확인 할 수 있다."
   ]
  },
  {
   "cell_type": "markdown",
   "metadata": {},
   "source": [
    "#### Q4: Determine if some features need some labelling. Are there any other conversion of representation needed?"
   ]
  },
  {
   "cell_type": "code",
   "execution_count": 604,
   "metadata": {},
   "outputs": [
    {
     "name": "stdout",
     "output_type": "stream",
     "text": [
      "<class 'pandas.core.frame.DataFrame'>\n",
      "Int64Index: 2970 entries, 0 to 9552\n",
      "Columns: 140 entries, Id to Target\n",
      "dtypes: float64(8), int64(130), object(2)\n",
      "memory usage: 3.2+ MB\n"
     ]
    }
   ],
   "source": [
    "train_csv.info()"
   ]
  },
  {
   "cell_type": "code",
   "execution_count": 605,
   "metadata": {},
   "outputs": [
    {
     "data": {
      "text/plain": [
       "Id         True\n",
       "idhogar    True\n",
       "dtype: bool"
      ]
     },
     "execution_count": 605,
     "metadata": {},
     "output_type": "execute_result"
    }
   ],
   "source": [
    "df = (train_csv.dtypes == object)\n",
    "df[df == True]"
   ]
  },
  {
   "cell_type": "code",
   "execution_count": 606,
   "metadata": {},
   "outputs": [
    {
     "name": "stderr",
     "output_type": "stream",
     "text": [
      "C:\\ProgramData\\Anaconda3\\lib\\site-packages\\pandas\\core\\frame.py:3990: SettingWithCopyWarning: \n",
      "A value is trying to be set on a copy of a slice from a DataFrame\n",
      "\n",
      "See the caveats in the documentation: https://pandas.pydata.org/pandas-docs/stable/user_guide/indexing.html#returning-a-view-versus-a-copy\n",
      "  return super().drop(\n"
     ]
    },
    {
     "data": {
      "text/html": [
       "<div>\n",
       "<style scoped>\n",
       "    .dataframe tbody tr th:only-of-type {\n",
       "        vertical-align: middle;\n",
       "    }\n",
       "\n",
       "    .dataframe tbody tr th {\n",
       "        vertical-align: top;\n",
       "    }\n",
       "\n",
       "    .dataframe thead th {\n",
       "        text-align: right;\n",
       "    }\n",
       "</style>\n",
       "<table border=\"1\" class=\"dataframe\">\n",
       "  <thead>\n",
       "    <tr style=\"text-align: right;\">\n",
       "      <th></th>\n",
       "      <th>hacdor</th>\n",
       "      <th>rooms</th>\n",
       "      <th>hacapo</th>\n",
       "      <th>v14a</th>\n",
       "      <th>refrig</th>\n",
       "      <th>v18q</th>\n",
       "      <th>r4h1</th>\n",
       "      <th>r4h2</th>\n",
       "      <th>r4h3</th>\n",
       "      <th>r4m1</th>\n",
       "      <th>...</th>\n",
       "      <th>SQBescolari</th>\n",
       "      <th>SQBage</th>\n",
       "      <th>SQBhogar_total</th>\n",
       "      <th>SQBedjefe</th>\n",
       "      <th>SQBhogar_nin</th>\n",
       "      <th>SQBovercrowding</th>\n",
       "      <th>SQBdependency</th>\n",
       "      <th>SQBmeaned</th>\n",
       "      <th>agesq</th>\n",
       "      <th>Target</th>\n",
       "    </tr>\n",
       "  </thead>\n",
       "  <tbody>\n",
       "    <tr>\n",
       "      <th>0</th>\n",
       "      <td>0</td>\n",
       "      <td>3</td>\n",
       "      <td>0</td>\n",
       "      <td>1</td>\n",
       "      <td>1</td>\n",
       "      <td>0</td>\n",
       "      <td>0</td>\n",
       "      <td>1</td>\n",
       "      <td>1</td>\n",
       "      <td>0</td>\n",
       "      <td>...</td>\n",
       "      <td>100</td>\n",
       "      <td>1849</td>\n",
       "      <td>1</td>\n",
       "      <td>100</td>\n",
       "      <td>0</td>\n",
       "      <td>1.000000</td>\n",
       "      <td>0.000000</td>\n",
       "      <td>100.0000</td>\n",
       "      <td>1849</td>\n",
       "      <td>4</td>\n",
       "    </tr>\n",
       "    <tr>\n",
       "      <th>1</th>\n",
       "      <td>0</td>\n",
       "      <td>4</td>\n",
       "      <td>0</td>\n",
       "      <td>1</td>\n",
       "      <td>1</td>\n",
       "      <td>1</td>\n",
       "      <td>0</td>\n",
       "      <td>1</td>\n",
       "      <td>1</td>\n",
       "      <td>0</td>\n",
       "      <td>...</td>\n",
       "      <td>144</td>\n",
       "      <td>4489</td>\n",
       "      <td>1</td>\n",
       "      <td>144</td>\n",
       "      <td>0</td>\n",
       "      <td>1.000000</td>\n",
       "      <td>64.000000</td>\n",
       "      <td>144.0000</td>\n",
       "      <td>4489</td>\n",
       "      <td>4</td>\n",
       "    </tr>\n",
       "    <tr>\n",
       "      <th>2</th>\n",
       "      <td>0</td>\n",
       "      <td>8</td>\n",
       "      <td>0</td>\n",
       "      <td>1</td>\n",
       "      <td>1</td>\n",
       "      <td>0</td>\n",
       "      <td>0</td>\n",
       "      <td>0</td>\n",
       "      <td>0</td>\n",
       "      <td>0</td>\n",
       "      <td>...</td>\n",
       "      <td>121</td>\n",
       "      <td>8464</td>\n",
       "      <td>1</td>\n",
       "      <td>0</td>\n",
       "      <td>0</td>\n",
       "      <td>0.250000</td>\n",
       "      <td>64.000000</td>\n",
       "      <td>121.0000</td>\n",
       "      <td>8464</td>\n",
       "      <td>4</td>\n",
       "    </tr>\n",
       "    <tr>\n",
       "      <th>5</th>\n",
       "      <td>0</td>\n",
       "      <td>5</td>\n",
       "      <td>0</td>\n",
       "      <td>1</td>\n",
       "      <td>1</td>\n",
       "      <td>1</td>\n",
       "      <td>0</td>\n",
       "      <td>2</td>\n",
       "      <td>2</td>\n",
       "      <td>1</td>\n",
       "      <td>...</td>\n",
       "      <td>121</td>\n",
       "      <td>1444</td>\n",
       "      <td>16</td>\n",
       "      <td>121</td>\n",
       "      <td>4</td>\n",
       "      <td>1.777778</td>\n",
       "      <td>1.000000</td>\n",
       "      <td>121.0000</td>\n",
       "      <td>1444</td>\n",
       "      <td>4</td>\n",
       "    </tr>\n",
       "    <tr>\n",
       "      <th>8</th>\n",
       "      <td>1</td>\n",
       "      <td>2</td>\n",
       "      <td>0</td>\n",
       "      <td>1</td>\n",
       "      <td>1</td>\n",
       "      <td>0</td>\n",
       "      <td>0</td>\n",
       "      <td>1</td>\n",
       "      <td>1</td>\n",
       "      <td>2</td>\n",
       "      <td>...</td>\n",
       "      <td>81</td>\n",
       "      <td>900</td>\n",
       "      <td>16</td>\n",
       "      <td>81</td>\n",
       "      <td>4</td>\n",
       "      <td>16.000000</td>\n",
       "      <td>1.000000</td>\n",
       "      <td>100.0000</td>\n",
       "      <td>900</td>\n",
       "      <td>4</td>\n",
       "    </tr>\n",
       "    <tr>\n",
       "      <th>...</th>\n",
       "      <td>...</td>\n",
       "      <td>...</td>\n",
       "      <td>...</td>\n",
       "      <td>...</td>\n",
       "      <td>...</td>\n",
       "      <td>...</td>\n",
       "      <td>...</td>\n",
       "      <td>...</td>\n",
       "      <td>...</td>\n",
       "      <td>...</td>\n",
       "      <td>...</td>\n",
       "      <td>...</td>\n",
       "      <td>...</td>\n",
       "      <td>...</td>\n",
       "      <td>...</td>\n",
       "      <td>...</td>\n",
       "      <td>...</td>\n",
       "      <td>...</td>\n",
       "      <td>...</td>\n",
       "      <td>...</td>\n",
       "      <td>...</td>\n",
       "    </tr>\n",
       "    <tr>\n",
       "      <th>9535</th>\n",
       "      <td>0</td>\n",
       "      <td>4</td>\n",
       "      <td>0</td>\n",
       "      <td>1</td>\n",
       "      <td>0</td>\n",
       "      <td>0</td>\n",
       "      <td>1</td>\n",
       "      <td>1</td>\n",
       "      <td>2</td>\n",
       "      <td>2</td>\n",
       "      <td>...</td>\n",
       "      <td>25</td>\n",
       "      <td>676</td>\n",
       "      <td>25</td>\n",
       "      <td>0</td>\n",
       "      <td>9</td>\n",
       "      <td>6.250000</td>\n",
       "      <td>2.250000</td>\n",
       "      <td>20.2500</td>\n",
       "      <td>676</td>\n",
       "      <td>1</td>\n",
       "    </tr>\n",
       "    <tr>\n",
       "      <th>9541</th>\n",
       "      <td>0</td>\n",
       "      <td>3</td>\n",
       "      <td>0</td>\n",
       "      <td>0</td>\n",
       "      <td>0</td>\n",
       "      <td>0</td>\n",
       "      <td>2</td>\n",
       "      <td>2</td>\n",
       "      <td>4</td>\n",
       "      <td>0</td>\n",
       "      <td>...</td>\n",
       "      <td>4</td>\n",
       "      <td>1600</td>\n",
       "      <td>25</td>\n",
       "      <td>4</td>\n",
       "      <td>9</td>\n",
       "      <td>6.250000</td>\n",
       "      <td>2.250000</td>\n",
       "      <td>16.0000</td>\n",
       "      <td>1600</td>\n",
       "      <td>2</td>\n",
       "    </tr>\n",
       "    <tr>\n",
       "      <th>9545</th>\n",
       "      <td>0</td>\n",
       "      <td>5</td>\n",
       "      <td>0</td>\n",
       "      <td>1</td>\n",
       "      <td>1</td>\n",
       "      <td>0</td>\n",
       "      <td>1</td>\n",
       "      <td>2</td>\n",
       "      <td>3</td>\n",
       "      <td>0</td>\n",
       "      <td>...</td>\n",
       "      <td>4</td>\n",
       "      <td>2025</td>\n",
       "      <td>25</td>\n",
       "      <td>4</td>\n",
       "      <td>4</td>\n",
       "      <td>5.444444</td>\n",
       "      <td>0.444444</td>\n",
       "      <td>100.0000</td>\n",
       "      <td>2025</td>\n",
       "      <td>4</td>\n",
       "    </tr>\n",
       "    <tr>\n",
       "      <th>9551</th>\n",
       "      <td>0</td>\n",
       "      <td>3</td>\n",
       "      <td>0</td>\n",
       "      <td>1</td>\n",
       "      <td>1</td>\n",
       "      <td>0</td>\n",
       "      <td>0</td>\n",
       "      <td>1</td>\n",
       "      <td>1</td>\n",
       "      <td>0</td>\n",
       "      <td>...</td>\n",
       "      <td>0</td>\n",
       "      <td>4489</td>\n",
       "      <td>4</td>\n",
       "      <td>0</td>\n",
       "      <td>0</td>\n",
       "      <td>4.000000</td>\n",
       "      <td>1.000000</td>\n",
       "      <td>9.0000</td>\n",
       "      <td>4489</td>\n",
       "      <td>2</td>\n",
       "    </tr>\n",
       "    <tr>\n",
       "      <th>9552</th>\n",
       "      <td>0</td>\n",
       "      <td>6</td>\n",
       "      <td>0</td>\n",
       "      <td>1</td>\n",
       "      <td>1</td>\n",
       "      <td>0</td>\n",
       "      <td>0</td>\n",
       "      <td>2</td>\n",
       "      <td>2</td>\n",
       "      <td>1</td>\n",
       "      <td>...</td>\n",
       "      <td>81</td>\n",
       "      <td>2116</td>\n",
       "      <td>25</td>\n",
       "      <td>81</td>\n",
       "      <td>1</td>\n",
       "      <td>1.562500</td>\n",
       "      <td>0.062500</td>\n",
       "      <td>68.0625</td>\n",
       "      <td>2116</td>\n",
       "      <td>2</td>\n",
       "    </tr>\n",
       "  </tbody>\n",
       "</table>\n",
       "<p>2970 rows × 138 columns</p>\n",
       "</div>"
      ],
      "text/plain": [
       "      hacdor  rooms  hacapo  v14a  refrig  v18q  r4h1  r4h2  r4h3  r4m1  ...  \\\n",
       "0          0      3       0     1       1     0     0     1     1     0  ...   \n",
       "1          0      4       0     1       1     1     0     1     1     0  ...   \n",
       "2          0      8       0     1       1     0     0     0     0     0  ...   \n",
       "5          0      5       0     1       1     1     0     2     2     1  ...   \n",
       "8          1      2       0     1       1     0     0     1     1     2  ...   \n",
       "...      ...    ...     ...   ...     ...   ...   ...   ...   ...   ...  ...   \n",
       "9535       0      4       0     1       0     0     1     1     2     2  ...   \n",
       "9541       0      3       0     0       0     0     2     2     4     0  ...   \n",
       "9545       0      5       0     1       1     0     1     2     3     0  ...   \n",
       "9551       0      3       0     1       1     0     0     1     1     0  ...   \n",
       "9552       0      6       0     1       1     0     0     2     2     1  ...   \n",
       "\n",
       "      SQBescolari  SQBage  SQBhogar_total  SQBedjefe  SQBhogar_nin  \\\n",
       "0             100    1849               1        100             0   \n",
       "1             144    4489               1        144             0   \n",
       "2             121    8464               1          0             0   \n",
       "5             121    1444              16        121             4   \n",
       "8              81     900              16         81             4   \n",
       "...           ...     ...             ...        ...           ...   \n",
       "9535           25     676              25          0             9   \n",
       "9541            4    1600              25          4             9   \n",
       "9545            4    2025              25          4             4   \n",
       "9551            0    4489               4          0             0   \n",
       "9552           81    2116              25         81             1   \n",
       "\n",
       "      SQBovercrowding  SQBdependency  SQBmeaned  agesq  Target  \n",
       "0            1.000000       0.000000   100.0000   1849       4  \n",
       "1            1.000000      64.000000   144.0000   4489       4  \n",
       "2            0.250000      64.000000   121.0000   8464       4  \n",
       "5            1.777778       1.000000   121.0000   1444       4  \n",
       "8           16.000000       1.000000   100.0000    900       4  \n",
       "...               ...            ...        ...    ...     ...  \n",
       "9535         6.250000       2.250000    20.2500    676       1  \n",
       "9541         6.250000       2.250000    16.0000   1600       2  \n",
       "9545         5.444444       0.444444   100.0000   2025       4  \n",
       "9551         4.000000       1.000000     9.0000   4489       2  \n",
       "9552         1.562500       0.062500    68.0625   2116       2  \n",
       "\n",
       "[2970 rows x 138 columns]"
      ]
     },
     "execution_count": 606,
     "metadata": {},
     "output_type": "execute_result"
    }
   ],
   "source": [
    "train_csv.drop('Id',axis=1, inplace=True)\n",
    "train_csv.drop('idhogar',axis=1, inplace=True)\n",
    "train_csv"
   ]
  },
  {
   "cell_type": "code",
   "execution_count": 607,
   "metadata": {},
   "outputs": [
    {
     "name": "stdout",
     "output_type": "stream",
     "text": [
      "<class 'pandas.core.frame.DataFrame'>\n",
      "Int64Index: 7317 entries, 2 to 23852\n",
      "Columns: 139 entries, Id to agesq\n",
      "dtypes: float64(8), int64(129), object(2)\n",
      "memory usage: 7.8+ MB\n"
     ]
    }
   ],
   "source": [
    "test_csv.info()"
   ]
  },
  {
   "cell_type": "code",
   "execution_count": 608,
   "metadata": {},
   "outputs": [
    {
     "data": {
      "text/plain": [
       "Id         True\n",
       "idhogar    True\n",
       "dtype: bool"
      ]
     },
     "execution_count": 608,
     "metadata": {},
     "output_type": "execute_result"
    }
   ],
   "source": [
    "df2 = (test_csv.dtypes == object)\n",
    "df2[df2 == True]"
   ]
  },
  {
   "cell_type": "code",
   "execution_count": 609,
   "metadata": {},
   "outputs": [
    {
     "data": {
      "text/html": [
       "<div>\n",
       "<style scoped>\n",
       "    .dataframe tbody tr th:only-of-type {\n",
       "        vertical-align: middle;\n",
       "    }\n",
       "\n",
       "    .dataframe tbody tr th {\n",
       "        vertical-align: top;\n",
       "    }\n",
       "\n",
       "    .dataframe thead th {\n",
       "        text-align: right;\n",
       "    }\n",
       "</style>\n",
       "<table border=\"1\" class=\"dataframe\">\n",
       "  <thead>\n",
       "    <tr style=\"text-align: right;\">\n",
       "      <th></th>\n",
       "      <th>hacdor</th>\n",
       "      <th>rooms</th>\n",
       "      <th>hacapo</th>\n",
       "      <th>v14a</th>\n",
       "      <th>refrig</th>\n",
       "      <th>v18q</th>\n",
       "      <th>r4h1</th>\n",
       "      <th>r4h2</th>\n",
       "      <th>r4h3</th>\n",
       "      <th>r4m1</th>\n",
       "      <th>...</th>\n",
       "      <th>age</th>\n",
       "      <th>SQBescolari</th>\n",
       "      <th>SQBage</th>\n",
       "      <th>SQBhogar_total</th>\n",
       "      <th>SQBedjefe</th>\n",
       "      <th>SQBhogar_nin</th>\n",
       "      <th>SQBovercrowding</th>\n",
       "      <th>SQBdependency</th>\n",
       "      <th>SQBmeaned</th>\n",
       "      <th>agesq</th>\n",
       "    </tr>\n",
       "  </thead>\n",
       "  <tbody>\n",
       "    <tr>\n",
       "      <th>2</th>\n",
       "      <td>0</td>\n",
       "      <td>5</td>\n",
       "      <td>0</td>\n",
       "      <td>1</td>\n",
       "      <td>1</td>\n",
       "      <td>0</td>\n",
       "      <td>1</td>\n",
       "      <td>1</td>\n",
       "      <td>2</td>\n",
       "      <td>0</td>\n",
       "      <td>...</td>\n",
       "      <td>41</td>\n",
       "      <td>289</td>\n",
       "      <td>1681</td>\n",
       "      <td>9</td>\n",
       "      <td>0</td>\n",
       "      <td>1</td>\n",
       "      <td>2.250000</td>\n",
       "      <td>0.25</td>\n",
       "      <td>272.2500</td>\n",
       "      <td>1681</td>\n",
       "    </tr>\n",
       "    <tr>\n",
       "      <th>3</th>\n",
       "      <td>0</td>\n",
       "      <td>14</td>\n",
       "      <td>0</td>\n",
       "      <td>1</td>\n",
       "      <td>1</td>\n",
       "      <td>1</td>\n",
       "      <td>0</td>\n",
       "      <td>1</td>\n",
       "      <td>1</td>\n",
       "      <td>0</td>\n",
       "      <td>...</td>\n",
       "      <td>59</td>\n",
       "      <td>256</td>\n",
       "      <td>3481</td>\n",
       "      <td>1</td>\n",
       "      <td>256</td>\n",
       "      <td>0</td>\n",
       "      <td>1.000000</td>\n",
       "      <td>0.00</td>\n",
       "      <td>256.0000</td>\n",
       "      <td>3481</td>\n",
       "    </tr>\n",
       "    <tr>\n",
       "      <th>6</th>\n",
       "      <td>0</td>\n",
       "      <td>3</td>\n",
       "      <td>0</td>\n",
       "      <td>1</td>\n",
       "      <td>1</td>\n",
       "      <td>1</td>\n",
       "      <td>0</td>\n",
       "      <td>0</td>\n",
       "      <td>0</td>\n",
       "      <td>0</td>\n",
       "      <td>...</td>\n",
       "      <td>42</td>\n",
       "      <td>121</td>\n",
       "      <td>1764</td>\n",
       "      <td>4</td>\n",
       "      <td>0</td>\n",
       "      <td>0</td>\n",
       "      <td>1.000000</td>\n",
       "      <td>0.00</td>\n",
       "      <td>182.2500</td>\n",
       "      <td>1764</td>\n",
       "    </tr>\n",
       "    <tr>\n",
       "      <th>8</th>\n",
       "      <td>0</td>\n",
       "      <td>6</td>\n",
       "      <td>0</td>\n",
       "      <td>1</td>\n",
       "      <td>1</td>\n",
       "      <td>1</td>\n",
       "      <td>0</td>\n",
       "      <td>0</td>\n",
       "      <td>0</td>\n",
       "      <td>0</td>\n",
       "      <td>...</td>\n",
       "      <td>22</td>\n",
       "      <td>196</td>\n",
       "      <td>484</td>\n",
       "      <td>4</td>\n",
       "      <td>0</td>\n",
       "      <td>0</td>\n",
       "      <td>0.250000</td>\n",
       "      <td>0.00</td>\n",
       "      <td>196.0000</td>\n",
       "      <td>484</td>\n",
       "    </tr>\n",
       "    <tr>\n",
       "      <th>9</th>\n",
       "      <td>0</td>\n",
       "      <td>6</td>\n",
       "      <td>0</td>\n",
       "      <td>1</td>\n",
       "      <td>1</td>\n",
       "      <td>0</td>\n",
       "      <td>0</td>\n",
       "      <td>0</td>\n",
       "      <td>0</td>\n",
       "      <td>0</td>\n",
       "      <td>...</td>\n",
       "      <td>70</td>\n",
       "      <td>100</td>\n",
       "      <td>4900</td>\n",
       "      <td>1</td>\n",
       "      <td>0</td>\n",
       "      <td>0</td>\n",
       "      <td>0.111111</td>\n",
       "      <td>64.00</td>\n",
       "      <td>100.0000</td>\n",
       "      <td>4900</td>\n",
       "    </tr>\n",
       "    <tr>\n",
       "      <th>...</th>\n",
       "      <td>...</td>\n",
       "      <td>...</td>\n",
       "      <td>...</td>\n",
       "      <td>...</td>\n",
       "      <td>...</td>\n",
       "      <td>...</td>\n",
       "      <td>...</td>\n",
       "      <td>...</td>\n",
       "      <td>...</td>\n",
       "      <td>...</td>\n",
       "      <td>...</td>\n",
       "      <td>...</td>\n",
       "      <td>...</td>\n",
       "      <td>...</td>\n",
       "      <td>...</td>\n",
       "      <td>...</td>\n",
       "      <td>...</td>\n",
       "      <td>...</td>\n",
       "      <td>...</td>\n",
       "      <td>...</td>\n",
       "      <td>...</td>\n",
       "    </tr>\n",
       "    <tr>\n",
       "      <th>23836</th>\n",
       "      <td>0</td>\n",
       "      <td>4</td>\n",
       "      <td>0</td>\n",
       "      <td>0</td>\n",
       "      <td>0</td>\n",
       "      <td>0</td>\n",
       "      <td>1</td>\n",
       "      <td>0</td>\n",
       "      <td>1</td>\n",
       "      <td>0</td>\n",
       "      <td>...</td>\n",
       "      <td>68</td>\n",
       "      <td>9</td>\n",
       "      <td>4624</td>\n",
       "      <td>4</td>\n",
       "      <td>0</td>\n",
       "      <td>1</td>\n",
       "      <td>1.000000</td>\n",
       "      <td>64.00</td>\n",
       "      <td>9.0000</td>\n",
       "      <td>4624</td>\n",
       "    </tr>\n",
       "    <tr>\n",
       "      <th>23841</th>\n",
       "      <td>0</td>\n",
       "      <td>4</td>\n",
       "      <td>0</td>\n",
       "      <td>1</td>\n",
       "      <td>1</td>\n",
       "      <td>0</td>\n",
       "      <td>1</td>\n",
       "      <td>1</td>\n",
       "      <td>2</td>\n",
       "      <td>1</td>\n",
       "      <td>...</td>\n",
       "      <td>42</td>\n",
       "      <td>16</td>\n",
       "      <td>1764</td>\n",
       "      <td>36</td>\n",
       "      <td>16</td>\n",
       "      <td>16</td>\n",
       "      <td>9.000000</td>\n",
       "      <td>4.00</td>\n",
       "      <td>25.0000</td>\n",
       "      <td>1764</td>\n",
       "    </tr>\n",
       "    <tr>\n",
       "      <th>23843</th>\n",
       "      <td>0</td>\n",
       "      <td>5</td>\n",
       "      <td>0</td>\n",
       "      <td>1</td>\n",
       "      <td>1</td>\n",
       "      <td>0</td>\n",
       "      <td>0</td>\n",
       "      <td>1</td>\n",
       "      <td>1</td>\n",
       "      <td>0</td>\n",
       "      <td>...</td>\n",
       "      <td>47</td>\n",
       "      <td>0</td>\n",
       "      <td>2209</td>\n",
       "      <td>9</td>\n",
       "      <td>0</td>\n",
       "      <td>1</td>\n",
       "      <td>1.000000</td>\n",
       "      <td>0.25</td>\n",
       "      <td>30.2500</td>\n",
       "      <td>2209</td>\n",
       "    </tr>\n",
       "    <tr>\n",
       "      <th>23847</th>\n",
       "      <td>1</td>\n",
       "      <td>2</td>\n",
       "      <td>1</td>\n",
       "      <td>1</td>\n",
       "      <td>1</td>\n",
       "      <td>0</td>\n",
       "      <td>0</td>\n",
       "      <td>2</td>\n",
       "      <td>2</td>\n",
       "      <td>1</td>\n",
       "      <td>...</td>\n",
       "      <td>57</td>\n",
       "      <td>25</td>\n",
       "      <td>3249</td>\n",
       "      <td>36</td>\n",
       "      <td>25</td>\n",
       "      <td>4</td>\n",
       "      <td>36.000000</td>\n",
       "      <td>0.25</td>\n",
       "      <td>33.0625</td>\n",
       "      <td>3249</td>\n",
       "    </tr>\n",
       "    <tr>\n",
       "      <th>23852</th>\n",
       "      <td>0</td>\n",
       "      <td>3</td>\n",
       "      <td>0</td>\n",
       "      <td>1</td>\n",
       "      <td>1</td>\n",
       "      <td>0</td>\n",
       "      <td>0</td>\n",
       "      <td>1</td>\n",
       "      <td>1</td>\n",
       "      <td>0</td>\n",
       "      <td>...</td>\n",
       "      <td>54</td>\n",
       "      <td>36</td>\n",
       "      <td>2916</td>\n",
       "      <td>16</td>\n",
       "      <td>36</td>\n",
       "      <td>4</td>\n",
       "      <td>4.000000</td>\n",
       "      <td>1.00</td>\n",
       "      <td>36.0000</td>\n",
       "      <td>2916</td>\n",
       "    </tr>\n",
       "  </tbody>\n",
       "</table>\n",
       "<p>7317 rows × 137 columns</p>\n",
       "</div>"
      ],
      "text/plain": [
       "       hacdor  rooms  hacapo  v14a  refrig  v18q  r4h1  r4h2  r4h3  r4m1  ...  \\\n",
       "2           0      5       0     1       1     0     1     1     2     0  ...   \n",
       "3           0     14       0     1       1     1     0     1     1     0  ...   \n",
       "6           0      3       0     1       1     1     0     0     0     0  ...   \n",
       "8           0      6       0     1       1     1     0     0     0     0  ...   \n",
       "9           0      6       0     1       1     0     0     0     0     0  ...   \n",
       "...       ...    ...     ...   ...     ...   ...   ...   ...   ...   ...  ...   \n",
       "23836       0      4       0     0       0     0     1     0     1     0  ...   \n",
       "23841       0      4       0     1       1     0     1     1     2     1  ...   \n",
       "23843       0      5       0     1       1     0     0     1     1     0  ...   \n",
       "23847       1      2       1     1       1     0     0     2     2     1  ...   \n",
       "23852       0      3       0     1       1     0     0     1     1     0  ...   \n",
       "\n",
       "       age  SQBescolari  SQBage  SQBhogar_total  SQBedjefe  SQBhogar_nin  \\\n",
       "2       41          289    1681               9          0             1   \n",
       "3       59          256    3481               1        256             0   \n",
       "6       42          121    1764               4          0             0   \n",
       "8       22          196     484               4          0             0   \n",
       "9       70          100    4900               1          0             0   \n",
       "...    ...          ...     ...             ...        ...           ...   \n",
       "23836   68            9    4624               4          0             1   \n",
       "23841   42           16    1764              36         16            16   \n",
       "23843   47            0    2209               9          0             1   \n",
       "23847   57           25    3249              36         25             4   \n",
       "23852   54           36    2916              16         36             4   \n",
       "\n",
       "       SQBovercrowding  SQBdependency  SQBmeaned  agesq  \n",
       "2             2.250000           0.25   272.2500   1681  \n",
       "3             1.000000           0.00   256.0000   3481  \n",
       "6             1.000000           0.00   182.2500   1764  \n",
       "8             0.250000           0.00   196.0000    484  \n",
       "9             0.111111          64.00   100.0000   4900  \n",
       "...                ...            ...        ...    ...  \n",
       "23836         1.000000          64.00     9.0000   4624  \n",
       "23841         9.000000           4.00    25.0000   1764  \n",
       "23843         1.000000           0.25    30.2500   2209  \n",
       "23847        36.000000           0.25    33.0625   3249  \n",
       "23852         4.000000           1.00    36.0000   2916  \n",
       "\n",
       "[7317 rows x 137 columns]"
      ]
     },
     "execution_count": 609,
     "metadata": {},
     "output_type": "execute_result"
    }
   ],
   "source": [
    "test_csv.drop('Id',axis=1, inplace=True)\n",
    "test_csv.drop('idhogar',axis=1, inplace=True)\n",
    "test_csv"
   ]
  },
  {
   "cell_type": "markdown",
   "metadata": {},
   "source": [
    "#### Q5: Determine if some feature engineering can be done and perform them as determined."
   ]
  },
  {
   "cell_type": "code",
   "execution_count": 610,
   "metadata": {},
   "outputs": [
    {
     "data": {
      "text/plain": [
       "(2970, 138)"
      ]
     },
     "execution_count": 610,
     "metadata": {},
     "output_type": "execute_result"
    }
   ],
   "source": [
    "train_csv.shape"
   ]
  },
  {
   "cell_type": "code",
   "execution_count": 611,
   "metadata": {
    "scrolled": true
   },
   "outputs": [
    {
     "name": "stdout",
     "output_type": "stream",
     "text": [
      "<class 'pandas.core.frame.DataFrame'>\n",
      "Int64Index: 2970 entries, 0 to 9552\n",
      "Columns: 138 entries, hacdor to Target\n",
      "dtypes: float64(8), int64(130)\n",
      "memory usage: 3.1 MB\n"
     ]
    }
   ],
   "source": [
    "train_csv.info()"
   ]
  },
  {
   "cell_type": "code",
   "execution_count": 612,
   "metadata": {},
   "outputs": [
    {
     "data": {
      "text/plain": [
       "(7317, 137)"
      ]
     },
     "execution_count": 612,
     "metadata": {},
     "output_type": "execute_result"
    }
   ],
   "source": [
    "test_csv.shape"
   ]
  },
  {
   "cell_type": "code",
   "execution_count": 613,
   "metadata": {},
   "outputs": [
    {
     "name": "stdout",
     "output_type": "stream",
     "text": [
      "<class 'pandas.core.frame.DataFrame'>\n",
      "Int64Index: 7317 entries, 2 to 23852\n",
      "Columns: 137 entries, hacdor to agesq\n",
      "dtypes: float64(8), int64(129)\n",
      "memory usage: 7.7 MB\n"
     ]
    }
   ],
   "source": [
    "test_csv.info()"
   ]
  },
  {
   "cell_type": "markdown",
   "metadata": {},
   "source": [
    "# Part 4: Machine learning implementation"
   ]
  },
  {
   "cell_type": "markdown",
   "metadata": {},
   "source": [
    "### Once the data has been satisfactorily preprocessed, implement it onto machine learning models."
   ]
  },
  {
   "cell_type": "markdown",
   "metadata": {},
   "source": [
    "#### Q1: Scale the preprocessed data if needed."
   ]
  },
  {
   "cell_type": "code",
   "execution_count": 614,
   "metadata": {},
   "outputs": [],
   "source": [
    "from sklearn.preprocessing import StandardScaler\n",
    "scaler = StandardScaler()\n",
    "X = train_csv.values[:,:-1]\n",
    "X_scaled = scaler.fit_transform(X)  "
   ]
  },
  {
   "cell_type": "code",
   "execution_count": 615,
   "metadata": {},
   "outputs": [
    {
     "data": {
      "text/plain": [
       "(2970,)"
      ]
     },
     "execution_count": 615,
     "metadata": {},
     "output_type": "execute_result"
    }
   ],
   "source": [
    "y = train_csv.values[:,-1]\n",
    "y.shape"
   ]
  },
  {
   "cell_type": "code",
   "execution_count": 616,
   "metadata": {},
   "outputs": [],
   "source": [
    "X_test = test_csv.values[:,:]\n",
    "X_test_scaled = scaler.fit_transform(X_test) "
   ]
  },
  {
   "cell_type": "markdown",
   "metadata": {},
   "source": [
    "#### Q2: Split the data into train and validation sets"
   ]
  },
  {
   "cell_type": "code",
   "execution_count": 678,
   "metadata": {},
   "outputs": [],
   "source": [
    "from sklearn.model_selection import train_test_split\n",
    "X_train, X_val, y_train, y_val = train_test_split(X_scaled, y, test_size=0.3, random_state=25)    # PCA 사용하지 않음."
   ]
  },
  {
   "cell_type": "code",
   "execution_count": 679,
   "metadata": {},
   "outputs": [
    {
     "data": {
      "text/plain": [
       "((2079, 137), (2079,))"
      ]
     },
     "execution_count": 679,
     "metadata": {},
     "output_type": "execute_result"
    }
   ],
   "source": [
    "X_train.shape, y_train.shape"
   ]
  },
  {
   "cell_type": "code",
   "execution_count": 683,
   "metadata": {},
   "outputs": [],
   "source": [
    "from sklearn.decomposition import PCA \n",
    "\n",
    "pca = PCA(n_components=20)\n",
    "pca_result = pca.fit_transform(X_scaled)\n",
    "X_train2, X_val2, y_train2, y_val2 = train_test_split(pca_result, y, test_size=0.3, random_state=25)   # PCA 사용"
   ]
  },
  {
   "cell_type": "code",
   "execution_count": 684,
   "metadata": {},
   "outputs": [
    {
     "data": {
      "text/plain": [
       "((2079, 20), (2079,))"
      ]
     },
     "execution_count": 684,
     "metadata": {},
     "output_type": "execute_result"
    }
   ],
   "source": [
    "X_train2.shape, y_train2.shape"
   ]
  },
  {
   "cell_type": "markdown",
   "metadata": {},
   "source": [
    "#### Q3: Determine the machine learning models to be used and perform them. (Apply K-Fold cross validation or any other methods to improve the results.)"
   ]
  },
  {
   "cell_type": "code",
   "execution_count": 623,
   "metadata": {},
   "outputs": [
    {
     "name": "stdout",
     "output_type": "stream",
     "text": [
      "Linear Reg score: 0.64\n"
     ]
    }
   ],
   "source": [
    "from sklearn.linear_model import SGDClassifier\n",
    "from sklearn.neighbors import KNeighborsClassifier\n",
    "from sklearn.model_selection import cross_val_score, KFold\n",
    "from sklearn.tree import DecisionTreeClassifier\n",
    "from sklearn.ensemble import RandomForestClassifier\n",
    "\n",
    "clf = SGDClassifier()\n",
    "clf.fit(X_train, y_train)\n",
    "print(\"Linear Reg score: {:.2f}\".format(clf.score(X_val, y_val)))"
   ]
  },
  {
   "cell_type": "code",
   "execution_count": 685,
   "metadata": {},
   "outputs": [
    {
     "name": "stdout",
     "output_type": "stream",
     "text": [
      "Linear Reg score: 0.63\n"
     ]
    }
   ],
   "source": [
    "clf = SGDClassifier()\n",
    "clf.fit(X_train2, y_train2)\n",
    "print(\"Linear Reg score: {:.2f}\".format(clf.score(X_val2, y_val2)))"
   ]
  },
  {
   "cell_type": "code",
   "execution_count": 624,
   "metadata": {},
   "outputs": [
    {
     "name": "stdout",
     "output_type": "stream",
     "text": [
      "K가 1 일때 정확도: 0.57\n",
      "K가 2 일때 정확도: 0.50\n",
      "K가 3 일때 정확도: 0.60\n",
      "K가 4 일때 정확도: 0.61\n",
      "K가 5 일때 정확도: 0.62\n",
      "K가 6 일때 정확도: 0.63\n",
      "K가 7 일때 정확도: 0.63\n",
      "K가 8 일때 정확도: 0.63\n",
      "K가 9 일때 정확도: 0.64\n"
     ]
    }
   ],
   "source": [
    "for k in range(1,10):\n",
    "    knn = KNeighborsClassifier(n_neighbors=k)\n",
    "    knn.fit(X_train,y_train)\n",
    "    print(\"K가\", k, \"일때 정확도: {:.2f}\".format(knn.score(X_val, y_val)))"
   ]
  },
  {
   "cell_type": "code",
   "execution_count": 686,
   "metadata": {},
   "outputs": [
    {
     "name": "stdout",
     "output_type": "stream",
     "text": [
      "K가 1 일때 정확도: 0.58\n",
      "K가 2 일때 정확도: 0.50\n",
      "K가 3 일때 정확도: 0.60\n",
      "K가 4 일때 정확도: 0.61\n",
      "K가 5 일때 정확도: 0.63\n",
      "K가 6 일때 정확도: 0.63\n",
      "K가 7 일때 정확도: 0.64\n",
      "K가 8 일때 정확도: 0.65\n",
      "K가 9 일때 정확도: 0.65\n"
     ]
    }
   ],
   "source": [
    "for k in range(1,10):\n",
    "    knn = KNeighborsClassifier(n_neighbors=k)\n",
    "    knn.fit(X_train2,y_train2)\n",
    "    print(\"K가\", k, \"일때 정확도: {:.2f}\".format(knn.score(X_val2, y_val2)))"
   ]
  },
  {
   "cell_type": "code",
   "execution_count": 680,
   "metadata": {},
   "outputs": [
    {
     "name": "stdout",
     "output_type": "stream",
     "text": [
      "max_depth이 1 일때 정확도: 0.66\n",
      "max_depth이 2 일때 정확도: 0.66\n",
      "max_depth이 3 일때 정확도: 0.67\n",
      "max_depth이 4 일때 정확도: 0.66\n",
      "max_depth이 5 일때 정확도: 0.66\n",
      "max_depth이 6 일때 정확도: 0.66\n",
      "max_depth이 7 일때 정확도: 0.65\n",
      "max_depth이 8 일때 정확도: 0.64\n",
      "max_depth이 9 일때 정확도: 0.63\n"
     ]
    }
   ],
   "source": [
    "for k in range(1,10):\n",
    "    tree = DecisionTreeClassifier(max_depth = k)\n",
    "    tree.fit(X_train, y_train)\n",
    "    print(\"max_depth이\", k, \"일때 정확도: {:.2f}\".format(tree.score(X_val, y_val)))"
   ]
  },
  {
   "cell_type": "code",
   "execution_count": 675,
   "metadata": {},
   "outputs": [
    {
     "name": "stdout",
     "output_type": "stream",
     "text": [
      "max_depth이 1 일때 정확도: 0.65\n",
      "max_depth이 2 일때 정확도: 0.65\n",
      "max_depth이 3 일때 정확도: 0.66\n",
      "max_depth이 4 일때 정확도: 0.65\n",
      "max_depth이 5 일때 정확도: 0.65\n",
      "max_depth이 6 일때 정확도: 0.64\n",
      "max_depth이 7 일때 정확도: 0.63\n",
      "max_depth이 8 일때 정확도: 0.62\n",
      "max_depth이 9 일때 정확도: 0.61\n"
     ]
    }
   ],
   "source": [
    "for k in range(1,10):\n",
    "    tree = DecisionTreeClassifier(max_depth = k)\n",
    "    tree.fit(X_train2, y_train2)\n",
    "    print(\"max_depth이\", k, \"일때 정확도: {:.2f}\".format(tree.score(X_val2, y_val2)))"
   ]
  },
  {
   "cell_type": "code",
   "execution_count": 656,
   "metadata": {},
   "outputs": [
    {
     "name": "stdout",
     "output_type": "stream",
     "text": [
      "랜덤포레스트 정확도: 0.6768\n"
     ]
    }
   ],
   "source": [
    "rfc = RandomForestClassifier(n_estimators=500)  # The number of trees : 500\n",
    "rfc.fit(X_train, y_train)\n",
    "print(\"랜덤포레스트 정확도: {:.4f}\".format(rfc.score(X_val, y_val)))"
   ]
  },
  {
   "cell_type": "code",
   "execution_count": 688,
   "metadata": {},
   "outputs": [
    {
     "name": "stdout",
     "output_type": "stream",
     "text": [
      "랜덤포레스트 정확도: 0.6655\n"
     ]
    }
   ],
   "source": [
    "rfc = RandomForestClassifier(n_estimators=500)  # The number of trees : 500\n",
    "rfc.fit(X_train2, y_train2)\n",
    "print(\"랜덤포레스트 정확도: {:.4f}\".format(rfc.score(X_val2, y_val2)))"
   ]
  },
  {
   "cell_type": "markdown",
   "metadata": {},
   "source": [
    "##### K-Fold cross validation 사용"
   ]
  },
  {
   "cell_type": "code",
   "execution_count": 657,
   "metadata": {},
   "outputs": [
    {
     "data": {
      "text/plain": [
       "0.5192"
      ]
     },
     "execution_count": 657,
     "metadata": {},
     "output_type": "execute_result"
    }
   ],
   "source": [
    "cross_val_score(clf, X, y, cv=5).mean().round(4)  #  SGDClassifier() "
   ]
  },
  {
   "cell_type": "code",
   "execution_count": 658,
   "metadata": {},
   "outputs": [
    {
     "data": {
      "text/plain": [
       "0.6017"
      ]
     },
     "execution_count": 658,
     "metadata": {},
     "output_type": "execute_result"
    }
   ],
   "source": [
    "cross_val_score(clf, pca_result, y, cv=5).mean().round(4)  #  SGDClassifier() "
   ]
  },
  {
   "cell_type": "code",
   "execution_count": 664,
   "metadata": {},
   "outputs": [
    {
     "data": {
      "text/plain": [
       "0.4933"
      ]
     },
     "execution_count": 664,
     "metadata": {},
     "output_type": "execute_result"
    }
   ],
   "source": [
    "cross_val_score(clf, X_scaled , y, cv=5).mean().round(4)  #  SGDClassifier() "
   ]
  },
  {
   "cell_type": "code",
   "execution_count": 665,
   "metadata": {},
   "outputs": [
    {
     "data": {
      "text/plain": [
       "0.6175"
      ]
     },
     "execution_count": 665,
     "metadata": {},
     "output_type": "execute_result"
    }
   ],
   "source": [
    "cross_val_score(knn, X, y, cv=5).mean().round(4)  #  KNeighborsClassifier"
   ]
  },
  {
   "cell_type": "code",
   "execution_count": 666,
   "metadata": {},
   "outputs": [
    {
     "data": {
      "text/plain": [
       "0.6303"
      ]
     },
     "execution_count": 666,
     "metadata": {},
     "output_type": "execute_result"
    }
   ],
   "source": [
    "cross_val_score(knn, pca_result, y, cv=5).mean().round(4)  #  KNeighborsClassifier"
   ]
  },
  {
   "cell_type": "code",
   "execution_count": 667,
   "metadata": {},
   "outputs": [
    {
     "data": {
      "text/plain": [
       "0.6266"
      ]
     },
     "execution_count": 667,
     "metadata": {},
     "output_type": "execute_result"
    }
   ],
   "source": [
    "cross_val_score(knn, X_scaled, y, cv=5).mean().round(4)  #  KNeighborsClassifier"
   ]
  },
  {
   "cell_type": "code",
   "execution_count": 668,
   "metadata": {},
   "outputs": [
    {
     "data": {
      "text/plain": [
       "0.5273"
      ]
     },
     "execution_count": 668,
     "metadata": {},
     "output_type": "execute_result"
    }
   ],
   "source": [
    "cross_val_score(tree, X, y, cv=5).mean().round(4)  #   DecisionTreeClassifier"
   ]
  },
  {
   "cell_type": "code",
   "execution_count": 641,
   "metadata": {},
   "outputs": [
    {
     "data": {
      "text/plain": [
       "0.5269"
      ]
     },
     "execution_count": 641,
     "metadata": {},
     "output_type": "execute_result"
    }
   ],
   "source": [
    "cross_val_score(tree, pca_result, y, cv=5).mean().round(4)  #   DecisionTreeClassifier"
   ]
  },
  {
   "cell_type": "code",
   "execution_count": 669,
   "metadata": {},
   "outputs": [
    {
     "data": {
      "text/plain": [
       "0.5249"
      ]
     },
     "execution_count": 669,
     "metadata": {},
     "output_type": "execute_result"
    }
   ],
   "source": [
    "cross_val_score(tree, X_scaled , y, cv=5).mean().round(4)  #   DecisionTreeClassifier"
   ]
  },
  {
   "cell_type": "code",
   "execution_count": 670,
   "metadata": {},
   "outputs": [
    {
     "data": {
      "text/plain": [
       "0.6589"
      ]
     },
     "execution_count": 670,
     "metadata": {},
     "output_type": "execute_result"
    }
   ],
   "source": [
    "cross_val_score(rfc, X, y, cv=5).mean().round(4)  #  RandomForestClassifier"
   ]
  },
  {
   "cell_type": "code",
   "execution_count": 671,
   "metadata": {},
   "outputs": [
    {
     "data": {
      "text/plain": [
       "0.6455"
      ]
     },
     "execution_count": 671,
     "metadata": {},
     "output_type": "execute_result"
    }
   ],
   "source": [
    "cross_val_score(rfc, pca_result, y, cv=5).mean().round(4)  #  RandomForestClassifier"
   ]
  },
  {
   "cell_type": "code",
   "execution_count": 672,
   "metadata": {
    "scrolled": true
   },
   "outputs": [
    {
     "data": {
      "text/plain": [
       "0.6519"
      ]
     },
     "execution_count": 672,
     "metadata": {},
     "output_type": "execute_result"
    }
   ],
   "source": [
    "cross_val_score(rfc, X_scaled, y, cv=5).mean().round(4)  #  RandomForestClassifier"
   ]
  },
  {
   "cell_type": "markdown",
   "metadata": {},
   "source": [
    "# Part 5: Performance evaluation"
   ]
  },
  {
   "cell_type": "markdown",
   "metadata": {},
   "source": [
    "#### Q1: Determine the results."
   ]
  },
  {
   "cell_type": "code",
   "execution_count": 673,
   "metadata": {},
   "outputs": [
    {
     "data": {
      "text/plain": [
       "4.0    5103\n",
       "2.0    1021\n",
       "3.0     731\n",
       "1.0     462\n",
       "dtype: int64"
      ]
     },
     "execution_count": 673,
     "metadata": {},
     "output_type": "execute_result"
    }
   ],
   "source": [
    "Y_pred1=clf.predict(X_test_scaled)\n",
    "Y_pred1=pd.Series(Y_pred1)\n",
    "Y_pred1.value_counts()"
   ]
  },
  {
   "cell_type": "code",
   "execution_count": 486,
   "metadata": {},
   "outputs": [
    {
     "data": {
      "text/plain": [
       "4.0    6471\n",
       "2.0     433\n",
       "3.0     279\n",
       "1.0     151\n",
       "dtype: int64"
      ]
     },
     "execution_count": 486,
     "metadata": {},
     "output_type": "execute_result"
    }
   ],
   "source": [
    "Y_pred2=knn.predict(X_test_scaled)\n",
    "Y_pred2=pd.Series(Y_pred2)\n",
    "Y_pred2.value_counts()"
   ]
  },
  {
   "cell_type": "code",
   "execution_count": 487,
   "metadata": {},
   "outputs": [
    {
     "data": {
      "text/plain": [
       "array([[0.   , 0.   , 0.   , 1.   ],\n",
       "       [0.   , 0.   , 0.   , 1.   ],\n",
       "       [0.   , 0.222, 0.111, 0.667],\n",
       "       [0.   , 0.111, 0.111, 0.778],\n",
       "       [0.   , 0.   , 0.   , 1.   ],\n",
       "       [0.   , 0.111, 0.   , 0.889],\n",
       "       [0.   , 0.   , 0.   , 1.   ],\n",
       "       [0.   , 0.   , 0.   , 1.   ],\n",
       "       [0.   , 0.   , 0.222, 0.778],\n",
       "       [0.111, 0.111, 0.   , 0.778]])"
      ]
     },
     "execution_count": 487,
     "metadata": {},
     "output_type": "execute_result"
    }
   ],
   "source": [
    "Y_pred2=knn.predict_proba(X_test_scaled).round(3)\n",
    "Y_pred2[:10]"
   ]
  },
  {
   "cell_type": "code",
   "execution_count": 681,
   "metadata": {},
   "outputs": [
    {
     "data": {
      "text/plain": [
       "4.0    5188\n",
       "3.0     962\n",
       "2.0     839\n",
       "1.0     328\n",
       "dtype: int64"
      ]
     },
     "execution_count": 681,
     "metadata": {},
     "output_type": "execute_result"
    }
   ],
   "source": [
    "Y_pred3=tree.predict(X_test_scaled)\n",
    "Y_pred3=pd.Series(Y_pred3)\n",
    "Y_pred3.value_counts()"
   ]
  },
  {
   "cell_type": "code",
   "execution_count": 490,
   "metadata": {},
   "outputs": [
    {
     "data": {
      "text/plain": [
       "array([[0.   , 0.   , 0.   , 1.   ],\n",
       "       [0.   , 0.   , 0.   , 1.   ],\n",
       "       [0.   , 1.   , 0.   , 0.   ],\n",
       "       [0.   , 0.   , 0.   , 1.   ],\n",
       "       [0.   , 0.   , 0.   , 1.   ],\n",
       "       [0.023, 0.045, 0.028, 0.903],\n",
       "       [0.   , 0.   , 0.   , 1.   ],\n",
       "       [0.   , 0.069, 0.   , 0.931],\n",
       "       [0.12 , 0.   , 0.   , 0.88 ],\n",
       "       [0.   , 0.   , 0.   , 1.   ]])"
      ]
     },
     "execution_count": 490,
     "metadata": {},
     "output_type": "execute_result"
    }
   ],
   "source": [
    "Y_pred3=tree.predict_proba(X_test_scaled).round(3)\n",
    "Y_pred3[:10]"
   ]
  },
  {
   "cell_type": "code",
   "execution_count": 682,
   "metadata": {},
   "outputs": [
    {
     "data": {
      "text/plain": [
       "4.0    6399\n",
       "2.0     605\n",
       "3.0     172\n",
       "1.0     141\n",
       "dtype: int64"
      ]
     },
     "execution_count": 682,
     "metadata": {},
     "output_type": "execute_result"
    }
   ],
   "source": [
    "Y_pred4=rfc.predict(X_test_scaled)\n",
    "Y_pred4=pd.Series(Y_pred4)\n",
    "Y_pred4.value_counts()"
   ]
  },
  {
   "cell_type": "code",
   "execution_count": 496,
   "metadata": {},
   "outputs": [
    {
     "data": {
      "text/plain": [
       "array([[0.004, 0.008, 0.026, 0.962],\n",
       "       [0.012, 0.002, 0.   , 0.986],\n",
       "       [0.062, 0.152, 0.1  , 0.686],\n",
       "       [0.04 , 0.078, 0.072, 0.81 ],\n",
       "       [0.   , 0.076, 0.004, 0.92 ],\n",
       "       [0.004, 0.064, 0.036, 0.896],\n",
       "       [0.012, 0.054, 0.018, 0.916],\n",
       "       [0.022, 0.12 , 0.124, 0.734],\n",
       "       [0.064, 0.078, 0.046, 0.812],\n",
       "       [0.062, 0.312, 0.102, 0.524]])"
      ]
     },
     "execution_count": 496,
     "metadata": {},
     "output_type": "execute_result"
    }
   ],
   "source": [
    "Y_pred4=rfc.predict_proba(X_test_scaled).round(3)\n",
    "Y_pred4[:10]"
   ]
  },
  {
   "cell_type": "markdown",
   "metadata": {},
   "source": [
    "#### Q2: Explain the implementations of the results."
   ]
  },
  {
   "cell_type": "markdown",
   "metadata": {},
   "source": [
    "SGDClassifier, KNeighborsClassifier, DecisionTreeClassifier, RandomForestClassifier 총 4개의 machine learning model을 각각 사용하여 train data로 훈련한 후, test data로 target 값을 예측해보았다. 모델마다 조금씩 차이가 있었지만, 랜덤포레스트 모델과, KNN 모델의 예측값이 가장 비슷하였다. train 과정에서도 accuracy가 **67.68%** 로 랜덤포레스트 모델이 가장 좋았기 때문에 제일 믿을 수 있을 것 같다. predict를 사용해서 hard decision을 내린 결과 값을 확인할 수 있었고, predict_proba를 통해서 soft decision을 내린 결과 값을 확인 할 수 있었다."
   ]
  },
  {
   "cell_type": "markdown",
   "metadata": {},
   "source": [
    "#### Q3: Determine if the results are satisfactory, and determine if improvements need to be made."
   ]
  },
  {
   "cell_type": "markdown",
   "metadata": {},
   "source": [
    "test data set에 target 값이 없기 때문에 test data에 대한 accuracy는 구하지 못할 것 같다. 그래서 target값을 예측해보았다.\n",
    "머신러닝 모델 훈련과정에서는 가장 높은 accuracy가 **67.68%** 가 나왔는데, outlier 처리를 조금 더 잘했으면 더 높은 accuracy가 나왔을 것 같다."
   ]
  },
  {
   "cell_type": "markdown",
   "metadata": {},
   "source": [
    "#### Q4: If improvements need to be made, state the sections that improvements will be made and explain why."
   ]
  },
  {
   "cell_type": "markdown",
   "metadata": {},
   "source": [
    "3번 section에서 outlier와 missing value를 처리하는데 더 많은 시간을 사용해야 될 것 같다. 왜냐하면 모델, 특히 머신러닝 모델에서는 하이퍼파라미터로 바꿀 수 있는 것이 제한적이기 때문에 data를 전처리하는데 시간을 더 많이 사용하고, 알맞은 data 형태로 전처리 하는 것이 더 중요한 것 같다. 딥러닝 모델을 사용했을때는 오버피팅이 되지 않을 정도로 hidden layer의 깊이를 조금 깊게하고 전이학습 등을 사용한다면 조금 더 높은 정확도가 나올 것 같다. 4번 section에서는 PCA를 사용하여 principal feature만 뽑아내어 훈련과 예측을 진행해보았는데 비슷한 결과 값이 나왔다."
   ]
  },
  {
   "cell_type": "markdown",
   "metadata": {},
   "source": [
    "#### Q5: Determine and explain the limitations of your implementation."
   ]
  },
  {
   "cell_type": "markdown",
   "metadata": {},
   "source": [
    "train data set이 부족한게 가장 큰 것 같다. 그리고 test data set의 개수가 train data set의 개수보다 많았는데, 보통은 train data 개수가 더 많아야하는데 data set이 이렇게 주어져있어서 한참 고민을 해보았다. 모델로는 머신러닝 모델을 사용했는데, 퍼셉트론을 사용한 딥러닝 모델로 학습을 한다면 accuracy가 조금 더 올라갈 것 같다."
   ]
  },
  {
   "cell_type": "markdown",
   "metadata": {},
   "source": [
    "# Part 6: Conclusion"
   ]
  },
  {
   "cell_type": "markdown",
   "metadata": {},
   "source": [
    "#### Q1: Conclude the data science model that you have created."
   ]
  },
  {
   "cell_type": "markdown",
   "metadata": {},
   "source": [
    "##### Data exploration\n",
    "household의 head로만 예측하기 위해 'parentesco1' feature가 1인 row만 사용하였다. correlation matrix를 만들어서 확인해본 결과, target과 관련이 많은 5개의 feature은 순서대로 escolari, meaneduc, SQBescolari, cielorazo, eviv3 이였다. escolari은 학교 다닌 연수를 나타내고, meaneduc는 어른들의 평균 교육 기간을 나타내고, SQBescolari은 escolari feature의 제곱값을 나타내고, cielorazo은 집의 천장이 있는지 없는지를 나타내고, eviv3은 집의 바닥이 좋은지 안좋은지를 나타낸다. \n",
    "\n",
    "##### Data preprocessing\n",
    "숫자와 'yes', 'no'가 같이 있는 feature 3개('dependency', 'edjefe', 'edjefa')를 처리해주었는데, 'no'는 0으로 'yes'는 feature의 평균 값으로 대체해주었다. missing value가 있는 feature는 5개가 있었는데, 너무 많은 missing value가 있는 feature 3개('rez_esc','v18q1','v2a1') 는 삭제해주었고, 나머지 두개 feature('meaneduc','SQBmeaned')는 평균 값으로 대체해주었다. 처음에는 평균 값으로 대체해주었는데, feature('meaneduc','SQBmeaned')가 Target과 correlation이 높은 편인데 함부로 평균값을 넣어서 정확도가 낮아진 것 같아서 삭제해주었다. 그리고 object type feature가 2개('Id', 'idhogar') 있었는데 개인들을 구별해주고, household를 구별해주는 것이라 삭제해주었다.\n",
    "\n",
    "##### Machine learning implementation\n",
    "StandardScaler를 사용하여 scaling해주고 3가지의 방법으로 데이터셋을 표현하였다. 첫 번째는 7:3의 비율로 train, validation set을 나누어주었다. 두 번째는 K-Fold cross validation 방법을 사용하였고, 세 번째는 PCA를 사용하여 주요한 20개의 feature만 뽑아내어 7:3의 비율로 train, validation set을 나누어주었다. 머신러닝 모델로는 SGDClassifier, KNeighborsClassifier, DecisionTreeClassifier, RandomForestClassifier 총 4개의 model로 각각 진행해보았다. KNeighborsClassifier를 사용할 때는 K값을 1부터 9까지해서 진행해보았고, DecisionTreeClassifier를 사용할 때도 max_depth를 1부터 9까지해서 진행해보았다. \n",
    "\n",
    "##### Performance evaluation\n",
    "가장 정확도가 좋았던 모델은 RandomForestClassifier에 500개의 tree를 사용한 것이 **67.68%** 로 가장 좋았다. test set에는 Target 값이 없어서 train set과 동일하게 전처리과정을 진행하고 scaling 해준 후 predict 해보았다. 모델마다 예측 값이 조금씩 달랐지만, 정확도가 가장 높은 모델인 랜덤포레스트 모델의 경우 Target 값을 1로 141개, 2로 605개, 3으로 172개, 4로 6399개를 예측하였다."
   ]
  },
  {
   "cell_type": "markdown",
   "metadata": {},
   "source": [
    "#### Q2: Give thorough discussions."
   ]
  },
  {
   "cell_type": "markdown",
   "metadata": {},
   "source": [
    "사실 생각했던 것보다 정확도가 너무 낮아서 실망했지만, 시간이 더 많았다면 feature의 outlier를 조금 더 세분화하여 분석하고 여러 가지의 경우에 대해 진행해봄으로써 정확도를 더 높일 수 있을 것 같다. 그래도 csv파일을 읽어와서 데이터를 하나하나 확인해보고, 전처리 과정도 거치고, train, validation set도 나누어서 머신러닝 모델로 학습도 시켜보고, test data를 통해서 학습된 모델로 예측도 해보면서 많은 것을 배울 수 있었던 것 같다. 특히 데이터를 다룰 때 shape이 진짜 중요하다는 것을 알게 되었다. 처음에는 머신러닝 모델인지 모르고 딥러닝 모델을 구현하여 진행했었는데 그때는 y값을 one-hot encoding을 통해서 바꾸어주어야했는데, 머신러닝 모델에서는 categorical encoding 과정 없이 그대로 값을 넣어준다는 것을 알게 되었다. data set이 부족해서 조금 아쉬웠지만, 겨울방학에 파이썬과 판다스, 머신러닝, 딥러닝에 가까워지기 위해 다시한번 이번 lab을 진행해보아야겠다.  "
   ]
  }
 ],
 "metadata": {
  "kernelspec": {
   "display_name": "Python 3",
   "language": "python",
   "name": "python3"
  },
  "language_info": {
   "codemirror_mode": {
    "name": "ipython",
    "version": 3
   },
   "file_extension": ".py",
   "mimetype": "text/x-python",
   "name": "python",
   "nbconvert_exporter": "python",
   "pygments_lexer": "ipython3",
   "version": "3.8.3"
  }
 },
 "nbformat": 4,
 "nbformat_minor": 4
}
