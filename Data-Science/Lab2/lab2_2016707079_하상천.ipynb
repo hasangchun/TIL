{
 "cells": [
  {
   "cell_type": "markdown",
   "metadata": {},
   "source": [
    "# SNS Scraping Lab - 2016707079 하상천\n"
   ]
  },
  {
   "cell_type": "code",
   "execution_count": 1,
   "metadata": {},
   "outputs": [
    {
     "name": "stdout",
     "output_type": "stream",
     "text": [
      "Requirement already satisfied: twitter in c:\\programdata\\anaconda3\\lib\\site-packages (1.18.0)\n"
     ]
    }
   ],
   "source": [
    "!pip install twitter"
   ]
  },
  {
   "cell_type": "code",
   "execution_count": 2,
   "metadata": {},
   "outputs": [],
   "source": [
    "# importing libraries\n",
    "import numpy as np\n",
    "import pandas as pd\n",
    "import matplotlib.pyplot as plt\n",
    "import twitter\n",
    "import json"
   ]
  },
  {
   "cell_type": "markdown",
   "metadata": {},
   "source": [
    "## Initialising Twitter API\n",
    "\n",
    "To use Twitter API, we have to initialise it using the tokens and the authentication keys that has been provided. "
   ]
  },
  {
   "cell_type": "code",
   "execution_count": 3,
   "metadata": {},
   "outputs": [],
   "source": [
    "# Copy and paste the keys and tokens that you have acquired\n",
    "CONSUMER_KEY = 'KSl5I1Ta970LrFRo70RZJS6RC'\n",
    "CONSUMER_SECRET = 'pumBJu35LoqJBXpRPc2iJq1aPWQj7lz8FbXa4MOC9xGZgOmEZn'\n",
    "OAUTH_TOKEN = '900198409-n8jwPPp0PG40IuGvICBggDIBBxlQMVR4DYJChoVm'\n",
    "OAUTH_TOKEN_SECRET = 'IH4llnqkvlqAOCvPijK3ByAm2iOrP5WMq5LKgwhoQXX1n'"
   ]
  },
  {
   "cell_type": "code",
   "execution_count": 4,
   "metadata": {},
   "outputs": [
    {
     "name": "stdout",
     "output_type": "stream",
     "text": [
      "<twitter.api.Twitter object at 0x000001695FA01700>\n"
     ]
    }
   ],
   "source": [
    "auth = twitter.oauth.OAuth(OAUTH_TOKEN, OAUTH_TOKEN_SECRET,\n",
    "                           CONSUMER_KEY, CONSUMER_SECRET)\n",
    "\n",
    "twitter_api = twitter.Twitter(auth=auth)\n",
    "\n",
    "print(twitter_api)"
   ]
  },
  {
   "cell_type": "markdown",
   "metadata": {},
   "source": [
    "## Trending Topics\n",
    "\n",
    "By using Twitter API's **trends.place** function, we can gather information regarding the trending topics in a particular place that we want to look at. For this example, we will take a look at the trending topics of the entire world and the USA. \n",
    "\n",
    "* Entire world ID: 1\n",
    "* USA ID: 23424977"
   ]
  },
  {
   "cell_type": "code",
   "execution_count": 5,
   "metadata": {},
   "outputs": [],
   "source": [
    "WORLD_WOE_ID = 1      \n",
    "US_WOE_ID = 23424977\n",
    "\n",
    "world_trends = twitter_api.trends.place(_id=WORLD_WOE_ID)\n",
    "us_trends = twitter_api.trends.place(_id=US_WOE_ID)"
   ]
  },
  {
   "cell_type": "code",
   "execution_count": 6,
   "metadata": {},
   "outputs": [
    {
     "data": {
      "text/plain": [
       "1"
      ]
     },
     "execution_count": 6,
     "metadata": {},
     "output_type": "execute_result"
    }
   ],
   "source": [
    "len(world_trends)"
   ]
  },
  {
   "cell_type": "code",
   "execution_count": 7,
   "metadata": {},
   "outputs": [
    {
     "name": "stdout",
     "output_type": "stream",
     "text": [
      "[{'trends': [{'name': '#ProvaDoFazendeiro', 'url': 'http://twitter.com/search?q=%23ProvaDoFazendeiro', 'promoted_content': None, 'query': '%23ProvaDoFazendeiro', 'tweet_volume': 190202}, {'name': '伊藤健太郎', 'url': 'http://twitter.com/search?q=%E4%BC%8A%E8%97%A4%E5%81%A5%E5%A4%AA%E9%83%8E', 'promoted_content': None, 'query': '%E4%BC%8A%E8%97%A4%E5%81%A5%E5%A4%AA%E9%83%8E', 'tweet_volume': 113756}, {'name': '#FicaLipe', 'url': 'http://twitter.com/search?q=%23FicaLipe', 'promoted_content': None, 'query': '%23FicaLipe', 'tweet_volume': 82716}, {'name': 'Hugo', 'url': 'http://twitter.com/search?q=Hugo', 'promoted_content': None, 'query': 'Hugo', 'tweet_volume': 147489}, {'name': '#SM_PROTECT_CHANYEOL', 'url': 'http://twitter.com/search?q=%23SM_PROTECT_CHANYEOL', 'promoted_content': None, 'query': '%23SM_PROTECT_CHANYEOL', 'tweet_volume': 279707}, {'name': '#BB22', 'url': 'http://twitter.com/search?q=%23BB22', 'promoted_content': None, 'query': '%23BB22', 'tweet_volume': 102749}, {'name': '#Showtime11thPower', 'url': 'http://twitter.com/search?q=%23Showtime11thPower', 'promoted_content': None, 'query': '%23Showtime11thPower', 'tweet_volume': 21019}, {'name': 'Wine', 'url': 'http://twitter.com/search?q=Wine', 'promoted_content': None, 'query': 'Wine', 'tweet_volume': 92008}, {'name': 'Renê', 'url': 'http://twitter.com/search?q=Ren%C3%AA', 'promoted_content': None, 'query': 'Ren%C3%AA', 'tweet_volume': 49671}, {'name': 'Neneca', 'url': 'http://twitter.com/search?q=Neneca', 'promoted_content': None, 'query': 'Neneca', 'tweet_volume': 127672}, {'name': 'Corinthians', 'url': 'http://twitter.com/search?q=Corinthians', 'promoted_content': None, 'query': 'Corinthians', 'tweet_volume': 86649}, {'name': 'Tucker', 'url': 'http://twitter.com/search?q=Tucker', 'promoted_content': None, 'query': 'Tucker', 'tweet_volume': 498191}, {'name': 'Tays', 'url': 'http://twitter.com/search?q=Tays', 'promoted_content': None, 'query': 'Tays', 'tweet_volume': 171323}, {'name': 'とんかつDJ', 'url': 'http://twitter.com/search?q=%E3%81%A8%E3%82%93%E3%81%8B%E3%81%A4DJ', 'promoted_content': None, 'query': '%E3%81%A8%E3%82%93%E3%81%8B%E3%81%A4DJ', 'tweet_volume': 33441}, {'name': '鬼滅貧乏', 'url': 'http://twitter.com/search?q=%E9%AC%BC%E6%BB%85%E8%B2%A7%E4%B9%8F', 'promoted_content': None, 'query': '%E9%AC%BC%E6%BB%85%E8%B2%A7%E4%B9%8F', 'tweet_volume': 36240}, {'name': 'Jack Nicklaus', 'url': 'http://twitter.com/search?q=%22Jack+Nicklaus%22', 'promoted_content': None, 'query': '%22Jack+Nicklaus%22', 'tweet_volume': 10562}, {'name': 'TwitterrGet Açıldı', 'url': 'http://twitter.com/search?q=%22TwitterrGet+A%C3%A7%C4%B1ld%C4%B1%22', 'promoted_content': None, 'query': '%22TwitterrGet+A%C3%A7%C4%B1ld%C4%B1%22', 'tweet_volume': None}, {'name': 'ディジェSE-R', 'url': 'http://twitter.com/search?q=%E3%83%87%E3%82%A3%E3%82%B8%E3%82%A7SE-R', 'promoted_content': None, 'query': '%E3%83%87%E3%82%A3%E3%82%B8%E3%82%A7SE-R', 'tweet_volume': None}, {'name': 'chaeyoung', 'url': 'http://twitter.com/search?q=chaeyoung', 'promoted_content': None, 'query': 'chaeyoung', 'tweet_volume': 63429}, {'name': 'プロデュース方針', 'url': 'http://twitter.com/search?q=%E3%83%97%E3%83%AD%E3%83%87%E3%83%A5%E3%83%BC%E3%82%B9%E6%96%B9%E9%87%9D', 'promoted_content': None, 'query': '%E3%83%97%E3%83%AD%E3%83%87%E3%83%A5%E3%83%BC%E3%82%B9%E6%96%B9%E9%87%9D', 'tweet_volume': None}, {'name': '場数pt', 'url': 'http://twitter.com/search?q=%E5%A0%B4%E6%95%B0pt', 'promoted_content': None, 'query': '%E5%A0%B4%E6%95%B0pt', 'tweet_volume': None}, {'name': 'Vicky', 'url': 'http://twitter.com/search?q=Vicky', 'promoted_content': None, 'query': 'Vicky', 'tweet_volume': 39747}, {'name': 'Vitinho', 'url': 'http://twitter.com/search?q=Vitinho', 'promoted_content': None, 'query': 'Vitinho', 'tweet_volume': 18885}, {'name': 'ディミトリ', 'url': 'http://twitter.com/search?q=%E3%83%87%E3%82%A3%E3%83%9F%E3%83%88%E3%83%AA', 'promoted_content': None, 'query': '%E3%83%87%E3%82%A3%E3%83%9F%E3%83%88%E3%83%AA', 'tweet_volume': 11736}, {'name': '伊藤くん', 'url': 'http://twitter.com/search?q=%E4%BC%8A%E8%97%A4%E3%81%8F%E3%82%93', 'promoted_content': None, 'query': '%E4%BC%8A%E8%97%A4%E3%81%8F%E3%82%93', 'tweet_volume': 13358}, {'name': 'カテゴリー', 'url': 'http://twitter.com/search?q=%E3%82%AB%E3%83%86%E3%82%B4%E3%83%AA%E3%83%BC', 'promoted_content': None, 'query': '%E3%82%AB%E3%83%86%E3%82%B4%E3%83%AA%E3%83%BC', 'tweet_volume': 12671}, {'name': 'Tiago Reis', 'url': 'http://twitter.com/search?q=%22Tiago+Reis%22', 'promoted_content': None, 'query': '%22Tiago+Reis%22', 'tweet_volume': None}, {'name': 'WONDER ACOUSTIC', 'url': 'http://twitter.com/search?q=%22WONDER+ACOUSTIC%22', 'promoted_content': None, 'query': '%22WONDER+ACOUSTIC%22', 'tweet_volume': 36345}, {'name': 'Marriage', 'url': 'http://twitter.com/search?q=Marriage', 'promoted_content': None, 'query': 'Marriage', 'tweet_volume': 119871}, {'name': 'ノクティス', 'url': 'http://twitter.com/search?q=%E3%83%8E%E3%82%AF%E3%83%86%E3%82%A3%E3%82%B9', 'promoted_content': None, 'query': '%E3%83%8E%E3%82%AF%E3%83%86%E3%82%A3%E3%82%B9', 'tweet_volume': None}, {'name': 'ひき逃げの疑い', 'url': 'http://twitter.com/search?q=%E3%81%B2%E3%81%8D%E9%80%83%E3%81%92%E3%81%AE%E7%96%91%E3%81%84', 'promoted_content': None, 'query': '%E3%81%B2%E3%81%8D%E9%80%83%E3%81%92%E3%81%AE%E7%96%91%E3%81%84', 'tweet_volume': 16131}, {'name': 'Perdue', 'url': 'http://twitter.com/search?q=Perdue', 'promoted_content': None, 'query': 'Perdue', 'tweet_volume': 35662}, {'name': 'Leo Pereira', 'url': 'http://twitter.com/search?q=%22Leo+Pereira%22', 'promoted_content': None, 'query': '%22Leo+Pereira%22', 'tweet_volume': 20384}, {'name': 'Tirei 99%', 'url': 'http://twitter.com/search?q=%22Tirei+99%25%22', 'promoted_content': None, 'query': '%22Tirei+99%25%22', 'tweet_volume': None}, {'name': 'Lauren', 'url': 'http://twitter.com/search?q=Lauren', 'promoted_content': None, 'query': 'Lauren', 'tweet_volume': 157732}, {'name': 'Gazi Mustafa Kemal Atatürk', 'url': 'http://twitter.com/search?q=%22Gazi+Mustafa+Kemal+Atat%C3%BCrk%22', 'promoted_content': None, 'query': '%22Gazi+Mustafa+Kemal+Atat%C3%BCrk%22', 'tweet_volume': 37318}, {'name': '国内の感染者10万人', 'url': 'http://twitter.com/search?q=%E5%9B%BD%E5%86%85%E3%81%AE%E6%84%9F%E6%9F%93%E8%80%8510%E4%B8%87%E4%BA%BA', 'promoted_content': None, 'query': '%E5%9B%BD%E5%86%85%E3%81%AE%E6%84%9F%E6%9F%93%E8%80%8510%E4%B8%87%E4%BA%BA', 'tweet_volume': None}, {'name': 'Uターン', 'url': 'http://twitter.com/search?q=U%E3%82%BF%E3%83%BC%E3%83%B3', 'promoted_content': None, 'query': 'U%E3%82%BF%E3%83%BC%E3%83%B3', 'tweet_volume': None}, {'name': 'BELIEVER OF CRAVITY', 'url': 'http://twitter.com/search?q=%22BELIEVER+OF+CRAVITY%22', 'promoted_content': None, 'query': '%22BELIEVER+OF+CRAVITY%22', 'tweet_volume': 20590}, {'name': 'リボ払い', 'url': 'http://twitter.com/search?q=%E3%83%AA%E3%83%9C%E6%89%95%E3%81%84', 'promoted_content': None, 'query': '%E3%83%AA%E3%83%9C%E6%89%95%E3%81%84', 'tweet_volume': 13518}, {'name': 'ペコちゃん棋戦', 'url': 'http://twitter.com/search?q=%E3%83%9A%E3%82%B3%E3%81%A1%E3%82%83%E3%82%93%E6%A3%8B%E6%88%A6', 'promoted_content': None, 'query': '%E3%83%9A%E3%82%B3%E3%81%A1%E3%82%83%E3%82%93%E6%A3%8B%E6%88%A6', 'tweet_volume': None}, {'name': 'Sidcley', 'url': 'http://twitter.com/search?q=Sidcley', 'promoted_content': None, 'query': 'Sidcley', 'tweet_volume': None}, {'name': '公開中止', 'url': 'http://twitter.com/search?q=%E5%85%AC%E9%96%8B%E4%B8%AD%E6%AD%A2', 'promoted_content': None, 'query': '%E5%85%AC%E9%96%8B%E4%B8%AD%E6%AD%A2', 'tweet_volume': None}, {'name': '#CL_HWAx5STAR', 'url': 'http://twitter.com/search?q=%23CL_HWAx5STAR', 'promoted_content': None, 'query': '%23CL_HWAx5STAR', 'tweet_volume': 29288}, {'name': '#29EkimCumhiyetBayramımız', 'url': 'http://twitter.com/search?q=%2329EkimCumhiyetBayram%C4%B1m%C4%B1z', 'promoted_content': None, 'query': '%2329EkimCumhiyetBayram%C4%B1m%C4%B1z', 'tweet_volume': 16565}, {'name': '#ネコからの贈り物', 'url': 'http://twitter.com/search?q=%23%E3%83%8D%E3%82%B3%E3%81%8B%E3%82%89%E3%81%AE%E8%B4%88%E3%82%8A%E7%89%A9', 'promoted_content': None, 'query': '%23%E3%83%8D%E3%82%B3%E3%81%8B%E3%82%89%E3%81%AE%E8%B4%88%E3%82%8A%E7%89%A9', 'tweet_volume': None}, {'name': '#NationWithFearlessArnab', 'url': 'http://twitter.com/search?q=%23NationWithFearlessArnab', 'promoted_content': None, 'query': '%23NationWithFearlessArnab', 'tweet_volume': 87151}, {'name': '#DrDrinkxGulf', 'url': 'http://twitter.com/search?q=%23DrDrinkxGulf', 'promoted_content': None, 'query': '%23DrDrinkxGulf', 'tweet_volume': 89851}, {'name': '#yağmur', 'url': 'http://twitter.com/search?q=%23ya%C4%9Fmur', 'promoted_content': None, 'query': '%23ya%C4%9Fmur', 'tweet_volume': None}, {'name': '#eretdress', 'url': 'http://twitter.com/search?q=%23eretdress', 'promoted_content': None, 'query': '%23eretdress', 'tweet_volume': 38445}], 'as_of': '2020-10-29T06:29:34Z', 'created_at': '2020-10-27T20:36:34Z', 'locations': [{'name': 'Worldwide', 'woeid': 1}]}]\n"
     ]
    }
   ],
   "source": [
    "print(world_trends)"
   ]
  },
  {
   "cell_type": "code",
   "execution_count": 8,
   "metadata": {},
   "outputs": [
    {
     "data": {
      "text/plain": [
       "dict_keys(['trends', 'as_of', 'created_at', 'locations'])"
      ]
     },
     "execution_count": 8,
     "metadata": {},
     "output_type": "execute_result"
    }
   ],
   "source": [
    "world_trends[0].keys()"
   ]
  },
  {
   "cell_type": "code",
   "execution_count": 9,
   "metadata": {},
   "outputs": [
    {
     "name": "stderr",
     "output_type": "stream",
     "text": [
      "<ipython-input-9-a286c4b48f62>:2: FutureWarning: pandas.io.json.json_normalize is deprecated, use pandas.json_normalize instead\n",
      "  json_normalize(world_trends[0])\n"
     ]
    },
    {
     "data": {
      "text/html": [
       "<div>\n",
       "<style scoped>\n",
       "    .dataframe tbody tr th:only-of-type {\n",
       "        vertical-align: middle;\n",
       "    }\n",
       "\n",
       "    .dataframe tbody tr th {\n",
       "        vertical-align: top;\n",
       "    }\n",
       "\n",
       "    .dataframe thead th {\n",
       "        text-align: right;\n",
       "    }\n",
       "</style>\n",
       "<table border=\"1\" class=\"dataframe\">\n",
       "  <thead>\n",
       "    <tr style=\"text-align: right;\">\n",
       "      <th></th>\n",
       "      <th>trends</th>\n",
       "      <th>as_of</th>\n",
       "      <th>created_at</th>\n",
       "      <th>locations</th>\n",
       "    </tr>\n",
       "  </thead>\n",
       "  <tbody>\n",
       "    <tr>\n",
       "      <th>0</th>\n",
       "      <td>[{'name': '#ProvaDoFazendeiro', 'url': 'http:/...</td>\n",
       "      <td>2020-10-29T06:29:34Z</td>\n",
       "      <td>2020-10-27T20:36:34Z</td>\n",
       "      <td>[{'name': 'Worldwide', 'woeid': 1}]</td>\n",
       "    </tr>\n",
       "  </tbody>\n",
       "</table>\n",
       "</div>"
      ],
      "text/plain": [
       "                                              trends                 as_of  \\\n",
       "0  [{'name': '#ProvaDoFazendeiro', 'url': 'http:/...  2020-10-29T06:29:34Z   \n",
       "\n",
       "             created_at                            locations  \n",
       "0  2020-10-27T20:36:34Z  [{'name': 'Worldwide', 'woeid': 1}]  "
      ]
     },
     "execution_count": 9,
     "metadata": {},
     "output_type": "execute_result"
    }
   ],
   "source": [
    "from pandas.io.json import json_normalize\n",
    "json_normalize(world_trends[0])"
   ]
  },
  {
   "cell_type": "code",
   "execution_count": 10,
   "metadata": {},
   "outputs": [
    {
     "name": "stderr",
     "output_type": "stream",
     "text": [
      "<ipython-input-10-97d7c817a412>:1: FutureWarning: pandas.io.json.json_normalize is deprecated, use pandas.json_normalize instead\n",
      "  json_normalize(world_trends[0], 'trends')\n"
     ]
    },
    {
     "data": {
      "text/html": [
       "<div>\n",
       "<style scoped>\n",
       "    .dataframe tbody tr th:only-of-type {\n",
       "        vertical-align: middle;\n",
       "    }\n",
       "\n",
       "    .dataframe tbody tr th {\n",
       "        vertical-align: top;\n",
       "    }\n",
       "\n",
       "    .dataframe thead th {\n",
       "        text-align: right;\n",
       "    }\n",
       "</style>\n",
       "<table border=\"1\" class=\"dataframe\">\n",
       "  <thead>\n",
       "    <tr style=\"text-align: right;\">\n",
       "      <th></th>\n",
       "      <th>name</th>\n",
       "      <th>url</th>\n",
       "      <th>promoted_content</th>\n",
       "      <th>query</th>\n",
       "      <th>tweet_volume</th>\n",
       "    </tr>\n",
       "  </thead>\n",
       "  <tbody>\n",
       "    <tr>\n",
       "      <th>0</th>\n",
       "      <td>#ProvaDoFazendeiro</td>\n",
       "      <td>http://twitter.com/search?q=%23ProvaDoFazendeiro</td>\n",
       "      <td>None</td>\n",
       "      <td>%23ProvaDoFazendeiro</td>\n",
       "      <td>190202.0</td>\n",
       "    </tr>\n",
       "    <tr>\n",
       "      <th>1</th>\n",
       "      <td>伊藤健太郎</td>\n",
       "      <td>http://twitter.com/search?q=%E4%BC%8A%E8%97%A4...</td>\n",
       "      <td>None</td>\n",
       "      <td>%E4%BC%8A%E8%97%A4%E5%81%A5%E5%A4%AA%E9%83%8E</td>\n",
       "      <td>113756.0</td>\n",
       "    </tr>\n",
       "    <tr>\n",
       "      <th>2</th>\n",
       "      <td>#FicaLipe</td>\n",
       "      <td>http://twitter.com/search?q=%23FicaLipe</td>\n",
       "      <td>None</td>\n",
       "      <td>%23FicaLipe</td>\n",
       "      <td>82716.0</td>\n",
       "    </tr>\n",
       "    <tr>\n",
       "      <th>3</th>\n",
       "      <td>Hugo</td>\n",
       "      <td>http://twitter.com/search?q=Hugo</td>\n",
       "      <td>None</td>\n",
       "      <td>Hugo</td>\n",
       "      <td>147489.0</td>\n",
       "    </tr>\n",
       "    <tr>\n",
       "      <th>4</th>\n",
       "      <td>#SM_PROTECT_CHANYEOL</td>\n",
       "      <td>http://twitter.com/search?q=%23SM_PROTECT_CHAN...</td>\n",
       "      <td>None</td>\n",
       "      <td>%23SM_PROTECT_CHANYEOL</td>\n",
       "      <td>279707.0</td>\n",
       "    </tr>\n",
       "    <tr>\n",
       "      <th>5</th>\n",
       "      <td>#BB22</td>\n",
       "      <td>http://twitter.com/search?q=%23BB22</td>\n",
       "      <td>None</td>\n",
       "      <td>%23BB22</td>\n",
       "      <td>102749.0</td>\n",
       "    </tr>\n",
       "    <tr>\n",
       "      <th>6</th>\n",
       "      <td>#Showtime11thPower</td>\n",
       "      <td>http://twitter.com/search?q=%23Showtime11thPower</td>\n",
       "      <td>None</td>\n",
       "      <td>%23Showtime11thPower</td>\n",
       "      <td>21019.0</td>\n",
       "    </tr>\n",
       "    <tr>\n",
       "      <th>7</th>\n",
       "      <td>Wine</td>\n",
       "      <td>http://twitter.com/search?q=Wine</td>\n",
       "      <td>None</td>\n",
       "      <td>Wine</td>\n",
       "      <td>92008.0</td>\n",
       "    </tr>\n",
       "    <tr>\n",
       "      <th>8</th>\n",
       "      <td>Renê</td>\n",
       "      <td>http://twitter.com/search?q=Ren%C3%AA</td>\n",
       "      <td>None</td>\n",
       "      <td>Ren%C3%AA</td>\n",
       "      <td>49671.0</td>\n",
       "    </tr>\n",
       "    <tr>\n",
       "      <th>9</th>\n",
       "      <td>Neneca</td>\n",
       "      <td>http://twitter.com/search?q=Neneca</td>\n",
       "      <td>None</td>\n",
       "      <td>Neneca</td>\n",
       "      <td>127672.0</td>\n",
       "    </tr>\n",
       "    <tr>\n",
       "      <th>10</th>\n",
       "      <td>Corinthians</td>\n",
       "      <td>http://twitter.com/search?q=Corinthians</td>\n",
       "      <td>None</td>\n",
       "      <td>Corinthians</td>\n",
       "      <td>86649.0</td>\n",
       "    </tr>\n",
       "    <tr>\n",
       "      <th>11</th>\n",
       "      <td>Tucker</td>\n",
       "      <td>http://twitter.com/search?q=Tucker</td>\n",
       "      <td>None</td>\n",
       "      <td>Tucker</td>\n",
       "      <td>498191.0</td>\n",
       "    </tr>\n",
       "    <tr>\n",
       "      <th>12</th>\n",
       "      <td>Tays</td>\n",
       "      <td>http://twitter.com/search?q=Tays</td>\n",
       "      <td>None</td>\n",
       "      <td>Tays</td>\n",
       "      <td>171323.0</td>\n",
       "    </tr>\n",
       "    <tr>\n",
       "      <th>13</th>\n",
       "      <td>とんかつDJ</td>\n",
       "      <td>http://twitter.com/search?q=%E3%81%A8%E3%82%93...</td>\n",
       "      <td>None</td>\n",
       "      <td>%E3%81%A8%E3%82%93%E3%81%8B%E3%81%A4DJ</td>\n",
       "      <td>33441.0</td>\n",
       "    </tr>\n",
       "    <tr>\n",
       "      <th>14</th>\n",
       "      <td>鬼滅貧乏</td>\n",
       "      <td>http://twitter.com/search?q=%E9%AC%BC%E6%BB%85...</td>\n",
       "      <td>None</td>\n",
       "      <td>%E9%AC%BC%E6%BB%85%E8%B2%A7%E4%B9%8F</td>\n",
       "      <td>36240.0</td>\n",
       "    </tr>\n",
       "    <tr>\n",
       "      <th>15</th>\n",
       "      <td>Jack Nicklaus</td>\n",
       "      <td>http://twitter.com/search?q=%22Jack+Nicklaus%22</td>\n",
       "      <td>None</td>\n",
       "      <td>%22Jack+Nicklaus%22</td>\n",
       "      <td>10562.0</td>\n",
       "    </tr>\n",
       "    <tr>\n",
       "      <th>16</th>\n",
       "      <td>TwitterrGet Açıldı</td>\n",
       "      <td>http://twitter.com/search?q=%22TwitterrGet+A%C...</td>\n",
       "      <td>None</td>\n",
       "      <td>%22TwitterrGet+A%C3%A7%C4%B1ld%C4%B1%22</td>\n",
       "      <td>NaN</td>\n",
       "    </tr>\n",
       "    <tr>\n",
       "      <th>17</th>\n",
       "      <td>ディジェSE-R</td>\n",
       "      <td>http://twitter.com/search?q=%E3%83%87%E3%82%A3...</td>\n",
       "      <td>None</td>\n",
       "      <td>%E3%83%87%E3%82%A3%E3%82%B8%E3%82%A7SE-R</td>\n",
       "      <td>NaN</td>\n",
       "    </tr>\n",
       "    <tr>\n",
       "      <th>18</th>\n",
       "      <td>chaeyoung</td>\n",
       "      <td>http://twitter.com/search?q=chaeyoung</td>\n",
       "      <td>None</td>\n",
       "      <td>chaeyoung</td>\n",
       "      <td>63429.0</td>\n",
       "    </tr>\n",
       "    <tr>\n",
       "      <th>19</th>\n",
       "      <td>プロデュース方針</td>\n",
       "      <td>http://twitter.com/search?q=%E3%83%97%E3%83%AD...</td>\n",
       "      <td>None</td>\n",
       "      <td>%E3%83%97%E3%83%AD%E3%83%87%E3%83%A5%E3%83%BC%...</td>\n",
       "      <td>NaN</td>\n",
       "    </tr>\n",
       "    <tr>\n",
       "      <th>20</th>\n",
       "      <td>場数pt</td>\n",
       "      <td>http://twitter.com/search?q=%E5%A0%B4%E6%95%B0pt</td>\n",
       "      <td>None</td>\n",
       "      <td>%E5%A0%B4%E6%95%B0pt</td>\n",
       "      <td>NaN</td>\n",
       "    </tr>\n",
       "    <tr>\n",
       "      <th>21</th>\n",
       "      <td>Vicky</td>\n",
       "      <td>http://twitter.com/search?q=Vicky</td>\n",
       "      <td>None</td>\n",
       "      <td>Vicky</td>\n",
       "      <td>39747.0</td>\n",
       "    </tr>\n",
       "    <tr>\n",
       "      <th>22</th>\n",
       "      <td>Vitinho</td>\n",
       "      <td>http://twitter.com/search?q=Vitinho</td>\n",
       "      <td>None</td>\n",
       "      <td>Vitinho</td>\n",
       "      <td>18885.0</td>\n",
       "    </tr>\n",
       "    <tr>\n",
       "      <th>23</th>\n",
       "      <td>ディミトリ</td>\n",
       "      <td>http://twitter.com/search?q=%E3%83%87%E3%82%A3...</td>\n",
       "      <td>None</td>\n",
       "      <td>%E3%83%87%E3%82%A3%E3%83%9F%E3%83%88%E3%83%AA</td>\n",
       "      <td>11736.0</td>\n",
       "    </tr>\n",
       "    <tr>\n",
       "      <th>24</th>\n",
       "      <td>伊藤くん</td>\n",
       "      <td>http://twitter.com/search?q=%E4%BC%8A%E8%97%A4...</td>\n",
       "      <td>None</td>\n",
       "      <td>%E4%BC%8A%E8%97%A4%E3%81%8F%E3%82%93</td>\n",
       "      <td>13358.0</td>\n",
       "    </tr>\n",
       "    <tr>\n",
       "      <th>25</th>\n",
       "      <td>カテゴリー</td>\n",
       "      <td>http://twitter.com/search?q=%E3%82%AB%E3%83%86...</td>\n",
       "      <td>None</td>\n",
       "      <td>%E3%82%AB%E3%83%86%E3%82%B4%E3%83%AA%E3%83%BC</td>\n",
       "      <td>12671.0</td>\n",
       "    </tr>\n",
       "    <tr>\n",
       "      <th>26</th>\n",
       "      <td>Tiago Reis</td>\n",
       "      <td>http://twitter.com/search?q=%22Tiago+Reis%22</td>\n",
       "      <td>None</td>\n",
       "      <td>%22Tiago+Reis%22</td>\n",
       "      <td>NaN</td>\n",
       "    </tr>\n",
       "    <tr>\n",
       "      <th>27</th>\n",
       "      <td>WONDER ACOUSTIC</td>\n",
       "      <td>http://twitter.com/search?q=%22WONDER+ACOUSTIC%22</td>\n",
       "      <td>None</td>\n",
       "      <td>%22WONDER+ACOUSTIC%22</td>\n",
       "      <td>36345.0</td>\n",
       "    </tr>\n",
       "    <tr>\n",
       "      <th>28</th>\n",
       "      <td>Marriage</td>\n",
       "      <td>http://twitter.com/search?q=Marriage</td>\n",
       "      <td>None</td>\n",
       "      <td>Marriage</td>\n",
       "      <td>119871.0</td>\n",
       "    </tr>\n",
       "    <tr>\n",
       "      <th>29</th>\n",
       "      <td>ノクティス</td>\n",
       "      <td>http://twitter.com/search?q=%E3%83%8E%E3%82%AF...</td>\n",
       "      <td>None</td>\n",
       "      <td>%E3%83%8E%E3%82%AF%E3%83%86%E3%82%A3%E3%82%B9</td>\n",
       "      <td>NaN</td>\n",
       "    </tr>\n",
       "    <tr>\n",
       "      <th>30</th>\n",
       "      <td>ひき逃げの疑い</td>\n",
       "      <td>http://twitter.com/search?q=%E3%81%B2%E3%81%8D...</td>\n",
       "      <td>None</td>\n",
       "      <td>%E3%81%B2%E3%81%8D%E9%80%83%E3%81%92%E3%81%AE%...</td>\n",
       "      <td>16131.0</td>\n",
       "    </tr>\n",
       "    <tr>\n",
       "      <th>31</th>\n",
       "      <td>Perdue</td>\n",
       "      <td>http://twitter.com/search?q=Perdue</td>\n",
       "      <td>None</td>\n",
       "      <td>Perdue</td>\n",
       "      <td>35662.0</td>\n",
       "    </tr>\n",
       "    <tr>\n",
       "      <th>32</th>\n",
       "      <td>Leo Pereira</td>\n",
       "      <td>http://twitter.com/search?q=%22Leo+Pereira%22</td>\n",
       "      <td>None</td>\n",
       "      <td>%22Leo+Pereira%22</td>\n",
       "      <td>20384.0</td>\n",
       "    </tr>\n",
       "    <tr>\n",
       "      <th>33</th>\n",
       "      <td>Tirei 99%</td>\n",
       "      <td>http://twitter.com/search?q=%22Tirei+99%25%22</td>\n",
       "      <td>None</td>\n",
       "      <td>%22Tirei+99%25%22</td>\n",
       "      <td>NaN</td>\n",
       "    </tr>\n",
       "    <tr>\n",
       "      <th>34</th>\n",
       "      <td>Lauren</td>\n",
       "      <td>http://twitter.com/search?q=Lauren</td>\n",
       "      <td>None</td>\n",
       "      <td>Lauren</td>\n",
       "      <td>157732.0</td>\n",
       "    </tr>\n",
       "    <tr>\n",
       "      <th>35</th>\n",
       "      <td>Gazi Mustafa Kemal Atatürk</td>\n",
       "      <td>http://twitter.com/search?q=%22Gazi+Mustafa+Ke...</td>\n",
       "      <td>None</td>\n",
       "      <td>%22Gazi+Mustafa+Kemal+Atat%C3%BCrk%22</td>\n",
       "      <td>37318.0</td>\n",
       "    </tr>\n",
       "    <tr>\n",
       "      <th>36</th>\n",
       "      <td>国内の感染者10万人</td>\n",
       "      <td>http://twitter.com/search?q=%E5%9B%BD%E5%86%85...</td>\n",
       "      <td>None</td>\n",
       "      <td>%E5%9B%BD%E5%86%85%E3%81%AE%E6%84%9F%E6%9F%93%...</td>\n",
       "      <td>NaN</td>\n",
       "    </tr>\n",
       "    <tr>\n",
       "      <th>37</th>\n",
       "      <td>Uターン</td>\n",
       "      <td>http://twitter.com/search?q=U%E3%82%BF%E3%83%B...</td>\n",
       "      <td>None</td>\n",
       "      <td>U%E3%82%BF%E3%83%BC%E3%83%B3</td>\n",
       "      <td>NaN</td>\n",
       "    </tr>\n",
       "    <tr>\n",
       "      <th>38</th>\n",
       "      <td>BELIEVER OF CRAVITY</td>\n",
       "      <td>http://twitter.com/search?q=%22BELIEVER+OF+CRA...</td>\n",
       "      <td>None</td>\n",
       "      <td>%22BELIEVER+OF+CRAVITY%22</td>\n",
       "      <td>20590.0</td>\n",
       "    </tr>\n",
       "    <tr>\n",
       "      <th>39</th>\n",
       "      <td>リボ払い</td>\n",
       "      <td>http://twitter.com/search?q=%E3%83%AA%E3%83%9C...</td>\n",
       "      <td>None</td>\n",
       "      <td>%E3%83%AA%E3%83%9C%E6%89%95%E3%81%84</td>\n",
       "      <td>13518.0</td>\n",
       "    </tr>\n",
       "    <tr>\n",
       "      <th>40</th>\n",
       "      <td>ペコちゃん棋戦</td>\n",
       "      <td>http://twitter.com/search?q=%E3%83%9A%E3%82%B3...</td>\n",
       "      <td>None</td>\n",
       "      <td>%E3%83%9A%E3%82%B3%E3%81%A1%E3%82%83%E3%82%93%...</td>\n",
       "      <td>NaN</td>\n",
       "    </tr>\n",
       "    <tr>\n",
       "      <th>41</th>\n",
       "      <td>Sidcley</td>\n",
       "      <td>http://twitter.com/search?q=Sidcley</td>\n",
       "      <td>None</td>\n",
       "      <td>Sidcley</td>\n",
       "      <td>NaN</td>\n",
       "    </tr>\n",
       "    <tr>\n",
       "      <th>42</th>\n",
       "      <td>公開中止</td>\n",
       "      <td>http://twitter.com/search?q=%E5%85%AC%E9%96%8B...</td>\n",
       "      <td>None</td>\n",
       "      <td>%E5%85%AC%E9%96%8B%E4%B8%AD%E6%AD%A2</td>\n",
       "      <td>NaN</td>\n",
       "    </tr>\n",
       "    <tr>\n",
       "      <th>43</th>\n",
       "      <td>#CL_HWAx5STAR</td>\n",
       "      <td>http://twitter.com/search?q=%23CL_HWAx5STAR</td>\n",
       "      <td>None</td>\n",
       "      <td>%23CL_HWAx5STAR</td>\n",
       "      <td>29288.0</td>\n",
       "    </tr>\n",
       "    <tr>\n",
       "      <th>44</th>\n",
       "      <td>#29EkimCumhiyetBayramımız</td>\n",
       "      <td>http://twitter.com/search?q=%2329EkimCumhiyetB...</td>\n",
       "      <td>None</td>\n",
       "      <td>%2329EkimCumhiyetBayram%C4%B1m%C4%B1z</td>\n",
       "      <td>16565.0</td>\n",
       "    </tr>\n",
       "    <tr>\n",
       "      <th>45</th>\n",
       "      <td>#ネコからの贈り物</td>\n",
       "      <td>http://twitter.com/search?q=%23%E3%83%8D%E3%82...</td>\n",
       "      <td>None</td>\n",
       "      <td>%23%E3%83%8D%E3%82%B3%E3%81%8B%E3%82%89%E3%81%...</td>\n",
       "      <td>NaN</td>\n",
       "    </tr>\n",
       "    <tr>\n",
       "      <th>46</th>\n",
       "      <td>#NationWithFearlessArnab</td>\n",
       "      <td>http://twitter.com/search?q=%23NationWithFearl...</td>\n",
       "      <td>None</td>\n",
       "      <td>%23NationWithFearlessArnab</td>\n",
       "      <td>87151.0</td>\n",
       "    </tr>\n",
       "    <tr>\n",
       "      <th>47</th>\n",
       "      <td>#DrDrinkxGulf</td>\n",
       "      <td>http://twitter.com/search?q=%23DrDrinkxGulf</td>\n",
       "      <td>None</td>\n",
       "      <td>%23DrDrinkxGulf</td>\n",
       "      <td>89851.0</td>\n",
       "    </tr>\n",
       "    <tr>\n",
       "      <th>48</th>\n",
       "      <td>#yağmur</td>\n",
       "      <td>http://twitter.com/search?q=%23ya%C4%9Fmur</td>\n",
       "      <td>None</td>\n",
       "      <td>%23ya%C4%9Fmur</td>\n",
       "      <td>NaN</td>\n",
       "    </tr>\n",
       "    <tr>\n",
       "      <th>49</th>\n",
       "      <td>#eretdress</td>\n",
       "      <td>http://twitter.com/search?q=%23eretdress</td>\n",
       "      <td>None</td>\n",
       "      <td>%23eretdress</td>\n",
       "      <td>38445.0</td>\n",
       "    </tr>\n",
       "  </tbody>\n",
       "</table>\n",
       "</div>"
      ],
      "text/plain": [
       "                          name  \\\n",
       "0           #ProvaDoFazendeiro   \n",
       "1                        伊藤健太郎   \n",
       "2                    #FicaLipe   \n",
       "3                         Hugo   \n",
       "4         #SM_PROTECT_CHANYEOL   \n",
       "5                        #BB22   \n",
       "6           #Showtime11thPower   \n",
       "7                         Wine   \n",
       "8                         Renê   \n",
       "9                       Neneca   \n",
       "10                 Corinthians   \n",
       "11                      Tucker   \n",
       "12                        Tays   \n",
       "13                      とんかつDJ   \n",
       "14                        鬼滅貧乏   \n",
       "15               Jack Nicklaus   \n",
       "16          TwitterrGet Açıldı   \n",
       "17                    ディジェSE-R   \n",
       "18                   chaeyoung   \n",
       "19                    プロデュース方針   \n",
       "20                        場数pt   \n",
       "21                       Vicky   \n",
       "22                     Vitinho   \n",
       "23                       ディミトリ   \n",
       "24                        伊藤くん   \n",
       "25                       カテゴリー   \n",
       "26                  Tiago Reis   \n",
       "27             WONDER ACOUSTIC   \n",
       "28                    Marriage   \n",
       "29                       ノクティス   \n",
       "30                     ひき逃げの疑い   \n",
       "31                      Perdue   \n",
       "32                 Leo Pereira   \n",
       "33                   Tirei 99%   \n",
       "34                      Lauren   \n",
       "35  Gazi Mustafa Kemal Atatürk   \n",
       "36                  国内の感染者10万人   \n",
       "37                        Uターン   \n",
       "38         BELIEVER OF CRAVITY   \n",
       "39                        リボ払い   \n",
       "40                     ペコちゃん棋戦   \n",
       "41                     Sidcley   \n",
       "42                        公開中止   \n",
       "43               #CL_HWAx5STAR   \n",
       "44   #29EkimCumhiyetBayramımız   \n",
       "45                   #ネコからの贈り物   \n",
       "46    #NationWithFearlessArnab   \n",
       "47               #DrDrinkxGulf   \n",
       "48                     #yağmur   \n",
       "49                  #eretdress   \n",
       "\n",
       "                                                  url promoted_content  \\\n",
       "0    http://twitter.com/search?q=%23ProvaDoFazendeiro             None   \n",
       "1   http://twitter.com/search?q=%E4%BC%8A%E8%97%A4...             None   \n",
       "2             http://twitter.com/search?q=%23FicaLipe             None   \n",
       "3                    http://twitter.com/search?q=Hugo             None   \n",
       "4   http://twitter.com/search?q=%23SM_PROTECT_CHAN...             None   \n",
       "5                 http://twitter.com/search?q=%23BB22             None   \n",
       "6    http://twitter.com/search?q=%23Showtime11thPower             None   \n",
       "7                    http://twitter.com/search?q=Wine             None   \n",
       "8               http://twitter.com/search?q=Ren%C3%AA             None   \n",
       "9                  http://twitter.com/search?q=Neneca             None   \n",
       "10            http://twitter.com/search?q=Corinthians             None   \n",
       "11                 http://twitter.com/search?q=Tucker             None   \n",
       "12                   http://twitter.com/search?q=Tays             None   \n",
       "13  http://twitter.com/search?q=%E3%81%A8%E3%82%93...             None   \n",
       "14  http://twitter.com/search?q=%E9%AC%BC%E6%BB%85...             None   \n",
       "15    http://twitter.com/search?q=%22Jack+Nicklaus%22             None   \n",
       "16  http://twitter.com/search?q=%22TwitterrGet+A%C...             None   \n",
       "17  http://twitter.com/search?q=%E3%83%87%E3%82%A3...             None   \n",
       "18              http://twitter.com/search?q=chaeyoung             None   \n",
       "19  http://twitter.com/search?q=%E3%83%97%E3%83%AD...             None   \n",
       "20   http://twitter.com/search?q=%E5%A0%B4%E6%95%B0pt             None   \n",
       "21                  http://twitter.com/search?q=Vicky             None   \n",
       "22                http://twitter.com/search?q=Vitinho             None   \n",
       "23  http://twitter.com/search?q=%E3%83%87%E3%82%A3...             None   \n",
       "24  http://twitter.com/search?q=%E4%BC%8A%E8%97%A4...             None   \n",
       "25  http://twitter.com/search?q=%E3%82%AB%E3%83%86...             None   \n",
       "26       http://twitter.com/search?q=%22Tiago+Reis%22             None   \n",
       "27  http://twitter.com/search?q=%22WONDER+ACOUSTIC%22             None   \n",
       "28               http://twitter.com/search?q=Marriage             None   \n",
       "29  http://twitter.com/search?q=%E3%83%8E%E3%82%AF...             None   \n",
       "30  http://twitter.com/search?q=%E3%81%B2%E3%81%8D...             None   \n",
       "31                 http://twitter.com/search?q=Perdue             None   \n",
       "32      http://twitter.com/search?q=%22Leo+Pereira%22             None   \n",
       "33      http://twitter.com/search?q=%22Tirei+99%25%22             None   \n",
       "34                 http://twitter.com/search?q=Lauren             None   \n",
       "35  http://twitter.com/search?q=%22Gazi+Mustafa+Ke...             None   \n",
       "36  http://twitter.com/search?q=%E5%9B%BD%E5%86%85...             None   \n",
       "37  http://twitter.com/search?q=U%E3%82%BF%E3%83%B...             None   \n",
       "38  http://twitter.com/search?q=%22BELIEVER+OF+CRA...             None   \n",
       "39  http://twitter.com/search?q=%E3%83%AA%E3%83%9C...             None   \n",
       "40  http://twitter.com/search?q=%E3%83%9A%E3%82%B3...             None   \n",
       "41                http://twitter.com/search?q=Sidcley             None   \n",
       "42  http://twitter.com/search?q=%E5%85%AC%E9%96%8B...             None   \n",
       "43        http://twitter.com/search?q=%23CL_HWAx5STAR             None   \n",
       "44  http://twitter.com/search?q=%2329EkimCumhiyetB...             None   \n",
       "45  http://twitter.com/search?q=%23%E3%83%8D%E3%82...             None   \n",
       "46  http://twitter.com/search?q=%23NationWithFearl...             None   \n",
       "47        http://twitter.com/search?q=%23DrDrinkxGulf             None   \n",
       "48         http://twitter.com/search?q=%23ya%C4%9Fmur             None   \n",
       "49           http://twitter.com/search?q=%23eretdress             None   \n",
       "\n",
       "                                                query  tweet_volume  \n",
       "0                                %23ProvaDoFazendeiro      190202.0  \n",
       "1       %E4%BC%8A%E8%97%A4%E5%81%A5%E5%A4%AA%E9%83%8E      113756.0  \n",
       "2                                         %23FicaLipe       82716.0  \n",
       "3                                                Hugo      147489.0  \n",
       "4                              %23SM_PROTECT_CHANYEOL      279707.0  \n",
       "5                                             %23BB22      102749.0  \n",
       "6                                %23Showtime11thPower       21019.0  \n",
       "7                                                Wine       92008.0  \n",
       "8                                           Ren%C3%AA       49671.0  \n",
       "9                                              Neneca      127672.0  \n",
       "10                                        Corinthians       86649.0  \n",
       "11                                             Tucker      498191.0  \n",
       "12                                               Tays      171323.0  \n",
       "13             %E3%81%A8%E3%82%93%E3%81%8B%E3%81%A4DJ       33441.0  \n",
       "14               %E9%AC%BC%E6%BB%85%E8%B2%A7%E4%B9%8F       36240.0  \n",
       "15                                %22Jack+Nicklaus%22       10562.0  \n",
       "16            %22TwitterrGet+A%C3%A7%C4%B1ld%C4%B1%22           NaN  \n",
       "17           %E3%83%87%E3%82%A3%E3%82%B8%E3%82%A7SE-R           NaN  \n",
       "18                                          chaeyoung       63429.0  \n",
       "19  %E3%83%97%E3%83%AD%E3%83%87%E3%83%A5%E3%83%BC%...           NaN  \n",
       "20                               %E5%A0%B4%E6%95%B0pt           NaN  \n",
       "21                                              Vicky       39747.0  \n",
       "22                                            Vitinho       18885.0  \n",
       "23      %E3%83%87%E3%82%A3%E3%83%9F%E3%83%88%E3%83%AA       11736.0  \n",
       "24               %E4%BC%8A%E8%97%A4%E3%81%8F%E3%82%93       13358.0  \n",
       "25      %E3%82%AB%E3%83%86%E3%82%B4%E3%83%AA%E3%83%BC       12671.0  \n",
       "26                                   %22Tiago+Reis%22           NaN  \n",
       "27                              %22WONDER+ACOUSTIC%22       36345.0  \n",
       "28                                           Marriage      119871.0  \n",
       "29      %E3%83%8E%E3%82%AF%E3%83%86%E3%82%A3%E3%82%B9           NaN  \n",
       "30  %E3%81%B2%E3%81%8D%E9%80%83%E3%81%92%E3%81%AE%...       16131.0  \n",
       "31                                             Perdue       35662.0  \n",
       "32                                  %22Leo+Pereira%22       20384.0  \n",
       "33                                  %22Tirei+99%25%22           NaN  \n",
       "34                                             Lauren      157732.0  \n",
       "35              %22Gazi+Mustafa+Kemal+Atat%C3%BCrk%22       37318.0  \n",
       "36  %E5%9B%BD%E5%86%85%E3%81%AE%E6%84%9F%E6%9F%93%...           NaN  \n",
       "37                       U%E3%82%BF%E3%83%BC%E3%83%B3           NaN  \n",
       "38                          %22BELIEVER+OF+CRAVITY%22       20590.0  \n",
       "39               %E3%83%AA%E3%83%9C%E6%89%95%E3%81%84       13518.0  \n",
       "40  %E3%83%9A%E3%82%B3%E3%81%A1%E3%82%83%E3%82%93%...           NaN  \n",
       "41                                            Sidcley           NaN  \n",
       "42               %E5%85%AC%E9%96%8B%E4%B8%AD%E6%AD%A2           NaN  \n",
       "43                                    %23CL_HWAx5STAR       29288.0  \n",
       "44              %2329EkimCumhiyetBayram%C4%B1m%C4%B1z       16565.0  \n",
       "45  %23%E3%83%8D%E3%82%B3%E3%81%8B%E3%82%89%E3%81%...           NaN  \n",
       "46                         %23NationWithFearlessArnab       87151.0  \n",
       "47                                    %23DrDrinkxGulf       89851.0  \n",
       "48                                     %23ya%C4%9Fmur           NaN  \n",
       "49                                       %23eretdress       38445.0  "
      ]
     },
     "execution_count": 10,
     "metadata": {},
     "output_type": "execute_result"
    }
   ],
   "source": [
    "json_normalize(world_trends[0], 'trends')"
   ]
  },
  {
   "cell_type": "markdown",
   "metadata": {},
   "source": [
    "The same applies for trending topics in USA."
   ]
  },
  {
   "cell_type": "code",
   "execution_count": 11,
   "metadata": {},
   "outputs": [
    {
     "data": {
      "text/plain": [
       "1"
      ]
     },
     "execution_count": 11,
     "metadata": {},
     "output_type": "execute_result"
    }
   ],
   "source": [
    "len(us_trends)"
   ]
  },
  {
   "cell_type": "code",
   "execution_count": 133,
   "metadata": {},
   "outputs": [],
   "source": [
    "#print(us_trends)"
   ]
  },
  {
   "cell_type": "code",
   "execution_count": 13,
   "metadata": {},
   "outputs": [
    {
     "data": {
      "text/plain": [
       "dict_keys(['trends', 'as_of', 'created_at', 'locations'])"
      ]
     },
     "execution_count": 13,
     "metadata": {},
     "output_type": "execute_result"
    }
   ],
   "source": [
    "us_trends[0].keys()"
   ]
  },
  {
   "cell_type": "code",
   "execution_count": 14,
   "metadata": {},
   "outputs": [
    {
     "name": "stderr",
     "output_type": "stream",
     "text": [
      "<ipython-input-14-230156b3f00a>:1: FutureWarning: pandas.io.json.json_normalize is deprecated, use pandas.json_normalize instead\n",
      "  json_normalize(us_trends[0])\n"
     ]
    },
    {
     "data": {
      "text/html": [
       "<div>\n",
       "<style scoped>\n",
       "    .dataframe tbody tr th:only-of-type {\n",
       "        vertical-align: middle;\n",
       "    }\n",
       "\n",
       "    .dataframe tbody tr th {\n",
       "        vertical-align: top;\n",
       "    }\n",
       "\n",
       "    .dataframe thead th {\n",
       "        text-align: right;\n",
       "    }\n",
       "</style>\n",
       "<table border=\"1\" class=\"dataframe\">\n",
       "  <thead>\n",
       "    <tr style=\"text-align: right;\">\n",
       "      <th></th>\n",
       "      <th>trends</th>\n",
       "      <th>as_of</th>\n",
       "      <th>created_at</th>\n",
       "      <th>locations</th>\n",
       "    </tr>\n",
       "  </thead>\n",
       "  <tbody>\n",
       "    <tr>\n",
       "      <th>0</th>\n",
       "      <td>[{'name': '#BB22', 'url': 'http://twitter.com/...</td>\n",
       "      <td>2020-10-29T06:29:34Z</td>\n",
       "      <td>2020-10-27T20:42:55Z</td>\n",
       "      <td>[{'name': 'United States', 'woeid': 23424977}]</td>\n",
       "    </tr>\n",
       "  </tbody>\n",
       "</table>\n",
       "</div>"
      ],
      "text/plain": [
       "                                              trends                 as_of  \\\n",
       "0  [{'name': '#BB22', 'url': 'http://twitter.com/...  2020-10-29T06:29:34Z   \n",
       "\n",
       "             created_at                                       locations  \n",
       "0  2020-10-27T20:42:55Z  [{'name': 'United States', 'woeid': 23424977}]  "
      ]
     },
     "execution_count": 14,
     "metadata": {},
     "output_type": "execute_result"
    }
   ],
   "source": [
    "json_normalize(us_trends[0])"
   ]
  },
  {
   "cell_type": "code",
   "execution_count": 15,
   "metadata": {},
   "outputs": [
    {
     "name": "stderr",
     "output_type": "stream",
     "text": [
      "<ipython-input-15-b0b6ca49d3e3>:1: FutureWarning: pandas.io.json.json_normalize is deprecated, use pandas.json_normalize instead\n",
      "  json_normalize(us_trends[0], 'trends')\n"
     ]
    },
    {
     "data": {
      "text/html": [
       "<div>\n",
       "<style scoped>\n",
       "    .dataframe tbody tr th:only-of-type {\n",
       "        vertical-align: middle;\n",
       "    }\n",
       "\n",
       "    .dataframe tbody tr th {\n",
       "        vertical-align: top;\n",
       "    }\n",
       "\n",
       "    .dataframe thead th {\n",
       "        text-align: right;\n",
       "    }\n",
       "</style>\n",
       "<table border=\"1\" class=\"dataframe\">\n",
       "  <thead>\n",
       "    <tr style=\"text-align: right;\">\n",
       "      <th></th>\n",
       "      <th>name</th>\n",
       "      <th>url</th>\n",
       "      <th>promoted_content</th>\n",
       "      <th>query</th>\n",
       "      <th>tweet_volume</th>\n",
       "    </tr>\n",
       "  </thead>\n",
       "  <tbody>\n",
       "    <tr>\n",
       "      <th>0</th>\n",
       "      <td>#BB22</td>\n",
       "      <td>http://twitter.com/search?q=%23BB22</td>\n",
       "      <td>None</td>\n",
       "      <td>%23BB22</td>\n",
       "      <td>102749.0</td>\n",
       "    </tr>\n",
       "    <tr>\n",
       "      <th>1</th>\n",
       "      <td>Wine</td>\n",
       "      <td>http://twitter.com/search?q=Wine</td>\n",
       "      <td>None</td>\n",
       "      <td>Wine</td>\n",
       "      <td>92048.0</td>\n",
       "    </tr>\n",
       "    <tr>\n",
       "      <th>2</th>\n",
       "      <td>Tucker</td>\n",
       "      <td>http://twitter.com/search?q=Tucker</td>\n",
       "      <td>None</td>\n",
       "      <td>Tucker</td>\n",
       "      <td>498191.0</td>\n",
       "    </tr>\n",
       "    <tr>\n",
       "      <th>3</th>\n",
       "      <td>#eretdress</td>\n",
       "      <td>http://twitter.com/search?q=%23eretdress</td>\n",
       "      <td>None</td>\n",
       "      <td>%23eretdress</td>\n",
       "      <td>38445.0</td>\n",
       "    </tr>\n",
       "    <tr>\n",
       "      <th>4</th>\n",
       "      <td>Jack Nicklaus</td>\n",
       "      <td>http://twitter.com/search?q=%22Jack+Nicklaus%22</td>\n",
       "      <td>None</td>\n",
       "      <td>%22Jack+Nicklaus%22</td>\n",
       "      <td>10562.0</td>\n",
       "    </tr>\n",
       "    <tr>\n",
       "      <th>5</th>\n",
       "      <td>#hotgirlsagainstabortion</td>\n",
       "      <td>http://twitter.com/search?q=%23hotgirlsagainst...</td>\n",
       "      <td>None</td>\n",
       "      <td>%23hotgirlsagainstabortion</td>\n",
       "      <td>NaN</td>\n",
       "    </tr>\n",
       "    <tr>\n",
       "      <th>6</th>\n",
       "      <td>Marriage</td>\n",
       "      <td>http://twitter.com/search?q=Marriage</td>\n",
       "      <td>None</td>\n",
       "      <td>Marriage</td>\n",
       "      <td>119917.0</td>\n",
       "    </tr>\n",
       "    <tr>\n",
       "      <th>7</th>\n",
       "      <td>Perdue</td>\n",
       "      <td>http://twitter.com/search?q=Perdue</td>\n",
       "      <td>None</td>\n",
       "      <td>Perdue</td>\n",
       "      <td>35662.0</td>\n",
       "    </tr>\n",
       "    <tr>\n",
       "      <th>8</th>\n",
       "      <td>chanyeol</td>\n",
       "      <td>http://twitter.com/search?q=chanyeol</td>\n",
       "      <td>None</td>\n",
       "      <td>chanyeol</td>\n",
       "      <td>901902.0</td>\n",
       "    </tr>\n",
       "    <tr>\n",
       "      <th>9</th>\n",
       "      <td>#BigBrother</td>\n",
       "      <td>http://twitter.com/search?q=%23BigBrother</td>\n",
       "      <td>None</td>\n",
       "      <td>%23BigBrother</td>\n",
       "      <td>NaN</td>\n",
       "    </tr>\n",
       "    <tr>\n",
       "      <th>10</th>\n",
       "      <td>Butter</td>\n",
       "      <td>http://twitter.com/search?q=Butter</td>\n",
       "      <td>None</td>\n",
       "      <td>Butter</td>\n",
       "      <td>54227.0</td>\n",
       "    </tr>\n",
       "    <tr>\n",
       "      <th>11</th>\n",
       "      <td>Captain Moroni</td>\n",
       "      <td>http://twitter.com/search?q=%22Captain+Moroni%22</td>\n",
       "      <td>None</td>\n",
       "      <td>%22Captain+Moroni%22</td>\n",
       "      <td>NaN</td>\n",
       "    </tr>\n",
       "    <tr>\n",
       "      <th>12</th>\n",
       "      <td>Girl Scouts</td>\n",
       "      <td>http://twitter.com/search?q=%22Girl+Scouts%22</td>\n",
       "      <td>None</td>\n",
       "      <td>%22Girl+Scouts%22</td>\n",
       "      <td>34220.0</td>\n",
       "    </tr>\n",
       "    <tr>\n",
       "      <th>13</th>\n",
       "      <td>#HalloweenHavoc</td>\n",
       "      <td>http://twitter.com/search?q=%23HalloweenHavoc</td>\n",
       "      <td>None</td>\n",
       "      <td>%23HalloweenHavoc</td>\n",
       "      <td>38997.0</td>\n",
       "    </tr>\n",
       "    <tr>\n",
       "      <th>14</th>\n",
       "      <td>Beach</td>\n",
       "      <td>http://twitter.com/search?q=Beach</td>\n",
       "      <td>None</td>\n",
       "      <td>Beach</td>\n",
       "      <td>80766.0</td>\n",
       "    </tr>\n",
       "    <tr>\n",
       "      <th>15</th>\n",
       "      <td>Tyga</td>\n",
       "      <td>http://twitter.com/search?q=Tyga</td>\n",
       "      <td>None</td>\n",
       "      <td>Tyga</td>\n",
       "      <td>NaN</td>\n",
       "    </tr>\n",
       "    <tr>\n",
       "      <th>16</th>\n",
       "      <td>Jon Ossoff</td>\n",
       "      <td>http://twitter.com/search?q=%22Jon+Ossoff%22</td>\n",
       "      <td>None</td>\n",
       "      <td>%22Jon+Ossoff%22</td>\n",
       "      <td>NaN</td>\n",
       "    </tr>\n",
       "    <tr>\n",
       "      <th>17</th>\n",
       "      <td>Mike Lee</td>\n",
       "      <td>http://twitter.com/search?q=%22Mike+Lee%22</td>\n",
       "      <td>None</td>\n",
       "      <td>%22Mike+Lee%22</td>\n",
       "      <td>NaN</td>\n",
       "    </tr>\n",
       "    <tr>\n",
       "      <th>18</th>\n",
       "      <td>da'vonne</td>\n",
       "      <td>http://twitter.com/search?q=da%27vonne</td>\n",
       "      <td>None</td>\n",
       "      <td>da%27vonne</td>\n",
       "      <td>18847.0</td>\n",
       "    </tr>\n",
       "    <tr>\n",
       "      <th>19</th>\n",
       "      <td>Dimitri</td>\n",
       "      <td>http://twitter.com/search?q=Dimitri</td>\n",
       "      <td>None</td>\n",
       "      <td>Dimitri</td>\n",
       "      <td>NaN</td>\n",
       "    </tr>\n",
       "    <tr>\n",
       "      <th>20</th>\n",
       "      <td>Crabs</td>\n",
       "      <td>http://twitter.com/search?q=Crabs</td>\n",
       "      <td>None</td>\n",
       "      <td>Crabs</td>\n",
       "      <td>NaN</td>\n",
       "    </tr>\n",
       "    <tr>\n",
       "      <th>21</th>\n",
       "      <td>Anibal</td>\n",
       "      <td>http://twitter.com/search?q=Anibal</td>\n",
       "      <td>None</td>\n",
       "      <td>Anibal</td>\n",
       "      <td>NaN</td>\n",
       "    </tr>\n",
       "    <tr>\n",
       "      <th>22</th>\n",
       "      <td>Hunter</td>\n",
       "      <td>http://twitter.com/search?q=Hunter</td>\n",
       "      <td>None</td>\n",
       "      <td>Hunter</td>\n",
       "      <td>956919.0</td>\n",
       "    </tr>\n",
       "    <tr>\n",
       "      <th>23</th>\n",
       "      <td>Chipotle</td>\n",
       "      <td>http://twitter.com/search?q=Chipotle</td>\n",
       "      <td>None</td>\n",
       "      <td>Chipotle</td>\n",
       "      <td>NaN</td>\n",
       "    </tr>\n",
       "    <tr>\n",
       "      <th>24</th>\n",
       "      <td>DeJoy</td>\n",
       "      <td>http://twitter.com/search?q=DeJoy</td>\n",
       "      <td>None</td>\n",
       "      <td>DeJoy</td>\n",
       "      <td>32464.0</td>\n",
       "    </tr>\n",
       "    <tr>\n",
       "      <th>25</th>\n",
       "      <td>Vodka</td>\n",
       "      <td>http://twitter.com/search?q=Vodka</td>\n",
       "      <td>None</td>\n",
       "      <td>Vodka</td>\n",
       "      <td>34755.0</td>\n",
       "    </tr>\n",
       "    <tr>\n",
       "      <th>26</th>\n",
       "      <td>FedEx</td>\n",
       "      <td>http://twitter.com/search?q=FedEx</td>\n",
       "      <td>None</td>\n",
       "      <td>FedEx</td>\n",
       "      <td>18232.0</td>\n",
       "    </tr>\n",
       "    <tr>\n",
       "      <th>27</th>\n",
       "      <td>Pizza</td>\n",
       "      <td>http://twitter.com/search?q=Pizza</td>\n",
       "      <td>None</td>\n",
       "      <td>Pizza</td>\n",
       "      <td>150589.0</td>\n",
       "    </tr>\n",
       "    <tr>\n",
       "      <th>28</th>\n",
       "      <td>chaeyoung</td>\n",
       "      <td>http://twitter.com/search?q=chaeyoung</td>\n",
       "      <td>None</td>\n",
       "      <td>chaeyoung</td>\n",
       "      <td>63523.0</td>\n",
       "    </tr>\n",
       "    <tr>\n",
       "      <th>29</th>\n",
       "      <td>Golden Bear</td>\n",
       "      <td>http://twitter.com/search?q=%22Golden+Bear%22</td>\n",
       "      <td>None</td>\n",
       "      <td>%22Golden+Bear%22</td>\n",
       "      <td>NaN</td>\n",
       "    </tr>\n",
       "    <tr>\n",
       "      <th>30</th>\n",
       "      <td>Covey Spreader</td>\n",
       "      <td>http://twitter.com/search?q=%22Covey+Spreader%22</td>\n",
       "      <td>None</td>\n",
       "      <td>%22Covey+Spreader%22</td>\n",
       "      <td>NaN</td>\n",
       "    </tr>\n",
       "    <tr>\n",
       "      <th>31</th>\n",
       "      <td>NO STANCE</td>\n",
       "      <td>http://twitter.com/search?q=%22NO+STANCE%22</td>\n",
       "      <td>None</td>\n",
       "      <td>%22NO+STANCE%22</td>\n",
       "      <td>NaN</td>\n",
       "    </tr>\n",
       "    <tr>\n",
       "      <th>32</th>\n",
       "      <td>Calgary</td>\n",
       "      <td>http://twitter.com/search?q=Calgary</td>\n",
       "      <td>None</td>\n",
       "      <td>Calgary</td>\n",
       "      <td>11854.0</td>\n",
       "    </tr>\n",
       "    <tr>\n",
       "      <th>33</th>\n",
       "      <td>JitB</td>\n",
       "      <td>http://twitter.com/search?q=JitB</td>\n",
       "      <td>None</td>\n",
       "      <td>JitB</td>\n",
       "      <td>NaN</td>\n",
       "    </tr>\n",
       "    <tr>\n",
       "      <th>34</th>\n",
       "      <td>Elmyra</td>\n",
       "      <td>http://twitter.com/search?q=Elmyra</td>\n",
       "      <td>None</td>\n",
       "      <td>Elmyra</td>\n",
       "      <td>NaN</td>\n",
       "    </tr>\n",
       "    <tr>\n",
       "      <th>35</th>\n",
       "      <td>Manchu</td>\n",
       "      <td>http://twitter.com/search?q=Manchu</td>\n",
       "      <td>None</td>\n",
       "      <td>Manchu</td>\n",
       "      <td>NaN</td>\n",
       "    </tr>\n",
       "    <tr>\n",
       "      <th>36</th>\n",
       "      <td>WOULD YOU DATE SOMEONE WHO</td>\n",
       "      <td>http://twitter.com/search?q=%22WOULD+YOU+DATE+...</td>\n",
       "      <td>None</td>\n",
       "      <td>%22WOULD+YOU+DATE+SOMEONE+WHO%22</td>\n",
       "      <td>NaN</td>\n",
       "    </tr>\n",
       "    <tr>\n",
       "      <th>37</th>\n",
       "      <td>josh farro</td>\n",
       "      <td>http://twitter.com/search?q=%22josh+farro%22</td>\n",
       "      <td>None</td>\n",
       "      <td>%22josh+farro%22</td>\n",
       "      <td>NaN</td>\n",
       "    </tr>\n",
       "    <tr>\n",
       "      <th>38</th>\n",
       "      <td>wondo</td>\n",
       "      <td>http://twitter.com/search?q=wondo</td>\n",
       "      <td>None</td>\n",
       "      <td>wondo</td>\n",
       "      <td>NaN</td>\n",
       "    </tr>\n",
       "    <tr>\n",
       "      <th>39</th>\n",
       "      <td>Ivy Park</td>\n",
       "      <td>http://twitter.com/search?q=%22Ivy+Park%22</td>\n",
       "      <td>None</td>\n",
       "      <td>%22Ivy+Park%22</td>\n",
       "      <td>NaN</td>\n",
       "    </tr>\n",
       "    <tr>\n",
       "      <th>40</th>\n",
       "      <td>Jack Nicholson</td>\n",
       "      <td>http://twitter.com/search?q=%22Jack+Nicholson%22</td>\n",
       "      <td>None</td>\n",
       "      <td>%22Jack+Nicholson%22</td>\n",
       "      <td>NaN</td>\n",
       "    </tr>\n",
       "    <tr>\n",
       "      <th>41</th>\n",
       "      <td>Residente</td>\n",
       "      <td>http://twitter.com/search?q=Residente</td>\n",
       "      <td>None</td>\n",
       "      <td>Residente</td>\n",
       "      <td>NaN</td>\n",
       "    </tr>\n",
       "    <tr>\n",
       "      <th>42</th>\n",
       "      <td>Miles Taylor</td>\n",
       "      <td>http://twitter.com/search?q=%22Miles+Taylor%22</td>\n",
       "      <td>None</td>\n",
       "      <td>%22Miles+Taylor%22</td>\n",
       "      <td>229123.0</td>\n",
       "    </tr>\n",
       "    <tr>\n",
       "      <th>43</th>\n",
       "      <td>Proyecto Dignidad</td>\n",
       "      <td>http://twitter.com/search?q=%22Proyecto+Dignid...</td>\n",
       "      <td>None</td>\n",
       "      <td>%22Proyecto+Dignidad%22</td>\n",
       "      <td>NaN</td>\n",
       "    </tr>\n",
       "    <tr>\n",
       "      <th>44</th>\n",
       "      <td>Ewers</td>\n",
       "      <td>http://twitter.com/search?q=Ewers</td>\n",
       "      <td>None</td>\n",
       "      <td>Ewers</td>\n",
       "      <td>NaN</td>\n",
       "    </tr>\n",
       "    <tr>\n",
       "      <th>45</th>\n",
       "      <td>New Car</td>\n",
       "      <td>http://twitter.com/search?q=%22New+Car%22</td>\n",
       "      <td>None</td>\n",
       "      <td>%22New+Car%22</td>\n",
       "      <td>14909.0</td>\n",
       "    </tr>\n",
       "    <tr>\n",
       "      <th>46</th>\n",
       "      <td>tayler</td>\n",
       "      <td>http://twitter.com/search?q=tayler</td>\n",
       "      <td>None</td>\n",
       "      <td>tayler</td>\n",
       "      <td>13826.0</td>\n",
       "    </tr>\n",
       "    <tr>\n",
       "      <th>47</th>\n",
       "      <td>La Russa</td>\n",
       "      <td>http://twitter.com/search?q=%22La+Russa%22</td>\n",
       "      <td>None</td>\n",
       "      <td>%22La+Russa%22</td>\n",
       "      <td>NaN</td>\n",
       "    </tr>\n",
       "    <tr>\n",
       "      <th>48</th>\n",
       "      <td>Nachos</td>\n",
       "      <td>http://twitter.com/search?q=Nachos</td>\n",
       "      <td>None</td>\n",
       "      <td>Nachos</td>\n",
       "      <td>NaN</td>\n",
       "    </tr>\n",
       "    <tr>\n",
       "      <th>49</th>\n",
       "      <td>King Noah</td>\n",
       "      <td>http://twitter.com/search?q=%22King+Noah%22</td>\n",
       "      <td>None</td>\n",
       "      <td>%22King+Noah%22</td>\n",
       "      <td>NaN</td>\n",
       "    </tr>\n",
       "  </tbody>\n",
       "</table>\n",
       "</div>"
      ],
      "text/plain": [
       "                          name  \\\n",
       "0                        #BB22   \n",
       "1                         Wine   \n",
       "2                       Tucker   \n",
       "3                   #eretdress   \n",
       "4                Jack Nicklaus   \n",
       "5     #hotgirlsagainstabortion   \n",
       "6                     Marriage   \n",
       "7                       Perdue   \n",
       "8                     chanyeol   \n",
       "9                  #BigBrother   \n",
       "10                      Butter   \n",
       "11              Captain Moroni   \n",
       "12                 Girl Scouts   \n",
       "13             #HalloweenHavoc   \n",
       "14                       Beach   \n",
       "15                        Tyga   \n",
       "16                  Jon Ossoff   \n",
       "17                    Mike Lee   \n",
       "18                    da'vonne   \n",
       "19                     Dimitri   \n",
       "20                       Crabs   \n",
       "21                      Anibal   \n",
       "22                      Hunter   \n",
       "23                    Chipotle   \n",
       "24                       DeJoy   \n",
       "25                       Vodka   \n",
       "26                       FedEx   \n",
       "27                       Pizza   \n",
       "28                   chaeyoung   \n",
       "29                 Golden Bear   \n",
       "30              Covey Spreader   \n",
       "31                   NO STANCE   \n",
       "32                     Calgary   \n",
       "33                        JitB   \n",
       "34                      Elmyra   \n",
       "35                      Manchu   \n",
       "36  WOULD YOU DATE SOMEONE WHO   \n",
       "37                  josh farro   \n",
       "38                       wondo   \n",
       "39                    Ivy Park   \n",
       "40              Jack Nicholson   \n",
       "41                   Residente   \n",
       "42                Miles Taylor   \n",
       "43           Proyecto Dignidad   \n",
       "44                       Ewers   \n",
       "45                     New Car   \n",
       "46                      tayler   \n",
       "47                    La Russa   \n",
       "48                      Nachos   \n",
       "49                   King Noah   \n",
       "\n",
       "                                                  url promoted_content  \\\n",
       "0                 http://twitter.com/search?q=%23BB22             None   \n",
       "1                    http://twitter.com/search?q=Wine             None   \n",
       "2                  http://twitter.com/search?q=Tucker             None   \n",
       "3            http://twitter.com/search?q=%23eretdress             None   \n",
       "4     http://twitter.com/search?q=%22Jack+Nicklaus%22             None   \n",
       "5   http://twitter.com/search?q=%23hotgirlsagainst...             None   \n",
       "6                http://twitter.com/search?q=Marriage             None   \n",
       "7                  http://twitter.com/search?q=Perdue             None   \n",
       "8                http://twitter.com/search?q=chanyeol             None   \n",
       "9           http://twitter.com/search?q=%23BigBrother             None   \n",
       "10                 http://twitter.com/search?q=Butter             None   \n",
       "11   http://twitter.com/search?q=%22Captain+Moroni%22             None   \n",
       "12      http://twitter.com/search?q=%22Girl+Scouts%22             None   \n",
       "13      http://twitter.com/search?q=%23HalloweenHavoc             None   \n",
       "14                  http://twitter.com/search?q=Beach             None   \n",
       "15                   http://twitter.com/search?q=Tyga             None   \n",
       "16       http://twitter.com/search?q=%22Jon+Ossoff%22             None   \n",
       "17         http://twitter.com/search?q=%22Mike+Lee%22             None   \n",
       "18             http://twitter.com/search?q=da%27vonne             None   \n",
       "19                http://twitter.com/search?q=Dimitri             None   \n",
       "20                  http://twitter.com/search?q=Crabs             None   \n",
       "21                 http://twitter.com/search?q=Anibal             None   \n",
       "22                 http://twitter.com/search?q=Hunter             None   \n",
       "23               http://twitter.com/search?q=Chipotle             None   \n",
       "24                  http://twitter.com/search?q=DeJoy             None   \n",
       "25                  http://twitter.com/search?q=Vodka             None   \n",
       "26                  http://twitter.com/search?q=FedEx             None   \n",
       "27                  http://twitter.com/search?q=Pizza             None   \n",
       "28              http://twitter.com/search?q=chaeyoung             None   \n",
       "29      http://twitter.com/search?q=%22Golden+Bear%22             None   \n",
       "30   http://twitter.com/search?q=%22Covey+Spreader%22             None   \n",
       "31        http://twitter.com/search?q=%22NO+STANCE%22             None   \n",
       "32                http://twitter.com/search?q=Calgary             None   \n",
       "33                   http://twitter.com/search?q=JitB             None   \n",
       "34                 http://twitter.com/search?q=Elmyra             None   \n",
       "35                 http://twitter.com/search?q=Manchu             None   \n",
       "36  http://twitter.com/search?q=%22WOULD+YOU+DATE+...             None   \n",
       "37       http://twitter.com/search?q=%22josh+farro%22             None   \n",
       "38                  http://twitter.com/search?q=wondo             None   \n",
       "39         http://twitter.com/search?q=%22Ivy+Park%22             None   \n",
       "40   http://twitter.com/search?q=%22Jack+Nicholson%22             None   \n",
       "41              http://twitter.com/search?q=Residente             None   \n",
       "42     http://twitter.com/search?q=%22Miles+Taylor%22             None   \n",
       "43  http://twitter.com/search?q=%22Proyecto+Dignid...             None   \n",
       "44                  http://twitter.com/search?q=Ewers             None   \n",
       "45          http://twitter.com/search?q=%22New+Car%22             None   \n",
       "46                 http://twitter.com/search?q=tayler             None   \n",
       "47         http://twitter.com/search?q=%22La+Russa%22             None   \n",
       "48                 http://twitter.com/search?q=Nachos             None   \n",
       "49        http://twitter.com/search?q=%22King+Noah%22             None   \n",
       "\n",
       "                               query  tweet_volume  \n",
       "0                            %23BB22      102749.0  \n",
       "1                               Wine       92048.0  \n",
       "2                             Tucker      498191.0  \n",
       "3                       %23eretdress       38445.0  \n",
       "4                %22Jack+Nicklaus%22       10562.0  \n",
       "5         %23hotgirlsagainstabortion           NaN  \n",
       "6                           Marriage      119917.0  \n",
       "7                             Perdue       35662.0  \n",
       "8                           chanyeol      901902.0  \n",
       "9                      %23BigBrother           NaN  \n",
       "10                            Butter       54227.0  \n",
       "11              %22Captain+Moroni%22           NaN  \n",
       "12                 %22Girl+Scouts%22       34220.0  \n",
       "13                 %23HalloweenHavoc       38997.0  \n",
       "14                             Beach       80766.0  \n",
       "15                              Tyga           NaN  \n",
       "16                  %22Jon+Ossoff%22           NaN  \n",
       "17                    %22Mike+Lee%22           NaN  \n",
       "18                        da%27vonne       18847.0  \n",
       "19                           Dimitri           NaN  \n",
       "20                             Crabs           NaN  \n",
       "21                            Anibal           NaN  \n",
       "22                            Hunter      956919.0  \n",
       "23                          Chipotle           NaN  \n",
       "24                             DeJoy       32464.0  \n",
       "25                             Vodka       34755.0  \n",
       "26                             FedEx       18232.0  \n",
       "27                             Pizza      150589.0  \n",
       "28                         chaeyoung       63523.0  \n",
       "29                 %22Golden+Bear%22           NaN  \n",
       "30              %22Covey+Spreader%22           NaN  \n",
       "31                   %22NO+STANCE%22           NaN  \n",
       "32                           Calgary       11854.0  \n",
       "33                              JitB           NaN  \n",
       "34                            Elmyra           NaN  \n",
       "35                            Manchu           NaN  \n",
       "36  %22WOULD+YOU+DATE+SOMEONE+WHO%22           NaN  \n",
       "37                  %22josh+farro%22           NaN  \n",
       "38                             wondo           NaN  \n",
       "39                    %22Ivy+Park%22           NaN  \n",
       "40              %22Jack+Nicholson%22           NaN  \n",
       "41                         Residente           NaN  \n",
       "42                %22Miles+Taylor%22      229123.0  \n",
       "43           %22Proyecto+Dignidad%22           NaN  \n",
       "44                             Ewers           NaN  \n",
       "45                     %22New+Car%22       14909.0  \n",
       "46                            tayler       13826.0  \n",
       "47                    %22La+Russa%22           NaN  \n",
       "48                            Nachos           NaN  \n",
       "49                   %22King+Noah%22           NaN  "
      ]
     },
     "execution_count": 15,
     "metadata": {},
     "output_type": "execute_result"
    }
   ],
   "source": [
    "json_normalize(us_trends[0], 'trends')"
   ]
  },
  {
   "cell_type": "markdown",
   "metadata": {},
   "source": [
    "For now, let us say that we are only interested in the trending topics. We can gather them simply through the method shown below: "
   ]
  },
  {
   "cell_type": "code",
   "execution_count": 16,
   "metadata": {},
   "outputs": [
    {
     "name": "stdout",
     "output_type": "stream",
     "text": [
      "#ProvaDoFazendeiro\n",
      "伊藤健太郎\n",
      "#FicaLipe\n",
      "Hugo\n",
      "#SM_PROTECT_CHANYEOL\n",
      "#BB22\n",
      "#Showtime11thPower\n",
      "Wine\n",
      "Renê\n",
      "Neneca\n",
      "Corinthians\n",
      "Tucker\n",
      "Tays\n",
      "とんかつDJ\n",
      "鬼滅貧乏\n",
      "Jack Nicklaus\n",
      "TwitterrGet Açıldı\n",
      "ディジェSE-R\n",
      "chaeyoung\n",
      "プロデュース方針\n",
      "場数pt\n",
      "Vicky\n",
      "Vitinho\n",
      "ディミトリ\n",
      "伊藤くん\n",
      "カテゴリー\n",
      "Tiago Reis\n",
      "WONDER ACOUSTIC\n",
      "Marriage\n",
      "ノクティス\n",
      "ひき逃げの疑い\n",
      "Perdue\n",
      "Leo Pereira\n",
      "Tirei 99%\n",
      "Lauren\n",
      "Gazi Mustafa Kemal Atatürk\n",
      "国内の感染者10万人\n",
      "Uターン\n",
      "BELIEVER OF CRAVITY\n",
      "リボ払い\n",
      "ペコちゃん棋戦\n",
      "Sidcley\n",
      "公開中止\n",
      "#CL_HWAx5STAR\n",
      "#29EkimCumhiyetBayramımız\n",
      "#ネコからの贈り物\n",
      "#NationWithFearlessArnab\n",
      "#DrDrinkxGulf\n",
      "#yağmur\n",
      "#eretdress\n"
     ]
    }
   ],
   "source": [
    "for trend in world_trends[0]['trends']:\n",
    "    print(trend['name'])"
   ]
  },
  {
   "cell_type": "markdown",
   "metadata": {},
   "source": [
    "Here, we are simply iterating through the dict in list of world_trends, and printing the name of the trending topic. We can see that we were able to get only 20 trending topics through this query as Twitter only shows 20 trending topics at a time (Top 20 trending topics). \n",
    "\n",
    "The trending topics for USA are shown below:"
   ]
  },
  {
   "cell_type": "code",
   "execution_count": 17,
   "metadata": {},
   "outputs": [
    {
     "name": "stdout",
     "output_type": "stream",
     "text": [
      "#BB22\n",
      "Wine\n",
      "Tucker\n",
      "#eretdress\n",
      "Jack Nicklaus\n",
      "#hotgirlsagainstabortion\n",
      "Marriage\n",
      "Perdue\n",
      "chanyeol\n",
      "#BigBrother\n",
      "Butter\n",
      "Captain Moroni\n",
      "Girl Scouts\n",
      "#HalloweenHavoc\n",
      "Beach\n",
      "Tyga\n",
      "Jon Ossoff\n",
      "Mike Lee\n",
      "da'vonne\n",
      "Dimitri\n",
      "Crabs\n",
      "Anibal\n",
      "Hunter\n",
      "Chipotle\n",
      "DeJoy\n",
      "Vodka\n",
      "FedEx\n",
      "Pizza\n",
      "chaeyoung\n",
      "Golden Bear\n",
      "Covey Spreader\n",
      "NO STANCE\n",
      "Calgary\n",
      "JitB\n",
      "Elmyra\n",
      "Manchu\n",
      "WOULD YOU DATE SOMEONE WHO\n",
      "josh farro\n",
      "wondo\n",
      "Ivy Park\n",
      "Jack Nicholson\n",
      "Residente\n",
      "Miles Taylor\n",
      "Proyecto Dignidad\n",
      "Ewers\n",
      "New Car\n",
      "tayler\n",
      "La Russa\n",
      "Nachos\n",
      "King Noah\n"
     ]
    }
   ],
   "source": [
    "for trend in us_trends[0]['trends']:\n",
    "    print(trend['name'])"
   ]
  },
  {
   "cell_type": "markdown",
   "metadata": {},
   "source": [
    "## Querying Tweets\n",
    "\n",
    "We have found the trending topics in Twitter for some specific time. However, the end goal is to gather the tweets and related data. By using the trending topics as queries we can gather the tweets that include the trending topics. Let's try to get tweets that contain the hashtag: #PremierLeague using **search.tweets(q=' ', count= )**. This function takes in the query term at the argument \"q\", and takes in the number of tweets to gather in the argument \"count\". "
   ]
  },
  {
   "cell_type": "code",
   "execution_count": 18,
   "metadata": {},
   "outputs": [],
   "source": [
    "searched = twitter_api.search.tweets(q='#PremierLeague', count=100)"
   ]
  },
  {
   "cell_type": "code",
   "execution_count": 134,
   "metadata": {},
   "outputs": [],
   "source": [
    "#print(searched)"
   ]
  },
  {
   "cell_type": "markdown",
   "metadata": {},
   "source": [
    "The result for the query returns a dictionary containing 2 keys:"
   ]
  },
  {
   "cell_type": "code",
   "execution_count": 20,
   "metadata": {},
   "outputs": [
    {
     "data": {
      "text/plain": [
       "dict_keys(['statuses', 'search_metadata'])"
      ]
     },
     "execution_count": 20,
     "metadata": {},
     "output_type": "execute_result"
    }
   ],
   "source": [
    "searched.keys()"
   ]
  },
  {
   "cell_type": "code",
   "execution_count": 21,
   "metadata": {},
   "outputs": [
    {
     "name": "stdout",
     "output_type": "stream",
     "text": [
      "96 9\n"
     ]
    }
   ],
   "source": [
    "print(len(searched['statuses']), len(searched['search_metadata']))"
   ]
  },
  {
   "cell_type": "code",
   "execution_count": 22,
   "metadata": {},
   "outputs": [
    {
     "data": {
      "text/plain": [
       "{'created_at': 'Thu Oct 29 06:29:26 +0000 2020',\n",
       " 'id': 1321700652943249410,\n",
       " 'id_str': '1321700652943249410',\n",
       " 'text': 'RT @ITGDsports: Manchester United are hoping to have fans back into the stadium and have said that they can safely host 23,500 fans at Old…',\n",
       " 'truncated': False,\n",
       " 'entities': {'hashtags': [],\n",
       "  'symbols': [],\n",
       "  'user_mentions': [{'screen_name': 'ITGDsports',\n",
       "    'name': 'India Today Sports',\n",
       "    'id': 912632293746917376,\n",
       "    'id_str': '912632293746917376',\n",
       "    'indices': [3, 14]}],\n",
       "  'urls': []},\n",
       " 'metadata': {'iso_language_code': 'en', 'result_type': 'recent'},\n",
       " 'source': '<a href=\"https://mobile.twitter.com\" rel=\"nofollow\">Twitter Web App</a>',\n",
       " 'in_reply_to_status_id': None,\n",
       " 'in_reply_to_status_id_str': None,\n",
       " 'in_reply_to_user_id': None,\n",
       " 'in_reply_to_user_id_str': None,\n",
       " 'in_reply_to_screen_name': None,\n",
       " 'user': {'id': 19897138,\n",
       "  'id_str': '19897138',\n",
       "  'name': 'IndiaToday',\n",
       "  'screen_name': 'IndiaToday',\n",
       "  'location': 'India',\n",
       "  'description': 'Brings you news breaks: Exclusive political, entertainment, sports insight, unbiased-nonaligned. We are also on Instagram : https://t.co/qf1v42FMpb',\n",
       "  'url': None,\n",
       "  'entities': {'description': {'urls': [{'url': 'https://t.co/qf1v42FMpb',\n",
       "      'expanded_url': 'https://www.instagram.com/indiatoday',\n",
       "      'display_url': 'instagram.com/indiatoday',\n",
       "      'indices': [124, 147]}]}},\n",
       "  'protected': False,\n",
       "  'followers_count': 5398203,\n",
       "  'friends_count': 244,\n",
       "  'listed_count': 5534,\n",
       "  'created_at': 'Mon Feb 02 07:21:54 +0000 2009',\n",
       "  'favourites_count': 4432,\n",
       "  'utc_offset': None,\n",
       "  'time_zone': None,\n",
       "  'geo_enabled': True,\n",
       "  'verified': True,\n",
       "  'statuses_count': 791849,\n",
       "  'lang': None,\n",
       "  'contributors_enabled': False,\n",
       "  'is_translator': False,\n",
       "  'is_translation_enabled': False,\n",
       "  'profile_background_color': 'C0DEED',\n",
       "  'profile_background_image_url': 'http://abs.twimg.com/images/themes/theme1/bg.png',\n",
       "  'profile_background_image_url_https': 'https://abs.twimg.com/images/themes/theme1/bg.png',\n",
       "  'profile_background_tile': False,\n",
       "  'profile_image_url': 'http://pbs.twimg.com/profile_images/1303193863775895552/sEOiKTvO_normal.jpg',\n",
       "  'profile_image_url_https': 'https://pbs.twimg.com/profile_images/1303193863775895552/sEOiKTvO_normal.jpg',\n",
       "  'profile_banner_url': 'https://pbs.twimg.com/profile_banners/19897138/1603784641',\n",
       "  'profile_link_color': '1DA1F2',\n",
       "  'profile_sidebar_border_color': 'C0DEED',\n",
       "  'profile_sidebar_fill_color': 'DDEEF6',\n",
       "  'profile_text_color': '333333',\n",
       "  'profile_use_background_image': True,\n",
       "  'has_extended_profile': True,\n",
       "  'default_profile': True,\n",
       "  'default_profile_image': False,\n",
       "  'following': False,\n",
       "  'follow_request_sent': False,\n",
       "  'notifications': False,\n",
       "  'translator_type': 'none'},\n",
       " 'geo': None,\n",
       " 'coordinates': None,\n",
       " 'place': None,\n",
       " 'contributors': None,\n",
       " 'retweeted_status': {'created_at': 'Thu Oct 29 06:26:56 +0000 2020',\n",
       "  'id': 1321700023248195585,\n",
       "  'id_str': '1321700023248195585',\n",
       "  'text': 'Manchester United are hoping to have fans back into the stadium and have said that they can safely host 23,500 fans… https://t.co/T6Byx4ZZLF',\n",
       "  'truncated': True,\n",
       "  'entities': {'hashtags': [],\n",
       "   'symbols': [],\n",
       "   'user_mentions': [],\n",
       "   'urls': [{'url': 'https://t.co/T6Byx4ZZLF',\n",
       "     'expanded_url': 'https://twitter.com/i/web/status/1321700023248195585',\n",
       "     'display_url': 'twitter.com/i/web/status/1…',\n",
       "     'indices': [117, 140]}]},\n",
       "  'metadata': {'iso_language_code': 'en', 'result_type': 'recent'},\n",
       "  'source': '<a href=\"https://mobile.twitter.com\" rel=\"nofollow\">Twitter Web App</a>',\n",
       "  'in_reply_to_status_id': None,\n",
       "  'in_reply_to_status_id_str': None,\n",
       "  'in_reply_to_user_id': None,\n",
       "  'in_reply_to_user_id_str': None,\n",
       "  'in_reply_to_screen_name': None,\n",
       "  'user': {'id': 912632293746917376,\n",
       "   'id_str': '912632293746917376',\n",
       "   'name': 'India Today Sports',\n",
       "   'screen_name': 'ITGDsports',\n",
       "   'location': 'Noida, India',\n",
       "   'description': 'Live cricket scores, news, analysis and fun facts on all your favourite sports.',\n",
       "   'url': 'https://t.co/AKLYuzoQ6U',\n",
       "   'entities': {'url': {'urls': [{'url': 'https://t.co/AKLYuzoQ6U',\n",
       "       'expanded_url': 'http://indiatoday.intoday.in/section/84/1/sports.html',\n",
       "       'display_url': 'indiatoday.intoday.in/section/84/1/s…',\n",
       "       'indices': [0, 23]}]},\n",
       "    'description': {'urls': []}},\n",
       "   'protected': False,\n",
       "   'followers_count': 6883,\n",
       "   'friends_count': 16,\n",
       "   'listed_count': 47,\n",
       "   'created_at': 'Tue Sep 26 10:57:49 +0000 2017',\n",
       "   'favourites_count': 11,\n",
       "   'utc_offset': None,\n",
       "   'time_zone': None,\n",
       "   'geo_enabled': False,\n",
       "   'verified': False,\n",
       "   'statuses_count': 47799,\n",
       "   'lang': None,\n",
       "   'contributors_enabled': False,\n",
       "   'is_translator': False,\n",
       "   'is_translation_enabled': False,\n",
       "   'profile_background_color': '000000',\n",
       "   'profile_background_image_url': 'http://abs.twimg.com/images/themes/theme1/bg.png',\n",
       "   'profile_background_image_url_https': 'https://abs.twimg.com/images/themes/theme1/bg.png',\n",
       "   'profile_background_tile': False,\n",
       "   'profile_image_url': 'http://pbs.twimg.com/profile_images/912637572689551361/VmGrtT8g_normal.jpg',\n",
       "   'profile_image_url_https': 'https://pbs.twimg.com/profile_images/912637572689551361/VmGrtT8g_normal.jpg',\n",
       "   'profile_banner_url': 'https://pbs.twimg.com/profile_banners/912632293746917376/1585242542',\n",
       "   'profile_link_color': 'E81C4F',\n",
       "   'profile_sidebar_border_color': '000000',\n",
       "   'profile_sidebar_fill_color': '000000',\n",
       "   'profile_text_color': '000000',\n",
       "   'profile_use_background_image': False,\n",
       "   'has_extended_profile': False,\n",
       "   'default_profile': False,\n",
       "   'default_profile_image': False,\n",
       "   'following': False,\n",
       "   'follow_request_sent': False,\n",
       "   'notifications': False,\n",
       "   'translator_type': 'none'},\n",
       "  'geo': None,\n",
       "  'coordinates': None,\n",
       "  'place': None,\n",
       "  'contributors': None,\n",
       "  'is_quote_status': False,\n",
       "  'retweet_count': 1,\n",
       "  'favorite_count': 0,\n",
       "  'favorited': False,\n",
       "  'retweeted': False,\n",
       "  'possibly_sensitive': False,\n",
       "  'lang': 'en'},\n",
       " 'is_quote_status': False,\n",
       " 'retweet_count': 1,\n",
       " 'favorite_count': 0,\n",
       " 'favorited': False,\n",
       " 'retweeted': False,\n",
       " 'lang': 'en'}"
      ]
     },
     "execution_count": 22,
     "metadata": {},
     "output_type": "execute_result"
    }
   ],
   "source": [
    "statuses_0th = searched['statuses'][0]\n",
    "statuses_0th"
   ]
  },
  {
   "cell_type": "code",
   "execution_count": 23,
   "metadata": {},
   "outputs": [
    {
     "data": {
      "text/plain": [
       "dict_keys(['created_at', 'id', 'id_str', 'text', 'truncated', 'entities', 'metadata', 'source', 'in_reply_to_status_id', 'in_reply_to_status_id_str', 'in_reply_to_user_id', 'in_reply_to_user_id_str', 'in_reply_to_screen_name', 'user', 'geo', 'coordinates', 'place', 'contributors', 'retweeted_status', 'is_quote_status', 'retweet_count', 'favorite_count', 'favorited', 'retweeted', 'lang'])"
      ]
     },
     "execution_count": 23,
     "metadata": {},
     "output_type": "execute_result"
    }
   ],
   "source": [
    "statuses_0th.keys()"
   ]
  },
  {
   "cell_type": "code",
   "execution_count": 24,
   "metadata": {},
   "outputs": [
    {
     "name": "stdout",
     "output_type": "stream",
     "text": [
      "RT @ITGDsports: Manchester United are hoping to have fans back into the stadium and have said that they can safely host 23,500 fans at Old…\n",
      "0\n",
      "1\n"
     ]
    }
   ],
   "source": [
    "print(statuses_0th['text'])\n",
    "print(statuses_0th['favorite_count'])\n",
    "print(statuses_0th['retweet_count'])"
   ]
  },
  {
   "cell_type": "code",
   "execution_count": 25,
   "metadata": {},
   "outputs": [
    {
     "data": {
      "text/plain": [
       "{'hashtags': [],\n",
       " 'symbols': [],\n",
       " 'user_mentions': [{'screen_name': 'ITGDsports',\n",
       "   'name': 'India Today Sports',\n",
       "   'id': 912632293746917376,\n",
       "   'id_str': '912632293746917376',\n",
       "   'indices': [3, 14]}],\n",
       " 'urls': []}"
      ]
     },
     "execution_count": 25,
     "metadata": {},
     "output_type": "execute_result"
    }
   ],
   "source": [
    "statuses_0th['entities']  # 여기서 hashtags와 name을 볼 수 있다."
   ]
  },
  {
   "cell_type": "markdown",
   "metadata": {},
   "source": [
    "Now, let's try to extract 10 tweets among the tweets that we have gathered. Along with the actual tweets, let's try to also extract the **number of favourites**, and the **number of retweets**. \n",
    "\n",
    "We will first store all statuses in the \"statuses\" variable for easier iteration."
   ]
  },
  {
   "cell_type": "code",
   "execution_count": 26,
   "metadata": {},
   "outputs": [],
   "source": [
    "statuses = searched['statuses']"
   ]
  },
  {
   "cell_type": "code",
   "execution_count": 27,
   "metadata": {},
   "outputs": [
    {
     "data": {
      "text/plain": [
       "96"
      ]
     },
     "execution_count": 27,
     "metadata": {},
     "output_type": "execute_result"
    }
   ],
   "source": [
    "len(statuses)"
   ]
  },
  {
   "cell_type": "markdown",
   "metadata": {},
   "source": [
    "Then, now, we will iterate through first 10 of these tweets gathered, and print the tweet, the number of favourites, and the number of retweets. "
   ]
  },
  {
   "cell_type": "code",
   "execution_count": 28,
   "metadata": {},
   "outputs": [
    {
     "name": "stdout",
     "output_type": "stream",
     "text": [
      "\n",
      "RT @ITGDsports: Manchester United are hoping to have fans back into the stadium and have said that they can safely host 23,500 fans at Old…\n",
      "Favourites:  0\n",
      "Retweets:  1\n",
      "\n",
      "RT @mark_robinson_: So Maguire’s ‘foul’ on Azpilicueta get multiple replays yet this foul on Maguire in the Chelsea area never got a mentio…\n",
      "Favourites:  0\n",
      "Retweets:  1903\n",
      "\n",
      "Manchester United are hoping to have fans back into the stadium and have said that they can safely host 23,500 fans… https://t.co/T6Byx4ZZLF\n",
      "Favourites:  0\n",
      "Retweets:  1\n",
      "\n",
      "\"หงส์\"เปิด 3 แข้งดาวรุ่งแทน\"ฟาบินโญ่\" | 29 ต.ค. 63  | TNN Sports #TNNOnline #TNNช่อง16 #TNNSport #พรีเมียร์ลีก… https://t.co/G3CzT22N3n\n",
      "Favourites:  1\n",
      "Retweets:  0\n",
      "\n",
      "RT @soccerfanatichq: Transfer news and rumours LIVE: Man Utd could land Upamecano in cut-price deal https://t.co/PEmPzcvS8g #trending #prem…\n",
      "Favourites:  0\n",
      "Retweets:  13\n",
      "\n",
      "#29Oct Manchester United renueva el Old Trafford para poder albergar a sus aficionados https://t.co/g5HbzYi3Kz… https://t.co/7HnNgi7aAB\n",
      "Favourites:  0\n",
      "Retweets:  0\n",
      "\n",
      "RT @soccerfanatichq: First Man United, then Arsenal: Zaha's form could attract interest from the big clubs again https://t.co/PEmPzcvS8g #t…\n",
      "Favourites:  0\n",
      "Retweets:  13\n",
      "\n",
      "RT @soccerfanatichq: Van de Beek can be Man Utd's answer to Thomas Muller, says Hargreaves https://t.co/PEmPzcvS8g #trending #soccer #premi…\n",
      "Favourites:  0\n",
      "Retweets:  12\n",
      "\n",
      "RT @soccerfanatichq: Transfer news and rumours LIVE: Man Utd could land Upamecano in cut-price deal https://t.co/PEmPzcvS8g #trending #prem…\n",
      "Favourites:  0\n",
      "Retweets:  13\n",
      "\n",
      "RT @soccerfanatichq: Klopp: Liverpool injury crisis 'like a marriage' https://t.co/PEmPzcvS8g #trending #soccer #liverpool #premierleague h…\n",
      "Favourites:  0\n",
      "Retweets:  11\n"
     ]
    }
   ],
   "source": [
    "for i in range(10):\n",
    "    print()\n",
    "    print(statuses[i]['text'])\n",
    "    print('Favourites: ', statuses[i]['favorite_count'])\n",
    "    print('Retweets: ', statuses[i]['retweet_count'])"
   ]
  },
  {
   "cell_type": "markdown",
   "metadata": {},
   "source": [
    "We can see from the above code that we can separate and extract the tweets and their corresponding metadata. So if necessary, we can store each of them as a separate variable and make them into features for later use. \n",
    "\n",
    "From the texts we have gathered, let's now try to extract the tweet, the user name of the one who tweeted, and the hashtags involved in the tweet."
   ]
  },
  {
   "cell_type": "code",
   "execution_count": 29,
   "metadata": {},
   "outputs": [],
   "source": [
    "status_texts = [status['text'] for status in statuses]\n",
    "screen_names = [user_mention['screen_name'] for status in statuses for user_mention in status['entities']['user_mentions']]\n",
    "hashtags = [hashtag['text'] for status in statuses for hashtag in status['entities']['hashtags']]"
   ]
  },
  {
   "cell_type": "code",
   "execution_count": 30,
   "metadata": {},
   "outputs": [
    {
     "name": "stdout",
     "output_type": "stream",
     "text": [
      "['RT @ITGDsports: Manchester United are hoping to have fans back into the stadium and have said that they can safely host 23,500 fans at Old…', 'RT @mark_robinson_: So Maguire’s ‘foul’ on Azpilicueta get multiple replays yet this foul on Maguire in the Chelsea area never got a mentio…', 'Manchester United are hoping to have fans back into the stadium and have said that they can safely host 23,500 fans… https://t.co/T6Byx4ZZLF', '\"หงส์\"เปิด 3 แข้งดาวรุ่งแทน\"ฟาบินโญ่\" | 29 ต.ค. 63  | TNN Sports #TNNOnline #TNNช่อง16 #TNNSport #พรีเมียร์ลีก… https://t.co/G3CzT22N3n', 'RT @soccerfanatichq: Transfer news and rumours LIVE: Man Utd could land Upamecano in cut-price deal https://t.co/PEmPzcvS8g #trending #prem…', '#29Oct Manchester United renueva el Old Trafford para poder albergar a sus aficionados https://t.co/g5HbzYi3Kz… https://t.co/7HnNgi7aAB', \"RT @soccerfanatichq: First Man United, then Arsenal: Zaha's form could attract interest from the big clubs again https://t.co/PEmPzcvS8g #t…\", \"RT @soccerfanatichq: Van de Beek can be Man Utd's answer to Thomas Muller, says Hargreaves https://t.co/PEmPzcvS8g #trending #soccer #premi…\", 'RT @soccerfanatichq: Transfer news and rumours LIVE: Man Utd could land Upamecano in cut-price deal https://t.co/PEmPzcvS8g #trending #prem…', \"RT @soccerfanatichq: Klopp: Liverpool injury crisis 'like a marriage' https://t.co/PEmPzcvS8g #trending #soccer #liverpool #premierleague h…\", \"RT @soccerfanatichq: First Man United, then Arsenal: Zaha's form could attract interest from the big clubs again https://t.co/PEmPzcvS8g #t…\", 'RT @soccerfanatichq: Kane and Son star in Tottenham win, Southampton boss tipped to replace Solskjaer at Manchester United, Deeney praises…', 'RT @soccerfanatichq: Transfer news and rumours LIVE: Man Utd could land Upamecano in cut-price deal https://t.co/PEmPzcvS8g #trending #prem…', \"RT @soccerfanatichq: Klopp: Liverpool injury crisis 'like a marriage' https://t.co/PEmPzcvS8g #trending #soccer #liverpool #premierleague h…\", \"RT @soccerfanatichq: Van de Beek can be Man Utd's answer to Thomas Muller, says Hargreaves https://t.co/PEmPzcvS8g #trending #soccer #premi…\", 'แมนฯ ยูไนเต็ด ปรับสนามรับแฟนบอล | 29 ต.ค. 63  | TNN Sports #TNNOnline #TNNช่อง16 #TNNSport #พรีเมียร์ลีก… https://t.co/gYrsiwrQzT', 'RT @soccerfanatichq: Transfer news and rumours LIVE: Man Utd could land Upamecano in cut-price deal https://t.co/PEmPzcvS8g #trending #prem…', \"RT @soccerfanatichq: Van de Beek can be Man Utd's answer to Thomas Muller, says Hargreaves https://t.co/PEmPzcvS8g #trending #soccer #premi…\", 'RT @soccerfanatichq: Kane and Son star in Tottenham win, Southampton boss tipped to replace Solskjaer at Manchester United, Deeney praises…', \"RT @soccerfanatichq: Klopp: Liverpool injury crisis 'like a marriage' https://t.co/PEmPzcvS8g #trending #soccer #liverpool #premierleague h…\", 'RT @soccerfanatichq: Kane and Son star in Tottenham win, Southampton boss tipped to replace Solskjaer at Manchester United, Deeney praises…', 'RT @soccerfanatichq: Arteta: Leicester were defensive out of respect https://t.co/PEmPzcvS8g #trending #arsenal #leicester #premierleague h…', \"RT @soccerfanatichq: First Man United, then Arsenal: Zaha's form could attract interest from the big clubs again https://t.co/PEmPzcvS8g #t…\", \"RT @soccerfanatichq: First Man United, then Arsenal: Zaha's form could attract interest from the big clubs again https://t.co/PEmPzcvS8g #t…\", \"Hiding behind a relegation favorite is the mighty Arsenal. Behind Burnley is the Jorge Mendes project. City's placi… https://t.co/QPYveWiZQY\", \"RT @soccerfanatichq: First Man United, then Arsenal: Zaha's form could attract interest from the big clubs again https://t.co/PEmPzcvS8g #t…\", \"RT @soccerfanatichq: Van de Beek can be Man Utd's answer to Thomas Muller, says Hargreaves https://t.co/PEmPzcvS8g #trending #soccer #premi…\", 'RT @soccerfanatichq: Arteta: Leicester were defensive out of respect https://t.co/PEmPzcvS8g #trending #arsenal #leicester #premierleague h…', 'Sturridge back to Man City? 🤔 #MCFC #PremierLeague', 'RT @soccerfanatichq: Kane and Son star in Tottenham win, Southampton boss tipped to replace Solskjaer at Manchester United, Deeney praises…', 'Origi linked with January move &amp; Klopp reaction to Fabinho injury – Liverpool FC Roundup https://t.co/MXtzDb9k2K… https://t.co/TksizmSDjd', 'We look back at Matchday 7 in the @premierleague , discuss who needs big Sam the most and almost get lost on a tang… https://t.co/nBzjK6MIan', 'RT @MeridianoTV: #PremierLeague El United renueva Old Trafford para que puedan asistir 23.500 aficionados ⚽ https://t.co/7PXfjK6qLO', 'Stellenbosch FC hold Pirates to stalemate in Soweto\\n\\nhttps://t.co/haMpuddKF9 #officialpsl #psl #premierleague #southafrica #soccer #football', 'Ladbrokes The Home of British Betting \\nSports Betting, Football Betting, Horse Racing, Online Casino &amp; more\\n\\n▫️New… https://t.co/HO8Jz8Klvs', '🇬🇧⚽⚫🔴\\nΠριν καλά-καλά προλάβει να μάθει τους νέους του συμπαίκτες ... \\nhttps://t.co/KLtbrMol1O\\n#PremierLeague… https://t.co/N8069s1hr4', 'Pięknie to wygląda w Lidze Mistrzów! Cztery drużyny z Anglii i cztery na pierwszych miejscach w swoich grupach 😍… https://t.co/ocAFQAxLLx', 'RT @soccerfanatichq: Kane and Son star in Tottenham win, Southampton boss tipped to replace Solskjaer at Manchester United, Deeney praises…', 'RT @MeridianoTV: #PremierLeague El United renueva Old Trafford para que puedan asistir 23.500 aficionados ⚽ https://t.co/7PXfjK6qLO', \"RT @soccerfanatichq: First Man United, then Arsenal: Zaha's form could attract interest from the big clubs again https://t.co/PEmPzcvS8g #t…\", 'RT @soccerfanatichq: Kane and Son star in Tottenham win, Southampton boss tipped to replace Solskjaer at Manchester United, Deeney praises…', 'The Meanie still using the same dirty fraud with @LFC \\n#LiverpoolFC \\n#LFC \\n#PremierLeague \\n#LiverpoolFCIsCorruption… https://t.co/RThtJtONmn', 'RT @NUFCgallowgate: And then it comes out that the #PremierLeague secretly talked to six clubs about ‘greater voting power, with a majority…', 'RT @Stulloyd79: Great shot of the #RapidsNetwork advertising board at #BurnleyFC this week. \\n\\nWonder if @GarethBale11 was thinking about do…', 'RT @soccerfanatichq: Transfer news and rumours LIVE: Man Utd could land Upamecano in cut-price deal https://t.co/PEmPzcvS8g #trending #prem…', \"RT @soccerfanatichq: Klopp: Liverpool injury crisis 'like a marriage' https://t.co/PEmPzcvS8g #trending #soccer #liverpool #premierleague h…\", 'Reminder : The deadline for Gameweek 7 is on Friday . Please make your transfers early and set your teams.\\n\\n#fpl… https://t.co/1JjWrJBrNY', 'RT @NUFCgallowgate: And then it comes out that the #PremierLeague secretly talked to six clubs about ‘greater voting power, with a majority…', 'RT @soccerfanatichq: Kane and Son star in Tottenham win, Southampton boss tipped to replace Solskjaer at Manchester United, Deeney praises…', '📌 FPL Players in Champions League:\\n\\nMarcus Rashford 🆚 RB Leipzig:\\n\\nMinutes Played: 2️⃣7️⃣\\nGoals: 3️⃣\\nTotal Shots:… https://t.co/Cs7ZZxq2HT', 'RT @soccerfanatichq: Kane and Son star in Tottenham win, Southampton boss tipped to replace Solskjaer at Manchester United, Deeney praises…', \"RT @soccerfanatichq: First Man United, then Arsenal: Zaha's form could attract interest from the big clubs again https://t.co/PEmPzcvS8g #t…\", '📌 FPL Players in Champions League:\\n\\nTimo Werner 🆚 Krasnodar:\\n\\nGoals: 1️⃣\\nAssists: 1️⃣\\nTotal Shots: 2️⃣\\nChances Crea… https://t.co/z4CAGDzyLC', 'RT @soccerfanatichq: Transfer news and rumours LIVE: Man Utd could land Upamecano in cut-price deal https://t.co/PEmPzcvS8g #trending #prem…', 'RT @soccerfanatichq: Arteta: Leicester were defensive out of respect https://t.co/PEmPzcvS8g #trending #arsenal #leicester #premierleague h…', 'Now available at our store:\\n\\n#ROONEY #9 - #ENGLAND #EURO2004 AWAY LONG SLEEVE SHIRT - #UMBRO… https://t.co/QEzNVu71s8', \"RT @soccerfanatichq: Klopp: Liverpool injury crisis 'like a marriage' https://t.co/PEmPzcvS8g #trending #soccer #liverpool #premierleague h…\", 'RT @MeridianoTV: #PremierLeague El United renueva Old Trafford para que puedan asistir 23.500 aficionados ⚽ https://t.co/7PXfjK6qLO', 'RT @soccerfanatichq: Arteta: Leicester were defensive out of respect https://t.co/PEmPzcvS8g #trending #arsenal #leicester #premierleague h…', 'Manchester United will beat Arsenal this weekend \\n\\nI just don’t see arsenal winning that game. United are in great… https://t.co/0s5kx29GU4', \"RT @soccerfanatichq: Klopp: Liverpool injury crisis 'like a marriage' https://t.co/PEmPzcvS8g #trending #soccer #liverpool #premierleague h…\", '#29Oct Manchester United renueva el Old Trafford para poder albergar a sus aficionados https://t.co/g5HbzYi3Kz… https://t.co/rTdExlXQGu', \"RT @soccerfanatichq: Klopp: Liverpool injury crisis 'like a marriage' https://t.co/PEmPzcvS8g #trending #soccer #liverpool #premierleague h…\", \"RT @soccerfanatichq: Van de Beek can be Man Utd's answer to Thomas Muller, says Hargreaves https://t.co/PEmPzcvS8g #trending #soccer #premi…\", 'Now available at our store: \\n\\n#GERRARD #4 - #ENGLAND 2006/08 AWAY SHIRT - #UMBRO \\n\\nhttps://t.co/2bn4bWtRBH… https://t.co/3lYOFNpI4I', '#PremierLeague El United renueva Old Trafford para que puedan asistir 23.500 aficionados ⚽ https://t.co/7PXfjK6qLO', 'RT @soccerfanatichq: Transfer news and rumours LIVE: Man Utd could land Upamecano in cut-price deal https://t.co/PEmPzcvS8g #trending #prem…', \"RT @soccerfanatichq: First Man United, then Arsenal: Zaha's form could attract interest from the big clubs again https://t.co/PEmPzcvS8g #t…\", 'Now available at our store: \\n\\n#RBLEIPZIG #81 2016/17 SHIRT - #NIKE \\n\\nhttps://t.co/uxMblrP44w… https://t.co/hHAsB3WvI0', 'RT @soccerfanatichq: Transfer news and rumours LIVE: Man Utd could land Upamecano in cut-price deal https://t.co/PEmPzcvS8g #trending #prem…', \"Today's @TwoFootedPod \\n\\nWednesday, Oct 28th\\n\\nOn today's show:\\n\\n- Liverpool fans need to calm down\\n- Champions Leagu… https://t.co/uAgyS2bh7k\", 'Now available at our store: \\n\\n#SHANGHAISHENHUA 2017 SHIRT - #CHINESESUPERLEAGUE - #NIKE \\n\\nhttps://t.co/VypaATyCvR… https://t.co/UbX57Ilv8l', 'Now available at our store: \\n\\n#PAHANGFA 2011 SHIRT - #MALAYSIASUPERLEAGUE - #LOTTO \\n\\nhttps://t.co/PCer5maC3Q… https://t.co/dTh2Bsy7Bo', 'RESUMEN DE LA SEMANA EN LOS SUPLENTES: https://t.co/qD03acej5E\\n\\n#UCL #Guardianes2020 #LaLigaSantander #SerieA… https://t.co/wj9psJ6sWw', '#PremierLeague #teamoftheweek #football \\n\\nAnother exhilarating weekend of Premier league action has come and gone.… https://t.co/BEpNq2GTCE', 'Now available at our store: \\n\\n#CHELMFORDCITY 2009/10 SHIRT - #VANDANEL - SIZE LARGE \\n\\nhttps://t.co/zwUutw4BZu… https://t.co/FYEAMOc8kY', 'Now available at our store: \\n\\n#WOLVERHAMPTONWANDERERS 2006/08 SHIRT - #LECOQSPORTIF \\n\\nhttps://t.co/hMtmx3jIRY… https://t.co/DdNIJNfrII', 'Now available at our store: \\n\\n#TOTTENHAMHOTSPUR 1994/95 SHORTS - #UMBRO - SIZE SMALL \\n\\nhttps://t.co/0nUNipdsOr… https://t.co/y4wk90VWVo', 'Amazon plans to air Premier League soccer matches for free, Former Bafana coach Stuart Baxter finds a job in India.… https://t.co/uhEHfMB6Xp', \"Today's @TwoFootedPod \\n\\nWednesday, Oct 28th\\n\\nOn today's show:\\n\\n- Liverpool fans need to calm down\\n- Champions Leagu… https://t.co/yCdmEHAOiZ\", 'Disculpen No sabía que me veían, rectifico .El comentarista es el mejor de la #PremierLeague  para mi, pero x eso m… https://t.co/seAWNSyUJJ', 'RT @soccerfanatichq: Arteta: Leicester were defensive out of respect https://t.co/PEmPzcvS8g #trending #arsenal #leicester #premierleague h…', \"RT @soccerfanatichq: Klopp: Liverpool injury crisis 'like a marriage' https://t.co/PEmPzcvS8g #trending #soccer #liverpool #premierleague h…\", 'RT @soccerfanatichq: Transfer news and rumours LIVE: Man Utd could land Upamecano in cut-price deal https://t.co/PEmPzcvS8g #trending #prem…', \"RT @TheChelsVoice: #EduoardMendy's save percentage\\n\\n#PremierLeague - 100%\\n#ChampionsLeague - 100%\\n#CarabaoCup - 66.7%\\n\\nShots faced on Targe…\", \"#EduoardMendy's save percentage\\n\\n#PremierLeague - 100%\\n#ChampionsLeague - 100%\\n#CarabaoCup - 66.7%\\n\\nShots faced on… https://t.co/BH8ICGC7zI\", 'Selain jago membuat gol, @HKane juga sedang hobi membuat assist di @premierleague terutama untuk @hm_sin7. Mantep n… https://t.co/zhLTQLJntU', 'Episodio 47 🎙️⚽️@DPrimera_ \\n#LaLiga #RealMadrid gana #Clasico  \\n#PremierLeague #Everton pierde invicto \\n#SerieA… https://t.co/Z0oQA7vk19', 'RT @soccerfanatichq: Arteta: Leicester were defensive out of respect https://t.co/PEmPzcvS8g #trending #arsenal #leicester #premierleague h…', 'RT @chrismackop: Sat towards the Kop end for the Chelsea game and could hear Henderson shouting to his teammates constantly: “Yessss. Champ…', \"RT @soccerfanatichq: 'Man Utd have more than just Vardy' - Red Devils can copy Leicester plan to punish Arsenal, says Wright https://t.co/P…\", 'Once again VAR was used correctly throughout the game and the correct decisions were made by the referee, still don… https://t.co/71w9CTblWj', 'RT @soccerfanatichq: Lampard insists Werner and Havertz are least of his concerns as Chelsea aim to find balance between defence &amp; attack h…', \"RT @soccerfanatichq: Van de Beek can be Man Utd's answer to Thomas Muller, says Hargreaves https://t.co/PEmPzcvS8g #trending #soccer #premi…\", 'Swallows win over Celtic\\n\\nhttps://t.co/TV1AnAui51 #officialpsl #psl #premierleague #southafrica #soccer #football', \"Here's wishing to two of the greatest footballers to ever play in the @premierleague, #RobertPires and… https://t.co/sv1ni6nvDN\"]\n"
     ]
    }
   ],
   "source": [
    "print(status_texts)"
   ]
  },
  {
   "cell_type": "code",
   "execution_count": 31,
   "metadata": {},
   "outputs": [
    {
     "name": "stdout",
     "output_type": "stream",
     "text": [
      "['ITGDsports', 'mark_robinson_', 'soccerfanatichq', 'soccerfanatichq', 'soccerfanatichq', 'soccerfanatichq', 'soccerfanatichq', 'soccerfanatichq', 'soccerfanatichq', 'soccerfanatichq', 'soccerfanatichq', 'soccerfanatichq', 'soccerfanatichq', 'soccerfanatichq', 'soccerfanatichq', 'soccerfanatichq', 'soccerfanatichq', 'soccerfanatichq', 'soccerfanatichq', 'soccerfanatichq', 'soccerfanatichq', 'soccerfanatichq', 'soccerfanatichq', 'soccerfanatichq', 'premierleague', 'MeridianoTV', 'soccerfanatichq', 'MeridianoTV', 'soccerfanatichq', 'soccerfanatichq', 'LFC', 'NUFCgallowgate', 'Stulloyd79', 'GarethBale11', 'soccerfanatichq', 'soccerfanatichq', 'NUFCgallowgate', 'soccerfanatichq', 'soccerfanatichq', 'soccerfanatichq', 'soccerfanatichq', 'soccerfanatichq', 'soccerfanatichq', 'MeridianoTV', 'soccerfanatichq', 'soccerfanatichq', 'soccerfanatichq', 'soccerfanatichq', 'soccerfanatichq', 'soccerfanatichq', 'soccerfanatichq', 'TwoFootedPod', 'TwoFootedPod', 'soccerfanatichq', 'soccerfanatichq', 'soccerfanatichq', 'TheChelsVoice', 'HKane', 'premierleague', 'hm_sin7', 'DPrimera_', 'soccerfanatichq', 'chrismackop', 'soccerfanatichq', 'soccerfanatichq', 'soccerfanatichq', 'premierleague']\n"
     ]
    }
   ],
   "source": [
    "print(screen_names)"
   ]
  },
  {
   "cell_type": "code",
   "execution_count": 32,
   "metadata": {},
   "outputs": [
    {
     "name": "stdout",
     "output_type": "stream",
     "text": [
      "['TNNOnline', 'TNNช่อง16', 'TNNSport', 'พรีเมียร์ลีก', 'trending', '29Oct', 'trending', 'soccer', 'trending', 'trending', 'soccer', 'liverpool', 'premierleague', 'trending', 'trending', 'soccer', 'liverpool', 'premierleague', 'trending', 'soccer', 'TNNOnline', 'TNNช่อง16', 'TNNSport', 'พรีเมียร์ลีก', 'trending', 'trending', 'soccer', 'trending', 'soccer', 'liverpool', 'premierleague', 'trending', 'arsenal', 'leicester', 'premierleague', 'trending', 'soccer', 'trending', 'arsenal', 'leicester', 'premierleague', 'MCFC', 'PremierLeague', 'PremierLeague', 'officialpsl', 'psl', 'premierleague', 'southafrica', 'soccer', 'football', 'PremierLeague', 'PremierLeague', 'LiverpoolFC', 'LFC', 'PremierLeague', 'LiverpoolFCIsCorruption', 'PremierLeague', 'RapidsNetwork', 'BurnleyFC', 'trending', 'trending', 'soccer', 'liverpool', 'premierleague', 'fpl', 'PremierLeague', 'trending', 'trending', 'arsenal', 'leicester', 'premierleague', 'ROONEY', 'ENGLAND', 'EURO2004', 'UMBRO', 'trending', 'soccer', 'liverpool', 'premierleague', 'PremierLeague', 'trending', 'arsenal', 'leicester', 'premierleague', 'trending', 'soccer', 'liverpool', 'premierleague', '29Oct', 'trending', 'soccer', 'liverpool', 'premierleague', 'trending', 'soccer', 'GERRARD', 'ENGLAND', 'UMBRO', 'PremierLeague', 'trending', 'RBLEIPZIG', 'NIKE', 'trending', 'SHANGHAISHENHUA', 'CHINESESUPERLEAGUE', 'NIKE', 'PAHANGFA', 'MALAYSIASUPERLEAGUE', 'LOTTO', 'UCL', 'Guardianes2020', 'LaLigaSantander', 'SerieA', 'PremierLeague', 'teamoftheweek', 'football', 'CHELMFORDCITY', 'VANDANEL', 'WOLVERHAMPTONWANDERERS', 'LECOQSPORTIF', 'TOTTENHAMHOTSPUR', 'UMBRO', 'PremierLeague', 'trending', 'arsenal', 'leicester', 'premierleague', 'trending', 'soccer', 'liverpool', 'premierleague', 'trending', 'EduoardMendy', 'PremierLeague', 'ChampionsLeague', 'CarabaoCup', 'EduoardMendy', 'PremierLeague', 'ChampionsLeague', 'CarabaoCup', 'LaLiga', 'RealMadrid', 'Clasico', 'PremierLeague', 'Everton', 'SerieA', 'trending', 'arsenal', 'leicester', 'premierleague', 'trending', 'soccer', 'officialpsl', 'psl', 'premierleague', 'southafrica', 'soccer', 'football', 'RobertPires']\n"
     ]
    }
   ],
   "source": [
    "print(hashtags)"
   ]
  },
  {
   "cell_type": "code",
   "execution_count": 33,
   "metadata": {},
   "outputs": [
    {
     "data": {
      "text/plain": [
       "(96, 67, 159)"
      ]
     },
     "execution_count": 33,
     "metadata": {},
     "output_type": "execute_result"
    }
   ],
   "source": [
    "len(status_texts), len(screen_names), len(hashtags)"
   ]
  },
  {
   "cell_type": "markdown",
   "metadata": {},
   "source": [
    "What if we wanted to see the tweets that contained the keyword: \"Chelsea\"? \n",
    "\n",
    "Easy, we can do this with the same procedure."
   ]
  },
  {
   "cell_type": "code",
   "execution_count": 34,
   "metadata": {},
   "outputs": [],
   "source": [
    "searched_2 = twitter_api.search.tweets(q='Chelsea', count=100)"
   ]
  },
  {
   "cell_type": "markdown",
   "metadata": {},
   "source": [
    "In the variable \"searched_2\", we have gathered recent tweets that contain the keyword, \"Chelsea\". We can do the same procedure as above, gathering the tweets and their corresponding metadata for further analysis. "
   ]
  },
  {
   "cell_type": "code",
   "execution_count": 35,
   "metadata": {},
   "outputs": [],
   "source": [
    "# storing the tweets and their info into statuses_2 variable\n",
    "statuses_2 = searched_2['statuses']"
   ]
  },
  {
   "cell_type": "code",
   "execution_count": 36,
   "metadata": {},
   "outputs": [
    {
     "data": {
      "text/plain": [
       "100"
      ]
     },
     "execution_count": 36,
     "metadata": {},
     "output_type": "execute_result"
    }
   ],
   "source": [
    "len(statuses_2)"
   ]
  },
  {
   "cell_type": "code",
   "execution_count": 37,
   "metadata": {},
   "outputs": [],
   "source": [
    "status_texts_2 = [status['text'] for status in statuses_2]\n",
    "\n",
    "screen_names_2 = [user_mention['screen_name'] for status in statuses_2 for user_mention in status['entities']['user_mentions']]\n",
    "\n",
    "hashtags_2 = [hashtag['text'] for status in statuses_2 for hashtag in status['entities']['hashtags']]"
   ]
  },
  {
   "cell_type": "code",
   "execution_count": 38,
   "metadata": {},
   "outputs": [
    {
     "data": {
      "text/plain": [
       "(100, 110, 28)"
      ]
     },
     "execution_count": 38,
     "metadata": {},
     "output_type": "execute_result"
    }
   ],
   "source": [
    "len(status_texts_2), len(screen_names_2), len(hashtags_2)"
   ]
  },
  {
   "cell_type": "code",
   "execution_count": 39,
   "metadata": {},
   "outputs": [
    {
     "name": "stdout",
     "output_type": "stream",
     "text": [
      "['RT @Zlatan_Ibile: Up Chelsea', '@3bdo_chelsea @AhmedShendy6 يا ريتها جت علي قد كده😂😂😂', 'RT @one_dosh: Retweet for Manchester United performance tonight like for Chelsea. https://t.co/qcN63bhCNF', 'Also congratulations to both Chelsea and Manchester United winning the Champions League last night.....lol Lampard… https://t.co/Ww6XUd9o8Q', 'RT @OleTrain: In the last 7 days : \\n- Ole beat PSG with a 3-5-2\\n- Dominated Chelsea with a fluid 4-5-1\\n- Thrashed RedBull with a 4-4-2\\n\\n...…', '@EdwardsSommy Lol Chelsea for life#EricaOnYouTube', \"RT @brfootball: Hakim Ziyech's first Chelsea goal 🔵 https://t.co/0ahdDtmoTn\", 'RT @Arrizabalager: That’s 6 goal contributions in his first 8 games for Kai Havertz at Chelsea. Not bad for a “flop”.', \"@Ling_14 I'm not sure. Being on Chelsea's books for 4 years and not playing for them isn't Premier League experienc… https://t.co/bZq4CsWaOB\", \"RT @CFCAthul: Just reminding...\\nChelsea  currently have:\\nPulisic- USA's biggest talent\\nHavertz-Germany's Biggest talent\\nAmpadu-Wales Bigges…\", 'RT @one_dosh: Retweet for Manchester United performance tonight like for Chelsea. https://t.co/qcN63bhCNF', 'RT @brfootball: Liverpool: 2-0 win\\nMan City: 3-0 win\\nChelsea: 4-0 win\\nMan Utd: 5-0 win\\n\\nEnglish clubs scored 14 and conceded NONE in the Ch…', 'Lampard claims he is treated differently to other managers because he is English https://t.co/IpidHuh5KL', 'RT @NeilSpyBarnett: Havertz-Kanté-Mount played as a midfield three 1st 30 mins of 2nd half at WBA &amp; #Chelsea scored 2. Did it for last 24 m…', 'RT @brfootball: Liverpool: 2-0 win\\nMan City: 3-0 win\\nChelsea: 4-0 win\\nMan Utd: 5-0 win\\n\\nEnglish clubs scored 14 and conceded NONE in the Ch…', 'RT @brfootball: Werner, Ziyech, Pulisic, Havertz and Mount all on the pitch at the same time for Chelsea 💫 https://t.co/31owlXJTNz', 'RT @StatmanDave: Manchester United since the loss against Spurs:\\n\\n✅ 4-1 vs. Newcastle United\\n✅ 2-1 vs. PSG\\n🤝 0-0 vs. Chelsea \\n✅ 5-0 vs. RB…', 'RT @talkchelsea: Lampard was asked if he would consider changing the penalty taker 👇\\n\\n#CFC #Chelsea https://t.co/fZEWZsWSxV', \"RT @brfootball: Hakim Ziyech's first Chelsea goal 🔵 https://t.co/0ahdDtmoTn\", '今日から俺は!!が一番好きな漫画だから伊藤が悪さして悲しい', 'RT @brfootball: Werner, Ziyech, Pulisic, Havertz and Mount all on the pitch at the same time for Chelsea 💫 https://t.co/31owlXJTNz', '@GIVENALITY Chelsea imeshinda 5', 'RT @Masulani_: Don’t know if Mendy came to Chelsea in capacity of a goalkeeper or a Dry cleaner because all he has are clean sheets.', 'RT @brfootball: Werner, Ziyech, Pulisic, Havertz and Mount all on the pitch at the same time for Chelsea 💫 https://t.co/31owlXJTNz', 'RT @ActuFoot_: Édouard Mendy lors de ses 4 derniers matches avec Chelsea :\\n\\n🆚 Crystal Palace : Clean sheet ⛔️\\n🆚 FC Séville : Clean sheet ⛔️…', 'RT @RealJamesWoods: And she speaks for him, too.  https://t.co/uYWyCRQ5DX', 'RT @NizaarKinsella: Roman Abramovich at his first Chelsea match in some time. #CFC #KRACHE #UCL', 'RT @lnstantFoot: En 5 matchs avec Chelsea, Edouard Mendy comptabilise 1 seul but encaissé, avec 4 clean-sheets consécutifs ! ⛔️\\n\\nIl va fair…', '#Liverpool: 2-0 win\\n#ManCity: 3-0 win\\n#Chelsea: 4-0 win\\n#ManUtd: 5-0 win\\n\\nEnglish clubs scored 14 and conceded NONE… https://t.co/ONesv01hoK', 'RT @RealJamesWoods: And she speaks for him, too.  https://t.co/uYWyCRQ5DX', '今日明日耐えれば土曜は家でIVCみるだけ https://t.co/UzxNKq2a6m', '@ChelseaFC Every Chelsea fan should follow me for instant follow back', 'Champions League: Lampard hints at new Chelsea penalty taker after Jorginho miss https://t.co/Bwk3AE2QXd https://t.co/WGT9yk39qk', \"@Laurene__o_O @Olamidesob @GillesFavard Il parle alors que je suis sûr qu'il ne regarde pas les matchs de Chelsea 😄😄😂😂\", 'Where the heck is Chelsea Green?', 'RT @goal: 22 years ago today, John Terry made his Chelsea debut 🔵\\n\\n🏆🏆🏆🏆🏆 Premier League\\n🏆🏆🏆🏆🏆 FA Cup\\n🏆🏆🏆 League Cup\\n🏆🏆 Community Shield\\n🏆 C…', \"RT @Abiso_la: Good morning to all Chelsea fans💙💙 The rest of y'all can get yours from Ole and others🥴\", '@OHagas Well Chelsea are 10th in the prem so 🤷🏻\\u200d♂️ enjoy Thursday nights #spursy', 'RT @NizaarKinsella: It is the first time Frank Lampard has managed three clean sheets in a row at Chelsea. (all comps) #CFC #UCL #KRACHE', 'RT @ActuFoot_: Édouard Mendy lors de ses 4 derniers matches avec Chelsea :\\n\\n🆚 Crystal Palace : Clean sheet ⛔️\\n🆚 FC Séville : Clean sheet ⛔️…', '@cesc4official @Arsenal Almost in my top 5 of favourite players. The way you left though I’m afraid slightly tarnis… https://t.co/cTvGlxi4AH', 'Harta\\nTahta\\nChelsea Rara\\n@bingongg', 'RT @Mbahdeyforyou: I hate seeing Chelsea fans happy', 'Chelsea are complaining about Maguire what of this too https://t.co/K4qtuEWz9v', 'RT @brfootball: Liverpool: 2-0 win\\nMan City: 3-0 win\\nChelsea: 4-0 win\\nMan Utd: 5-0 win\\n\\nEnglish clubs scored 14 and conceded NONE in the Ch…', 'RT @AlexGoldberg_: I saw loads of Nagelsmann prop from Chelsea fans earlier, hours before their manager, Frank Lampard, was managing their…', '@yami_CHELSEA やみちゃん😭😭\\n\\n自分だってチェルシーに行くきっかけになったやみちゃんが居なくなるのはツラミ🥺🥺', 'RT @brfootball: Liverpool: 2-0 win\\nMan City: 3-0 win\\nChelsea: 4-0 win\\nMan Utd: 5-0 win\\n\\nEnglish clubs scored 14 and conceded NONE in the Ch…', 'RT @JerriBowenBowen: The Chelsea hongera💪', 'RT @AbsoluteChelsea: 💙 John Terry 🤝 Mason Mount 💙\\n\\n“You are a top, top player already in your young career. Chelsea through and through.”…', 'RT @RealJamesWoods: And she speaks for him, too.  https://t.co/uYWyCRQ5DX', \"RT @CFCAthul: Just reminding...\\nChelsea  currently have:\\nPulisic- USA's biggest talent\\nHavertz-Germany's Biggest talent\\nAmpadu-Wales Bigges…\", 'RT @AlexGoldberg_: Nagelsmann is a very good manager. So this isn’t about him vs Frank. It’s about being a Chelsea supporter but doing prop…', 'RT @CFCDaily: Chelsea, Liverpool &amp; Sevilla are the only sides in this seasons Champions League yet to concede a goal. #CFC #UCL', 'RT @ChelseaFC: Essien ⚽️\\nDrogba ⚽️⚽️\\nJ.Cole ⚽️\\nKalou ⚽️\\nShevchenko ⚽️\\n\\n#OnThisDay in 2007: Chelsea 6-0 Man City! https://t.co/IDimGlDods', 'RT @ConnCFC: Ziyech gets a goal &amp; had a man of the match performance in his first ever start for Chelsea \\n\\nNot bad for a player from the “f…', '🍂🍁 https://t.co/oe9DgRuhfK', 'RT @abeembohlah: Liverpool: 2-0 \\nMan City: 3-0 \\nChelsea: 4-0 \\nMan Utd: 5-0 \\n\\nEPL clubs scored 14 and conceded NONE in the Champions League…', 'RT @brfootball: Liverpool: 2-0 win\\nMan City: 3-0 win\\nChelsea: 4-0 win\\nMan Utd: 5-0 win\\n\\nEnglish clubs scored 14 and conceded NONE in the Ch…', '@Sola47 @tundealfred As a Chelsea man I’m sorry for you both', 'RT @mark_robinson_: So Maguire’s ‘foul’ on Azpilicueta get multiple replays yet this foul on Maguire in the Chelsea area never got a mentio…', 'RT @FrankKhalidUK: Eden Hazard was so good in his Chelsea days that the opposition tried to  rough him up in the tunnel LOL!!! Here he is j…', 'RT @brfootball: Liverpool: 2-0 win\\nMan City: 3-0 win\\nChelsea: 4-0 win\\nMan Utd: 5-0 win\\n\\nEnglish clubs scored 14 and conceded NONE in the Ch…', '@gambo_ii @gyaigyimii Chelsea win\\nPSG win\\nUnited win\\nStake that 500gh 😩', 'RT @The_Ronkee: Today work by @Slimz_designs_ , Chelsea home onesies and away kit for kids 😍😍😍 Call/WhatsApp 07065164539 to order, we deliv…', '@joncaleaf1 Vipi @joncaleaf1, usiwe na wasi wasi. This weekend on 31-10-2020 we will air Premier League Burnley v C… https://t.co/GEwKdrxJTt', 'RT @NizaarKinsella: It is the first time Frank Lampard has managed three clean sheets in a row at Chelsea. (all comps) #CFC #UCL #KRACHE', 'RT @RealJamesWoods: And she speaks for him, too.  https://t.co/uYWyCRQ5DX', 'RT @Arrizabalager: This Nagelsmann fella just conceded 5 goals against United, Chelsea conceded 0 there at the weekend. Yikes.', \"RT @Abiso_la: Good morning to all Chelsea fans💙💙 The rest of y'all can get yours from Ole and others🥴\", 'RT @mustaphaonana16: @Keshdotcom @Wontumi_Sports @King__Eben @EffahOwusuJose1 @PerryPaisley @iamkantinkyiren @PhilemonTerry26 @darko_helen…', 'RT @kofoworola__a: Drop a blue heart 💙 if you are a chelsea fan https://t.co/PmI9xvjRG6', 'RT @one_dosh: Retweet for Manchester United performance tonight like for Chelsea. https://t.co/qcN63bhCNF', 'RT @PPPSocialMedia1: @HillaryClinton with her daughter Chelsea, left, walks with #SMBB, holding hands with her son @BBhuttoZardari and daug…', 'RT @goal: 22 years ago today, John Terry made his Chelsea debut 🔵\\n\\n🏆🏆🏆🏆🏆 Premier League\\n🏆🏆🏆🏆🏆 FA Cup\\n🏆🏆🏆 League Cup\\n🏆🏆 Community Shield\\n🏆 C…', 'RT @brfootball: Liverpool: 2-0 win\\nMan City: 3-0 win\\nChelsea: 4-0 win\\nMan Utd: 5-0 win\\n\\nEnglish clubs scored 14 and conceded NONE in the Ch…', 'RT @RealJamesWoods: And she speaks for him, too.  https://t.co/uYWyCRQ5DX', '@ih_chelsea a', 'RT @NizaarKinsella: FT: Krasnodar 0-4 Chelsea\\n\\nWonderful scoreline but it felt in the balance for some time. \\n\\nPulisic did well to earn a p…', 'The Chelsea hongera💪', 'RT @jeffphilips1: I hope Man U and Chelsea fans were not celebrating those wins against those Vfshjtrbc clubs yesterday, because na fowl wh…', 'RT @amjeni_i: @DOFFISHAL @ozo_chukwu @nengiofficial Up Chelsea 😜 although I dnt knw d names of dere players. Wat I know is dat I ve always…', '@_jonaxxbaby omo dami kong nakilalang chelsea hahaha ill call u eya. have a great day eya', 'Krasnodar vs Chelsea: Ziyech shines as Blues clobber Russians https://t.co/2VV4wgAB4U', 'RT @brfootball: Liverpool: 2-0 win\\nMan City: 3-0 win\\nChelsea: 4-0 win\\nMan Utd: 5-0 win\\n\\nEnglish clubs scored 14 and conceded NONE in the Ch…', 'RT @one_dosh: Retweet for Manchester United performance tonight like for Chelsea. https://t.co/qcN63bhCNF', 'RT @NizaarKinsella: Roman Abramovich at his first Chelsea match in some time. #CFC #KRACHE #UCL', 'RT @PPPSocialMedia1: @HillaryClinton with her daughter Chelsea, left, walks with #SMBB, holding hands with her son @BBhuttoZardari and daug…', \"@utdarena Am I the only who honestly feels Fred's goal is coming because he had a shot on goal against Chelsea and against RB leipzig\", '@innomafunga @ChelseaFC Yesterday I saw a good complementary between Ziyech and Havertz. I m probably sure that tho… https://t.co/xuqscshCGE', \"RT @ESPNFC: Chelsea's attack vs. Krasnodar:\\n\\nWerner - Goal, assist, wins penalty ⚽️🎯💥\\n\\nPulisic - Goal, wins penalty ⚽️💥\\n\\nZiyech - Goal ⚽️…\", 'RT @brfootball: Liverpool: 2-0 win\\nMan City: 3-0 win\\nChelsea: 4-0 win\\nMan Utd: 5-0 win\\n\\nEnglish clubs scored 14 and conceded NONE in the Ch…', 'RT @eniturn: Chelsea fans actually hate to see Manchester United fans happy. Bunch of Agberos without Empathy.', 'RT @ChampionsLeague: 🇩🇪  Timo Werner nets 1st Champions League goal for Chelsea\\n\\n🇲🇦 1st Blues goal for Hakim Ziyech  \\n\\n#UCL https://t.co/0S…', 'Chelsea!!! 🤟🔥 https://t.co/dSM5Ff4YLi', 'RT @brfootball: Liverpool: 2-0 win\\nMan City: 3-0 win\\nChelsea: 4-0 win\\nMan Utd: 5-0 win\\n\\nEnglish clubs scored 14 and conceded NONE in the Ch…', \"Mendy's first 5 games for Chelsea\\n\\n⭕ Spurs\\n⛔ Crystal Palace\\n⛔ Sevilla\\n⛔ Man utd\\n⛔Krasnodar \\n5 games 4 clean sheet 1… https://t.co/1ovvjLCqj4\", 'RT @Evans_Arwiga: Timo Werner first goal in #UCL  for #Chelsea \\nPulisic first goal of the season\\nZiyech first goal for Chelsea\\nMendy 2 clea…', 'RT @intopjw: BOY - intense tracks and dance break drops that can focus on performances\\n\\nI LOVE YOU - dynamic dance pop sing, with an 808 ba…', 'Good morning to all Chelsea fans \\nThe rest can get theirs from there manager 😂 https://t.co/ZMqrMvQos5']\n"
     ]
    }
   ],
   "source": [
    "print(status_texts_2)"
   ]
  },
  {
   "cell_type": "code",
   "execution_count": 40,
   "metadata": {},
   "outputs": [
    {
     "name": "stdout",
     "output_type": "stream",
     "text": [
      "['Zlatan_Ibile', '3bdo_chelsea', 'AhmedShendy6', 'one_dosh', 'OleTrain', 'EdwardsSommy', 'brfootball', 'Arrizabalager', 'Ling_14', 'CFCAthul', 'one_dosh', 'brfootball', 'NeilSpyBarnett', 'brfootball', 'brfootball', 'StatmanDave', 'talkchelsea', 'brfootball', 'brfootball', 'GIVENALITY', 'Masulani_', 'brfootball', 'ActuFoot_', 'RealJamesWoods', 'NizaarKinsella', 'lnstantFoot', 'RealJamesWoods', 'ChelseaFC', 'Laurene__o_O', 'Olamidesob', 'GillesFavard', 'goal', 'Abiso_la', 'OHagas', 'NizaarKinsella', 'ActuFoot_', 'cesc4official', 'Arsenal', 'bingongg', 'Mbahdeyforyou', 'brfootball', 'AlexGoldberg_', 'yami_CHELSEA', 'brfootball', 'JerriBowenBowen', 'AbsoluteChelsea', 'RealJamesWoods', 'CFCAthul', 'AlexGoldberg_', 'CFCDaily', 'ChelseaFC', 'ConnCFC', 'abeembohlah', 'brfootball', 'Sola47', 'tundealfred', 'mark_robinson_', 'FrankKhalidUK', 'brfootball', 'gambo_ii', 'gyaigyimii', 'The_Ronkee', 'Slimz_designs_', 'joncaleaf1', 'joncaleaf1', 'NizaarKinsella', 'RealJamesWoods', 'Arrizabalager', 'Abiso_la', 'mustaphaonana16', 'Keshdotcom', 'Wontumi_Sports', 'King__Eben', 'EffahOwusuJose1', 'PerryPaisley', 'iamkantinkyiren', 'PhilemonTerry26', 'darko_helen', 'kofoworola__a', 'one_dosh', 'PPPSocialMedia1', 'HillaryClinton', 'BBhuttoZardari', 'goal', 'brfootball', 'RealJamesWoods', 'ih_chelsea', 'NizaarKinsella', 'jeffphilips1', 'amjeni_i', 'DOFFISHAL', 'ozo_chukwu', 'nengiofficial', '_jonaxxbaby', 'brfootball', 'one_dosh', 'NizaarKinsella', 'PPPSocialMedia1', 'HillaryClinton', 'BBhuttoZardari', 'utdarena', 'innomafunga', 'ChelseaFC', 'ESPNFC', 'brfootball', 'eniturn', 'ChampionsLeague', 'brfootball', 'Evans_Arwiga', 'intopjw']\n"
     ]
    }
   ],
   "source": [
    "print(screen_names_2)"
   ]
  },
  {
   "cell_type": "code",
   "execution_count": 41,
   "metadata": {},
   "outputs": [
    {
     "name": "stdout",
     "output_type": "stream",
     "text": [
      "['Chelsea', 'CFC', 'Chelsea', 'CFC', 'KRACHE', 'UCL', 'Liverpool', 'ManCity', 'Chelsea', 'ManUtd', 'spursy', 'CFC', 'UCL', 'KRACHE', 'CFC', 'UCL', 'OnThisDay', 'CFC', 'UCL', 'KRACHE', 'SMBB', 'CFC', 'KRACHE', 'UCL', 'SMBB', 'UCL', 'UCL', 'Chelsea']\n"
     ]
    }
   ],
   "source": [
    "print(hashtags_2)"
   ]
  },
  {
   "cell_type": "markdown",
   "metadata": {},
   "source": [
    "Now, we have gathered the tweets containing the terms \"Chelsea\", and we have extracted the tweets, their user names, and their hashtags. For the next section, to make the computations easier, we will focus only on the first 10 tweets gathered. "
   ]
  },
  {
   "cell_type": "code",
   "execution_count": 42,
   "metadata": {},
   "outputs": [
    {
     "data": {
      "text/plain": [
       "10"
      ]
     },
     "execution_count": 42,
     "metadata": {},
     "output_type": "execute_result"
    }
   ],
   "source": [
    "status_10 = status_texts_2[:10]\n",
    "len(status_10)"
   ]
  },
  {
   "cell_type": "code",
   "execution_count": 43,
   "metadata": {},
   "outputs": [
    {
     "data": {
      "text/plain": [
       "['RT @Zlatan_Ibile: Up Chelsea',\n",
       " '@3bdo_chelsea @AhmedShendy6 يا ريتها جت علي قد كده😂😂😂',\n",
       " 'RT @one_dosh: Retweet for Manchester United performance tonight like for Chelsea. https://t.co/qcN63bhCNF',\n",
       " 'Also congratulations to both Chelsea and Manchester United winning the Champions League last night.....lol Lampard… https://t.co/Ww6XUd9o8Q',\n",
       " 'RT @OleTrain: In the last 7 days : \\n- Ole beat PSG with a 3-5-2\\n- Dominated Chelsea with a fluid 4-5-1\\n- Thrashed RedBull with a 4-4-2\\n\\n...…',\n",
       " '@EdwardsSommy Lol Chelsea for life#EricaOnYouTube',\n",
       " \"RT @brfootball: Hakim Ziyech's first Chelsea goal 🔵 https://t.co/0ahdDtmoTn\",\n",
       " 'RT @Arrizabalager: That’s 6 goal contributions in his first 8 games for Kai Havertz at Chelsea. Not bad for a “flop”.',\n",
       " \"@Ling_14 I'm not sure. Being on Chelsea's books for 4 years and not playing for them isn't Premier League experienc… https://t.co/bZq4CsWaOB\",\n",
       " \"RT @CFCAthul: Just reminding...\\nChelsea  currently have:\\nPulisic- USA's biggest talent\\nHavertz-Germany's Biggest talent\\nAmpadu-Wales Bigges…\"]"
      ]
     },
     "execution_count": 43,
     "metadata": {},
     "output_type": "execute_result"
    }
   ],
   "source": [
    "status_10"
   ]
  },
  {
   "cell_type": "markdown",
   "metadata": {},
   "source": [
    "## Text Vectorisation\n",
    "\n",
    "Since we have now gathered the tweets according to some query that we want, we can now perform text vectorisation methods to quantify the texts. The words in the text will be encoded as integers or floating point values for use as input. By quantifying the texts, we can make them into usable features for further analysis, such as machine learning usage. \n",
    "\n",
    "We will take a look at 2 common methods of vectorisation: Count Vectorisation and TF-IDF Vectorisation. "
   ]
  },
  {
   "cell_type": "markdown",
   "metadata": {},
   "source": [
    "### Count Vectorisation\n",
    "\n",
    "Count vectorising refers to a method of tokenising a collection of text documents and building a vocabulary of known words while encoding new documents using that vocabulary built. \n",
    "\n",
    "The method of creation is as follows: \n",
    "\n",
    "1. Create an instance of the CountVectorizer class\n",
    "2. Call the fit() function in order to learn a vocabulary from one or more documents\n",
    "3. Call the transform() function on one or more documents as needed to encode each as a vector\n",
    "\n",
    "An encoded vector is returned with a length of the entire vocabulary and an integer count for the number of times each word appeared in the document. "
   ]
  },
  {
   "cell_type": "code",
   "execution_count": 44,
   "metadata": {},
   "outputs": [
    {
     "name": "stdout",
     "output_type": "stream",
     "text": [
      "['0ahddtmotn', '3bdo_chelsea', 'ahmedshendy6', 'also', 'ampadu', 'and', 'arrizabalager', 'at', 'bad', 'beat', 'being', 'bigges', 'biggest', 'books', 'both', 'brfootball', 'bzq4cswaob', 'cfcathul', 'champions', 'chelsea', 'co', 'congratulations', 'contributions', 'currently', 'days', 'dominated', 'edwardssommy', 'ericaonyoutube', 'experienc', 'first', 'flop', 'fluid', 'for', 'games', 'germany', 'goal', 'hakim', 'have', 'havertz', 'his', 'https', 'in', 'isn', 'just', 'kai', 'lampard', 'last', 'league', 'life', 'like', 'ling_14', 'lol', 'manchester', 'night', 'not', 'ole', 'oletrain', 'on', 'one_dosh', 'performance', 'playing', 'premier', 'psg', 'pulisic', 'qcn63bhcnf', 'redbull', 'reminding', 'retweet', 'rt', 'sure', 'talent', 'that', 'the', 'them', 'thrashed', 'to', 'tonight', 'united', 'up', 'usa', 'wales', 'winning', 'with', 'ww6xud9o8q', 'years', 'ziyech', 'zlatan_ibile', 'جت', 'ريتها', 'علي', 'قد', 'كده', 'يا']\n"
     ]
    }
   ],
   "source": [
    "from sklearn.feature_extraction.text import CountVectorizer\n",
    "\n",
    "vectorizer = CountVectorizer()\n",
    "x = vectorizer.fit_transform(status_10)\n",
    "\n",
    "print(vectorizer.get_feature_names())"
   ]
  },
  {
   "cell_type": "markdown",
   "metadata": {},
   "source": [
    "The result shows the representing words that are included in all the tweets. We can transform this into an array to make this into numerical data. The numerical data simply shows how many times a certain word has appeared in each text (tweet). "
   ]
  },
  {
   "cell_type": "code",
   "execution_count": 45,
   "metadata": {},
   "outputs": [
    {
     "name": "stdout",
     "output_type": "stream",
     "text": [
      "[[0 0 0 0 0 0 0 0 0 0 0 0 0 0 0 0 0 0 0 1 0 0 0 0 0 0 0 0 0 0 0 0 0 0 0 0\n",
      "  0 0 0 0 0 0 0 0 0 0 0 0 0 0 0 0 0 0 0 0 0 0 0 0 0 0 0 0 0 0 0 0 1 0 0 0\n",
      "  0 0 0 0 0 0 1 0 0 0 0 0 0 0 1 0 0 0 0 0 0]\n",
      " [0 1 1 0 0 0 0 0 0 0 0 0 0 0 0 0 0 0 0 0 0 0 0 0 0 0 0 0 0 0 0 0 0 0 0 0\n",
      "  0 0 0 0 0 0 0 0 0 0 0 0 0 0 0 0 0 0 0 0 0 0 0 0 0 0 0 0 0 0 0 0 0 0 0 0\n",
      "  0 0 0 0 0 0 0 0 0 0 0 0 0 0 0 1 1 1 1 1 1]\n",
      " [0 0 0 0 0 0 0 0 0 0 0 0 0 0 0 0 0 0 0 1 1 0 0 0 0 0 0 0 0 0 0 0 2 0 0 0\n",
      "  0 0 0 0 1 0 0 0 0 0 0 0 0 1 0 0 1 0 0 0 0 0 1 1 0 0 0 0 1 0 0 1 1 0 0 0\n",
      "  0 0 0 0 1 1 0 0 0 0 0 0 0 0 0 0 0 0 0 0 0]\n",
      " [0 0 0 1 0 1 0 0 0 0 0 0 0 0 1 0 0 0 1 1 1 1 0 0 0 0 0 0 0 0 0 0 0 0 0 0\n",
      "  0 0 0 0 1 0 0 0 0 1 1 1 0 0 0 1 1 1 0 0 0 0 0 0 0 0 0 0 0 0 0 0 0 0 0 0\n",
      "  1 0 0 1 0 1 0 0 0 1 0 1 0 0 0 0 0 0 0 0 0]\n",
      " [0 0 0 0 0 0 0 0 0 1 0 0 0 0 0 0 0 0 0 1 0 0 0 0 1 1 0 0 0 0 0 1 0 0 0 0\n",
      "  0 0 0 0 0 1 0 0 0 0 1 0 0 0 0 0 0 0 0 1 1 0 0 0 0 0 1 0 0 1 0 0 1 0 0 0\n",
      "  1 0 1 0 0 0 0 0 0 0 3 0 0 0 0 0 0 0 0 0 0]\n",
      " [0 0 0 0 0 0 0 0 0 0 0 0 0 0 0 0 0 0 0 1 0 0 0 0 0 0 1 1 0 0 0 0 1 0 0 0\n",
      "  0 0 0 0 0 0 0 0 0 0 0 0 1 0 0 1 0 0 0 0 0 0 0 0 0 0 0 0 0 0 0 0 0 0 0 0\n",
      "  0 0 0 0 0 0 0 0 0 0 0 0 0 0 0 0 0 0 0 0 0]\n",
      " [1 0 0 0 0 0 0 0 0 0 0 0 0 0 0 1 0 0 0 1 1 0 0 0 0 0 0 0 0 1 0 0 0 0 0 1\n",
      "  1 0 0 0 1 0 0 0 0 0 0 0 0 0 0 0 0 0 0 0 0 0 0 0 0 0 0 0 0 0 0 0 1 0 0 0\n",
      "  0 0 0 0 0 0 0 0 0 0 0 0 0 1 0 0 0 0 0 0 0]\n",
      " [0 0 0 0 0 0 1 1 1 0 0 0 0 0 0 0 0 0 0 1 0 0 1 0 0 0 0 0 0 1 1 0 2 1 0 1\n",
      "  0 0 1 1 0 1 0 0 1 0 0 0 0 0 0 0 0 0 1 0 0 0 0 0 0 0 0 0 0 0 0 0 1 0 0 1\n",
      "  0 0 0 0 0 0 0 0 0 0 0 0 0 0 0 0 0 0 0 0 0]\n",
      " [0 0 0 0 0 1 0 0 0 0 1 0 0 1 0 0 1 0 0 1 1 0 0 0 0 0 0 0 1 0 0 0 2 0 0 0\n",
      "  0 0 0 0 1 0 1 0 0 0 0 1 0 0 1 0 0 0 2 0 0 1 0 0 1 1 0 0 0 0 0 0 0 1 0 0\n",
      "  0 1 0 0 0 0 0 0 0 0 0 0 1 0 0 0 0 0 0 0 0]\n",
      " [0 0 0 0 1 0 0 0 0 0 0 1 2 0 0 0 0 1 0 1 0 0 0 1 0 0 0 0 0 0 0 0 0 0 1 0\n",
      "  0 1 1 0 0 0 0 1 0 0 0 0 0 0 0 0 0 0 0 0 0 0 0 0 0 0 0 1 0 0 1 0 1 0 2 0\n",
      "  0 0 0 0 0 0 0 1 1 0 0 0 0 0 0 0 0 0 0 0 0]]\n"
     ]
    }
   ],
   "source": [
    "print(x.toarray())"
   ]
  },
  {
   "cell_type": "code",
   "execution_count": 46,
   "metadata": {},
   "outputs": [
    {
     "data": {
      "text/plain": [
       "(10, 93)"
      ]
     },
     "execution_count": 46,
     "metadata": {},
     "output_type": "execute_result"
    }
   ],
   "source": [
    "x.toarray().shape"
   ]
  },
  {
   "cell_type": "markdown",
   "metadata": {},
   "source": [
    "### TF-IDF Vectorizer\n",
    "\n",
    "Using CountVectorizer is very simple but may be too simple for usage. For example, some words like \"the\" might appear many times and their counts may not be meaningful in the encoded vectors. Therefore, the more popular method of calculating word frequencies is TF-IDF (Term Frequency-Inverse Document Frequency) \n",
    "\n",
    "* Term frequency: summarises how often a given word appears within a document\n",
    "* Inverse document frequency: downscales words that appear a lot across documents\n",
    "\n",
    "Basically, TF-IDF are word frequency scores that try to highlight words that are more interesting. \n",
    "\n",
    "TfidfVectorizer will tokenise documents, learn the vocabulary and inverse document frequency weightings, and allow you to encode new documents. The flow of usage is basically the same as CountVectorizer. "
   ]
  },
  {
   "cell_type": "code",
   "execution_count": 47,
   "metadata": {},
   "outputs": [],
   "source": [
    "from sklearn.feature_extraction.text import TfidfVectorizer\n",
    "\n",
    "# create the transform\n",
    "vectorizer = TfidfVectorizer()\n",
    "\n",
    "# tokenise and build vocab\n",
    "vectorizer.fit(status_10)   \n",
    "vector = vectorizer.transform(status_10)   # 두 문장 합친 것 : vectorizer.fit_transform(status_10)"
   ]
  },
  {
   "cell_type": "code",
   "execution_count": 48,
   "metadata": {},
   "outputs": [
    {
     "name": "stdout",
     "output_type": "stream",
     "text": [
      "{'rt': 68, 'zlatan_ibile': 86, 'up': 78, 'chelsea': 19, '3bdo_chelsea': 1, 'ahmedshendy6': 2, 'يا': 92, 'ريتها': 88, 'جت': 87, 'علي': 89, 'قد': 90, 'كده': 91, 'one_dosh': 58, 'retweet': 67, 'for': 32, 'manchester': 52, 'united': 77, 'performance': 59, 'tonight': 76, 'like': 49, 'https': 40, 'co': 20, 'qcn63bhcnf': 64, 'also': 3, 'congratulations': 21, 'to': 75, 'both': 14, 'and': 5, 'winning': 81, 'the': 72, 'champions': 18, 'league': 47, 'last': 46, 'night': 53, 'lol': 51, 'lampard': 45, 'ww6xud9o8q': 83, 'oletrain': 56, 'in': 41, 'days': 24, 'ole': 55, 'beat': 9, 'psg': 62, 'with': 82, 'dominated': 25, 'fluid': 31, 'thrashed': 74, 'redbull': 65, 'edwardssommy': 26, 'life': 48, 'ericaonyoutube': 27, 'brfootball': 15, 'hakim': 36, 'ziyech': 85, 'first': 29, 'goal': 35, '0ahddtmotn': 0, 'arrizabalager': 6, 'that': 71, 'contributions': 22, 'his': 39, 'games': 33, 'kai': 44, 'havertz': 38, 'at': 7, 'not': 54, 'bad': 8, 'flop': 30, 'ling_14': 50, 'sure': 69, 'being': 10, 'on': 57, 'books': 13, 'years': 84, 'playing': 60, 'them': 73, 'isn': 42, 'premier': 61, 'experienc': 28, 'bzq4cswaob': 16, 'cfcathul': 17, 'just': 43, 'reminding': 66, 'currently': 23, 'have': 37, 'pulisic': 63, 'usa': 79, 'biggest': 12, 'talent': 70, 'germany': 34, 'ampadu': 4, 'wales': 80, 'bigges': 11}\n"
     ]
    }
   ],
   "source": [
    "print(vectorizer.vocabulary_)  # vocabularies"
   ]
  },
  {
   "cell_type": "code",
   "execution_count": 49,
   "metadata": {},
   "outputs": [
    {
     "name": "stdout",
     "output_type": "stream",
     "text": [
      "[2.70474809 2.70474809 2.70474809 2.70474809 2.70474809 2.29928298\n",
      " 2.70474809 2.70474809 2.70474809 2.70474809 2.70474809 2.70474809\n",
      " 2.70474809 2.70474809 2.70474809 2.70474809 2.70474809 2.70474809\n",
      " 2.70474809 1.09531018 1.78845736 2.70474809 2.70474809 2.70474809\n",
      " 2.70474809 2.70474809 2.70474809 2.70474809 2.70474809 2.29928298\n",
      " 2.70474809 2.70474809 1.78845736 2.70474809 2.70474809 2.29928298\n",
      " 2.70474809 2.70474809 2.29928298 2.70474809 1.78845736 2.29928298\n",
      " 2.70474809 2.70474809 2.70474809 2.70474809 2.29928298 2.29928298\n",
      " 2.70474809 2.70474809 2.70474809 2.29928298 2.29928298 2.70474809\n",
      " 2.29928298 2.70474809 2.70474809 2.70474809 2.70474809 2.70474809\n",
      " 2.70474809 2.70474809 2.70474809 2.70474809 2.70474809 2.70474809\n",
      " 2.70474809 2.70474809 1.45198512 2.70474809 2.70474809 2.70474809\n",
      " 2.29928298 2.70474809 2.70474809 2.70474809 2.70474809 2.29928298\n",
      " 2.70474809 2.70474809 2.70474809 2.70474809 2.70474809 2.70474809\n",
      " 2.70474809 2.70474809 2.70474809 2.70474809 2.70474809 2.70474809\n",
      " 2.70474809 2.70474809 2.70474809]\n"
     ]
    }
   ],
   "source": [
    "print(vectorizer.idf_)         # idf values"
   ]
  },
  {
   "cell_type": "code",
   "execution_count": 50,
   "metadata": {},
   "outputs": [
    {
     "name": "stdout",
     "output_type": "stream",
     "text": [
      "(10, 93)\n"
     ]
    }
   ],
   "source": [
    "print(vector.shape)"
   ]
  },
  {
   "cell_type": "code",
   "execution_count": 51,
   "metadata": {},
   "outputs": [
    {
     "name": "stdout",
     "output_type": "stream",
     "text": [
      "[[0.         0.         0.         0.         0.         0.\n",
      "  0.         0.         0.         0.         0.         0.\n",
      "  0.         0.         0.         0.         0.         0.\n",
      "  0.         0.25860356 0.         0.         0.         0.\n",
      "  0.         0.         0.         0.         0.         0.\n",
      "  0.         0.         0.         0.         0.         0.\n",
      "  0.         0.         0.         0.         0.         0.\n",
      "  0.         0.         0.         0.         0.         0.\n",
      "  0.         0.         0.         0.         0.         0.\n",
      "  0.         0.         0.         0.         0.         0.\n",
      "  0.         0.         0.         0.         0.         0.\n",
      "  0.         0.         0.34281479 0.         0.         0.\n",
      "  0.         0.         0.         0.         0.         0.\n",
      "  0.63859307 0.         0.         0.         0.         0.\n",
      "  0.         0.         0.63859307 0.         0.         0.\n",
      "  0.         0.         0.        ]\n",
      " [0.         0.35355339 0.35355339 0.         0.         0.\n",
      "  0.         0.         0.         0.         0.         0.\n",
      "  0.         0.         0.         0.         0.         0.\n",
      "  0.         0.         0.         0.         0.         0.\n",
      "  0.         0.         0.         0.         0.         0.\n",
      "  0.         0.         0.         0.         0.         0.\n",
      "  0.         0.         0.         0.         0.         0.\n",
      "  0.         0.         0.         0.         0.         0.\n",
      "  0.         0.         0.         0.         0.         0.\n",
      "  0.         0.         0.         0.         0.         0.\n",
      "  0.         0.         0.         0.         0.         0.\n",
      "  0.         0.         0.         0.         0.         0.\n",
      "  0.         0.         0.         0.         0.         0.\n",
      "  0.         0.         0.         0.         0.         0.\n",
      "  0.         0.         0.         0.35355339 0.35355339 0.35355339\n",
      "  0.35355339 0.35355339 0.35355339]\n",
      " [0.         0.         0.         0.         0.         0.\n",
      "  0.         0.         0.         0.         0.         0.\n",
      "  0.         0.         0.         0.         0.         0.\n",
      "  0.         0.12484908 0.20385756 0.         0.         0.\n",
      "  0.         0.         0.         0.         0.         0.\n",
      "  0.         0.         0.40771511 0.         0.         0.\n",
      "  0.         0.         0.         0.         0.20385756 0.\n",
      "  0.         0.         0.         0.         0.         0.\n",
      "  0.         0.30830108 0.         0.         0.26208409 0.\n",
      "  0.         0.         0.         0.         0.30830108 0.30830108\n",
      "  0.         0.         0.         0.         0.30830108 0.\n",
      "  0.         0.30830108 0.16550472 0.         0.         0.\n",
      "  0.         0.         0.         0.         0.30830108 0.26208409\n",
      "  0.         0.         0.         0.         0.         0.\n",
      "  0.         0.         0.         0.         0.         0.\n",
      "  0.         0.         0.        ]\n",
      " [0.         0.         0.         0.25736786 0.         0.21878619\n",
      "  0.         0.         0.         0.         0.         0.\n",
      "  0.         0.         0.25736786 0.         0.         0.\n",
      "  0.25736786 0.10422325 0.17017904 0.25736786 0.         0.\n",
      "  0.         0.         0.         0.         0.         0.\n",
      "  0.         0.         0.         0.         0.         0.\n",
      "  0.         0.         0.         0.         0.17017904 0.\n",
      "  0.         0.         0.         0.25736786 0.21878619 0.21878619\n",
      "  0.         0.         0.         0.21878619 0.21878619 0.25736786\n",
      "  0.         0.         0.         0.         0.         0.\n",
      "  0.         0.         0.         0.         0.         0.\n",
      "  0.         0.         0.         0.         0.         0.\n",
      "  0.21878619 0.         0.         0.25736786 0.         0.21878619\n",
      "  0.         0.         0.         0.25736786 0.         0.25736786\n",
      "  0.         0.         0.         0.         0.         0.\n",
      "  0.         0.         0.        ]\n",
      " [0.         0.         0.         0.         0.         0.\n",
      "  0.         0.         0.         0.22021869 0.         0.\n",
      "  0.         0.         0.         0.         0.         0.\n",
      "  0.         0.08917939 0.         0.         0.         0.\n",
      "  0.22021869 0.22021869 0.         0.         0.         0.\n",
      "  0.         0.22021869 0.         0.         0.         0.\n",
      "  0.         0.         0.         0.         0.         0.18720601\n",
      "  0.         0.         0.         0.         0.18720601 0.\n",
      "  0.         0.         0.         0.         0.         0.\n",
      "  0.         0.22021869 0.22021869 0.         0.         0.\n",
      "  0.         0.         0.22021869 0.         0.         0.22021869\n",
      "  0.         0.         0.11821961 0.         0.         0.\n",
      "  0.18720601 0.         0.22021869 0.         0.         0.\n",
      "  0.         0.         0.         0.         0.66065607 0.\n",
      "  0.         0.         0.         0.         0.         0.\n",
      "  0.         0.         0.        ]\n",
      " [0.         0.         0.         0.         0.         0.\n",
      "  0.         0.         0.         0.         0.         0.\n",
      "  0.         0.         0.         0.         0.         0.\n",
      "  0.         0.19474844 0.         0.         0.         0.\n",
      "  0.         0.         0.48090986 0.48090986 0.         0.\n",
      "  0.         0.         0.31799145 0.         0.         0.\n",
      "  0.         0.         0.         0.         0.         0.\n",
      "  0.         0.         0.         0.         0.         0.\n",
      "  0.48090986 0.         0.         0.40881732 0.         0.\n",
      "  0.         0.         0.         0.         0.         0.\n",
      "  0.         0.         0.         0.         0.         0.\n",
      "  0.         0.         0.         0.         0.         0.\n",
      "  0.         0.         0.         0.         0.         0.\n",
      "  0.         0.         0.         0.         0.         0.\n",
      "  0.         0.         0.         0.         0.         0.\n",
      "  0.         0.         0.        ]\n",
      " [0.38427635 0.         0.         0.         0.         0.\n",
      "  0.         0.         0.         0.         0.         0.\n",
      "  0.         0.         0.         0.38427635 0.         0.\n",
      "  0.         0.1556159  0.25409459 0.         0.         0.\n",
      "  0.         0.         0.         0.         0.         0.32667001\n",
      "  0.         0.         0.         0.         0.         0.32667001\n",
      "  0.38427635 0.         0.         0.         0.25409459 0.\n",
      "  0.         0.         0.         0.         0.         0.\n",
      "  0.         0.         0.         0.         0.         0.\n",
      "  0.         0.         0.         0.         0.         0.\n",
      "  0.         0.         0.         0.         0.         0.\n",
      "  0.         0.         0.20629039 0.         0.         0.\n",
      "  0.         0.         0.         0.         0.         0.\n",
      "  0.         0.         0.         0.         0.         0.\n",
      "  0.         0.38427635 0.         0.         0.         0.\n",
      "  0.         0.         0.        ]\n",
      " [0.         0.         0.         0.         0.         0.\n",
      "  0.25981173 0.25981173 0.25981173 0.         0.         0.\n",
      "  0.         0.         0.         0.         0.         0.\n",
      "  0.         0.10521291 0.         0.         0.25981173 0.\n",
      "  0.         0.         0.         0.         0.         0.2208637\n",
      "  0.25981173 0.         0.34359    0.25981173 0.         0.2208637\n",
      "  0.         0.         0.2208637  0.25981173 0.         0.2208637\n",
      "  0.         0.         0.25981173 0.         0.         0.\n",
      "  0.         0.         0.         0.         0.         0.\n",
      "  0.2208637  0.         0.         0.         0.         0.\n",
      "  0.         0.         0.         0.         0.         0.\n",
      "  0.         0.         0.13947427 0.         0.         0.25981173\n",
      "  0.         0.         0.         0.         0.         0.\n",
      "  0.         0.         0.         0.         0.         0.\n",
      "  0.         0.         0.         0.         0.         0.\n",
      "  0.         0.         0.        ]\n",
      " [0.         0.         0.         0.         0.         0.19439478\n",
      "  0.         0.         0.         0.         0.22867516 0.\n",
      "  0.         0.22867516 0.         0.         0.22867516 0.\n",
      "  0.         0.0926039  0.1512066  0.         0.         0.\n",
      "  0.         0.         0.         0.         0.22867516 0.\n",
      "  0.         0.         0.3024132  0.         0.         0.\n",
      "  0.         0.         0.         0.         0.1512066  0.\n",
      "  0.22867516 0.         0.         0.         0.         0.19439478\n",
      "  0.         0.         0.22867516 0.         0.         0.\n",
      "  0.38878955 0.         0.         0.22867516 0.         0.\n",
      "  0.22867516 0.22867516 0.         0.         0.         0.\n",
      "  0.         0.         0.         0.22867516 0.         0.\n",
      "  0.         0.22867516 0.         0.         0.         0.\n",
      "  0.         0.         0.         0.         0.         0.\n",
      "  0.22867516 0.         0.         0.         0.         0.\n",
      "  0.         0.         0.        ]\n",
      " [0.         0.         0.         0.         0.22263582 0.\n",
      "  0.         0.         0.         0.         0.         0.22263582\n",
      "  0.44527165 0.         0.         0.         0.         0.22263582\n",
      "  0.         0.09015822 0.         0.         0.         0.22263582\n",
      "  0.         0.         0.         0.         0.         0.\n",
      "  0.         0.         0.         0.         0.22263582 0.\n",
      "  0.         0.22263582 0.18926079 0.         0.         0.\n",
      "  0.         0.22263582 0.         0.         0.         0.\n",
      "  0.         0.         0.         0.         0.         0.\n",
      "  0.         0.         0.         0.         0.         0.\n",
      "  0.         0.         0.         0.22263582 0.         0.\n",
      "  0.22263582 0.         0.11951719 0.         0.44527165 0.\n",
      "  0.         0.         0.         0.         0.         0.\n",
      "  0.         0.22263582 0.22263582 0.         0.         0.\n",
      "  0.         0.         0.         0.         0.         0.\n",
      "  0.         0.         0.        ]]\n"
     ]
    }
   ],
   "source": [
    "print(vector.toarray())"
   ]
  },
  {
   "cell_type": "markdown",
   "metadata": {},
   "source": [
    "We get the TF-IDF score for each word that is normalised to values between 0 and 1. This encoded document vector can now be used directly as features for most of machine learning problems. "
   ]
  },
  {
   "cell_type": "markdown",
   "metadata": {},
   "source": [
    "## Word Cloud\n",
    "\n",
    "We can also visualise the commonly appearing terms in the document. Using the latest 10 tweets that we have prepared, let us create a Word Cloud. "
   ]
  },
  {
   "cell_type": "code",
   "execution_count": 52,
   "metadata": {},
   "outputs": [],
   "source": [
    "status_text = ', '.join(status_10) "
   ]
  },
  {
   "cell_type": "code",
   "execution_count": 53,
   "metadata": {},
   "outputs": [
    {
     "name": "stdout",
     "output_type": "stream",
     "text": [
      "Requirement already satisfied: wordcloud in c:\\programdata\\anaconda3\\lib\\site-packages (1.8.0)\n",
      "Requirement already satisfied: pillow in c:\\programdata\\anaconda3\\lib\\site-packages (from wordcloud) (7.2.0)\n",
      "Requirement already satisfied: matplotlib in c:\\programdata\\anaconda3\\lib\\site-packages (from wordcloud) (3.2.2)\n",
      "Requirement already satisfied: numpy>=1.6.1 in c:\\programdata\\anaconda3\\lib\\site-packages (from wordcloud) (1.18.5)\n",
      "Requirement already satisfied: pyparsing!=2.0.4,!=2.1.2,!=2.1.6,>=2.0.1 in c:\\programdata\\anaconda3\\lib\\site-packages (from matplotlib->wordcloud) (2.4.7)\n",
      "Requirement already satisfied: cycler>=0.10 in c:\\programdata\\anaconda3\\lib\\site-packages (from matplotlib->wordcloud) (0.10.0)\n",
      "Requirement already satisfied: python-dateutil>=2.1 in c:\\programdata\\anaconda3\\lib\\site-packages (from matplotlib->wordcloud) (2.8.1)\n",
      "Requirement already satisfied: kiwisolver>=1.0.1 in c:\\programdata\\anaconda3\\lib\\site-packages (from matplotlib->wordcloud) (1.2.0)\n",
      "Requirement already satisfied: six in c:\\programdata\\anaconda3\\lib\\site-packages (from cycler>=0.10->matplotlib->wordcloud) (1.15.0)\n"
     ]
    }
   ],
   "source": [
    "!pip install wordcloud"
   ]
  },
  {
   "cell_type": "code",
   "execution_count": 54,
   "metadata": {},
   "outputs": [
    {
     "data": {
      "image/png": "[encoded data removed]",
      "text/plain": [
       "<Figure size 432x288 with 1 Axes>"
      ]
     },
     "metadata": {
      "needs_background": "light"
     },
     "output_type": "display_data"
    }
   ],
   "source": [
    "from wordcloud import WordCloud, STOPWORDS, ImageColorGenerator\n",
    "\n",
    "wordcloud = WordCloud().generate(status_text)\n",
    "\n",
    "plt.imshow(wordcloud, interpolation='bilinear')\n",
    "plt.axis('off')\n",
    "plt.show()"
   ]
  },
  {
   "cell_type": "markdown",
   "metadata": {},
   "source": [
    "With bigger text document, we can get more interesting word clouds. You can explore more with bigger dataset on your own to gather more interesting insights. "
   ]
  },
  {
   "cell_type": "markdown",
   "metadata": {},
   "source": [
    "## Accessing User Information\n",
    "\n",
    "So far, we have learnt how to find out the trending topics, how to use query terms to gather tweets, and how to use those tweets gathered to gain insights. There is another method of gathering tweets and useful information: accessing user information. \n",
    "\n",
    "By accessing user information, we can gain useful information such as:\n",
    "   \n",
    "1. Location\n",
    "2. Follower count\n",
    "3. Date of creation\n",
    "4. Number of tweets\n",
    "\n",
    "And many more. "
   ]
  },
  {
   "cell_type": "markdown",
   "metadata": {},
   "source": [
    "### Getting User Information\n",
    "\n",
    "Using **users.lookup(screen_name= )**, we can access a user's information. In the argument \"screen_name\", we have to input the Twitter ID name that we want to access. The Twitter ID name is the name in the form of \"@SocialWebMining\", where the @ signifies that it is an ID. The output is a nested dictionary in a list, requiring careful navigation. \n",
    "\n",
    "As an example, let us try to access Cristiano Ronaldo's Twitter account. Cristiano Ronaldo's Twitter ID is @Cristiano. "
   ]
  },
  {
   "cell_type": "code",
   "execution_count": 55,
   "metadata": {},
   "outputs": [],
   "source": [
    "account = twitter_api.users.lookup(screen_name='Cristiano')"
   ]
  },
  {
   "cell_type": "code",
   "execution_count": 56,
   "metadata": {},
   "outputs": [
    {
     "name": "stdout",
     "output_type": "stream",
     "text": [
      "[{'id': 155659213, 'id_str': '155659213', 'name': 'Cristiano Ronaldo', 'screen_name': 'Cristiano', 'location': 'Turim, Piemonte', 'description': 'This Privacy Policy addresses the collection and use of personal information - https://t.co/Jp6yh1T58c', 'url': 'https://t.co/VcAXB9ryty', 'entities': {'url': {'urls': [{'url': 'https://t.co/VcAXB9ryty', 'expanded_url': 'http://www.facebook.com/cristiano', 'display_url': 'facebook.com/cristiano', 'indices': [0, 23]}]}, 'description': {'urls': [{'url': 'https://t.co/Jp6yh1T58c', 'expanded_url': 'http://www.cristianoronaldo.com/terms', 'display_url': 'cristianoronaldo.com/terms', 'indices': [79, 102]}]}}, 'protected': False, 'followers_count': 88815845, 'friends_count': 51, 'listed_count': 83636, 'created_at': 'Mon Jun 14 19:09:20 +0000 2010', 'favourites_count': 2, 'utc_offset': None, 'time_zone': None, 'geo_enabled': True, 'verified': True, 'statuses_count': 3597, 'lang': None, 'status': {'created_at': 'Wed Oct 28 16:50:11 +0000 2020', 'id': 1321494480877477889, 'id_str': '1321494480877477889', 'text': 'Forza Ragazzi!\\nTutti insieme! 💪🏽👏🏽\\nFino Alla Fine!👊🏽 https://t.co/N3ETAJexTP', 'truncated': False, 'entities': {'hashtags': [], 'symbols': [], 'user_mentions': [], 'urls': [], 'media': [{'id': 1321494458257559552, 'id_str': '1321494458257559552', 'indices': [53, 76], 'media_url': 'http://pbs.twimg.com/ext_tw_video_thumb/1321494458257559552/pu/img/N4tOGHmNq6IiMdC0.jpg', 'media_url_https': 'https://pbs.twimg.com/ext_tw_video_thumb/1321494458257559552/pu/img/N4tOGHmNq6IiMdC0.jpg', 'url': 'https://t.co/N3ETAJexTP', 'display_url': 'pic.twitter.com/N3ETAJexTP', 'expanded_url': 'https://twitter.com/Cristiano/status/1321494480877477889/video/1', 'type': 'photo', 'sizes': {'large': {'w': 480, 'h': 600, 'resize': 'fit'}, 'small': {'w': 480, 'h': 600, 'resize': 'fit'}, 'thumb': {'w': 150, 'h': 150, 'resize': 'crop'}, 'medium': {'w': 480, 'h': 600, 'resize': 'fit'}}}]}, 'extended_entities': {'media': [{'id': 1321494458257559552, 'id_str': '1321494458257559552', 'indices': [53, 76], 'media_url': 'http://pbs.twimg.com/ext_tw_video_thumb/1321494458257559552/pu/img/N4tOGHmNq6IiMdC0.jpg', 'media_url_https': 'https://pbs.twimg.com/ext_tw_video_thumb/1321494458257559552/pu/img/N4tOGHmNq6IiMdC0.jpg', 'url': 'https://t.co/N3ETAJexTP', 'display_url': 'pic.twitter.com/N3ETAJexTP', 'expanded_url': 'https://twitter.com/Cristiano/status/1321494480877477889/video/1', 'type': 'video', 'sizes': {'large': {'w': 480, 'h': 600, 'resize': 'fit'}, 'small': {'w': 480, 'h': 600, 'resize': 'fit'}, 'thumb': {'w': 150, 'h': 150, 'resize': 'crop'}, 'medium': {'w': 480, 'h': 600, 'resize': 'fit'}}, 'video_info': {'aspect_ratio': [4, 5], 'duration_millis': 11367, 'variants': [{'bitrate': 632000, 'content_type': 'video/mp4', 'url': 'https://video.twimg.com/ext_tw_video/1321494458257559552/pu/vid/320x400/VdLzD3zSZ2rB1DPl.mp4?tag=10'}, {'bitrate': 832000, 'content_type': 'video/mp4', 'url': 'https://video.twimg.com/ext_tw_video/1321494458257559552/pu/vid/360x450/Ruac_fnetscF57Ob.mp4?tag=10'}, {'content_type': 'application/x-mpegURL', 'url': 'https://video.twimg.com/ext_tw_video/1321494458257559552/pu/pl/WcBr_HR6Ej7NDBkH.m3u8?tag=10'}, {'bitrate': 2176000, 'content_type': 'video/mp4', 'url': 'https://video.twimg.com/ext_tw_video/1321494458257559552/pu/vid/480x600/oVyGym92O0FZQbHI.mp4?tag=10'}]}, 'additional_media_info': {'monetizable': False}}]}, 'source': '<a href=\"http://twitter.com/download/iphone\" rel=\"nofollow\">Twitter for iPhone</a>', 'in_reply_to_status_id': None, 'in_reply_to_status_id_str': None, 'in_reply_to_user_id': None, 'in_reply_to_user_id_str': None, 'in_reply_to_screen_name': None, 'geo': None, 'coordinates': None, 'place': None, 'contributors': None, 'is_quote_status': False, 'retweet_count': 20314, 'favorite_count': 217310, 'favorited': False, 'retweeted': False, 'possibly_sensitive': False, 'lang': 'it'}, 'contributors_enabled': False, 'is_translator': False, 'is_translation_enabled': True, 'profile_background_color': '080101', 'profile_background_image_url': 'http://abs.twimg.com/images/themes/theme1/bg.png', 'profile_background_image_url_https': 'https://abs.twimg.com/images/themes/theme1/bg.png', 'profile_background_tile': False, 'profile_image_url': 'http://pbs.twimg.com/profile_images/1157313327867092993/a09TxL_1_normal.jpg', 'profile_image_url_https': 'https://pbs.twimg.com/profile_images/1157313327867092993/a09TxL_1_normal.jpg', 'profile_banner_url': 'https://pbs.twimg.com/profile_banners/155659213/1564759975', 'profile_link_color': '1643C9', 'profile_sidebar_border_color': 'FFFFFF', 'profile_sidebar_fill_color': '838387', 'profile_text_color': '0D0D0D', 'profile_use_background_image': True, 'has_extended_profile': False, 'default_profile': False, 'default_profile_image': False, 'following': False, 'follow_request_sent': False, 'notifications': False, 'translator_type': 'regular'}]\n"
     ]
    }
   ],
   "source": [
    "print(account)"
   ]
  },
  {
   "cell_type": "markdown",
   "metadata": {},
   "source": [
    "We can now extract necessary information into variables of our choice. For example, let us extract the **name**, **description**, and **followers_count**. "
   ]
  },
  {
   "cell_type": "code",
   "execution_count": 57,
   "metadata": {},
   "outputs": [
    {
     "data": {
      "text/plain": [
       "dict_keys(['id', 'id_str', 'name', 'screen_name', 'location', 'description', 'url', 'entities', 'protected', 'followers_count', 'friends_count', 'listed_count', 'created_at', 'favourites_count', 'utc_offset', 'time_zone', 'geo_enabled', 'verified', 'statuses_count', 'lang', 'status', 'contributors_enabled', 'is_translator', 'is_translation_enabled', 'profile_background_color', 'profile_background_image_url', 'profile_background_image_url_https', 'profile_background_tile', 'profile_image_url', 'profile_image_url_https', 'profile_banner_url', 'profile_link_color', 'profile_sidebar_border_color', 'profile_sidebar_fill_color', 'profile_text_color', 'profile_use_background_image', 'has_extended_profile', 'default_profile', 'default_profile_image', 'following', 'follow_request_sent', 'notifications', 'translator_type'])"
      ]
     },
     "execution_count": 57,
     "metadata": {},
     "output_type": "execute_result"
    }
   ],
   "source": [
    "account[0].keys()"
   ]
  },
  {
   "cell_type": "code",
   "execution_count": 58,
   "metadata": {},
   "outputs": [],
   "source": [
    "account_name = account[0]['name']\n",
    "account_description = account[0]['description']\n",
    "account_followers = account[0]['followers_count']"
   ]
  },
  {
   "cell_type": "code",
   "execution_count": 59,
   "metadata": {},
   "outputs": [
    {
     "name": "stdout",
     "output_type": "stream",
     "text": [
      "Cristiano Ronaldo\n",
      "This Privacy Policy addresses the collection and use of personal information - https://t.co/Jp6yh1T58c\n",
      "88815845\n"
     ]
    }
   ],
   "source": [
    "print(account_name)\n",
    "print(account_description)\n",
    "print(account_followers)"
   ]
  },
  {
   "cell_type": "markdown",
   "metadata": {},
   "source": [
    "### Getting User's Tweets\n",
    "\n",
    "Getting a user's information is good, but it would be much better to get the tweets of a user. Fortunately, the Twitter API provides such function: **statuses.user_timeline(screen_name= , count= )**"
   ]
  },
  {
   "cell_type": "code",
   "execution_count": 137,
   "metadata": {},
   "outputs": [],
   "source": [
    "user_tweets = twitter_api.statuses.user_timeline(screen_name='Cristiano', count=100)"
   ]
  },
  {
   "cell_type": "code",
   "execution_count": 139,
   "metadata": {},
   "outputs": [],
   "source": [
    "#print(user_tweets)"
   ]
  },
  {
   "cell_type": "code",
   "execution_count": 62,
   "metadata": {},
   "outputs": [
    {
     "data": {
      "text/plain": [
       "100"
      ]
     },
     "execution_count": 62,
     "metadata": {},
     "output_type": "execute_result"
    }
   ],
   "source": [
    "len(user_tweets)"
   ]
  },
  {
   "cell_type": "markdown",
   "metadata": {},
   "source": [
    "We have gathered latest 100 tweets of Cristiano Ronaldo. In a list, there are 100 dictionaries, each dictionary containing the tweet and its corresponding information. We can do similar methods to extract the necessary information. \n",
    "\n"
   ]
  },
  {
   "cell_type": "code",
   "execution_count": 63,
   "metadata": {},
   "outputs": [
    {
     "name": "stdout",
     "output_type": "stream",
     "text": [
      "\n",
      "Forza Ragazzi!\n",
      "Tutti insieme! 💪🏽👏🏽\n",
      "Fino Alla Fine!👊🏽 https://t.co/N3ETAJexTP\n",
      "\n",
      "Felling good and healthy! 🤷🏽‍♂️😉\n",
      "Forza Juve! 💪🏽 #finoallafine https://t.co/PWuBOSXNEH\n",
      "\n",
      "Siiiiiiiiiii💪🏽 https://t.co/KwWODF5e6N\n",
      "\n",
      "Let your confidence talks😉 https://t.co/Lro2Ov68nw\n",
      "\n",
      "Thursday style! 😉 https://t.co/OlNhOit0vh\n",
      "\n",
      "“El éxito en la vida no se mide por lo que logras, sino por los obstáculos que superas” 😉💪🏽 https://t.co/XCdeSqFv9Y\n",
      "\n",
      "“Não deixes aquilo que não podes fazer atrapalhar o que podes fazer”😉 https://t.co/yN9rQhmEgE\n",
      "\n",
      "Unidos dentro e fora do campo! 🇵🇹👏🏽👊🏽 #todosportugal https://t.co/4bQSUIPm2m\n",
      "\n",
      "This World Mental Health Day let’s get stronger together.\n",
      "Join me in showing your support.\n",
      " \n",
      "Check out @clearhair f… https://t.co/pzqkfJ21FZ\n",
      "\n",
      "Obrigado @nikefootball These boots are beautiful and I cannot wait to wear them for my next @selecaoportugal match… https://t.co/ckpf22NLr2\n",
      "\n",
      "Excelente trabalho equipa!👏🏽\n",
      "Continuar a trabalhar com a mesma atitude e ambição para conseguirmos o nosso objetivo… https://t.co/GyCIZINlPJ\n",
      "\n",
      "É sempre um sentimento especial representar o nosso país!🇵🇹👏🏽💪🏽\n",
      "#todosportugal https://t.co/yTYT5CKZtK\n",
      "\n",
      "Be bold. Be brave. Be confident.\n",
      "Never let your anxiety hold you back. \n",
      "What about you? Retweet and share three tra… https://t.co/uVJfveY4CA\n",
      "\n",
      "Determination. Drive. Nutrition ⚽️ Behind my performance is #HerbalifeNutrition\n",
      "@Herbalife24  #CR7Drive https://t.co/gg88XkYwk3\n",
      "\n",
      "Not the result we wanted, but with this colective spirit we will be stronger than ever! 💪🏼👊🏼 #finoallafine https://t.co/AIlriKt6gS\n",
      "\n",
      "Reading time! 📖 \n",
      "Living and learning! 😉👏🏼 https://t.co/okI9YlSuug\n",
      "\n",
      "A good recovery is the key! 💪🏽 https://t.co/016HyjboV6\n",
      "\n",
      "It's always good to start the season with a win!✌🏼💪🏼\n",
      "Well done team👏🏼 #finoallafine #forzajuve https://t.co/mRzd6ndAsO\n",
      "\n",
      "The new season is coming! 😀💪🏼\n",
      "Are you ready? 👊🏼\n",
      "#finoallafine #forzajuve https://t.co/5mOhnXtDaA\n",
      "\n",
      "Safe, amazingly beautiful and incredibly stunning, for me Madeira is already the best Island. Vote for Madeira Isla… https://t.co/rBy7zRKvwT\n",
      "\n",
      "What a beautiful 🌅🙏 https://t.co/GvOCmoBKjt\n",
      "\n",
      "Good feelings! ⚽️💪🏼 https://t.co/VINI7alcGE\n",
      "\n",
      "Family Time is the best🤩🙏❤️ https://t.co/LDStmnvOuM\n",
      "\n",
      "New season. New challenge. \n",
      "Build your resilience with @Clear.haircare\n",
      "#ComeBackStronger #KeepAClearHead #ClearMen https://t.co/fwwo4WgsvF\n",
      "\n",
      "What a beautiful way to reach my goal 100! 🇵🇹⚽️👏🏼 https://t.co/LzAGszcNlf\n",
      "\n",
      "Obrigado a todos os meus colegas, treinadores e staff da seleção que me ajudaram a atingir esta marca histórica. 🇵🇹… https://t.co/u6G009objc\n",
      "\n",
      "Preparados para amanhã!🇵🇹💪🏼 https://t.co/9iQQmJbXdc\n",
      "\n",
      "Together we are the future of football. #YouCantStopUs. Can’t wait to lead my country in the new @nikefootball… https://t.co/lpbGBUfJzq\n",
      "\n",
      "We touch our hair 96 times a day on average, transferring bacteria, dirt and grease from our hands unknowingly. I u… https://t.co/VzaNhEWXFr\n",
      "\n",
      "Happy to share these beautiful moments with you! 👩‍❤️‍👨😘 https://t.co/8P2GJcFihf\n",
      "\n",
      "On board🛥😉 https://t.co/IhvlsFdGep\n",
      "\n",
      "The beautiful competition is back! 💪🏼 \n",
      "#UCL #finoallafine #forzajuve https://t.co/mSiPVEDpT5\n",
      "\n",
      "Feeling loved ❤️😘 https://t.co/pIBtQtcAcz\n",
      "\n",
      "Team work 🤜🏼🤛🏼 https://t.co/zQbWoqjLHq\n",
      "\n",
      "Staying healthy and hygienic is important. \n",
      "Don’t forget keep your hair, scalp &amp; body clean daily. \n",
      "@CLEARIndonesia… https://t.co/dhteHYFikr\n",
      "\n",
      "I’m ready to chase the sun with my brand new Eyewear Collection!\n",
      "See all about my partnership with… https://t.co/hHLNSgFGri\n",
      "\n",
      "A very important victory! We’re almost there guys! Let’s go 💪🏼💪🏼 #FinoAllaFine #forzajuve https://t.co/thSo8N5PgN\n",
      "\n",
      "Good nutrition is at the core of my success. What’s yours? #HerbalifeNutrition https://t.co/dMX4d7dQOY\n",
      "\n",
      "Make your dreams come true always with special company! 😀❤️🙏 https://t.co/iVCI0WMkJ9\n",
      "\n",
      "Relaxing and lovely moments 🌊☀️💙 https://t.co/7zz1yszNJP\n",
      "\n",
      "A difficult game but a very important point. Keep on fighting until the end 💪🏼 #FinoAllaFine https://t.co/UfB0HwgFxt\n",
      "\n",
      "Faz hoje 4 anos que vivemos um dia histórico e único para todos nós! Para mim foi sem dúvida o título mais importan… https://t.co/1pLvAeGs1N\n",
      "\n",
      "Recharge 🔋☀️😉💪🏼 https://t.co/0lgeJdbsBL\n",
      "\n",
      "I love this feeling 😉💪🏼 https://t.co/Aj6uHZfUjF\n",
      "\n",
      "Grande vittoria! Abbiamo bisogno di questo spirito... FINO ALLA FINE 💪🏼👏🏼 https://t.co/WyhD4JnVDF\n",
      "\n",
      "What do you think about my look like my brother Panita ?! 🤔🤪 https://t.co/OUpYQApFfT\n",
      "\n",
      "Starting the weekend with a good vibe and a good style🤪 https://t.co/EXHMtk25UT\n",
      "\n",
      "Vittoria importante! Grandi ragazzi! 👏🏼💪🏼 #finoallafine https://t.co/k4JMrV4pt4\n",
      "\n",
      "Enjoying this beautiful sunset 😃👌🏻🌅 #torino https://t.co/TjPlusRJiX\n",
      "\n",
      "Never give up, always focused on the next step...All together 💪🏼 #finoallafine https://t.co/uBITkFZaar\n",
      "\n",
      "Nem quero acreditar que o meu menino já tem 10 anos! Como o tempo passou... e desde sempre foste motivo de orgulho… https://t.co/ltJLbTyHN8\n",
      "\n",
      "Get some Vitamin D ☀️ https://t.co/Y86OHwZj3b\n",
      "\n",
      "Wherever you are, we'll always be together 💪🏼#FinoAllaFine #ForzaJuve https://t.co/BQPJ5fRcMD\n",
      "\n",
      "Have a nice day 😉👌🏻 #thursdaystyle https://t.co/HC21fCptQI\n",
      "\n",
      "Monday motivation!💪🏻 The Competition is coming ⚽️😀 https://t.co/mdVq45pz8s\n",
      "\n",
      "Let’s rise to the challenge. What are you doing to #ComeBackStronger? Take part in the #ClearResilienceChallenge at… https://t.co/LHMAVdCQca\n",
      "\n",
      "Happy Birthday to my two sweeties Eva and Mateo! 👧🏻🎉👶🏻🎉 We love you to the end of the world💕🙏 #prouddad https://t.co/0YnvN2QxNy\n",
      "\n",
      "I fall in love every time I see these two😍🙌👨‍👧‍👧 #dadysgirls https://t.co/0rPaSsAhnh\n",
      "\n",
      "Family Bike Ride 🚴🏼👌🏼❤️ https://t.co/mYrnDpEChQ\n",
      "\n",
      "Approved ? 🤔 https://t.co/FsWDUuMGx4\n",
      "\n",
      "Work hard play hard 💪🏼 https://t.co/lsRIikp7Jg\n",
      "\n",
      "When we become patient and consistent, we find the way to get through the difficulties ⚽️💪🏻\n",
      "#backontrack… https://t.co/2yzFWjr6CK\n",
      "\n",
      "Our health is the most important thing we have 👍 How are you practicing good #fitness and #nutrition habits?… https://t.co/yXt0gDBRIY\n",
      "\n",
      "Home workout with EMS training gear SIXPAD. Stay Fit and Stay Positive!\n",
      "@sixpadeurope\n",
      "https://t.co/a1KWPXzoxe… https://t.co/YsEKhPNtEd\n",
      "\n",
      "Well done my friend! 🙌🏽 https://t.co/XqTFitr5tI\n",
      "\n",
      "The greatest love... 🙏🏼❤️ https://t.co/ffSjOVHJDC\n",
      "\n",
      "We’ll be back 💙🙏 #family #madeiraisland https://t.co/Gm1ifjnkfi\n",
      "\n",
      "Today is day 1 of Clear’s 14 day resilience challenge to #ComeBackStronger. Follow @HaircareClear over the next two… https://t.co/6HZodlzVmi\n",
      "\n",
      "These are challenging times. Let’s make sure we stay on top of our game so we can all #comebackstronger. Be part of… https://t.co/R37XGgzxhm\n",
      "\n",
      "Morning workout with a cycling session....these wheels are on fire 🔥 😂💪🏼 https://t.co/lcHnUbGQ8m\n",
      "\n",
      "Keep strong guys! Lets go! 💪🏼🏋🏽‍♂️ #stayactive https://t.co/XFsHlXiJqm\n",
      "\n",
      "Workout to improve mind and body 🚴🏻💪🏻#stayactive https://t.co/89cXZn3WoB\n",
      "\n",
      "The best way to start the day 🙏❤️ https://t.co/iQd99vAGbR\n",
      "\n",
      "Like father like son 😂👨‍👦❤️ #siiiimmmmm https://t.co/7Tmmno0tO7\n",
      "\n",
      "Always challenge yourself! 👌For me it's time to study 🤓 https://t.co/n2ZIUhGa5d\n",
      "\n",
      "We wish a Happy Easter to everyone 🌍❤️🙏\n",
      "#stayhome https://t.co/DZsSKqYWeb\n",
      "\n",
      "Another week of playing inside and staying active. Thanks to everyone for trying to beat me 😉 maybe next time! Over… https://t.co/HCX4e8fsAR\n",
      "\n",
      "In this very difficult moment for our world it is important we unite and support each other. Let’s all do what we c… https://t.co/74Bpj1hEx8\n",
      "\n",
      "Stay home and keep stylish 💇🏽‍♂️👩‍❤️‍💋‍👨 #stayhomestaysafe https://t.co/SkPiUwzCxn\n",
      "\n",
      "Breathe in, breathe out.🧘‍♂️ Stay active🏃🏻‍♂️ #stayhomesavelives https://t.co/ElschZvXdQ\n",
      "\n",
      "In this difficult moment for the whole world, let’s be thankful for the things that matter - our health, our family… https://t.co/0kq3gDAW6I\n",
      "\n",
      "If you ever dreamed of playing for millions around the world, now is your chance. Play inside, play for the world.… https://t.co/8E4pOX2BMg\n",
      "\n",
      "Hi guys, just a little message and reminder of the steps we must all follow to protect ourselves and our loved ones… https://t.co/u3PXmgnZEI\n",
      "\n",
      "For information: https://t.co/rbDpMTcs6s https://t.co/jWzDZX0GJK\n",
      "\n",
      "So proud to reach 1000 official games in my career with a very important victory that put us on the top of the tabl… https://t.co/0KmVFS0RUP\n",
      "\n",
      "Thank you for all your messages of support for my mum. She is currently stable and recovering in hospital. Me and m… https://t.co/GQDHGLFJOB\n",
      "\n",
      "Stay focused on your goals 💪 https://t.co/UNuGkAAUXm\n",
      "\n",
      "Always on my mind... see you tomorrow 💪#UCL #forzajuve https://t.co/jXSbJoDCMP\n",
      "\n",
      "3 more important points!💪🏽\n",
      "Now let’s focus on UCL game!\n",
      "#finoallafine #forzajuve https://t.co/AzGNpKte4r\n",
      "\n",
      "My new Mercurial Dream Speed is here and they make me feel like I can move at the speed of light ⚡\n",
      "So excited to se… https://t.co/eWziv3X7Rf\n",
      "\n",
      "Ice recovery 🧊 💪 https://t.co/6lq1FjrmA6\n",
      "\n",
      "Family’s lunch ❤️ https://t.co/9r7zgwiGey\n",
      "\n",
      "No excuses 🤷🏽‍♂️💪 https://t.co/QNjMQDvfd4\n",
      "\n",
      "Good to get back to victories and happy to score again in our stadium!⚽⚽\n",
      "Proud to reach 50 goals with the bianconer… https://t.co/fKJMw4Ytnc\n",
      "\n",
      "The games start to win during the week 💪🏻👊🏻#focus #hardwork #finoallafine https://t.co/ur4oTx3HO7\n",
      "\n",
      "Felicidades mi amor! Te deseo un día muy lindo! Eres una gran mujer y una excelente madre para nuestros hijos. Te q… https://t.co/6h2A0ocJ3F\n",
      "\n",
      "So sad to hear the heartbreaking news of the deaths of Kobe and his daughter Gianna. Kobe was a true legend and ins… https://t.co/jNbwYwupj6\n",
      "\n",
      "Charging...🔋💪🏻 https://t.co/B69bLtvJTi\n",
      "\n",
      "Happy to score again today!\n",
      "⚽️⚽\n",
      "3 important points!💪🏽\n",
      "#finoallafine #forzajuve https://t.co/A5nGY4FLOJ\n",
      "\n",
      "👀 https://t.co/MRxEXFuthE\n"
     ]
    }
   ],
   "source": [
    "for i in range(100):\n",
    "    print()\n",
    "    print(user_tweets[i]['text'])"
   ]
  },
  {
   "cell_type": "markdown",
   "metadata": {},
   "source": [
    "Now, we will save all of Cristiano Ronaldo's tweets into a variable since we know now how to navigate through the data structure. "
   ]
  },
  {
   "cell_type": "code",
   "execution_count": 64,
   "metadata": {},
   "outputs": [],
   "source": [
    "user_texts = [status['text'] for status in user_tweets]"
   ]
  },
  {
   "cell_type": "code",
   "execution_count": 65,
   "metadata": {},
   "outputs": [
    {
     "data": {
      "text/plain": [
       "100"
      ]
     },
     "execution_count": 65,
     "metadata": {},
     "output_type": "execute_result"
    }
   ],
   "source": [
    "len(user_texts)"
   ]
  },
  {
   "cell_type": "code",
   "execution_count": 66,
   "metadata": {},
   "outputs": [
    {
     "data": {
      "text/plain": [
       "['Forza Ragazzi!\\nTutti insieme! 💪🏽👏🏽\\nFino Alla Fine!👊🏽 https://t.co/N3ETAJexTP',\n",
       " 'Felling good and healthy! 🤷🏽\\u200d♂️😉\\nForza Juve! 💪🏽 #finoallafine https://t.co/PWuBOSXNEH',\n",
       " 'Siiiiiiiiiii💪🏽 https://t.co/KwWODF5e6N',\n",
       " 'Let your confidence talks😉 https://t.co/Lro2Ov68nw',\n",
       " 'Thursday style! 😉 https://t.co/OlNhOit0vh',\n",
       " '“El éxito en la vida no se mide por lo que logras, sino por los obstáculos que superas” 😉💪🏽 https://t.co/XCdeSqFv9Y',\n",
       " '“Não deixes aquilo que não podes fazer atrapalhar o que podes fazer”😉 https://t.co/yN9rQhmEgE',\n",
       " 'Unidos dentro e fora do campo! 🇵🇹👏🏽👊🏽 #todosportugal https://t.co/4bQSUIPm2m',\n",
       " 'This World Mental Health Day let’s get stronger together.\\nJoin me in showing your support.\\n\\xa0\\nCheck out @clearhair f… https://t.co/pzqkfJ21FZ',\n",
       " 'Obrigado @nikefootball These boots are beautiful and I cannot wait to wear them for my next @selecaoportugal match… https://t.co/ckpf22NLr2',\n",
       " 'Excelente trabalho equipa!👏🏽\\nContinuar a trabalhar com a mesma atitude e ambição para conseguirmos o nosso objetivo… https://t.co/GyCIZINlPJ',\n",
       " 'É sempre um sentimento especial representar o nosso país!🇵🇹👏🏽💪🏽\\n#todosportugal https://t.co/yTYT5CKZtK',\n",
       " 'Be bold. Be brave. Be confident.\\nNever let your anxiety hold you back. \\nWhat about you? Retweet and share three tra… https://t.co/uVJfveY4CA',\n",
       " 'Determination. Drive. Nutrition ⚽️ Behind my performance is #HerbalifeNutrition\\n@Herbalife24  #CR7Drive https://t.co/gg88XkYwk3',\n",
       " 'Not the result we wanted, but with this colective spirit we will be stronger than ever! 💪🏼👊🏼 #finoallafine https://t.co/AIlriKt6gS',\n",
       " 'Reading time! 📖 \\nLiving and learning! 😉👏🏼 https://t.co/okI9YlSuug',\n",
       " 'A good recovery is the key! 💪🏽 https://t.co/016HyjboV6',\n",
       " \"It's always good to start the season with a win!✌🏼💪🏼\\nWell done team👏🏼 #finoallafine #forzajuve https://t.co/mRzd6ndAsO\",\n",
       " 'The new season is coming! 😀💪🏼\\nAre you ready? 👊🏼\\n#finoallafine #forzajuve https://t.co/5mOhnXtDaA',\n",
       " 'Safe, amazingly beautiful and incredibly stunning, for me Madeira is already the best Island. Vote for Madeira Isla… https://t.co/rBy7zRKvwT',\n",
       " 'What a beautiful 🌅🙏 https://t.co/GvOCmoBKjt',\n",
       " 'Good feelings! ⚽️💪🏼 https://t.co/VINI7alcGE',\n",
       " 'Family Time is the best🤩🙏❤️ https://t.co/LDStmnvOuM',\n",
       " 'New season. New challenge. \\nBuild your resilience with @Clear.haircare\\n#ComeBackStronger #KeepAClearHead #ClearMen https://t.co/fwwo4WgsvF',\n",
       " 'What a beautiful way to reach my goal 100! 🇵🇹⚽️👏🏼 https://t.co/LzAGszcNlf',\n",
       " 'Obrigado a todos os meus colegas, treinadores e staff da seleção que me ajudaram a atingir esta marca histórica. 🇵🇹… https://t.co/u6G009objc',\n",
       " 'Preparados para amanhã!🇵🇹💪🏼 https://t.co/9iQQmJbXdc',\n",
       " 'Together we are the future of football. #YouCantStopUs. Can’t wait to lead my country in the new @nikefootball… https://t.co/lpbGBUfJzq',\n",
       " 'We touch our hair 96 times a day on average, transferring bacteria, dirt and grease from our hands unknowingly. I u… https://t.co/VzaNhEWXFr',\n",
       " 'Happy to share these beautiful moments with you! 👩\\u200d❤️\\u200d👨😘 https://t.co/8P2GJcFihf',\n",
       " 'On board🛥😉 https://t.co/IhvlsFdGep',\n",
       " 'The beautiful competition is back! 💪🏼 \\n#UCL #finoallafine #forzajuve https://t.co/mSiPVEDpT5',\n",
       " 'Feeling loved ❤️😘 https://t.co/pIBtQtcAcz',\n",
       " 'Team work 🤜🏼🤛🏼 https://t.co/zQbWoqjLHq',\n",
       " 'Staying healthy and hygienic is important. \\nDon’t forget keep your hair, scalp &amp; body clean daily. \\n@CLEARIndonesia… https://t.co/dhteHYFikr',\n",
       " 'I’m ready to chase the sun with my brand new Eyewear Collection!\\nSee all about my partnership with… https://t.co/hHLNSgFGri',\n",
       " 'A very important victory! We’re almost there guys! Let’s go 💪🏼💪🏼 #FinoAllaFine #forzajuve https://t.co/thSo8N5PgN',\n",
       " 'Good nutrition is at the core of my success. What’s yours? #HerbalifeNutrition https://t.co/dMX4d7dQOY',\n",
       " 'Make your dreams come true always with special company! 😀❤️🙏 https://t.co/iVCI0WMkJ9',\n",
       " 'Relaxing and lovely moments 🌊☀️💙 https://t.co/7zz1yszNJP',\n",
       " 'A difficult game but a very important point. Keep on fighting until the end 💪🏼 #FinoAllaFine https://t.co/UfB0HwgFxt',\n",
       " 'Faz hoje 4 anos que vivemos um dia histórico e único para todos nós! Para mim foi sem dúvida o título mais importan… https://t.co/1pLvAeGs1N',\n",
       " 'Recharge 🔋☀️😉💪🏼 https://t.co/0lgeJdbsBL',\n",
       " 'I love this feeling 😉💪🏼 https://t.co/Aj6uHZfUjF',\n",
       " 'Grande vittoria! Abbiamo bisogno di questo spirito... FINO ALLA FINE 💪🏼👏🏼 https://t.co/WyhD4JnVDF',\n",
       " 'What do you think about my look like my brother Panita ?! 🤔🤪 https://t.co/OUpYQApFfT',\n",
       " 'Starting the weekend with a good vibe and a good style🤪 https://t.co/EXHMtk25UT',\n",
       " 'Vittoria importante! Grandi ragazzi! 👏🏼💪🏼 #finoallafine https://t.co/k4JMrV4pt4',\n",
       " 'Enjoying this beautiful sunset 😃👌🏻🌅 #torino https://t.co/TjPlusRJiX',\n",
       " 'Never give up, always focused on the next step...All together 💪🏼 #finoallafine https://t.co/uBITkFZaar',\n",
       " 'Nem quero acreditar que o meu menino já tem 10 anos! Como o tempo passou... e desde sempre foste motivo de orgulho… https://t.co/ltJLbTyHN8',\n",
       " 'Get some Vitamin D ☀️ https://t.co/Y86OHwZj3b',\n",
       " \"Wherever you are, we'll always be together 💪🏼#FinoAllaFine #ForzaJuve https://t.co/BQPJ5fRcMD\",\n",
       " 'Have a nice day 😉👌🏻 #thursdaystyle https://t.co/HC21fCptQI',\n",
       " 'Monday motivation!💪🏻 The Competition is coming ⚽️😀 https://t.co/mdVq45pz8s',\n",
       " 'Let’s rise to the challenge. What are you doing to #ComeBackStronger? Take part in the #ClearResilienceChallenge at… https://t.co/LHMAVdCQca',\n",
       " 'Happy Birthday to my two sweeties Eva and Mateo! 👧🏻🎉👶🏻🎉 We love you to the end of the world💕🙏 #prouddad https://t.co/0YnvN2QxNy',\n",
       " 'I fall in love every time I see these two😍🙌👨\\u200d👧\\u200d👧 #dadysgirls https://t.co/0rPaSsAhnh',\n",
       " 'Family Bike Ride 🚴🏼👌🏼❤️ https://t.co/mYrnDpEChQ',\n",
       " 'Approved ? 🤔 https://t.co/FsWDUuMGx4',\n",
       " 'Work hard play hard 💪🏼 https://t.co/lsRIikp7Jg',\n",
       " 'When we become patient and consistent, we find the way to get through the difficulties ⚽️💪🏻\\n#backontrack… https://t.co/2yzFWjr6CK',\n",
       " 'Our health is the most important thing we have 👍 How are you practicing good #fitness and #nutrition habits?… https://t.co/yXt0gDBRIY',\n",
       " 'Home workout with EMS training gear SIXPAD. Stay Fit and Stay Positive!\\n@sixpadeurope\\nhttps://t.co/a1KWPXzoxe… https://t.co/YsEKhPNtEd',\n",
       " 'Well done my friend! 🙌🏽 https://t.co/XqTFitr5tI',\n",
       " 'The greatest love... 🙏🏼❤️ https://t.co/ffSjOVHJDC',\n",
       " 'We’ll be back 💙🙏 #family #madeiraisland https://t.co/Gm1ifjnkfi',\n",
       " 'Today is day 1 of Clear’s 14 day resilience challenge to #ComeBackStronger. Follow @HaircareClear over the next two… https://t.co/6HZodlzVmi',\n",
       " 'These are challenging times. Let’s make sure we stay on top of our game so we can all #comebackstronger. Be part of… https://t.co/R37XGgzxhm',\n",
       " 'Morning workout with a cycling session....these wheels are on fire 🔥 😂💪🏼 https://t.co/lcHnUbGQ8m',\n",
       " 'Keep strong guys! Lets go! 💪🏼🏋🏽\\u200d♂️ #stayactive https://t.co/XFsHlXiJqm',\n",
       " 'Workout to improve mind and body 🚴🏻💪🏻#stayactive https://t.co/89cXZn3WoB',\n",
       " 'The best way to start the day 🙏❤️ https://t.co/iQd99vAGbR',\n",
       " 'Like father like son 😂👨\\u200d👦❤️ #siiiimmmmm https://t.co/7Tmmno0tO7',\n",
       " \"Always challenge yourself! 👌For me it's time to study 🤓 https://t.co/n2ZIUhGa5d\",\n",
       " 'We wish a Happy Easter to everyone 🌍❤️🙏\\n#stayhome https://t.co/DZsSKqYWeb',\n",
       " 'Another week of playing inside and staying active. Thanks to everyone for trying to beat me 😉 maybe next time! Over… https://t.co/HCX4e8fsAR',\n",
       " 'In this very difficult moment for our world it is important we unite and support each other. Let’s all do what we c… https://t.co/74Bpj1hEx8',\n",
       " 'Stay home and keep stylish 💇🏽\\u200d♂️👩\\u200d❤️\\u200d💋\\u200d👨 #stayhomestaysafe https://t.co/SkPiUwzCxn',\n",
       " 'Breathe in, breathe out.🧘\\u200d♂️ Stay active🏃🏻\\u200d♂️ #stayhomesavelives https://t.co/ElschZvXdQ',\n",
       " 'In this difficult moment for the whole world, let’s be thankful for the things that matter - our health, our family… https://t.co/0kq3gDAW6I',\n",
       " 'If you ever dreamed of playing for millions around the world, now is your chance. Play inside, play for the world.… https://t.co/8E4pOX2BMg',\n",
       " 'Hi guys, just a little message and reminder of the steps we must all follow to protect ourselves and our loved ones… https://t.co/u3PXmgnZEI',\n",
       " 'For information: https://t.co/rbDpMTcs6s https://t.co/jWzDZX0GJK',\n",
       " 'So proud to reach 1000 official games in my career with a very important victory that put us on the top of the tabl… https://t.co/0KmVFS0RUP',\n",
       " 'Thank you for all your messages of support for my mum. She is currently stable and recovering in hospital. Me and m… https://t.co/GQDHGLFJOB',\n",
       " 'Stay focused on your goals 💪 https://t.co/UNuGkAAUXm',\n",
       " 'Always on my mind... see you tomorrow 💪#UCL #forzajuve https://t.co/jXSbJoDCMP',\n",
       " '3 more important points!💪🏽\\nNow let’s focus on UCL game!\\n#finoallafine #forzajuve https://t.co/AzGNpKte4r',\n",
       " 'My new Mercurial Dream Speed is here and they make me feel like I can move at the speed of light ⚡\\nSo excited to se… https://t.co/eWziv3X7Rf',\n",
       " 'Ice recovery 🧊 💪 https://t.co/6lq1FjrmA6',\n",
       " 'Family’s lunch ❤️ https://t.co/9r7zgwiGey',\n",
       " 'No excuses 🤷🏽\\u200d♂️💪 https://t.co/QNjMQDvfd4',\n",
       " 'Good to get back to victories and happy to score again in our stadium!⚽⚽\\nProud to reach 50 goals with the bianconer… https://t.co/fKJMw4Ytnc',\n",
       " 'The games start to win during the week 💪🏻👊🏻#focus #hardwork #finoallafine https://t.co/ur4oTx3HO7',\n",
       " 'Felicidades mi amor! Te deseo un día muy lindo! Eres una gran mujer y una excelente madre para nuestros hijos. Te q… https://t.co/6h2A0ocJ3F',\n",
       " 'So sad to hear the heartbreaking news of the deaths of Kobe and his daughter Gianna. Kobe was a true legend and ins… https://t.co/jNbwYwupj6',\n",
       " 'Charging...🔋💪🏻 https://t.co/B69bLtvJTi',\n",
       " 'Happy to score again today!\\n⚽️⚽\\n3 important points!💪🏽\\n#finoallafine #forzajuve https://t.co/A5nGY4FLOJ',\n",
       " '👀 https://t.co/MRxEXFuthE']"
      ]
     },
     "execution_count": 66,
     "metadata": {},
     "output_type": "execute_result"
    }
   ],
   "source": [
    "user_texts"
   ]
  },
  {
   "cell_type": "markdown",
   "metadata": {},
   "source": [
    "### Vectoriser with User Tweets\n",
    "\n",
    "Same as before, we can try vectorising Cristiano Ronaldo's tweets using Count Vectoriser, TF-IDF Vectoriser, and visualising through Word Cloud. "
   ]
  },
  {
   "cell_type": "markdown",
   "metadata": {},
   "source": [
    "#### Count Vectoriser"
   ]
  },
  {
   "cell_type": "code",
   "execution_count": 67,
   "metadata": {},
   "outputs": [
    {
     "name": "stdout",
     "output_type": "stream",
     "text": [
      "['016hyjbov6', '0kmvfs0rup', '0kq3gdaw6i', '0lgejdbsbl', '0rpassahnh', '0ynvn2qxny', '10', '100', '1000', '14', '1plvaegs1n', '2yzfwjr6ck', '4bqsuipm2m', '50', '5mohnxtdaa', '6h2a0ocj3f', '6hzodlzvmi', '6lq1fjrma6', '74bpj1hex8', '7tmmno0to7', '7zz1ysznjp', '89cxzn3wob', '8e4pox2bmg', '8p2gjcfihf', '96', '9iqqmjbxdc', '9r7zgwigey', 'a1kwpxzoxe', 'a5ngy4floj', 'abbiamo', 'about', 'acreditar', 'active', 'again', 'ailrikt6gs', 'aj6uhzfujf', 'ajudaram', 'all', 'alla', 'almost', 'already', 'always', 'amanhã', 'amazingly', 'ambição', 'amor', 'amp', 'and', 'anos', 'another', 'anxiety', 'approved', 'aquilo', 'are', 'around', 'at', 'atingir', 'atitude', 'atrapalhar', 'average', 'azgnpkte4r', 'b69bltvjti', 'back', 'backontrack', 'bacteria', 'be', 'beat', 'beautiful', 'become', 'behind', 'best', 'bianconer', 'bike', 'birthday', 'bisogno', 'board', 'body', 'bold', 'boots', 'bqpj5frcmd', 'brand', 'brave', 'breathe', 'brother', 'build', 'but', 'campo', 'can', 'cannot', 'career', 'challenge', 'challenging', 'chance', 'charging', 'chase', 'check', 'ckpf22nlr2', 'clean', 'clear', 'clearhair', 'clearindonesia', 'clearmen', 'clearresiliencechallenge', 'co', 'colective', 'colegas', 'collection', 'com', 'come', 'comebackstronger', 'coming', 'como', 'company', 'competition', 'confidence', 'confident', 'conseguirmos', 'consistent', 'continuar', 'core', 'country', 'cr7drive', 'currently', 'cycling', 'da', 'dadysgirls', 'daily', 'daughter', 'day', 'de', 'deaths', 'deixes', 'dentro', 'desde', 'deseo', 'determination', 'dhtehyfikr', 'di', 'dia', 'difficult', 'difficulties', 'dirt', 'dmx4d7dqoy', 'do', 'doing', 'don', 'done', 'dream', 'dreamed', 'dreams', 'drive', 'during', 'dzsskqyweb', 'día', 'dúvida', 'each', 'easter', 'el', 'elschzvxdq', 'ems', 'en', 'end', 'enjoying', 'equipa', 'eres', 'especial', 'esta', 'eva', 'ever', 'every', 'everyone', 'ewziv3x7rf', 'excelente', 'excited', 'excuses', 'exhmtk25ut', 'eyewear', 'fall', 'family', 'father', 'faz', 'fazer', 'feel', 'feeling', 'feelings', 'felicidades', 'felling', 'ffsjovhjdc', 'fighting', 'find', 'fine', 'fino', 'finoallafine', 'fire', 'fit', 'fitness', 'fkjmw4ytnc', 'focus', 'focused', 'foi', 'follow', 'football', 'for', 'fora', 'forget', 'forza', 'forzajuve', 'foste', 'friend', 'from', 'fswduumgx4', 'future', 'fwwo4wgsvf', 'game', 'games', 'gear', 'get', 'gg88xkywk3', 'gianna', 'give', 'gm1ifjnkfi', 'go', 'goal', 'goals', 'good', 'gqdhglfjob', 'gran', 'grande', 'grandi', 'grease', 'greatest', 'guys', 'gvocmobkjt', 'gycizinlpj', 'habits', 'hair', 'haircare', 'haircareclear', 'hands', 'happy', 'hard', 'hardwork', 'have', 'hc21fcptqi', 'hcx4e8fsar', 'health', 'healthy', 'hear', 'heartbreaking', 'herbalife24', 'herbalifenutrition', 'here', 'hhlnsgfgri', 'hi', 'hijos', 'his', 'histórica', 'histórico', 'hoje', 'hold', 'home', 'hospital', 'how', 'https', 'hygienic', 'ice', 'if', 'ihvlsfdgep', 'importan', 'important', 'importante', 'improve', 'in', 'incredibly', 'information', 'ins', 'inside', 'insieme', 'iqd99vagbr', 'is', 'isla', 'island', 'it', 'ivci0wmkj9', 'jnbwywupj6', 'join', 'just', 'juve', 'jwzdzx0gjk', 'jxsbjodcmp', 'já', 'k4jmrv4pt4', 'keep', 'keepaclearhead', 'key', 'kobe', 'kwwodf5e6n', 'la', 'lchnubgq8m', 'ldstmnvoum', 'lead', 'learning', 'legend', 'let', 'lets', 'lhmavdcqca', 'light', 'like', 'lindo', 'little', 'living', 'll', 'lo', 'logras', 'look', 'los', 'love', 'loved', 'lovely', 'lpbgbufjzq', 'lro2ov68nw', 'lsriikp7jg', 'ltjlbtyhn8', 'lunch', 'lzagszcnlf', 'madeira', 'madeiraisland', 'madre', 'mais', 'make', 'marca', 'match', 'mateo', 'matter', 'maybe', 'mdvq45pz8s', 'me', 'menino', 'mental', 'mercurial', 'mesma', 'message', 'messages', 'meu', 'meus', 'mi', 'mide', 'millions', 'mim', 'mind', 'moment', 'moments', 'monday', 'more', 'morning', 'most', 'motivation', 'motivo', 'move', 'mrxexfuthe', 'mrzd6ndaso', 'msipvedpt5', 'mujer', 'mum', 'must', 'muy', 'my', 'myrndpechq', 'n2ziuhga5d', 'n3etajextp', 'nem', 'never', 'new', 'news', 'next', 'nice', 'nikefootball', 'no', 'nosso', 'not', 'now', 'nuestros', 'nutrition', 'não', 'nós', 'objetivo', 'obrigado', 'obstáculos', 'of', 'official', 'oki9ylsuug', 'olnhoit0vh', 'on', 'ones', 'orgulho', 'os', 'other', 'oupyqapfft', 'our', 'ourselves', 'out', 'over', 'panita', 'para', 'part', 'partnership', 'passou', 'patient', 'país', 'performance', 'pibtqtcacz', 'play', 'playing', 'podes', 'point', 'points', 'por', 'positive', 'practicing', 'preparados', 'protect', 'proud', 'prouddad', 'put', 'pwubosxneh', 'pzqkfj21fz', 'qnjmqdvfd4', 'que', 'quero', 'questo', 'r37xggzxhm', 'ragazzi', 'rbdpmtcs6s', 'rby7zrkvwt', 're', 'reach', 'reading', 'ready', 'recharge', 'recovering', 'recovery', 'relaxing', 'reminder', 'representar', 'resilience', 'result', 'retweet', 'ride', 'rise', 'sad', 'safe', 'scalp', 'score', 'se', 'season', 'see', 'selecaoportugal', 'seleção', 'sem', 'sempre', 'sentimento', 'session', 'share', 'she', 'showing', 'siiiiiiiiiii', 'siiiimmmmm', 'sino', 'sixpad', 'sixpadeurope', 'skpiuwzcxn', 'so', 'some', 'son', 'special', 'speed', 'spirit', 'spirito', 'stable', 'stadium', 'staff', 'start', 'starting', 'stay', 'stayactive', 'stayhome', 'stayhomesavelives', 'stayhomestaysafe', 'staying', 'step', 'steps', 'strong', 'stronger', 'study', 'stunning', 'style', 'stylish', 'success', 'sun', 'sunset', 'superas', 'support', 'sure', 'sweeties', 'tabl', 'take', 'talks', 'te', 'team', 'tem', 'tempo', 'than', 'thank', 'thankful', 'thanks', 'that', 'the', 'them', 'there', 'these', 'they', 'thing', 'things', 'think', 'this', 'three', 'through', 'thso8n5pgn', 'thursday', 'thursdaystyle', 'time', 'times', 'tjplusrjix', 'to', 'today', 'todos', 'todosportugal', 'together', 'tomorrow', 'top', 'torino', 'touch', 'tra', 'trabalhar', 'trabalho', 'training', 'transferring', 'treinadores', 'true', 'trying', 'tutti', 'two', 'título', 'u3pxmgnzei', 'u6g009objc', 'ubitkfzaar', 'ucl', 'ufb0hwgfxt', 'um', 'un', 'una', 'unidos', 'unite', 'unknowingly', 'until', 'unugkaauxm', 'up', 'ur4otx3ho7', 'us', 'uvjfvey4ca', 'very', 'vibe', 'victories', 'victory', 'vida', 'vini7alcge', 'vitamin', 'vittoria', 'vivemos', 'vote', 'vzanhewxfr', 'wait', 'wanted', 'was', 'way', 'we', 'wear', 'week', 'weekend', 'well', 'what', 'wheels', 'when', 'wherever', 'whole', 'will', 'win', 'wish', 'with', 'work', 'workout', 'world', 'wyhd4jnvdf', 'xcdesqfv9y', 'xfshlxijqm', 'xqtfitr5ti', 'y86ohwzj3b', 'yn9rqhmege', 'you', 'youcantstopus', 'your', 'yours', 'yourself', 'ysekhpnted', 'ytyt5ckztk', 'yxt0gdbriy', 'zqbwoqjlhq', 'éxito', 'único']\n"
     ]
    }
   ],
   "source": [
    "vectorizer = CountVectorizer()\n",
    "x = vectorizer.fit_transform(user_texts)\n",
    "print(vectorizer.get_feature_names())"
   ]
  },
  {
   "cell_type": "code",
   "execution_count": 68,
   "metadata": {},
   "outputs": [
    {
     "name": "stdout",
     "output_type": "stream",
     "text": [
      "[[0 0 0 ... 0 0 0]\n",
      " [0 0 0 ... 0 0 0]\n",
      " [0 0 0 ... 0 0 0]\n",
      " ...\n",
      " [0 0 0 ... 0 0 0]\n",
      " [0 0 0 ... 0 0 0]\n",
      " [0 0 0 ... 0 0 0]]\n"
     ]
    }
   ],
   "source": [
    "print(x.toarray())"
   ]
  },
  {
   "cell_type": "markdown",
   "metadata": {},
   "source": [
    "#### TF-IDF Vectoriser"
   ]
  },
  {
   "cell_type": "code",
   "execution_count": 69,
   "metadata": {},
   "outputs": [
    {
     "name": "stdout",
     "output_type": "stream",
     "text": [
      "{'forza': 205, 'ragazzi': 431, 'tutti': 550, 'insieme': 277, 'fino': 191, 'alla': 38, 'fine': 190, 'https': 263, 'co': 103, 'n3etajextp': 369, 'felling': 186, 'good': 224, 'and': 47, 'healthy': 246, 'juve': 287, 'finoallafine': 192, 'pwubosxneh': 424, 'siiiiiiiiiii': 465, 'kwwodf5e6n': 296, 'let': 303, 'your': 610, 'confidence': 114, 'talks': 506, 'lro2ov68nw': 320, 'thursday': 528, 'style': 495, 'olnhoit0vh': 391, 'el': 157, 'éxito': 617, 'en': 160, 'la': 297, 'vida': 574, 'no': 377, 'se': 453, 'mide': 346, 'por': 416, 'lo': 312, 'que': 427, 'logras': 313, 'sino': 467, 'los': 315, 'obstáculos': 387, 'superas': 500, 'xcdesqfv9y': 603, 'não': 383, 'deixes': 131, 'aquilo': 52, 'podes': 413, 'fazer': 181, 'atrapalhar': 58, 'yn9rqhmege': 607, 'unidos': 561, 'dentro': 132, 'fora': 203, 'do': 143, 'campo': 86, 'todosportugal': 536, '4bqsuipm2m': 12, 'this': 524, 'world': 601, 'mental': 338, 'health': 245, 'day': 128, 'get': 216, 'stronger': 492, 'together': 537, 'join': 285, 'me': 336, 'in': 272, 'showing': 464, 'support': 501, 'check': 95, 'out': 400, 'clearhair': 99, 'pzqkfj21fz': 425, 'obrigado': 386, 'nikefootball': 376, 'these': 519, 'boots': 78, 'are': 53, 'beautiful': 67, 'cannot': 88, 'wait': 581, 'to': 533, 'wear': 586, 'them': 517, 'for': 202, 'my': 366, 'next': 374, 'selecaoportugal': 456, 'match': 331, 'ckpf22nlr2': 96, 'excelente': 172, 'trabalho': 544, 'equipa': 163, 'continuar': 118, 'trabalhar': 543, 'com': 107, 'mesma': 340, 'atitude': 57, 'ambição': 44, 'para': 403, 'conseguirmos': 116, 'nosso': 378, 'objetivo': 385, 'gycizinlpj': 233, 'sempre': 459, 'um': 558, 'sentimento': 460, 'especial': 165, 'representar': 443, 'país': 408, 'ytyt5ckztk': 614, 'be': 65, 'bold': 77, 'brave': 81, 'confident': 115, 'never': 371, 'anxiety': 50, 'hold': 259, 'you': 608, 'back': 62, 'what': 590, 'about': 30, 'retweet': 446, 'share': 462, 'three': 525, 'tra': 542, 'uvjfvey4ca': 569, 'determination': 135, 'drive': 150, 'nutrition': 382, 'behind': 69, 'performance': 409, 'is': 279, 'herbalifenutrition': 250, 'herbalife24': 249, 'cr7drive': 121, 'gg88xkywk3': 217, 'not': 379, 'the': 516, 'result': 445, 'we': 585, 'wanted': 582, 'but': 85, 'with': 598, 'colective': 104, 'spirit': 476, 'will': 595, 'than': 511, 'ever': 168, 'ailrikt6gs': 34, 'reading': 436, 'time': 530, 'living': 310, 'learning': 301, 'oki9ylsuug': 390, 'recovery': 440, 'key': 294, '016hyjbov6': 0, 'it': 282, 'always': 41, 'start': 481, 'season': 454, 'win': 596, 'well': 589, 'done': 146, 'team': 508, 'forzajuve': 206, 'mrzd6ndaso': 360, 'new': 372, 'coming': 110, 'ready': 437, '5mohnxtdaa': 14, 'safe': 450, 'amazingly': 43, 'incredibly': 273, 'stunning': 494, 'madeira': 325, 'already': 40, 'best': 70, 'island': 281, 'vote': 579, 'isla': 280, 'rby7zrkvwt': 433, 'gvocmobkjt': 232, 'feelings': 184, 'vini7alcge': 575, 'family': 178, 'ldstmnvoum': 299, 'challenge': 90, 'build': 84, 'resilience': 444, 'clear': 98, 'haircare': 236, 'comebackstronger': 109, 'keepaclearhead': 293, 'clearmen': 101, 'fwwo4wgsvf': 212, 'way': 584, 'reach': 435, 'goal': 222, '100': 7, 'lzagszcnlf': 324, 'todos': 535, 'os': 395, 'meus': 344, 'colegas': 105, 'treinadores': 547, 'staff': 480, 'da': 124, 'seleção': 457, 'ajudaram': 36, 'atingir': 56, 'esta': 166, 'marca': 330, 'histórica': 256, 'u6g009objc': 554, 'preparados': 419, 'amanhã': 42, '9iqqmjbxdc': 25, 'future': 211, 'of': 388, 'football': 201, 'youcantstopus': 609, 'can': 87, 'lead': 300, 'country': 120, 'lpbgbufjzq': 319, 'touch': 541, 'our': 398, 'hair': 235, '96': 24, 'times': 531, 'on': 392, 'average': 59, 'transferring': 546, 'bacteria': 64, 'dirt': 141, 'grease': 229, 'from': 209, 'hands': 238, 'unknowingly': 563, 'vzanhewxfr': 580, 'happy': 239, 'moments': 351, '8p2gjcfihf': 23, 'board': 75, 'ihvlsfdgep': 267, 'competition': 113, 'ucl': 556, 'msipvedpt5': 361, 'feeling': 183, 'loved': 317, 'pibtqtcacz': 410, 'work': 599, 'zqbwoqjlhq': 616, 'staying': 488, 'hygienic': 264, 'important': 269, 'don': 145, 'forget': 204, 'keep': 292, 'scalp': 451, 'amp': 46, 'body': 76, 'clean': 97, 'daily': 126, 'clearindonesia': 100, 'dhtehyfikr': 136, 'chase': 94, 'sun': 498, 'brand': 80, 'eyewear': 176, 'collection': 106, 'see': 455, 'all': 37, 'partnership': 405, 'hhlnsgfgri': 252, 'very': 570, 'victory': 573, 're': 434, 'almost': 39, 'there': 518, 'guys': 231, 'go': 221, 'thso8n5pgn': 527, 'at': 55, 'core': 119, 'success': 497, 'yours': 611, 'dmx4d7dqoy': 142, 'make': 329, 'dreams': 149, 'come': 108, 'true': 548, 'special': 474, 'company': 112, 'ivci0wmkj9': 283, 'relaxing': 441, 'lovely': 318, '7zz1ysznjp': 20, 'difficult': 139, 'game': 213, 'point': 414, 'fighting': 188, 'until': 564, 'end': 161, 'ufb0hwgfxt': 557, 'faz': 180, 'hoje': 258, 'anos': 48, 'vivemos': 578, 'dia': 138, 'histórico': 257, 'único': 618, 'nós': 384, 'mim': 348, 'foi': 199, 'sem': 458, 'dúvida': 154, 'título': 552, 'mais': 328, 'importan': 268, '1plvaegs1n': 10, 'recharge': 438, '0lgejdbsbl': 3, 'love': 316, 'aj6uhzfujf': 35, 'grande': 227, 'vittoria': 577, 'abbiamo': 29, 'bisogno': 74, 'di': 137, 'questo': 429, 'spirito': 477, 'wyhd4jnvdf': 602, 'think': 523, 'look': 314, 'like': 307, 'brother': 83, 'panita': 402, 'oupyqapfft': 397, 'starting': 482, 'weekend': 588, 'vibe': 571, 'exhmtk25ut': 175, 'importante': 270, 'grandi': 228, 'k4jmrv4pt4': 291, 'enjoying': 162, 'sunset': 499, 'torino': 540, 'tjplusrjix': 532, 'give': 219, 'up': 566, 'focused': 198, 'step': 489, 'ubitkfzaar': 555, 'nem': 370, 'quero': 428, 'acreditar': 31, 'meu': 343, 'menino': 337, 'já': 290, 'tem': 509, '10': 6, 'como': 111, 'tempo': 510, 'passou': 406, 'desde': 133, 'foste': 207, 'motivo': 357, 'de': 129, 'orgulho': 394, 'ltjlbtyhn8': 322, 'some': 472, 'vitamin': 576, 'y86ohwzj3b': 606, 'wherever': 593, 'll': 311, 'bqpj5frcmd': 79, 'have': 242, 'nice': 375, 'thursdaystyle': 529, 'hc21fcptqi': 243, 'monday': 352, 'motivation': 356, 'mdvq45pz8s': 335, 'rise': 448, 'doing': 144, 'take': 505, 'part': 404, 'clearresiliencechallenge': 102, 'lhmavdcqca': 305, 'birthday': 73, 'two': 551, 'sweeties': 503, 'eva': 167, 'mateo': 332, 'prouddad': 422, '0ynvn2qxny': 5, 'fall': 177, 'every': 169, 'dadysgirls': 125, '0rpassahnh': 4, 'bike': 72, 'ride': 447, 'myrndpechq': 367, 'approved': 51, 'fswduumgx4': 210, 'hard': 240, 'play': 411, 'lsriikp7jg': 321, 'when': 592, 'become': 68, 'patient': 407, 'consistent': 117, 'find': 189, 'through': 526, 'difficulties': 140, 'backontrack': 63, '2yzfwjr6ck': 11, 'most': 355, 'thing': 521, 'how': 262, 'practicing': 418, 'fitness': 195, 'habits': 234, 'yxt0gdbriy': 615, 'home': 260, 'workout': 600, 'ems': 159, 'training': 545, 'gear': 215, 'sixpad': 468, 'stay': 483, 'fit': 194, 'positive': 417, 'sixpadeurope': 469, 'a1kwpxzoxe': 27, 'ysekhpnted': 613, 'friend': 208, 'xqtfitr5ti': 605, 'greatest': 230, 'ffsjovhjdc': 187, 'madeiraisland': 326, 'gm1ifjnkfi': 220, 'today': 534, '14': 9, 'follow': 200, 'haircareclear': 237, 'over': 401, '6hzodlzvmi': 16, 'challenging': 91, 'sure': 502, 'top': 539, 'so': 471, 'r37xggzxhm': 430, 'morning': 354, 'cycling': 123, 'session': 461, 'wheels': 591, 'fire': 193, 'lchnubgq8m': 298, 'strong': 491, 'lets': 304, 'stayactive': 484, 'xfshlxijqm': 604, 'improve': 271, 'mind': 349, '89cxzn3wob': 21, 'iqd99vagbr': 278, 'father': 179, 'son': 473, 'siiiimmmmm': 466, '7tmmno0to7': 19, 'yourself': 612, 'study': 493, 'n2ziuhga5d': 368, 'wish': 597, 'easter': 156, 'everyone': 170, 'stayhome': 485, 'dzsskqyweb': 152, 'another': 49, 'week': 587, 'playing': 412, 'inside': 276, 'active': 32, 'thanks': 514, 'trying': 549, 'beat': 66, 'maybe': 334, 'hcx4e8fsar': 244, 'moment': 350, 'unite': 562, 'each': 155, 'other': 396, '74bpj1hex8': 18, 'stylish': 496, 'stayhomestaysafe': 487, 'skpiuwzcxn': 470, 'breathe': 82, 'stayhomesavelives': 486, 'elschzvxdq': 158, 'whole': 594, 'thankful': 513, 'things': 522, 'that': 515, 'matter': 333, '0kq3gdaw6i': 2, 'if': 266, 'dreamed': 148, 'millions': 347, 'around': 54, 'now': 380, 'chance': 92, '8e4pox2bmg': 22, 'hi': 253, 'just': 286, 'little': 309, 'message': 341, 'reminder': 442, 'steps': 490, 'must': 364, 'protect': 420, 'ourselves': 399, 'ones': 393, 'u3pxmgnzei': 553, 'information': 274, 'rbdpmtcs6s': 432, 'jwzdzx0gjk': 288, 'proud': 421, '1000': 8, 'official': 389, 'games': 214, 'career': 89, 'put': 423, 'us': 568, 'tabl': 504, '0kmvfs0rup': 1, 'thank': 512, 'messages': 342, 'mum': 363, 'she': 463, 'currently': 122, 'stable': 478, 'recovering': 439, 'hospital': 261, 'gqdhglfjob': 225, 'goals': 223, 'unugkaauxm': 565, 'tomorrow': 538, 'jxsbjodcmp': 289, 'more': 353, 'points': 415, 'focus': 197, 'azgnpkte4r': 60, 'mercurial': 339, 'dream': 147, 'speed': 475, 'here': 251, 'they': 520, 'feel': 182, 'move': 358, 'light': 306, 'excited': 173, 'ewziv3x7rf': 171, 'ice': 265, '6lq1fjrma6': 17, 'lunch': 323, '9r7zgwigey': 26, 'excuses': 174, 'qnjmqdvfd4': 426, 'victories': 572, 'score': 452, 'again': 33, 'stadium': 479, '50': 13, 'bianconer': 71, 'fkjmw4ytnc': 196, 'during': 151, 'hardwork': 241, 'ur4otx3ho7': 567, 'felicidades': 185, 'mi': 345, 'amor': 45, 'te': 507, 'deseo': 134, 'un': 559, 'día': 153, 'muy': 365, 'lindo': 308, 'eres': 164, 'una': 560, 'gran': 226, 'mujer': 362, 'madre': 327, 'nuestros': 381, 'hijos': 254, '6h2a0ocj3f': 15, 'sad': 449, 'hear': 247, 'heartbreaking': 248, 'news': 373, 'deaths': 130, 'kobe': 295, 'his': 255, 'daughter': 127, 'gianna': 218, 'was': 583, 'legend': 302, 'ins': 275, 'jnbwywupj6': 284, 'charging': 93, 'b69bltvjti': 61, 'a5ngy4floj': 28, 'mrxexfuthe': 359}\n"
     ]
    }
   ],
   "source": [
    "vectorizer = TfidfVectorizer() \n",
    "vectorizer.fit(user_texts)\n",
    "print(vectorizer.vocabulary_)"
   ]
  },
  {
   "cell_type": "code",
   "execution_count": 70,
   "metadata": {},
   "outputs": [
    {
     "name": "stdout",
     "output_type": "stream",
     "text": [
      "(100, 619)\n"
     ]
    }
   ],
   "source": [
    "vector = vectorizer.transform(user_texts)\n",
    "print(vector.shape)"
   ]
  },
  {
   "cell_type": "markdown",
   "metadata": {},
   "source": [
    "#### Word Cloud"
   ]
  },
  {
   "cell_type": "code",
   "execution_count": 71,
   "metadata": {},
   "outputs": [],
   "source": [
    "user_combined = ', '.join(user_texts)"
   ]
  },
  {
   "cell_type": "code",
   "execution_count": 72,
   "metadata": {},
   "outputs": [
    {
     "data": {
      "image/png": "[encoded data removed]",
      "text/plain": [
       "<Figure size 432x288 with 1 Axes>"
      ]
     },
     "metadata": {
      "needs_background": "light"
     },
     "output_type": "display_data"
    }
   ],
   "source": [
    "wordcloud = WordCloud().generate(user_combined)\n",
    "\n",
    "plt.imshow(wordcloud, interpolation='bilinear')\n",
    "plt.axis('off')\n",
    "plt.show()"
   ]
  },
  {
   "cell_type": "markdown",
   "metadata": {},
   "source": [
    "Let us try to access BTS_official's Twitter account. BTS_official's Twitter ID is @bts_bighit."
   ]
  },
  {
   "cell_type": "code",
   "execution_count": 73,
   "metadata": {},
   "outputs": [
    {
     "name": "stdout",
     "output_type": "stream",
     "text": [
      "[{'id': 1409798257, 'id_str': '1409798257', 'name': 'BTS_official', 'screen_name': 'bts_bighit', 'location': '', 'description': '#방탄소년단 공식 트위터입니다\\nThis is the Official Twitter for #BTS\\n\\n#BTS_BE 2020.11.20\\n0AM EST/ 2PM KST\\n\\nPre-save \"BE\" 👉 https://t.co/a2yuFmUSo9', 'url': 'https://t.co/UKFREoHhAr', 'entities': {'url': {'urls': [{'url': 'https://t.co/UKFREoHhAr', 'expanded_url': 'http://bts.ibighit.com', 'display_url': 'bts.ibighit.com', 'indices': [0, 23]}]}, 'description': {'urls': [{'url': 'https://t.co/a2yuFmUSo9', 'expanded_url': 'https://www.bts-be.com/', 'display_url': 'bts-be.com', 'indices': [109, 132]}]}}, 'protected': False, 'followers_count': 24830016, 'friends_count': 24, 'listed_count': 33845, 'created_at': 'Tue May 07 09:13:05 +0000 2013', 'favourites_count': 16, 'utc_offset': None, 'time_zone': None, 'geo_enabled': True, 'verified': True, 'statuses_count': 8754, 'lang': None, 'status': {'created_at': 'Wed Oct 28 15:00:15 +0000 2020', 'id': 1321466819039817728, 'id_str': '1321466819039817728', 'text': 'Dear. ARMY \\n\\nI was waiting for the day we meet ARMY again and I scribbled down some things I want to ask you when w… https://t.co/kjkOjTVIdv', 'truncated': True, 'entities': {'hashtags': [], 'symbols': [], 'user_mentions': [], 'urls': [{'url': 'https://t.co/kjkOjTVIdv', 'expanded_url': 'https://twitter.com/i/web/status/1321466819039817728', 'display_url': 'twitter.com/i/web/status/1…', 'indices': [117, 140]}]}, 'source': '<a href=\"https://mobile.twitter.com\" rel=\"nofollow\">Twitter Web App</a>', 'in_reply_to_status_id': 1321466813138432000, 'in_reply_to_status_id_str': '1321466813138432000', 'in_reply_to_user_id': 1409798257, 'in_reply_to_user_id_str': '1409798257', 'in_reply_to_screen_name': 'bts_bighit', 'geo': None, 'coordinates': None, 'place': None, 'contributors': None, 'is_quote_status': False, 'retweet_count': 66046, 'favorite_count': 245280, 'favorited': False, 'retweeted': False, 'possibly_sensitive': False, 'lang': 'en'}, 'contributors_enabled': False, 'is_translator': False, 'is_translation_enabled': False, 'profile_background_color': 'F69A95', 'profile_background_image_url': 'http://abs.twimg.com/images/themes/theme11/bg.gif', 'profile_background_image_url_https': 'https://abs.twimg.com/images/themes/theme11/bg.gif', 'profile_background_tile': True, 'profile_image_url': 'http://pbs.twimg.com/profile_images/1318205976110010371/hvlZiocy_normal.jpg', 'profile_image_url_https': 'https://pbs.twimg.com/profile_images/1318205976110010371/hvlZiocy_normal.jpg', 'profile_banner_url': 'https://pbs.twimg.com/profile_banners/1409798257/1603119771', 'profile_link_color': 'F69A95', 'profile_sidebar_border_color': 'FFFFFF', 'profile_sidebar_fill_color': 'DDEEF6', 'profile_text_color': '333333', 'profile_use_background_image': False, 'has_extended_profile': False, 'default_profile': False, 'default_profile_image': False, 'following': False, 'follow_request_sent': False, 'notifications': False, 'translator_type': 'none'}]\n"
     ]
    }
   ],
   "source": [
    "account = twitter_api.users.lookup(screen_name='bts_bighit')\n",
    "print(account)"
   ]
  },
  {
   "cell_type": "code",
   "execution_count": 74,
   "metadata": {},
   "outputs": [
    {
     "data": {
      "text/plain": [
       "dict_keys(['id', 'id_str', 'name', 'screen_name', 'location', 'description', 'url', 'entities', 'protected', 'followers_count', 'friends_count', 'listed_count', 'created_at', 'favourites_count', 'utc_offset', 'time_zone', 'geo_enabled', 'verified', 'statuses_count', 'lang', 'status', 'contributors_enabled', 'is_translator', 'is_translation_enabled', 'profile_background_color', 'profile_background_image_url', 'profile_background_image_url_https', 'profile_background_tile', 'profile_image_url', 'profile_image_url_https', 'profile_banner_url', 'profile_link_color', 'profile_sidebar_border_color', 'profile_sidebar_fill_color', 'profile_text_color', 'profile_use_background_image', 'has_extended_profile', 'default_profile', 'default_profile_image', 'following', 'follow_request_sent', 'notifications', 'translator_type'])"
      ]
     },
     "execution_count": 74,
     "metadata": {},
     "output_type": "execute_result"
    }
   ],
   "source": [
    "account[0].keys()"
   ]
  },
  {
   "cell_type": "code",
   "execution_count": 75,
   "metadata": {},
   "outputs": [],
   "source": [
    "account_name = account[0]['name']\n",
    "account_description = account[0]['description']\n",
    "account_followers = account[0]['followers_count']"
   ]
  },
  {
   "cell_type": "code",
   "execution_count": 76,
   "metadata": {},
   "outputs": [
    {
     "name": "stdout",
     "output_type": "stream",
     "text": [
      "BTS_official\n",
      "#방탄소년단 공식 트위터입니다\n",
      "This is the Official Twitter for #BTS\n",
      "\n",
      "#BTS_BE 2020.11.20\n",
      "0AM EST/ 2PM KST\n",
      "\n",
      "Pre-save \"BE\" 👉 https://t.co/a2yuFmUSo9\n",
      "24830016\n"
     ]
    }
   ],
   "source": [
    "print(account_name)\n",
    "print(account_description)\n",
    "print(account_followers)"
   ]
  },
  {
   "cell_type": "code",
   "execution_count": 140,
   "metadata": {},
   "outputs": [],
   "source": [
    "user_tweets = twitter_api.statuses.user_timeline(screen_name='bts_bighit', count=100)\n",
    "#print(user_tweets)"
   ]
  },
  {
   "cell_type": "code",
   "execution_count": 78,
   "metadata": {},
   "outputs": [
    {
     "data": {
      "text/plain": [
       "100"
      ]
     },
     "execution_count": 78,
     "metadata": {},
     "output_type": "execute_result"
    }
   ],
   "source": [
    "len(user_tweets)"
   ]
  },
  {
   "cell_type": "code",
   "execution_count": 79,
   "metadata": {},
   "outputs": [
    {
     "name": "stdout",
     "output_type": "stream",
     "text": [
      "\n",
      "Dear. ARMY \n",
      "\n",
      "I was waiting for the day we meet ARMY again and I scribbled down some things I want to ask you when w… https://t.co/kjkOjTVIdv\n",
      "\n",
      "Dear. ARMY \n",
      "\n",
      "우리 아미 여러분들을 만나는 그날을 기다리며, 만나면 무엇을 물어볼까 끄적여봤어요. 여러분이 계신 곳까지 닿길 바라며, 이만 줄일게요.\n",
      "\n",
      "📮 https://t.co/YMNW9EKvkS… https://t.co/F8BGhpW67j\n",
      "\n",
      "RT @fanmakestars: [BTS POP-UP : MAP OF THE SOUL Online Store EUROPE] \n",
      "Purchasing Guide\n",
      "https://t.co/bPya1fcSAb\n",
      "\n",
      "📌Pre-sign up : 9 November 2…\n",
      "\n",
      "Dear. ARMY \n",
      "\n",
      "The weather’s gotten a lot chilly. I’m writing this because I wanted to know what ARMY’s thinking and… https://t.co/k59GW370Gh\n",
      "\n",
      "Dear. ARMY \n",
      "\n",
      "날씨가 많이 추워졌네요. 우리 아미 여러분들은 요즘 어떤 생각을 하고, 무얼 하며 지내는지 궁금해서 펜을 들었어요. 답장해 주실 거죠?\n",
      "\n",
      "📮 https://t.co/C4fW7l7u3R… https://t.co/3mr6Y0ngbJ\n",
      "\n",
      "We’re so excited to be nominated for the 2020 @AMAs! Don't miss the show, November 22nd at 8/7c on ABC! Find more i… https://t.co/tOxaidE6sk\n",
      "\n",
      "RT @bighit_merch: BTS POP-UP : MAP OF THE SOUL Showcase in SEOUL Sketch\n",
      "(https://t.co/OcTsOmi12w)\n",
      " \n",
      "#BTS_POPUP #MAP_OF_THE_SOUL\n",
      "\n",
      "[Episode] #방탄소년단 The Tonight Show 현장 비하인드 공개!\n",
      "(https://t.co/WHz2E67pOq)\n",
      "\n",
      "[#방탄밤] 갑자기 시작된 방탄이들의 🎵뮤지컬 따라 하기!🎵 주연 배우 뷔와 방탄 앙상블의 폭발적 무대~ 바로 N차 관람 각! #주연배우_뷔 #방탄_앙상블 #방탄_뮤지컬\n",
      "(https://t.co/rLNgl1DIbD)\n",
      "\n",
      "RT @morningKall: [BTS POP-UP : MAP OF THE SOUL Showcase in SINGAPORE]\n",
      "Guest Information &amp; Purchasing Guide\n",
      "https://t.co/jm2rIBAEb3\n",
      "\n",
      "Hi SING…\n"
     ]
    }
   ],
   "source": [
    "for i in range(10):\n",
    "    print()\n",
    "    print(user_tweets[i]['text'])"
   ]
  },
  {
   "cell_type": "code",
   "execution_count": 80,
   "metadata": {},
   "outputs": [
    {
     "data": {
      "text/plain": [
       "100"
      ]
     },
     "execution_count": 80,
     "metadata": {},
     "output_type": "execute_result"
    }
   ],
   "source": [
    "user_texts = [status['text'] for status in user_tweets]\n",
    "len(user_texts)"
   ]
  },
  {
   "cell_type": "code",
   "execution_count": 81,
   "metadata": {},
   "outputs": [
    {
     "data": {
      "text/plain": [
       "['Dear. ARMY \\n\\nI was waiting for the day we meet ARMY again and I scribbled down some things I want to ask you when w… https://t.co/kjkOjTVIdv',\n",
       " 'Dear. ARMY \\n\\n우리 아미 여러분들을 만나는 그날을 기다리며, 만나면 무엇을 물어볼까 끄적여봤어요. 여러분이 계신 곳까지 닿길 바라며, 이만 줄일게요.\\n\\n📮 https://t.co/YMNW9EKvkS… https://t.co/F8BGhpW67j',\n",
       " 'RT @fanmakestars: [BTS POP-UP : MAP OF THE SOUL Online Store EUROPE] \\nPurchasing Guide\\nhttps://t.co/bPya1fcSAb\\n\\n📌Pre-sign up : 9 November 2…',\n",
       " 'Dear. ARMY \\n\\nThe weather’s gotten a lot chilly. I’m writing this because I wanted to know what ARMY’s thinking and… https://t.co/k59GW370Gh',\n",
       " 'Dear. ARMY \\n\\n날씨가 많이 추워졌네요. 우리 아미 여러분들은 요즘 어떤 생각을 하고, 무얼 하며 지내는지 궁금해서 펜을 들었어요. 답장해 주실 거죠?\\n\\n📮 https://t.co/C4fW7l7u3R… https://t.co/3mr6Y0ngbJ',\n",
       " \"We’re so excited to be nominated for the 2020 @AMAs! Don't miss the show, November 22nd at 8/7c on ABC! Find more i… https://t.co/tOxaidE6sk\",\n",
       " 'RT @bighit_merch: BTS POP-UP : MAP OF THE SOUL Showcase in SEOUL Sketch\\n(https://t.co/OcTsOmi12w)\\n \\n#BTS_POPUP #MAP_OF_THE_SOUL',\n",
       " '[Episode] #방탄소년단 The Tonight Show 현장 비하인드 공개!\\n(https://t.co/WHz2E67pOq)',\n",
       " '[#방탄밤]\\xa0갑자기\\xa0시작된\\xa0방탄이들의\\xa0🎵뮤지컬\\xa0따라\\xa0하기!🎵\\xa0주연\\xa0배우\\xa0뷔와\\xa0방탄\\xa0앙상블의\\xa0폭발적\\xa0무대~\\xa0바로\\xa0N차\\xa0관람\\xa0각! #주연배우_뷔\\xa0#방탄_앙상블\\xa0#방탄_뮤지컬\\n(https://t.co/rLNgl1DIbD)',\n",
       " 'RT @morningKall: [BTS POP-UP : MAP OF THE SOUL Showcase in SINGAPORE]\\nGuest Information &amp; Purchasing Guide\\nhttps://t.co/jm2rIBAEb3\\n\\nHi SING…',\n",
       " 'RT @BTS_jp_official: #BTS POP-UP : MAP OF THE SOUL Showcase in TOKYO 運営および購入方法のご案内\\n詳細はこちら→https://t.co/u8RAKtIIzK\\n#BTS_POPUP #MAP_OF_THE_SO…',\n",
       " 'RT @morningKall: [BTS POP-UP : MAP OF THE SOUL Online Store ASIA] \\nGuest Information &amp; Purchasing Guide\\nhttps://t.co/AG3JhgT4Mg\\n\\nCountries…',\n",
       " 'RT @BTS_jp_official: #BTS POP-UP : MAP OF THE SOUL Online Store JAPAN 運営および購入方法のご案内\\n詳細はこちら→https://t.co/Yyjy4mu576\\n#BTS_POPUP #MAP_OF_THE_S…',\n",
       " '#BTS #방탄소년단 MAP OF THE SOUL ON:E Photo Sketch @(https://t.co/Ax2MYkbR3Y) https://t.co/jCmN72SYzM',\n",
       " '[Episode] #방탄소년단 &lt;62nd Annual GRAMMY Awards&gt; 현장 비하인드 공개!\\n(https://t.co/G2PmB5fyTD)',\n",
       " 'RT @bighit_merch: [BTS POP-UP : MAP OF THE SOUL Showcase in SEOUL] \\n \\n방탄소년단 팝업 쇼케이스 온라인 사전 예약 시간대 증설 안내\\nInformation on additional reservati…',\n",
       " 'RT @ColumbiaRecords: #BTS_BE @bts_bighit \\nhttps://t.co/ej7smNH44J https://t.co/4AsVo1cXCU',\n",
       " 'RT @BigHitEnt: #BTS #방탄소년단 #BTS_BE Concept Photo https://t.co/VkYbkZYEpi',\n",
       " '[#방탄밤] ‘Black Swan’ MV에\\xa0그림자 역으로\\xa0출연한\\xa0멤버는\\xa0누구일까요?\\xa0알아맞혀\\xa0보시오!\\xa0🐿🐥\\xa0\\n#그림자연기의_대가_박지민선생\\xa0#그림자댄스마스터_홉팀장\\n(https://t.co/WJ8Xb2iUMo)',\n",
       " \"RT @orchtweets: The 'Dynamite' limited edition CD single is selling out fast! Be sure to pre-order your copy today! #BTS_Dynamite https://t…\",\n",
       " \"[#방탄밤][#방밤캠] BBMAs 2020 - '#BTS_Dynamite' 단체 Focus ver.\\n(https://t.co/o61nBxDgxM)\",\n",
       " 'RT @bighit_merch: [BTS POP-UP : MAP OF THE SOUL Showcase in SEOUL] \\n \\n#방탄소년단 팝업 쇼케이스 온라인 사전 예약 방법 및 유의 사항 안내\\n#BTS POP-UP Showcase in SEOUL…',\n",
       " 'RT @TrafalgarRel: Tickets now on sale in Brazil for BREAK THE SILENCE: THE MOVIE screenings beginning October 29. \\n\\nScreenings from today i…',\n",
       " \"RT @orchtweets: Give your Dynamite collection a glow up! Pre-order the limited edition 'Dynamite' CD featuring the chart-topping single and…\",\n",
       " '[#오늘의방탄] #BTS in #BBMAs 📣 4년연속 #TopSocialArtist 수상! 역시나 #ARMY 덕분 입니다! 🥳💜 #BTS_Dynamite… https://t.co/c6mdh7seWa',\n",
       " 'RT @BBMAs: Congratulations to @BTS_twt on winning Top Social Artist! #BTSxBBMAs https://t.co/1FzuMZCF17',\n",
       " 'Music unites us all TONIGHT! We can’t wait to perform at the @BBMAs TONIGHT at 8/7c on NBC. #BTSxBBMAs https://t.co/FqV7H1pURl',\n",
       " 'RT @bighit_merch: 바다 깊은 곳에서 온 깨끗하고 건강한 물이 BTS를 만나 탄생한 프리미엄 워터를 @weverseshop 에서 만나보세요.\\n \\nbe with you, beWATER with BTS\\n⏰ 2020. 10. 15. 12PM(…',\n",
       " \"The return of the classic 'Skool Luv Affair Special Addition' is now available! Pre-order your copy today! https://t.co/VDNpRDSpxO\",\n",
       " \"#BTS 'Skool Luv Affair Special Addition' 구매 링크 안내\\n\\n▶위버스샵: https://t.co/TDOWOfIPEB\\n▶알라딘: https://t.co/enxbnTR2lk\\n▶YE… https://t.co/yxCQW0qcvv\",\n",
       " 'The @BBMAs are TOMORROW! It’s going to be such an amazing night so tune-in TOMORROW at 8/7c on NBC. #BTSxBBMAs https://t.co/5KHjCCsBzr',\n",
       " \"#BTS(#방탄소년단) 'Skool Luv Affair Special Addition' PREVIEW\\n\\n'Skool Luv Affair Special Addition'에서만 볼 수 있는 2번째 미니앨범 쇼케… https://t.co/lw4eeJoTtm\",\n",
       " '[#지민생일ㅊㅋ]\\n적당히 말고 많이 축하해야지🥰\\n지민이의 1년 모아모아🐥🐶🐱\\nMore photos @ (https://t.co/YZ3zjcsXgj)\\n#Jimin #박지민 #방젤웃 #음색요정 #찜무행알… https://t.co/18r5dQNXRj',\n",
       " 'RT @BBMAs: ARMY! We asked @BTS_twt a few questions before their performance this Wednesday... WATCH THEM HERE! ⬇️ #BTSxBBMAs https://t.co/e…',\n",
       " 'RT @BBMAs: Incoming message from @BTS_twt to YOU! 💜 Click below and tweet #BTSxBBMAs to unlock a special video to get ready for their perfo…',\n",
       " \"🎉Billboard #Hot100 No.1 &amp; No. 2🎉\\n'Savage Love' (BTS Remix)와 ‘Dynamite’가 빌보드 Hot100 1위와 2위를 나란히 차지하였습니다. 변함없는 사랑과 관심… https://t.co/JAtOj4YjtY\",\n",
       " '[#지민생일ㅊㅋ]\\n1013\\nHAPPY\\nBIRTHDAY\\nJIMIN\\n아미의 세상을 변화시킬\\nI can be your Genie\\n💜🎂💜\\n#Jimin #박지민 #쥐민쒸 #박베짱 #박필터매력있나 https://t.co/S9Dz1aBQA2',\n",
       " 'RT @bighit_merch: [BTS POP-UP : MAP OF THE SOUL Showcase in SEOUL] \\n\\nBTS POP-UP Showcase in SEOUL Guest Information &amp; Purchasing Guide\\n\\n👉🏻h…',\n",
       " 'RT @bighit_merch: [BTS POP-UP : MAP OF THE SOUL Showcase in SEOUL] \\n \\n방탄소년단 팝업 쇼케이스 이용 및 상품 구매 방법 안내\\n\\n👉🏻https://t.co/Bj7kYS0Uew\\n\\n#BTS_POPUP…',\n",
       " 'RT @bighit_merch: [BTS POP-UP : MAP OF THE SOUL Online Store USA] \\n\\nGuest Information &amp; Purchasing Guide \\n\\n👉🏻https://t.co/lUwgF2k1x4\\n\\n#BTS_…',\n",
       " 'RT @bighit_merch: [BTS POP-UP : MAP OF THE SOUL Online Store GLOBAL] \\n\\n방탄소년단 팝업 온라인 스토어 운영 및 상품 구매 방법 안내 \\nGuest Information &amp; Purchasing Gu…',\n",
       " '[#오늘의방탄] 아미들의 든든한 응원으로 MAP OF THE SOUL ON:E 2회차도 마무리할 수 있었습니다! 아미와 방탄은 서로의 배터리니까!💜 PURPLE U💜💜💜💜💜💜💜\\n#BTS #방탄소년단… https://t.co/luOeaU0kfX',\n",
       " '[#오늘의방탄] 보고픈 아미들과의 깜짝 만남 덕분에 더욱 행복했던 MAP OF THE SOUL ON:E 1회차 공연!\\n아미와 방탄소년단은 함께라서 더 강합니다💜\\n#BTS #방탄소년단 #맵옵솔_1회차_공연 https://t.co/OawtrpmIJ6',\n",
       " '[네이버 포스트] 다다다다이너-마잇트 프로모션 비하인드를 모아모아! 빌보드 핫100 3번 1위한 가수들 보러가기 👉🏻 (@ https://t.co/pgvJ56xxg8 )\\n \\n#BTS #방탄소년단',\n",
       " \"[#방탄밤][#방밤캠] https://t.co/ASiqMCk6fJ LIVE - '#BTS_Dynamite' 단체 Focus ver.\\n(https://t.co/5L2CAaJXJp)\",\n",
       " '[#MOS_ONE D-1]\\nMOS ON:E Ticket Purchasers only SPECIAL MERCH Pre-Order Announcement \\n\\n📣 Notice:… https://t.co/q7mUR7GYnc',\n",
       " '[#맵솔콘 D-1]\\nMOS ON:E 티켓 구매자만을 위한 SPECIAL MERCH 예약판매 공지 \\n\\n📣 공지: https://t.co/2foPlnr74q\\n🎫티켓 구매:… https://t.co/D6hFe16ZeN',\n",
       " 'BTS POP-UP : MAP OF THE SOUL \\nOnline Store &amp; Showcase Schedule\\n \\n#BTS_POPUP #MAP_OF_THE_SOUL https://t.co/ER41A3Dvq5',\n",
       " '[#방탄밤] 도넛 하나도 나눠먹는 사이좋은 방탄이들의 도넛 먹방!🍩🥤 #먹는거만봐도배부르다\\n(https://t.co/VjBCvUoAiy)',\n",
       " '[D-2] MAP OF THE SOUL ON:E\\n드디어 2일전, 설레는 맘으로 콘서트 체크리스트를 확인하세요!! Please check the Online Concert CHECK LIST!!\\nMore in… https://t.co/ylm0mTsrAX',\n",
       " 'Music will unite us all in just ONE WEEK at the @BBMAs! Join us Wednesday, October 14th\\xa0at 8/7c on NBC. #BBMAs https://t.co/d0GcTfGLcE',\n",
       " '[#MOS_ONE D-3] \\n15초 스포일러 티저 2번째! 더 멋진 BTS의 모습은 3일 뒤 콘서트에서 확인하세요! \\n15sec spoiler teaser #2! Check out BTS MOS ON:E c… https://t.co/S02HGLp6An',\n",
       " 'RT @Radiodotcom: Tune in now to watch an exclusive #RadiocomLIVE performance from @BTS_twt! Let’s get #RDCxBTS trending! 💜 \\nhttps://t.co/eN…',\n",
       " '[#오늘의방탄] #BTS in #RadiocomLIVE 🎧🎹 아침의 시작은 #BTS_Dynamite!🥳 \\n#방탄소년단… https://t.co/7IfMXs9zB2',\n",
       " 'Landing into your hands\\n \\nBTS POP-UP : MAP OF THE SOUL Official Trailer\\n(https://t.co/0LKJpoEM1r)\\n \\n#BTS_POPUP #MAP_OF_THE_SOUL',\n",
       " \"Tune in to our #RadiocomLIVE performance tonight at 6 PM ET on @Radiodotcom's Twitter! 💜#RDCxBTS💜 https://t.co/RSeqrgSj2g\",\n",
       " '[#MOS_ONE D-4] \\n15초컷 스포일러 주의! 아미 여러분께만 단독 공개하는 콘서트 하이라이트 티저 #1 \\n15sec spoiler alert! Exclusive for #BTSARMY MOS ON:… https://t.co/xnzeKJqKjp',\n",
       " 'RT @pitchfork: .@BTS_twt break down all their albums for you https://t.co/9Zfj587K5k',\n",
       " '#SavageLoveRemix LISTEN NOW! \\nhttps://t.co/dS6OAheQBT https://t.co/bskeGcNzrl',\n",
       " '[#MOS_ONE D-5]\\nDelayed single-view Streaming for ARMY! Don’t miss this chance to see BTS one more time!\\n\\n🎫Ticket at… https://t.co/cqRWp4fB3t',\n",
       " '[#맵솔콘 D-5]\\n아미 여러분을 위한 딜레이 싱글뷰 스트리밍 확정! BTS의 콘서트 속 열정적인 모습을 한번 더 확인할 수 있는 기회를 놓치지 마세요!\\n\\n🎫티켓 구매:… https://t.co/enzfbqgJpb',\n",
       " '[#방탄밤] 🎊빌보드 핫100 2주 연속 1위 가수🎊 \\n방탄이들을 축하하는 PD님과 전화 연결의 순간📞 \\n#전설_아니고_레전드 #함께_만들어가요_아미… https://t.co/VjxkJDuyLT',\n",
       " \"Much love to @Jawsh_685 and @jasonderulo for having us on the #SavageLoveRemix \\nEXCLUSIVELY for the #BTSARMY here's… https://t.co/If4zeaWZpd\",\n",
       " 'RT @bighit_merch: #BTS MAP OF THE SOUL ON:E 공식 상품들과 함께 특별한 공연의 추억을 일상 속에서 오래도록 간직하세요.\\n \\n⏰2020. 10. 05 12PM(KST) @weverseshop\\n \\n#BTS #방탄소년단…',\n",
       " '#BTS 💜 #ARMY\\n\\n#BTSonFallon_D5 #BTSWEEK #BTSMONTH #방탄소년단 #BTS_Dynamite… https://t.co/UWzf0PRyqc',\n",
       " '[#오늘의방탄] #BTS in #TheTonightShow Starring Jimmy Fallon 지미 팰런쇼 #BTSWEEK 못 본 사람 없게 해주세요🤩\\n\\n#BTSonFallon_D5 #BTSMONTH… https://t.co/jcG92LOrEX',\n",
       " 'RT @FallonTonight: 💥🧨 Ending #BTSWEEK with a bang! 🧨💥\\n\\n@BTS_twt performs their No.1 hit #BTS_Dynamite ▶️ https://t.co/OxKfmybu7g\\n\\n#BTSonFal…',\n",
       " '[#MOS_ONE D-7]\\nARMY, MAP OF THE SOUL ON:E starts in just 7 days! Check out how to enjoy a \"home-cert\" with TinyTAN!… https://t.co/hko9hjbwuL',\n",
       " '[#맵솔콘 D-7]\\n아미 여러분, 7일 뒤면 MAP OF THE SOUL ON:E 이 시작됩니다! 타이니탄과 함께 집콘 즐기는 방법을 지금 확인하세요!  \\n\\n🎫티켓 구매:… https://t.co/7Zsf3qWgLt',\n",
       " 'RT @FallonTonight: ✨🌌 “Shine, Dream, Smile” 🌌✨\\n\\n.@BTS_twt shines in this performance of “Mikrokosmos” ✨\\n\\n▶️ https://t.co/GW0MJ3pNco \\n\\n#BTSW…',\n",
       " '#BTS #방탄소년단 #SavageLoveRemix OUT NOW\\n \\n🎶 https://t.co/r7grqx9OLM\\n🎶 https://t.co/dS6OAheQBT \\n\\n@Jawsh_685 x… https://t.co/qX7nJpFICI',\n",
       " \"'Savage Love' (BTS Remix) Lyric Video\\n(https://t.co/u5igHz97dC)\\n\\n#BTS #방탄소년단 #SavageLoveRemix\",\n",
       " 'RT @BBMAs: #BTSxBBMAs is BACK! We\\'re so excited for @BTS_twt to perform \"Dynamite\" at the #BBMAs, October 14th at 8/7c on NBC. https://t.co…',\n",
       " '#SavageLoveRemix Out Tomorrow. https://t.co/gigz2dy3JO',\n",
       " \"[#방탄밤][#방밤캠] '#BTS_Dynamite' 단체 Focus ver. @ 경복궁 (Gyeongbokgung)\\n#BTS #방탄소년단 💜#Happy_Chuseok_ARMY💜\\n(https://t.co/AzNfqYqBGy)\",\n",
       " '&lt;BREAK THE SILENCE: THE MOVIE&gt;\\n\\n✔Additional countries/regions set for Oct 15 release!\\n✔Limited encore screenings al… https://t.co/iWFUShpz9C',\n",
       " '[Episode] #방탄소년단 #ON Kinetic Manifesto Film 에피소드 #BTS\\n💜#Happy_Chuseok_ARMY💜\\n(https://t.co/D0GVVRfzc5)',\n",
       " '[#방탄밤] 대기실에 물병이 많을 때 방탄이들은 무엇을 할까요? \\n#오늘은창의력대장✌️ #아미바라기 #BTS #방탄소년단\\n💜#Happy_Chuseok_ARMY💜\\n(https://t.co/EuH7mrIfp0)',\n",
       " '[Episode] #방탄소년단 2019 가요대축제 현장 비하인드 공개! #BTS\\n💜#Happy_Chuseok_ARMY💜\\n(https://t.co/wl6Bk0Gdvx)',\n",
       " '[#방탄밤] 방탄배 농구 대결! 오늘의 승자는? 🏀👍 \\n#방탄이들의_농구_대결 #숨겨진_농구_고수 #BTS #방탄소년단 💜#Happy_Chuseok_ARMY💜\\n(https://t.co/r6IHlw8pG3)',\n",
       " 'RT @FallonTonight: 🖤🦢 “Do you hear me yeah!” 🦢🖤\\n\\nThat sound is @BTS_twt performing their hit “Black Swan” \\n\\nFull performance ▶️ https://t.c…',\n",
       " '[Episode] #방탄소년단 2018 가요대축제 현장 비하인드 공개! #BTS\\n💜#Happy_Chuseok_ARMY💜\\n(https://t.co/vR6nYqfSxv)',\n",
       " 'RT @Variety: ⚡️ “#BTSxVariety”\\n\\nhttps://t.co/jAXvf4nL6X',\n",
       " 'RT @Radiodotcom: Hey #BTSArmy! We’re SO excited to announce 💥@BTS_twt💥 will be joining us Tuesday, October 6th for a very special #Radiocom…',\n",
       " 'RT @FallonTonight: .@BTS_twt take their performance of “HOME”... home! 🏠🎶 \\n\\nFull performance ▶️ https://t.co/agDmAYwDtk\\n\\n#BTSWEEK #BTSonFal…',\n",
       " 'RT @Variety: Watch a sneak peek of BTS on Variety’s cover https://t.co/VDZtkQggZw https://t.co/8NR0qg9uU8',\n",
       " 'RT @orchtweets: Winners are announced! MAP OF THE SOUL : 7 Soundcheck Sweepstakes winners were sent an email on 9/22 to claim their new pri…',\n",
       " '#SavageLoveRemix https://t.co/KoSWeopp7C',\n",
       " 'RT @FallonTonight: 🌟 “Top star with that spotlight, ayy” 🌟\\n\\n.@BTS_twt performs their hit song “IDOL” for the first night of #BTSWEEK! 🤩\\n\\nFu…',\n",
       " \"[네이버 포스트] '달님.. 제 소원은요..!' \\n방탄소년단의 추석맞이 소원 빌기! 그 비하인드를 독.점.공.개.합니다!\\n(@ https://t.co/vISu3gkmll )\\n\\n#BTS #방탄소년단\",\n",
       " '&lt;BREAK THE SILENCE: THE MOVIE&gt;\\n한국 개봉 기념 국내 이벤트 안내\\n\\n✔ Dynamite MV &amp; MV (B-side) 상영\\n✔ 스페셜 티켓 한정 수량 재입고\\n✔ 매주 새로운 특전 증정… https://t.co/JMLdh8iQGE',\n",
       " '달 달 무슨 달 쟁반같이 둥근 달🌕 \\n방탄이들의 소원을 들어줄💜보라색 둥근 달이 떴습니다! \\n#방탄도령단 #BTS #해피추석 #즐거운_한가위_보내세요 \\n(https://t.co/FefXkyfBrD)',\n",
       " '2020\\nHAPPY CHUSEOK\\nARMY!\\n추석은 역시 #방탄도령단 과 함께! \\n풍요롭고 행복한 한가위 되세요!\\n\\n#달달무슨달 #방탄같이밝은달\\n#어디어디떴나 #아미마음에떴지\\n#미리해피추석아미 https://t.co/DU6stl7u8C',\n",
       " '#BTS_BE (Deluxe Edition) Pre-order Notice\\n\\n▶Global pre-order: https://t.co/mofu84huJN',\n",
       " '🎉Billboard #Hot100 No.1 AGAIN🎉\\n아미 여러분 덕분에 또 한번의 기적이 일어났습니다.\\n\\n#BTS_Dynamite 에 꾸준한 사랑 보내주시는 전 세계 아미 여러분, 정말 감사합니다!… https://t.co/lS0pR7hzyl',\n",
       " '#SavageLoveRemix This Friday\\n@Jawsh_685 x @jasonderulo x #BTS https://t.co/u5GcAkKLNs',\n",
       " '추석 특선 아미데이!\\nSchedule timeline🌝\\n아미의 즐거운 연휴를 위해\\n추석 선물 보따리를 풀어봅니다🎁\\n\\n#BTS #추석선물보따리\\n#방탄나와라뚝딱 #에피밤보따리\\n#추석_특선_아미데이… https://t.co/gNElLJPc5W',\n",
       " \"RT @orchtweets: Who's excited for more BTS! Pre-order your copy of the limited box set BE (Deluxe Edition) today! #BTS_BE https://t.co/xi9Z…\",\n",
       " '#BTS BE (Deluxe Edition) 예약구매 링크 안내\\n\\n▶예스24: https://t.co/EDwu22LZad \\n▶신나라: https://t.co/ngF9ALQLY1\\n▶핫트랙스:… https://t.co/OOrSm4z0ld',\n",
       " \"앨범 안내 이미지 상에 오류가 있어 교체하였습니다. 앨범 구성품 중 '포토카드'는 9장이 아닌 8장입니다. 혼선을 드려 죄송합니다.\"]"
      ]
     },
     "execution_count": 81,
     "metadata": {},
     "output_type": "execute_result"
    }
   ],
   "source": [
    "user_texts"
   ]
  },
  {
   "cell_type": "markdown",
   "metadata": {},
   "source": [
    "#### Count Vectoriser"
   ]
  },
  {
   "cell_type": "code",
   "execution_count": 82,
   "metadata": {},
   "outputs": [
    {
     "name": "stdout",
     "output_type": "stream",
     "text": [
      "['05', '0lkjpoem1r', '10', '1013', '12pm', '14th', '15', '15sec', '15초', '15초컷', '18r5dqnxrj', '1fzumzcf17', '1년', '1위', '1위와', '1위한', '1회차', '2018', '2019', '2020', '22', '22nd', '29', '2foplnr74q', '2번째', '2위를', '2일전', '2주', '2회차도', '3mr6y0ngbj', '3번', '3일', '4asvo1cxcu', '4년연속', '5khjccsbzr', '5l2caajxjp', '62nd', '6th', '7c', '7ifmxs9zb2', '7zsf3qwglt', '7일', '8nr0qg9uu8', '8장입니다', '9zfj587k5k', '9장이', 'abc', 'addition', 'additional', 'affair', 'ag3jhgt4mg', 'again', 'agdmaywdtk', 'al', 'albums', 'alert', 'all', 'amas', 'amazing', 'amp', 'an', 'and', 'announce', 'announced', 'announcement', 'annual', 'are', 'army', 'artist', 'asia', 'asiqmck6fj', 'ask', 'asked', 'at', 'available', 'awards', 'ax2mykbr3y', 'ayy', 'aznfqyqbgy', 'back', 'bang', 'bbmas', 'be', 'because', 'before', 'beginning', 'below', 'bewater', 'bighit_merch', 'bighitent', 'billboard', 'birthday', 'bj7kys0uew', 'black', 'box', 'bpya1fcsab', 'brazil', 'break', 'bskegcnzrl', 'bts', 'bts_', 'bts_be', 'bts_bighit', 'bts_dynamite', 'bts_jp_official', 'bts_popup', 'bts_twt', 'btsarmy', 'btsmonth', 'btsonfal', 'btsonfallon_d5', 'btsw', 'btsweek', 'btsxbbmas', 'btsxvariety', 'bts를', 'bts의', 'c4fw7l7u3r', 'c6mdh7sewa', 'can', 'cd', 'cert', 'chance', 'chart', 'check', 'chilly', 'chuseok', 'claim', 'classic', 'click', 'co', 'collection', 'columbiarecords', 'concept', 'concert', 'congratulations', 'copy', 'countries', 'cover', 'cqrwp4fb3t', 'd0gctfglce', 'd0gvvrfzc5', 'd6hfe16zen', 'day', 'days', 'dear', 'delayed', 'deluxe', 'do', 'don', 'down', 'dream', 'ds6oaheqbt', 'du6stl7u8c', 'dynamite', 'edition', 'edwu22lzad', 'ej7smnh44j', 'email', 'en', 'encore', 'ending', 'enjoy', 'enxbntr2lk', 'enzfbqgjpb', 'episode', 'er41a3dvq5', 'et', 'euh7mrifp0', 'europe', 'excited', 'exclusive', 'exclusively', 'f8bghpw67j', 'fallon', 'fallontonight', 'fanmakestars', 'fast', 'featuring', 'fefxkyfbrd', 'few', 'film', 'find', 'first', 'focus', 'for', 'fqv7h1purl', 'friday', 'from', 'fu', 'full', 'g2pmb5fytd', 'genie', 'get', 'gigz2dy3jo', 'give', 'global', 'glow', 'gnelljpc5w', 'going', 'gotten', 'grammy', 'gt', 'gu', 'guest', 'guide', 'gw0mj3pnco', 'gyeongbokgung', 'hands', 'happy', 'happy_chuseok_army', 'having', 'hear', 'here', 'hey', 'hi', 'hit', 'hko9hjbwul', 'home', 'hot100', 'how', 'https', 'idol', 'if4zeawzpd', 'in', 'incoming', 'information', 'into', 'is', 'it', 'iwfushpz9c', 'japan', 'jasonderulo', 'jatoj4yjty', 'jawsh_685', 'jaxvf4nl6x', 'jcg92lorex', 'jcmn72syzm', 'jimin', 'jimmy', 'jm2ribaeb3', 'jmldh8iqge', 'join', 'joining', 'just', 'k59gw370gh', 'kinetic', 'kjkojtvidv', 'know', 'kosweopp7c', 'kst', 'landing', 'let', 'limited', 'list', 'listen', 'live', 'lot', 'love', 'ls0pr7hzyl', 'lt', 'luoeau0kfx', 'luv', 'luwgf2k1x4', 'lw4eejottm', 'lyric', 'manifesto', 'map', 'map_of_the_s', 'map_of_the_so', 'map_of_the_soul', 'me', 'meet', 'merch', 'message', 'mikrokosmos', 'miss', 'mofu84hujn', 'more', 'morningkall', 'mos', 'mos_one', 'movie', 'much', 'music', 'mv', 'mv에', 'nbc', 'new', 'ngf9alqly1', 'night', 'no', 'nominated', 'notice', 'november', 'now', 'n차', 'o61nbxdgxm', 'oawtrpmij6', 'oct', 'october', 'octsomi12w', 'of', 'official', 'on', 'one', 'online', 'only', 'oorsm4z0ld', 'orchtweets', 'order', 'our', 'out', 'oxkfmybu7g', 'pd님과', 'peek', 'perfo', 'perform', 'performance', 'performing', 'performs', 'pgvj56xxg8', 'photo', 'photos', 'pitchfork', 'please', 'pm', 'pop', 'pre', 'preview', 'pri', 'purchasers', 'purchasing', 'purple', 'q7mur7gync', 'questions', 'qx7njpfici', 'r6ihlw8pg3', 'r7grqx9olm', 'radiocom', 'radiocomlive', 'radiodotcom', 'rdcxbts', 're', 'ready', 'regions', 'release', 'remix', 'reservati', 'return', 'rlngl1dibd', 'rseqrgsj2g', 'rt', 's02hglp6an', 's9dz1abqa2', 'sale', 'savage', 'savageloveremix', 'schedule', 'screenings', 'scribbled', 'see', 'selling', 'sent', 'seoul', 'set', 'shine', 'shines', 'show', 'showcase', 'side', 'sign', 'silence', 'sing', 'singapore', 'single', 'sketch', 'skool', 'smile', 'sneak', 'so', 'social', 'some', 'song', 'soul', 'sound', 'soundcheck', 'special', 'spoiler', 'spotlight', 'star', 'starring', 'starts', 'store', 'streaming', 'such', 'sure', 'swan', 'sweepstakes', 'take', 'tdowofipeb', 'teaser', 'that', 'the', 'their', 'them', 'thetonightshow', 'things', 'thinking', 'this', 'ticket', 'tickets', 'time', 'timeline', 'tinytan', 'to', 'today', 'tokyo', 'tomorrow', 'tonight', 'top', 'topping', 'topsocialartist', 'toxaide6sk', 'trafalgarrel', 'trailer', 'trending', 'tuesday', 'tune', 'tweet', 'twitter', 'u5gcakklns', 'u5ighz97dc', 'u8raktiizk', 'unite', 'unites', 'unlock', 'up', 'us', 'usa', 'uwzf0pryqc', 'variety', 'vdnprdspxo', 'vdztkqggzw', 'ver', 'very', 'video', 'view', 'visu3gkmll', 'vjbcvuoaiy', 'vjxkjduylt', 'vkybkzyepi', 'vr6nyqfsxv', 'wait', 'waiting', 'want', 'wanted', 'was', 'watch', 'we', 'weather', 'wednesday', 'week', 'were', 'weverseshop', 'what', 'when', 'who', 'whz2e67poq', 'will', 'winners', 'winning', 'with', 'wj8xb2iumo', 'wl6bk0gdvx', 'writing', 'xi9z', 'xnzekjqkjp', 'ye', 'yeah', 'ylm0mtsrax', 'ymnw9ekvks', 'you', 'your', 'yxcqw0qcvv', 'yyjy4mu576', 'yz3zjcsxgj', '詳細はこちら', '運営および購入方法のご案内', '가수', '가수들', '가요대축제', '간직하세요', '감사합니다', '갑자기', '강합니다', '개봉', '거죠', '건강한', '경복궁', '계신', '곳까지', '곳에서', '공개', '공개하는', '공식', '공연', '공연의', '공지', '관람', '관심', '교체하였습니다', '구매', '구매자만을', '구성품', '국내', '궁금해서', '그날을', '그림자', '그림자댄스마스터_홉팀장', '그림자연기의_대가_박지민선생', '기념', '기다리며', '기적이', '기회를', '깊은', '깜짝', '깨끗하고', '꾸준한', '끄적여봤어요', '나눠먹는', '나란히', '날씨가', '네이버', '농구', '놓치지', '누구일까요', '다다다다이너', '단독', '단체', '달님', '달달무슨달', '달이', '답장해', '닿길', '대결', '대기실에', '더욱', '덕분', '덕분에', '도넛', '되세요', '둥근', '뒤면', '드디어', '드려', '든든한', '들어줄', '들었어요', '딜레이', '따라', '떴습니다', '링크', '마무리할', '마세요', '마잇트', '만나', '만나는', '만나면', '만나보세요', '만남', '많을', '많이', '말고', '맘으로', '매주', '맵솔콘', '맵옵솔_1회차_공연', '먹는거만봐도배부르다', '먹방', '멋진', '멤버는', '모습은', '모습을', '모아모아', '무대', '무슨', '무얼', '무엇을', '물병이', '물어볼까', '물이', '뮤지컬', '미니앨범', '미리해피추석아미', '바다', '바라며', '바로', '박베짱', '박지민', '박필터매력있나', '방밤캠', '방법', '방법을', '방젤웃', '방탄', '방탄_뮤지컬', '방탄_앙상블', '방탄같이밝은달', '방탄나와라뚝딱', '방탄도령단', '방탄밤', '방탄배', '방탄소년단', '방탄소년단은', '방탄소년단의', '방탄은', '방탄이들은', '방탄이들을', '방탄이들의', '방탄이들의_농구_대결', '배우', '배터리니까', '변함없는', '변화시킬', '보고픈', '보내주시는', '보따리를', '보라색', '보러가기', '보시오', '뷔와', '비하인드', '비하인드를', '빌기', '빌보드', '사람', '사랑', '사랑과', '사이좋은', '사전', '사항', '상에', '상영', '상품', '상품들과', '새로운', '생각을', '서로의', '선물', '설레는', '세계', '세상을', '소원', '소원은요', '소원을', '속에서', '쇼케', '쇼케이스', '수량', '수상', '순간', '숨겨진_농구_고수', '스토어', '스트리밍', '스페셜', '스포일러', '승자는', '시간대', '시작된', '시작됩니다', '시작은', '신나라', '싱글뷰', '아닌', '아미', '아미데이', '아미들과의', '아미들의', '아미마음에떴지', '아미바라기', '아미와', '아미의', '아침의', '안내', '알라딘', '알아맞혀', '앙상블의', '앨범', '어디어디떴나', '어떤', '없게', '에서', '에서만', '에피밤보따리', '에피소드', '여러분', '여러분께만', '여러분들은', '여러분들을', '여러분을', '여러분이', '역시', '역시나', '역으로', '연결의', '연속', '연휴를', '열정적인', '예스24', '예약', '예약구매', '예약판매', '오늘은창의력대장', '오늘의', '오늘의방탄', '오래도록', '오류가', '온라인', '요즘', '우리', '운영', '워터를', '위버스샵', '위한', '위해', '유의', '음색요정', '응원으로', '이만', '이미지', '이벤트', '이용', '일상', '일어났습니다', '입니다', '있는', '있어', '있었습니다', '재입고', '쟁반같이', '적당히', '전설_아니고_레전드', '전화', '정말', '죄송합니다', '주실', '주연', '주연배우_뷔', '주의', '줄일게요', '쥐민쒸', '즐거운', '즐거운_한가위_보내세요', '즐기는', '증설', '증정', '지금', '지내는지', '지미', '지민생일ㅊㅋ', '지민이의', '집콘', '찜무행알', '차지하였습니다', '체크리스트를', '추석', '추석_특선_아미데이', '추석맞이', '추석선물보따리', '추석은', '추억을', '추워졌네요', '축하하는', '축하해야지', '출연한', '콘서트', '콘서트에서', '타이니탄과', '탄생한', '특별한', '특선', '특전', '티저', '티켓', '팝업', '팰런쇼', '펜을', '포스트', '포토카드', '폭발적', '풀어봅니다', '풍요롭고', '프로모션', '프리미엄', '하고', '하기', '하나도', '하며', '하이라이트', '한가위', '한국', '한번', '한번의', '한정', '할까요', '함께', '함께_만들어가요_아미', '함께라서', '합니다', '핫100', '핫트랙스', '해주세요', '해피추석', '행복한', '행복했던', '현장', '혼선을', '확인하세요', '확인할', '확정']\n"
     ]
    }
   ],
   "source": [
    "vectorizer = CountVectorizer()\n",
    "x = vectorizer.fit_transform(user_texts)\n",
    "print(vectorizer.get_feature_names())"
   ]
  },
  {
   "cell_type": "code",
   "execution_count": 83,
   "metadata": {},
   "outputs": [
    {
     "name": "stdout",
     "output_type": "stream",
     "text": [
      "[[0 0 0 ... 0 0 0]\n",
      " [0 0 0 ... 0 0 0]\n",
      " [0 0 0 ... 0 0 0]\n",
      " ...\n",
      " [0 0 0 ... 0 0 0]\n",
      " [0 0 0 ... 0 0 0]\n",
      " [0 0 0 ... 0 0 0]]\n"
     ]
    }
   ],
   "source": [
    "print(x.toarray())"
   ]
  },
  {
   "cell_type": "markdown",
   "metadata": {},
   "source": [
    "#### TF-IDF Vectoriser"
   ]
  },
  {
   "cell_type": "code",
   "execution_count": 84,
   "metadata": {},
   "outputs": [
    {
     "name": "stdout",
     "output_type": "stream",
     "text": [
      "{'dear': 145, 'army': 67, 'was': 457, 'waiting': 454, 'for': 185, 'the': 403, 'day': 143, 'we': 459, 'meet': 272, 'again': 51, 'and': 61, 'scribbled': 360, 'down': 150, 'some': 382, 'things': 407, 'want': 455, 'to': 415, 'ask': 71, 'you': 482, 'when': 466, 'https': 221, 'co': 130, 'kjkojtvidv': 247, '우리': 720, '아미': 675, '여러분들을': 699, '만나는': 567, '그날을': 517, '기다리며': 522, '만나면': 568, '무엇을': 588, '물어볼까': 590, '끄적여봤어요': 529, '여러분이': 701, '계신': 500, '곳까지': 501, '닿길': 544, '바라며': 596, '이만': 729, '줄일게요': 750, 'ymnw9ekvks': 481, 'f8bghpw67j': 173, 'rt': 352, 'fanmakestars': 176, 'bts': 99, 'pop': 327, 'up': 437, 'map': 267, 'of': 302, 'soul': 384, 'online': 306, 'store': 393, 'europe': 169, 'purchasing': 332, 'guide': 205, 'bpya1fcsab': 95, 'pre': 328, 'sign': 371, 'november': 294, 'weather': 460, 'gotten': 200, 'lot': 257, 'chilly': 125, 'writing': 475, 'this': 409, 'because': 83, 'wanted': 456, 'know': 248, 'what': 465, 'thinking': 408, 'k59gw370gh': 245, '날씨가': 532, '많이': 572, '추워졌네요': 772, '여러분들은': 698, '요즘': 719, '어떤': 690, '생각을': 647, '하고': 795, '무얼': 587, '하며': 798, '지내는지': 758, '궁금해서': 516, '펜을': 787, '들었어요': 558, '답장해': 543, '주실': 746, '거죠': 497, 'c4fw7l7u3r': 117, '3mr6y0ngbj': 29, 're': 343, 'so': 380, 'excited': 170, 'be': 82, 'nominated': 292, '2020': 19, 'amas': 57, 'don': 149, 'miss': 276, 'show': 368, '22nd': 21, 'at': 73, '7c': 38, 'on': 304, 'abc': 46, 'find': 182, 'more': 278, 'toxaide6sk': 423, 'bighit_merch': 88, 'showcase': 369, 'in': 224, 'seoul': 364, 'sketch': 376, 'octsomi12w': 301, 'bts_popup': 105, 'map_of_the_soul': 270, 'episode': 165, '방탄소년단': 613, 'tonight': 419, '현장': 816, '비하인드': 632, '공개': 503, 'whz2e67poq': 468, '방탄밤': 611, '갑자기': 494, '시작된': 669, '방탄이들의': 619, '뮤지컬': 592, '따라': 560, '하기': 796, '주연': 747, '배우': 621, '뷔와': 631, '방탄': 605, '앙상블의': 687, '폭발적': 790, '무대': 585, '바로': 597, 'n차': 296, '관람': 509, '주연배우_뷔': 748, '방탄_앙상블': 607, '방탄_뮤지컬': 606, 'rlngl1dibd': 350, 'morningkall': 279, 'singapore': 374, 'guest': 204, 'information': 226, 'amp': 59, 'jm2ribaeb3': 240, 'hi': 215, 'sing': 373, 'bts_jp_official': 104, 'tokyo': 417, '運営および購入方法のご案内': 488, '詳細はこちら': 487, 'u8raktiizk': 433, 'map_of_the_so': 269, 'asia': 69, 'ag3jhgt4mg': 50, 'countries': 137, 'japan': 231, 'yyjy4mu576': 485, 'map_of_the_s': 268, 'photo': 322, 'ax2mykbr3y': 76, 'jcmn72syzm': 237, 'lt': 260, '62nd': 36, 'annual': 65, 'grammy': 201, 'awards': 75, 'gt': 202, 'g2pmb5fytd': 191, '팝업': 785, '쇼케이스': 658, '온라인': 718, '사전': 640, '예약': 710, '시간대': 668, '증설': 755, '안내': 684, 'additional': 48, 'reservati': 348, 'columbiarecords': 132, 'bts_be': 101, 'bts_bighit': 102, 'ej7smnh44j': 157, '4asvo1cxcu': 32, 'bighitent': 89, 'concept': 133, 'vkybkzyepi': 451, 'black': 93, 'swan': 397, 'mv에': 286, '그림자': 518, '역으로': 704, '출연한': 775, '멤버는': 581, '누구일까요': 536, '알아맞혀': 686, '보시오': 630, '그림자연기의_대가_박지민선생': 520, '그림자댄스마스터_홉팀장': 519, 'wj8xb2iumo': 473, 'orchtweets': 309, 'dynamite': 154, 'limited': 253, 'edition': 155, 'cd': 120, 'single': 375, 'is': 228, 'selling': 362, 'out': 312, 'fast': 177, 'sure': 396, 'order': 310, 'your': 483, 'copy': 136, 'today': 416, 'bts_dynamite': 103, '방밤캠': 601, 'bbmas': 81, '단체': 539, 'focus': 184, 'ver': 444, 'o61nbxdgxm': 297, '방법': 602, '유의': 726, '사항': 641, 'trafalgarrel': 424, 'tickets': 411, 'now': 295, 'sale': 355, 'brazil': 96, 'break': 97, 'silence': 372, 'movie': 282, 'screenings': 359, 'beginning': 85, 'october': 300, '29': 22, 'from': 188, 'give': 195, 'collection': 131, 'glow': 197, 'featuring': 178, 'chart': 123, 'topping': 421, '오늘의방탄': 715, '4년연속': 33, 'topsocialartist': 422, '수상': 660, '역시나': 703, '덕분': 548, '입니다': 735, 'c6mdh7sewa': 118, 'congratulations': 135, 'bts_twt': 106, 'winning': 471, 'top': 420, 'social': 381, 'artist': 68, 'btsxbbmas': 113, '1fzumzcf17': 11, 'music': 284, 'unites': 435, 'us': 438, 'all': 56, 'can': 119, 'wait': 453, 'perform': 317, 'nbc': 287, 'fqv7h1purl': 186, '바다': 595, '깊은': 525, '곳에서': 502, '깨끗하고': 527, '건강한': 498, '물이': 591, 'bts를': 115, '만나': 566, '탄생한': 779, '프리미엄': 794, '워터를': 722, 'weverseshop': 464, '에서': 692, '만나보세요': 569, 'with': 472, 'bewater': 87, '10': 2, '15': 6, '12pm': 4, 'return': 349, 'classic': 128, 'skool': 377, 'luv': 262, 'affair': 49, 'special': 387, 'addition': 47, 'available': 74, 'vdnprdspxo': 442, '구매': 512, '링크': 562, '위버스샵': 723, 'tdowofipeb': 400, '알라딘': 685, 'enxbntr2lk': 163, 'ye': 478, 'yxcqw0qcvv': 484, 'are': 66, 'tomorrow': 418, 'it': 229, 'going': 199, 'such': 395, 'an': 60, 'amazing': 58, 'night': 290, 'tune': 428, '5khjccsbzr': 34, 'preview': 329, '에서만': 693, '있는': 736, '2번째': 24, '미니앨범': 593, '쇼케': 657, 'lw4eejottm': 264, '지민생일ㅊㅋ': 760, '적당히': 741, '말고': 573, '축하해야지': 774, '지민이의': 761, '1년': 12, '모아모아': 584, 'photos': 323, 'yz3zjcsxgj': 486, 'jimin': 238, '박지민': 599, '방젤웃': 604, '음색요정': 727, '찜무행알': 763, '18r5dqnxrj': 10, 'asked': 72, 'few': 180, 'questions': 335, 'before': 84, 'their': 404, 'performance': 318, 'wednesday': 461, 'watch': 458, 'them': 405, 'here': 213, 'incoming': 225, 'message': 274, 'click': 129, 'below': 86, 'tweet': 429, 'unlock': 436, 'video': 446, 'get': 193, 'ready': 344, 'perfo': 316, 'billboard': 90, 'hot100': 219, 'no': 291, 'savage': 356, 'love': 258, 'remix': 347, '빌보드': 635, '1위와': 14, '2위를': 25, '나란히': 531, '차지하였습니다': 764, '변함없는': 623, '사랑과': 638, '관심': 510, 'jatoj4yjty': 233, '1013': 3, 'happy': 209, 'birthday': 91, '아미의': 682, '세상을': 652, '변화시킬': 624, 'genie': 192, '쥐민쒸': 751, '박베짱': 598, '박필터매력있나': 600, 's9dz1abqa2': 354, '이용': 732, '상품': 644, 'bj7kys0uew': 92, 'usa': 439, 'luwgf2k1x4': 263, 'bts_': 100, 'global': 196, '스토어': 663, '운영': 721, 'gu': 203, '아미들의': 678, '든든한': 556, '응원으로': 728, '2회차도': 28, '마무리할': 563, '있었습니다': 738, '아미와': 681, '방탄은': 616, '서로의': 648, '배터리니까': 622, 'purple': 333, 'luoeau0kfx': 261, '보고픈': 625, '아미들과의': 677, '깜짝': 526, '만남': 570, '덕분에': 549, '더욱': 547, '행복했던': 815, '1회차': 16, '공연': 506, '방탄소년단은': 614, '함께라서': 808, '강합니다': 495, '맵옵솔_1회차_공연': 577, 'oawtrpmij6': 298, '네이버': 533, '포스트': 788, '다다다다이너': 537, '마잇트': 565, '프로모션': 793, '비하인드를': 633, '핫100': 810, '3번': 30, '1위한': 15, '가수들': 490, '보러가기': 629, 'pgvj56xxg8': 321, 'asiqmck6fj': 70, 'live': 256, '5l2caajxjp': 35, 'mos_one': 281, 'mos': 280, 'ticket': 410, 'purchasers': 331, 'only': 307, 'merch': 273, 'announcement': 64, 'notice': 293, 'q7mur7gync': 334, '맵솔콘': 576, '티켓': 784, '구매자만을': 513, '위한': 724, '예약판매': 712, '공지': 508, '2foplnr74q': 23, 'd6hfe16zen': 142, 'schedule': 358, 'er41a3dvq5': 166, '도넛': 550, '하나도': 797, '나눠먹는': 530, '사이좋은': 639, '먹방': 579, '먹는거만봐도배부르다': 578, 'vjbcvuoaiy': 449, '드디어': 554, '2일전': 26, '설레는': 650, '맘으로': 574, '콘서트': 776, '체크리스트를': 765, '확인하세요': 818, 'please': 325, 'check': 124, 'concert': 134, 'list': 254, 'ylm0mtsrax': 480, 'will': 469, 'unite': 434, 'just': 244, 'one': 305, 'week': 462, 'join': 242, '14th': 5, 'd0gctfglce': 140, '15초': 8, '스포일러': 666, '티저': 783, '멋진': 580, 'bts의': 116, '모습은': 582, '3일': 31, '콘서트에서': 777, '15sec': 7, 'spoiler': 388, 'teaser': 401, 's02hglp6an': 353, 'radiodotcom': 341, 'exclusive': 171, 'radiocomlive': 340, 'let': 252, 'rdcxbts': 342, 'trending': 426, 'en': 159, '아침의': 683, '시작은': 671, '7ifmxs9zb2': 39, 'landing': 251, 'into': 227, 'hands': 208, 'official': 303, 'trailer': 425, '0lkjpoem1r': 1, 'our': 311, 'pm': 326, 'et': 167, 'twitter': 430, 'rseqrgsj2g': 351, '15초컷': 9, '주의': 749, '여러분께만': 697, '단독': 538, '공개하는': 504, '하이라이트': 799, 'alert': 55, 'btsarmy': 107, 'xnzekjqkjp': 477, 'pitchfork': 324, 'albums': 54, '9zfj587k5k': 44, 'savageloveremix': 357, 'listen': 255, 'ds6oaheqbt': 152, 'bskegcnzrl': 98, 'delayed': 146, 'view': 447, 'streaming': 394, 'chance': 122, 'see': 361, 'time': 412, 'cqrwp4fb3t': 139, '여러분을': 700, '딜레이': 559, '싱글뷰': 673, '스트리밍': 664, '확정': 820, '열정적인': 708, '모습을': 583, '한번': 802, '확인할': 819, '기회를': 524, '놓치지': 535, '마세요': 564, 'enzfbqgjpb': 164, '2주': 27, '연속': 706, '1위': 13, '가수': 489, '방탄이들을': 618, '축하하는': 773, 'pd님과': 314, '전화': 743, '연결의': 705, '순간': 661, '전설_아니고_레전드': 742, '함께_만들어가요_아미': 807, 'vjxkjduylt': 450, 'much': 283, 'jawsh_685': 234, 'jasonderulo': 232, 'having': 211, 'exclusively': 172, 'if4zeawzpd': 223, '공식': 505, '상품들과': 645, '함께': 806, '특별한': 780, '공연의': 507, '추억을': 771, '일상': 733, '속에서': 656, '오래도록': 716, '간직하세요': 492, '05': 0, 'kst': 250, 'btsonfallon_d5': 110, 'btsweek': 112, 'btsmonth': 108, 'uwzf0pryqc': 440, 'thetonightshow': 406, 'starring': 391, 'jimmy': 239, 'fallon': 174, '지미': 759, '팰런쇼': 786, '사람': 636, '없게': 691, '해주세요': 812, 'jcg92lorex': 236, 'fallontonight': 175, 'ending': 161, 'bang': 80, 'performs': 320, 'hit': 216, 'oxkfmybu7g': 313, 'btsonfal': 109, 'starts': 392, 'days': 144, 'how': 220, 'enjoy': 162, 'home': 218, 'cert': 121, 'tinytan': 414, 'hko9hjbwul': 217, '여러분': 696, '7일': 41, '뒤면': 553, '시작됩니다': 670, '타이니탄과': 778, '집콘': 762, '즐기는': 754, '방법을': 603, '지금': 757, '7zsf3qwglt': 40, 'shine': 366, 'dream': 151, 'smile': 378, 'shines': 367, 'mikrokosmos': 275, 'gw0mj3pnco': 206, 'btsw': 111, 'r7grqx9olm': 338, 'qx7njpfici': 336, 'lyric': 265, 'u5ighz97dc': 432, 'back': 79, 'gigz2dy3jo': 194, '경복궁': 499, 'gyeongbokgung': 207, 'happy_chuseok_army': 210, 'aznfqyqbgy': 78, 'regions': 345, 'set': 365, 'oct': 299, 'release': 346, 'encore': 160, 'al': 53, 'iwfushpz9c': 230, 'kinetic': 246, 'manifesto': 266, 'film': 181, '에피소드': 695, 'd0gvvrfzc5': 141, '대기실에': 546, '물병이': 589, '많을': 571, '방탄이들은': 617, '할까요': 805, '오늘은창의력대장': 713, '아미바라기': 680, 'euh7mrifp0': 168, '2019': 18, '가요대축제': 491, 'wl6bk0gdvx': 474, '방탄배': 612, '농구': 534, '대결': 545, '오늘의': 714, '승자는': 667, '방탄이들의_농구_대결': 620, '숨겨진_농구_고수': 662, 'r6ihlw8pg3': 337, 'do': 148, 'hear': 212, 'me': 271, 'yeah': 479, 'that': 402, 'sound': 385, 'performing': 319, 'full': 190, '2018': 17, 'vr6nyqfsxv': 452, 'variety': 441, 'btsxvariety': 114, 'jaxvf4nl6x': 235, 'hey': 214, 'announce': 62, 'joining': 243, 'tuesday': 427, '6th': 37, 'very': 445, 'radiocom': 339, 'take': 399, 'agdmaywdtk': 52, 'sneak': 379, 'peek': 315, 'cover': 138, 'vdztkqggzw': 443, '8nr0qg9uu8': 42, 'winners': 470, 'announced': 63, 'soundcheck': 386, 'sweepstakes': 398, 'were': 463, 'sent': 363, 'email': 158, '22': 20, 'claim': 127, 'new': 288, 'pri': 330, 'kosweopp7c': 249, 'star': 390, 'spotlight': 389, 'ayy': 77, 'song': 383, 'idol': 222, 'first': 183, 'fu': 189, '달님': 540, '소원은요': 654, '방탄소년단의': 615, '추석맞이': 768, '소원': 653, '빌기': 634, '합니다': 809, 'visu3gkmll': 448, '한국': 801, '개봉': 496, '기념': 521, '국내': 515, '이벤트': 731, 'mv': 285, 'side': 370, '상영': 643, '스페셜': 665, '한정': 804, '수량': 659, '재입고': 739, '매주': 575, '새로운': 646, '특전': 782, '증정': 756, 'jmldh8iqge': 241, '무슨': 586, '쟁반같이': 740, '둥근': 552, '소원을': 655, '들어줄': 557, '보라색': 628, '달이': 542, '떴습니다': 561, '방탄도령단': 610, '해피추석': 813, '즐거운_한가위_보내세요': 753, 'fefxkyfbrd': 179, 'chuseok': 126, '추석은': 770, '역시': 702, '풍요롭고': 792, '행복한': 814, '한가위': 800, '되세요': 551, '달달무슨달': 541, '방탄같이밝은달': 608, '어디어디떴나': 689, '아미마음에떴지': 679, '미리해피추석아미': 594, 'du6stl7u8c': 153, 'deluxe': 147, 'mofu84hujn': 277, '한번의': 803, '기적이': 523, '일어났습니다': 734, '꾸준한': 528, '사랑': 637, '보내주시는': 626, '세계': 651, '정말': 744, '감사합니다': 493, 'ls0pr7hzyl': 259, 'friday': 187, 'u5gcakklns': 431, '추석': 766, '특선': 781, '아미데이': 676, 'timeline': 413, '즐거운': 752, '연휴를': 707, '위해': 725, '선물': 649, '보따리를': 627, '풀어봅니다': 791, '추석선물보따리': 769, '방탄나와라뚝딱': 609, '에피밤보따리': 694, '추석_특선_아미데이': 767, 'gnelljpc5w': 198, 'who': 467, 'box': 94, 'xi9z': 476, '예약구매': 711, '예스24': 709, 'edwu22lzad': 156, '신나라': 672, 'ngf9alqly1': 289, '핫트랙스': 811, 'oorsm4z0ld': 308, '앨범': 688, '이미지': 730, '상에': 642, '오류가': 717, '있어': 737, '교체하였습니다': 511, '구성품': 514, '포토카드': 789, '9장이': 45, '아닌': 674, '8장입니다': 43, '혼선을': 817, '드려': 555, '죄송합니다': 745}\n"
     ]
    }
   ],
   "source": [
    "vectorizer = TfidfVectorizer()\n",
    "vectorizer.fit(user_texts)\n",
    "print(vectorizer.vocabulary_)"
   ]
  },
  {
   "cell_type": "code",
   "execution_count": 85,
   "metadata": {},
   "outputs": [
    {
     "name": "stdout",
     "output_type": "stream",
     "text": [
      "(100, 821)\n"
     ]
    }
   ],
   "source": [
    "vector = vectorizer.transform(user_texts)\n",
    "print(vector.shape)"
   ]
  },
  {
   "cell_type": "markdown",
   "metadata": {},
   "source": [
    "#### Word Cloud"
   ]
  },
  {
   "cell_type": "code",
   "execution_count": 86,
   "metadata": {},
   "outputs": [],
   "source": [
    "user_combined = ', '.join(user_texts)"
   ]
  },
  {
   "cell_type": "code",
   "execution_count": 87,
   "metadata": {},
   "outputs": [
    {
     "data": {
      "image/png": "[encoded data removed]",
      "text/plain": [
       "<Figure size 432x288 with 1 Axes>"
      ]
     },
     "metadata": {
      "needs_background": "light"
     },
     "output_type": "display_data"
    }
   ],
   "source": [
    "wordcloud = WordCloud().generate(user_combined)\n",
    "\n",
    "plt.imshow(wordcloud, interpolation='bilinear')\n",
    "plt.axis('off')\n",
    "plt.show()"
   ]
  },
  {
   "cell_type": "markdown",
   "metadata": {},
   "source": [
    "Let us try to access Donald J. Trump's Twitter account. Donald J. Trump's Twitter ID is @realDonaldTrump."
   ]
  },
  {
   "cell_type": "code",
   "execution_count": 88,
   "metadata": {},
   "outputs": [
    {
     "name": "stdout",
     "output_type": "stream",
     "text": [
      "[{'id': 25073877, 'id_str': '25073877', 'name': 'Donald J. Trump', 'screen_name': 'realDonaldTrump', 'location': 'Washington, DC', 'description': '45th President of the United States of America🇺🇸', 'url': 'https://t.co/8f9VFxztEJ', 'entities': {'url': {'urls': [{'url': 'https://t.co/8f9VFxztEJ', 'expanded_url': 'http://Vote.DonaldJTrump.com', 'display_url': 'Vote.DonaldJTrump.com', 'indices': [0, 23]}]}, 'description': {'urls': []}}, 'protected': False, 'followers_count': 87358501, 'friends_count': 50, 'listed_count': 121730, 'created_at': 'Wed Mar 18 13:46:38 +0000 2009', 'favourites_count': 6, 'utc_offset': None, 'time_zone': None, 'geo_enabled': True, 'verified': True, 'statuses_count': 57776, 'lang': None, 'status': {'created_at': 'Thu Oct 29 04:11:14 +0000 2020', 'id': 1321665874173059072, 'id_str': '1321665874173059072', 'text': 'RT @realannapaulina: My new commercial is out! \\n\\nVote LUNA early on your absentee ballot or in-person November 3rd! https://t.co/CVJ1GHsjjM', 'truncated': False, 'entities': {'hashtags': [], 'symbols': [], 'user_mentions': [{'screen_name': 'realannapaulina', 'name': 'Anna Paulina Luna', 'id': 913308968809672705, 'id_str': '913308968809672705', 'indices': [3, 19]}], 'urls': [], 'media': [{'id': 1312188986023120896, 'id_str': '1312188986023120896', 'indices': [116, 139], 'media_url': 'http://pbs.twimg.com/ext_tw_video_thumb/1312188986023120896/pu/img/DrNBKnt3wRlbrHyX.jpg', 'media_url_https': 'https://pbs.twimg.com/ext_tw_video_thumb/1312188986023120896/pu/img/DrNBKnt3wRlbrHyX.jpg', 'url': 'https://t.co/CVJ1GHsjjM', 'display_url': 'pic.twitter.com/CVJ1GHsjjM', 'expanded_url': 'https://twitter.com/realannapaulina/status/1312189128830717955/video/1', 'type': 'photo', 'sizes': {'thumb': {'w': 150, 'h': 150, 'resize': 'crop'}, 'medium': {'w': 1200, 'h': 675, 'resize': 'fit'}, 'small': {'w': 680, 'h': 383, 'resize': 'fit'}, 'large': {'w': 1280, 'h': 720, 'resize': 'fit'}}, 'source_status_id': 1312189128830717955, 'source_status_id_str': '1312189128830717955', 'source_user_id': 913308968809672705, 'source_user_id_str': '913308968809672705'}]}, 'extended_entities': {'media': [{'id': 1312188986023120896, 'id_str': '1312188986023120896', 'indices': [116, 139], 'media_url': 'http://pbs.twimg.com/ext_tw_video_thumb/1312188986023120896/pu/img/DrNBKnt3wRlbrHyX.jpg', 'media_url_https': 'https://pbs.twimg.com/ext_tw_video_thumb/1312188986023120896/pu/img/DrNBKnt3wRlbrHyX.jpg', 'url': 'https://t.co/CVJ1GHsjjM', 'display_url': 'pic.twitter.com/CVJ1GHsjjM', 'expanded_url': 'https://twitter.com/realannapaulina/status/1312189128830717955/video/1', 'type': 'video', 'sizes': {'thumb': {'w': 150, 'h': 150, 'resize': 'crop'}, 'medium': {'w': 1200, 'h': 675, 'resize': 'fit'}, 'small': {'w': 680, 'h': 383, 'resize': 'fit'}, 'large': {'w': 1280, 'h': 720, 'resize': 'fit'}}, 'source_status_id': 1312189128830717955, 'source_status_id_str': '1312189128830717955', 'source_user_id': 913308968809672705, 'source_user_id_str': '913308968809672705', 'video_info': {'aspect_ratio': [16, 9], 'duration_millis': 59595, 'variants': [{'bitrate': 832000, 'content_type': 'video/mp4', 'url': 'https://video.twimg.com/ext_tw_video/1312188986023120896/pu/vid/640x360/3awZhBYUbHaWEt2S.mp4?tag=10'}, {'bitrate': 256000, 'content_type': 'video/mp4', 'url': 'https://video.twimg.com/ext_tw_video/1312188986023120896/pu/vid/480x270/GR_mc2pYw4aQwDcn.mp4?tag=10'}, {'bitrate': 2176000, 'content_type': 'video/mp4', 'url': 'https://video.twimg.com/ext_tw_video/1312188986023120896/pu/vid/1280x720/rbx_HYBAqFYW0SrN.mp4?tag=10'}, {'content_type': 'application/x-mpegURL', 'url': 'https://video.twimg.com/ext_tw_video/1312188986023120896/pu/pl/xyD2J1Heq3xvLeEl.m3u8?tag=10'}]}, 'additional_media_info': {'monetizable': False}}]}, 'source': '<a href=\"http://twitter.com/download/iphone\" rel=\"nofollow\">Twitter for iPhone</a>', 'in_reply_to_status_id': None, 'in_reply_to_status_id_str': None, 'in_reply_to_user_id': None, 'in_reply_to_user_id_str': None, 'in_reply_to_screen_name': None, 'geo': None, 'coordinates': None, 'place': None, 'contributors': None, 'retweeted_status': {'created_at': 'Sat Oct 03 00:34:02 +0000 2020', 'id': 1312189128830717955, 'id_str': '1312189128830717955', 'text': 'My new commercial is out! \\n\\nVote LUNA early on your absentee ballot or in-person November 3rd! https://t.co/CVJ1GHsjjM', 'truncated': False, 'entities': {'hashtags': [], 'symbols': [], 'user_mentions': [], 'urls': [], 'media': [{'id': 1312188986023120896, 'id_str': '1312188986023120896', 'indices': [95, 118], 'media_url': 'http://pbs.twimg.com/ext_tw_video_thumb/1312188986023120896/pu/img/DrNBKnt3wRlbrHyX.jpg', 'media_url_https': 'https://pbs.twimg.com/ext_tw_video_thumb/1312188986023120896/pu/img/DrNBKnt3wRlbrHyX.jpg', 'url': 'https://t.co/CVJ1GHsjjM', 'display_url': 'pic.twitter.com/CVJ1GHsjjM', 'expanded_url': 'https://twitter.com/realannapaulina/status/1312189128830717955/video/1', 'type': 'photo', 'sizes': {'thumb': {'w': 150, 'h': 150, 'resize': 'crop'}, 'medium': {'w': 1200, 'h': 675, 'resize': 'fit'}, 'small': {'w': 680, 'h': 383, 'resize': 'fit'}, 'large': {'w': 1280, 'h': 720, 'resize': 'fit'}}}]}, 'extended_entities': {'media': [{'id': 1312188986023120896, 'id_str': '1312188986023120896', 'indices': [95, 118], 'media_url': 'http://pbs.twimg.com/ext_tw_video_thumb/1312188986023120896/pu/img/DrNBKnt3wRlbrHyX.jpg', 'media_url_https': 'https://pbs.twimg.com/ext_tw_video_thumb/1312188986023120896/pu/img/DrNBKnt3wRlbrHyX.jpg', 'url': 'https://t.co/CVJ1GHsjjM', 'display_url': 'pic.twitter.com/CVJ1GHsjjM', 'expanded_url': 'https://twitter.com/realannapaulina/status/1312189128830717955/video/1', 'type': 'video', 'sizes': {'thumb': {'w': 150, 'h': 150, 'resize': 'crop'}, 'medium': {'w': 1200, 'h': 675, 'resize': 'fit'}, 'small': {'w': 680, 'h': 383, 'resize': 'fit'}, 'large': {'w': 1280, 'h': 720, 'resize': 'fit'}}, 'video_info': {'aspect_ratio': [16, 9], 'duration_millis': 59595, 'variants': [{'bitrate': 832000, 'content_type': 'video/mp4', 'url': 'https://video.twimg.com/ext_tw_video/1312188986023120896/pu/vid/640x360/3awZhBYUbHaWEt2S.mp4?tag=10'}, {'bitrate': 256000, 'content_type': 'video/mp4', 'url': 'https://video.twimg.com/ext_tw_video/1312188986023120896/pu/vid/480x270/GR_mc2pYw4aQwDcn.mp4?tag=10'}, {'bitrate': 2176000, 'content_type': 'video/mp4', 'url': 'https://video.twimg.com/ext_tw_video/1312188986023120896/pu/vid/1280x720/rbx_HYBAqFYW0SrN.mp4?tag=10'}, {'content_type': 'application/x-mpegURL', 'url': 'https://video.twimg.com/ext_tw_video/1312188986023120896/pu/pl/xyD2J1Heq3xvLeEl.m3u8?tag=10'}]}, 'additional_media_info': {'monetizable': False}}]}, 'source': '<a href=\"http://twitter.com/download/iphone\" rel=\"nofollow\">Twitter for iPhone</a>', 'in_reply_to_status_id': None, 'in_reply_to_status_id_str': None, 'in_reply_to_user_id': None, 'in_reply_to_user_id_str': None, 'in_reply_to_screen_name': None, 'geo': None, 'coordinates': None, 'place': {'id': '5d231ed8656fcf5a', 'url': 'https://api.twitter.com/1.1/geo/id/5d231ed8656fcf5a.json', 'place_type': 'city', 'name': 'St Petersburg', 'full_name': 'St Petersburg, FL', 'country_code': 'US', 'country': 'United States', 'contained_within': [], 'bounding_box': {'type': 'Polygon', 'coordinates': [[[-82.758209, 27.694323], [-82.587597, 27.694323], [-82.587597, 27.8971155], [-82.758209, 27.8971155]]]}, 'attributes': {}}, 'contributors': None, 'is_quote_status': False, 'retweet_count': 6661, 'favorite_count': 17356, 'favorited': False, 'retweeted': False, 'possibly_sensitive': True, 'lang': 'en'}, 'is_quote_status': False, 'retweet_count': 6661, 'favorite_count': 0, 'favorited': False, 'retweeted': False, 'possibly_sensitive': True, 'lang': 'en'}, 'contributors_enabled': False, 'is_translator': False, 'is_translation_enabled': True, 'profile_background_color': '6D5C18', 'profile_background_image_url': 'http://abs.twimg.com/images/themes/theme1/bg.png', 'profile_background_image_url_https': 'https://abs.twimg.com/images/themes/theme1/bg.png', 'profile_background_tile': True, 'profile_image_url': 'http://pbs.twimg.com/profile_images/874276197357596672/kUuht00m_normal.jpg', 'profile_image_url_https': 'https://pbs.twimg.com/profile_images/874276197357596672/kUuht00m_normal.jpg', 'profile_banner_url': 'https://pbs.twimg.com/profile_banners/25073877/1600830803', 'profile_link_color': '1B95E0', 'profile_sidebar_border_color': 'BDDCAD', 'profile_sidebar_fill_color': 'C5CEC0', 'profile_text_color': '333333', 'profile_use_background_image': True, 'has_extended_profile': False, 'default_profile': False, 'default_profile_image': False, 'following': False, 'follow_request_sent': False, 'notifications': False, 'translator_type': 'regular'}]\n"
     ]
    }
   ],
   "source": [
    "account = twitter_api.users.lookup(screen_name='realDonaldTrump')\n",
    "print(account)"
   ]
  },
  {
   "cell_type": "code",
   "execution_count": 89,
   "metadata": {},
   "outputs": [
    {
     "data": {
      "text/plain": [
       "dict_keys(['id', 'id_str', 'name', 'screen_name', 'location', 'description', 'url', 'entities', 'protected', 'followers_count', 'friends_count', 'listed_count', 'created_at', 'favourites_count', 'utc_offset', 'time_zone', 'geo_enabled', 'verified', 'statuses_count', 'lang', 'status', 'contributors_enabled', 'is_translator', 'is_translation_enabled', 'profile_background_color', 'profile_background_image_url', 'profile_background_image_url_https', 'profile_background_tile', 'profile_image_url', 'profile_image_url_https', 'profile_banner_url', 'profile_link_color', 'profile_sidebar_border_color', 'profile_sidebar_fill_color', 'profile_text_color', 'profile_use_background_image', 'has_extended_profile', 'default_profile', 'default_profile_image', 'following', 'follow_request_sent', 'notifications', 'translator_type'])"
      ]
     },
     "execution_count": 89,
     "metadata": {},
     "output_type": "execute_result"
    }
   ],
   "source": [
    "account[0].keys()"
   ]
  },
  {
   "cell_type": "code",
   "execution_count": 90,
   "metadata": {},
   "outputs": [],
   "source": [
    "account_name = account[0]['name']\n",
    "account_description = account[0]['description']\n",
    "account_followers = account[0]['followers_count']"
   ]
  },
  {
   "cell_type": "code",
   "execution_count": 91,
   "metadata": {},
   "outputs": [
    {
     "name": "stdout",
     "output_type": "stream",
     "text": [
      "Donald J. Trump\n",
      "45th President of the United States of America🇺🇸\n",
      "87358501\n"
     ]
    }
   ],
   "source": [
    "print(account_name)\n",
    "print(account_description)\n",
    "print(account_followers)"
   ]
  },
  {
   "cell_type": "code",
   "execution_count": 141,
   "metadata": {},
   "outputs": [],
   "source": [
    "user_tweets = twitter_api.statuses.user_timeline(screen_name='realDonaldTrump', count=100)\n",
    "#print(user_tweets)"
   ]
  },
  {
   "cell_type": "code",
   "execution_count": 93,
   "metadata": {},
   "outputs": [
    {
     "data": {
      "text/plain": [
       "100"
      ]
     },
     "execution_count": 93,
     "metadata": {},
     "output_type": "execute_result"
    }
   ],
   "source": [
    "len(user_tweets)"
   ]
  },
  {
   "cell_type": "code",
   "execution_count": 94,
   "metadata": {},
   "outputs": [
    {
     "name": "stdout",
     "output_type": "stream",
     "text": [
      "\n",
      "RT @realannapaulina: My new commercial is out! \n",
      "\n",
      "Vote LUNA early on your absentee ballot or in-person November 3rd! https://t.co/CVJ1GHsjjM\n",
      "\n",
      "Maria is badly needed in Washington. She is an outstanding person who truly loves her Country and her State. Her op… https://t.co/DT8YLpbFHM\n",
      "\n",
      "https://t.co/gsFSgh2KPc\n",
      "\n",
      "Jack, this is a Great Honor. Thank you! https://t.co/60WWISm5hs\n",
      "\n",
      "https://t.co/gsFSgh2KPc https://t.co/j7Z5jC05wP\n",
      "\n",
      "https://t.co/4LTWLgbmsf\n",
      "\n",
      "Why isn’t Biden corruption trending number one on Twitter? Biggest world story, and nowhere to be found. There is n… https://t.co/yuzoM94srt\n",
      "\n",
      "A vote for Joe Biden is a vote for the biggest TAX HIKE in history, crushing regulations, slashing Medicare and Soc… https://t.co/YOv60VYljx\n",
      "\n",
      "https://t.co/6Bww8zo4bk\n",
      "\n",
      "If you vote for Biden, your kids will not be in school, there will be no graduations, no weddings, no Thanksgiving,… https://t.co/iKuRyGUsEf\n"
     ]
    }
   ],
   "source": [
    "for i in range(10):\n",
    "    print()\n",
    "    print(user_tweets[i]['text'])"
   ]
  },
  {
   "cell_type": "code",
   "execution_count": 95,
   "metadata": {},
   "outputs": [
    {
     "data": {
      "text/plain": [
       "100"
      ]
     },
     "execution_count": 95,
     "metadata": {},
     "output_type": "execute_result"
    }
   ],
   "source": [
    "user_texts = [status['text'] for status in user_tweets]\n",
    "len(user_texts)"
   ]
  },
  {
   "cell_type": "code",
   "execution_count": 96,
   "metadata": {},
   "outputs": [
    {
     "data": {
      "text/plain": [
       "['RT @realannapaulina: My new commercial is out! \\n\\nVote LUNA early on your absentee ballot or in-person November 3rd! https://t.co/CVJ1GHsjjM',\n",
       " 'Maria is badly needed in Washington. She is an outstanding person who truly loves her Country and her State. Her op… https://t.co/DT8YLpbFHM',\n",
       " 'https://t.co/gsFSgh2KPc',\n",
       " 'Jack, this is a Great Honor. Thank you! https://t.co/60WWISm5hs',\n",
       " 'https://t.co/gsFSgh2KPc https://t.co/j7Z5jC05wP',\n",
       " 'https://t.co/4LTWLgbmsf',\n",
       " 'Why isn’t Biden corruption trending number one on Twitter? Biggest world story, and nowhere to be found. There is n… https://t.co/yuzoM94srt',\n",
       " 'A vote for Joe Biden is a vote for the biggest TAX HIKE in history, crushing regulations, slashing Medicare and Soc… https://t.co/YOv60VYljx',\n",
       " 'https://t.co/6Bww8zo4bk',\n",
       " 'If you vote for Biden, your kids will not be in school, there will be no graduations, no weddings, no Thanksgiving,… https://t.co/iKuRyGUsEf',\n",
       " 'We will end surprise medical billing, require price transparency, lower drug prices even more, protect Social Secur… https://t.co/ur8TL3FXEs',\n",
       " 'Thank you Goodyear, Arizona! Get out and VOTE — Together, we are going to MAKE AMERICA GREAT AGAIN! https://t.co/r7mVXvoFD2',\n",
       " '....associated with this FRAUD on the American people!',\n",
       " 'Who is Miles Taylor? Said he was “anonymous”, but I don’t know him - never even heard of him. Just another @nytimes… https://t.co/nYqNwJwz8o',\n",
       " 'Thank you @RSBNetwork! #MAGA \\nhttps://t.co/iHlBpNDgkQ',\n",
       " 'https://t.co/1BHWlr9tJx',\n",
       " 'https://t.co/pcPu2cohJI',\n",
       " 'I’m NOT just running against Joe Biden—I’m running against the left-wing media, the Big Tech giants, and the wretch… https://t.co/Bqq8tckzkm',\n",
       " 'Proud citizens like you helped build this Country—and together, we are taking back our Country. We are returning po… https://t.co/Li3WGzs1KO',\n",
       " 'THANK YOU ARIZONA! #MAGA \\nhttps://t.co/QgUI58S4D3',\n",
       " 'Why isn’t Twitter trending Biden corruption? It’s the biggest, and most credible, story anywhere in the world. Fake Trending!!!',\n",
       " 'Media and Big Tech are not covering Biden Corruption!',\n",
       " 'The USA doesn’t have Freedom of the Press, we have Suppression of the Story, or just plain Fake News. So much has b… https://t.co/3vhK5n2hFw',\n",
       " 'https://t.co/YGAn4QULA4',\n",
       " 'RT @News3LV: ONE WEEK TO ELECTION: Calls grow louder to get special prosecutor to investigate Hunter Biden business deals https://t.co/EcGi…',\n",
       " 'It’s amazing. Twitter refuses to allow the any mention of the Biden corruption story which was carried so well on… https://t.co/yfYinvgZbj',\n",
       " 'Volunteer to be a Trump Election Poll Watcher. Sign up today! #MAGA \\nhttps://t.co/3AnrRUPTtZ',\n",
       " 'RT @jeffmason1: Rally crowd for @realDonaldTrump in Omaha, Nebraska. https://t.co/xlXuXGKfXi',\n",
       " 'Incredible evening, incredible people. Love Nebraska, and there were plenty of great people from Iowa there also! $… https://t.co/dq3Qk6zALe',\n",
       " 'Covid, Covid, Covid is the unified chant of the Fake News Lamestream Media. They will talk about nothing else until… https://t.co/SKXJD662a5',\n",
       " 'Thank you Charles. She will be a great one! https://t.co/T2UbLXtMmZ',\n",
       " 'RT @RichLowry: Congratulations to all involved. Trump made a great pick. McConnell played it shrewdly, as usual. Senate Republicans didn’t…',\n",
       " 'As a developer long ago, and continuing to this day, the politicians ran Chicago into the ground. I was able to mak… https://t.co/yIHIcx3Xkk',\n",
       " 'https://t.co/f1mqYvg6Fm',\n",
       " 'We are spending more in Florida, and we are winning big in Florida. Actually, we are winning big in many states as… https://t.co/KZAqkTMbno',\n",
       " 'https://t.co/YGnjje9G4P',\n",
       " 'https://t.co/gsFSgh2KPc https://t.co/IriTZzvGtY',\n",
       " 'https://t.co/gsFSgh2KPc https://t.co/HoLVYSOU2I',\n",
       " 'RT @realDonaldTrump: Obama is drawing VERY small (tiny) numbers of people. Biden is drawing almost no one. We are drawing tens of thousands…',\n",
       " 'THANK YOU NEBRASKA! Get your friends, get your family, get your neighbors &amp; co-workers &amp; GET OUT AND VOTE! We didn’… https://t.co/L8vMj7T46j',\n",
       " 'https://t.co/rEThigvI5W',\n",
       " 'https://t.co/FU5IncJ4VI',\n",
       " 'THANK YOU NEBRASKA! \\nhttps://t.co/k9DWvZO10b',\n",
       " 'On my way to Nebraska, after a great evening in Wisconsin with hardworking American Patriots!… https://t.co/dXyblXF2bJ',\n",
       " 'Thank you WISCONSIN, get out and VOTE! Together, we are going to MAKE AMERICA GREAT AGAIN!! https://t.co/SGEsnCDbVH',\n",
       " 'Joe Biden is a corrupt politician. He wants to send YOUR jobs to China, while his family rakes in millions from the… https://t.co/famvh3Mf2L',\n",
       " 'Under my leadership, we achieved the most Secure Border in U.S. History! My opponent’s insane immigration plan comp… https://t.co/aBnzhtmmK4',\n",
       " 'https://t.co/xgVRpP2Tjc',\n",
       " 'https://t.co/Nd9RVXPp5p',\n",
       " 'WISCONSIN—If I don’t sound like a typical Washington politician, it’s because I’m NOT a politician. If I don’t alwa… https://t.co/MTk2cA6nSN',\n",
       " 'THANK YOU WISCONSIN!\\nhttps://t.co/MYxQShL5nm',\n",
       " 'Just landed in Wisconsin and passed this great sign, thank you! See everyone soon!! #MAGA https://t.co/l2G8JCXnqz',\n",
       " 'Volunteer to be a Trump Election Poll Watcher. Sign up today! #MAGA \\nhttps://t.co/3AnrRUPTtZ',\n",
       " 'https://t.co/gsFSgh2KPc https://t.co/gs5RMGGhDR',\n",
       " 'RT @realDonaldTrump: https://t.co/gsFSghkmdM https://t.co/ao85KjMeBW',\n",
       " 'RT @realDonaldTrump: https://t.co/gsFSghkmdM https://t.co/zNoPFsTnn3',\n",
       " 'RT @realDonaldTrump: https://t.co/gsFSghkmdM https://t.co/CgDeqKDXGH',\n",
       " 'https://t.co/fm20Bkw1NJ',\n",
       " 'This Election Day, you must stop the Anti-American Radicals by delivering Joe Biden and the Far-Left a thundering d… https://t.co/60plJcBabQ',\n",
       " 'https://t.co/sOxdRHa4el',\n",
       " 'Last night, we made history and confirmed Amy Coney Barrett to the United States Supreme Court! Justice Barrett wil… https://t.co/NTzhZUPiIe',\n",
       " 'This election is a choice between a TRUMP RECOVERY or a BIDEN DEPRESSION. It’s a choice between a TRUMP BOOM or a B… https://t.co/dSBuzAbDeH',\n",
       " 'https://t.co/BC2h4oZhQp',\n",
       " 'THANK YOU MICHIGAN!\\nhttps://t.co/GlYrV2xDOO',\n",
       " '3 Points up in Michigan, 2 Points up in Wisconsin, 3 Points up in Pennsylvania. The Great Red Wave is forming, and getting ready to VOTE!',\n",
       " 'Joe Biden FAILED BADLY with the Swine Flu Epidemic. He knows nothing. All talk and no action!',\n",
       " 'RT @PamBondi: MASSIVE line for Ivanka’s event in Sarasota!!!!!! @realDonaldTrump @WomenforTrump @IvankaTrump https://t.co/3COhVb7kmP',\n",
       " 'https://t.co/x8OS4NpvHh',\n",
       " 'https://t.co/401tLM5v3f',\n",
       " 'In Lufkin, Texas — someone was stealing Trump signs, so an anonymous tree climber put up 30 of them throughout the… https://t.co/RnSUc2J7jQ',\n",
       " 'Now @FoxNews is playing Obama’s no crowd, fake speech for Biden, a man he could barely endorse because he couldn’t… https://t.co/YWonGjSJ6O',\n",
       " 'Thank you Michigan—leaving the White House shortly, see you soon! https://t.co/I6VHSgKMSB',\n",
       " 'They (his handlers) ripped Sleepy Joe off the stage yesterday when he got lost in a “mental fog”. A disaster. Very little reporting on this!',\n",
       " 'RT @ChuckCallesto: BREAKING REPORT: Boston Herald ENDORSES President Trump...',\n",
       " 'RT @ChuckCallesto: I JUST VOTED for a man named @realDonaldTrump and I think you should too.. https://t.co/0Be6H6u6nl',\n",
       " 'RT @jacobkschneider: Boston Herald endorses President @realDonaldTrump! \\n\\nThe choice could not be more clear. https://t.co/dIxeNj5L0J',\n",
       " 'RT @marklevinshow: The Boston Herald endorses Trump for re-election \\nhttps://t.co/BMzgPAKt6A',\n",
       " 'RT @DineshDSouza: The Boston Herald on why Trump deserves a second term.   Editorial: The Herald endorses Trump https://t.co/4xYFicRhXC',\n",
       " 'RT @rww_gop: “[Trump is] what America needs right now, decisive action to get us back to pre-pandemic strength — not an unfeasible spending…',\n",
       " 'Thank you to the Boston Herald. A great honor! https://t.co/Wlzcgc9eDo',\n",
       " 'The biggest difference between now and 2016 is @FoxNews. They are a whole different deal. Despite this, our campaig… https://t.co/kHoClh5onC',\n",
       " 'Obama is drawing VERY small (tiny) numbers of people. Biden is drawing almost no one. We are drawing tens of thousa… https://t.co/qCdOZQvLDh',\n",
       " 'Death rate of people going into hospitals is MUCH LOWER now than it was. @MSNBC  Wow, MSDNC has come a long way! Th… https://t.co/hUSPmE2kdN',\n",
       " 'Thank you very much to the great @WashTimes for the wonderful Endorsement of the job I have done as President. “His… https://t.co/bi09aaOoNw',\n",
       " 'https://t.co/gsFSghkmdM https://t.co/ao85KjMeBW',\n",
       " '3% up in Pennsylvania!',\n",
       " 'Big GDP projected. Pelosi only looking to Bail Out badly run Democrat Cities. Tap, Tap, Taping us along. She has li… https://t.co/jIs5up539I',\n",
       " 'Until November 4th., Fake News Media is going full on Covid, Covid, Covid. We are rounding the turn. 99.9%.',\n",
       " 'Three BIG Rallies today. Lansing, Michigan. West Salem, Wisconsin. Omaha, Nebraska. We are winning all over the place. See you later!!!',\n",
       " 'RT @KerriKupecDOJ: This is an impressive report on the Department’s work over the last four years to combat MS-13. Worth a read!',\n",
       " 'RT @FLOTUS: This is admin will never stop fighting for the health &amp; safety of the American people. This is another big step in defeating th…',\n",
       " 'RT @KerriKupecDOJ: “The mission of #OperationLegend is to save lives, solve crimes, &amp; take violent offenders off our streets before they ca…',\n",
       " 'RT @SBANYPD: The people of NYS need a change from the elected officials who have done nothing but destroy NYS State. VOTE for someone who t…',\n",
       " 'New York. Vote for Trump. What (the Hell!) do you have to lose? https://t.co/XqURHZxCxP',\n",
       " 'RT @johnrobertsFox: Statement from fame Lt. Tony Bobulinski - a business associate of Hunter Biden - obtained by \\u2066@FoxNews\\u2069 https://t.co/mC…',\n",
       " 'RT @SBANYPD: Nicole Malliotakis supports law enforcement she is an honest hard working elected official, who truly cares about the people s…',\n",
       " 'To beautiful Staten Island and Brooklyn. Nicole has my Complete and Total Endorsement. VOTE! https://t.co/HKxs7Pavgj',\n",
       " 'RT @SBANYPD: Another tape that will be blamed on the Russians...Max Rose does not work for his constituents he works for Max Rose. Vote him…',\n",
       " 'Thank you to the most incredible people on earth. I stand with you 100%. Get that great Officer back to work! https://t.co/nMH3MlBCqU',\n",
       " 'RT @SBANYPD: Law &amp; Disorder in DeBlasios NYC. He will describe this as PEACEFUL PROTESTORS throwing objects at Trump supporters on Prospect…']"
      ]
     },
     "execution_count": 96,
     "metadata": {},
     "output_type": "execute_result"
    }
   ],
   "source": [
    "user_texts"
   ]
  },
  {
   "cell_type": "markdown",
   "metadata": {},
   "source": [
    "#### Count Vectoriser"
   ]
  },
  {
   "cell_type": "code",
   "execution_count": 97,
   "metadata": {},
   "outputs": [
    {
     "name": "stdout",
     "output_type": "stream",
     "text": [
      "['0be6h6u6nl', '100', '13', '1bhwlr9tjx', '2016', '30', '3anrrupttz', '3cohvb7kmp', '3rd', '3vhk5n2hfw', '401tlm5v3f', '4ltwlgbmsf', '4th', '4xyficrhxc', '60pljcbabq', '60wwism5hs', '6bww8zo4bk', '99', 'able', 'abnzhtmmk4', 'about', 'absentee', 'achieved', 'action', 'actually', 'admin', 'after', 'again', 'against', 'ago', 'all', 'allow', 'almost', 'along', 'also', 'alwa', 'amazing', 'america', 'american', 'amp', 'amy', 'an', 'and', 'anonymous', 'another', 'anti', 'any', 'anywhere', 'ao85kjmebw', 'are', 'arizona', 'as', 'associate', 'associated', 'at', 'back', 'badly', 'bail', 'ballot', 'barely', 'barrett', 'bc2h4ozhqp', 'be', 'beautiful', 'because', 'before', 'between', 'bi09aaoonw', 'biden', 'big', 'biggest', 'billing', 'blamed', 'bmzgpakt6a', 'bobulinski', 'boom', 'border', 'boston', 'bqq8tckzkm', 'breaking', 'brooklyn', 'build', 'business', 'but', 'by', 'ca', 'calls', 'campaig', 'cares', 'carried', 'cgdeqkdxgh', 'change', 'chant', 'charles', 'chicago', 'china', 'choice', 'chuckcallesto', 'cities', 'citizens', 'clear', 'climber', 'co', 'combat', 'come', 'commercial', 'comp', 'complete', 'coney', 'confirmed', 'congratulations', 'constituents', 'continuing', 'corrupt', 'corruption', 'could', 'couldn', 'country', 'court', 'covering', 'covid', 'credible', 'crimes', 'crowd', 'crushing', 'cvj1ghsjjm', 'day', 'deal', 'deals', 'death', 'deblasios', 'decisive', 'defeating', 'delivering', 'democrat', 'department', 'depression', 'describe', 'deserves', 'despite', 'destroy', 'developer', 'didn', 'difference', 'different', 'dineshdsouza', 'disaster', 'disorder', 'dixenj5l0j', 'do', 'does', 'doesn', 'don', 'done', 'dq3qk6zale', 'drawing', 'drug', 'dsbuzabdeh', 'dt8ylpbfhm', 'dxyblxf2bj', 'early', 'earth', 'ecgi', 'editorial', 'elected', 'election', 'else', 'end', 'endorse', 'endorsement', 'endorses', 'enforcement', 'epidemic', 'even', 'evening', 'event', 'everyone', 'f1mqyvg6fm', 'failed', 'fake', 'fame', 'family', 'famvh3mf2l', 'far', 'fighting', 'florida', 'flotus', 'flu', 'fm20bkw1nj', 'fog', 'for', 'forming', 'found', 'four', 'foxnews', 'fraud', 'freedom', 'friends', 'from', 'fu5incj4vi', 'full', 'gdp', 'get', 'getting', 'giants', 'glyrv2xdoo', 'going', 'goodyear', 'got', 'graduations', 'great', 'ground', 'grow', 'gs5rmgghdr', 'gsfsgh2kpc', 'gsfsghkmdm', 'handlers', 'hard', 'hardworking', 'has', 'have', 'he', 'health', 'heard', 'hell', 'helped', 'her', 'herald', 'hike', 'him', 'his', 'history', 'hkxs7pavgj', 'holvysou2i', 'honest', 'honor', 'hospitals', 'house', 'https', 'hunter', 'huspme2kdn', 'i6vhsgkmsb', 'if', 'ihlbpndgkq', 'ikurygusef', 'immigration', 'impressive', 'in', 'incredible', 'insane', 'into', 'investigate', 'involved', 'iowa', 'iritzzvgty', 'is', 'island', 'isn', 'it', 'ivanka', 'ivankatrump', 'j7z5jc05wp', 'jack', 'jacobkschneider', 'jeffmason1', 'jis5up539i', 'job', 'jobs', 'joe', 'johnrobertsfox', 'just', 'justice', 'k9dwvzo10b', 'kerrikupecdoj', 'khoclh5onc', 'kids', 'know', 'knows', 'kzaqktmbno', 'l2g8jcxnqz', 'l8vmj7t46j', 'lamestream', 'landed', 'lansing', 'last', 'later', 'law', 'leadership', 'leaving', 'left', 'li', 'li3wgzs1ko', 'like', 'line', 'little', 'lives', 'long', 'looking', 'lose', 'lost', 'louder', 'love', 'loves', 'lower', 'lt', 'lufkin', 'luna', 'made', 'maga', 'mak', 'make', 'malliotakis', 'man', 'many', 'maria', 'marklevinshow', 'massive', 'max', 'mc', 'mcconnell', 'media', 'medical', 'medicare', 'mental', 'mention', 'michigan', 'miles', 'millions', 'mission', 'more', 'most', 'ms', 'msdnc', 'msnbc', 'mtk2ca6nsn', 'much', 'must', 'my', 'myxqshl5nm', 'named', 'nd9rvxpp5p', 'nebraska', 'need', 'needed', 'needs', 'neighbors', 'never', 'new', 'news', 'news3lv', 'nicole', 'night', 'nmh3mlbcqu', 'no', 'not', 'nothing', 'november', 'now', 'nowhere', 'ntzhzupiie', 'number', 'numbers', 'nyc', 'nyqnwjwz8o', 'nys', 'nytimes', 'obama', 'objects', 'obtained', 'of', 'off', 'offenders', 'officer', 'official', 'officials', 'omaha', 'on', 'one', 'only', 'op', 'operationlegend', 'opponent', 'or', 'our', 'out', 'outstanding', 'over', 'pambondi', 'pandemic', 'passed', 'patriots', 'pcpu2cohji', 'peaceful', 'pelosi', 'pennsylvania', 'people', 'person', 'pick', 'place', 'plain', 'plan', 'played', 'playing', 'plenty', 'po', 'points', 'politician', 'politicians', 'poll', 'pre', 'president', 'press', 'price', 'prices', 'projected', 'prosecutor', 'prospect', 'protect', 'protestors', 'proud', 'put', 'qcdozqvldh', 'qgui58s4d3', 'r7mvxvofd2', 'radicals', 'rakes', 'rallies', 'rally', 'ran', 'rate', 're', 'read', 'ready', 'realannapaulina', 'realdonaldtrump', 'recovery', 'red', 'refuses', 'regulations', 'report', 'reporting', 'republicans', 'require', 'rethigvi5w', 'returning', 'richlowry', 'right', 'ripped', 'rnsuc2j7jq', 'rose', 'rounding', 'rsbnetwork', 'rt', 'run', 'running', 'russians', 'rww_gop', 'safety', 'said', 'salem', 'sarasota', 'save', 'sbanypd', 'school', 'second', 'secur', 'secure', 'see', 'senate', 'send', 'sgesncdbvh', 'she', 'shortly', 'should', 'shrewdly', 'sign', 'signs', 'skxjd662a5', 'slashing', 'sleepy', 'small', 'so', 'soc', 'social', 'solve', 'someone', 'soon', 'sound', 'soxdrha4el', 'special', 'speech', 'spending', 'stage', 'stand', 'state', 'statement', 'staten', 'states', 'stealing', 'step', 'stop', 'story', 'streets', 'strength', 'supporters', 'supports', 'suppression', 'supreme', 'surprise', 'swine', 't2ublxtmmz', 'take', 'taking', 'talk', 'tap', 'tape', 'taping', 'tax', 'taylor', 'tech', 'tens', 'term', 'texas', 'th', 'than', 'thank', 'thanksgiving', 'that', 'the', 'them', 'there', 'they', 'think', 'this', 'thousa', 'thousands', 'three', 'throughout', 'throwing', 'thundering', 'tiny', 'to', 'today', 'together', 'tony', 'too', 'total', 'transparency', 'tree', 'trending', 'truly', 'trump', 'turn', 'twitter', 'typical', 'under', 'unfeasible', 'unified', 'united', 'until', 'up', 'ur8tl3fxes', 'us', 'usa', 'usual', 'very', 'violent', 'volunteer', 'vote', 'voted', 'wants', 'was', 'washington', 'washtimes', 'watcher', 'wave', 'way', 'we', 'weddings', 'week', 'well', 'were', 'west', 'what', 'when', 'which', 'while', 'white', 'who', 'whole', 'why', 'wil', 'will', 'wing', 'winning', 'wisconsin', 'with', 'wlzcgc9edo', 'womenfortrump', 'wonderful', 'work', 'workers', 'working', 'works', 'world', 'worth', 'wow', 'wretch', 'x8os4npvhh', 'xgvrpp2tjc', 'xlxuxgkfxi', 'xqurhzxcxp', 'years', 'yesterday', 'yfyinvgzbj', 'ygan4qula4', 'ygnjje9g4p', 'yihicx3xkk', 'york', 'you', 'your', 'yov60vyljx', 'yuzom94srt', 'ywongjsj6o', 'znopfstnn3']\n"
     ]
    }
   ],
   "source": [
    "vectorizer = CountVectorizer()\n",
    "x = vectorizer.fit_transform(user_texts)\n",
    "print(vectorizer.get_feature_names())"
   ]
  },
  {
   "cell_type": "code",
   "execution_count": 98,
   "metadata": {},
   "outputs": [
    {
     "name": "stdout",
     "output_type": "stream",
     "text": [
      "[[0 0 0 ... 0 0 0]\n",
      " [0 0 0 ... 0 0 0]\n",
      " [0 0 0 ... 0 0 0]\n",
      " ...\n",
      " [0 0 0 ... 0 0 0]\n",
      " [0 1 0 ... 0 0 0]\n",
      " [0 0 0 ... 0 0 0]]\n"
     ]
    }
   ],
   "source": [
    "print(x.toarray())"
   ]
  },
  {
   "cell_type": "markdown",
   "metadata": {},
   "source": [
    "#### TF-IDF Vectoriser"
   ]
  },
  {
   "cell_type": "code",
   "execution_count": 99,
   "metadata": {},
   "outputs": [
    {
     "name": "stdout",
     "output_type": "stream",
     "text": [
      "{'rt': 452, 'realannapaulina': 433, 'my': 337, 'new': 347, 'commercial': 105, 'is': 255, 'out': 384, 'vote': 568, 'luna': 306, 'early': 160, 'on': 376, 'your': 620, 'absentee': 21, 'ballot': 58, 'or': 382, 'in': 247, 'person': 396, 'november': 356, '3rd': 8, 'https': 238, 'co': 102, 'cvj1ghsjjm': 125, 'maria': 314, 'badly': 56, 'needed': 343, 'washington': 572, 'she': 471, 'an': 41, 'outstanding': 385, 'who': 588, 'truly': 550, 'loves': 302, 'her': 226, 'country': 117, 'and': 42, 'state': 494, 'op': 379, 'dt8ylpbfhm': 158, 'gsfsgh2kpc': 214, 'jack': 262, 'this': 533, 'great': 210, 'honor': 235, 'thank': 525, 'you': 619, '60wwism5hs': 15, 'j7z5jc05wp': 261, '4ltwlgbmsf': 11, 'why': 590, 'isn': 257, 'biden': 68, 'corruption': 114, 'trending': 549, 'number': 360, 'one': 377, 'twitter': 553, 'biggest': 70, 'world': 604, 'story': 501, 'nowhere': 358, 'to': 541, 'be': 62, 'found': 192, 'there': 530, 'yuzom94srt': 622, 'for': 190, 'joe': 268, 'the': 528, 'tax': 517, 'hike': 228, 'history': 231, 'crushing': 124, 'regulations': 438, 'slashing': 478, 'medicare': 322, 'soc': 482, 'yov60vyljx': 621, '6bww8zo4bk': 16, 'if': 242, 'kids': 275, 'will': 592, 'not': 354, 'school': 463, 'no': 353, 'graduations': 209, 'weddings': 578, 'thanksgiving': 526, 'ikurygusef': 244, 'we': 577, 'end': 167, 'surprise': 508, 'medical': 321, 'billing': 71, 'require': 442, 'price': 412, 'transparency': 547, 'lower': 303, 'drug': 156, 'prices': 413, 'even': 173, 'more': 329, 'protect': 417, 'social': 483, 'secur': 465, 'ur8tl3fxes': 561, 'goodyear': 207, 'arizona': 50, 'get': 202, 'together': 543, 'are': 49, 'going': 206, 'make': 310, 'america': 37, 'again': 27, 'r7mvxvofd2': 423, 'associated': 53, 'with': 596, 'fraud': 195, 'american': 38, 'people': 395, 'miles': 326, 'taylor': 518, 'said': 458, 'he': 221, 'was': 571, 'anonymous': 43, 'but': 83, 'don': 152, 'know': 276, 'him': 229, 'never': 346, 'heard': 223, 'of': 369, 'just': 270, 'another': 44, 'nytimes': 365, 'nyqnwjwz8o': 363, 'rsbnetwork': 451, 'maga': 308, 'ihlbpndgkq': 243, '1bhwlr9tjx': 3, 'pcpu2cohji': 391, 'running': 454, 'against': 28, 'left': 289, 'wing': 593, 'media': 320, 'big': 69, 'tech': 519, 'giants': 204, 'wretch': 607, 'bqq8tckzkm': 78, 'proud': 419, 'citizens': 99, 'like': 292, 'helped': 225, 'build': 81, 'taking': 512, 'back': 55, 'our': 383, 'returning': 444, 'po': 404, 'li3wgzs1ko': 291, 'qgui58s4d3': 422, 'it': 258, 'most': 330, 'credible': 121, 'anywhere': 47, 'fake': 179, 'covering': 119, 'usa': 563, 'doesn': 151, 'have': 220, 'freedom': 196, 'press': 411, 'suppression': 506, 'plain': 399, 'news': 348, 'so': 481, 'much': 335, 'has': 219, '3vhk5n2hfw': 9, 'ygan4qula4': 615, 'news3lv': 349, 'week': 579, 'election': 165, 'calls': 86, 'grow': 212, 'louder': 300, 'special': 489, 'prosecutor': 415, 'investigate': 251, 'hunter': 239, 'business': 82, 'deals': 128, 'ecgi': 162, 'amazing': 36, 'refuses': 437, 'allow': 31, 'any': 46, 'mention': 324, 'which': 585, 'carried': 89, 'well': 580, 'yfyinvgzbj': 614, 'volunteer': 567, 'trump': 551, 'poll': 408, 'watcher': 574, 'sign': 475, 'up': 560, 'today': 542, '3anrrupttz': 6, 'jeffmason1': 264, 'rally': 427, 'crowd': 123, 'realdonaldtrump': 434, 'omaha': 375, 'nebraska': 341, 'xlxuxgkfxi': 610, 'incredible': 248, 'evening': 174, 'love': 301, 'were': 581, 'plenty': 403, 'from': 198, 'iowa': 253, 'also': 34, 'dq3qk6zale': 154, 'covid': 120, 'unified': 557, 'chant': 92, 'lamestream': 281, 'they': 531, 'talk': 513, 'about': 20, 'nothing': 355, 'else': 166, 'until': 559, 'skxjd662a5': 477, 'charles': 93, 't2ublxtmmz': 510, 'richlowry': 445, 'congratulations': 110, 'all': 30, 'involved': 252, 'made': 307, 'pick': 397, 'mcconnell': 319, 'played': 401, 'shrewdly': 474, 'as': 51, 'usual': 564, 'senate': 468, 'republicans': 441, 'didn': 142, 'developer': 141, 'long': 296, 'ago': 29, 'continuing': 112, 'day': 126, 'politicians': 407, 'ran': 428, 'chicago': 94, 'into': 250, 'ground': 211, 'able': 18, 'mak': 309, 'yihicx3xkk': 617, 'f1mqyvg6fm': 177, 'spending': 491, 'florida': 185, 'winning': 594, 'actually': 24, 'many': 313, 'states': 497, 'kzaqktmbno': 278, 'ygnjje9g4p': 616, 'iritzzvgty': 254, 'holvysou2i': 233, 'obama': 366, 'drawing': 155, 'very': 565, 'small': 480, 'tiny': 540, 'numbers': 361, 'almost': 32, 'tens': 520, 'thousands': 535, 'friends': 197, 'family': 181, 'neighbors': 345, 'amp': 39, 'workers': 601, 'l8vmj7t46j': 280, 'rethigvi5w': 443, 'fu5incj4vi': 199, 'k9dwvzo10b': 272, 'way': 576, 'after': 26, 'wisconsin': 595, 'hardworking': 218, 'patriots': 390, 'dxyblxf2bj': 159, 'sgesncdbvh': 470, 'corrupt': 113, 'politician': 406, 'wants': 570, 'send': 469, 'jobs': 267, 'china': 95, 'while': 586, 'his': 230, 'rakes': 425, 'millions': 327, 'famvh3mf2l': 182, 'under': 555, 'leadership': 287, 'achieved': 22, 'secure': 466, 'border': 76, 'opponent': 381, 'insane': 249, 'immigration': 245, 'plan': 400, 'comp': 106, 'abnzhtmmk4': 19, 'xgvrpp2tjc': 609, 'nd9rvxpp5p': 340, 'sound': 487, 'typical': 554, 'because': 64, 'alwa': 35, 'mtk2ca6nsn': 334, 'myxqshl5nm': 338, 'landed': 282, 'passed': 389, 'see': 467, 'everyone': 176, 'soon': 486, 'l2g8jcxnqz': 279, 'gs5rmgghdr': 213, 'gsfsghkmdm': 215, 'ao85kjmebw': 48, 'znopfstnn3': 624, 'cgdeqkdxgh': 90, 'fm20bkw1nj': 188, 'must': 336, 'stop': 500, 'anti': 45, 'radicals': 424, 'by': 84, 'delivering': 133, 'far': 183, 'thundering': 539, '60pljcbabq': 14, 'soxdrha4el': 488, 'last': 284, 'night': 351, 'confirmed': 109, 'amy': 40, 'coney': 108, 'barrett': 60, 'united': 558, 'supreme': 507, 'court': 118, 'justice': 271, 'wil': 591, 'ntzhzupiie': 359, 'choice': 96, 'between': 66, 'recovery': 435, 'depression': 136, 'boom': 75, 'dsbuzabdeh': 157, 'bc2h4ozhqp': 61, 'michigan': 325, 'glyrv2xdoo': 205, 'points': 405, 'pennsylvania': 394, 'red': 436, 'wave': 575, 'forming': 191, 'getting': 203, 'ready': 432, 'failed': 178, 'swine': 509, 'flu': 187, 'epidemic': 172, 'knows': 277, 'action': 23, 'pambondi': 387, 'massive': 316, 'line': 293, 'ivanka': 259, 'event': 175, 'sarasota': 460, 'womenfortrump': 598, 'ivankatrump': 260, '3cohvb7kmp': 7, 'x8os4npvhh': 608, '401tlm5v3f': 10, 'lufkin': 305, 'texas': 522, 'someone': 485, 'stealing': 498, 'signs': 476, 'tree': 548, 'climber': 101, 'put': 420, '30': 5, 'them': 529, 'throughout': 537, 'rnsuc2j7jq': 448, 'now': 357, 'foxnews': 194, 'playing': 402, 'speech': 490, 'man': 312, 'could': 115, 'barely': 59, 'endorse': 168, 'couldn': 116, 'ywongjsj6o': 623, 'leaving': 288, 'white': 587, 'house': 237, 'shortly': 472, 'i6vhsgkmsb': 241, 'handlers': 216, 'ripped': 447, 'sleepy': 479, 'off': 370, 'stage': 492, 'yesterday': 613, 'when': 584, 'got': 208, 'lost': 299, 'mental': 323, 'fog': 189, 'disaster': 146, 'little': 294, 'reporting': 440, 'chuckcallesto': 97, 'breaking': 79, 'report': 439, 'boston': 77, 'herald': 227, 'endorses': 170, 'president': 410, 'voted': 569, 'named': 339, 'think': 532, 'should': 473, 'too': 545, '0be6h6u6nl': 0, 'jacobkschneider': 263, 'clear': 100, 'dixenj5l0j': 148, 'marklevinshow': 315, 're': 430, 'bmzgpakt6a': 73, 'dineshdsouza': 145, 'deserves': 138, 'second': 464, 'term': 521, 'editorial': 163, '4xyficrhxc': 13, 'rww_gop': 456, 'what': 583, 'needs': 344, 'right': 446, 'decisive': 131, 'us': 562, 'pre': 409, 'pandemic': 388, 'strength': 503, 'unfeasible': 556, 'wlzcgc9edo': 597, 'difference': 143, '2016': 4, 'whole': 589, 'different': 144, 'deal': 127, 'despite': 139, 'campaig': 87, 'khoclh5onc': 274, 'thousa': 534, 'qcdozqvldh': 421, 'death': 129, 'rate': 429, 'hospitals': 236, 'than': 524, 'msnbc': 333, 'wow': 606, 'msdnc': 332, 'come': 104, 'th': 523, 'huspme2kdn': 240, 'washtimes': 573, 'wonderful': 599, 'endorsement': 169, 'job': 266, 'done': 153, 'bi09aaoonw': 67, 'gdp': 201, 'projected': 414, 'pelosi': 393, 'only': 378, 'looking': 297, 'bail': 57, 'run': 453, 'democrat': 134, 'cities': 98, 'tap': 514, 'taping': 516, 'along': 33, 'li': 290, 'jis5up539i': 265, '4th': 12, 'full': 200, 'rounding': 450, 'turn': 552, '99': 17, 'three': 536, 'rallies': 426, 'lansing': 283, 'west': 582, 'salem': 459, 'over': 386, 'place': 398, 'later': 285, 'kerrikupecdoj': 273, 'impressive': 246, 'department': 135, 'work': 600, 'four': 193, 'years': 612, 'combat': 103, 'ms': 331, '13': 2, 'worth': 605, 'read': 431, 'flotus': 186, 'admin': 25, 'fighting': 184, 'health': 222, 'safety': 457, 'step': 499, 'defeating': 132, 'mission': 328, 'operationlegend': 380, 'save': 461, 'lives': 295, 'solve': 484, 'crimes': 122, 'take': 511, 'violent': 566, 'offenders': 371, 'streets': 502, 'before': 65, 'ca': 85, 'sbanypd': 462, 'nys': 364, 'need': 342, 'change': 91, 'elected': 164, 'officials': 374, 'destroy': 140, 'york': 618, 'hell': 224, 'do': 149, 'lose': 298, 'xqurhzxcxp': 611, 'johnrobertsfox': 269, 'statement': 495, 'fame': 180, 'lt': 304, 'tony': 544, 'bobulinski': 74, 'associate': 52, 'obtained': 368, 'mc': 318, 'nicole': 350, 'malliotakis': 311, 'supports': 505, 'law': 286, 'enforcement': 171, 'honest': 234, 'hard': 217, 'working': 602, 'official': 373, 'cares': 88, 'beautiful': 63, 'staten': 496, 'island': 256, 'brooklyn': 80, 'complete': 107, 'total': 546, 'hkxs7pavgj': 232, 'tape': 515, 'that': 527, 'blamed': 72, 'russians': 455, 'max': 317, 'rose': 449, 'does': 150, 'constituents': 111, 'works': 603, 'earth': 161, 'stand': 493, '100': 1, 'officer': 372, 'nmh3mlbcqu': 352, 'disorder': 147, 'deblasios': 130, 'nyc': 362, 'describe': 137, 'peaceful': 392, 'protestors': 418, 'throwing': 538, 'objects': 367, 'at': 54, 'supporters': 504, 'prospect': 416}\n"
     ]
    }
   ],
   "source": [
    "vectorizer = TfidfVectorizer()\n",
    "vectorizer.fit(user_texts)\n",
    "print(vectorizer.vocabulary_)"
   ]
  },
  {
   "cell_type": "code",
   "execution_count": 100,
   "metadata": {},
   "outputs": [
    {
     "name": "stdout",
     "output_type": "stream",
     "text": [
      "(100, 625)\n"
     ]
    }
   ],
   "source": [
    "vector = vectorizer.transform(user_texts)\n",
    "print(vector.shape)"
   ]
  },
  {
   "cell_type": "markdown",
   "metadata": {},
   "source": [
    "#### Word Cloud"
   ]
  },
  {
   "cell_type": "code",
   "execution_count": 101,
   "metadata": {},
   "outputs": [],
   "source": [
    "user_combined = ', '.join(user_texts)"
   ]
  },
  {
   "cell_type": "code",
   "execution_count": 102,
   "metadata": {},
   "outputs": [
    {
     "data": {
      "image/png": "[encoded data removed]",
      "text/plain": [
       "<Figure size 432x288 with 1 Axes>"
      ]
     },
     "metadata": {
      "needs_background": "light"
     },
     "output_type": "display_data"
    }
   ],
   "source": [
    "wordcloud = WordCloud().generate(user_combined)\n",
    "\n",
    "plt.imshow(wordcloud, interpolation='bilinear')\n",
    "plt.axis('off')\n",
    "plt.show()"
   ]
  },
  {
   "cell_type": "markdown",
   "metadata": {},
   "source": [
    "Let us try to access Petr Cech's Twitter account. Petr Cech's Twitter ID is @PetrCech."
   ]
  },
  {
   "cell_type": "code",
   "execution_count": 103,
   "metadata": {},
   "outputs": [
    {
     "name": "stdout",
     "output_type": "stream",
     "text": [
      "[{'id': 2493199232, 'id_str': '2493199232', 'name': 'Petr Cech', 'screen_name': 'PetrCech', 'location': 'London, U.K', 'description': 'Technical and Performance Advisor @chelseafc', 'url': 'https://t.co/8Ns88z6UoR', 'entities': {'url': {'urls': [{'url': 'https://t.co/8Ns88z6UoR', 'expanded_url': 'http://www.petr-cech.com', 'display_url': 'petr-cech.com', 'indices': [0, 23]}]}, 'description': {'urls': []}}, 'protected': False, 'followers_count': 1809613, 'friends_count': 395, 'listed_count': 2700, 'created_at': 'Tue May 13 16:13:52 +0000 2014', 'favourites_count': 3294, 'utc_offset': None, 'time_zone': None, 'geo_enabled': False, 'verified': True, 'statuses_count': 2670, 'lang': None, 'status': {'created_at': 'Thu Oct 22 20:09:40 +0000 2020', 'id': 1319370356394700800, 'id_str': '1319370356394700800', 'text': 'RT @VGouttebarge: Following our @TheIFAB Concussion Expert Group meeting, football is finally stepping forward for the protection of player…', 'truncated': False, 'entities': {'hashtags': [], 'symbols': [], 'user_mentions': [{'screen_name': 'VGouttebarge', 'name': 'Vincent Gouttebarge', 'id': 78220103, 'id_str': '78220103', 'indices': [3, 16]}, {'screen_name': 'TheIFAB', 'name': 'The IFAB', 'id': 703177200778883072, 'id_str': '703177200778883072', 'indices': [32, 40]}], 'urls': []}, 'source': '<a href=\"http://twitter.com/download/iphone\" rel=\"nofollow\">Twitter for iPhone</a>', 'in_reply_to_status_id': None, 'in_reply_to_status_id_str': None, 'in_reply_to_user_id': None, 'in_reply_to_user_id_str': None, 'in_reply_to_screen_name': None, 'geo': None, 'coordinates': None, 'place': None, 'contributors': None, 'retweeted_status': {'created_at': 'Thu Oct 22 10:58:26 +0000 2020', 'id': 1319231635649400837, 'id_str': '1319231635649400837', 'text': 'Following our @TheIFAB Concussion Expert Group meeting, football is finally stepping forward for the protection of… https://t.co/tB5ezUyYsr', 'truncated': True, 'entities': {'hashtags': [], 'symbols': [], 'user_mentions': [{'screen_name': 'TheIFAB', 'name': 'The IFAB', 'id': 703177200778883072, 'id_str': '703177200778883072', 'indices': [14, 22]}], 'urls': [{'url': 'https://t.co/tB5ezUyYsr', 'expanded_url': 'https://twitter.com/i/web/status/1319231635649400837', 'display_url': 'twitter.com/i/web/status/1…', 'indices': [116, 139]}]}, 'source': '<a href=\"https://mobile.twitter.com\" rel=\"nofollow\">Twitter Web App</a>', 'in_reply_to_status_id': None, 'in_reply_to_status_id_str': None, 'in_reply_to_user_id': None, 'in_reply_to_user_id_str': None, 'in_reply_to_screen_name': None, 'geo': None, 'coordinates': None, 'place': None, 'contributors': None, 'is_quote_status': False, 'retweet_count': 20, 'favorite_count': 147, 'favorited': False, 'retweeted': False, 'possibly_sensitive': False, 'lang': 'en'}, 'is_quote_status': False, 'retweet_count': 20, 'favorite_count': 0, 'favorited': False, 'retweeted': False, 'lang': 'en'}, 'contributors_enabled': False, 'is_translator': False, 'is_translation_enabled': False, 'profile_background_color': '131516', 'profile_background_image_url': 'http://abs.twimg.com/images/themes/theme14/bg.gif', 'profile_background_image_url_https': 'https://abs.twimg.com/images/themes/theme14/bg.gif', 'profile_background_tile': True, 'profile_image_url': 'http://pbs.twimg.com/profile_images/1086305226456473607/E3pKkG7O_normal.jpg', 'profile_image_url_https': 'https://pbs.twimg.com/profile_images/1086305226456473607/E3pKkG7O_normal.jpg', 'profile_link_color': '073BBD', 'profile_sidebar_border_color': '000000', 'profile_sidebar_fill_color': 'EFEFEF', 'profile_text_color': '333333', 'profile_use_background_image': True, 'has_extended_profile': False, 'default_profile': False, 'default_profile_image': False, 'following': False, 'follow_request_sent': False, 'notifications': False, 'translator_type': 'none'}]\n"
     ]
    }
   ],
   "source": [
    "account = twitter_api.users.lookup(screen_name='PetrCech')\n",
    "print(account)"
   ]
  },
  {
   "cell_type": "code",
   "execution_count": 104,
   "metadata": {},
   "outputs": [
    {
     "data": {
      "text/plain": [
       "dict_keys(['id', 'id_str', 'name', 'screen_name', 'location', 'description', 'url', 'entities', 'protected', 'followers_count', 'friends_count', 'listed_count', 'created_at', 'favourites_count', 'utc_offset', 'time_zone', 'geo_enabled', 'verified', 'statuses_count', 'lang', 'status', 'contributors_enabled', 'is_translator', 'is_translation_enabled', 'profile_background_color', 'profile_background_image_url', 'profile_background_image_url_https', 'profile_background_tile', 'profile_image_url', 'profile_image_url_https', 'profile_link_color', 'profile_sidebar_border_color', 'profile_sidebar_fill_color', 'profile_text_color', 'profile_use_background_image', 'has_extended_profile', 'default_profile', 'default_profile_image', 'following', 'follow_request_sent', 'notifications', 'translator_type'])"
      ]
     },
     "execution_count": 104,
     "metadata": {},
     "output_type": "execute_result"
    }
   ],
   "source": [
    "account[0].keys()"
   ]
  },
  {
   "cell_type": "code",
   "execution_count": 105,
   "metadata": {},
   "outputs": [],
   "source": [
    "account_name = account[0]['name']\n",
    "account_description = account[0]['description']\n",
    "account_followers = account[0]['followers_count']"
   ]
  },
  {
   "cell_type": "code",
   "execution_count": 106,
   "metadata": {},
   "outputs": [
    {
     "name": "stdout",
     "output_type": "stream",
     "text": [
      "Petr Cech\n",
      "Technical and Performance Advisor @chelseafc\n",
      "1809613\n"
     ]
    }
   ],
   "source": [
    "print(account_name)\n",
    "print(account_description)\n",
    "print(account_followers)"
   ]
  },
  {
   "cell_type": "code",
   "execution_count": 142,
   "metadata": {},
   "outputs": [],
   "source": [
    "user_tweets = twitter_api.statuses.user_timeline(screen_name='PetrCech', count=100)\n",
    "#print(user_tweets)"
   ]
  },
  {
   "cell_type": "code",
   "execution_count": 108,
   "metadata": {},
   "outputs": [
    {
     "data": {
      "text/plain": [
       "99"
      ]
     },
     "execution_count": 108,
     "metadata": {},
     "output_type": "execute_result"
    }
   ],
   "source": [
    "len(user_tweets)"
   ]
  },
  {
   "cell_type": "code",
   "execution_count": 109,
   "metadata": {},
   "outputs": [
    {
     "name": "stdout",
     "output_type": "stream",
     "text": [
      "\n",
      "RT @VGouttebarge: Following our @TheIFAB Concussion Expert Group meeting, football is finally stepping forward for the protection of player…\n",
      "\n",
      "@MesutOzil1088 @ChelseaFC @skrapid 😅\n",
      "\n",
      "@433 That left foot is definitely genuine 😉\n",
      "\n",
      "RT @ChelseaFC: We're in Group E for this season's @ChampionsLeague! 👊\n",
      "\n",
      "Thoughts on the draw? #UCLdraw https://t.co/BqUwdSanWw\n",
      "\n",
      "Roman Abramovich recognised for his charitable work and fight against antisemitism ... https://t.co/EsTE8kUGTM\n",
      "\n",
      ".@ceskarepre_cz  gratulace všem hráčům a trenerům k výkonu , protože i přes porážku to byl výkon , který měl parame… https://t.co/hlC8VHLO8M\n",
      "\n",
      "RT @ChelseaFC: Happy birthday to former Blue, Carlo Cudicini! 🥳 https://t.co/uGr3QkNqjL\n",
      "\n",
      "@Nicki48141067 @Aubameyang7 @MesutOzil1088 @LacazetteAlex @IanWright0 @LeeDixon2 @thedavidseaman @HectorBellerin… https://t.co/PhmxZ45fIo\n",
      "\n",
      "@barakfever Un abrazo hermano 😁😉. Disfruta!\n",
      "\n",
      "RT @ChelseaFC: Signed. Sealed. Delivered.\n",
      "\n",
      "#HiKai 👋 https://t.co/mJGX67SPrD\n"
     ]
    }
   ],
   "source": [
    "for i in range(10):\n",
    "    print()\n",
    "    print(user_tweets[i]['text'])"
   ]
  },
  {
   "cell_type": "code",
   "execution_count": 110,
   "metadata": {},
   "outputs": [
    {
     "data": {
      "text/plain": [
       "99"
      ]
     },
     "execution_count": 110,
     "metadata": {},
     "output_type": "execute_result"
    }
   ],
   "source": [
    "user_texts = [status['text'] for status in user_tweets]\n",
    "len(user_texts)"
   ]
  },
  {
   "cell_type": "code",
   "execution_count": 111,
   "metadata": {},
   "outputs": [
    {
     "data": {
      "text/plain": [
       "['RT @VGouttebarge: Following our @TheIFAB Concussion Expert Group meeting, football is finally stepping forward for the protection of player…',\n",
       " '@MesutOzil1088 @ChelseaFC @skrapid 😅',\n",
       " '@433 That left foot is definitely genuine 😉',\n",
       " \"RT @ChelseaFC: We're in Group E for this season's @ChampionsLeague! 👊\\n\\nThoughts on the draw? #UCLdraw https://t.co/BqUwdSanWw\",\n",
       " 'Roman Abramovich recognised for his charitable work and fight against antisemitism ... https://t.co/EsTE8kUGTM',\n",
       " '.@ceskarepre_cz  gratulace všem hráčům a trenerům k výkonu , protože i přes porážku to byl výkon , který měl parame… https://t.co/hlC8VHLO8M',\n",
       " 'RT @ChelseaFC: Happy birthday to former Blue, Carlo Cudicini! 🥳 https://t.co/uGr3QkNqjL',\n",
       " '@Nicki48141067 @Aubameyang7 @MesutOzil1088 @LacazetteAlex @IanWright0 @LeeDixon2 @thedavidseaman @HectorBellerin… https://t.co/PhmxZ45fIo',\n",
       " '@barakfever Un abrazo hermano 😁😉. Disfruta!',\n",
       " 'RT @ChelseaFC: Signed. Sealed. Delivered.\\n\\n#HiKai 👋 https://t.co/mJGX67SPrD',\n",
       " 'RT @ChelseaFC: He’s here! \\n\\nWelcome to Chelsea, @KaiHavertz29! 🔵\\n\\n#HiKai 👋',\n",
       " 'Jsem moc rád, že jsme v rámci KPŽ vytvořili nová partnerství, která pomáhají posunout úroveň seriálu o další stupín… https://t.co/PZkhr6YcTv',\n",
       " 'RT @ceskarepre_cz: Pavlu Nedvědovi je dnes 48 let 🎂 Jedné z největších legend českého a československého fotbalu přejeme všechno nejlepší!…',\n",
       " \"RT @Willow_Fdn: 21 years, 17,000 #SpecialDays and countless precious memories... As we celebrate our 21st birthday today, we'd like to say…\",\n",
       " '@TheotheGoonerCP Great to see 👏🏻',\n",
       " '@carl_344 @julieo25 100% 😁',\n",
       " '@itvfootball What a nice ice hockey save 😁😉',\n",
       " 'RT @BobWilsonBWSC: I’d also like to dedicate this film to @thedavidseaman @alanmillergk @JohnLukic_  @jenslehmann @PetrCech   and all who g…',\n",
       " '@ACSparta_CZ To je dvojka😁 . Vypadáte dobře borci , tak ať se vám daří ! 😉😁',\n",
       " 'RT @DenikSport: Rukavice od @PetrCech se vydražily za 33 000,- Kč! Děkujeme! \\nhttps://t.co/2WSxY2fXzT',\n",
       " 'RT @DenikSport: Rádi bychom pomohli hokejistovi Ondřeji Buchtelovi, kterému před dvěma měsíci diagnostikovali vzácnou rakovinu srdce. Proto…',\n",
       " 'RT @DataLivesport: Jesličky 🤩⚽\\n\\nhttps://t.co/7aXxuatxdq',\n",
       " \"RT @SoccerAM: Petr Cech will be on Soccer AM from 11am so we thought we'd give you a little insight into his training regime while he was a…\",\n",
       " 'RT @ceskarepre_cz: Jaroslav Šilhavý navštívil společně s trenérem brankářů #ceskarepre 🇨🇿 Milanem Veselým kemp bývalého brankáře @PetrCech.…',\n",
       " 'RT @ceskarepre_cz: Upřímnou soustrast rodině a nejbližším přátelům 🖤',\n",
       " '@Jdunce83 I’d love to do so but there are very strict rules and I won’t be able to leave my designated area unfortunately...',\n",
       " 'RT @ceskarepre_cz: 56. narozeniny dnes slaví stříbrný z ME 1996 a dvojnásobný německý mistr, bývalý obránce #ceskarepre Miroslav Kadlec. Bl…',\n",
       " '@lukbon @alanwm1986 @aap03102 @billygilmourrr @andrewrobertso5 @GaryLineker @RachelRileyRR @icecolbeveridge… https://t.co/JcQRaoP5Ut',\n",
       " 'RT @ChelseaFC: Juliano Belletti is also celebrating his birthday today!\\n\\nHave a great day, @JulianoBelletti! 🎂 https://t.co/YO5XvNAUPz',\n",
       " 'RT @aap03102: A fiendishly tough Corona Conundrum to tackle today featuring my seven-a-side dream team and their weird squad numbers! \\n\\nCan…',\n",
       " '@MarkDelphs Brilliant 😂👏🏻',\n",
       " '“Football is coming home. @FlashScoreCOM” https://t.co/Avk1BKSfi9',\n",
       " 'Something to listen to ... 😉 https://t.co/SzpxuTW0nU',\n",
       " 'RT @ChelseaFC: https://t.co/T6Cvl6bDgG',\n",
       " '👏🏻👏🏻 https://t.co/23fjGWr531',\n",
       " 'Year has gone but the pain remains ... .@Arsenal #europaleaguefinal  ... last game of the career 29/5/2019 https://t.co/DexoSfXays',\n",
       " 'RT @BBCSport: THE PREMIER LEAGUE WILL RESTART ON 17 JUNE.\\n\\nFull story ➡ https://t.co/eY81UffpPK  #bbcfootball #EPL https://t.co/uc6QrC4JEk',\n",
       " 'RT @ceskarepre_cz: 🔙🇫🇷🇨🇿 Finále s Francií, vítězný penaltový rozstřel a pak už jen samá radost! Přesně před 18 lety vybojovala #ceskarepre…',\n",
       " 'https://t.co/coN0vvv1Ev',\n",
       " 'https://t.co/ovLUWOE7fr',\n",
       " '@BBCMOTD .@TheRealAC3 was in top 3 best left backs in the world for majority of his career  ... 😉',\n",
       " '@FIFAcom Thank you 🥂',\n",
       " '@EURO2020 @lukbon @ceskarepre_cz Thank you 🥂',\n",
       " '@EmiratesFACup @lukbon @ChelseaFC @Arsenal Thank you 🥂',\n",
       " '@MGaborik12 Congratulations.... Velká gratulace !',\n",
       " '@jeannelollichon Merci  beaucoup 🥂',\n",
       " '@BBCMOTD Thank you 🥂',\n",
       " 'RT @ceskarepre_cz: Přehled důležitých čísel kariéry Petra Čecha 📈⤵️\\nhttps://t.co/fJQ7ifL9ix',\n",
       " 'RT @ceskarepre_cz: Nablýskaný fotbalový život @PetrCech v číslech 🧮 https://t.co/u0wEtG8LSa',\n",
       " 'RT @ceskarepre_cz: 📸🇨🇿🧤 https://t.co/tIGjTFO24x',\n",
       " '@ceskarepre_cz Děkuji',\n",
       " 'Feliz cumpleaños .@IkerCasillas 🎂🥂 happy birthday 😉 https://t.co/VzKLBexgkB',\n",
       " '@ChrisKirkland43 @MarvinStraver I think his feet are too wide in set position  and then he has to generate so much… https://t.co/YumAsPA8y0',\n",
       " '@didierdrogba 😂',\n",
       " 'RT @ChelseaFC: Meanwhile, back at Stamford Bridge, the original #CFCWatchParty was taking place... 😂 https://t.co/PQRZBkcyA6',\n",
       " 'So this is unfortunately for the first time I’ve seen the celebrations in the dressing room because I couldn’t be t… https://t.co/oRFvCLnQT7',\n",
       " '@etiennedidot @chrislollichon 😂 c’est à cause du contrôle antidopage j’ai du faire après le match 😂',\n",
       " 'RT @ChelseaFC: ✅ @PremierLeague title\\n✅ Golden Glove award\\n✅ Golden Boot award\\n\\nNot bad, lads! 🔥\\n\\n@PetrCech and @DidierDrogba at Cobham wit…',\n",
       " 'RT @ChelseaFC: .@PetrCech looks back on more of his Chelsea career, including THAT night in Munich... 😍',\n",
       " 'RT @ChelseaFC: #OnThisDay in 2010...\\n\\n@PremierLeague 🏆 for the third time! https://t.co/bXxBneX8UH',\n",
       " 'RT @ChelseaFC: ‘Blue is the colour on the trophy ribbons in 2010, Chelsea are champions again!’ 💙🤩\\xa0\\n\\nRe-live that magical day on the 5th St…',\n",
       " 'https://t.co/FevcgSOHOc  home ice hockey goalie drill 2 😉🥅🏒',\n",
       " 'RT @ChelseaFC: Eight years ago today...\\n\\nFA Cup winners at Wembley! 🏆 https://t.co/FWBWHK5NbU',\n",
       " 'RT @DarrenCheesman: Thanks to @PetrCech for taking the time to talk to me about his PATH TO Excellence through his career. Some amazing gem…',\n",
       " \"RT @FlashScoreCOM: With the Premier League still on hold, let's have some fun! Let's find out which team has the best fans on Twitter! 👇⚽ h…\",\n",
       " \"RT @ChelseaFC: Chelsea director Eugene Tenenbaum discusses the thinking behind Roman Abramovich's purchase of the club in 2003 and his moti…\",\n",
       " 'Enjoyed this rare interview about why mr. Abramovich bought the club and the history which has been created since... https://t.co/ZkTiyXRLhp',\n",
       " 'RT @ChelseaFC: ⚽️ x 🏈 #onthisday at Cobham in 2012! https://t.co/swImLEYVdw',\n",
       " 'RT @ChelseaFC: Great memories! 🙌\\n\\nThank you for following, and for joining the #CFCWatchParty as we revisited that incredible day in our hi…',\n",
       " 'Beautiful memories of a truly fantastic team ! From all the staff , coaches to the last player! 🏆 https://t.co/kOtJ2sS3qH',\n",
       " '@CallumVurley No worries 😉',\n",
       " 'RT @ChelseaFC: ‘IT’S THERE! FRANK LAMPARD’S PUT IT IN AND CHELSEA ARE HALF AN HOUR FROM THE TITLE!’ 🙌\\n\\n⚪️ 0-1 🔵 [60’] #CFCWatchParty https:…',\n",
       " '@CallumVurley 13 goals my friend ! I didn’t play the last games 😉',\n",
       " 'RT @ChelseaFC: ‘FRANK LAMPARD TO WIN IT! 2-0! NO WAY BACK FOR BOLTON!’ \\n\\nWe can watch this over and over again! 😍\\n\\n⚪️ 0-2 🔵 [76’] #CFCWatch…',\n",
       " 'RT @ChelseaFC: GET IN THERE! Super Frank again!!! 🔥\\n\\n📺 https://t.co/j8sKOl6yEr \\n\\n⚪️ 0-2 🔵 [76’] #CFCWatchParty https://t.co/1p0pEQyAIG',\n",
       " '@ChelseaFC Always ready 😉',\n",
       " '@ChelseaFC So the message during the half time was to play our game when we got the ball in the second ... we did that 😉',\n",
       " '@ChelseaFC You could see it meant so much to us that we couldn’t find our game in the first half ... 😁',\n",
       " '@e_botcherby 👏🏻👏🏻',\n",
       " 'Watching this guy tonight... 😉  .@ChelseaFC vs Bolton https://t.co/tNI1BT7DN1',\n",
       " 'Me and the boss 15 years ago ! What a day. 😃🍾⚽️🏆 https://t.co/mNo1UvDKdS',\n",
       " '@1Simo1987 Great job👏🏻',\n",
       " 'RT @ChelseaFC: 🗓 30.04.2005 \\n🏆 Our first @premierleague title! https://t.co/u1XIbKXJc4',\n",
       " 'RT @ChelseaFC: 🏆 Relive one of the greatest days in our history. \\n⏰ This Thursday. 8.30pm (UK time) \\n📺 https://t.co/j8sKOl6yEr\\n\\n🗣 And send…',\n",
       " '@progkacademy You do that if the ball comes at this height and you have a choice of the catch or cup . We call it a… https://t.co/QLplh8ggTf',\n",
       " '@cfcbenYT Happy 82nd birthday 🎂🍾 https://t.co/yhjnbm039E',\n",
       " '@LaurenceelliCFC Hopefully we’ll be back to normal to take selfies ... 😀',\n",
       " '@TheCraigo28 @ChelseaFC Happy 60th 🍾🎂 https://t.co/twOXYsvpVg',\n",
       " '@TheCraigo28 @ChelseaFC What’s his name ?',\n",
       " 'RT @ChelseaFC: The board of Chelsea Football Club would like to update our fans, our staff, our community and our other stakeholders of cer…',\n",
       " '@myhalcyondaze Happy birthday 🥳 enjoy the cake 🎂😉',\n",
       " '@chelseafan50 All the best to you in Limerick too @chelseafan50 https://t.co/70kLsrxC1g',\n",
       " '@jamesrmullins Well done Luke 👍🏻👏🏻👏🏻',\n",
       " '@MrJeff85 Thanks for the challenge! 😉👍🏻',\n",
       " '@MrJeff85 😁👍🏻 thanks for the challenge',\n",
       " '@MrJeff85 Hi Steven , here it is your clapping challenge ... I think it’s close but seems 20 😁 https://t.co/rEQwDtx9FH',\n",
       " '@EliteKidsCoach @Waggataurus Here it is . Thanks for the challenge 😉👍🏻 https://t.co/racD0NjsiP',\n",
       " 'Last challenge upgrade 😉 https://t.co/0BZjqh2YBn',\n",
       " 'RT @ChrisKirkland43: I knew they would but the response off GK coaches and keepers themselves has been incredible,some names that have conf…']"
      ]
     },
     "execution_count": 111,
     "metadata": {},
     "output_type": "execute_result"
    }
   ],
   "source": [
    "user_texts"
   ]
  },
  {
   "cell_type": "markdown",
   "metadata": {},
   "source": [
    "#### Count Vectoriser"
   ]
  },
  {
   "cell_type": "code",
   "execution_count": 112,
   "metadata": {},
   "outputs": [
    {
     "name": "stdout",
     "output_type": "stream",
     "text": [
      "['000', '04', '0bzjqh2ybn', '100', '11am', '13', '15', '17', '18', '1996', '1p0peqyaig', '1simo1987', '20', '2003', '2005', '2010', '2012', '2019', '21', '21st', '23fjgwr531', '29', '2wsxy2fxzt', '30', '30pm', '33', '433', '48', '56', '5th', '60', '60th', '70klsrxc1g', '76', '7axxuatxdq', '82nd', 'aap03102', 'able', 'about', 'abramovich', 'abrazo', 'acsparta_cz', 'again', 'against', 'ago', 'ai', 'alanmillergk', 'alanwm1986', 'all', 'also', 'always', 'am', 'amazing', 'an', 'and', 'andrewrobertso5', 'antidopage', 'antisemitism', 'après', 'are', 'area', 'arsenal', 'as', 'at', 'aubameyang7', 'avk1bksfi9', 'award', 'ať', 'back', 'backs', 'bad', 'ball', 'barakfever', 'bbcfootball', 'bbcmotd', 'bbcsport', 'be', 'beaucoup', 'beautiful', 'because', 'been', 'behind', 'belletti', 'best', 'billygilmourrr', 'birthday', 'bl', 'blue', 'board', 'bobwilsonbwsc', 'bolton', 'boot', 'borci', 'boss', 'bought', 'bquwdsanww', 'brankáře', 'brankářů', 'bridge', 'brilliant', 'buchtelovi', 'but', 'bxxbnex8uh', 'bychom', 'byl', 'bývalého', 'bývalý', 'cake', 'call', 'callumvurley', 'can', 'career', 'carl_344', 'carlo', 'catch', 'cause', 'cech', 'celebrate', 'celebrating', 'celebrations', 'cer', 'ceskarepre', 'ceskarepre_cz', 'cfcbenyt', 'cfcwatch', 'cfcwatchparty', 'challenge', 'champions', 'championsleague', 'charitable', 'chelsea', 'chelseafan50', 'chelseafc', 'choice', 'chriskirkland43', 'chrislollichon', 'clapping', 'close', 'club', 'co', 'coaches', 'cobham', 'colour', 'comes', 'coming', 'community', 'con0vvv1ev', 'concussion', 'conf', 'congratulations', 'contrôle', 'conundrum', 'corona', 'could', 'couldn', 'countless', 'created', 'cudicini', 'cumpleaños', 'cup', 'další', 'darrencheesman', 'datalivesport', 'day', 'days', 'daří', 'dedicate', 'definitely', 'delivered', 'deniksport', 'designated', 'dexosfxays', 'diagnostikovali', 'did', 'didierdrogba', 'didn', 'director', 'discusses', 'disfruta', 'dnes', 'do', 'dobře', 'done', 'draw', 'dream', 'dressing', 'drill', 'du', 'during', 'dvojka', 'dvojnásobný', 'dvěma', 'děkujeme', 'děkuji', 'důležitých', 'e_botcherby', 'eight', 'elitekidscoach', 'emiratesfacup', 'enjoy', 'enjoyed', 'epl', 'est', 'este8kugtm', 'etiennedidot', 'eugene', 'euro2020', 'europaleaguefinal', 'excellence', 'expert', 'ey81uffppk', 'fa', 'faire', 'fans', 'fantastic', 'featuring', 'feet', 'feliz', 'fevcgsohoc', 'fiendishly', 'fifacom', 'fight', 'film', 'finally', 'find', 'finále', 'first', 'fjq7ifl9ix', 'flashscorecom', 'following', 'foot', 'football', 'for', 'former', 'forward', 'fotbalový', 'fotbalu', 'francií', 'frank', 'friend', 'from', 'full', 'fun', 'fwbwhk5nbu', 'game', 'games', 'garylineker', 'gem', 'generate', 'genuine', 'get', 'give', 'gk', 'glove', 'goalie', 'goals', 'golden', 'gone', 'got', 'gratulace', 'great', 'greatest', 'group', 'guy', 'half', 'happy', 'has', 'have', 'he', 'hectorbellerin', 'height', 'here', 'hermano', 'hi', 'hikai', 'his', 'history', 'hlc8vhlo8m', 'hockey', 'hokejistovi', 'hold', 'home', 'hopefully', 'hour', 'hráčům', 'https', 'ianwright0', 'ice', 'icecolbeveridge', 'if', 'ikercasillas', 'in', 'including', 'incredible', 'insight', 'interview', 'into', 'is', 'it', 'itvfootball', 'j8skol6yer', 'jamesrmullins', 'jaroslav', 'jcqraop5ut', 'jdunce83', 'je', 'jeannelollichon', 'jedné', 'jen', 'jenslehmann', 'jesličky', 'job', 'johnlukic_', 'joining', 'jsem', 'jsme', 'juliano', 'julianobelletti', 'julieo25', 'june', 'kadlec', 'kaihavertz29', 'kariéry', 'keepers', 'kemp', 'knew', 'kotj2ss3qh', 'kpž', 'která', 'kterému', 'který', 'kč', 'lacazettealex', 'lads', 'lampard', 'last', 'laurenceellicfc', 'le', 'league', 'leave', 'leedixon2', 'left', 'legend', 'let', 'lety', 'like', 'limerick', 'listen', 'little', 'live', 'll', 'looks', 'love', 'lukbon', 'luke', 'magical', 'majority', 'markdelphs', 'marvinstraver', 'match', 'me', 'meant', 'meanwhile', 'meeting', 'memories', 'merci', 'message', 'mesutozil1088', 'mgaborik12', 'milanem', 'miroslav', 'mistr', 'mjgx67sprd', 'mno1uvdkds', 'moc', 'more', 'moti', 'mr', 'mrjeff85', 'much', 'munich', 'my', 'myhalcyondaze', 'měl', 'měsíci', 'nablýskaný', 'name', 'names', 'narozeniny', 'navštívil', 'nedvědovi', 'nejbližším', 'nejlepší', 'největších', 'nice', 'nicki48141067', 'night', 'no', 'normal', 'not', 'nová', 'numbers', 'německý', 'obránce', 'od', 'of', 'off', 'on', 'ondřeji', 'one', 'onthisday', 'or', 'orfvclnqt7', 'original', 'other', 'our', 'out', 'over', 'ovluwoe7fr', 'pain', 'pak', 'parame', 'partnerství', 'path', 'pavlu', 'penaltový', 'petr', 'petra', 'petrcech', 'phmxz45fio', 'place', 'play', 'player', 'pomohli', 'pomáhají', 'porážku', 'position', 'posunout', 'pqrzbkcya6', 'precious', 'premier', 'premierleague', 'progkacademy', 'protection', 'proto', 'protože', 'purchase', 'put', 'pzkhr6yctv', 'před', 'přehled', 'přejeme', 'přes', 'přesně', 'přátelům', 'qlplh8ggtf', 'racd0njsip', 'rachelrileyrr', 'radost', 'rakovinu', 'rare', 're', 'ready', 'recognised', 'regime', 'relive', 'remains', 'reqwdtx9fh', 'response', 'restart', 'revisited', 'ribbons', 'rodině', 'roman', 'room', 'rozstřel', 'rt', 'rukavice', 'rules', 'rád', 'rádi', 'rámci', 'samá', 'save', 'say', 'se', 'sealed', 'season', 'second', 'see', 'seems', 'seen', 'selfies', 'send', 'seriálu', 'set', 'seven', 'side', 'signed', 'since', 'skrapid', 'slaví', 'so', 'soccer', 'socceram', 'some', 'something', 'soustrast', 'specialdays', 'společně', 'squad', 'srdce', 'st', 'staff', 'stakeholders', 'stamford', 'stepping', 'steven', 'still', 'story', 'strict', 'stupín', 'stříbrný', 'super', 'swimleyvdw', 'szpxutw0nu', 't6cvl6bdgg', 'tackle', 'tak', 'take', 'taking', 'talk', 'team', 'tenenbaum', 'thank', 'thanks', 'that', 'the', 'thecraigo28', 'thedavidseaman', 'theifab', 'their', 'themselves', 'then', 'theothegoonercp', 'there', 'therealac3', 'they', 'think', 'thinking', 'third', 'this', 'thought', 'thoughts', 'through', 'thursday', 'tigjtfo24x', 'time', 'title', 'tni1bt7dn1', 'to', 'today', 'tonight', 'too', 'top', 'tough', 'training', 'trenerům', 'trenérem', 'trophy', 'truly', 'twitter', 'twoxysvpvg', 'u0wetg8lsa', 'u1xibkxjc4', 'uc6qrc4jek', 'ucldraw', 'ugr3qknqjl', 'uk', 'un', 'unfortunately', 'update', 'upgrade', 'upřímnou', 'us', 'už', 've', 'velká', 'very', 'veselým', 'vgouttebarge', 'vs', 'vybojovala', 'vydražily', 'vypadáte', 'vytvořili', 'vzklbexgkb', 'vzácnou', 'vám', 'vítězný', 'výkon', 'výkonu', 'všechno', 'všem', 'waggataurus', 'was', 'watch', 'watching', 'way', 'we', 'weird', 'welcome', 'well', 'wembley', 'what', 'when', 'which', 'while', 'who', 'why', 'wide', 'will', 'willow_fdn', 'win', 'winners', 'wit', 'with', 'won', 'work', 'world', 'worries', 'would', 'year', 'years', 'yhjnbm039e', 'yo5xvnaupz', 'you', 'your', 'yumaspa8y0', 'za', 'zktiyxrlhp', 'úroveň', 'čecha', 'československého', 'českého', 'čísel', 'číslech', 'šilhavý', 'že', 'život']\n"
     ]
    }
   ],
   "source": [
    "vectorizer = CountVectorizer()\n",
    "x = vectorizer.fit_transform(user_texts)\n",
    "print(vectorizer.get_feature_names())"
   ]
  },
  {
   "cell_type": "code",
   "execution_count": 113,
   "metadata": {},
   "outputs": [
    {
     "name": "stdout",
     "output_type": "stream",
     "text": [
      "[[0 0 0 ... 0 0 0]\n",
      " [0 0 0 ... 0 0 0]\n",
      " [0 0 0 ... 0 0 0]\n",
      " ...\n",
      " [0 0 0 ... 0 0 0]\n",
      " [0 0 1 ... 0 0 0]\n",
      " [0 0 0 ... 0 0 0]]\n"
     ]
    }
   ],
   "source": [
    "print(x.toarray())"
   ]
  },
  {
   "cell_type": "markdown",
   "metadata": {},
   "source": [
    "#### TF-IDF Vectoriser"
   ]
  },
  {
   "cell_type": "code",
   "execution_count": 114,
   "metadata": {},
   "outputs": [
    {
     "name": "stdout",
     "output_type": "stream",
     "text": [
      "{'rt': 476, 'vgouttebarge': 590, 'following': 229, 'our': 415, 'theifab': 540, 'concussion': 147, 'expert': 209, 'group': 262, 'meeting': 363, 'football': 231, 'is': 297, 'finally': 223, 'stepping': 516, 'forward': 234, 'for': 232, 'the': 537, 'protection': 443, 'of': 405, 'player': 432, 'mesutozil1088': 367, 'chelseafc': 132, 'skrapid': 500, '433': 26, 'that': 536, 'left': 341, 'foot': 230, 'definitely': 167, 'genuine': 249, 'we': 609, 're': 461, 'in': 291, 'this': 551, 'season': 487, 'championsleague': 128, 'thoughts': 553, 'on': 407, 'draw': 183, 'ucldraw': 576, 'https': 285, 'co': 139, 'bquwdsanww': 95, 'roman': 473, 'abramovich': 39, 'recognised': 463, 'his': 275, 'charitable': 129, 'work': 628, 'and': 54, 'fight': 221, 'against': 43, 'antisemitism': 57, 'este8kugtm': 203, 'ceskarepre_cz': 122, 'gratulace': 259, 'všem': 603, 'hráčům': 284, 'trenerům': 567, 'výkonu': 601, 'protože': 445, 'přes': 452, 'porážku': 435, 'to': 560, 'byl': 104, 'výkon': 600, 'který': 330, 'měl': 383, 'parame': 421, 'hlc8vhlo8m': 277, 'happy': 265, 'birthday': 85, 'former': 233, 'blue': 87, 'carlo': 113, 'cudicini': 157, 'ugr3qknqjl': 577, 'nicki48141067': 395, 'aubameyang7': 64, 'lacazettealex': 332, 'ianwright0': 286, 'leedixon2': 340, 'thedavidseaman': 539, 'hectorbellerin': 269, 'phmxz45fio': 429, 'barakfever': 72, 'un': 579, 'abrazo': 40, 'hermano': 272, 'disfruta': 178, 'signed': 498, 'sealed': 486, 'delivered': 168, 'hikai': 274, 'mjgx67sprd': 372, 'he': 268, 'here': 271, 'welcome': 611, 'chelsea': 130, 'kaihavertz29': 321, 'jsem': 314, 'moc': 374, 'rád': 479, 'že': 648, 'jsme': 315, 'rámci': 481, 'kpž': 327, 'vytvořili': 595, 'nová': 400, 'partnerství': 422, 'která': 328, 'pomáhají': 434, 'posunout': 437, 'úroveň': 641, 'seriálu': 494, 'další': 160, 'stupín': 521, 'pzkhr6yctv': 448, 'pavlu': 424, 'nedvědovi': 390, 'je': 305, 'dnes': 179, '48': 27, 'let': 343, 'jedné': 307, 'největších': 393, 'legend': 342, 'českého': 644, 'československého': 643, 'fotbalu': 236, 'přejeme': 451, 'všechno': 602, 'nejlepší': 392, 'willow_fdn': 622, '21': 18, 'years': 633, '17': 7, '000': 0, 'specialdays': 508, 'countless': 155, 'precious': 439, 'memories': 364, 'as': 62, 'celebrate': 117, '21st': 19, 'today': 561, 'like': 345, 'say': 484, 'theothegoonercp': 544, 'great': 260, 'see': 489, 'carl_344': 112, 'julieo25': 318, '100': 3, 'itvfootball': 299, 'what': 614, 'nice': 394, 'ice': 287, 'hockey': 278, 'save': 483, 'bobwilsonbwsc': 89, 'also': 49, 'dedicate': 166, 'film': 222, 'alanmillergk': 46, 'johnlukic_': 312, 'jenslehmann': 309, 'petrcech': 428, 'all': 48, 'who': 618, 'acsparta_cz': 41, 'dvojka': 189, 'vypadáte': 594, 'dobře': 181, 'borci': 92, 'tak': 528, 'ať': 67, 'se': 485, 'vám': 598, 'daří': 165, 'deniksport': 169, 'rukavice': 477, 'od': 404, 'vydražily': 593, 'za': 639, '33': 25, 'kč': 331, 'děkujeme': 192, '2wsxy2fxzt': 22, 'rádi': 480, 'bychom': 103, 'pomohli': 433, 'hokejistovi': 279, 'ondřeji': 408, 'buchtelovi': 100, 'kterému': 329, 'před': 449, 'dvěma': 191, 'měsíci': 384, 'diagnostikovali': 172, 'vzácnou': 597, 'rakovinu': 459, 'srdce': 511, 'proto': 444, 'datalivesport': 162, 'jesličky': 310, '7axxuatxdq': 34, 'socceram': 504, 'petr': 426, 'cech': 116, 'will': 621, 'be': 76, 'soccer': 503, 'am': 51, 'from': 240, '11am': 4, 'so': 502, 'thought': 552, 'give': 251, 'you': 636, 'little': 348, 'insight': 294, 'into': 296, 'training': 566, 'regime': 464, 'while': 617, 'was': 605, 'jaroslav': 302, 'šilhavý': 647, 'navštívil': 389, 'společně': 509, 'trenérem': 568, 'brankářů': 97, 'ceskarepre': 121, 'milanem': 369, 'veselým': 589, 'kemp': 324, 'bývalého': 105, 'brankáře': 96, 'upřímnou': 583, 'soustrast': 507, 'rodině': 472, 'nejbližším': 391, 'přátelům': 454, 'jdunce83': 304, 'love': 352, 'do': 180, 'but': 101, 'there': 545, 'are': 59, 'very': 588, 'strict': 520, 'rules': 478, 'won': 627, 'able': 37, 'leave': 339, 'my': 381, 'designated': 170, 'area': 60, 'unfortunately': 580, '56': 28, 'narozeniny': 388, 'slaví': 501, 'stříbrný': 522, 'me': 360, '1996': 9, 'dvojnásobný': 190, 'německý': 402, 'mistr': 371, 'bývalý': 106, 'obránce': 403, 'miroslav': 370, 'kadlec': 320, 'bl': 86, 'lukbon': 353, 'alanwm1986': 47, 'aap03102': 36, 'billygilmourrr': 84, 'andrewrobertso5': 55, 'garylineker': 246, 'rachelrileyrr': 457, 'icecolbeveridge': 288, 'jcqraop5ut': 303, 'juliano': 316, 'belletti': 82, 'celebrating': 118, 'have': 267, 'day': 163, 'julianobelletti': 317, 'yo5xvnaupz': 635, 'fiendishly': 219, 'tough': 565, 'corona': 152, 'conundrum': 151, 'tackle': 527, 'featuring': 215, 'seven': 496, 'side': 497, 'dream': 184, 'team': 532, 'their': 541, 'weird': 610, 'squad': 510, 'numbers': 401, 'can': 110, 'markdelphs': 357, 'brilliant': 99, 'coming': 144, 'home': 281, 'flashscorecom': 228, 'avk1bksfi9': 65, 'something': 506, 'listen': 347, 'szpxutw0nu': 525, 't6cvl6bdgg': 526, '23fjgwr531': 20, 'year': 632, 'has': 266, 'gone': 257, 'pain': 419, 'remains': 466, 'arsenal': 61, 'europaleaguefinal': 207, 'last': 335, 'game': 244, 'career': 111, '29': 21, '2019': 17, 'dexosfxays': 171, 'bbcsport': 75, 'premier': 440, 'league': 338, 'restart': 469, 'june': 319, 'full': 241, 'story': 519, 'ey81uffppk': 210, 'bbcfootball': 73, 'epl': 201, 'uc6qrc4jek': 575, 'finále': 225, 'francií': 237, 'vítězný': 599, 'penaltový': 425, 'rozstřel': 475, 'pak': 420, 'už': 585, 'jen': 308, 'samá': 482, 'radost': 458, 'přesně': 453, '18': 8, 'lety': 344, 'vybojovala': 592, 'con0vvv1ev': 146, 'ovluwoe7fr': 418, 'bbcmotd': 74, 'therealac3': 546, 'top': 564, 'best': 83, 'backs': 69, 'world': 629, 'majority': 356, 'fifacom': 220, 'thank': 534, 'euro2020': 206, 'emiratesfacup': 198, 'mgaborik12': 368, 'congratulations': 149, 'velká': 587, 'jeannelollichon': 306, 'merci': 365, 'beaucoup': 77, 'přehled': 450, 'důležitých': 194, 'čísel': 645, 'kariéry': 322, 'petra': 427, 'čecha': 642, 'fjq7ifl9ix': 227, 'nablýskaný': 385, 'fotbalový': 235, 'život': 649, 'číslech': 646, 'u0wetg8lsa': 573, 'tigjtfo24x': 556, 'děkuji': 193, 'feliz': 217, 'cumpleaños': 158, 'ikercasillas': 290, 'vzklbexgkb': 596, 'chriskirkland43': 134, 'marvinstraver': 358, 'think': 548, 'feet': 216, 'too': 563, 'wide': 620, 'set': 495, 'position': 436, 'then': 543, 'generate': 248, 'much': 379, 'yumaspa8y0': 638, 'didierdrogba': 174, 'meanwhile': 362, 'back': 68, 'at': 63, 'stamford': 515, 'bridge': 98, 'original': 413, 'cfcwatchparty': 125, 'taking': 530, 'place': 430, 'pqrzbkcya6': 438, 'first': 226, 'time': 557, 've': 586, 'seen': 491, 'celebrations': 119, 'dressing': 185, 'room': 474, 'because': 79, 'couldn': 154, 'orfvclnqt7': 412, 'etiennedidot': 204, 'chrislollichon': 135, 'est': 202, 'cause': 115, 'du': 187, 'contrôle': 150, 'antidopage': 56, 'ai': 45, 'faire': 212, 'après': 58, 'le': 337, 'match': 359, 'premierleague': 441, 'title': 558, 'golden': 256, 'glove': 253, 'award': 66, 'boot': 91, 'not': 399, 'bad': 70, 'lads': 333, 'cobham': 141, 'wit': 625, 'looks': 351, 'more': 375, 'including': 292, 'night': 396, 'munich': 380, 'onthisday': 410, '2010': 15, 'third': 550, 'bxxbnex8uh': 102, 'colour': 142, 'trophy': 569, 'ribbons': 471, 'champions': 127, 'again': 42, 'live': 349, 'magical': 355, '5th': 29, 'st': 512, 'fevcgsohoc': 218, 'goalie': 254, 'drill': 186, 'eight': 196, 'ago': 44, 'fa': 211, 'cup': 159, 'winners': 624, 'wembley': 613, 'fwbwhk5nbu': 243, 'darrencheesman': 161, 'thanks': 535, 'talk': 531, 'about': 38, 'path': 423, 'excellence': 208, 'through': 554, 'some': 505, 'amazing': 52, 'gem': 247, 'with': 626, 'still': 518, 'hold': 280, 'fun': 242, 'find': 224, 'out': 416, 'which': 616, 'fans': 213, 'twitter': 571, 'director': 176, 'eugene': 205, 'tenenbaum': 533, 'discusses': 177, 'thinking': 549, 'behind': 81, 'purchase': 446, 'club': 138, '2003': 13, 'moti': 376, 'enjoyed': 200, 'rare': 460, 'interview': 295, 'why': 619, 'mr': 377, 'bought': 94, 'history': 276, 'been': 80, 'created': 156, 'since': 499, 'zktiyxrlhp': 640, '2012': 16, 'swimleyvdw': 524, 'joining': 313, 'revisited': 470, 'incredible': 293, 'hi': 273, 'beautiful': 78, 'truly': 570, 'fantastic': 214, 'staff': 513, 'coaches': 140, 'kotj2ss3qh': 326, 'callumvurley': 109, 'no': 397, 'worries': 630, 'it': 298, 'frank': 238, 'lampard': 334, 'put': 447, 'half': 264, 'an': 53, 'hour': 283, '60': 30, '13': 5, 'goals': 255, 'friend': 239, 'didn': 175, 'play': 431, 'games': 245, 'win': 623, 'way': 608, 'bolton': 90, 'watch': 606, 'over': 417, '76': 33, 'cfcwatch': 124, 'get': 250, 'super': 523, 'j8skol6yer': 300, '1p0peqyaig': 10, 'always': 50, 'ready': 462, 'message': 366, 'during': 188, 'when': 615, 'got': 258, 'ball': 71, 'second': 488, 'did': 173, 'could': 153, 'meant': 361, 'us': 584, 'e_botcherby': 195, 'watching': 607, 'guy': 263, 'tonight': 562, 'vs': 591, 'tni1bt7dn1': 559, 'boss': 93, '15': 6, 'mno1uvdkds': 373, '1simo1987': 11, 'job': 311, '30': 23, '04': 1, '2005': 14, 'u1xibkxjc4': 574, 'relive': 465, 'one': 409, 'greatest': 261, 'days': 164, 'thursday': 555, '30pm': 24, 'uk': 578, 'send': 493, 'progkacademy': 442, 'if': 289, 'comes': 143, 'height': 270, 'choice': 133, 'catch': 114, 'or': 411, 'call': 108, 'qlplh8ggtf': 455, 'cfcbenyt': 123, '82nd': 35, 'yhjnbm039e': 634, 'laurenceellicfc': 336, 'hopefully': 282, 'll': 350, 'normal': 398, 'take': 529, 'selfies': 492, 'thecraigo28': 538, '60th': 31, 'twoxysvpvg': 572, 'name': 386, 'board': 88, 'would': 631, 'update': 581, 'community': 145, 'other': 414, 'stakeholders': 514, 'cer': 120, 'myhalcyondaze': 382, 'enjoy': 199, 'cake': 107, 'chelseafan50': 131, 'limerick': 346, '70klsrxc1g': 32, 'jamesrmullins': 301, 'well': 612, 'done': 182, 'luke': 354, 'mrjeff85': 378, 'challenge': 126, 'steven': 517, 'your': 637, 'clapping': 136, 'close': 137, 'seems': 490, '20': 12, 'reqwdtx9fh': 467, 'elitekidscoach': 197, 'waggataurus': 604, 'racd0njsip': 456, 'upgrade': 582, '0bzjqh2ybn': 2, 'knew': 325, 'they': 547, 'response': 468, 'off': 406, 'gk': 252, 'keepers': 323, 'themselves': 542, 'names': 387, 'conf': 148}\n"
     ]
    }
   ],
   "source": [
    "vectorizer = TfidfVectorizer()\n",
    "vectorizer.fit(user_texts)\n",
    "print(vectorizer.vocabulary_)"
   ]
  },
  {
   "cell_type": "code",
   "execution_count": 115,
   "metadata": {},
   "outputs": [
    {
     "name": "stdout",
     "output_type": "stream",
     "text": [
      "(99, 650)\n"
     ]
    }
   ],
   "source": [
    "vector = vectorizer.transform(user_texts)\n",
    "print(vector.shape)"
   ]
  },
  {
   "cell_type": "markdown",
   "metadata": {},
   "source": [
    "#### Word Cloud"
   ]
  },
  {
   "cell_type": "code",
   "execution_count": 116,
   "metadata": {},
   "outputs": [],
   "source": [
    "user_combined = ', '.join(user_texts)"
   ]
  },
  {
   "cell_type": "code",
   "execution_count": 117,
   "metadata": {},
   "outputs": [
    {
     "data": {
      "image/png": "[encoded data removed]",
      "text/plain": [
       "<Figure size 432x288 with 1 Axes>"
      ]
     },
     "metadata": {
      "needs_background": "light"
     },
     "output_type": "display_data"
    }
   ],
   "source": [
    "wordcloud = WordCloud().generate(user_combined)\n",
    "\n",
    "plt.imshow(wordcloud, interpolation='bilinear')\n",
    "plt.axis('off')\n",
    "plt.show()"
   ]
  },
  {
   "cell_type": "markdown",
   "metadata": {},
   "source": [
    "Let us try to access BLACKPINK GLOBAL BLINK's Twitter account. BLACKPINK GLOBAL BLINK's Twitter ID is @ygofficialblink."
   ]
  },
  {
   "cell_type": "code",
   "execution_count": 118,
   "metadata": {},
   "outputs": [
    {
     "name": "stdout",
     "output_type": "stream",
     "text": [
      "[{'id': 878204370403250176, 'id_str': '878204370403250176', 'name': 'BLACKPINK GLOBAL BLINK', 'screen_name': 'ygofficialblink', 'location': '', 'description': 'YG ENTERTAINMENT #BLACKPINK OFFICIAL BLINK TWITTER l #블랙핑크 팬클럽 블링크 공식 트위터입니다.', 'url': 'https://t.co/c2mkxA118z', 'entities': {'url': {'urls': [{'url': 'https://t.co/c2mkxA118z', 'expanded_url': 'https://blink.blackpinkofficial.com/', 'display_url': 'blink.blackpinkofficial.com', 'indices': [0, 23]}]}, 'description': {'urls': []}}, 'protected': False, 'followers_count': 5541095, 'friends_count': 6, 'listed_count': 5799, 'created_at': 'Fri Jun 23 10:53:32 +0000 2017', 'favourites_count': 0, 'utc_offset': None, 'time_zone': None, 'geo_enabled': False, 'verified': True, 'statuses_count': 1327, 'lang': None, 'status': {'created_at': 'Thu Oct 29 02:00:40 +0000 2020', 'id': 1321633018289647616, 'id_str': '1321633018289647616', 'text': 'RT @ygent_official: The world-famous\\xa0K-POP\\xa0girl group @BLACKPINK brings you a chic and stylish theme!\\xa0\\xa0\\n\\n👉 https://t.co/18B5wAxPYb\\n\\n#BLACKP…', 'truncated': False, 'entities': {'hashtags': [], 'symbols': [], 'user_mentions': [{'screen_name': 'ygent_official', 'name': 'YG FAMILY', 'id': 408177579, 'id_str': '408177579', 'indices': [3, 18]}, {'screen_name': 'BLACKPINK', 'name': 'BLACKPINKOFFICIAL', 'id': 1273850774380883975, 'id_str': '1273850774380883975', 'indices': [54, 64]}], 'urls': [{'url': 'https://t.co/18B5wAxPYb', 'expanded_url': 'https://bit.ly/3kESJ6U', 'display_url': 'bit.ly/3kESJ6U', 'indices': [107, 130]}]}, 'source': '<a href=\"http://twitter.com/download/iphone\" rel=\"nofollow\">Twitter for iPhone</a>', 'in_reply_to_status_id': None, 'in_reply_to_status_id_str': None, 'in_reply_to_user_id': None, 'in_reply_to_user_id_str': None, 'in_reply_to_screen_name': None, 'geo': None, 'coordinates': None, 'place': None, 'contributors': None, 'retweeted_status': {'created_at': 'Thu Oct 29 02:00:17 +0000 2020', 'id': 1321632919312498694, 'id_str': '1321632919312498694', 'text': 'The world-famous\\xa0K-POP\\xa0girl group @BLACKPINK brings you a chic and stylish theme!\\xa0\\xa0\\n\\n👉 https://t.co/18B5wAxPYb… https://t.co/t8Vzl2PbCR', 'truncated': True, 'entities': {'hashtags': [], 'symbols': [], 'user_mentions': [{'screen_name': 'BLACKPINK', 'name': 'BLACKPINKOFFICIAL', 'id': 1273850774380883975, 'id_str': '1273850774380883975', 'indices': [34, 44]}], 'urls': [{'url': 'https://t.co/18B5wAxPYb', 'expanded_url': 'https://bit.ly/3kESJ6U', 'display_url': 'bit.ly/3kESJ6U', 'indices': [87, 110]}, {'url': 'https://t.co/t8Vzl2PbCR', 'expanded_url': 'https://twitter.com/i/web/status/1321632919312498694', 'display_url': 'twitter.com/i/web/status/1…', 'indices': [112, 135]}]}, 'source': '<a href=\"https://mobile.twitter.com\" rel=\"nofollow\">Twitter Web App</a>', 'in_reply_to_status_id': None, 'in_reply_to_status_id_str': None, 'in_reply_to_user_id': None, 'in_reply_to_user_id_str': None, 'in_reply_to_screen_name': None, 'geo': None, 'coordinates': None, 'place': None, 'contributors': None, 'is_quote_status': False, 'retweet_count': 5421, 'favorite_count': 36832, 'favorited': False, 'retweeted': False, 'possibly_sensitive': False, 'lang': 'en'}, 'is_quote_status': False, 'retweet_count': 5421, 'favorite_count': 0, 'favorited': False, 'retweeted': False, 'possibly_sensitive': False, 'lang': 'en'}, 'contributors_enabled': False, 'is_translator': False, 'is_translation_enabled': False, 'profile_background_color': '000000', 'profile_background_image_url': 'http://abs.twimg.com/images/themes/theme1/bg.png', 'profile_background_image_url_https': 'https://abs.twimg.com/images/themes/theme1/bg.png', 'profile_background_tile': False, 'profile_image_url': 'http://pbs.twimg.com/profile_images/878207363269836801/hYvfoMgn_normal.jpg', 'profile_image_url_https': 'https://pbs.twimg.com/profile_images/878207363269836801/hYvfoMgn_normal.jpg', 'profile_banner_url': 'https://pbs.twimg.com/profile_banners/878204370403250176/1601269396', 'profile_link_color': '91D2FA', 'profile_sidebar_border_color': '000000', 'profile_sidebar_fill_color': '000000', 'profile_text_color': '000000', 'profile_use_background_image': False, 'has_extended_profile': False, 'default_profile': False, 'default_profile_image': False, 'following': False, 'follow_request_sent': False, 'notifications': False, 'translator_type': 'none'}]\n"
     ]
    }
   ],
   "source": [
    "account = twitter_api.users.lookup(screen_name='ygofficialblink')\n",
    "print(account)"
   ]
  },
  {
   "cell_type": "code",
   "execution_count": 119,
   "metadata": {},
   "outputs": [
    {
     "data": {
      "text/plain": [
       "dict_keys(['id', 'id_str', 'name', 'screen_name', 'location', 'description', 'url', 'entities', 'protected', 'followers_count', 'friends_count', 'listed_count', 'created_at', 'favourites_count', 'utc_offset', 'time_zone', 'geo_enabled', 'verified', 'statuses_count', 'lang', 'status', 'contributors_enabled', 'is_translator', 'is_translation_enabled', 'profile_background_color', 'profile_background_image_url', 'profile_background_image_url_https', 'profile_background_tile', 'profile_image_url', 'profile_image_url_https', 'profile_banner_url', 'profile_link_color', 'profile_sidebar_border_color', 'profile_sidebar_fill_color', 'profile_text_color', 'profile_use_background_image', 'has_extended_profile', 'default_profile', 'default_profile_image', 'following', 'follow_request_sent', 'notifications', 'translator_type'])"
      ]
     },
     "execution_count": 119,
     "metadata": {},
     "output_type": "execute_result"
    }
   ],
   "source": [
    "account[0].keys()"
   ]
  },
  {
   "cell_type": "code",
   "execution_count": 120,
   "metadata": {},
   "outputs": [],
   "source": [
    "account_name = account[0]['name']\n",
    "account_description = account[0]['description']\n",
    "account_followers = account[0]['followers_count']"
   ]
  },
  {
   "cell_type": "code",
   "execution_count": 121,
   "metadata": {},
   "outputs": [
    {
     "name": "stdout",
     "output_type": "stream",
     "text": [
      "BLACKPINK GLOBAL BLINK\n",
      "YG ENTERTAINMENT #BLACKPINK OFFICIAL BLINK TWITTER l #블랙핑크 팬클럽 블링크 공식 트위터입니다.\n",
      "5541095\n"
     ]
    }
   ],
   "source": [
    "print(account_name)\n",
    "print(account_description)\n",
    "print(account_followers)"
   ]
  },
  {
   "cell_type": "code",
   "execution_count": 143,
   "metadata": {},
   "outputs": [],
   "source": [
    "user_tweets = twitter_api.statuses.user_timeline(screen_name='ygofficialblink', count=100)\n",
    "#print(user_tweets)"
   ]
  },
  {
   "cell_type": "code",
   "execution_count": 123,
   "metadata": {},
   "outputs": [
    {
     "data": {
      "text/plain": [
       "100"
      ]
     },
     "execution_count": 123,
     "metadata": {},
     "output_type": "execute_result"
    }
   ],
   "source": [
    "len(user_tweets)"
   ]
  },
  {
   "cell_type": "code",
   "execution_count": 124,
   "metadata": {},
   "outputs": [
    {
     "name": "stdout",
     "output_type": "stream",
     "text": [
      "\n",
      "RT @ygent_official: The world-famous K-POP girl group @BLACKPINK brings you a chic and stylish theme!  \n",
      "\n",
      "👉 https://t.co/18B5wAxPYb\n",
      "\n",
      "#BLACKP…\n",
      "\n",
      "RT @kpop_sbs: [🎥#단독샷캠] 블랙핑크\n",
      "\n",
      "#인기가요 #블랙핑크 #BLACKPINK #LovesickGirls #PrettySavage @BLACKPINK\n",
      "\n",
      "💖Lovesick Girls\n",
      "•201025: https://t.co/n8Z1ZzeS…\n",
      "\n",
      "RT @ygent_official: Do you find yourself humming 'Lovesick Girls' like I do? 🎧  \n",
      "Get the iconic new @BLACKPINK looks, and let's dance! 🖤💕…\n",
      "\n",
      "RT @SuperStar_YG: First news!\n",
      "#SuperStarYG pre-register begins today!\n",
      "\n",
      "Spread the words!\n",
      "\n",
      "☞https://t.co/nm6PzIKkzi\n",
      "#SECHSKIES #BIGBANG #AKM…\n",
      "\n",
      "RT @SuperStar_YG: 첫 번째 뉴~스\n",
      "지금 #SuperStarYG 사전예약 시작을 알려드립니다!\n",
      "\n",
      "#슈스와 공식 트위터를 팔로우해주신 여러분들께 먼저 알려드리는 겁니다.\n",
      "그러니까 자랑(?) 스럽게 팍팍 소문 내주세요!\n",
      "☞https://t.…\n",
      "\n",
      "RT @sbsnoriter: 💫201025 인기가요 PD노트\n",
      "\n",
      "3주 연속 1위로 트로피를 거머쥔 블랙핑크🖤❤\n",
      "블링크를 심쿵하게 만들 블핑이들의 무대 현장사진٩(๑˃̵ᴗ˂̵)و\n",
      "\n",
      "MORE📸 https://t.co/flJVNdEDhA\n",
      "\n",
      "#인기가요 #in…\n",
      "\n",
      "RT @SuperStar_YG: [SuperStar YG] #blackpink in your area!\n",
      "#BLACKPINK with the pre-register news!\n",
      "\n",
      "3 winners among the retweets will get [Si…\n",
      "\n",
      "RT @SuperStar_YG: [SuperStar YG] #blackpink in your area!\n",
      "\n",
      "사전예약 소식을 #블랙핑크 가 전해드려요!\n",
      "아직 사전 예약 안 하셨다면?\n",
      "\n",
      "리트윗 해주신 여러분들 중 3분께는 [싸인 CD] 를 드려요!\n",
      "*상황…\n",
      "\n",
      "RT @kpop_sbs: [🎥#페이스캠] 블랙핑크 - Lovesick Girls\n",
      "\n",
      "#인기가요 #BLACKPINK #블랙핑크 #LovesickGirls @BLACKPINK\n",
      "\n",
      "#지수: https://t.co/SIL4kGumOA\n",
      "#제니: https://t…\n",
      "\n",
      "RT @kpop_sbs: [🎥#안방1열직캠] 블랙핑크 - Lovesick Girls\n",
      "\n",
      "#인기가요 #BLACKPINK #블랙핑크 #LovesickGirls @BLACKPINK\n",
      "\n",
      "#지수: https://t.co/ArdM30hkiZ\n",
      "#제니: https:/…\n"
     ]
    }
   ],
   "source": [
    "for i in range(10):\n",
    "    print()\n",
    "    print(user_tweets[i]['text'])"
   ]
  },
  {
   "cell_type": "code",
   "execution_count": 125,
   "metadata": {},
   "outputs": [
    {
     "data": {
      "text/plain": [
       "100"
      ]
     },
     "execution_count": 125,
     "metadata": {},
     "output_type": "execute_result"
    }
   ],
   "source": [
    "user_texts = [status['text'] for status in user_tweets]\n",
    "len(user_texts)"
   ]
  },
  {
   "cell_type": "code",
   "execution_count": 126,
   "metadata": {},
   "outputs": [
    {
     "data": {
      "text/plain": [
       "['RT @ygent_official: The world-famous\\xa0K-POP\\xa0girl group @BLACKPINK brings you a chic and stylish theme!\\xa0\\xa0\\n\\n👉 https://t.co/18B5wAxPYb\\n\\n#BLACKP…',\n",
       " 'RT @kpop_sbs: [🎥#단독샷캠] 블랙핑크\\n\\n#인기가요 #블랙핑크 #BLACKPINK #LovesickGirls #PrettySavage @BLACKPINK\\n\\n💖Lovesick Girls\\n•201025: https://t.co/n8Z1ZzeS…',\n",
       " \"RT @ygent_official: Do you find yourself humming 'Lovesick Girls' like I do? 🎧  \\nGet the iconic new @BLACKPINK looks, and let's dance! 🖤💕…\",\n",
       " 'RT @SuperStar_YG: First news!\\n#SuperStarYG pre-register begins today!\\n\\nSpread the words!\\n\\n☞https://t.co/nm6PzIKkzi\\n#SECHSKIES #BIGBANG #AKM…',\n",
       " 'RT @SuperStar_YG: 첫 번째 뉴~스\\n지금 #SuperStarYG 사전예약 시작을 알려드립니다!\\n\\n#슈스와 공식 트위터를 팔로우해주신 여러분들께 먼저 알려드리는 겁니다.\\n그러니까 자랑(?) 스럽게 팍팍 소문 내주세요!\\n☞https://t.…',\n",
       " 'RT @sbsnoriter: 💫201025 인기가요 PD노트\\n\\n3주 연속 1위로 트로피를 거머쥔 블랙핑크🖤❤\\n블링크를 심쿵하게 만들 블핑이들의 무대 현장사진٩(๑˃̵ᴗ˂̵)و\\n\\nMORE📸 https://t.co/flJVNdEDhA\\n\\n#인기가요 #in…',\n",
       " 'RT @SuperStar_YG: [SuperStar YG] #blackpink in your area!\\n#BLACKPINK with the pre-register news!\\n\\n3 winners among the retweets will get [Si…',\n",
       " 'RT @SuperStar_YG: [SuperStar YG] #blackpink in your area!\\n\\n사전예약 소식을 #블랙핑크 가 전해드려요!\\n아직 사전 예약 안 하셨다면?\\n\\n리트윗 해주신 여러분들 중 3분께는 [싸인 CD] 를 드려요!\\n*상황…',\n",
       " 'RT @kpop_sbs: [🎥#페이스캠] 블랙핑크 - Lovesick Girls\\n\\n#인기가요 #BLACKPINK #블랙핑크 #LovesickGirls @BLACKPINK\\n\\n#지수: https://t.co/SIL4kGumOA\\n#제니: https://t…',\n",
       " 'RT @kpop_sbs: [🎥#안방1열직캠] 블랙핑크 - Lovesick Girls\\n\\n#인기가요 #BLACKPINK #블랙핑크 #LovesickGirls @BLACKPINK\\n\\n#지수: https://t.co/ArdM30hkiZ\\n#제니: https:/…',\n",
       " 'RT @kpop_sbs: [🎥#앵콜캠]\\n\\n3주 연속 1위 🏆🏆🏆\\n명창핑크의 트리플 크라운을 축하합니다🖤💖\\n\\n#인기가요 #블랙핑크 #BLACKPINK #LovesickGirls @BLACKPINK \\n\\n👉https://t.co/YpUoHx78wK htt…',\n",
       " 'RT @BLACKPINK: Thank you so much BLINKs 🖤\\nlovesick girls so full with love https://t.co/2nUPsuAEpN',\n",
       " 'RT @ygent_official: #BLACKPINK ‘Lovesick Girls’ 1025 SBS Inkigayo : NO.1 OF THE WEEK\\n\\n▶️ NAVER TV: https://t.co/aCbRE1YgbS\\n▶️ YouTube: http…',\n",
       " '#THANKUBLINK \\n#BLACKPINK 의 #LovesickGirls 가 #인기가요 에서 3주 연속 1위를 수상하였습니다!🏆🏆🏆\\n블링크와 함께 받은 소중한 트리플 크라운 감사합니다🖤💖\\n\\n#블랙핑크 \\n#THEALBUM #1stFULLALBUM',\n",
       " 'RT @kpop_sbs: [🎥#안방1열직캠] 블랙핑크 - Lovesick Girls\\n\\n#인기가요 #BLACKPINK #블랙핑크 #LovesickGirls @BLACKPINK\\n\\n👉https://t.co/gKk13EDmI4 https://t.co/fqf…',\n",
       " '#BLACKPINKINYOURAREA \\n잠시 후 3시 30분 SBS #인기가요 에 #BLACKPINK 가 출연합니다!⏰\\n블링크도 함께해요 🖤💖\\n\\n#블랙핑크 #LovesickGirls\\n#THEALBUM #1stFULLALBUM',\n",
       " 'RT @kpop_sbs: [🕊] 행복인가\\n\\n#블랙핑크 Lovesick Girls 기다리는 블링크들을 위한 선물(੭ ᐕ)੭*⁾⁾\\n\\n잠시 후 오후 3시 30분!\\n#인기가요 에서 만나요~👋\\n\\n@BLACKPINK #BLACKPINK #LovesickGirl…',\n",
       " \"RT @ygent_official: #BLACKPINK 'Lovesick Girls' M/V HITS 200 MILLION VIEWS @Youtube\\nBLINKs worldwide, thank you so much!\\n\\n'Lovesick Girls'…\",\n",
       " \"RT @ygent_official: #BLACKPINK '24/365 with BLACKPINK' EP.16\\n\\n🎬 https://t.co/3k2SYyoPp0\\n\\n#블랙핑크\\xa0#JISOO #JENNIE #ROSÉ #LISA #24_365_WITH_BLAC…\",\n",
       " 'RT @MBC_entertain: 블링크 세상 속엔 젠츄리챙만 있으면 돼!🖤💖\\n울 럽식이 현포 볼 블링크~🙋\\u200d♀️\\n\\n📷 ☞ https://t.co/z7Zg7XvMx6\\n\\n201017 #쇼음악중심 #음중 #블랙핑크 #BLACKPINK #LovesickG…',\n",
       " '#THANKUBLINK \\n블링크와 함께 이룬 신기록! \\n축하해요🎊👏🎊블링크🖤💖\\n항상 감사합니다🙏🏻\\n\\n#BLACKPINK #블랙핑크\\n#THEALBUM #1stFULLALBUM\\n#HanteoChart #한터차트 https://t.co/cWhJI9Nh7c',\n",
       " \"RT @netflix: OK, it’s the final BLACKPINK DELETED SCENE 😢  (I know, I would give you a million if I could)\\n\\nFind out what it's really like…\",\n",
       " \"RT @netflix: BLACKPINK DELETED SCENE #5: Lisa try to pet a stray cat: cute or literally the cutest thing that's ever happened? #LightUptheS…\",\n",
       " 'RT @netflix: BLACKPINK DELETED SCENE #4: Dying over this moment where Lisa and Rosé look back on the days they used to fight every single d…',\n",
       " 'RT @netflix: BLACKPINK DELETED SCENE #3: What was it like for BLACKPINK when they first started out in Korea? #LightUptheSky1MoreTime https…',\n",
       " 'RT @netflix: BLACKPINK DELETED SCENE #2: Impromptu photoshoot! 📸 #LightUptheSky1MoreTime https://t.co/95ZxwUkMbh',\n",
       " \"RT @netflix: BLACKPINK DELETED SCENE #1: If you've ever wondered what artists talk about when they're waiting around the recording studio .…\",\n",
       " 'RT @netflix: Ready to #LightUptheSky1MoreTime and check out some brand new deleted scenes? \\n\\nJennie, Rosé, Jisoo, and Lisa are here to kick…',\n",
       " 'RT @netflix: 15 minutes Blinks! #LightUptheSky1MoreTime https://t.co/8DxG5E1jBK',\n",
       " \"RT @ygent_official: #BLACKPINK 'How You Like That' M/V HITS 600 MILLION VIEWS @Youtube\\nBLINKs worldwide, thank you so much!\\n\\n’How You Like…\",\n",
       " 'RT @GMA: 🎶 We are the #LovesickGirls 🎶 \\n🖤💗\\n#BLACKPINKonGMA\\n#BLACKPINK\\n@ygofficialblink \\n#TheAlbum https://t.co/RPzqalQVnt',\n",
       " 'RT @GMA: \"We miss our Blinks so much!\" 🖤💗\\n\\n#BLACKPINK says they miss performing for their fans and we can\\'t wait for the @GMA performance!…',\n",
       " 'RT @BLACKPINK: TikTok Stage Live 👉 https://t.co/b8cvFbab09\\n\\n#BLACKPINK #TikTokStageWithBLACKPINK #TikTokLive #20201021_7pmKST #NowOnAir #YG',\n",
       " \"RT @ygent_official: #BLACKPINK 'Lovesick Girls' Jimmy Kimmel \\n\\n🎬YouTube: https://t.co/6NkeOWKk7W\\n📺NAVER TV: https://t.co/WG1ew23GfD\\n\\n#블랙핑크…\",\n",
       " 'RT @JimmyKimmelLive: Loved having @BLACKPINK on tonight! 🖤💗🖤💗 Here’s their interview with @JimmyKimmel on @YouTube... #BLACKPINKonKIMMEL ht…',\n",
       " 'RT @JimmyKimmelLive: Jimmy’s interview with @BLACKPINK! 🖤💗🖤💗 #BLACKPINKonKIMMEL https://t.co/syydSfybC8',\n",
       " \"RT @BLACKPINK: WEDNESDAY ON @GMA! You won't want to miss it! #BLACKPINK #THEALBUM #BLACKPINKonGMA 🖤💗 https://t.co/ORzVSYozhU\",\n",
       " 'RT @BLACKPINK: Watch us on @JimmyKimmelLive – tonight on ABC! #BLACKPINKonKIMMEL 🖤💗 https://t.co/WLHVOU4qwk',\n",
       " 'RT @ygent_official: #BLACKPINK ‘THE ALBUM’ COMEBACK LIVE REPLAY\\n\\n▶️\\xa0https://t.co/GYY1HtwwXM\\n\\n#블랙핑크\\xa0#1stFULLALBUM #THEALBUM #ComebackLive #R…',\n",
       " 'RT @sbsnoriter: 💫2001018 인기가요 PD노트\\n\\n2주 연속 1위한 젠츄리챙 ╰(✧∇✧)╯ \\n블링크의 심장을 뚜두뚜두 할 블핑이들의 무대 사진🖤❤\\n\\nMORE📸 https://t.co/z4Hp2SLDft\\n\\n#인기가요 #inkigayo #…',\n",
       " \"RT @ygent_official: #BLACKPINK '붐바야\\xa0(BOOMBAYAH)' DANCE PRACTICE VIDEO HITS 200 MILLION VIEWS @YouTube\\nBLINKs worldwide, thank you so much!…\",\n",
       " 'RT @kpop_sbs: 그리고 #페이스캠 까지 챙겨봐야 오늘 하루 완성-☆\\n\\n@BLACKPINK #블랙핑크 #BLACKPINK #LovesickGirls #인기가요 #FACECAM\\n\\n#제니: https://t.co/TwgjObCepU\\n#로제: ht…',\n",
       " 'RT @kpop_sbs: 분명 두 개의 태양은 없다고 하는데\\n왜 태양이 네 개나 있지?\\n\\n@BLACKPINK #블랙핑크 #BLACKPINK #LovesickGirls #인기가요 #안방1열직캠\\n\\n#제니🌞: https://t.co/16oszdnaxE\\n#…',\n",
       " 'RT @BLACKPINK: We love you Blinks\\nThank you always💗 https://t.co/aBeEPNYpN3',\n",
       " 'RT @kpop_sbs: #젠츄리챙 의 2주 연속 1위를 축하합니다~🖤💖🖤💖\\n\\n@BLACKPINK #블랙핑크 #BLACKPINK #LovesickGirls #인기가요 #앵콜캠 🏆🏆\\n\\n👉https://t.co/VsRMUvGqBR https://t.co…',\n",
       " 'RT @ygent_official: #BLACKPINK ‘Lovesick Girls’ 1018 SBS Inkigayo : NO.1 OF THE WEEK\\n\\n▶️ NAVER TV : https://t.co/Yg6dILJMSt\\n▶️ YouTube : ht…',\n",
       " 'RT @kpop_sbs: 블핑이들 노래 듣고 있었는데 옆집에서\\n볼륨 좀 더 높여달라고 하더라구요😊🔊\\n\\n@BLACKPINK #블랙핑크 #BLACKPINK #LovesickGirls #인기가요 #안방1열직캠\\n\\n👉https://t.co/MIbQZ2MyQn…',\n",
       " '#THANKUBLINK \\n#BLACKPINK 의 #LovesickGirls 가 #인기가요 에서 2주 연속 1위를 수상하였습니다!🏆🏆\\n#젠츄리챙 세상 속엔 #블링크 만 있으면 돼!🖤💖\\n\\n#블랙핑크 \\n#THEALBUM #1stFULLALBUM',\n",
       " '#BLACKPINKINYOURAREA \\n주사위🎲 확률 레이스에 뛰어든 블랙핑크🖤💖\\n과연 행운의 주인공이 될 수 있을 지 잠시 후 5시 SBS #런닝맨 에서 함께 뛰어요!🏃\\u200d♀️🏃\\n\\n#BLACKPINK… https://t.co/7lDmUZlDjA',\n",
       " '#BLACKPINKINYOURAREA \\n잠시 후 3시 30분 SBS #인기가요 에 #BLACKPINK 가 출연합니다!⏰ 언제나 레전드인 신나는 무대 함께해요🖤💖\\n\\n#블랙핑크 #LovesickGirls\\n#THEALBUM #1stFULLALBUM',\n",
       " 'RT @kpop_sbs: [🕊] 행복인가\\n⠀\\n#블랙핑크 Lovesick Girls를 기다리는 블링크들을 위한 선물\\xa0(ʃƪ\\xa0˘\\xa0³˘)💖🖤\\n⠀\\n잠시 후 오후 3시 30분\\n#인기가요 🎧에서 만나요~👋\\n\\n@BLACKPINK #BLACKPINK #Lovesi…',\n",
       " 'RT @MBC_entertain: 201017🔍 [예능연구소 세로캠]\\n#쇼음악중심 #음중 #블랙핑크 #BLACKPINK #LovesickGirls @BLACKPINK\\n\\n#지수 ▶ https://t.co/Sem74qgZkH\\n#로제 ▶ https://t…',\n",
       " \"RT @MBC_entertain: 201017🔍 [예능연구소 4K 직캠]\\n#쇼음악중심 #음중 #블랙핑크 #BLACKPINK #LovesickGirls @BLACKPINK\\n\\n'블랙핑크(BLACKPINK) - Lovesick Girls’ \\n▶ https…\",\n",
       " '#BLACKPINKINYOURAREA \\n아형고로 다시 전학온 월드스타🌟 BLACKPINK!\\n블핑 대 블핑 멤버들 사이의 대결까지🤭 \\n잠시 후 9시 JTBC #아는형님 본방사수📺\\n\\n#BLACKPINK… https://t.co/Hwu9X2omvq',\n",
       " 'RT @BLACKPINK: Lovesick girls today🖤 https://t.co/c2FJJ0e3iY',\n",
       " '#BLACKPINKINYOURAREA \\n#BLACKPINK 의 #LovesickGirls 이 #쇼음악중심 1위 후보에 올랐습니다!🖤💖\\n\\n✔️#0505 로 ‘2’ 또는 ‘블랙핑크’ 입력 후 문자메시지 전송… https://t.co/E0B6TYP9NO',\n",
       " '#BLACKPINKINYOURAREA \\n잠시 후 3시 40분 MBC #쇼음악중심 에 #BLACKPINK 가 출연합니다!⏰\\n오늘도 #젠츄리챙 을 향한 사랑을 가득 담아 본방사수📺\\n\\n#블랙핑크… https://t.co/nwmNdh8ZYo',\n",
       " 'RT @BLACKPINK: Oct. 21st, 7PM\\nTikTok Stage with BLACKPINK will be coming to you all LIVE!\\nLooking forward to your participation!  👉 https:/…',\n",
       " \"RT @ygent_official: #BLACKPINK '24/365 with BLACKPINK' EP.15\\n\\n🎬https://t.co/W4vQDASNQj\\n\\n#블랙핑크\\xa0#JISOO #JENNIE #ROSÉ #LISA #24_365_WITH_BLACK…\",\n",
       " '#THANKUBLINK \\n#BLACKPINK 의 #LovesickGirls 이 #뮤직뱅크 에서 1위를 수상하였습니다!🥇\\n블링크의 무한한 사랑 감사합니다😘😘\\n\\n#블랙핑크 \\n#THEALBUM #1stFULLALBUM',\n",
       " \"RT @BLACKPINK: #BLACKPINK - 'Ice Cream (with @SelenaGomez)' @RecordingAcad #GiveCredit #BehindTheRecord https://t.co/SrpFgVgMlo\",\n",
       " '#THANKUBLINK \\n#BLACKPINK 의 #LovesickGirls 이 #엠카운트다운 에서 1위를 수상하였습니다! 👑\\n블링크 최고따봉👍👍👍👍 감사합니다🖤💖\\n\\n#블랙핑크 \\n#THEALBUM #1stFULLALBUM',\n",
       " '#THANKUBLINK \\n언제나 무한한 사랑주시는 블링크 감사합니다🖤💖\\n\\n#BLACKPINK #블랙핑크\\n#HowYouLikeThat #HYLT\\n#HanteoChart #한터차트 https://t.co/ZzDR6jAjUb',\n",
       " \"RT @ygent_official: #BLACKPINK 'THE ALBUM' JACKET MAKING FILM\\n\\n🎬YouTube: https://t.co/unNOLpnQCy\\n📺NAVER TV: https://t.co/aeaxbv6u9B\\n\\n#블랙핑크…\",\n",
       " 'RT @jtbclove: 3년 만에 전학 온 블랙핑크🖤\\n#지수 #제니 #로제 #리사\\n\\n#아는형님 형.친.소 홈페이지 댓글 이벤트\\n참여하러 가기 👉 https://t.co/CztefWCAYW\\n\\n추첨을 통해 #블랙핑크(#Blackpink)의\\n친필 사인…',\n",
       " 'RT @MBC_entertain: 무대 하나로 하이틴 정주행 완료(❛ε ❛)♫♪\\n블핑이들 컴백 현포 보러 와요 블링크🖤💗\\n\\n📷 ☞ https://t.co/DCVblNIaSb\\n\\n201010 #쇼음악중심 #음중 #블랙핑크 #BLACKPINK #Loves…',\n",
       " \"RT @ygent_official: #BLACKPINK 'Kill This Love' DANCE PRACTICE VIDEO HITS 300 MILLION VIEWS @YouTube\\nBLINKs worldwide, thank you so much!…\",\n",
       " '#THANKUBLINK \\n#BLACKPINK 의 #LovesickGirls 이 #쇼챔피언 에서 챔피언송을 수상하였습니다!🏆\\n블링크 여러분 감사합니다🖤💖\\n\\n#블랙핑크\\n#THEALBUM #1stFULLALBUM',\n",
       " \"RT @ygent_official: We are the #LovesickGirls\\nWith @BLACKPINK's unique girl crush look in Zepeto 🖤💕\\n\\n👉 Enter Now : https://t.co/PLBXU6MdHP…\",\n",
       " \"RT @ygent_official: 'TikTok Stage with @BLACKPINK' Teaser Video\\n\\n#BLACKPINK #블랙핑크 #TikTokStageWithBLACKPINK #TikTokLive #TeaserVideo #20201…\",\n",
       " 'RT @netflix: Watch the opening scene from BLACKPINK: Light Up the Sky \\n\\nNow on Netflix! https://t.co/S133BAuhzO',\n",
       " 'RT @BLACKPINK: #TwitterBlueroom 과 함께한 #BLACKPINK 의 LIVE Q&amp;A! 모두 즐거우셨나요~? #블랙핑크의 첫 정규앨범 #THE_ALBUM 도 많은 사랑 부탁드려요💕 https://t.co/ZiOyIJKONS',\n",
       " 'RT @BLACKPINK: #BLACKPINK #TwitterBlueroom LIVE Q&amp;A @BLACKPINK\\n\\n#블랙핑크 #YG https://t.co/cXGamxoDax',\n",
       " 'RT @ygent_official: TikTok Stage with @BLACKPINK\\n\\nTikTok Stage with 🖤BLACKPINK💗 will be coming to you all LIVE!\\n\\n📌2020.10.21(WED) 7PM KST\\n📌…',\n",
       " 'RT @BLACKPINK: 🖤드디어 오늘💖 3시간 앞으로 다가온 #TwitterBlueroom LIVE Q&amp;A with #BLACKPINK\\n오늘 오후 1시 (KST) #블랙핑크 의 공식 트위터 계정 @BLACKPINK 에서 함께 해주세요!👑💘\\n\\n#A…',\n",
       " '#BLACKPINKINYOURAREA \\n잠시 후, 9시 BLACKPINK: Light Up the SkyㅣGlobal Fan Event가 방송됩니다 !\\n\\n🖤YouTube :… https://t.co/tx9xzF4Qlm',\n",
       " \"BLACKPINK 'Lovesick Girls' MV is now on COEX MEDIA TOWER!\\n강남구 삼성동 코엑스 미디어 타워에서 BLACKPINK ‘Lovesick Girls’ MV를 만나보세요… https://t.co/hnzvxHBxT4\",\n",
       " 'Thank you @shazam! https://t.co/rQPoHHELss',\n",
       " \"RT @ygent_official: #BLACKPINK '붐바야\\xa0(BOOMBAYAH)' M/V HITS 1 BILLION VIEWS @Youtube\\nBLINKs worldwide, thank you so much!\\n\\n'붐바야 (BOOMBAYAH)'…\",\n",
       " 'V 컬러링에서도 블랙핑크를 만나볼 수 있어요!\\n아래 링크에서 블랙핑크 V 컬러링을 확인해보세요!\\n\\n🖤구글플레이 다운로드:\\xa0https://t.co/Hz5FYY53RP\\n\\n💖모바일 웹:\\xa0… https://t.co/M4f7bZPWrj',\n",
       " 'RT @kpop_sbs: 🎉블핑이들 1위 축하합니다💖🖤\\n\\n@ygofficialblink #블랙핑크 #BLACKPINK #LovesickGirls #앵콜캠 #인기가요\\n\\n👉https://t.co/AGlZf35u1s https://t.co/HvdaoRre…',\n",
       " 'RT @ygent_official: #BLACKPINK ‘Lovesick Girls’ 1011 SBS Inkigayo : NO.1 OF THE WEEK\\n\\n▶️ NAVER TV : https://t.co/lcEkOowxUs\\n▶️ YouTube : ht…',\n",
       " 'RT @ygent_official: #BLACKPINK ‘Pretty Savage’ 1011 SBS Inkigayo\\n\\n▶️ NAVER TV: https://t.co/f1P5ByDZPg\\n▶️ YouTube: https://t.co/4itObzmeGa…',\n",
       " 'RT @kpop_sbs: 10대의 마지막 날 BGM으로 틀고 싶은 노래\\n?? : 그러니까 n년 전으로 돌려보내줘..☆\\n\\n@ygofficialblink #블랙핑크 #LovesickGirls #인기가요 #페이스캠 #안방1열직캠\\n\\n#제니: https://…',\n",
       " 'RT @kpop_sbs: 짠! 블랙핑크 납셨다✨😎\\n카펫 깔겠습니다💖🖤\\n\\n@ygofficialblink #블랙핑크 #PrettySavage #인기가요 #페이스캠 #FACECAM #안방1열직캠\\n\\n#제니: https://t.co/1F4Nv8iF4D\\n#로제…',\n",
       " 'RT @BLACKPINK: Thank you, we love you so much💗 https://t.co/OfKQ9hjVOW',\n",
       " 'RT @BLACKPINK: 🖤💗 https://t.co/rGnWzP8MZ1',\n",
       " '#THANKUBLINK \\n#BLACKPINK 의 #LovesickGirls  이 #인기가요 에서 1위를 수상하였습니다!🥇 첫 1위를 선물해준 BLINK 여러분 너무 감사합니다!🖤💖\\n\\n#블랙핑크\\n#THEALBUM #1stFULLALBUM',\n",
       " 'RT @kpop_sbs: 맞아❣ 아프더라도 블핑이들만 있으면 돼(*ฅ́˘ฅ̀*)♡\\n\\n@BLACKPINK #블랙핑크 #BLACKPINK #LovesickGirls #인기가요 #안방1열직캠\\n\\n👉https://t.co/5TxxpSGoNS https://t…',\n",
       " 'RT @kpop_sbs: 자태부터 다른 블랙핑크의 퍼포먼스에 심장 뚜두뚜두 저격당했다(｡💖‿🖤｡)\\n\\n@ygofficialblink #블랙핑크 #BLACKPINK #PrettySavage #인기가요 #안방1열직캠\\n\\n👉https://t.co/Ni4Gxv…',\n",
       " '#BLACKPINKINYOURAREA \\n잠시 후 3시 30분 SBS #인기가요 에 #BLACKPINK 가 출연합니다!⏰\\n안방 1열에서 함께해요 BLINK! 🖤💃🕺💖\\n\\n#블랙핑크 #LovesickGirls\\n#THEALBUM #1stFULLALBUM',\n",
       " 'RT @kpop_sbs: [🕊] 행복인가\\n\\n#블랙핑크 를 기다리는 블링크를 위한 선물 ୧⍢⃝୨\\n\\n잠시 후 오후 3시 30분\\n#인기가요 🎧에서 만나요~👋\\n\\n@ygofficialblink #BLACKPINK #LovesickGirls #PrettySav…',\n",
       " \"RT @MBC_entertain: 201010🔍 [예능연구소 세로캠]\\n#쇼음악중심 #음중 #블랙핑크 #BLACKPINK #PrettySavage @BLACKPINK\\n\\n'BLACKPINK - Pretty Savage’ \\n#지수 ▶ https://t.c…\",\n",
       " 'RT @BLACKPINK: Lovesick but pretty savage https://t.co/8Qvf5W5pJz',\n",
       " 'RT @BLACKPINK: We are the lovesick girls🤍\\n🎬https://t.co/hgvqx0rstT https://t.co/54sFPIn48y',\n",
       " \"RT @MBC_entertain: 201010🔍 [예능연구소 4K 직캠]\\n#쇼음악중심 #음중 #블랙핑크 #BLACKPINK #PrettySavage @BLACKPINK\\n\\n'블랙핑크(BLACKPINK) - Pretty Savage’ \\n▶ https:/…\",\n",
       " \"RT @MBC_entertain: 201010🔍 [예능연구소 세로캠]\\n#쇼음악중심 #음중 #블랙핑크 #BLACKPINK #LovesickGirls @BLACKPINK\\n\\n'블랙핑크(BLACKPINK) - Lovesick Girls’ \\n#제니 ▶ htt…\",\n",
       " '#BLACKPINKINYOURAREA \\n원샷 야심가 #지수 와 영어가사 전문가 #로제 의 받쓰도전기✍️\\n과연 어떤 모습을 보여줄 지 잠시 후 7시 40분 tvN #놀라운토요일 #도레미마켓 에서 만나요!📺… https://t.co/My0GRrXTr6',\n",
       " \"RT @MBC_entertain: 201010🔍 [예능연구소 4K 직캠]\\n#쇼음악중심 #음중 #블랙핑크 #BLACKPINK #LovesickGirls @BLACKPINK\\n\\n'블랙핑크(BLACKPINK) - Lovesick Girls’ \\n▶https:…\",\n",
       " 'RT @1theK: 안녕 안녕~🖐 우린 #블랙핑크 야~😘 #인터뷰감옥 탈출하고 셀카 찍었지~📸 Black 했다 Pink 하고 프리티 했다 savage하는 블핑이들🖤💖 내 세상 속엔 젠츄리챙만 있으면 돼..🤦\\n#BLACKPINK #LovesickGir…']"
      ]
     },
     "execution_count": 126,
     "metadata": {},
     "output_type": "execute_result"
    }
   ],
   "source": [
    "user_texts"
   ]
  },
  {
   "cell_type": "markdown",
   "metadata": {},
   "source": [
    "#### Count Vectoriser"
   ]
  },
  {
   "cell_type": "code",
   "execution_count": 127,
   "metadata": {},
   "outputs": [
    {
     "name": "stdout",
     "output_type": "stream",
     "text": [
      "['0505', '10', '1011', '1018', '1025', '10대의', '15', '16', '16oszdnaxe', '18b5waxpyb', '1f4nv8if4d', '1stfullalbum', '1thek', '1시', '1열에서', '1위', '1위로', '1위를', '1위한', '200', '2001018', '201010', '201017', '201025', '2020', '20201', '20201021_7pmkst', '21', '21st', '24', '24_365_with_blac', '24_365_with_black', '2nupsuaepn', '2주', '300', '30분', '365', '3k2syyopp0', '3년', '3분께는', '3시', '3시간', '3주', '40분', '4itobzmega', '4k', '54sfpin48y', '5txxpsgons', '5시', '600', '6nkeowkk7w', '7ldmuzldja', '7pm', '7시', '8dxg5e1jbk', '8qvf5w5pjz', '95zxwukmbh', '9시', 'abc', 'abeepnypn3', 'about', 'acbre1ygbs', 'aeaxbv6u9b', 'aglzf35u1s', 'akm', 'album', 'all', 'always', 'among', 'amp', 'and', 'ardm30hkiz', 'are', 'area', 'around', 'artists', 'b8cvfbab09', 'back', 'be', 'begins', 'behindtherecord', 'bgm으로', 'bigbang', 'billion', 'black', 'blackp', 'blackpink', 'blackpinkinyourarea', 'blackpinkongma', 'blackpinkonkimmel', 'blink', 'blinks', 'boombayah', 'brand', 'brings', 'but', 'c2fjj0e3iy', 'can', 'cat', 'cd', 'check', 'chic', 'co', 'coex', 'comeback', 'comebacklive', 'coming', 'could', 'cream', 'crush', 'cute', 'cutest', 'cwhji9nh7c', 'cxgamxodax', 'cztefwcayw', 'dance', 'days', 'dcvblniasb', 'deleted', 'do', 'dying', 'e0b6typ9no', 'enter', 'ep', 'event가', 'ever', 'every', 'f1p5bydzpg', 'facecam', 'famous', 'fan', 'fans', 'fight', 'film', 'final', 'find', 'first', 'fljvndedha', 'for', 'forward', 'fqf', 'from', 'full', 'get', 'girl', 'girls', 'girls를', 'give', 'givecredit', 'gkk13edmi4', 'gma', 'group', 'gyy1htwwxm', 'hanteochart', 'happened', 'having', 'here', 'hgvqx0rstt', 'hits', 'hnzvxhbxt4', 'how', 'howyoulikethat', 'ht', 'htt', 'http', 'https', 'humming', 'hvdaorre', 'hwu9x2omvq', 'hylt', 'hz5fyy53rp', 'ice', 'iconic', 'if', 'impromptu', 'in', 'inkigayo', 'interview', 'is', 'it', 'jacket', 'jennie', 'jimmy', 'jimmykimmel', 'jimmykimmellive', 'jisoo', 'jtbc', 'jtbclove', 'kick', 'kill', 'kimmel', 'know', 'korea', 'kpop_sbs', 'kst', 'lcekoowxus', 'let', 'light', 'lightupthes', 'lightupthesky1moretime', 'like', 'lisa', 'literally', 'live', 'look', 'looking', 'looks', 'love', 'loved', 'loves', 'lovesi', 'lovesick', 'lovesickg', 'lovesickgir', 'lovesickgirl', 'lovesickgirls', 'm4f7bzpwrj', 'making', 'mbc', 'mbc_entertain', 'media', 'mibqz2myqn', 'million', 'minutes', 'miss', 'moment', 'more', 'much', 'mv', 'mv를', 'my0grrxtr6', 'n8z1zzes', 'naver', 'netflix', 'new', 'news', 'ni4gxv', 'nm6pzikkzi', 'no', 'now', 'nowonair', 'nwmndh8zyo', 'n년', 'oct', 'of', 'ofkq9hjvow', 'ok', 'on', 'opening', 'or', 'orzvsyozhu', 'our', 'out', 'over', 'participation', 'pd노트', 'performance', 'performing', 'pet', 'photoshoot', 'pink', 'plbxu6mdhp', 'pop', 'practice', 'pre', 'pretty', 'prettysav', 'prettysavage', 're', 'ready', 'really', 'recording', 'recordingacad', 'register', 'replay', 'retweets', 'rgnwzp8mz1', 'rosé', 'rpzqalqvnt', 'rqpohhelss', 'rt', 's133bauhzo', 'savage', 'savage하는', 'says', 'sbs', 'sbsnoriter', 'scene', 'scenes', 'sechskies', 'selenagomez', 'sem74qgzkh', 'shazam', 'si', 'sil4kgumoa', 'single', 'sky', 'skyㅣglobal', 'so', 'some', 'spread', 'srpfgvgmlo', 'stage', 'started', 'stray', 'studio', 'stylish', 'superstar', 'superstar_yg', 'superstaryg', 'syydsfybc8', 'talk', 'teaser', 'teaservideo', 'thank', 'thankublink', 'that', 'the', 'the_album', 'thealbum', 'their', 'theme', 'they', 'thing', 'this', 'tiktok', 'tiktoklive', 'tiktokstagewithblackpink', 'to', 'today', 'tonight', 'tower', 'try', 'tv', 'tvn', 'twgjobcepu', 'twitterblueroom', 'tx9xzf4qlm', 'unique', 'unnolpnqcy', 'up', 'us', 'used', 've', 'video', 'views', 'vsrmuvgqbr', 'w4vqdasnqj', 'wait', 'waiting', 'want', 'was', 'watch', 'we', 'wed', 'wednesday', 'week', 'wg1ew23gfd', 'what', 'when', 'where', 'will', 'winners', 'with', 'wlhvou4qwk', 'won', 'wondered', 'words', 'world', 'worldwide', 'would', 'yg', 'yg6diljmst', 'ygent_official', 'ygofficialblink', 'you', 'your', 'yourself', 'youtube', 'ypuohx78wk', 'z4hp2sldft', 'z7zg7xvmx6', 'zepeto', 'zioyijkons', 'zzdr6jajub', 'ʃƪ', '가기', '가득', '감사합니다', '강남구', '개나', '개의', '거머쥔', '겁니다', '계정', '공식', '과연', '구글플레이', '그러니까', '그리고', '기다리는', '까지', '깔겠습니다', '납셨다', '내주세요', '너무', '노래', '놀라운토요일', '높여달라고', '다가온', '다른', '다시', '다운로드', '단독샷캠', '담아', '대결까지', '댓글', '도레미마켓', '돌려보내줘', '드디어', '드려요', '듣고', '또는', '뚜두뚜두', '뛰어든', '뛰어요', '런닝맨', '럽식이', '레이스에', '레전드인', '로제', '리사', '리트윗', '링크에서', '마지막', '만나보세요', '만나볼', '만나요', '만들', '만에', '많은', '맞아', '먼저', '멤버들', '명창핑크의', '모두', '모바일', '모습을', '무대', '무한한', '문자메시지', '뮤직뱅크', '미디어', '받쓰도전기', '받은', '방송됩니다', '번째', '보러', '보여줄', '본방사수', '볼륨', '부탁드려요', '분명', '붐바야', '블랙핑크', '블랙핑크를', '블랙핑크의', '블링크', '블링크도', '블링크들을', '블링크를', '블링크와', '블링크의', '블핑', '블핑이들', '블핑이들만', '블핑이들의', '사랑', '사랑을', '사랑주시는', '사이의', '사인', '사전', '사전예약', '사진', '삼성동', '상황', '선물', '선물해준', '세로캠', '세상', '셀카', '소문', '소식을', '소중한', '속엔', '쇼음악중심', '쇼챔피언', '수상하였습니다', '슈스와', '스럽게', '시작을', '신기록', '신나는', '심장', '심장을', '심쿵하게', '싶은', '싸인', '아는형님', '아래', '아직', '아프더라도', '아형고로', '안녕', '안방', '안방1열직캠', '알려드리는', '알려드립니다', '앞으로', '앵콜캠', '야심가', '어떤', '언제나', '없다고', '에서', '엠카운트다운', '여러분', '여러분들', '여러분들께', '연속', '영어가사', '옆집에서', '예능연구소', '예약', '오늘', '오늘도', '오후', '올랐습니다', '와요', '완료', '완성', '우린', '원샷', '월드스타', '위한', '음중', '이룬', '이벤트', '인기가요', '인터뷰감옥', '입력', '있어요', '있었는데', '있으면', '있을', '있지', '자랑', '자태부터', '잠시', '저격당했다', '전문가', '전송', '전으로', '전학', '전학온', '전해드려요', '정규앨범', '정주행', '제니', '젠츄리챙', '젠츄리챙만', '주사위', '주인공이', '즐거우셨나요', '지금', '지수', '직캠', '찍었지', '참여하러', '챔피언송을', '챙겨봐야', '최고따봉', '추첨을', '축하합니다', '축하해요', '출연합니다', '친필', '카펫', '컬러링에서도', '컬러링을', '컴백', '코엑스', '크라운', '크라운을', '타워에서', '탈출하고', '태양은', '태양이', '통해', '트로피를', '트리플', '트위터', '트위터를', '틀고', '팍팍', '팔로우해주신', '퍼포먼스에', '페이스캠', '프리티', '하고', '하나로', '하는데', '하더라구요', '하루', '하셨다면', '하이틴', '한터차트', '함께', '함께한', '함께해요', '항상', '해주세요', '해주신', '했다', '행복인가', '행운의', '향한', '현장사진٩', '현포', '홈페이지', '확률', '확인해보세요', '후보에']\n"
     ]
    }
   ],
   "source": [
    "vectorizer = CountVectorizer()\n",
    "x = vectorizer.fit_transform(user_texts)\n",
    "print(vectorizer.get_feature_names())"
   ]
  },
  {
   "cell_type": "code",
   "execution_count": 128,
   "metadata": {},
   "outputs": [
    {
     "name": "stdout",
     "output_type": "stream",
     "text": [
      "[[0 0 0 ... 0 0 0]\n",
      " [0 0 0 ... 0 0 0]\n",
      " [0 0 0 ... 0 0 0]\n",
      " ...\n",
      " [0 0 0 ... 0 0 0]\n",
      " [0 0 0 ... 0 0 0]\n",
      " [0 0 0 ... 0 0 0]]\n"
     ]
    }
   ],
   "source": [
    "print(x.toarray())"
   ]
  },
  {
   "cell_type": "markdown",
   "metadata": {},
   "source": [
    "#### TF-IDF Vectoriser"
   ]
  },
  {
   "cell_type": "code",
   "execution_count": 129,
   "metadata": {},
   "outputs": [
    {
     "name": "stdout",
     "output_type": "stream",
     "text": [
      "{'rt': 280, 'ygent_official': 373, 'the': 317, 'world': 368, 'famous': 129, 'pop': 262, 'girl': 144, 'group': 151, 'blackpink': 86, 'brings': 94, 'you': 375, 'chic': 101, 'and': 70, 'stylish': 306, 'theme': 321, 'https': 165, 'co': 102, '18b5waxpyb': 9, 'blackp': 85, 'kpop_sbs': 193, '단독샷캠': 413, '블랙핑크': 464, '인기가요': 549, 'lovesickgirls': 215, 'prettysavage': 267, 'lovesick': 211, 'girls': 145, '201025': 23, 'n8z1zzes': 231, 'do': 119, 'find': 135, 'yourself': 377, 'humming': 166, 'like': 200, 'get': 143, 'iconic': 172, 'new': 234, 'looks': 206, 'let': 196, 'dance': 115, 'superstar_yg': 308, 'first': 136, 'news': 235, 'superstaryg': 309, 'pre': 264, 'register': 273, 'begins': 79, 'today': 329, 'spread': 300, 'words': 367, 'nm6pzikkzi': 237, 'sechskies': 289, 'bigbang': 82, 'akm': 64, '번째': 456, '지금': 575, '사전예약': 483, '시작을': 501, '알려드립니다': 518, '슈스와': 499, '공식': 395, '트위터를': 603, '팔로우해주신': 606, '여러분들께': 529, '먼저': 442, '알려드리는': 517, '겁니다': 393, '그러니까': 398, '자랑': 557, '스럽게': 500, '팍팍': 605, '소문': 492, '내주세요': 404, 'sbsnoriter': 286, 'pd노트': 255, '3주': 42, '연속': 530, '1위로': 16, '트로피를': 600, '거머쥔': 392, '블링크를': 470, '심쿵하게': 506, '만들': 438, '블핑이들의': 476, '무대': 448, '현장사진٩': 628, 'more': 226, 'fljvndedha': 137, 'in': 175, 'superstar': 307, 'yg': 371, 'your': 376, 'area': 73, 'with': 363, 'winners': 362, 'among': 68, 'retweets': 275, 'will': 361, 'si': 293, '소식을': 493, '전해드려요': 566, '아직': 511, '사전': 482, '예약': 534, '하셨다면': 615, '리트윗': 432, '해주신': 623, '여러분들': 528, '3분께는': 39, '싸인': 508, 'cd': 99, '드려요': 420, '상황': 486, '페이스캠': 608, '지수': 576, 'sil4kgumoa': 294, '제니': 569, '안방1열직캠': 516, 'ardm30hkiz': 71, '앵콜캠': 520, '1위': 15, '명창핑크의': 444, '트리플': 601, '크라운을': 594, '축하합니다': 584, 'ypuohx78wk': 379, 'htt': 163, 'thank': 314, 'so': 298, 'much': 227, 'blinks': 91, 'full': 142, 'love': 207, '2nupsuaepn': 32, '1025': 4, 'sbs': 285, 'inkigayo': 176, 'no': 238, 'of': 244, 'week': 356, 'naver': 232, 'tv': 333, 'acbre1ygbs': 61, 'youtube': 378, 'http': 164, 'thankublink': 315, '에서': 525, '1위를': 17, '수상하였습니다': 498, '블링크와': 471, '함께': 618, '받은': 454, '소중한': 494, '크라운': 593, '감사합니다': 388, 'thealbum': 319, '1stfullalbum': 11, 'gkk13edmi4': 149, 'fqf': 140, 'blackpinkinyourarea': 87, '잠시': 559, '3시': 40, '30분': 35, '출연합니다': 586, '블링크도': 468, '함께해요': 620, '행복인가': 625, '기다리는': 400, '블링크들을': 469, '위한': 545, '선물': 487, '오후': 537, '만나요': 437, 'lovesickgirl': 214, 'hits': 158, '200': 19, 'million': 222, 'views': 345, 'worldwide': 369, '24': 29, '365': 36, 'ep': 123, '16': 7, '3k2syyopp0': 37, 'jisoo': 185, 'jennie': 181, 'rosé': 277, 'lisa': 201, '24_365_with_blac': 30, 'mbc_entertain': 219, '블링크': 467, '세상': 490, '속엔': 495, '젠츄리챙만': 571, '있으면': 554, '럽식이': 427, '현포': 629, 'z7zg7xvmx6': 381, '201017': 22, '쇼음악중심': 496, '음중': 546, 'lovesickg': 212, '이룬': 547, '신기록': 502, '축하해요': 585, '항상': 621, 'hanteochart': 153, '한터차트': 617, 'cwhji9nh7c': 112, 'netflix': 233, 'ok': 246, 'it': 179, 'final': 134, 'deleted': 118, 'scene': 287, 'know': 191, 'would': 370, 'give': 147, 'if': 173, 'could': 107, 'out': 252, 'what': 358, 'really': 270, 'try': 332, 'to': 328, 'pet': 258, 'stray': 304, 'cat': 98, 'cute': 110, 'or': 249, 'literally': 202, 'cutest': 111, 'thing': 323, 'that': 316, 'ever': 125, 'happened': 154, 'lightupthes': 198, 'dying': 120, 'over': 253, 'this': 324, 'moment': 225, 'where': 360, 'look': 204, 'back': 77, 'on': 247, 'days': 116, 'they': 322, 'used': 342, 'fight': 132, 'every': 126, 'single': 295, 'was': 351, 'for': 138, 'when': 359, 'started': 303, 'korea': 192, 'lightupthesky1moretime': 199, 'impromptu': 174, 'photoshoot': 259, '95zxwukmbh': 56, 've': 343, 'wondered': 366, 'artists': 75, 'talk': 311, 'about': 60, 're': 268, 'waiting': 349, 'around': 74, 'recording': 271, 'studio': 305, 'ready': 269, 'check': 100, 'some': 299, 'brand': 93, 'scenes': 288, 'are': 72, 'here': 156, 'kick': 188, '15': 6, 'minutes': 223, '8dxg5e1jbk': 54, 'how': 160, '600': 49, 'gma': 150, 'we': 353, 'blackpinkongma': 88, 'ygofficialblink': 374, 'rpzqalqvnt': 278, 'miss': 224, 'our': 251, 'says': 284, 'performing': 257, 'their': 320, 'fans': 131, 'can': 97, 'wait': 348, 'performance': 256, 'tiktok': 325, 'stage': 302, 'live': 203, 'b8cvfbab09': 76, 'tiktokstagewithblackpink': 327, 'tiktoklive': 326, '20201021_7pmkst': 26, 'nowonair': 240, 'jimmy': 182, 'kimmel': 190, '6nkeowkk7w': 50, 'wg1ew23gfd': 357, 'jimmykimmellive': 184, 'loved': 208, 'having': 155, 'tonight': 330, 'interview': 177, 'jimmykimmel': 183, 'blackpinkonkimmel': 89, 'ht': 162, 'syydsfybc8': 310, 'wednesday': 355, 'won': 365, 'want': 350, 'orzvsyozhu': 250, 'watch': 352, 'us': 341, 'abc': 58, 'wlhvou4qwk': 364, 'album': 65, 'comeback': 104, 'replay': 274, 'gyy1htwwxm': 152, 'comebacklive': 105, '2001018': 20, '2주': 33, '1위한': 18, '젠츄리챙': 570, '블링크의': 472, '심장을': 505, '뚜두뚜두': 423, '사진': 484, 'z4hp2sldft': 380, '붐바야': 463, 'boombayah': 92, 'practice': 263, 'video': 344, '그리고': 399, '까지': 401, '챙겨봐야': 581, '오늘': 535, '하루': 614, '완성': 541, 'facecam': 128, 'twgjobcepu': 335, '로제': 430, '분명': 462, '개의': 391, '태양은': 597, '없다고': 524, '하는데': 612, '태양이': 598, '개나': 390, '있지': 556, '16oszdnaxe': 8, 'always': 67, 'abeepnypn3': 59, 'vsrmuvgqbr': 346, '1018': 3, 'yg6diljmst': 372, '블핑이들': 474, '노래': 406, '듣고': 421, '있었는데': 553, '옆집에서': 532, '볼륨': 460, '높여달라고': 408, '하더라구요': 613, 'mibqz2myqn': 221, '주사위': 572, '확률': 631, '레이스에': 428, '뛰어든': 424, '과연': 396, '행운의': 626, '주인공이': 573, '있을': 555, '5시': 48, '런닝맨': 426, '뛰어요': 425, '7ldmuzldja': 51, '언제나': 523, '레전드인': 429, '신나는': 503, 'girls를': 146, 'ʃƪ': 385, 'lovesi': 210, '예능연구소': 533, '세로캠': 489, 'sem74qgzkh': 291, '4k': 45, '직캠': 577, '아형고로': 513, '다시': 411, '전학온': 565, '월드스타': 544, '블핑': 473, '멤버들': 443, '사이의': 480, '대결까지': 415, '9시': 57, 'jtbc': 186, '아는형님': 509, '본방사수': 459, 'hwu9x2omvq': 168, 'c2fjj0e3iy': 96, '후보에': 633, '올랐습니다': 538, '0505': 0, '또는': 422, '입력': 551, '문자메시지': 450, '전송': 562, 'e0b6typ9no': 121, '40분': 43, 'mbc': 218, '오늘도': 536, '향한': 627, '사랑을': 478, '가득': 387, '담아': 414, 'nwmndh8zyo': 241, 'oct': 243, '21st': 28, '7pm': 52, 'be': 78, 'coming': 106, 'all': 66, 'looking': 205, 'forward': 139, 'participation': 254, 'w4vqdasnqj': 347, '24_365_with_black': 31, '뮤직뱅크': 451, '무한한': 449, '사랑': 477, 'ice': 171, 'cream': 108, 'selenagomez': 290, 'recordingacad': 272, 'givecredit': 148, 'behindtherecord': 80, 'srpfgvgmlo': 301, '엠카운트다운': 526, '최고따봉': 582, '사랑주시는': 479, 'howyoulikethat': 161, 'hylt': 169, 'zzdr6jajub': 384, 'jacket': 180, 'making': 217, 'film': 133, 'unnolpnqcy': 339, 'aeaxbv6u9b': 62, 'jtbclove': 187, '3년': 38, '만에': 439, '전학': 564, '리사': 431, '홈페이지': 630, '댓글': 416, '이벤트': 548, '참여하러': 579, '가기': 386, 'cztefwcayw': 114, '추첨을': 583, '통해': 599, '친필': 587, '사인': 481, '하나로': 611, '하이틴': 616, '정주행': 568, '완료': 540, '컴백': 591, '보러': 457, '와요': 539, 'dcvblniasb': 117, '201010': 21, 'loves': 209, 'kill': 189, '300': 34, '쇼챔피언': 497, '챔피언송을': 580, '여러분': 527, 'unique': 338, 'crush': 109, 'zepeto': 382, 'enter': 122, 'now': 239, 'plbxu6mdhp': 261, 'teaser': 312, 'teaservideo': 313, '20201': 25, 'opening': 248, 'from': 141, 'light': 197, 'up': 340, 'sky': 296, 's133bauhzo': 281, 'twitterblueroom': 336, '함께한': 619, 'amp': 69, '모두': 445, '즐거우셨나요': 574, '블랙핑크의': 466, '정규앨범': 567, 'the_album': 318, '많은': 440, '부탁드려요': 461, 'zioyijkons': 383, 'cxgamxodax': 113, '2020': 24, '10': 1, '21': 27, 'wed': 354, 'kst': 194, '드디어': 419, '3시간': 41, '앞으로': 519, '다가온': 409, '1시': 13, '트위터': 602, '계정': 394, '해주세요': 622, 'skyㅣglobal': 297, 'fan': 130, 'event가': 124, '방송됩니다': 455, 'tx9xzf4qlm': 337, 'mv': 228, 'is': 178, 'coex': 103, 'media': 220, 'tower': 331, '강남구': 389, '삼성동': 485, '코엑스': 592, '미디어': 452, '타워에서': 595, 'mv를': 229, '만나보세요': 435, 'hnzvxhbxt4': 159, 'shazam': 292, 'rqpohhelss': 279, 'billion': 83, '컬러링에서도': 589, '블랙핑크를': 465, '만나볼': 436, '있어요': 552, '아래': 510, '링크에서': 433, '컬러링을': 590, '확인해보세요': 632, '구글플레이': 397, '다운로드': 412, 'hz5fyy53rp': 170, '모바일': 446, 'm4f7bzpwrj': 216, 'aglzf35u1s': 63, 'hvdaorre': 167, '1011': 2, 'lcekoowxus': 195, 'pretty': 265, 'savage': 282, 'f1p5bydzpg': 127, '4itobzmega': 44, '10대의': 5, '마지막': 434, 'bgm으로': 81, '틀고': 604, '싶은': 507, 'n년': 242, '전으로': 563, '돌려보내줘': 418, '납셨다': 403, '카펫': 588, '깔겠습니다': 402, '1f4nv8if4d': 10, 'ofkq9hjvow': 245, 'rgnwzp8mz1': 276, '선물해준': 488, 'blink': 90, '너무': 405, '맞아': 441, '아프더라도': 512, '블핑이들만': 475, '5txxpsgons': 47, '자태부터': 558, '다른': 410, '퍼포먼스에': 607, '심장': 504, '저격당했다': 560, 'ni4gxv': 236, '안방': 515, '1열에서': 14, 'prettysav': 266, 'but': 95, '8qvf5w5pjz': 55, 'hgvqx0rstt': 157, '54sfpin48y': 46, '원샷': 543, '야심가': 521, '영어가사': 531, '전문가': 561, '받쓰도전기': 453, '어떤': 522, '모습을': 447, '보여줄': 458, '7시': 53, 'tvn': 334, '놀라운토요일': 407, '도레미마켓': 417, 'my0grrxtr6': 230, '1thek': 12, '안녕': 514, '우린': 542, '인터뷰감옥': 550, '탈출하고': 596, '셀카': 491, '찍었지': 578, 'black': 84, '했다': 624, 'pink': 260, '하고': 610, '프리티': 609, 'savage하는': 283, 'lovesickgir': 213}\n"
     ]
    }
   ],
   "source": [
    "vectorizer = TfidfVectorizer()\n",
    "vectorizer.fit(user_texts)\n",
    "print(vectorizer.vocabulary_)"
   ]
  },
  {
   "cell_type": "code",
   "execution_count": 130,
   "metadata": {},
   "outputs": [
    {
     "name": "stdout",
     "output_type": "stream",
     "text": [
      "(100, 634)\n"
     ]
    }
   ],
   "source": [
    "vector = vectorizer.transform(user_texts)\n",
    "print(vector.shape)"
   ]
  },
  {
   "cell_type": "markdown",
   "metadata": {},
   "source": [
    "#### Word Cloud"
   ]
  },
  {
   "cell_type": "code",
   "execution_count": 131,
   "metadata": {},
   "outputs": [],
   "source": [
    "user_combined = ', '.join(user_texts)"
   ]
  },
  {
   "cell_type": "code",
   "execution_count": 132,
   "metadata": {},
   "outputs": [
    {
     "data": {
      "image/png": "[encoded data removed]",
      "text/plain": [
       "<Figure size 432x288 with 1 Axes>"
      ]
     },
     "metadata": {
      "needs_background": "light"
     },
     "output_type": "display_data"
    }
   ],
   "source": [
    "wordcloud = WordCloud().generate(user_combined)\n",
    "\n",
    "plt.imshow(wordcloud, interpolation='bilinear')\n",
    "plt.axis('off')\n",
    "plt.show()"
   ]
  },
  {
   "cell_type": "markdown",
   "metadata": {},
   "source": [
    "## Conclusion\n",
    "\n",
    "#### 2016707079 하상천\n",
    "\n",
    "                                                                                                \n",
    "\n",
    "\n",
    "- 이번 lab은 SNS Scraping을 하는 것이었다. 트위터 API를 사용하기 위해, 권한이 있는 key로 초기화하고 미국과 전세계의 trend에 대해 알아보았다. 수업시간에 배운 json_normalize를 통해 dictionary 형태의 파일을 보기 쉽게 접근 할 수 있었다.\n",
    "\n",
    "- 트위터 API 중 search.tweets(q='#PremierLeague', count=100) 라는 함수를 통해 #PremierLeague 라는 hashtag를 포함한 tweets 을 count 개수 만큼 얻을 수 있었다. 그리고 얻어 온 tweets 의 text와 좋아요 수 , 리트윗 수를 확인해보았다. 마찬가지로 평소에 관심이 많았던 잉글랜드 축구 팀 Chelsea에 대해서도 확인해보았다. 또한 수업시간에 배웠던 Count Vectorisation 과 TF-IDF Vectorisation 방법을 이용하여 Text Vectorisation을 하였다. tweets 의 text를 join함수를 통해 하나의 string으로 합치고 word cloud를 plot하여 눈으로 확인해보았다. data가 많지 않아 리트윗할 때 나오는 RT나, https 같은 것들이 집중적으로 나오긴 하였지만 data를 많이 모아서 진행해본다면 더 유의미한 정보를 얻을 수 있을 것 같다.\n",
    "\n",
    "- 트위터 API 중 users.lookup(screen_name='') 라는 함수를 통해 세계적인 축구선수 호날두, K-POP의 중심인 BTS와 Blackpink, 현재 미국 대통령인 도널드 트럼프,  좋아하는 잉글랜드 축구팀 첼시의 레전드 골키퍼 체흐 까지 다섯 개의 twitter ID를 통해 user의 정보들을 얻어 보았다. 우선 이름과, 자기소개, 팔로우 수를 확인해보았고, user가 작성한 tweets 의 text를 list로 모아서 앞의 과정에서 진행해본 것 처럼 Count Vectorisation 과 TF-IDF Vectorisation 방법을 이용하여 Text Vectorisation을 하였다. 또한 list로 모은 text들을 join함수를 통해 하나의 string으로 합치고 word cloud를 plot하여 눈으로 확인해보았다.\n",
    "\n",
    "- 이번 lab을 하면서 web crawling 뿐만 아니라 SNS의 정보도 가져올 수 있다는 것을 알게 되었고, 평소에 관심있었던 주제와 인물들의 twitter 정보들을 가져와서 재미있었던 것 같다. 다음의 기회가 된다면 instagram이나 facebook에서 scraping 하는 것도 재미있을 것 같다."
   ]
  }
 ],
 "metadata": {
  "kernelspec": {
   "display_name": "Python 3",
   "language": "python",
   "name": "python3"
  },
  "language_info": {
   "codemirror_mode": {
    "name": "ipython",
    "version": 3
   },
   "file_extension": ".py",
   "mimetype": "text/x-python",
   "name": "python",
   "nbconvert_exporter": "python",
   "pygments_lexer": "ipython3",
   "version": "3.8.3"
  }
 },
 "nbformat": 4,
 "nbformat_minor": 4
}
