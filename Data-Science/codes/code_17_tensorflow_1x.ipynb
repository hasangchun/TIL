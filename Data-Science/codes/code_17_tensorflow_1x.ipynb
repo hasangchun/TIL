{
 "cells": [
  {
   "cell_type": "markdown",
   "metadata": {
    "id": "Go6RGILC9Rco"
   },
   "source": [
    "# Tensors\n",
    "- 텐서플로 프로그램은 tf.Tensor 객체 그래프를 만드는 것으로 먼저 시작하고, 각각의 텐서가 다른 텐서를 기반으로 어떤 식으로 계산될 수 있는지 구체화하고, 그 다음 그래프를 실행해서 원하는 결과를 얻게 됩니다.\n",
    "- tf.Tensor는 다음과 같은 속성을 가지고 있습니다:\n",
    "\n",
    "  - 자료형 (예를 들어, float32 또는 int32, string)\n",
    "  - 형태(shape)\n",
    "- 텐서안의 각각 원소는 동일한 자료형이며 핵심 텐서는 다음과 같음. \n",
    "  - constant: values that don’t change.\n",
    "  - placeholders: values that are unassigned (will be initialized by the session when you run it)\n",
    "  - Variables:  values that can change\n",
    "  - tf.SparseTensor: "
   ]
  },
  {
   "cell_type": "code",
   "execution_count": 1,
   "metadata": {
    "id": "d8tpL4-qK2Yz"
   },
   "outputs": [],
   "source": [
    "import tensorflow.compat.v1 as tf\n",
    "tf.compat.v1.disable_eager_execution()"
   ]
  },
  {
   "cell_type": "code",
   "execution_count": 2,
   "metadata": {
    "colab": {
     "base_uri": "https://localhost:8080/",
     "height": 35
    },
    "executionInfo": {
     "elapsed": 3054,
     "status": "ok",
     "timestamp": 1605147699922,
     "user": {
      "displayName": "Yongjin Jeong",
      "photoUrl": "",
      "userId": "03658406798560557048"
     },
     "user_tz": -540
    },
    "id": "-kePmt91LL1c",
    "outputId": "7deedfef-562b-4829-bda8-35e8124e2413"
   },
   "outputs": [
    {
     "data": {
      "text/plain": [
       "'2.3.0'"
      ]
     },
     "execution_count": 2,
     "metadata": {},
     "output_type": "execute_result"
    }
   ],
   "source": [
    "tf.__version__"
   ]
  },
  {
   "cell_type": "markdown",
   "metadata": {
    "id": "V5wlBdUYXhH9"
   },
   "source": [
    "## Basic exercise"
   ]
  },
  {
   "cell_type": "code",
   "execution_count": 3,
   "metadata": {
    "colab": {
     "base_uri": "https://localhost:8080/"
    },
    "executionInfo": {
     "elapsed": 1717,
     "status": "ok",
     "timestamp": 1605147710115,
     "user": {
      "displayName": "Yongjin Jeong",
      "photoUrl": "",
      "userId": "03658406798560557048"
     },
     "user_tz": -540
    },
    "id": "ds_iLtFGHOso",
    "outputId": "828addf2-c314-4734-a68d-6ab79bd93a7d"
   },
   "outputs": [
    {
     "name": "stdout",
     "output_type": "stream",
     "text": [
      "Tensor(\"Mul:0\", shape=(4,), dtype=int32)\n"
     ]
    }
   ],
   "source": [
    "# basic exercise\n",
    "x1 = tf.constant([1,2,3,4])\n",
    "x2 = tf.constant([5,6,7,8])\n",
    "result = tf.multiply(x1, x2) \n",
    "print(result)   # just define a model (not calculated) "
   ]
  },
  {
   "cell_type": "code",
   "execution_count": 4,
   "metadata": {
    "colab": {
     "base_uri": "https://localhost:8080/"
    },
    "executionInfo": {
     "elapsed": 2497,
     "status": "ok",
     "timestamp": 1605147716109,
     "user": {
      "displayName": "Yongjin Jeong",
      "photoUrl": "",
      "userId": "03658406798560557048"
     },
     "user_tz": -540
    },
    "id": "lEdH4ivoIslk",
    "outputId": "ee1162ec-d8e3-4f5f-d543-d09999bce994"
   },
   "outputs": [
    {
     "name": "stdout",
     "output_type": "stream",
     "text": [
      "[ 5 12 21 32]\n"
     ]
    }
   ],
   "source": [
    "# if you want to see the result value?\n",
    "x1 = tf.constant([1,2,3,4])\n",
    "x2 = tf.constant([5,6,7,8])\n",
    "\n",
    "result = tf.multiply(x1, x2)\n",
    "\n",
    "sess = tf.Session()  # Intialize the Session\n",
    "print(sess.run(result)) # Print the result\n",
    "\n",
    "sess.close()  # Close the session"
   ]
  },
  {
   "cell_type": "code",
   "execution_count": 5,
   "metadata": {
    "colab": {
     "base_uri": "https://localhost:8080/"
    },
    "executionInfo": {
     "elapsed": 1100,
     "status": "ok",
     "timestamp": 1605147725185,
     "user": {
      "displayName": "Yongjin Jeong",
      "photoUrl": "",
      "userId": "03658406798560557048"
     },
     "user_tz": -540
    },
    "id": "fjzt1S-UJQB1",
    "outputId": "c07c75db-6dec-45df-b3bd-9750b58739f4"
   },
   "outputs": [
    {
     "name": "stdout",
     "output_type": "stream",
     "text": [
      "[ 5 12 21 32]\n"
     ]
    }
   ],
   "source": [
    "x1 = tf.constant([1,2,3,4])\n",
    "x2 = tf.constant([5,6,7,8])\n",
    "\n",
    "# Multiply\n",
    "result = tf.multiply(x1, x2)\n",
    "\n",
    "# Initialize Session and run `result`\n",
    "with tf.Session() as sess:\n",
    "  output = sess.run(result)\n",
    "  print(output)"
   ]
  },
  {
   "cell_type": "markdown",
   "metadata": {
    "id": "SrUOxorpM0NQ"
   },
   "source": [
    "## Tensor Basic variables\n",
    "- 최소 한 개 이상의 열과 행으로 구성"
   ]
  },
  {
   "cell_type": "code",
   "execution_count": 6,
   "metadata": {
    "id": "qRj0gxfjXwtN"
   },
   "outputs": [],
   "source": [
    "# all rank 0 (with initaial values)\n",
    "# 문자열은 문자 시퀀스가 아니고 단일 객체로 다루어짐.\n",
    "mammal = tf.Variable(\"코끼리\", tf.string)\n",
    "ignition = tf.Variable(451, tf.int16)\n",
    "floating = tf.Variable(3.14159265359, tf.float64)\n",
    "its_complicated = tf.Variable(12.3 - 4.85j, tf.complex64)"
   ]
  },
  {
   "cell_type": "code",
   "execution_count": 7,
   "metadata": {
    "colab": {
     "base_uri": "https://localhost:8080/"
    },
    "executionInfo": {
     "elapsed": 1141,
     "status": "ok",
     "timestamp": 1605147733895,
     "user": {
      "displayName": "Yongjin Jeong",
      "photoUrl": "",
      "userId": "03658406798560557048"
     },
     "user_tz": -540
    },
    "id": "qLasy9kOXw7O",
    "outputId": "e95e31bf-98c1-408b-d668-7be3bc9be0eb"
   },
   "outputs": [
    {
     "data": {
      "text/plain": [
       "<tf.Variable 'Variable:0' shape=() dtype=string>"
      ]
     },
     "execution_count": 7,
     "metadata": {},
     "output_type": "execute_result"
    }
   ],
   "source": [
    "mammal"
   ]
  },
  {
   "cell_type": "code",
   "execution_count": 8,
   "metadata": {
    "id": "-jZ6V4sZXwcl"
   },
   "outputs": [],
   "source": [
    "# rank 1\n",
    "mystr = tf.Variable([\"안녕하세요\"], tf.string)\n",
    "f_numbers  = tf.Variable([3.14159, 2.71828], tf.float32)\n",
    "primes = tf.Variable([2, 3, 5, 7, 11], tf.int32)\n",
    "comp = tf.Variable([12.3 - 4.85j, 7.5 - 6.23j], tf.complex128)"
   ]
  },
  {
   "cell_type": "code",
   "execution_count": 9,
   "metadata": {
    "colab": {
     "base_uri": "https://localhost:8080/"
    },
    "executionInfo": {
     "elapsed": 1288,
     "status": "ok",
     "timestamp": 1605147741735,
     "user": {
      "displayName": "Yongjin Jeong",
      "photoUrl": "",
      "userId": "03658406798560557048"
     },
     "user_tz": -540
    },
    "id": "iTkUsOL_X5Ch",
    "outputId": "6aa64789-6a63-429f-d00c-5ff4affbaaa7"
   },
   "outputs": [
    {
     "data": {
      "text/plain": [
       "tf.complex128"
      ]
     },
     "execution_count": 9,
     "metadata": {},
     "output_type": "execute_result"
    }
   ],
   "source": [
    "comp.dtype"
   ]
  },
  {
   "cell_type": "code",
   "execution_count": 11,
   "metadata": {
    "id": "HtIwqQ60M5zJ"
   },
   "outputs": [],
   "source": [
    "# rank: higher degree \n",
    "data1 = tf.Variable([1, 2], tf.int32)\n",
    "data2 = tf.Variable([[1., 2.]], tf.float32)\n",
    "data3 = tf.Variable([[False, True],[True, False]], tf.bool)\n",
    "data4 = tf.Variable([[4, 2], [9, 3], [16, 4], [25, 5]], tf.int32)"
   ]
  },
  {
   "cell_type": "code",
   "execution_count": 12,
   "metadata": {
    "colab": {
     "base_uri": "https://localhost:8080/"
    },
    "executionInfo": {
     "elapsed": 745,
     "status": "ok",
     "timestamp": 1605147756346,
     "user": {
      "displayName": "Yongjin Jeong",
      "photoUrl": "",
      "userId": "03658406798560557048"
     },
     "user_tz": -540
    },
    "id": "addqZwa2PdAE",
    "outputId": "55573001-3f96-49e6-9032-1cd4c8aab3ed"
   },
   "outputs": [
    {
     "data": {
      "text/plain": [
       "<tf.Variable 'Variable_12:0' shape=(2,) dtype=int32>"
      ]
     },
     "execution_count": 12,
     "metadata": {},
     "output_type": "execute_result"
    }
   ],
   "source": [
    "data1"
   ]
  },
  {
   "cell_type": "code",
   "execution_count": 13,
   "metadata": {
    "colab": {
     "base_uri": "https://localhost:8080/"
    },
    "executionInfo": {
     "elapsed": 1031,
     "status": "ok",
     "timestamp": 1605147760271,
     "user": {
      "displayName": "Yongjin Jeong",
      "photoUrl": "",
      "userId": "03658406798560557048"
     },
     "user_tz": -540
    },
    "id": "bgE-b7mFOg7E",
    "outputId": "f93c4d16-0557-483e-8ba4-c77175f9108c"
   },
   "outputs": [
    {
     "data": {
      "text/plain": [
       "(TensorShape([2]),\n",
       " TensorShape([1, 2]),\n",
       " TensorShape([2, 2]),\n",
       " TensorShape([4, 2]))"
      ]
     },
     "execution_count": 13,
     "metadata": {},
     "output_type": "execute_result"
    }
   ],
   "source": [
    "data1.shape, data2.shape, data3.shape, data4.shape"
   ]
  },
  {
   "cell_type": "code",
   "execution_count": 14,
   "metadata": {
    "id": "rzTgghteNS1-"
   },
   "outputs": [],
   "source": [
    "my_image = tf.zeros([10, 299, 299, 3])  # 4 차원 텐서: 배치 x 높이 x 너비 x 색상"
   ]
  },
  {
   "cell_type": "code",
   "execution_count": 15,
   "metadata": {
    "colab": {
     "base_uri": "https://localhost:8080/"
    },
    "executionInfo": {
     "elapsed": 1097,
     "status": "ok",
     "timestamp": 1605147776984,
     "user": {
      "displayName": "Yongjin Jeong",
      "photoUrl": "",
      "userId": "03658406798560557048"
     },
     "user_tz": -540
    },
    "id": "a4ukVGm-Ps1V",
    "outputId": "88e80ada-99b2-4158-96a6-bf7638b6efc9"
   },
   "outputs": [
    {
     "data": {
      "text/plain": [
       "<tf.Tensor 'zeros:0' shape=(10, 299, 299, 3) dtype=float32>"
      ]
     },
     "execution_count": 15,
     "metadata": {},
     "output_type": "execute_result"
    }
   ],
   "source": [
    "my_image"
   ]
  },
  {
   "cell_type": "code",
   "execution_count": 16,
   "metadata": {
    "colab": {
     "base_uri": "https://localhost:8080/"
    },
    "executionInfo": {
     "elapsed": 1719,
     "status": "ok",
     "timestamp": 1605147794124,
     "user": {
      "displayName": "Yongjin Jeong",
      "photoUrl": "",
      "userId": "03658406798560557048"
     },
     "user_tz": -540
    },
    "id": "OO9UgMSQPM2u",
    "outputId": "0ff2c0b5-3ddc-4399-fcb1-402e07f30f0e"
   },
   "outputs": [
    {
     "data": {
      "text/plain": [
       "<tf.Tensor 'Rank:0' shape=() dtype=int32>"
      ]
     },
     "execution_count": 16,
     "metadata": {},
     "output_type": "execute_result"
    }
   ],
   "source": [
    "r = tf.rank(my_image)   # scalar value\n",
    "r"
   ]
  },
  {
   "cell_type": "code",
   "execution_count": 17,
   "metadata": {
    "id": "qbaRQj0PPQ0H"
   },
   "outputs": [],
   "source": [
    "rank_3_tensor = tf.ones([3, 4, 5])\n",
    "matrix = tf.reshape(rank_3_tensor, [6, 10]) \n",
    "matrixB = tf.reshape(matrix, [3, -1])\n",
    "matrixAlt = tf.reshape(matrixB, [4, 3, -1])  # -1은 자동 결정하라는 뜻\n",
    "# yet_another = tf.reshape(matrixAlt, [13, 2, -1])  # 에러!"
   ]
  },
  {
   "cell_type": "code",
   "execution_count": 18,
   "metadata": {
    "colab": {
     "base_uri": "https://localhost:8080/"
    },
    "executionInfo": {
     "elapsed": 1203,
     "status": "ok",
     "timestamp": 1605147827488,
     "user": {
      "displayName": "Yongjin Jeong",
      "photoUrl": "",
      "userId": "03658406798560557048"
     },
     "user_tz": -540
    },
    "id": "DK8wejiqQtf0",
    "outputId": "b4354e7b-2da7-43be-c431-c4bee9a5de82"
   },
   "outputs": [
    {
     "data": {
      "text/plain": [
       "tf.int32"
      ]
     },
     "execution_count": 18,
     "metadata": {},
     "output_type": "execute_result"
    }
   ],
   "source": [
    "data1.dtype"
   ]
  },
  {
   "cell_type": "code",
   "execution_count": 19,
   "metadata": {
    "colab": {
     "base_uri": "https://localhost:8080/"
    },
    "executionInfo": {
     "elapsed": 1223,
     "status": "ok",
     "timestamp": 1605147828673,
     "user": {
      "displayName": "Yongjin Jeong",
      "photoUrl": "",
      "userId": "03658406798560557048"
     },
     "user_tz": -540
    },
    "id": "5EuGWwObRpam",
    "outputId": "bc8c32f6-14de-4825-9676-9b13482c703d"
   },
   "outputs": [
    {
     "data": {
      "text/plain": [
       "tf.float32"
      ]
     },
     "execution_count": 19,
     "metadata": {},
     "output_type": "execute_result"
    }
   ],
   "source": [
    "f_tensor = tf.cast(tf.constant([1, 2, 3]), dtype=tf.float32)\n",
    "f_tensor.dtype"
   ]
  },
  {
   "cell_type": "code",
   "execution_count": 20,
   "metadata": {
    "colab": {
     "base_uri": "https://localhost:8080/"
    },
    "executionInfo": {
     "elapsed": 1234,
     "status": "ok",
     "timestamp": 1605147829807,
     "user": {
      "displayName": "Yongjin Jeong",
      "photoUrl": "",
      "userId": "03658406798560557048"
     },
     "user_tz": -540
    },
    "id": "loCr2N-WbDJ6",
    "outputId": "7f599227-d3a7-44df-bdff-bf721b360712"
   },
   "outputs": [
    {
     "name": "stdout",
     "output_type": "stream",
     "text": [
      "SparseTensorValue(indices=array([[0, 0],\n",
      "       [1, 2]], dtype=int64), values=array([1, 2]), dense_shape=array([3, 4], dtype=int64))\n"
     ]
    }
   ],
   "source": [
    "sp = tf.SparseTensor(indices=[[0, 0], [1, 2]], values=[1, 2], dense_shape=[3, 4])\n",
    "with tf.Session() as sess:\n",
    "    print(sp.eval())"
   ]
  },
  {
   "cell_type": "markdown",
   "metadata": {
    "id": "0Joi8G33Rw6d"
   },
   "source": [
    "## Tensor evaluation\n",
    "- useful when debugging\n",
    "- use Tensor.eval method (note that eval() works only when session is activated"
   ]
  },
  {
   "cell_type": "code",
   "execution_count": 21,
   "metadata": {
    "id": "g9lQwWhgR7E7"
   },
   "outputs": [],
   "source": [
    "constant = tf.constant([1, 2, 3])\n",
    "v1 = constant * constant\n",
    "# print(v1.eval())    # error"
   ]
  },
  {
   "cell_type": "code",
   "execution_count": 23,
   "metadata": {
    "colab": {
     "base_uri": "https://localhost:8080/"
    },
    "executionInfo": {
     "elapsed": 1103,
     "status": "ok",
     "timestamp": 1605147838418,
     "user": {
      "displayName": "Yongjin Jeong",
      "photoUrl": "",
      "userId": "03658406798560557048"
     },
     "user_tz": -540
    },
    "id": "WLjk46JcTh9V",
    "outputId": "d6ab304a-d0c0-450d-f722-d8469501ae01"
   },
   "outputs": [
    {
     "name": "stdout",
     "output_type": "stream",
     "text": [
      "[1 4 9]\n"
     ]
    }
   ],
   "source": [
    "with tf.Session() as sess:\n",
    "    print(v1.eval())"
   ]
  },
  {
   "cell_type": "code",
   "execution_count": 24,
   "metadata": {
    "colab": {
     "base_uri": "https://localhost:8080/"
    },
    "executionInfo": {
     "elapsed": 1031,
     "status": "ok",
     "timestamp": 1605147840936,
     "user": {
      "displayName": "Yongjin Jeong",
      "photoUrl": "",
      "userId": "03658406798560557048"
     },
     "user_tz": -540
    },
    "id": "-OnBHCLUSmwh",
    "outputId": "5085a013-30fc-49bb-fd75-52c9fd2a65d1"
   },
   "outputs": [
    {
     "name": "stdout",
     "output_type": "stream",
     "text": [
      "[1 4 9]\n",
      "[1 4 9]\n"
     ]
    }
   ],
   "source": [
    "sess = tf.Session()\n",
    "print(sess.run(v1))\n",
    "sess.close()\n",
    "\n",
    "with tf.Session() as sess:\n",
    "    print(sess.run(v1))"
   ]
  },
  {
   "cell_type": "code",
   "execution_count": 25,
   "metadata": {
    "colab": {
     "base_uri": "https://localhost:8080/"
    },
    "executionInfo": {
     "elapsed": 1180,
     "status": "ok",
     "timestamp": 1605147845057,
     "user": {
      "displayName": "Yongjin Jeong",
      "photoUrl": "",
      "userId": "03658406798560557048"
     },
     "user_tz": -540
    },
    "id": "kDU8R_iaS276",
    "outputId": "68b059a5-4ec2-4279-e58f-025cd73a79c2"
   },
   "outputs": [
    {
     "name": "stdout",
     "output_type": "stream",
     "text": [
      "3.0\n",
      "4.0\n",
      "[3.0, 4.0]\n"
     ]
    }
   ],
   "source": [
    "with tf.Session() as sess:\n",
    "    p = tf.placeholder(tf.float32)\n",
    "    t1 = p + 1.0\n",
    "    t2 = p + 2.0\n",
    "    # t.eval()    # error\n",
    "    print(t1.eval(feed_dict={p:2.0}))\n",
    "    print(t2.eval(feed_dict={p:2.0}))\n",
    "    print(sess.run([t1,t2], feed_dict={p: 2.0}))  # many tensor values"
   ]
  },
  {
   "cell_type": "markdown",
   "metadata": {
    "id": "HC-wih29ddTj"
   },
   "source": []
  },
  {
   "cell_type": "markdown",
   "metadata": {
    "id": "k2kNXsuedcuX"
   },
   "source": [
    "# Exercise\n",
    "- Linear Regression with Tensorflow 1.x"
   ]
  },
  {
   "cell_type": "code",
   "execution_count": 26,
   "metadata": {
    "id": "02GN4J8CfpdD"
   },
   "outputs": [],
   "source": [
    "import numpy as np \n",
    "import tensorflow as tf \n",
    "import matplotlib.pyplot as plt"
   ]
  },
  {
   "cell_type": "code",
   "execution_count": 27,
   "metadata": {
    "colab": {
     "base_uri": "https://localhost:8080/",
     "height": 295
    },
    "executionInfo": {
     "elapsed": 1221,
     "status": "ok",
     "timestamp": 1605151830007,
     "user": {
      "displayName": "Yongjin Jeong",
      "photoUrl": "",
      "userId": "03658406798560557048"
     },
     "user_tz": -540
    },
    "id": "rTRfnPPAfugd",
    "outputId": "e3370d96-73e0-484a-86d9-1dd7c1a7a72a"
   },
   "outputs": [
    {
     "data": {
      "image/png": "[encoded data removed]",
      "text/plain": [
       "<Figure size 432x288 with 1 Axes>"
      ]
     },
     "metadata": {
      "needs_background": "light"
     },
     "output_type": "display_data"
    }
   ],
   "source": [
    "np.random.seed(17) \n",
    "n = 100\n",
    "x = np.random.randn(n)                # batch size\n",
    "y = x*10 + 10                         # w=20, b=10 ???\n",
    "y = y + np.random.randn(n) * 7       # add noise\n",
    "  \n",
    "n = len(x) # Number of data points\n",
    "\n",
    "plt.scatter(x, y) \n",
    "plt.xlabel('x') \n",
    "plt.xlabel('y') \n",
    "plt.title(\"Training Data\") \n",
    "plt.show() "
   ]
  },
  {
   "cell_type": "markdown",
   "metadata": {
    "id": "klGEdMr2RgJt"
   },
   "source": [
    "#### numpy"
   ]
  },
  {
   "cell_type": "code",
   "execution_count": 28,
   "metadata": {
    "colab": {
     "base_uri": "https://localhost:8080/",
     "height": 300
    },
    "executionInfo": {
     "elapsed": 1160,
     "status": "ok",
     "timestamp": 1605151833657,
     "user": {
      "displayName": "Yongjin Jeong",
      "photoUrl": "",
      "userId": "03658406798560557048"
     },
     "user_tz": -540
    },
    "id": "IdzfqpmHRe6-",
    "outputId": "f74a305b-21fd-4ca0-97dc-3969c859d477"
   },
   "outputs": [
    {
     "name": "stdout",
     "output_type": "stream",
     "text": [
      "epoch= 299 error= 44.022319701911826 w= 10.268908970131976 b= 10.012253241317557\n"
     ]
    },
    {
     "data": {
      "text/plain": [
       "[<matplotlib.lines.Line2D at 0x2c5b67a4f10>]"
      ]
     },
     "execution_count": 28,
     "metadata": {},
     "output_type": "execute_result"
    },
    {
     "data": {
      "image/png": "[encoded data removed]",
      "text/plain": [
       "<Figure size 432x288 with 1 Axes>"
      ]
     },
     "metadata": {
      "needs_background": "light"
     },
     "output_type": "display_data"
    }
   ],
   "source": [
    "w=np.random.randn()\n",
    "b=np.random.randn()\n",
    "\n",
    "lr = 0.02                               \n",
    "n_epoch = 300\n",
    "lossHistory = []\n",
    "\n",
    "for epoch in range(n_epoch):\n",
    "    y_pred = w*x + b\n",
    "    error = ((y_pred - y)**2).mean() \n",
    "\n",
    "    w = w - lr* ((y_pred - y)*x).mean()\n",
    "    b = b - lr* (y_pred - y).mean()\n",
    "    lossHistory.append(error)\n",
    "        \n",
    "print('epoch=', epoch, 'error=', error, 'w=', w, 'b=', b)\n",
    "\n",
    "plt.plot(lossHistory)"
   ]
  },
  {
   "cell_type": "markdown",
   "metadata": {
    "id": "H8lrSU9ZSkA8"
   },
   "source": [
    "#### using tensorflow 1.x (without tensorflow function)"
   ]
  },
  {
   "cell_type": "code",
   "execution_count": 29,
   "metadata": {
    "colab": {
     "base_uri": "https://localhost:8080/",
     "height": 300
    },
    "executionInfo": {
     "elapsed": 1314,
     "status": "ok",
     "timestamp": 1605151856727,
     "user": {
      "displayName": "Yongjin Jeong",
      "photoUrl": "",
      "userId": "03658406798560557048"
     },
     "user_tz": -540
    },
    "id": "Ud9h5WDfSjZO",
    "outputId": "0690713c-76c9-46a8-c978-4339e68465f5"
   },
   "outputs": [
    {
     "name": "stdout",
     "output_type": "stream",
     "text": [
      "WARNING:tensorflow:From C:\\ProgramData\\Anaconda3\\lib\\site-packages\\tensorflow\\python\\compat\\v2_compat.py:96: disable_resource_variables (from tensorflow.python.ops.variable_scope) is deprecated and will be removed in a future version.\n",
      "Instructions for updating:\n",
      "non-resource variables are not supported in the long term\n",
      "44.022392 10.268426 10.009809\n"
     ]
    },
    {
     "data": {
      "text/plain": [
       "[<matplotlib.lines.Line2D at 0x2c5b683ab50>]"
      ]
     },
     "execution_count": 29,
     "metadata": {},
     "output_type": "execute_result"
    },
    {
     "data": {
      "image/png": "[encoded data removed]",
      "text/plain": [
       "<Figure size 432x288 with 1 Axes>"
      ]
     },
     "metadata": {
      "needs_background": "light"
     },
     "output_type": "display_data"
    }
   ],
   "source": [
    "import tensorflow.compat.v1 as tf\n",
    "tf.disable_v2_behavior()\n",
    "\n",
    "X = tf.placeholder(\"float\") \n",
    "Y = tf.placeholder(\"float\") \n",
    "W = tf.Variable(np.random.randn(), name = \"W\") \n",
    "b = tf.Variable(np.random.randn(), name = \"b\") \n",
    "\n",
    "# Graph\n",
    "y_pred = X * W + b   # hypothesis\n",
    "cost = tf.reduce_mean(tf.square(y_pred - Y))\n",
    "\n",
    "#####\n",
    "learning_rate = 0.02\n",
    "\n",
    "W_gradient = tf.reduce_mean((y_pred - Y) * X)\n",
    "b_gradient = tf.reduce_mean(y_pred - Y)\n",
    "\n",
    "W_desc = W - learning_rate * W_gradient  # tensor assign\n",
    "b_desc = b - learning_rate * b_gradient\n",
    "\n",
    "W_update = W.assign(W_desc)\n",
    "b_update = b.assign(b_desc)\n",
    "#####\n",
    "\n",
    "sess = tf.Session()\n",
    "sess.run(tf.global_variables_initializer())\n",
    "lossHistory = []\n",
    "\n",
    "for i in range(300): \n",
    "    sess.run([W_update, b_update], feed_dict={X: x, Y: y})\n",
    "    cost_val, W_val, b_val = sess.run([cost, W, b],\n",
    "                                       feed_dict={X: x, Y: y})\n",
    "    \n",
    "    lossHistory.append(cost_val)\n",
    "\n",
    "print(cost_val, W_val, b_val)\n",
    "plt.plot(lossHistory)"
   ]
  },
  {
   "cell_type": "markdown",
   "metadata": {
    "id": "TGkybf9eRrd-"
   },
   "source": [
    "#### tensorflow 1.x (with tensorflow function)"
   ]
  },
  {
   "cell_type": "code",
   "execution_count": 30,
   "metadata": {
    "colab": {
     "base_uri": "https://localhost:8080/",
     "height": 300
    },
    "executionInfo": {
     "elapsed": 1382,
     "status": "ok",
     "timestamp": 1605151919608,
     "user": {
      "displayName": "Yongjin Jeong",
      "photoUrl": "",
      "userId": "03658406798560557048"
     },
     "user_tz": -540
    },
    "id": "HQorjtX0kW3l",
    "outputId": "cda9f53e-9ae7-41bf-c314-8c8989756126"
   },
   "outputs": [
    {
     "name": "stdout",
     "output_type": "stream",
     "text": [
      "44.022232 10.26762 10.015061\n"
     ]
    },
    {
     "data": {
      "text/plain": [
       "[<matplotlib.lines.Line2D at 0x2c5b6765f10>]"
      ]
     },
     "execution_count": 30,
     "metadata": {},
     "output_type": "execute_result"
    },
    {
     "data": {
      "image/png": "[encoded data removed]",
      "text/plain": [
       "<Figure size 432x288 with 1 Axes>"
      ]
     },
     "metadata": {
      "needs_background": "light"
     },
     "output_type": "display_data"
    }
   ],
   "source": [
    "import tensorflow.compat.v1 as tf\n",
    "tf.disable_v2_behavior()\n",
    "\n",
    "X = tf.placeholder(\"float\") \n",
    "Y = tf.placeholder(\"float\") \n",
    "\n",
    "W = tf.Variable(np.random.randn(), name = \"W\") \n",
    "b = tf.Variable(np.random.randn(), name = \"b\") \n",
    "\n",
    "y_pred = X * W + b   # hypothesis\n",
    "cost = tf.reduce_mean(tf.square(y_pred - Y))   # mse\n",
    "#####\n",
    "optimizer = tf.train.GradientDescentOptimizer(learning_rate=0.01)\n",
    "train = optimizer.minimize(cost)\n",
    "#####\n",
    "sess = tf.Session()\n",
    "sess.run(tf.global_variables_initializer())\n",
    " \n",
    "lossHistory = []\n",
    "for epoch in range(300): \n",
    "    cost_val, W_val, b_val, _ = sess.run([cost, W, b, train],\n",
    "                                         feed_dict={X: x, Y: y})\n",
    "    lossHistory.append(cost_val)\n",
    " \n",
    "print(cost_val, W_val, b_val)\n",
    "sess.close()\n",
    "\n",
    "plt.plot(lossHistory)"
   ]
  },
  {
   "cell_type": "markdown",
   "metadata": {
    "id": "AhgkcZm1ljoW"
   },
   "source": [
    "- We can see the same result."
   ]
  },
  {
   "cell_type": "markdown",
   "metadata": {
    "id": "STh94i_3EMqy"
   },
   "source": [
    "# Tf 1.0 and Tf 2.0 비교"
   ]
  },
  {
   "cell_type": "code",
   "execution_count": 31,
   "metadata": {
    "colab": {
     "base_uri": "https://localhost:8080/"
    },
    "executionInfo": {
     "elapsed": 893,
     "status": "ok",
     "timestamp": 1605077503979,
     "user": {
      "displayName": "Yongjin Jeong",
      "photoUrl": "",
      "userId": "03658406798560557048"
     },
     "user_tz": -540
    },
    "id": "yLhGWsehEL1U",
    "outputId": "b9bf7eb8-0004-4189-ddea-dc2525e26eaf"
   },
   "outputs": [
    {
     "name": "stdout",
     "output_type": "stream",
     "text": [
      "Tensor(\"add_4:0\", shape=(), dtype=int32)\n",
      "30\n"
     ]
    }
   ],
   "source": [
    "import tensorflow.compat.v1 as tf\n",
    "tf.compat.v1.disable_eager_execution()\n",
    "\n",
    "a = tf.constant(10)\n",
    "b = tf.constant(20)\n",
    "c = a + b\n",
    "print(c)\n",
    "\n",
    "with tf.Session() as sess:\n",
    "     print(sess.run (c))"
   ]
  },
  {
   "cell_type": "code",
   "execution_count": 37,
   "metadata": {
    "colab": {
     "base_uri": "https://localhost:8080/"
    },
    "executionInfo": {
     "elapsed": 737,
     "status": "ok",
     "timestamp": 1605077714747,
     "user": {
      "displayName": "Yongjin Jeong",
      "photoUrl": "",
      "userId": "03658406798560557048"
     },
     "user_tz": -540
    },
    "id": "Mi5zzvY2EfS2",
    "outputId": "507c48cf-53a4-4d3d-b862-f46ade7d72ea"
   },
   "outputs": [
    {
     "name": "stdout",
     "output_type": "stream",
     "text": [
      "<tf.Variable 'Variable_20:0' shape=(1,) dtype=float32_ref>\n",
      "[1.5440335]\n",
      "[2.5440335]\n",
      "[3.5440335]\n"
     ]
    }
   ],
   "source": [
    "w = tf.Variable(tf.random.normal([1]))\n",
    "print(w)\n",
    "\n",
    "with tf.Session() as sess:\n",
    "    sess.run(tf.global_variables_initializer())\n",
    "\n",
    "    for step in range(3):\n",
    "        w = w + 1.0\n",
    "        print(sess.run(w))"
   ]
  },
  {
   "cell_type": "code",
   "execution_count": 35,
   "metadata": {
    "colab": {
     "base_uri": "https://localhost:8080/"
    },
    "executionInfo": {
     "elapsed": 768,
     "status": "ok",
     "timestamp": 1605077985237,
     "user": {
      "displayName": "Yongjin Jeong",
      "photoUrl": "",
      "userId": "03658406798560557048"
     },
     "user_tz": -540
    },
    "id": "A8e8yXvYFkOK",
    "outputId": "f0740089-6e3f-4003-ffc1-f4dc1f897625"
   },
   "outputs": [
    {
     "name": "stdout",
     "output_type": "stream",
     "text": [
      "[4.]\n"
     ]
    }
   ],
   "source": [
    "a = tf.placeholder(tf.float32)\n",
    "b = tf.placeholder(tf.float32)\n",
    "\n",
    "def tensor_sum(x, y):\n",
    "    return x + y\n",
    "\n",
    "result = tensor_sum(a, b)   # 함수에 placeholder 를 통해 입력값 전달\n",
    "\n",
    "with tf.Session() as sess:\n",
    "    print(sess.run(result, feed_dict={a:[1.0], b:[3.0]}))"
   ]
  }
 ],
 "metadata": {
  "colab": {
   "collapsed_sections": [],
   "name": "lab01_tensorflow_1x.ipynb",
   "provenance": [],
   "toc_visible": true
  },
  "kernelspec": {
   "display_name": "Python 3",
   "language": "python",
   "name": "python3"
  },
  "language_info": {
   "codemirror_mode": {
    "name": "ipython",
    "version": 3
   },
   "file_extension": ".py",
   "mimetype": "text/x-python",
   "name": "python",
   "nbconvert_exporter": "python",
   "pygments_lexer": "ipython3",
   "version": "3.8.3"
  }
 },
 "nbformat": 4,
 "nbformat_minor": 1
}
