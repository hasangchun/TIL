{
 "cells": [
  {
   "cell_type": "markdown",
   "metadata": {
    "id": "z3sm3tO66_ul"
   },
   "source": [
    "# Hyperparameter Tuning\n",
    "- to choose a set of optimal hyperparameters for a learning algorithm\n",
    "- example case: Bike Renting Analysis problem (from kaggle)"
   ]
  },
  {
   "cell_type": "code",
   "execution_count": 1,
   "metadata": {
    "id": "8pvv5VcZ6_un"
   },
   "outputs": [],
   "source": [
    "import numpy as np\n",
    "import pandas as pd\n",
    "import seaborn as sns\n",
    "import matplotlib.pyplot as plt\n",
    "from sklearn.ensemble import RandomForestRegressor\n",
    "from sklearn.linear_model import LinearRegression\n",
    "from sklearn.tree import DecisionTreeRegressor\n",
    "from sklearn import svm\n",
    "from sklearn.model_selection import cross_val_score, train_test_split\n",
    "from sklearn.metrics import make_scorer\n",
    "%matplotlib inline"
   ]
  },
  {
   "cell_type": "code",
   "execution_count": 2,
   "metadata": {
    "colab": {
     "base_uri": "https://localhost:8080/",
     "height": 121
    },
    "executionInfo": {
     "elapsed": 11052,
     "status": "ok",
     "timestamp": 1559866866499,
     "user": {
      "displayName": "김화종",
      "photoUrl": "https://lh4.googleusercontent.com/-sR-MVK_KsAg/AAAAAAAAAAI/AAAAAAAALbE/3e3Eq9nrGuw/s64/photo.jpg",
      "userId": "17353049580175403985"
     },
     "user_tz": -540
    },
    "id": "8Czy7G2I7DnQ",
    "outputId": "3d83ffab-d5f5-4ba2-a834-50b83eaa0f10"
   },
   "outputs": [
    {
     "name": "stderr",
     "output_type": "stream",
     "text": [
      "  % Total    % Received % Xferd  Average Speed   Time    Time     Time  Current\n",
      "                                 Dload  Upload   Total   Spent    Left  Speed\n",
      "\n",
      "  0     0    0     0    0     0      0      0 --:--:-- --:--:-- --:--:--     0\n",
      "  0     0    0     0    0     0      0      0 --:--:-- --:--:-- --:--:--     0\n",
      "\n",
      "  0     0    0     0    0     0      0      0 --:--:-- --:--:-- --:--:--     0\n",
      "  0     0    0     0    0     0      0      0 --:--:-- --:--:-- --:--:--     0\n",
      "\n",
      "  0     0    0     0    0     0      0      0 --:--:--  0:00:01 --:--:--     0\n",
      "\n",
      " 18  643k   18  119k    0     0  66641      0  0:00:09  0:00:01  0:00:08 66641\n",
      "100  643k  100  643k    0     0   328k      0  0:00:01  0:00:01 --:--:-- 4099k\n"
     ]
    }
   ],
   "source": [
    "!curl -L https://goo.gl/s8qSL5  -o ./bike_train.csv"
   ]
  },
  {
   "cell_type": "code",
   "execution_count": 3,
   "metadata": {
    "id": "9oVF55o2Xvfk",
    "outputId": "87f71184-2a8d-46d8-db04-b3f8966101f0"
   },
   "outputs": [
    {
     "data": {
      "text/plain": [
       "datetime       object\n",
       "season          int64\n",
       "holiday         int64\n",
       "workingday      int64\n",
       "weather         int64\n",
       "temp          float64\n",
       "atemp         float64\n",
       "humidity        int64\n",
       "windspeed     float64\n",
       "casual          int64\n",
       "registered      int64\n",
       "count           int64\n",
       "dtype: object"
      ]
     },
     "execution_count": 3,
     "metadata": {},
     "output_type": "execute_result"
    }
   ],
   "source": [
    "train = pd.read_csv(\"bike_train.csv\")\n",
    "train.dtypes"
   ]
  },
  {
   "cell_type": "code",
   "execution_count": 4,
   "metadata": {
    "id": "sYlVVu4pXvfl",
    "outputId": "bded7dec-4e6c-4f8c-c766-63e4364c79a7",
    "scrolled": true
   },
   "outputs": [
    {
     "data": {
      "text/plain": [
       "datetime      datetime64[ns]\n",
       "season                 int64\n",
       "holiday                int64\n",
       "workingday             int64\n",
       "weather                int64\n",
       "temp                 float64\n",
       "atemp                float64\n",
       "humidity               int64\n",
       "windspeed            float64\n",
       "casual                 int64\n",
       "registered             int64\n",
       "count                  int64\n",
       "dtype: object"
      ]
     },
     "execution_count": 4,
     "metadata": {},
     "output_type": "execute_result"
    }
   ],
   "source": [
    "train = pd.read_csv(\"bike_train.csv\", parse_dates=[\"datetime\"])\n",
    "train.dtypes"
   ]
  },
  {
   "cell_type": "code",
   "execution_count": 5,
   "metadata": {
    "id": "yzCBJoUdXvfl",
    "outputId": "8f35c33e-9e95-4df2-8cbf-55afa3445ddb"
   },
   "outputs": [
    {
     "data": {
      "text/html": [
       "<div>\n",
       "<style scoped>\n",
       "    .dataframe tbody tr th:only-of-type {\n",
       "        vertical-align: middle;\n",
       "    }\n",
       "\n",
       "    .dataframe tbody tr th {\n",
       "        vertical-align: top;\n",
       "    }\n",
       "\n",
       "    .dataframe thead th {\n",
       "        text-align: right;\n",
       "    }\n",
       "</style>\n",
       "<table border=\"1\" class=\"dataframe\">\n",
       "  <thead>\n",
       "    <tr style=\"text-align: right;\">\n",
       "      <th></th>\n",
       "      <th>datetime</th>\n",
       "      <th>season</th>\n",
       "      <th>holiday</th>\n",
       "      <th>workingday</th>\n",
       "      <th>weather</th>\n",
       "      <th>temp</th>\n",
       "      <th>atemp</th>\n",
       "      <th>humidity</th>\n",
       "      <th>windspeed</th>\n",
       "      <th>casual</th>\n",
       "      <th>registered</th>\n",
       "      <th>count</th>\n",
       "    </tr>\n",
       "  </thead>\n",
       "  <tbody>\n",
       "    <tr>\n",
       "      <th>0</th>\n",
       "      <td>2011-01-01 00:00:00</td>\n",
       "      <td>1</td>\n",
       "      <td>0</td>\n",
       "      <td>0</td>\n",
       "      <td>1</td>\n",
       "      <td>9.84</td>\n",
       "      <td>14.395</td>\n",
       "      <td>81</td>\n",
       "      <td>0.0</td>\n",
       "      <td>3</td>\n",
       "      <td>13</td>\n",
       "      <td>16</td>\n",
       "    </tr>\n",
       "    <tr>\n",
       "      <th>1</th>\n",
       "      <td>2011-01-01 01:00:00</td>\n",
       "      <td>1</td>\n",
       "      <td>0</td>\n",
       "      <td>0</td>\n",
       "      <td>1</td>\n",
       "      <td>9.02</td>\n",
       "      <td>13.635</td>\n",
       "      <td>80</td>\n",
       "      <td>0.0</td>\n",
       "      <td>8</td>\n",
       "      <td>32</td>\n",
       "      <td>40</td>\n",
       "    </tr>\n",
       "    <tr>\n",
       "      <th>2</th>\n",
       "      <td>2011-01-01 02:00:00</td>\n",
       "      <td>1</td>\n",
       "      <td>0</td>\n",
       "      <td>0</td>\n",
       "      <td>1</td>\n",
       "      <td>9.02</td>\n",
       "      <td>13.635</td>\n",
       "      <td>80</td>\n",
       "      <td>0.0</td>\n",
       "      <td>5</td>\n",
       "      <td>27</td>\n",
       "      <td>32</td>\n",
       "    </tr>\n",
       "  </tbody>\n",
       "</table>\n",
       "</div>"
      ],
      "text/plain": [
       "             datetime  season  holiday  workingday  weather  temp   atemp  \\\n",
       "0 2011-01-01 00:00:00       1        0           0        1  9.84  14.395   \n",
       "1 2011-01-01 01:00:00       1        0           0        1  9.02  13.635   \n",
       "2 2011-01-01 02:00:00       1        0           0        1  9.02  13.635   \n",
       "\n",
       "   humidity  windspeed  casual  registered  count  \n",
       "0        81        0.0       3          13     16  \n",
       "1        80        0.0       8          32     40  \n",
       "2        80        0.0       5          27     32  "
      ]
     },
     "execution_count": 5,
     "metadata": {},
     "output_type": "execute_result"
    }
   ],
   "source": [
    "train.head(3)"
   ]
  },
  {
   "cell_type": "code",
   "execution_count": 6,
   "metadata": {
    "id": "SedFsYPXXvfl"
   },
   "outputs": [],
   "source": [
    "# train.shape     # (10886, 12)"
   ]
  },
  {
   "cell_type": "code",
   "execution_count": 7,
   "metadata": {
    "colab": {
     "base_uri": "https://localhost:8080/",
     "height": 302
    },
    "id": "RpDVzVSo6_ux",
    "outputId": "e76e5800-9163-4cba-abdb-9b4124caff30"
   },
   "outputs": [
    {
     "name": "stdout",
     "output_type": "stream",
     "text": [
      "<class 'pandas.core.frame.DataFrame'>\n",
      "RangeIndex: 10886 entries, 0 to 10885\n",
      "Data columns (total 12 columns):\n",
      " #   Column      Non-Null Count  Dtype         \n",
      "---  ------      --------------  -----         \n",
      " 0   datetime    10886 non-null  datetime64[ns]\n",
      " 1   season      10886 non-null  int64         \n",
      " 2   holiday     10886 non-null  int64         \n",
      " 3   workingday  10886 non-null  int64         \n",
      " 4   weather     10886 non-null  int64         \n",
      " 5   temp        10886 non-null  float64       \n",
      " 6   atemp       10886 non-null  float64       \n",
      " 7   humidity    10886 non-null  int64         \n",
      " 8   windspeed   10886 non-null  float64       \n",
      " 9   casual      10886 non-null  int64         \n",
      " 10  registered  10886 non-null  int64         \n",
      " 11  count       10886 non-null  int64         \n",
      "dtypes: datetime64[ns](1), float64(3), int64(8)\n",
      "memory usage: 1020.7 KB\n"
     ]
    }
   ],
   "source": [
    "train.info()"
   ]
  },
  {
   "cell_type": "markdown",
   "metadata": {
    "id": "w9f22Ah36_u0"
   },
   "source": [
    "- decompose 'datetime' feature"
   ]
  },
  {
   "cell_type": "code",
   "execution_count": 8,
   "metadata": {
    "colab": {
     "base_uri": "https://localhost:8080/",
     "height": 195
    },
    "id": "GMMzNEvZ6_u2",
    "outputId": "06d09dce-1dac-4401-83fe-67032640ae06"
   },
   "outputs": [
    {
     "data": {
      "text/html": [
       "<div>\n",
       "<style scoped>\n",
       "    .dataframe tbody tr th:only-of-type {\n",
       "        vertical-align: middle;\n",
       "    }\n",
       "\n",
       "    .dataframe tbody tr th {\n",
       "        vertical-align: top;\n",
       "    }\n",
       "\n",
       "    .dataframe thead th {\n",
       "        text-align: right;\n",
       "    }\n",
       "</style>\n",
       "<table border=\"1\" class=\"dataframe\">\n",
       "  <thead>\n",
       "    <tr style=\"text-align: right;\">\n",
       "      <th></th>\n",
       "      <th>datetime</th>\n",
       "      <th>d-year</th>\n",
       "      <th>d-month</th>\n",
       "      <th>d-day</th>\n",
       "      <th>d-hour</th>\n",
       "      <th>d-minute</th>\n",
       "      <th>d-second</th>\n",
       "    </tr>\n",
       "  </thead>\n",
       "  <tbody>\n",
       "    <tr>\n",
       "      <th>0</th>\n",
       "      <td>2011-01-01 00:00:00</td>\n",
       "      <td>2011</td>\n",
       "      <td>1</td>\n",
       "      <td>1</td>\n",
       "      <td>0</td>\n",
       "      <td>0</td>\n",
       "      <td>0</td>\n",
       "    </tr>\n",
       "    <tr>\n",
       "      <th>1</th>\n",
       "      <td>2011-01-01 01:00:00</td>\n",
       "      <td>2011</td>\n",
       "      <td>1</td>\n",
       "      <td>1</td>\n",
       "      <td>1</td>\n",
       "      <td>0</td>\n",
       "      <td>0</td>\n",
       "    </tr>\n",
       "    <tr>\n",
       "      <th>2</th>\n",
       "      <td>2011-01-01 02:00:00</td>\n",
       "      <td>2011</td>\n",
       "      <td>1</td>\n",
       "      <td>1</td>\n",
       "      <td>2</td>\n",
       "      <td>0</td>\n",
       "      <td>0</td>\n",
       "    </tr>\n",
       "    <tr>\n",
       "      <th>3</th>\n",
       "      <td>2011-01-01 03:00:00</td>\n",
       "      <td>2011</td>\n",
       "      <td>1</td>\n",
       "      <td>1</td>\n",
       "      <td>3</td>\n",
       "      <td>0</td>\n",
       "      <td>0</td>\n",
       "    </tr>\n",
       "    <tr>\n",
       "      <th>4</th>\n",
       "      <td>2011-01-01 04:00:00</td>\n",
       "      <td>2011</td>\n",
       "      <td>1</td>\n",
       "      <td>1</td>\n",
       "      <td>4</td>\n",
       "      <td>0</td>\n",
       "      <td>0</td>\n",
       "    </tr>\n",
       "  </tbody>\n",
       "</table>\n",
       "</div>"
      ],
      "text/plain": [
       "             datetime  d-year  d-month  d-day  d-hour  d-minute  d-second\n",
       "0 2011-01-01 00:00:00    2011        1      1       0         0         0\n",
       "1 2011-01-01 01:00:00    2011        1      1       1         0         0\n",
       "2 2011-01-01 02:00:00    2011        1      1       2         0         0\n",
       "3 2011-01-01 03:00:00    2011        1      1       3         0         0\n",
       "4 2011-01-01 04:00:00    2011        1      1       4         0         0"
      ]
     },
     "execution_count": 8,
     "metadata": {},
     "output_type": "execute_result"
    }
   ],
   "source": [
    "train[\"d-year\"] = train[\"datetime\"].dt.year\n",
    "train[\"d-month\"] = train[\"datetime\"].dt.month\n",
    "train[\"d-day\"] = train[\"datetime\"].dt.day\n",
    "train[\"d-hour\"] = train[\"datetime\"].dt.hour\n",
    "train[\"d-minute\"] = train[\"datetime\"].dt.minute\n",
    "train[\"d-second\"] = train[\"datetime\"].dt.second\n",
    "\n",
    "train[[\"datetime\", \"d-year\", \"d-month\", \"d-day\", \"d-hour\", \"d-minute\", \"d-second\"]].head()"
   ]
  },
  {
   "cell_type": "code",
   "execution_count": 9,
   "metadata": {
    "colab": {
     "base_uri": "https://localhost:8080/",
     "height": 459
    },
    "id": "-7aRyOMs6_u6",
    "outputId": "00912699-441b-4a46-e5b5-fbb3488e51f4",
    "scrolled": true
   },
   "outputs": [
    {
     "data": {
      "text/plain": [
       "<matplotlib.axes._subplots.AxesSubplot at 0x20d60c137c0>"
      ]
     },
     "execution_count": 9,
     "metadata": {},
     "output_type": "execute_result"
    },
    {
     "data": {
      "image/png": "[encoded data removed]",
      "text/plain": [
       "<Figure size 864x432 with 4 Axes>"
      ]
     },
     "metadata": {
      "needs_background": "light"
     },
     "output_type": "display_data"
    }
   ],
   "source": [
    "figure, ((ax1, ax2), (ax3, ax4)) = plt.subplots(nrows=2, ncols=2)\n",
    "figure.set_size_inches(12, 6)\n",
    "\n",
    "sns.barplot(data=train, x=\"d-year\", y=\"count\", ax=ax1)\n",
    "sns.barplot(data=train, x=\"d-month\", y=\"count\", ax=ax2)\n",
    "sns.barplot(data=train, x=\"d-day\", y=\"count\", ax=ax3)\n",
    "sns.barplot(data=train, x=\"d-hour\", y=\"count\", ax=ax4)"
   ]
  },
  {
   "cell_type": "markdown",
   "metadata": {
    "id": "VkaLS0mH6_u9"
   },
   "source": [
    "#### average numbers of rentals by hour (weekdays and weekends)\n",
    "- pointplot():point estimates and confidence intervals using scatter plot\n",
    "- It is important to keep in mind that a point plot shows only the mean (or other estimator) value, but in many cases it may be more informative to show the distribution of values at each level of the categorical variables. In that case, other approaches such as a box or violin plot may be more appropriate."
   ]
  },
  {
   "cell_type": "code",
   "execution_count": 10,
   "metadata": {
    "colab": {
     "base_uri": "https://localhost:8080/",
     "height": 350
    },
    "id": "YSlHZAMd6_u-",
    "outputId": "d1a4ffc5-1f2f-497c-86a7-52a1d90440dd",
    "scrolled": false
   },
   "outputs": [
    {
     "data": {
      "text/plain": [
       "<matplotlib.axes._subplots.AxesSubplot at 0x20d614a7100>"
      ]
     },
     "execution_count": 10,
     "metadata": {},
     "output_type": "execute_result"
    },
    {
     "data": {
      "image/png": "[encoded data removed]",
      "text/plain": [
       "<Figure size 864x288 with 1 Axes>"
      ]
     },
     "metadata": {
      "needs_background": "light"
     },
     "output_type": "display_data"
    }
   ],
   "source": [
    "plt.figure(figsize=(12,4))\n",
    "# sns.pointplot(data=train, x=\"d-hour\", y=\"count\", hue=\"workingday\")\n",
    "sns.pointplot(data=train, x=\"d-hour\", y=\"count\")"
   ]
  },
  {
   "cell_type": "code",
   "execution_count": 20,
   "metadata": {
    "id": "Ht9f0JVJXvfl",
    "outputId": "7067988a-a5fd-4b9f-cac3-812207f19655"
   },
   "outputs": [
    {
     "data": {
      "text/plain": [
       "<matplotlib.axes._subplots.AxesSubplot at 0x20d62457850>"
      ]
     },
     "execution_count": 20,
     "metadata": {},
     "output_type": "execute_result"
    },
    {
     "data": {
      "image/png": "[encoded data removed]",
      "text/plain": [
       "<Figure size 864x288 with 1 Axes>"
      ]
     },
     "metadata": {
      "needs_background": "light"
     },
     "output_type": "display_data"
    }
   ],
   "source": [
    "plt.figure(figsize=(12,4))\n",
    "sns.pointplot(data=train, x=\"d-hour\", y=\"count\", hue=\"workingday\")"
   ]
  },
  {
   "cell_type": "markdown",
   "metadata": {
    "id": "SVydGWER6_vB"
   },
   "source": [
    "#### average number of rentals (weekdays)\n",
    "- dayofweek: return the day of the week. It is assumed the week starts on Monday, which is denoted by 0 and ends on Sunday which is denoted by 6. This method is available on both Series with datetime values (using the dt accessor) or DatetimeIndex."
   ]
  },
  {
   "cell_type": "code",
   "execution_count": 21,
   "metadata": {
    "colab": {
     "base_uri": "https://localhost:8080/",
     "height": 212
    },
    "id": "d7PJftHE6_vC",
    "outputId": "d35488df-7e28-4647-bb88-604ce4dbb5ee"
   },
   "outputs": [
    {
     "name": "stdout",
     "output_type": "stream",
     "text": [
      "(10886, 20)\n"
     ]
    },
    {
     "data": {
      "text/html": [
       "<div>\n",
       "<style scoped>\n",
       "    .dataframe tbody tr th:only-of-type {\n",
       "        vertical-align: middle;\n",
       "    }\n",
       "\n",
       "    .dataframe tbody tr th {\n",
       "        vertical-align: top;\n",
       "    }\n",
       "\n",
       "    .dataframe thead th {\n",
       "        text-align: right;\n",
       "    }\n",
       "</style>\n",
       "<table border=\"1\" class=\"dataframe\">\n",
       "  <thead>\n",
       "    <tr style=\"text-align: right;\">\n",
       "      <th></th>\n",
       "      <th>datetime</th>\n",
       "      <th>d-dayofweek</th>\n",
       "    </tr>\n",
       "  </thead>\n",
       "  <tbody>\n",
       "    <tr>\n",
       "      <th>0</th>\n",
       "      <td>2011-01-01 00:00:00</td>\n",
       "      <td>5</td>\n",
       "    </tr>\n",
       "    <tr>\n",
       "      <th>1</th>\n",
       "      <td>2011-01-01 01:00:00</td>\n",
       "      <td>5</td>\n",
       "    </tr>\n",
       "    <tr>\n",
       "      <th>2</th>\n",
       "      <td>2011-01-01 02:00:00</td>\n",
       "      <td>5</td>\n",
       "    </tr>\n",
       "    <tr>\n",
       "      <th>3</th>\n",
       "      <td>2011-01-01 03:00:00</td>\n",
       "      <td>5</td>\n",
       "    </tr>\n",
       "    <tr>\n",
       "      <th>4</th>\n",
       "      <td>2011-01-01 04:00:00</td>\n",
       "      <td>5</td>\n",
       "    </tr>\n",
       "  </tbody>\n",
       "</table>\n",
       "</div>"
      ],
      "text/plain": [
       "             datetime  d-dayofweek\n",
       "0 2011-01-01 00:00:00            5\n",
       "1 2011-01-01 01:00:00            5\n",
       "2 2011-01-01 02:00:00            5\n",
       "3 2011-01-01 03:00:00            5\n",
       "4 2011-01-01 04:00:00            5"
      ]
     },
     "execution_count": 21,
     "metadata": {},
     "output_type": "execute_result"
    }
   ],
   "source": [
    "train[\"d-dayofweek\"] = train[\"datetime\"].dt.dayofweek   # monday(0), ... sunday(6)\n",
    "print(train.shape)\n",
    "train[[\"datetime\", \"d-dayofweek\"]].head()"
   ]
  },
  {
   "cell_type": "code",
   "execution_count": 13,
   "metadata": {
    "colab": {
     "base_uri": "https://localhost:8080/",
     "height": 567
    },
    "id": "U7Mmk7j-6_vF",
    "outputId": "595d2ab5-c623-4460-cb71-7c31bac5b18d"
   },
   "outputs": [
    {
     "data": {
      "text/plain": [
       "<matplotlib.axes._subplots.AxesSubplot at 0x20d619da340>"
      ]
     },
     "execution_count": 13,
     "metadata": {},
     "output_type": "execute_result"
    },
    {
     "data": {
      "image/png": "[encoded data removed]",
      "text/plain": [
       "<Figure size 1296x576 with 2 Axes>"
      ]
     },
     "metadata": {
      "needs_background": "light"
     },
     "output_type": "display_data"
    }
   ],
   "source": [
    "figure, (ax1, ax2) = plt.subplots(nrows=2, ncols=1)\n",
    "figure.set_size_inches(18, 8)\n",
    "\n",
    "sns.pointplot(data=train, x=\"d-hour\", y=\"count\", hue=\"workingday\", ax=ax1)\n",
    "sns.pointplot(data=train, x=\"d-hour\", y=\"count\", hue=\"d-dayofweek\", ax=ax2)"
   ]
  },
  {
   "cell_type": "markdown",
   "metadata": {
    "id": "ygGV3bOS6_vI"
   },
   "source": [
    "#### generating a new feature by combining year and month"
   ]
  },
  {
   "cell_type": "code",
   "execution_count": 22,
   "metadata": {
    "colab": {
     "base_uri": "https://localhost:8080/",
     "height": 212
    },
    "id": "QDR3zmN96_vJ",
    "outputId": "a6f6a981-8bb4-4ab7-f541-8656b45b60cc"
   },
   "outputs": [
    {
     "name": "stdout",
     "output_type": "stream",
     "text": [
      "(10886, 20)\n"
     ]
    },
    {
     "data": {
      "text/html": [
       "<div>\n",
       "<style scoped>\n",
       "    .dataframe tbody tr th:only-of-type {\n",
       "        vertical-align: middle;\n",
       "    }\n",
       "\n",
       "    .dataframe tbody tr th {\n",
       "        vertical-align: top;\n",
       "    }\n",
       "\n",
       "    .dataframe thead th {\n",
       "        text-align: right;\n",
       "    }\n",
       "</style>\n",
       "<table border=\"1\" class=\"dataframe\">\n",
       "  <thead>\n",
       "    <tr style=\"text-align: right;\">\n",
       "      <th></th>\n",
       "      <th>datetime</th>\n",
       "      <th>d-year_month</th>\n",
       "    </tr>\n",
       "  </thead>\n",
       "  <tbody>\n",
       "    <tr>\n",
       "      <th>0</th>\n",
       "      <td>2011-01-01 00:00:00</td>\n",
       "      <td>2011-1</td>\n",
       "    </tr>\n",
       "    <tr>\n",
       "      <th>1</th>\n",
       "      <td>2011-01-01 01:00:00</td>\n",
       "      <td>2011-1</td>\n",
       "    </tr>\n",
       "    <tr>\n",
       "      <th>2</th>\n",
       "      <td>2011-01-01 02:00:00</td>\n",
       "      <td>2011-1</td>\n",
       "    </tr>\n",
       "    <tr>\n",
       "      <th>3</th>\n",
       "      <td>2011-01-01 03:00:00</td>\n",
       "      <td>2011-1</td>\n",
       "    </tr>\n",
       "    <tr>\n",
       "      <th>4</th>\n",
       "      <td>2011-01-01 04:00:00</td>\n",
       "      <td>2011-1</td>\n",
       "    </tr>\n",
       "  </tbody>\n",
       "</table>\n",
       "</div>"
      ],
      "text/plain": [
       "             datetime d-year_month\n",
       "0 2011-01-01 00:00:00       2011-1\n",
       "1 2011-01-01 01:00:00       2011-1\n",
       "2 2011-01-01 02:00:00       2011-1\n",
       "3 2011-01-01 03:00:00       2011-1\n",
       "4 2011-01-01 04:00:00       2011-1"
      ]
     },
     "execution_count": 22,
     "metadata": {},
     "output_type": "execute_result"
    }
   ],
   "source": [
    "def concatenate_year_month(datetime):\n",
    "    return \"{0}-{1}\".format(datetime.year, datetime.month)\n",
    "\n",
    "train[\"d-year_month\"] = train[\"datetime\"].apply(concatenate_year_month)\n",
    "\n",
    "print(train.shape)\n",
    "train[[\"datetime\", \"d-year_month\"]].head()"
   ]
  },
  {
   "cell_type": "code",
   "execution_count": 23,
   "metadata": {
    "colab": {
     "base_uri": "https://localhost:8080/",
     "height": 612
    },
    "id": "3ykQv12B6_vN",
    "outputId": "5f5b8ae8-f624-4e7b-ae37-ab8d2bd7f50a",
    "scrolled": false
   },
   "outputs": [
    {
     "data": {
      "text/plain": [
       "<matplotlib.axes._subplots.AxesSubplot at 0x20d61a723a0>"
      ]
     },
     "execution_count": 23,
     "metadata": {},
     "output_type": "execute_result"
    },
    {
     "data": {
      "image/png": "[encoded data removed]",
      "text/plain": [
       "<Figure size 1296x288 with 2 Axes>"
      ]
     },
     "metadata": {
      "needs_background": "light"
     },
     "output_type": "display_data"
    },
    {
     "data": {
      "image/png": "[encoded data removed]",
      "text/plain": [
       "<Figure size 1296x288 with 1 Axes>"
      ]
     },
     "metadata": {
      "needs_background": "light"
     },
     "output_type": "display_data"
    }
   ],
   "source": [
    "figure, (ax1, ax2) = plt.subplots(nrows=1, ncols=2)\n",
    "figure.set_size_inches(18, 4)\n",
    "\n",
    "sns.barplot(data=train, x=\"d-year\", y=\"count\", ax=ax1)\n",
    "sns.barplot(data=train, x=\"d-month\", y=\"count\", ax=ax2)\n",
    "\n",
    "figure, ax3 = plt.subplots(nrows=1, ncols=1)\n",
    "figure.set_size_inches(18, 4)\n",
    "\n",
    "sns.barplot(data=train, x=\"d-year_month\", y=\"count\", ax=ax3)"
   ]
  },
  {
   "cell_type": "markdown",
   "metadata": {
    "id": "Ty7wbQ0L6_vS"
   },
   "source": [
    "#### select features to use for training"
   ]
  },
  {
   "cell_type": "code",
   "execution_count": 16,
   "metadata": {
    "colab": {
     "base_uri": "https://localhost:8080/",
     "height": 101
    },
    "id": "2JZAxjE56_vT",
    "outputId": "e18219eb-75fc-4b2b-9248-5889b4ae9cea",
    "scrolled": true
   },
   "outputs": [
    {
     "data": {
      "text/plain": [
       "Index(['datetime', 'season', 'holiday', 'workingday', 'weather', 'temp',\n",
       "       'atemp', 'humidity', 'windspeed', 'casual', 'registered', 'count',\n",
       "       'd-year', 'd-month', 'd-day', 'd-hour', 'd-minute', 'd-second',\n",
       "       'd-dayofweek', 'd-year_month'],\n",
       "      dtype='object')"
      ]
     },
     "execution_count": 16,
     "metadata": {},
     "output_type": "execute_result"
    }
   ],
   "source": [
    "train.columns"
   ]
  },
  {
   "cell_type": "code",
   "execution_count": 17,
   "metadata": {
    "id": "wzKGw40W6_vX"
   },
   "outputs": [],
   "source": [
    "features = [\"season\", \"holiday\", \"workingday\", \"weather\",\n",
    "            \"temp\", \"atemp\", \"humidity\", \"windspeed\",\n",
    "            \"d-year\", \"d-hour\", \"d-dayofweek\"]"
   ]
  },
  {
   "cell_type": "code",
   "execution_count": 18,
   "metadata": {
    "colab": {
     "base_uri": "https://localhost:8080/",
     "height": 249
    },
    "id": "QoSBlvzZ6_vb",
    "outputId": "3c559788-624d-4d22-c035-1712f2949640"
   },
   "outputs": [
    {
     "name": "stdout",
     "output_type": "stream",
     "text": [
      "(10886, 11) (10886,)\n"
     ]
    },
    {
     "data": {
      "text/html": [
       "<div>\n",
       "<style scoped>\n",
       "    .dataframe tbody tr th:only-of-type {\n",
       "        vertical-align: middle;\n",
       "    }\n",
       "\n",
       "    .dataframe tbody tr th {\n",
       "        vertical-align: top;\n",
       "    }\n",
       "\n",
       "    .dataframe thead th {\n",
       "        text-align: right;\n",
       "    }\n",
       "</style>\n",
       "<table border=\"1\" class=\"dataframe\">\n",
       "  <thead>\n",
       "    <tr style=\"text-align: right;\">\n",
       "      <th></th>\n",
       "      <th>season</th>\n",
       "      <th>holiday</th>\n",
       "      <th>workingday</th>\n",
       "      <th>weather</th>\n",
       "      <th>temp</th>\n",
       "      <th>atemp</th>\n",
       "      <th>humidity</th>\n",
       "      <th>windspeed</th>\n",
       "      <th>d-year</th>\n",
       "      <th>d-hour</th>\n",
       "      <th>d-dayofweek</th>\n",
       "    </tr>\n",
       "  </thead>\n",
       "  <tbody>\n",
       "    <tr>\n",
       "      <th>0</th>\n",
       "      <td>1</td>\n",
       "      <td>0</td>\n",
       "      <td>0</td>\n",
       "      <td>1</td>\n",
       "      <td>9.84</td>\n",
       "      <td>14.395</td>\n",
       "      <td>81</td>\n",
       "      <td>0.0</td>\n",
       "      <td>2011</td>\n",
       "      <td>0</td>\n",
       "      <td>5</td>\n",
       "    </tr>\n",
       "    <tr>\n",
       "      <th>1</th>\n",
       "      <td>1</td>\n",
       "      <td>0</td>\n",
       "      <td>0</td>\n",
       "      <td>1</td>\n",
       "      <td>9.02</td>\n",
       "      <td>13.635</td>\n",
       "      <td>80</td>\n",
       "      <td>0.0</td>\n",
       "      <td>2011</td>\n",
       "      <td>1</td>\n",
       "      <td>5</td>\n",
       "    </tr>\n",
       "    <tr>\n",
       "      <th>2</th>\n",
       "      <td>1</td>\n",
       "      <td>0</td>\n",
       "      <td>0</td>\n",
       "      <td>1</td>\n",
       "      <td>9.02</td>\n",
       "      <td>13.635</td>\n",
       "      <td>80</td>\n",
       "      <td>0.0</td>\n",
       "      <td>2011</td>\n",
       "      <td>2</td>\n",
       "      <td>5</td>\n",
       "    </tr>\n",
       "    <tr>\n",
       "      <th>3</th>\n",
       "      <td>1</td>\n",
       "      <td>0</td>\n",
       "      <td>0</td>\n",
       "      <td>1</td>\n",
       "      <td>9.84</td>\n",
       "      <td>14.395</td>\n",
       "      <td>75</td>\n",
       "      <td>0.0</td>\n",
       "      <td>2011</td>\n",
       "      <td>3</td>\n",
       "      <td>5</td>\n",
       "    </tr>\n",
       "    <tr>\n",
       "      <th>4</th>\n",
       "      <td>1</td>\n",
       "      <td>0</td>\n",
       "      <td>0</td>\n",
       "      <td>1</td>\n",
       "      <td>9.84</td>\n",
       "      <td>14.395</td>\n",
       "      <td>75</td>\n",
       "      <td>0.0</td>\n",
       "      <td>2011</td>\n",
       "      <td>4</td>\n",
       "      <td>5</td>\n",
       "    </tr>\n",
       "  </tbody>\n",
       "</table>\n",
       "</div>"
      ],
      "text/plain": [
       "   season  holiday  workingday  weather  temp   atemp  humidity  windspeed  \\\n",
       "0       1        0           0        1  9.84  14.395        81        0.0   \n",
       "1       1        0           0        1  9.02  13.635        80        0.0   \n",
       "2       1        0           0        1  9.02  13.635        80        0.0   \n",
       "3       1        0           0        1  9.84  14.395        75        0.0   \n",
       "4       1        0           0        1  9.84  14.395        75        0.0   \n",
       "\n",
       "   d-year  d-hour  d-dayofweek  \n",
       "0    2011       0            5  \n",
       "1    2011       1            5  \n",
       "2    2011       2            5  \n",
       "3    2011       3            5  \n",
       "4    2011       4            5  "
      ]
     },
     "execution_count": 18,
     "metadata": {},
     "output_type": "execute_result"
    }
   ],
   "source": [
    "X = train[features]\n",
    "y = train['count']\n",
    "print(X.shape, y.shape)\n",
    "X.head()"
   ]
  },
  {
   "cell_type": "markdown",
   "metadata": {
    "id": "lDY_6y7p6_vs"
   },
   "source": [
    "#### A simple prediction model"
   ]
  },
  {
   "cell_type": "code",
   "execution_count": 25,
   "metadata": {
    "id": "dcHGn-wPXvfm",
    "outputId": "86c28230-4901-4c64-b261-849abdd2f76e"
   },
   "outputs": [
    {
     "data": {
      "text/plain": [
       "0.9483758264489849"
      ]
     },
     "execution_count": 25,
     "metadata": {},
     "output_type": "execute_result"
    }
   ],
   "source": [
    "np.random.seed(11)\n",
    "X_train, X_test, y_train, y_test = train_test_split(X, y, test_size = 0.2)\n",
    "\n",
    "model = RandomForestRegressor(n_estimators= 30)\n",
    "model.fit(X_train, y_train)\n",
    "model.score(X_test, y_test)"
   ]
  },
  {
   "cell_type": "code",
   "execution_count": 27,
   "metadata": {
    "id": "qPcpw0aWXvfm",
    "outputId": "a839fac1-0b54-48cc-8b13-a4f20057291c"
   },
   "outputs": [
    {
     "data": {
      "text/plain": [
       "[(6, 7.066666666666666),\n",
       " (42, 47.8),\n",
       " (610, 527.7666666666667),\n",
       " (16, 18.733333333333334),\n",
       " (70, 79.9),\n",
       " (14, 25.433333333333334),\n",
       " (415, 369.7),\n",
       " (232, 225.6),\n",
       " (237, 330.1666666666667),\n",
       " (290, 278.3)]"
      ]
     },
     "execution_count": 27,
     "metadata": {},
     "output_type": "execute_result"
    }
   ],
   "source": [
    "list(zip(y_test, model.predict(X_test)))[:10]"
   ]
  },
  {
   "cell_type": "code",
   "execution_count": 28,
   "metadata": {
    "id": "QUjiGWgC6_vz",
    "outputId": "13f995de-c85a-48e9-f348-3fcfd1abfd3d"
   },
   "outputs": [
    {
     "name": "stdout",
     "output_type": "stream",
     "text": [
      "score:  0.9583998288123375\n",
      "MSE:  0.08291535828416392\n"
     ]
    }
   ],
   "source": [
    "from sklearn.metrics import mean_squared_error\n",
    "np.random.seed(11)\n",
    "X_train, X_test, y_train, y_test = train_test_split(X, np.log(1+y), test_size = 0.2)   # y -> log(1 + y)\n",
    "\n",
    "model = RandomForestRegressor(n_estimators= 30)\n",
    "model.fit(X_train, y_train)\n",
    "print(\"score: \", model.score(X_test, y_test))\n",
    "print(\"MSE: \", mean_squared_error(y_test, model.predict(X_test)))"
   ]
  },
  {
   "cell_type": "markdown",
   "metadata": {
    "id": "zs0CFgpTXvfm"
   },
   "source": [
    "- we can see that log(1+y) gives better performance than y."
   ]
  },
  {
   "cell_type": "code",
   "execution_count": 29,
   "metadata": {
    "colab": {
     "base_uri": "https://localhost:8080/",
     "height": 185
    },
    "id": "gv2k__Dh6_v6",
    "outputId": "814a61b8-c4ef-4d78-8470-740ffec47a81",
    "scrolled": true
   },
   "outputs": [
    {
     "data": {
      "text/plain": [
       "[(1.9459101490553132, 2.0116573059380185),\n",
       " (3.7612001156935624, 3.818384570063729),\n",
       " (6.415096959171596, 6.3111548197275855),\n",
       " (2.833213344056216, 2.824032746730312),\n",
       " (4.2626798770413155, 4.433987951511014),\n",
       " (2.70805020110221, 3.2226047966924267),\n",
       " (6.030685260261263, 5.942006121300137),\n",
       " (5.4510384535657, 5.423356689147495),\n",
       " (5.472270673671475, 5.699981871094587),\n",
       " (5.673323267171493, 5.587416667407811)]"
      ]
     },
     "execution_count": 29,
     "metadata": {},
     "output_type": "execute_result"
    }
   ],
   "source": [
    "list(zip(y_test, model.predict(X_test)))[:10]"
   ]
  },
  {
   "cell_type": "code",
   "execution_count": 35,
   "metadata": {
    "colab": {
     "base_uri": "https://localhost:8080/",
     "height": 191
    },
    "id": "JXk1pJyW6_v9",
    "outputId": "3f7a659b-897f-4f6a-c778-52cc48460160"
   },
   "outputs": [
    {
     "data": {
      "text/html": [
       "<div>\n",
       "<style scoped>\n",
       "    .dataframe tbody tr th:only-of-type {\n",
       "        vertical-align: middle;\n",
       "    }\n",
       "\n",
       "    .dataframe tbody tr th {\n",
       "        vertical-align: top;\n",
       "    }\n",
       "\n",
       "    .dataframe thead th {\n",
       "        text-align: right;\n",
       "    }\n",
       "</style>\n",
       "<table border=\"1\" class=\"dataframe\">\n",
       "  <thead>\n",
       "    <tr style=\"text-align: right;\">\n",
       "      <th></th>\n",
       "      <th>season</th>\n",
       "      <th>holiday</th>\n",
       "      <th>workingday</th>\n",
       "      <th>weather</th>\n",
       "      <th>temp</th>\n",
       "      <th>atemp</th>\n",
       "      <th>humidity</th>\n",
       "      <th>windspeed</th>\n",
       "      <th>d-year</th>\n",
       "      <th>d-hour</th>\n",
       "      <th>d-dayofweek</th>\n",
       "    </tr>\n",
       "  </thead>\n",
       "  <tbody>\n",
       "    <tr>\n",
       "      <th>7560</th>\n",
       "      <td>2</td>\n",
       "      <td>0</td>\n",
       "      <td>1</td>\n",
       "      <td>3</td>\n",
       "      <td>22.14</td>\n",
       "      <td>25.760</td>\n",
       "      <td>88</td>\n",
       "      <td>19.0012</td>\n",
       "      <td>2012</td>\n",
       "      <td>9</td>\n",
       "      <td>0</td>\n",
       "    </tr>\n",
       "    <tr>\n",
       "      <th>8090</th>\n",
       "      <td>2</td>\n",
       "      <td>0</td>\n",
       "      <td>0</td>\n",
       "      <td>1</td>\n",
       "      <td>25.42</td>\n",
       "      <td>31.060</td>\n",
       "      <td>57</td>\n",
       "      <td>7.0015</td>\n",
       "      <td>2012</td>\n",
       "      <td>11</td>\n",
       "      <td>6</td>\n",
       "    </tr>\n",
       "    <tr>\n",
       "      <th>30</th>\n",
       "      <td>1</td>\n",
       "      <td>0</td>\n",
       "      <td>0</td>\n",
       "      <td>2</td>\n",
       "      <td>16.40</td>\n",
       "      <td>20.455</td>\n",
       "      <td>76</td>\n",
       "      <td>12.9980</td>\n",
       "      <td>2011</td>\n",
       "      <td>7</td>\n",
       "      <td>6</td>\n",
       "    </tr>\n",
       "    <tr>\n",
       "      <th>7290</th>\n",
       "      <td>2</td>\n",
       "      <td>0</td>\n",
       "      <td>1</td>\n",
       "      <td>2</td>\n",
       "      <td>18.86</td>\n",
       "      <td>22.725</td>\n",
       "      <td>88</td>\n",
       "      <td>0.0000</td>\n",
       "      <td>2012</td>\n",
       "      <td>3</td>\n",
       "      <td>3</td>\n",
       "    </tr>\n",
       "    <tr>\n",
       "      <th>8665</th>\n",
       "      <td>3</td>\n",
       "      <td>0</td>\n",
       "      <td>1</td>\n",
       "      <td>2</td>\n",
       "      <td>32.80</td>\n",
       "      <td>37.120</td>\n",
       "      <td>52</td>\n",
       "      <td>12.9980</td>\n",
       "      <td>2012</td>\n",
       "      <td>10</td>\n",
       "      <td>4</td>\n",
       "    </tr>\n",
       "  </tbody>\n",
       "</table>\n",
       "</div>"
      ],
      "text/plain": [
       "      season  holiday  workingday  weather   temp   atemp  humidity  \\\n",
       "7560       2        0           1        3  22.14  25.760        88   \n",
       "8090       2        0           0        1  25.42  31.060        57   \n",
       "30         1        0           0        2  16.40  20.455        76   \n",
       "7290       2        0           1        2  18.86  22.725        88   \n",
       "8665       3        0           1        2  32.80  37.120        52   \n",
       "\n",
       "      windspeed  d-year  d-hour  d-dayofweek  \n",
       "7560    19.0012    2012       9            0  \n",
       "8090     7.0015    2012      11            6  \n",
       "30      12.9980    2011       7            6  \n",
       "7290     0.0000    2012       3            3  \n",
       "8665    12.9980    2012      10            4  "
      ]
     },
     "execution_count": 35,
     "metadata": {},
     "output_type": "execute_result"
    }
   ],
   "source": [
    "X_train[:5]"
   ]
  },
  {
   "cell_type": "markdown",
   "metadata": {
    "id": "rYV_3yZW6_wA"
   },
   "source": [
    "#### Let's see other models: linear and decision tree models"
   ]
  },
  {
   "cell_type": "code",
   "execution_count": 36,
   "metadata": {
    "colab": {
     "base_uri": "https://localhost:8080/",
     "height": 33
    },
    "id": "RSrOtZyJ6_wB",
    "outputId": "0d5fa32f-d4c7-4b6a-bdb4-afc8d371ccca"
   },
   "outputs": [
    {
     "name": "stdout",
     "output_type": "stream",
     "text": [
      "0.4725950198506119\n",
      "0.9152295630854631\n"
     ]
    }
   ],
   "source": [
    "model = LinearRegression()\n",
    "model.fit(X_train, y_train)\n",
    "print(model.score(X_test, y_test))\n",
    "\n",
    "model = DecisionTreeRegressor()\n",
    "model.fit(X_train, y_train)\n",
    "print(model.score(X_test, y_test))"
   ]
  },
  {
   "cell_type": "markdown",
   "metadata": {
    "id": "Yzq_C7NE6_wI"
   },
   "source": [
    "#### change the performance score (rmse --> rmsle)\n",
    "- robust to outliers\n",
    "- RMSLE incurs a larger penalty for the underestimation of the Actual variable than the Overestimation.\n",
    "- This is especially useful for business cases where the underestimation of the target variable is not acceptable but overestimation can be tolerated.\n",
    "- to be used in GridSearch() (The less, the better.)\n",
    "- $$ \\sqrt{\\frac{1}{n} \\sum_{i=1}^n (\\log(p_i + 1) - \\log(a_i+1))^2 } $$"
   ]
  },
  {
   "cell_type": "code",
   "execution_count": 37,
   "metadata": {
    "colab": {
     "base_uri": "https://localhost:8080/",
     "height": 33
    },
    "id": "e0kRQgIC6_wK",
    "outputId": "9957f642-88ee-422a-e01d-799e891a7fd5"
   },
   "outputs": [
    {
     "data": {
      "text/plain": [
       "make_scorer(rmsle)"
      ]
     },
     "execution_count": 37,
     "metadata": {},
     "output_type": "execute_result"
    }
   ],
   "source": [
    "def rmsle(predict, actual):\n",
    "    predict = np.array(predict)\n",
    "    actual = np.array(actual)\n",
    "    \n",
    "    predict = np.log(predict + 1)\n",
    "    actual = np.log(actual + 1)\n",
    "    \n",
    "    difference_square_mean = np.square(predict - actual).mean()\n",
    "    score = np.sqrt(difference_square_mean)\n",
    "    return score\n",
    "\n",
    "rmsle_scorer = make_scorer(rmsle)    #  make your own scoring function\n",
    "rmsle_scorer"
   ]
  },
  {
   "cell_type": "markdown",
   "metadata": {
    "id": "jb9NOYEZ6_wN"
   },
   "source": [
    "## selecting hyperparameters\n",
    "- Grid search\n",
    "- Random search"
   ]
  },
  {
   "cell_type": "markdown",
   "metadata": {
    "id": "jIPma9odXvfn"
   },
   "source": [
    "##### Grid search"
   ]
  },
  {
   "cell_type": "code",
   "execution_count": 38,
   "metadata": {
    "colab": {
     "base_uri": "https://localhost:8080/",
     "height": 748
    },
    "id": "Najht9c66_wP",
    "outputId": "99bbc9e5-1233-4b2d-bf3c-1ecd74815f83"
   },
   "outputs": [
    {
     "name": "stdout",
     "output_type": "stream",
     "text": [
      "Score = 0.16782\n",
      "Score = 0.12122\n",
      "Score = 0.09999\n",
      "Score = 0.09303\n",
      "Score = 0.09020\n",
      "Score = 0.14178\n",
      "Score = 0.10628\n",
      "Score = 0.09061\n",
      "Score = 0.08763\n",
      "Score = 0.08668\n",
      "Score = 0.14104\n",
      "Score = 0.10714\n",
      "Score = 0.09058\n",
      "Score = 0.08796\n",
      "Score = 0.08656\n",
      "Score = 0.14110\n",
      "Score = 0.10698\n",
      "Score = 0.09063\n",
      "Score = 0.08799\n",
      "Score = 0.08654\n",
      "Score = 0.14110\n",
      "Score = 0.10698\n",
      "Score = 0.09063\n",
      "Score = 0.08799\n",
      "Score = 0.08654\n"
     ]
    },
    {
     "data": {
      "text/plain": [
       "[{'score': 0.1678247426392651,\n",
       "  'n_estimators': 30,\n",
       "  'max_depth': 10,\n",
       "  'max_features': 0.1},\n",
       " {'score': 0.12121969165391336,\n",
       "  'n_estimators': 30,\n",
       "  'max_depth': 10,\n",
       "  'max_features': 0.3},\n",
       " {'score': 0.0999892642311582,\n",
       "  'n_estimators': 30,\n",
       "  'max_depth': 10,\n",
       "  'max_features': 0.5},\n",
       " {'score': 0.0930344702509344,\n",
       "  'n_estimators': 30,\n",
       "  'max_depth': 10,\n",
       "  'max_features': 0.7},\n",
       " {'score': 0.09019562183290611,\n",
       "  'n_estimators': 30,\n",
       "  'max_depth': 10,\n",
       "  'max_features': 0.9},\n",
       " {'score': 0.14178259641056523,\n",
       "  'n_estimators': 30,\n",
       "  'max_depth': 20,\n",
       "  'max_features': 0.1},\n",
       " {'score': 0.10628237963726324,\n",
       "  'n_estimators': 30,\n",
       "  'max_depth': 20,\n",
       "  'max_features': 0.3},\n",
       " {'score': 0.09060900687809773,\n",
       "  'n_estimators': 30,\n",
       "  'max_depth': 20,\n",
       "  'max_features': 0.5},\n",
       " {'score': 0.08762872150125432,\n",
       "  'n_estimators': 30,\n",
       "  'max_depth': 20,\n",
       "  'max_features': 0.7},\n",
       " {'score': 0.08667636773445055,\n",
       "  'n_estimators': 30,\n",
       "  'max_depth': 20,\n",
       "  'max_features': 0.9},\n",
       " {'score': 0.141036195071539,\n",
       "  'n_estimators': 30,\n",
       "  'max_depth': 30,\n",
       "  'max_features': 0.1},\n",
       " {'score': 0.10714256205135424,\n",
       "  'n_estimators': 30,\n",
       "  'max_depth': 30,\n",
       "  'max_features': 0.3},\n",
       " {'score': 0.09058464697328164,\n",
       "  'n_estimators': 30,\n",
       "  'max_depth': 30,\n",
       "  'max_features': 0.5},\n",
       " {'score': 0.08795886785029357,\n",
       "  'n_estimators': 30,\n",
       "  'max_depth': 30,\n",
       "  'max_features': 0.7},\n",
       " {'score': 0.08655830337215684,\n",
       "  'n_estimators': 30,\n",
       "  'max_depth': 30,\n",
       "  'max_features': 0.9},\n",
       " {'score': 0.14110407465713,\n",
       "  'n_estimators': 30,\n",
       "  'max_depth': 50,\n",
       "  'max_features': 0.1},\n",
       " {'score': 0.1069844000045483,\n",
       "  'n_estimators': 30,\n",
       "  'max_depth': 50,\n",
       "  'max_features': 0.3},\n",
       " {'score': 0.0906286050348815,\n",
       "  'n_estimators': 30,\n",
       "  'max_depth': 50,\n",
       "  'max_features': 0.5},\n",
       " {'score': 0.08798740895104547,\n",
       "  'n_estimators': 30,\n",
       "  'max_depth': 50,\n",
       "  'max_features': 0.7},\n",
       " {'score': 0.08653948703002193,\n",
       "  'n_estimators': 30,\n",
       "  'max_depth': 50,\n",
       "  'max_features': 0.9},\n",
       " {'score': 0.14110407465713004,\n",
       "  'n_estimators': 30,\n",
       "  'max_depth': 100,\n",
       "  'max_features': 0.1},\n",
       " {'score': 0.1069844000045483,\n",
       "  'n_estimators': 30,\n",
       "  'max_depth': 100,\n",
       "  'max_features': 0.3},\n",
       " {'score': 0.0906286050348815,\n",
       "  'n_estimators': 30,\n",
       "  'max_depth': 100,\n",
       "  'max_features': 0.5},\n",
       " {'score': 0.08798740895104548,\n",
       "  'n_estimators': 30,\n",
       "  'max_depth': 100,\n",
       "  'max_features': 0.7},\n",
       " {'score': 0.08653948703002193,\n",
       "  'n_estimators': 30,\n",
       "  'max_depth': 100,\n",
       "  'max_features': 0.9}]"
      ]
     },
     "execution_count": 38,
     "metadata": {},
     "output_type": "execute_result"
    }
   ],
   "source": [
    "# Grid Search for the random forest\n",
    "\n",
    "n_estimators = 30\n",
    "\n",
    "max_depth_list = [10, 20, 30, 50, 100]\n",
    "max_features_list = [0.1, 0.3, 0.5, 0.7,  0.9]\n",
    "\n",
    "hyperparameters_list = []\n",
    "\n",
    "for max_depth in max_depth_list:\n",
    "    for max_features in max_features_list:\n",
    "        model = RandomForestRegressor(n_estimators=n_estimators,\n",
    "                                      max_depth=max_depth,\n",
    "                                      max_features=max_features,\n",
    "                                      random_state=11,\n",
    "                                      n_jobs=-1)\n",
    "\n",
    "        score = cross_val_score(model, X_train, y_train, cv=5,\n",
    "                                scoring=rmsle_scorer).mean()\n",
    "\n",
    "        hyperparameters_list.append({\n",
    "            'score': score,\n",
    "            'n_estimators': n_estimators,\n",
    "            'max_depth': max_depth,\n",
    "            'max_features': max_features,\n",
    "        })\n",
    "\n",
    "        print(\"Score = {0:.5f}\".format(score))\n",
    "\n",
    "hyperparameters_list"
   ]
  },
  {
   "cell_type": "code",
   "execution_count": 39,
   "metadata": {
    "colab": {
     "base_uri": "https://localhost:8080/",
     "height": 207
    },
    "id": "sjBMQWVl6_wS",
    "outputId": "a9616d4d-31da-4895-f810-7157847d8310"
   },
   "outputs": [
    {
     "name": "stdout",
     "output_type": "stream",
     "text": [
      "(25, 4)\n"
     ]
    },
    {
     "data": {
      "text/html": [
       "<div>\n",
       "<style scoped>\n",
       "    .dataframe tbody tr th:only-of-type {\n",
       "        vertical-align: middle;\n",
       "    }\n",
       "\n",
       "    .dataframe tbody tr th {\n",
       "        vertical-align: top;\n",
       "    }\n",
       "\n",
       "    .dataframe thead th {\n",
       "        text-align: right;\n",
       "    }\n",
       "</style>\n",
       "<table border=\"1\" class=\"dataframe\">\n",
       "  <thead>\n",
       "    <tr style=\"text-align: right;\">\n",
       "      <th></th>\n",
       "      <th>score</th>\n",
       "      <th>n_estimators</th>\n",
       "      <th>max_depth</th>\n",
       "      <th>max_features</th>\n",
       "    </tr>\n",
       "  </thead>\n",
       "  <tbody>\n",
       "    <tr>\n",
       "      <th>24</th>\n",
       "      <td>0.086539</td>\n",
       "      <td>30</td>\n",
       "      <td>100</td>\n",
       "      <td>0.9</td>\n",
       "    </tr>\n",
       "    <tr>\n",
       "      <th>19</th>\n",
       "      <td>0.086539</td>\n",
       "      <td>30</td>\n",
       "      <td>50</td>\n",
       "      <td>0.9</td>\n",
       "    </tr>\n",
       "    <tr>\n",
       "      <th>14</th>\n",
       "      <td>0.086558</td>\n",
       "      <td>30</td>\n",
       "      <td>30</td>\n",
       "      <td>0.9</td>\n",
       "    </tr>\n",
       "    <tr>\n",
       "      <th>9</th>\n",
       "      <td>0.086676</td>\n",
       "      <td>30</td>\n",
       "      <td>20</td>\n",
       "      <td>0.9</td>\n",
       "    </tr>\n",
       "    <tr>\n",
       "      <th>8</th>\n",
       "      <td>0.087629</td>\n",
       "      <td>30</td>\n",
       "      <td>20</td>\n",
       "      <td>0.7</td>\n",
       "    </tr>\n",
       "  </tbody>\n",
       "</table>\n",
       "</div>"
      ],
      "text/plain": [
       "       score  n_estimators  max_depth  max_features\n",
       "24  0.086539            30        100           0.9\n",
       "19  0.086539            30         50           0.9\n",
       "14  0.086558            30         30           0.9\n",
       "9   0.086676            30         20           0.9\n",
       "8   0.087629            30         20           0.7"
      ]
     },
     "execution_count": 39,
     "metadata": {},
     "output_type": "execute_result"
    }
   ],
   "source": [
    "hyperparameters_list = pd.DataFrame.from_dict(hyperparameters_list)  # make dataframe from dictionary\n",
    "hyperparameters_list = hyperparameters_list.sort_values(by=\"score\")\n",
    "\n",
    "print(hyperparameters_list.shape)\n",
    "hyperparameters_list.head()"
   ]
  },
  {
   "cell_type": "markdown",
   "metadata": {
    "id": "GKDqE8isXvfn"
   },
   "source": [
    "##### Random search\n",
    "- 2 stages: random selection and fine tuning"
   ]
  },
  {
   "cell_type": "code",
   "execution_count": 40,
   "metadata": {
    "colab": {
     "base_uri": "https://localhost:8080/",
     "height": 370
    },
    "id": "-FRpjDfX6_wV",
    "outputId": "5f6d25a5-a99c-4c41-fea9-56647784650c"
   },
   "outputs": [
    {
     "name": "stdout",
     "output_type": "stream",
     "text": [
      "Score = 0.08673\n",
      "Score = 0.12227\n",
      "Score = 0.12227\n",
      "Score = 0.14013\n",
      "Score = 0.09152\n",
      "Score = 0.18747\n",
      "Score = 0.08869\n",
      "Score = 0.08962\n",
      "Score = 0.08869\n",
      "Score = 0.08761\n",
      "(10, 4)\n"
     ]
    },
    {
     "data": {
      "text/html": [
       "<div>\n",
       "<style scoped>\n",
       "    .dataframe tbody tr th:only-of-type {\n",
       "        vertical-align: middle;\n",
       "    }\n",
       "\n",
       "    .dataframe tbody tr th {\n",
       "        vertical-align: top;\n",
       "    }\n",
       "\n",
       "    .dataframe thead th {\n",
       "        text-align: right;\n",
       "    }\n",
       "</style>\n",
       "<table border=\"1\" class=\"dataframe\">\n",
       "  <thead>\n",
       "    <tr style=\"text-align: right;\">\n",
       "      <th></th>\n",
       "      <th>score</th>\n",
       "      <th>n_estimators</th>\n",
       "      <th>max_depth</th>\n",
       "      <th>max_features</th>\n",
       "    </tr>\n",
       "  </thead>\n",
       "  <tbody>\n",
       "    <tr>\n",
       "      <th>0</th>\n",
       "      <td>0.086729</td>\n",
       "      <td>30</td>\n",
       "      <td>76</td>\n",
       "      <td>0.804363</td>\n",
       "    </tr>\n",
       "    <tr>\n",
       "      <th>9</th>\n",
       "      <td>0.087607</td>\n",
       "      <td>30</td>\n",
       "      <td>82</td>\n",
       "      <td>0.708922</td>\n",
       "    </tr>\n",
       "    <tr>\n",
       "      <th>6</th>\n",
       "      <td>0.088695</td>\n",
       "      <td>30</td>\n",
       "      <td>79</td>\n",
       "      <td>0.575713</td>\n",
       "    </tr>\n",
       "    <tr>\n",
       "      <th>8</th>\n",
       "      <td>0.088695</td>\n",
       "      <td>30</td>\n",
       "      <td>74</td>\n",
       "      <td>0.577014</td>\n",
       "    </tr>\n",
       "    <tr>\n",
       "      <th>7</th>\n",
       "      <td>0.089616</td>\n",
       "      <td>30</td>\n",
       "      <td>12</td>\n",
       "      <td>0.700990</td>\n",
       "    </tr>\n",
       "  </tbody>\n",
       "</table>\n",
       "</div>"
      ],
      "text/plain": [
       "      score  n_estimators  max_depth  max_features\n",
       "0  0.086729            30         76      0.804363\n",
       "9  0.087607            30         82      0.708922\n",
       "6  0.088695            30         79      0.575713\n",
       "8  0.088695            30         74      0.577014\n",
       "7  0.089616            30         12      0.700990"
      ]
     },
     "execution_count": 40,
     "metadata": {},
     "output_type": "execute_result"
    }
   ],
   "source": [
    "# Random selection\n",
    "\n",
    "import numpy as np\n",
    "from sklearn.ensemble import RandomForestRegressor\n",
    "from sklearn.model_selection import cross_val_score\n",
    "\n",
    "hyperparameters_list = []\n",
    "\n",
    "n_estimators = 30\n",
    "num_epoch = 10\n",
    "\n",
    "for epoch in range(num_epoch):\n",
    "    max_depth = np.random.randint(low=2, high=100)\n",
    "    max_features = np.random.uniform(low=0.1, high=1.0)\n",
    "\n",
    "    model = RandomForestRegressor(n_estimators=n_estimators,\n",
    "                                  max_depth=max_depth,\n",
    "                                  max_features=max_features,\n",
    "                                  random_state=37,\n",
    "                                  n_jobs=-1)\n",
    "\n",
    "    score = cross_val_score(model, X_train, y_train, cv=5,\n",
    "                            scoring=rmsle_scorer).mean()\n",
    "\n",
    "    hyperparameters_list.append({\n",
    "        'score': score,\n",
    "        'n_estimators': n_estimators,\n",
    "        'max_depth': max_depth,\n",
    "        'max_features': max_features,\n",
    "    })\n",
    "\n",
    "    print(\"Score = {0:.5f}\".format(score))\n",
    "\n",
    "hyperparameters_list = pd.DataFrame.from_dict(hyperparameters_list)\n",
    "hyperparameters_list = hyperparameters_list.sort_values(by=\"score\")\n",
    "\n",
    "print(hyperparameters_list.shape)\n",
    "hyperparameters_list.head()"
   ]
  },
  {
   "cell_type": "code",
   "execution_count": 41,
   "metadata": {
    "id": "4xQ0dKO0Xvfn",
    "outputId": "1ac47072-2a07-4751-fd89-c573505780d6",
    "scrolled": true
   },
   "outputs": [
    {
     "data": {
      "text/plain": [
       "(8708, 11)"
      ]
     },
     "execution_count": 41,
     "metadata": {},
     "output_type": "execute_result"
    }
   ],
   "source": [
    "X_train.shape"
   ]
  },
  {
   "cell_type": "code",
   "execution_count": 42,
   "metadata": {
    "colab": {
     "base_uri": "https://localhost:8080/",
     "height": 370
    },
    "id": "PEB5_4xS6_wb",
    "outputId": "2a5a38f2-8757-43b3-d6f0-28295cb40b34"
   },
   "outputs": [
    {
     "name": "stdout",
     "output_type": "stream",
     "text": [
      "Score = 0.08761\n",
      "Score = 0.08640\n",
      "Score = 0.08761\n",
      "Score = 0.08640\n",
      "Score = 0.08642\n",
      "Score = 0.08640\n",
      "Score = 0.08640\n",
      "Score = 0.08658\n",
      "Score = 0.08869\n",
      "Score = 0.08642\n",
      "(10, 4)\n"
     ]
    },
    {
     "data": {
      "text/html": [
       "<div>\n",
       "<style scoped>\n",
       "    .dataframe tbody tr th:only-of-type {\n",
       "        vertical-align: middle;\n",
       "    }\n",
       "\n",
       "    .dataframe tbody tr th {\n",
       "        vertical-align: top;\n",
       "    }\n",
       "\n",
       "    .dataframe thead th {\n",
       "        text-align: right;\n",
       "    }\n",
       "</style>\n",
       "<table border=\"1\" class=\"dataframe\">\n",
       "  <thead>\n",
       "    <tr style=\"text-align: right;\">\n",
       "      <th></th>\n",
       "      <th>score</th>\n",
       "      <th>n_estimators</th>\n",
       "      <th>max_depth</th>\n",
       "      <th>max_features</th>\n",
       "    </tr>\n",
       "  </thead>\n",
       "  <tbody>\n",
       "    <tr>\n",
       "      <th>1</th>\n",
       "      <td>0.086401</td>\n",
       "      <td>30</td>\n",
       "      <td>54</td>\n",
       "      <td>0.839584</td>\n",
       "    </tr>\n",
       "    <tr>\n",
       "      <th>5</th>\n",
       "      <td>0.086401</td>\n",
       "      <td>30</td>\n",
       "      <td>69</td>\n",
       "      <td>0.894291</td>\n",
       "    </tr>\n",
       "    <tr>\n",
       "      <th>6</th>\n",
       "      <td>0.086401</td>\n",
       "      <td>30</td>\n",
       "      <td>68</td>\n",
       "      <td>0.835109</td>\n",
       "    </tr>\n",
       "    <tr>\n",
       "      <th>3</th>\n",
       "      <td>0.086401</td>\n",
       "      <td>30</td>\n",
       "      <td>85</td>\n",
       "      <td>0.868064</td>\n",
       "    </tr>\n",
       "    <tr>\n",
       "      <th>9</th>\n",
       "      <td>0.086418</td>\n",
       "      <td>30</td>\n",
       "      <td>31</td>\n",
       "      <td>0.862778</td>\n",
       "    </tr>\n",
       "    <tr>\n",
       "      <th>4</th>\n",
       "      <td>0.086418</td>\n",
       "      <td>30</td>\n",
       "      <td>31</td>\n",
       "      <td>0.859918</td>\n",
       "    </tr>\n",
       "    <tr>\n",
       "      <th>7</th>\n",
       "      <td>0.086583</td>\n",
       "      <td>30</td>\n",
       "      <td>87</td>\n",
       "      <td>0.930442</td>\n",
       "    </tr>\n",
       "    <tr>\n",
       "      <th>0</th>\n",
       "      <td>0.087607</td>\n",
       "      <td>30</td>\n",
       "      <td>89</td>\n",
       "      <td>0.642857</td>\n",
       "    </tr>\n",
       "    <tr>\n",
       "      <th>2</th>\n",
       "      <td>0.087607</td>\n",
       "      <td>30</td>\n",
       "      <td>68</td>\n",
       "      <td>0.681497</td>\n",
       "    </tr>\n",
       "    <tr>\n",
       "      <th>8</th>\n",
       "      <td>0.088695</td>\n",
       "      <td>30</td>\n",
       "      <td>85</td>\n",
       "      <td>0.547276</td>\n",
       "    </tr>\n",
       "  </tbody>\n",
       "</table>\n",
       "</div>"
      ],
      "text/plain": [
       "      score  n_estimators  max_depth  max_features\n",
       "1  0.086401            30         54      0.839584\n",
       "5  0.086401            30         69      0.894291\n",
       "6  0.086401            30         68      0.835109\n",
       "3  0.086401            30         85      0.868064\n",
       "9  0.086418            30         31      0.862778\n",
       "4  0.086418            30         31      0.859918\n",
       "7  0.086583            30         87      0.930442\n",
       "0  0.087607            30         89      0.642857\n",
       "2  0.087607            30         68      0.681497\n",
       "8  0.088695            30         85      0.547276"
      ]
     },
     "execution_count": 42,
     "metadata": {},
     "output_type": "execute_result"
    }
   ],
   "source": [
    "# fine search\n",
    "\n",
    "import numpy as np\n",
    "from sklearn.ensemble import RandomForestRegressor\n",
    "from sklearn.model_selection import cross_val_score\n",
    "\n",
    "hyperparameters_list = []\n",
    "\n",
    "n_estimators = 30\n",
    "num_epoch = 10\n",
    "\n",
    "for epoch in range(num_epoch):\n",
    "    max_depth = np.random.randint(low=30, high=90)\n",
    "    max_features = np.random.uniform(low=0.5, high=1.0)\n",
    "\n",
    "    model = RandomForestRegressor(n_estimators=n_estimators,\n",
    "                                  max_depth=max_depth,\n",
    "                                  max_features=max_features,\n",
    "                                  random_state=37,\n",
    "                                  n_jobs=-1)\n",
    "\n",
    "    score = cross_val_score(model, X_train, y_train, cv=5,\n",
    "                            scoring=rmsle_scorer).mean()\n",
    "\n",
    "    hyperparameters_list.append({\n",
    "        'score': score,\n",
    "        'n_estimators': n_estimators,\n",
    "        'max_depth': max_depth,\n",
    "        'max_features': max_features,\n",
    "    })\n",
    "\n",
    "    print(\"Score = {0:.5f}\".format(score))\n",
    "\n",
    "hyperparameters_list = pd.DataFrame.from_dict(hyperparameters_list)\n",
    "hyperparameters_list = hyperparameters_list.sort_values(by=\"score\")\n",
    "\n",
    "print(hyperparameters_list.shape)\n",
    "hyperparameters_list"
   ]
  },
  {
   "cell_type": "code",
   "execution_count": 43,
   "metadata": {
    "colab": {
     "base_uri": "https://localhost:8080/",
     "height": 115
    },
    "id": "2jd93hCn6_wi",
    "outputId": "5a870e7b-58d0-4664-b6e9-531eecb2b1d0"
   },
   "outputs": [
    {
     "name": "stdout",
     "output_type": "stream",
     "text": [
      "Score = 0.08499\n"
     ]
    }
   ],
   "source": [
    "# final selection of hyperparameters (최종모델 선택)\n",
    "\n",
    "from sklearn.ensemble import RandomForestRegressor\n",
    "\n",
    "model = RandomForestRegressor(n_estimators=300,\n",
    "                              max_depth=65,\n",
    "                              max_features=0.9309,\n",
    "                              random_state=37,\n",
    "                              n_jobs=-1)\n",
    "model.fit(X_train, y_train)\n",
    "score = cross_val_score(model, X_train, y_train, cv=5,\n",
    "                        scoring=rmsle_scorer).mean()\n",
    "print(\"Score = {0:.5f}\".format(score))"
   ]
  },
  {
   "cell_type": "markdown",
   "metadata": {
    "id": "dEYPDvKn6_wt"
   },
   "source": [
    "#### Most significant features"
   ]
  },
  {
   "cell_type": "code",
   "execution_count": 44,
   "metadata": {
    "id": "0kCeoi1DXvfn",
    "outputId": "85bac500-df26-40ac-f0af-10136adba5df"
   },
   "outputs": [
    {
     "data": {
      "text/plain": [
       "array([0.02895014, 0.00159298, 0.03771286, 0.01074947, 0.04924549,\n",
       "       0.02964683, 0.02133926, 0.01119758, 0.03024815, 0.75071977,\n",
       "       0.02859746])"
      ]
     },
     "execution_count": 44,
     "metadata": {},
     "output_type": "execute_result"
    }
   ],
   "source": [
    "model.feature_importances_    # he higher, the more important the feature."
   ]
  },
  {
   "cell_type": "code",
   "execution_count": 45,
   "metadata": {
    "colab": {
     "base_uri": "https://localhost:8080/",
     "height": 442
    },
    "id": "LF_ik_es6_w-",
    "outputId": "dcacc195-3c56-4ec5-97ef-ebeae3dc06be"
   },
   "outputs": [
    {
     "data": {
      "image/png": "[encoded data removed]",
      "text/plain": [
       "<Figure size 720x504 with 1 Axes>"
      ]
     },
     "metadata": {
      "needs_background": "light"
     },
     "output_type": "display_data"
    }
   ],
   "source": [
    "df = pd.DataFrame({'feature':features,'importance':model.feature_importances_ }) \n",
    "df=df.sort_values('importance', ascending=False)\n",
    "x = df.feature\n",
    "y = df.importance\n",
    "ypos = np.arange(len(x))\n",
    "plt.figure(figsize=(10,7))\n",
    "plt.barh(x, y)\n",
    "plt.yticks(ypos, x)\n",
    "plt.xlabel('Importance')\n",
    "plt.ylabel('Variable')\n",
    "plt.xlim(0, 1)\n",
    "plt.ylim(-1, len(x))\n",
    "plt.show()"
   ]
  },
  {
   "cell_type": "code",
   "execution_count": 46,
   "metadata": {
    "id": "DP8r8NYJCcKo"
   },
   "outputs": [],
   "source": [
    "## GridSearchCV() function"
   ]
  },
  {
   "cell_type": "code",
   "execution_count": 47,
   "metadata": {
    "id": "g432BuFsXvfn",
    "outputId": "aa28f779-fffb-4e3b-975a-7090414f30f6"
   },
   "outputs": [
    {
     "name": "stdout",
     "output_type": "stream",
     "text": [
      "(8708, 11) (2178, 11) (8708,) (2178,)\n"
     ]
    }
   ],
   "source": [
    "print(X_train.shape, X_test.shape, y_train.shape, y_test.shape)"
   ]
  },
  {
   "cell_type": "code",
   "execution_count": 48,
   "metadata": {
    "id": "ap_IdxEDXvfn",
    "outputId": "6aeed295-b582-477e-be1e-8a5ded8b5bc8"
   },
   "outputs": [
    {
     "data": {
      "text/plain": [
       "0.9588311698510292"
      ]
     },
     "execution_count": 48,
     "metadata": {},
     "output_type": "execute_result"
    }
   ],
   "source": [
    "rcf = RandomForestRegressor(n_estimators=100)\n",
    "rcf.fit(X_train, y_train)\n",
    "rcf.score(X_test, y_test)"
   ]
  },
  {
   "cell_type": "markdown",
   "metadata": {
    "id": "0fneYrKUXvfn"
   },
   "source": [
    "# GridSearchCV()\n",
    "- Exhaustive search over specified parameter values for an estimator.\n",
    "- it implements a “fit” and a “score” method. It also implements “predict”, “predict_proba”, “decision_function”, \n",
    " “transform” and “inverse_transform” if they are implemented in the estimator used.\n",
    "- The parameters of the estimator used to apply these methods are optimized by cross-validated grid-search over a parameter grid.\n",
    "- 그리드 탐색과 교차 검증을 동시에 수행"
   ]
  },
  {
   "cell_type": "code",
   "execution_count": 51,
   "metadata": {
    "id": "uUIgYsbRXvfn",
    "outputId": "ad93a5b2-13a5-4b40-cb91-0ebe9fe65e61"
   },
   "outputs": [
    {
     "name": "stdout",
     "output_type": "stream",
     "text": [
      "best values:  RandomForestRegressor(max_depth=30, max_features=0.9)\n",
      "best score:  0.9470120965924363\n",
      "final score:  0.9592947383877807\n"
     ]
    }
   ],
   "source": [
    "from sklearn.model_selection import GridSearchCV\n",
    "\n",
    "params = [{\"max_depth\":[10, 20, 30], \n",
    "           \"max_features\":[0.3, 0.5, 0.9]}]\n",
    "\n",
    "# grid search\n",
    "clf = GridSearchCV(RandomForestRegressor(), params, cv=3, n_jobs=-1)\n",
    "clf.fit(X_train, y_train)\n",
    "print(\"best values: \", clf.best_estimator_)\n",
    "print(\"best score: \", clf.best_score_)\n",
    "\n",
    "# final evaluation on test data\n",
    "score = clf.score(X_test, y_test)\n",
    "print(\"final score: \", score)"
   ]
  },
  {
   "cell_type": "markdown",
   "metadata": {
    "id": "0Zar9LcSXvfn"
   },
   "source": [
    "# RandomizedSearchCV() function\n",
    "- In contrast to GridSearchCV, not all parameter values are tried out, but rather a fixed number \n",
    "of parameter settings is sampled from the specified distributions. The number of parameter settings\n",
    "that are tried is given by n_iter."
   ]
  },
  {
   "cell_type": "code",
   "execution_count": 52,
   "metadata": {
    "id": "ta5KTZI-Xvfn",
    "outputId": "6a79da69-de09-4719-bf37-4e0d5e2ae029"
   },
   "outputs": [
    {
     "name": "stdout",
     "output_type": "stream",
     "text": [
      "{'n_estimators': 1000, 'min_samples_split': 5, 'min_samples_leaf': 1, 'max_features': 'auto', 'max_depth': 30, 'bootstrap': True} RandomForestRegressor(max_depth=30, min_samples_split=5, n_estimators=1000) 0.9467102376679236\n",
      "0.9593097695904855\n"
     ]
    }
   ],
   "source": [
    "from sklearn.model_selection import RandomizedSearchCV\n",
    "\n",
    "n_estimators = [int(x) for x in np.linspace(start = 200, stop = 2000, num = 10)]\n",
    "max_features = ['auto', 'sqrt']\n",
    "max_depth = [int(x) for x in np.linspace(10, 110, num = 11)]\n",
    "max_depth.append(None)\n",
    "min_samples_split = [2, 5, 10]\n",
    "min_samples_leaf = [1, 2, 4]\n",
    "bootstrap = [True, False]\n",
    "\n",
    "random_grid = {'n_estimators': n_estimators,\n",
    "               'max_features': max_features,\n",
    "               'max_depth': max_depth,\n",
    "               'min_samples_split': min_samples_split,\n",
    "               'min_samples_leaf': min_samples_leaf,\n",
    "               'bootstrap': bootstrap}\n",
    "\n",
    "rf = RandomizedSearchCV(RandomForestRegressor(), random_grid, \n",
    "                               cv = 3, n_jobs = -1)\n",
    "# Fit the random search model\n",
    "rf.fit(X_train, y_train)\n",
    "\n",
    "print(rf.best_params_, rf.best_estimator_, rf.best_score_)\n",
    "score = rf.score(X_test, y_test)\n",
    "print(score)"
   ]
  }
 ],
 "metadata": {
  "accelerator": "GPU",
  "colab": {
   "collapsed_sections": [],
   "name": "lab38_hyperparameter_rev1.ipynb",
   "provenance": []
  },
  "kernelspec": {
   "display_name": "Python 3",
   "language": "python",
   "name": "python3"
  },
  "language_info": {
   "codemirror_mode": {
    "name": "ipython",
    "version": 3
   },
   "file_extension": ".py",
   "mimetype": "text/x-python",
   "name": "python",
   "nbconvert_exporter": "python",
   "pygments_lexer": "ipython3",
   "version": "3.8.3"
  }
 },
 "nbformat": 4,
 "nbformat_minor": 1
}
