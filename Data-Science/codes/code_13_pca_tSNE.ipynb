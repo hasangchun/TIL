{
 "cells": [
  {
   "cell_type": "markdown",
   "metadata": {},
   "source": [
    "# Dimensionality Reduction\n",
    "- Feature Elimination: You reduce the feature space by eliminating features. This has a disadvantage though, as you gain no information from those features that you have dropped.\n",
    "- Feature Selection: You apply some statistical tests in order to rank them according to their importance and then select a subset of features for your work. This again suffers from information loss and is less stable as different test gives different importance score to features. \n",
    "- Feature Extraction: You create new independent features, where each new independent feature is a combination of each of the old independent features. These techniques can further be divided into linear and non-linear dimensionality reduction techniques.\n",
    "- tSNE and PCA are feature extraction\n",
    "- https://www.datacamp.com/community/tutorials/introduction-t-sne?utm_source=adwords_ppc&utm_campaignid=1455363063&utm_adgroupid=65083631748&utm_device=c&utm_keyword=&utm_matchtype=b&utm_network=g&utm_adpostion=&utm_creative=278443377086&utm_targetid=aud-299261629574:dsa-429603003980&utm_loc_interest_ms=&utm_loc_physical_ms=1009871&gclid=CjwKCAjwtNf6BRAwEiwAkt6UQn9Fh31RQWu68b19VdBqQhZWcl_EiKf-R1fW_5heDab7jEZLOYWqOxoCvHoQAvD_BwE"
   ]
  },
  {
   "cell_type": "markdown",
   "metadata": {
    "colab_type": "text",
    "id": "8EfCzUpYuJEB"
   },
   "source": [
    "# PCA (Principal Component Analysis)\n",
    "- breastcancer example\n",
    "- use some important data only (about 30%), SelectPercentile\n",
    "- tSNE "
   ]
  },
  {
   "cell_type": "code",
   "execution_count": 1,
   "metadata": {
    "colab": {},
    "colab_type": "code",
    "id": "h4bBPfhCuJED"
   },
   "outputs": [],
   "source": [
    "import numpy as np\n",
    "import pandas as pd\n",
    "from sklearn.datasets import load_breast_cancer\n",
    "from sklearn.model_selection import train_test_split, cross_val_score\n",
    "from sklearn.ensemble import RandomForestClassifier \n",
    "\n",
    "from sklearn.feature_selection import SelectPercentile, chi2\n",
    "from sklearn.preprocessing import StandardScaler\n",
    "from sklearn.decomposition import PCA \n",
    "from sklearn.manifold import TSNE\n",
    "from matplotlib import pyplot as plt\n",
    "import seaborn as sns\n",
    "%matplotlib inline"
   ]
  },
  {
   "cell_type": "code",
   "execution_count": 2,
   "metadata": {
    "colab": {},
    "colab_type": "code",
    "id": "xq-skYDIuJEI"
   },
   "outputs": [],
   "source": [
    "cancer = load_breast_cancer()\n",
    "X_all = cancer.data\n",
    "y = cancer.target \n",
    "X_all = StandardScaler().fit_transform(X_all)"
   ]
  },
  {
   "cell_type": "code",
   "execution_count": 3,
   "metadata": {
    "colab": {
     "base_uri": "https://localhost:8080/",
     "height": 35
    },
    "colab_type": "code",
    "executionInfo": {
     "elapsed": 1243,
     "status": "ok",
     "timestamp": 1559890605566,
     "user": {
      "displayName": "김화종",
      "photoUrl": "https://lh4.googleusercontent.com/-sR-MVK_KsAg/AAAAAAAAAAI/AAAAAAAALbE/3e3Eq9nrGuw/s64/photo.jpg",
      "userId": "17353049580175403985"
     },
     "user_tz": -540
    },
    "id": "o6D8iWQGuJEL",
    "outputId": "80122ff2-70dd-4170-9e64-573da8536467"
   },
   "outputs": [
    {
     "data": {
      "text/plain": [
       "(569, 30)"
      ]
     },
     "execution_count": 3,
     "metadata": {},
     "output_type": "execute_result"
    }
   ],
   "source": [
    "X_all.shape"
   ]
  },
  {
   "cell_type": "code",
   "execution_count": 4,
   "metadata": {
    "colab": {
     "base_uri": "https://localhost:8080/",
     "height": 190
    },
    "colab_type": "code",
    "executionInfo": {
     "elapsed": 489,
     "status": "ok",
     "timestamp": 1559890606812,
     "user": {
      "displayName": "김화종",
      "photoUrl": "https://lh4.googleusercontent.com/-sR-MVK_KsAg/AAAAAAAAAAI/AAAAAAAALbE/3e3Eq9nrGuw/s64/photo.jpg",
      "userId": "17353049580175403985"
     },
     "user_tz": -540
    },
    "id": "Yc6IVgq4uJER",
    "outputId": "e8c3510d-5df6-46fa-8d98-3cb15f23db32"
   },
   "outputs": [
    {
     "data": {
      "text/plain": [
       "array(['mean radius', 'mean texture', 'mean perimeter', 'mean area',\n",
       "       'mean smoothness', 'mean compactness', 'mean concavity',\n",
       "       'mean concave points', 'mean symmetry', 'mean fractal dimension',\n",
       "       'radius error', 'texture error', 'perimeter error', 'area error',\n",
       "       'smoothness error', 'compactness error', 'concavity error',\n",
       "       'concave points error', 'symmetry error',\n",
       "       'fractal dimension error', 'worst radius', 'worst texture',\n",
       "       'worst perimeter', 'worst area', 'worst smoothness',\n",
       "       'worst compactness', 'worst concavity', 'worst concave points',\n",
       "       'worst symmetry', 'worst fractal dimension'], dtype='<U23')"
      ]
     },
     "execution_count": 4,
     "metadata": {},
     "output_type": "execute_result"
    }
   ],
   "source": [
    "cancer.feature_names"
   ]
  },
  {
   "cell_type": "markdown",
   "metadata": {
    "colab_type": "text",
    "id": "ff3BlI3DuJEV"
   },
   "source": [
    "## when using all 30 features"
   ]
  },
  {
   "cell_type": "code",
   "execution_count": 5,
   "metadata": {
    "colab": {},
    "colab_type": "code",
    "id": "LYiqPUqrudlE"
   },
   "outputs": [],
   "source": [
    "rfc = RandomForestClassifier(n_estimators=200)"
   ]
  },
  {
   "cell_type": "code",
   "execution_count": 6,
   "metadata": {
    "colab": {
     "base_uri": "https://localhost:8080/",
     "height": 35
    },
    "colab_type": "code",
    "executionInfo": {
     "elapsed": 2211,
     "status": "ok",
     "timestamp": 1559890654271,
     "user": {
      "displayName": "김화종",
      "photoUrl": "https://lh4.googleusercontent.com/-sR-MVK_KsAg/AAAAAAAAAAI/AAAAAAAALbE/3e3Eq9nrGuw/s64/photo.jpg",
      "userId": "17353049580175403985"
     },
     "user_tz": -540
    },
    "id": "Y8khE-51uJEW",
    "outputId": "488e72c6-73c0-4b2e-8a70-cf2628c661c8",
    "scrolled": true
   },
   "outputs": [
    {
     "data": {
      "text/plain": [
       "0.9579"
      ]
     },
     "execution_count": 6,
     "metadata": {},
     "output_type": "execute_result"
    }
   ],
   "source": [
    "## 교차검증\n",
    "cross_val_score(rfc, X_all, y, cv=5).mean().round(4)"
   ]
  },
  {
   "cell_type": "markdown",
   "metadata": {},
   "source": [
    "### Feature Selection: importance of feature selection:\n",
    "- It enables the machine learning algorithm to train faster.\n",
    "- It reduces the complexity of a model and makes it easier to interpret.\n",
    "- It improves the accuracy of a model if the right subset is chosen.\n",
    "- It reduces Overfitting."
   ]
  },
  {
   "cell_type": "markdown",
   "metadata": {},
   "source": [
    "### Chi-squared statistics : \n",
    "- 상관관계를 계산하여 우연히 어떤 관계가 발생한 것인지 아니면 충분히 연관성이 있는지 알려주는 방법."
   ]
  },
  {
   "cell_type": "markdown",
   "metadata": {
    "colab_type": "text",
    "id": "sWaKowWbuJEa"
   },
   "source": [
    "## 6개의 특성만 사용하는 경우"
   ]
  },
  {
   "cell_type": "markdown",
   "metadata": {},
   "source": [
    "### SelectPercentile():\n",
    "- SelectPercentile(score_func, percentile): Select features according to a percentile \n",
    "of the highest scores.\n",
    "- score_func : callable Function taking two arrays X and y, and returning a pair of arrays (scores, pvalues) or a single array with scores. Default is f_classif. The default function only works with classification tasks.\n",
    "- percentile : int, optional, default=10, Percent of features to keep."
   ]
  },
  {
   "cell_type": "markdown",
   "metadata": {},
   "source": [
    "- chi-square test: 두 불연속변수간의 상관관계를 측정하는 통계적 기법이다. 카이스퀘어 테스트를 이용하여 귀무가설을 기초로 기대빈도를 계산하여 두 개 이상의 데이터 세트의 관찰빈도가 통계적으로 유의미한지를 측정한다. 테스트 결과에서 P value가 유의수준보다 낮으면 귀무가설은 기각되며, 반대인 경우 귀무가설은 채택된다."
   ]
  },
  {
   "cell_type": "code",
   "execution_count": 43,
   "metadata": {},
   "outputs": [],
   "source": [
    "# fs = SelectPercentile(feature_selection.chi2, percentile = 20) # 영향력이 큰 상위 20% 만\n",
    "# fs.fit(cancer.data, y)\n",
    "# fs.get_support()"
   ]
  },
  {
   "cell_type": "code",
   "execution_count": 7,
   "metadata": {
    "colab": {
     "base_uri": "https://localhost:8080/",
     "height": 52
    },
    "colab_type": "code",
    "executionInfo": {
     "elapsed": 901,
     "status": "ok",
     "timestamp": 1559890736130,
     "user": {
      "displayName": "김화종",
      "photoUrl": "https://lh4.googleusercontent.com/-sR-MVK_KsAg/AAAAAAAAAAI/AAAAAAAALbE/3e3Eq9nrGuw/s64/photo.jpg",
      "userId": "17353049580175403985"
     },
     "user_tz": -540
    },
    "id": "-sBVJF96uJEb",
    "outputId": "11a72afb-7fe9-43c0-ac71-1a6a43ff9fa7"
   },
   "outputs": [],
   "source": [
    "fs = SelectPercentile(chi2, percentile = 20)\n",
    "sc = StandardScaler()\n",
    "X_P = fs.fit_transform(cancer.data, y)\n",
    "X_P = sc.fit_transform(X_P)"
   ]
  },
  {
   "cell_type": "code",
   "execution_count": 8,
   "metadata": {
    "scrolled": false
   },
   "outputs": [
    {
     "data": {
      "text/plain": [
       "array([False, False,  True,  True, False, False, False, False, False,\n",
       "       False, False, False, False,  True, False, False, False, False,\n",
       "       False, False,  True, False,  True,  True, False, False, False,\n",
       "       False, False, False])"
      ]
     },
     "execution_count": 8,
     "metadata": {},
     "output_type": "execute_result"
    }
   ],
   "source": [
    "fs.get_support()   # 20% - 6개"
   ]
  },
  {
   "cell_type": "code",
   "execution_count": 9,
   "metadata": {},
   "outputs": [
    {
     "data": {
      "text/plain": [
       "(array([2.66104917e+02, 9.38975081e+01, 2.01110286e+03, 5.39916559e+04,\n",
       "        1.49899264e-01, 5.40307549e+00, 1.97123536e+01, 1.05440354e+01,\n",
       "        2.57379775e-01, 7.43065536e-05, 3.46752472e+01, 9.79353970e-03,\n",
       "        2.50571896e+02, 8.75850471e+03, 3.26620664e-03, 6.13785332e-01,\n",
       "        1.04471761e+00, 3.05231563e-01, 8.03633831e-05, 6.37136566e-03,\n",
       "        4.91689157e+02, 1.74449400e+02, 3.66503542e+03, 1.12598432e+05,\n",
       "        3.97365694e-01, 1.93149220e+01, 3.95169151e+01, 1.34854195e+01,\n",
       "        1.29886140e+00, 2.31522407e-01]),\n",
       " array([8.01397628e-060, 3.32292194e-022, 0.00000000e+000, 0.00000000e+000,\n",
       "        6.98631644e-001, 2.01012999e-002, 9.00175712e-006, 1.16563638e-003,\n",
       "        6.11926026e-001, 9.93122221e-001, 3.89553429e-009, 9.21168192e-001,\n",
       "        1.94877489e-056, 0.00000000e+000, 9.54425121e-001, 4.33366115e-001,\n",
       "        3.06726812e-001, 5.80621137e-001, 9.92847410e-001, 9.36379753e-001,\n",
       "        6.11324751e-109, 7.89668299e-040, 0.00000000e+000, 0.00000000e+000,\n",
       "        5.28452867e-001, 1.10836762e-005, 3.25230064e-010, 2.40424384e-004,\n",
       "        2.54421307e-001, 6.30397277e-001]))"
      ]
     },
     "execution_count": 9,
     "metadata": {},
     "output_type": "execute_result"
    }
   ],
   "source": [
    "fs.scores_, fs.pvalues_"
   ]
  },
  {
   "cell_type": "code",
   "execution_count": 10,
   "metadata": {},
   "outputs": [
    {
     "data": {
      "text/plain": [
       "array([23,  3, 13, 22,  2, 20,  0, 12, 21,  1, 26, 10,  6, 25, 27,  7,  5,\n",
       "       28, 16, 15, 24, 17,  8, 29,  4, 11, 19, 14, 18,  9], dtype=int64)"
      ]
     },
     "execution_count": 10,
     "metadata": {},
     "output_type": "execute_result"
    }
   ],
   "source": [
    "np.array(fs.scores_).argsort()[::-1]"
   ]
  },
  {
   "cell_type": "code",
   "execution_count": 11,
   "metadata": {},
   "outputs": [
    {
     "data": {
      "text/plain": [
       "array(['worst area', 'mean area'], dtype='<U23')"
      ]
     },
     "execution_count": 11,
     "metadata": {},
     "output_type": "execute_result"
    }
   ],
   "source": [
    "cancer.feature_names[[23,3]]"
   ]
  },
  {
   "cell_type": "code",
   "execution_count": 12,
   "metadata": {
    "colab": {
     "base_uri": "https://localhost:8080/",
     "height": 52
    },
    "colab_type": "code",
    "executionInfo": {
     "elapsed": 901,
     "status": "ok",
     "timestamp": 1559890736130,
     "user": {
      "displayName": "김화종",
      "photoUrl": "https://lh4.googleusercontent.com/-sR-MVK_KsAg/AAAAAAAAAAI/AAAAAAAALbE/3e3Eq9nrGuw/s64/photo.jpg",
      "userId": "17353049580175403985"
     },
     "user_tz": -540
    },
    "id": "-sBVJF96uJEb",
    "outputId": "11a72afb-7fe9-43c0-ac71-1a6a43ff9fa7"
   },
   "outputs": [
    {
     "data": {
      "text/plain": [
       "array(['mean perimeter', 'mean area', 'area error', 'worst radius',\n",
       "       'worst perimeter', 'worst area'], dtype='<U23')"
      ]
     },
     "execution_count": 12,
     "metadata": {},
     "output_type": "execute_result"
    }
   ],
   "source": [
    "cancer.feature_names[fs.get_support()]"
   ]
  },
  {
   "cell_type": "code",
   "execution_count": 13,
   "metadata": {
    "colab": {},
    "colab_type": "code",
    "id": "7h845znquJEe",
    "outputId": "486daf1a-e075-4690-d4b8-704dbf787b13"
   },
   "outputs": [
    {
     "data": {
      "text/plain": [
       "0.928"
      ]
     },
     "execution_count": 13,
     "metadata": {},
     "output_type": "execute_result"
    }
   ],
   "source": [
    "cross_val_score(rfc, X_P, y).mean().round(4)"
   ]
  },
  {
   "cell_type": "markdown",
   "metadata": {
    "colab_type": "text",
    "id": "c1oEerlcuJEi"
   },
   "source": [
    "## 2개의 특성만 사용하는 경우"
   ]
  },
  {
   "cell_type": "code",
   "execution_count": 14,
   "metadata": {
    "colab": {},
    "colab_type": "code",
    "id": "N5g9oG5quJEi",
    "outputId": "65fe2ff8-66a2-4094-ee85-d5f7f3f292a5"
   },
   "outputs": [
    {
     "data": {
      "text/plain": [
       "array(['mean area', 'worst area'], dtype='<U23')"
      ]
     },
     "execution_count": 14,
     "metadata": {},
     "output_type": "execute_result"
    }
   ],
   "source": [
    "# 상위 6%의 유효한 특성만 선택 )\n",
    "fs = SelectPercentile(chi2, percentile = 6)\n",
    "X_P = fs.fit_transform(cancer.data, y)\n",
    "X_P = sc.fit_transform(X_P)\n",
    "cancer.feature_names[fs.get_support()]"
   ]
  },
  {
   "cell_type": "code",
   "execution_count": 16,
   "metadata": {
    "colab": {},
    "colab_type": "code",
    "id": "XhQQI62XuJEm",
    "outputId": "47225e83-4d8c-4d0b-f529-515c26d6966f"
   },
   "outputs": [
    {
     "data": {
      "text/plain": [
       "((569, 30), (569, 2))"
      ]
     },
     "execution_count": 16,
     "metadata": {},
     "output_type": "execute_result"
    }
   ],
   "source": [
    "cancer.data.shape, X_P.shape"
   ]
  },
  {
   "cell_type": "code",
   "execution_count": 17,
   "metadata": {
    "colab": {},
    "colab_type": "code",
    "id": "au31ICV-uJEq",
    "outputId": "459f4904-db2f-4a04-84d9-db87bb7f2f3d"
   },
   "outputs": [
    {
     "data": {
      "text/plain": [
       "0.9174"
      ]
     },
     "execution_count": 17,
     "metadata": {},
     "output_type": "execute_result"
    }
   ],
   "source": [
    "cross_val_score(rfc, X_P, y).mean().round(4)"
   ]
  },
  {
   "cell_type": "markdown",
   "metadata": {
    "colab_type": "text",
    "id": "649U7hdruJEu"
   },
   "source": [
    "## PCA로 두개의 차원만 사용하는 경우"
   ]
  },
  {
   "cell_type": "code",
   "execution_count": 18,
   "metadata": {
    "colab": {},
    "colab_type": "code",
    "id": "vJpDqpqvuJEv"
   },
   "outputs": [],
   "source": [
    "pca = PCA(n_components=2)\n",
    "pca_result = pca.fit_transform(X_all)"
   ]
  },
  {
   "cell_type": "code",
   "execution_count": 20,
   "metadata": {},
   "outputs": [
    {
     "data": {
      "text/plain": [
       "array([[ 9.19283683,  1.94858307],\n",
       "       [ 2.3878018 , -3.76817174],\n",
       "       [ 5.73389628, -1.0751738 ],\n",
       "       ...,\n",
       "       [ 1.25617928, -1.90229671],\n",
       "       [10.37479406,  1.6720101 ],\n",
       "       [-5.4752433 , -0.67063679]])"
      ]
     },
     "execution_count": 20,
     "metadata": {},
     "output_type": "execute_result"
    }
   ],
   "source": [
    "\"\"\" \n",
    "after dimensionality reduction, there usually isn’t a particular\n",
    "meaning assigned to each principal component. The new components are \n",
    "just the two main dimensions of variation.\n",
    "\"\"\"\n",
    "pca_result "
   ]
  },
  {
   "cell_type": "code",
   "execution_count": 21,
   "metadata": {
    "colab": {},
    "colab_type": "code",
    "id": "5wkRsHLUuJEy",
    "outputId": "62123cab-ea48-47fe-da4f-1230e4909151"
   },
   "outputs": [
    {
     "data": {
      "image/png": "[encoded data removed]",
      "text/plain": [
       "<Figure size 576x432 with 1 Axes>"
      ]
     },
     "metadata": {
      "needs_background": "light"
     },
     "output_type": "display_data"
    }
   ],
   "source": [
    "m = ['v', 'o']\n",
    "c = ['r','b']\n",
    "plt.figure(figsize=(8,6))\n",
    "for i in range(len(y)):\n",
    "    plt.scatter(pca_result[:,0][i],pca_result[:,1][i], marker=m[y[i]], c=c[y[i]], s=5)\n",
    "plt.show()"
   ]
  },
  {
   "cell_type": "code",
   "execution_count": 22,
   "metadata": {
    "colab": {},
    "colab_type": "code",
    "id": "BybjlXpnuJE6",
    "outputId": "61e46808-39bb-4d26-f841-70f52cd4da95"
   },
   "outputs": [
    {
     "data": {
      "text/plain": [
       "array([[ 0.219,  0.104,  0.228,  0.221,  0.143,  0.239,  0.258,  0.261,\n",
       "         0.138,  0.064,  0.206,  0.017,  0.211,  0.203,  0.015,  0.17 ,\n",
       "         0.154,  0.183,  0.042,  0.103,  0.228,  0.104,  0.237,  0.225,\n",
       "         0.128,  0.21 ,  0.229,  0.251,  0.123,  0.132],\n",
       "       [-0.234, -0.06 , -0.215, -0.231,  0.186,  0.152,  0.06 , -0.035,\n",
       "         0.19 ,  0.367, -0.106,  0.09 , -0.089, -0.152,  0.204,  0.233,\n",
       "         0.197,  0.13 ,  0.184,  0.28 , -0.22 , -0.045, -0.2  , -0.219,\n",
       "         0.172,  0.144,  0.098, -0.008,  0.142,  0.275]])"
      ]
     },
     "execution_count": 22,
     "metadata": {},
     "output_type": "execute_result"
    }
   ],
   "source": [
    "pca.components_.round(3) # 기존의 30개의 특성에 각각 어떤 가중치를 곱했는지 파악"
   ]
  },
  {
   "cell_type": "code",
   "execution_count": 23,
   "metadata": {
    "colab": {},
    "colab_type": "code",
    "id": "HDmFt3jpuJFA",
    "outputId": "0413dc56-c7be-47d6-c8dd-73ab1bc4ffe5"
   },
   "outputs": [
    {
     "data": {
      "text/plain": [
       "(array([0.44272026, 0.18971182]), 0.6324320765155947)"
      ]
     },
     "execution_count": 23,
     "metadata": {},
     "output_type": "execute_result"
    }
   ],
   "source": [
    "pca.explained_variance_ratio_, sum(pca.explained_variance_ratio_) # 각 주성분 요소들이 얼마나 데이터를\n",
    "                                                                  # 잘 설명하는지 파악"
   ]
  },
  {
   "cell_type": "markdown",
   "metadata": {
    "colab_type": "text",
    "id": "UOqII4d_uJFE"
   },
   "source": [
    "## 2개의 주성분만 사용하여 분류를 수행"
   ]
  },
  {
   "cell_type": "code",
   "execution_count": 24,
   "metadata": {
    "colab": {},
    "colab_type": "code",
    "id": "KVKMqsOEuJFF",
    "outputId": "ce9e83c8-13aa-4b2c-a179-65ecb8cc8a20"
   },
   "outputs": [
    {
     "data": {
      "text/plain": [
       "0.9315"
      ]
     },
     "execution_count": 24,
     "metadata": {},
     "output_type": "execute_result"
    }
   ],
   "source": [
    "cross_val_score(rfc, pca_result, y, cv=5).mean().round(4)"
   ]
  },
  {
   "cell_type": "markdown",
   "metadata": {
    "colab_type": "text",
    "id": "ve1r8Ep0uJFK"
   },
   "source": [
    "## 6개의 주성분만 사용하여 분류를 수행"
   ]
  },
  {
   "cell_type": "code",
   "execution_count": 27,
   "metadata": {
    "colab": {},
    "colab_type": "code",
    "id": "hpWPL4NeuJFL",
    "outputId": "5a4141ca-4c17-4e73-a002-3628b60421cb"
   },
   "outputs": [
    {
     "data": {
      "text/plain": [
       "0.9525"
      ]
     },
     "execution_count": 27,
     "metadata": {},
     "output_type": "execute_result"
    }
   ],
   "source": [
    "pca = PCA(n_components=6)\n",
    "pca_result = pca.fit_transform(X_all)\n",
    "cross_val_score(rfc, pca_result, y, cv=5).mean().round(4)"
   ]
  },
  {
   "cell_type": "markdown",
   "metadata": {},
   "source": [
    "### 앞의 selectPercentile 보다 성능이 개선됨"
   ]
  },
  {
   "cell_type": "markdown",
   "metadata": {},
   "source": [
    "# tSNE():\n",
    "- 고차원의 데이터를 저차원으로 축소. visualization tool\n",
    "- 고차원 공간에서 유클리드 거리를 데이터 포인트의 유사성을 표현하는 조건부 확률로 변환하는 방법\n",
    "- t-Distributed Stochastic Neighbor Embedding (t-SNE) is an unsupervised, non-linear technique primarily used for data exploration and visualizing high-dimensional data. In simpler terms, t-SNE gives you a feel or intuition of how the data is arranged in a high-dimensional space."
   ]
  },
  {
   "cell_type": "markdown",
   "metadata": {
    "colab_type": "text",
    "id": "jO0pBPYauJFR"
   },
   "source": [
    "## tSNE 시각화\n",
    "- n_components: Dimension of the embedded space\n",
    "- perplexity: float, optional (default: 30) : The perplexity is related to the number of nearest neighbors that is used in other manifold learning algorithms. Larger datasets usually require a larger perplexity. Consider selecting a value between 5 and 50. Different values can result in significanlty different results.(당혹, 곤혹), 데이터 점 xi의 유효한 근방의 개수의 척도"
   ]
  },
  {
   "cell_type": "code",
   "execution_count": 28,
   "metadata": {
    "colab": {},
    "colab_type": "code",
    "id": "rO41E334uJFS",
    "outputId": "b922bdc0-3c71-44b9-9ac2-2aa8b8b64339"
   },
   "outputs": [
    {
     "name": "stdout",
     "output_type": "stream",
     "text": [
      "[t-SNE] Computing 121 nearest neighbors...\n",
      "[t-SNE] Indexed 569 samples in 0.013s...\n",
      "[t-SNE] Computed neighbors for 569 samples in 0.037s...\n",
      "[t-SNE] Computed conditional probabilities for sample 569 / 569\n",
      "[t-SNE] Mean sigma: 33.679708\n",
      "[t-SNE] KL divergence after 250 iterations with early exaggeration: 49.175446\n",
      "[t-SNE] KL divergence after 1000 iterations: 0.219610\n"
     ]
    }
   ],
   "source": [
    "tsne = TSNE(n_components=2, verbose=1, perplexity=40, n_iter=1000)\n",
    "tsne_results = tsne.fit_transform(cancer.data)"
   ]
  },
  {
   "cell_type": "code",
   "execution_count": 29,
   "metadata": {
    "colab": {},
    "colab_type": "code",
    "id": "8ZNKi2H1uJFW",
    "outputId": "35ae552f-3a89-4cf5-d7dc-fe73323695b7"
   },
   "outputs": [
    {
     "data": {
      "image/png": "[encoded data removed]",
      "text/plain": [
       "<Figure size 576x432 with 1 Axes>"
      ]
     },
     "metadata": {
      "needs_background": "light"
     },
     "output_type": "display_data"
    }
   ],
   "source": [
    "m = ['v','o']\n",
    "c = ['r','b']\n",
    "plt.figure(figsize=(8,6))\n",
    "for i in range(len(y)):\n",
    "    plt.scatter(tsne_results[:,0][i],tsne_results[:,1][i], marker=m[y[i]], c=c[y[i]], s=5)\n",
    "plt.show()"
   ]
  },
  {
   "cell_type": "markdown",
   "metadata": {
    "colab_type": "text",
    "id": "jV56k7qEuJFZ"
   },
   "source": [
    "### 표준화 후 시각화"
   ]
  },
  {
   "cell_type": "code",
   "execution_count": 30,
   "metadata": {
    "colab": {},
    "colab_type": "code",
    "id": "KGpq6HO_uJFa",
    "outputId": "8889e270-9aad-4719-abde-5c554e5e558f"
   },
   "outputs": [
    {
     "name": "stdout",
     "output_type": "stream",
     "text": [
      "[t-SNE] Computing 121 nearest neighbors...\n",
      "[t-SNE] Indexed 569 samples in 0.005s...\n",
      "[t-SNE] Computed neighbors for 569 samples in 0.063s...\n",
      "[t-SNE] Computed conditional probabilities for sample 569 / 569\n",
      "[t-SNE] Mean sigma: 1.522404\n",
      "[t-SNE] KL divergence after 250 iterations with early exaggeration: 64.803551\n",
      "[t-SNE] KL divergence after 1000 iterations: 0.847908\n"
     ]
    }
   ],
   "source": [
    "tsne = TSNE(n_components=2, verbose=1, perplexity=40, n_iter=1000)\n",
    "tsne_results = tsne.fit_transform(X_all)"
   ]
  },
  {
   "cell_type": "code",
   "execution_count": 31,
   "metadata": {
    "colab": {},
    "colab_type": "code",
    "id": "yEHImKxGuJFd",
    "outputId": "d14e36e6-74c6-428f-bbe5-148477c10037"
   },
   "outputs": [
    {
     "data": {
      "image/png": "[encoded data removed]",
      "text/plain": [
       "<Figure size 576x432 with 1 Axes>"
      ]
     },
     "metadata": {
      "needs_background": "light"
     },
     "output_type": "display_data"
    }
   ],
   "source": [
    "m = ['v','o']\n",
    "c = ['r','b']\n",
    "plt.figure(figsize=(8,6))\n",
    "for i in range(len(y)):\n",
    "    plt.scatter(tsne_results[:,0][i],tsne_results[:,1][i], marker=m[y[i]], c=c[y[i]], s=5)\n",
    "plt.show()"
   ]
  }
 ],
 "metadata": {
  "colab": {
   "collapsed_sections": [],
   "name": "gg_42_주성분분석_tSNE_유방암.ipynb",
   "provenance": [],
   "version": "0.3.2"
  },
  "kernelspec": {
   "display_name": "Python 3",
   "language": "python",
   "name": "python3"
  },
  "language_info": {
   "codemirror_mode": {
    "name": "ipython",
    "version": 3
   },
   "file_extension": ".py",
   "mimetype": "text/x-python",
   "name": "python",
   "nbconvert_exporter": "python",
   "pygments_lexer": "ipython3",
   "version": "3.8.3"
  }
 },
 "nbformat": 4,
 "nbformat_minor": 1
}
