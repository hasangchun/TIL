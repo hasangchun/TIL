{
 "cells": [
  {
   "cell_type": "markdown",
   "metadata": {},
   "source": [
    "# JSON format"
   ]
  },
  {
   "cell_type": "code",
   "execution_count": 1,
   "metadata": {},
   "outputs": [],
   "source": [
    "import numpy as np\n",
    "import matplotlib.pyplot as plt\n",
    "import pandas as pd\n",
    "%matplotlib inline\n",
    "import json"
   ]
  },
  {
   "cell_type": "code",
   "execution_count": 2,
   "metadata": {},
   "outputs": [],
   "source": [
    "obj = \"\"\"\n",
    "{\n",
    "    \"name\" :  \"Kim\",\n",
    "    \"places_lived\" : [\"Seoul\", \"Korea\"],\n",
    "    \"pet\" : null,\n",
    "    \"siblings\" : [{\"name\" : \"Scott\", \"age\" : 25, \"pet\" : \"Zuko\"}]\n",
    "}\"\"\""
   ]
  },
  {
   "cell_type": "code",
   "execution_count": 3,
   "metadata": {},
   "outputs": [
    {
     "data": {
      "text/plain": [
       "str"
      ]
     },
     "execution_count": 3,
     "metadata": {},
     "output_type": "execute_result"
    }
   ],
   "source": [
    "type(obj)"
   ]
  },
  {
   "cell_type": "code",
   "execution_count": 4,
   "metadata": {},
   "outputs": [
    {
     "data": {
      "text/plain": [
       "'\\n{\\n    \"name\" :  \"Kim\",\\n    \"places_lived\" : [\"Seoul\", \"Korea\"],\\n    \"pet\" : null,\\n    \"siblings\" : [{\"name\" : \"Scott\", \"age\" : 25, \"pet\" : \"Zuko\"}]\\n}'"
      ]
     },
     "execution_count": 4,
     "metadata": {},
     "output_type": "execute_result"
    }
   ],
   "source": [
    "obj"
   ]
  },
  {
   "cell_type": "code",
   "execution_count": 5,
   "metadata": {},
   "outputs": [
    {
     "data": {
      "text/plain": [
       "{'name': 'Kim',\n",
       " 'places_lived': ['Seoul', 'Korea'],\n",
       " 'pet': None,\n",
       " 'siblings': [{'name': 'Scott', 'age': 25, 'pet': 'Zuko'}]}"
      ]
     },
     "execution_count": 5,
     "metadata": {},
     "output_type": "execute_result"
    }
   ],
   "source": [
    "json.loads(obj)"
   ]
  },
  {
   "cell_type": "code",
   "execution_count": 6,
   "metadata": {},
   "outputs": [
    {
     "data": {
      "text/plain": [
       "dict"
      ]
     },
     "execution_count": 6,
     "metadata": {},
     "output_type": "execute_result"
    }
   ],
   "source": [
    "r = json.loads(obj)  #decoding (json -> dict)\n",
    "type(r)"
   ]
  },
  {
   "cell_type": "code",
   "execution_count": 7,
   "metadata": {},
   "outputs": [
    {
     "data": {
      "text/plain": [
       "'{\"name\": \"Kim\", \"places_lived\": [\"Seoul\", \"Korea\"], \"pet\": null, \"siblings\": [{\"name\": \"Scott\", \"age\": 25, \"pet\": \"Zuko\"}]}'"
      ]
     },
     "execution_count": 7,
     "metadata": {},
     "output_type": "execute_result"
    }
   ],
   "source": [
    "json.dumps(r)  #encoding (dict -> json)"
   ]
  },
  {
   "cell_type": "markdown",
   "metadata": {},
   "source": [
    "## practical example\n",
    "- naver real-time search ranking"
   ]
  },
  {
   "cell_type": "code",
   "execution_count": 12,
   "metadata": {},
   "outputs": [],
   "source": [
    "import requests\n",
    "from pandas.io.json import json_normalize"
   ]
  },
  {
   "cell_type": "code",
   "execution_count": 9,
   "metadata": {},
   "outputs": [],
   "source": [
    "r = requests.get(\"http://rank.search.naver.com/rank.js\")"
   ]
  },
  {
   "cell_type": "code",
   "execution_count": 10,
   "metadata": {},
   "outputs": [
    {
     "data": {
      "text/plain": [
       "<Response [200]>"
      ]
     },
     "execution_count": 10,
     "metadata": {},
     "output_type": "execute_result"
    }
   ],
   "source": [
    "r  # 200이면 정확하게 온 것, 300이나 400이면 서버나 local쪽에서 문제가 있는 것"
   ]
  },
  {
   "cell_type": "code",
   "execution_count": 11,
   "metadata": {},
   "outputs": [
    {
     "data": {
      "text/plain": [
       "'{\"ts\":\"2020-11-18T20:25:00+0900\",\"st\":\"2020-11-18T20:25:00+0900\",\"et\":\"2020-11-18T20:25:00+0900\",\"data\":[{\"category\":\"general\",\"data\":[{\"rank\":1,\"keyword\":\"구창모\",\"change\":\"+\",\"score\":0,\"tvalue\":0,\"cvalue\":0,\"ratio\":\".\",\"delta\":0},{\"rank\":2,\"keyword\":\"이가은\",\"change\":\"+\",\"score\":0,\"tvalue\":0,\"cvalue\":0,\"ratio\":\".\",\"delta\":0},{\"rank\":3,\"keyword\":\"최환희\",\"change\":\"+\",\"score\":0,\"tvalue\":0,\"cvalue\":0,\"ratio\":\".\",\"delta\":0},{\"rank\":4,\"keyword\":\"2020 11월 모의고사\",\"change\":\"+\",\"score\":0,\"tvalue\":0,\"cvalue\":0,\"ratio\":\".\",\"delta\":0},{\"rank\":5,\"keyword\":\"정바비\",\"change\":\"+\",\"score\":0,\"tvalue\":0,\"cvalue\":0,\"ratio\":\".\",\"delta\":0},{\"rank\":6,\"keyword\":\"한초원\",\"change\":\"+\",\"score\":0,\"tvalue\":0,\"cvalue\":0,\"ratio\":\".\",\"delta\":0},{\"rank\":7,\"keyword\":\"최진실\",\"change\":\"+\",\"score\":0,\"tvalue\":0,\"cvalue\":0,\"ratio\":\".\",\"delta\":0},{\"rank\":8,\"keyword\":\"전직 야구선수 폭행\",\"change\":\"+\",\"score\":0,\"tvalue\":0,\"cvalue\":0,\"ratio\":\".\",\"delta\":0},{\"rank\":9,\"keyword\":\"금태섭\",\"change\":\"+\",\"score\":0,\"tvalue\":0,\"cvalue\":0,\"ratio\":\".\",\"delta\":0},{\"rank\":10,\"keyword\":\"조성민\",\"change\":\"+\",\"score\":0,\"tvalue\":0,\"cvalue\":0,\"ratio\":\".\",\"delta\":0},{\"rank\":11,\"keyword\":\"방치찜\",\"change\":\"+\",\"score\":0,\"tvalue\":0,\"cvalue\":0,\"ratio\":\".\",\"delta\":0},{\"rank\":12,\"keyword\":\"프로듀스 101\",\"change\":\"+\",\"score\":0,\"tvalue\":0,\"cvalue\":0,\"ratio\":\".\",\"delta\":0},{\"rank\":13,\"keyword\":\"우정바이오\",\"change\":\"+\",\"score\":0,\"tvalue\":0,\"cvalue\":0,\"ratio\":\".\",\"delta\":0},{\"rank\":14,\"keyword\":\"코로나 2단계\",\"change\":\"+\",\"score\":0,\"tvalue\":0,\"cvalue\":0,\"ratio\":\".\",\"delta\":0},{\"rank\":15,\"keyword\":\"알테어\",\"change\":\"+\",\"score\":0,\"tvalue\":0,\"cvalue\":0,\"ratio\":\".\",\"delta\":0},{\"rank\":16,\"keyword\":\"강동호\",\"change\":\"+\",\"score\":0,\"tvalue\":0,\"cvalue\":0,\"ratio\":\".\",\"delta\":0},{\"rank\":17,\"keyword\":\"최준희\",\"change\":\"+\",\"score\":0,\"tvalue\":0,\"cvalue\":0,\"ratio\":\".\",\"delta\":0},{\"rank\":18,\"keyword\":\"쇼챔피언\",\"change\":\"+\",\"score\":0,\"tvalue\":0,\"cvalue\":0,\"ratio\":\".\",\"delta\":0},{\"rank\":19,\"keyword\":\"플렉센\",\"change\":\"+\",\"score\":0,\"tvalue\":0,\"cvalue\":0,\"ratio\":\".\",\"delta\":0},{\"rank\":20,\"keyword\":\"19코로나 라이브\",\"change\":\"+\",\"score\":0,\"tvalue\":0,\"cvalue\":0,\"ratio\":\".\",\"delta\":0}]}]}\\n'"
      ]
     },
     "execution_count": 11,
     "metadata": {},
     "output_type": "execute_result"
    }
   ],
   "source": [
    "r.text"
   ]
  },
  {
   "cell_type": "code",
   "execution_count": 18,
   "metadata": {},
   "outputs": [
    {
     "data": {
      "text/plain": [
       "{'ts': '2020-10-22T12:30:00+0900',\n",
       " 'st': '2020-10-22T12:30:00+0900',\n",
       " 'et': '2020-10-22T12:30:00+0900',\n",
       " 'data': [{'category': 'general',\n",
       "   'data': [{'rank': 1,\n",
       "     'keyword': '소병철',\n",
       "     'change': '+',\n",
       "     'score': 0,\n",
       "     'tvalue': 0,\n",
       "     'cvalue': 0,\n",
       "     'ratio': '.',\n",
       "     'delta': 0},\n",
       "    {'rank': 2,\n",
       "     'keyword': '아이린',\n",
       "     'change': '+',\n",
       "     'score': 0,\n",
       "     'tvalue': 0,\n",
       "     'cvalue': 0,\n",
       "     'ratio': '.',\n",
       "     'delta': 0},\n",
       "    {'rank': 3,\n",
       "     'keyword': '김진애',\n",
       "     'change': '+',\n",
       "     'score': 0,\n",
       "     'tvalue': 0,\n",
       "     'cvalue': 0,\n",
       "     'ratio': '.',\n",
       "     'delta': 0},\n",
       "    {'rank': 4,\n",
       "     'keyword': '윤석열',\n",
       "     'change': '+',\n",
       "     'score': 0,\n",
       "     'tvalue': 0,\n",
       "     'cvalue': 0,\n",
       "     'ratio': '.',\n",
       "     'delta': 0},\n",
       "    {'rank': 5,\n",
       "     'keyword': '박순철',\n",
       "     'change': '+',\n",
       "     'score': 0,\n",
       "     'tvalue': 0,\n",
       "     'cvalue': 0,\n",
       "     'ratio': '.',\n",
       "     'delta': 0},\n",
       "    {'rank': 6,\n",
       "     'keyword': '윤한홍',\n",
       "     'change': '+',\n",
       "     'score': 0,\n",
       "     'tvalue': 0,\n",
       "     'cvalue': 0,\n",
       "     'ratio': '.',\n",
       "     'delta': 0},\n",
       "    {'rank': 7,\n",
       "     'keyword': '윤호중',\n",
       "     'change': '+',\n",
       "     'score': 0,\n",
       "     'tvalue': 0,\n",
       "     'cvalue': 0,\n",
       "     'ratio': '.',\n",
       "     'delta': 0},\n",
       "    {'rank': 8,\n",
       "     'keyword': '장제원',\n",
       "     'change': '+',\n",
       "     'score': 0,\n",
       "     'tvalue': 0,\n",
       "     'cvalue': 0,\n",
       "     'ratio': '.',\n",
       "     'delta': 0},\n",
       "    {'rank': 9,\n",
       "     'keyword': '타이어뱅크',\n",
       "     'change': '+',\n",
       "     'score': 0,\n",
       "     'tvalue': 0,\n",
       "     'cvalue': 0,\n",
       "     'ratio': '.',\n",
       "     'delta': 0},\n",
       "    {'rank': 10,\n",
       "     'keyword': '박범계',\n",
       "     'change': '+',\n",
       "     'score': 0,\n",
       "     'tvalue': 0,\n",
       "     'cvalue': 0,\n",
       "     'ratio': '.',\n",
       "     'delta': 0},\n",
       "    {'rank': 11,\n",
       "     'keyword': '지주연',\n",
       "     'change': '+',\n",
       "     'score': 0,\n",
       "     'tvalue': 0,\n",
       "     'cvalue': 0,\n",
       "     'ratio': '.',\n",
       "     'delta': 0},\n",
       "    {'rank': 12,\n",
       "     'keyword': '김도읍',\n",
       "     'change': '+',\n",
       "     'score': 0,\n",
       "     'tvalue': 0,\n",
       "     'cvalue': 0,\n",
       "     'ratio': '.',\n",
       "     'delta': 0},\n",
       "    {'rank': 13,\n",
       "     'keyword': '윤석열와이프',\n",
       "     'change': '+',\n",
       "     'score': 0,\n",
       "     'tvalue': 0,\n",
       "     'cvalue': 0,\n",
       "     'ratio': '.',\n",
       "     'delta': 0},\n",
       "    {'rank': 14,\n",
       "     'keyword': '난색',\n",
       "     'change': '+',\n",
       "     'score': 0,\n",
       "     'tvalue': 0,\n",
       "     'cvalue': 0,\n",
       "     'ratio': '.',\n",
       "     'delta': 0},\n",
       "    {'rank': 15,\n",
       "     'keyword': '백혜련',\n",
       "     'change': '+',\n",
       "     'score': 0,\n",
       "     'tvalue': 0,\n",
       "     'cvalue': 0,\n",
       "     'ratio': '.',\n",
       "     'delta': 0},\n",
       "    {'rank': 16,\n",
       "     'keyword': '레드벨벳',\n",
       "     'change': '+',\n",
       "     'score': 0,\n",
       "     'tvalue': 0,\n",
       "     'cvalue': 0,\n",
       "     'ratio': '.',\n",
       "     'delta': 0},\n",
       "    {'rank': 17,\n",
       "     'keyword': '송기헌',\n",
       "     'change': '+',\n",
       "     'score': 0,\n",
       "     'tvalue': 0,\n",
       "     'cvalue': 0,\n",
       "     'ratio': '.',\n",
       "     'delta': 0},\n",
       "    {'rank': 18,\n",
       "     'keyword': '나를 사랑한 스파이',\n",
       "     'change': '+',\n",
       "     'score': 0,\n",
       "     'tvalue': 0,\n",
       "     'cvalue': 0,\n",
       "     'ratio': '.',\n",
       "     'delta': 0},\n",
       "    {'rank': 19,\n",
       "     'keyword': '국정감사 생중계',\n",
       "     'change': '+',\n",
       "     'score': 0,\n",
       "     'tvalue': 0,\n",
       "     'cvalue': 0,\n",
       "     'ratio': '.',\n",
       "     'delta': 0},\n",
       "    {'rank': 20,\n",
       "     'keyword': '비와이',\n",
       "     'change': '+',\n",
       "     'score': 0,\n",
       "     'tvalue': 0,\n",
       "     'cvalue': 0,\n",
       "     'ratio': '.',\n",
       "     'delta': 0}]}]}"
      ]
     },
     "execution_count": 18,
     "metadata": {},
     "output_type": "execute_result"
    }
   ],
   "source": [
    "json.loads(r.text)"
   ]
  },
  {
   "cell_type": "code",
   "execution_count": 13,
   "metadata": {},
   "outputs": [
    {
     "data": {
      "text/html": [
       "<div>\n",
       "<style scoped>\n",
       "    .dataframe tbody tr th:only-of-type {\n",
       "        vertical-align: middle;\n",
       "    }\n",
       "\n",
       "    .dataframe tbody tr th {\n",
       "        vertical-align: top;\n",
       "    }\n",
       "\n",
       "    .dataframe thead th {\n",
       "        text-align: right;\n",
       "    }\n",
       "</style>\n",
       "<table border=\"1\" class=\"dataframe\">\n",
       "  <thead>\n",
       "    <tr style=\"text-align: right;\">\n",
       "      <th></th>\n",
       "      <th>ts</th>\n",
       "      <th>st</th>\n",
       "      <th>et</th>\n",
       "      <th>data</th>\n",
       "    </tr>\n",
       "  </thead>\n",
       "  <tbody>\n",
       "    <tr>\n",
       "      <th>0</th>\n",
       "      <td>2020-11-18T20:25:00+0900</td>\n",
       "      <td>2020-11-18T20:25:00+0900</td>\n",
       "      <td>2020-11-18T20:25:00+0900</td>\n",
       "      <td>{'category': 'general', 'data': [{'rank': 1, '...</td>\n",
       "    </tr>\n",
       "  </tbody>\n",
       "</table>\n",
       "</div>"
      ],
      "text/plain": [
       "                         ts                        st  \\\n",
       "0  2020-11-18T20:25:00+0900  2020-11-18T20:25:00+0900   \n",
       "\n",
       "                         et                                               data  \n",
       "0  2020-11-18T20:25:00+0900  {'category': 'general', 'data': [{'rank': 1, '...  "
      ]
     },
     "execution_count": 13,
     "metadata": {},
     "output_type": "execute_result"
    }
   ],
   "source": [
    "pd.DataFrame(json.loads(r.text))"
   ]
  },
  {
   "cell_type": "code",
   "execution_count": 14,
   "metadata": {},
   "outputs": [
    {
     "name": "stderr",
     "output_type": "stream",
     "text": [
      "<ipython-input-14-e20b20a16304>:1: FutureWarning: pandas.io.json.json_normalize is deprecated, use pandas.json_normalize instead\n",
      "  json_normalize(json.loads(r.text))\n"
     ]
    },
    {
     "data": {
      "text/html": [
       "<div>\n",
       "<style scoped>\n",
       "    .dataframe tbody tr th:only-of-type {\n",
       "        vertical-align: middle;\n",
       "    }\n",
       "\n",
       "    .dataframe tbody tr th {\n",
       "        vertical-align: top;\n",
       "    }\n",
       "\n",
       "    .dataframe thead th {\n",
       "        text-align: right;\n",
       "    }\n",
       "</style>\n",
       "<table border=\"1\" class=\"dataframe\">\n",
       "  <thead>\n",
       "    <tr style=\"text-align: right;\">\n",
       "      <th></th>\n",
       "      <th>ts</th>\n",
       "      <th>st</th>\n",
       "      <th>et</th>\n",
       "      <th>data</th>\n",
       "    </tr>\n",
       "  </thead>\n",
       "  <tbody>\n",
       "    <tr>\n",
       "      <th>0</th>\n",
       "      <td>2020-11-18T20:25:00+0900</td>\n",
       "      <td>2020-11-18T20:25:00+0900</td>\n",
       "      <td>2020-11-18T20:25:00+0900</td>\n",
       "      <td>[{'category': 'general', 'data': [{'rank': 1, ...</td>\n",
       "    </tr>\n",
       "  </tbody>\n",
       "</table>\n",
       "</div>"
      ],
      "text/plain": [
       "                         ts                        st  \\\n",
       "0  2020-11-18T20:25:00+0900  2020-11-18T20:25:00+0900   \n",
       "\n",
       "                         et                                               data  \n",
       "0  2020-11-18T20:25:00+0900  [{'category': 'general', 'data': [{'rank': 1, ...  "
      ]
     },
     "execution_count": 14,
     "metadata": {},
     "output_type": "execute_result"
    }
   ],
   "source": [
    "json_normalize(json.loads(r.text))"
   ]
  },
  {
   "cell_type": "code",
   "execution_count": 15,
   "metadata": {},
   "outputs": [
    {
     "name": "stderr",
     "output_type": "stream",
     "text": [
      "<ipython-input-15-85a99a7b9d72>:1: FutureWarning: pandas.io.json.json_normalize is deprecated, use pandas.json_normalize instead\n",
      "  json_normalize(json.loads(r.text), 'data')\n"
     ]
    },
    {
     "data": {
      "text/html": [
       "<div>\n",
       "<style scoped>\n",
       "    .dataframe tbody tr th:only-of-type {\n",
       "        vertical-align: middle;\n",
       "    }\n",
       "\n",
       "    .dataframe tbody tr th {\n",
       "        vertical-align: top;\n",
       "    }\n",
       "\n",
       "    .dataframe thead th {\n",
       "        text-align: right;\n",
       "    }\n",
       "</style>\n",
       "<table border=\"1\" class=\"dataframe\">\n",
       "  <thead>\n",
       "    <tr style=\"text-align: right;\">\n",
       "      <th></th>\n",
       "      <th>category</th>\n",
       "      <th>data</th>\n",
       "    </tr>\n",
       "  </thead>\n",
       "  <tbody>\n",
       "    <tr>\n",
       "      <th>0</th>\n",
       "      <td>general</td>\n",
       "      <td>[{'rank': 1, 'keyword': '구창모', 'change': '+', ...</td>\n",
       "    </tr>\n",
       "  </tbody>\n",
       "</table>\n",
       "</div>"
      ],
      "text/plain": [
       "  category                                               data\n",
       "0  general  [{'rank': 1, 'keyword': '구창모', 'change': '+', ..."
      ]
     },
     "execution_count": 15,
     "metadata": {},
     "output_type": "execute_result"
    }
   ],
   "source": [
    "json_normalize(json.loads(r.text), 'data')"
   ]
  },
  {
   "cell_type": "code",
   "execution_count": 16,
   "metadata": {},
   "outputs": [
    {
     "name": "stderr",
     "output_type": "stream",
     "text": [
      "<ipython-input-16-35dcd5d0c20f>:1: FutureWarning: pandas.io.json.json_normalize is deprecated, use pandas.json_normalize instead\n",
      "  jj = json_normalize(json.loads(r.text), ['data', 'data'])  # record_path = ['data', 'data']\n"
     ]
    },
    {
     "data": {
      "text/html": [
       "<div>\n",
       "<style scoped>\n",
       "    .dataframe tbody tr th:only-of-type {\n",
       "        vertical-align: middle;\n",
       "    }\n",
       "\n",
       "    .dataframe tbody tr th {\n",
       "        vertical-align: top;\n",
       "    }\n",
       "\n",
       "    .dataframe thead th {\n",
       "        text-align: right;\n",
       "    }\n",
       "</style>\n",
       "<table border=\"1\" class=\"dataframe\">\n",
       "  <thead>\n",
       "    <tr style=\"text-align: right;\">\n",
       "      <th></th>\n",
       "      <th>rank</th>\n",
       "      <th>keyword</th>\n",
       "      <th>change</th>\n",
       "      <th>score</th>\n",
       "      <th>tvalue</th>\n",
       "      <th>cvalue</th>\n",
       "      <th>ratio</th>\n",
       "      <th>delta</th>\n",
       "    </tr>\n",
       "  </thead>\n",
       "  <tbody>\n",
       "    <tr>\n",
       "      <th>0</th>\n",
       "      <td>1</td>\n",
       "      <td>구창모</td>\n",
       "      <td>+</td>\n",
       "      <td>0</td>\n",
       "      <td>0</td>\n",
       "      <td>0</td>\n",
       "      <td>.</td>\n",
       "      <td>0</td>\n",
       "    </tr>\n",
       "    <tr>\n",
       "      <th>1</th>\n",
       "      <td>2</td>\n",
       "      <td>이가은</td>\n",
       "      <td>+</td>\n",
       "      <td>0</td>\n",
       "      <td>0</td>\n",
       "      <td>0</td>\n",
       "      <td>.</td>\n",
       "      <td>0</td>\n",
       "    </tr>\n",
       "    <tr>\n",
       "      <th>2</th>\n",
       "      <td>3</td>\n",
       "      <td>최환희</td>\n",
       "      <td>+</td>\n",
       "      <td>0</td>\n",
       "      <td>0</td>\n",
       "      <td>0</td>\n",
       "      <td>.</td>\n",
       "      <td>0</td>\n",
       "    </tr>\n",
       "    <tr>\n",
       "      <th>3</th>\n",
       "      <td>4</td>\n",
       "      <td>2020 11월 모의고사</td>\n",
       "      <td>+</td>\n",
       "      <td>0</td>\n",
       "      <td>0</td>\n",
       "      <td>0</td>\n",
       "      <td>.</td>\n",
       "      <td>0</td>\n",
       "    </tr>\n",
       "    <tr>\n",
       "      <th>4</th>\n",
       "      <td>5</td>\n",
       "      <td>정바비</td>\n",
       "      <td>+</td>\n",
       "      <td>0</td>\n",
       "      <td>0</td>\n",
       "      <td>0</td>\n",
       "      <td>.</td>\n",
       "      <td>0</td>\n",
       "    </tr>\n",
       "    <tr>\n",
       "      <th>5</th>\n",
       "      <td>6</td>\n",
       "      <td>한초원</td>\n",
       "      <td>+</td>\n",
       "      <td>0</td>\n",
       "      <td>0</td>\n",
       "      <td>0</td>\n",
       "      <td>.</td>\n",
       "      <td>0</td>\n",
       "    </tr>\n",
       "    <tr>\n",
       "      <th>6</th>\n",
       "      <td>7</td>\n",
       "      <td>최진실</td>\n",
       "      <td>+</td>\n",
       "      <td>0</td>\n",
       "      <td>0</td>\n",
       "      <td>0</td>\n",
       "      <td>.</td>\n",
       "      <td>0</td>\n",
       "    </tr>\n",
       "    <tr>\n",
       "      <th>7</th>\n",
       "      <td>8</td>\n",
       "      <td>전직 야구선수 폭행</td>\n",
       "      <td>+</td>\n",
       "      <td>0</td>\n",
       "      <td>0</td>\n",
       "      <td>0</td>\n",
       "      <td>.</td>\n",
       "      <td>0</td>\n",
       "    </tr>\n",
       "    <tr>\n",
       "      <th>8</th>\n",
       "      <td>9</td>\n",
       "      <td>금태섭</td>\n",
       "      <td>+</td>\n",
       "      <td>0</td>\n",
       "      <td>0</td>\n",
       "      <td>0</td>\n",
       "      <td>.</td>\n",
       "      <td>0</td>\n",
       "    </tr>\n",
       "    <tr>\n",
       "      <th>9</th>\n",
       "      <td>10</td>\n",
       "      <td>조성민</td>\n",
       "      <td>+</td>\n",
       "      <td>0</td>\n",
       "      <td>0</td>\n",
       "      <td>0</td>\n",
       "      <td>.</td>\n",
       "      <td>0</td>\n",
       "    </tr>\n",
       "    <tr>\n",
       "      <th>10</th>\n",
       "      <td>11</td>\n",
       "      <td>방치찜</td>\n",
       "      <td>+</td>\n",
       "      <td>0</td>\n",
       "      <td>0</td>\n",
       "      <td>0</td>\n",
       "      <td>.</td>\n",
       "      <td>0</td>\n",
       "    </tr>\n",
       "    <tr>\n",
       "      <th>11</th>\n",
       "      <td>12</td>\n",
       "      <td>프로듀스 101</td>\n",
       "      <td>+</td>\n",
       "      <td>0</td>\n",
       "      <td>0</td>\n",
       "      <td>0</td>\n",
       "      <td>.</td>\n",
       "      <td>0</td>\n",
       "    </tr>\n",
       "    <tr>\n",
       "      <th>12</th>\n",
       "      <td>13</td>\n",
       "      <td>우정바이오</td>\n",
       "      <td>+</td>\n",
       "      <td>0</td>\n",
       "      <td>0</td>\n",
       "      <td>0</td>\n",
       "      <td>.</td>\n",
       "      <td>0</td>\n",
       "    </tr>\n",
       "    <tr>\n",
       "      <th>13</th>\n",
       "      <td>14</td>\n",
       "      <td>코로나 2단계</td>\n",
       "      <td>+</td>\n",
       "      <td>0</td>\n",
       "      <td>0</td>\n",
       "      <td>0</td>\n",
       "      <td>.</td>\n",
       "      <td>0</td>\n",
       "    </tr>\n",
       "    <tr>\n",
       "      <th>14</th>\n",
       "      <td>15</td>\n",
       "      <td>알테어</td>\n",
       "      <td>+</td>\n",
       "      <td>0</td>\n",
       "      <td>0</td>\n",
       "      <td>0</td>\n",
       "      <td>.</td>\n",
       "      <td>0</td>\n",
       "    </tr>\n",
       "    <tr>\n",
       "      <th>15</th>\n",
       "      <td>16</td>\n",
       "      <td>강동호</td>\n",
       "      <td>+</td>\n",
       "      <td>0</td>\n",
       "      <td>0</td>\n",
       "      <td>0</td>\n",
       "      <td>.</td>\n",
       "      <td>0</td>\n",
       "    </tr>\n",
       "    <tr>\n",
       "      <th>16</th>\n",
       "      <td>17</td>\n",
       "      <td>최준희</td>\n",
       "      <td>+</td>\n",
       "      <td>0</td>\n",
       "      <td>0</td>\n",
       "      <td>0</td>\n",
       "      <td>.</td>\n",
       "      <td>0</td>\n",
       "    </tr>\n",
       "    <tr>\n",
       "      <th>17</th>\n",
       "      <td>18</td>\n",
       "      <td>쇼챔피언</td>\n",
       "      <td>+</td>\n",
       "      <td>0</td>\n",
       "      <td>0</td>\n",
       "      <td>0</td>\n",
       "      <td>.</td>\n",
       "      <td>0</td>\n",
       "    </tr>\n",
       "    <tr>\n",
       "      <th>18</th>\n",
       "      <td>19</td>\n",
       "      <td>플렉센</td>\n",
       "      <td>+</td>\n",
       "      <td>0</td>\n",
       "      <td>0</td>\n",
       "      <td>0</td>\n",
       "      <td>.</td>\n",
       "      <td>0</td>\n",
       "    </tr>\n",
       "    <tr>\n",
       "      <th>19</th>\n",
       "      <td>20</td>\n",
       "      <td>19코로나 라이브</td>\n",
       "      <td>+</td>\n",
       "      <td>0</td>\n",
       "      <td>0</td>\n",
       "      <td>0</td>\n",
       "      <td>.</td>\n",
       "      <td>0</td>\n",
       "    </tr>\n",
       "  </tbody>\n",
       "</table>\n",
       "</div>"
      ],
      "text/plain": [
       "    rank        keyword change  score  tvalue  cvalue ratio  delta\n",
       "0      1            구창모      +      0       0       0     .      0\n",
       "1      2            이가은      +      0       0       0     .      0\n",
       "2      3            최환희      +      0       0       0     .      0\n",
       "3      4  2020 11월 모의고사      +      0       0       0     .      0\n",
       "4      5            정바비      +      0       0       0     .      0\n",
       "5      6            한초원      +      0       0       0     .      0\n",
       "6      7            최진실      +      0       0       0     .      0\n",
       "7      8     전직 야구선수 폭행      +      0       0       0     .      0\n",
       "8      9            금태섭      +      0       0       0     .      0\n",
       "9     10            조성민      +      0       0       0     .      0\n",
       "10    11            방치찜      +      0       0       0     .      0\n",
       "11    12       프로듀스 101      +      0       0       0     .      0\n",
       "12    13          우정바이오      +      0       0       0     .      0\n",
       "13    14        코로나 2단계      +      0       0       0     .      0\n",
       "14    15            알테어      +      0       0       0     .      0\n",
       "15    16            강동호      +      0       0       0     .      0\n",
       "16    17            최준희      +      0       0       0     .      0\n",
       "17    18           쇼챔피언      +      0       0       0     .      0\n",
       "18    19            플렉센      +      0       0       0     .      0\n",
       "19    20      19코로나 라이브      +      0       0       0     .      0"
      ]
     },
     "execution_count": 16,
     "metadata": {},
     "output_type": "execute_result"
    }
   ],
   "source": [
    "jj = json_normalize(json.loads(r.text), ['data', 'data'])  # record_path = ['data', 'data']\n",
    "jj"
   ]
  },
  {
   "cell_type": "code",
   "execution_count": 17,
   "metadata": {},
   "outputs": [
    {
     "name": "stdout",
     "output_type": "stream",
     "text": [
      "1  :  구창모\n",
      "2  :  이가은\n",
      "3  :  최환희\n",
      "4  :  2020 11월 모의고사\n",
      "5  :  정바비\n",
      "6  :  한초원\n",
      "7  :  최진실\n",
      "8  :  전직 야구선수 폭행\n",
      "9  :  금태섭\n",
      "10  :  조성민\n",
      "11  :  방치찜\n",
      "12  :  프로듀스 101\n",
      "13  :  우정바이오\n",
      "14  :  코로나 2단계\n",
      "15  :  알테어\n",
      "16  :  강동호\n",
      "17  :  최준희\n",
      "18  :  쇼챔피언\n",
      "19  :  플렉센\n",
      "20  :  19코로나 라이브\n"
     ]
    }
   ],
   "source": [
    "for i in range(len(jj)):\n",
    "    ranks = (jj.iloc[i])['rank']\n",
    "    title = (jj.iloc[i])['keyword']\n",
    "    print(ranks, \" : \", title)"
   ]
  },
  {
   "cell_type": "markdown",
   "metadata": {},
   "source": [
    "# HTML Parsing"
   ]
  },
  {
   "cell_type": "code",
   "execution_count": 18,
   "metadata": {},
   "outputs": [],
   "source": [
    "from bs4 import BeautifulSoup"
   ]
  },
  {
   "cell_type": "code",
   "execution_count": 19,
   "metadata": {},
   "outputs": [],
   "source": [
    "html_text = \"\"\"\n",
    "<html>\n",
    "<body>\n",
    "    <h1> reading web page with python </h1>\n",
    "        <p> page analysis </p>\n",
    "        <p> page alignment </p>\n",
    "        <td>some text</td><td></td><td><p>more text</p></td><td>even <p>more text</p></td>\n",
    "</body>\n",
    "</html>\n",
    "\"\"\""
   ]
  },
  {
   "cell_type": "code",
   "execution_count": 20,
   "metadata": {},
   "outputs": [
    {
     "data": {
      "text/plain": [
       "\n",
       "<html>\n",
       "<body>\n",
       "<h1> reading web page with python </h1>\n",
       "<p> page analysis </p>\n",
       "<p> page alignment </p>\n",
       "<td>some text</td><td></td><td><p>more text</p></td><td>even <p>more text</p></td>\n",
       "</body>\n",
       "</html>"
      ]
     },
     "execution_count": 20,
     "metadata": {},
     "output_type": "execute_result"
    }
   ],
   "source": [
    "soup = BeautifulSoup(html_text, 'html.parser')\n",
    "soup"
   ]
  },
  {
   "cell_type": "code",
   "execution_count": 21,
   "metadata": {},
   "outputs": [
    {
     "data": {
      "text/plain": [
       "bs4.BeautifulSoup"
      ]
     },
     "execution_count": 21,
     "metadata": {},
     "output_type": "execute_result"
    }
   ],
   "source": [
    "type(soup)"
   ]
  },
  {
   "cell_type": "code",
   "execution_count": 22,
   "metadata": {},
   "outputs": [
    {
     "data": {
      "text/plain": [
       "['ASCII_SPACES',\n",
       " 'DEFAULT_BUILDER_FEATURES',\n",
       " 'NO_PARSER_SPECIFIED_WARNING',\n",
       " 'ROOT_TAG_NAME',\n",
       " '__bool__',\n",
       " '__call__',\n",
       " '__class__',\n",
       " '__contains__',\n",
       " '__copy__',\n",
       " '__delattr__',\n",
       " '__delitem__',\n",
       " '__dict__',\n",
       " '__dir__',\n",
       " '__doc__',\n",
       " '__eq__',\n",
       " '__format__',\n",
       " '__ge__',\n",
       " '__getattr__',\n",
       " '__getattribute__',\n",
       " '__getitem__',\n",
       " '__getstate__',\n",
       " '__gt__',\n",
       " '__hash__',\n",
       " '__init__',\n",
       " '__init_subclass__',\n",
       " '__iter__',\n",
       " '__le__',\n",
       " '__len__',\n",
       " '__lt__',\n",
       " '__module__',\n",
       " '__ne__',\n",
       " '__new__',\n",
       " '__reduce__',\n",
       " '__reduce_ex__',\n",
       " '__repr__',\n",
       " '__setattr__',\n",
       " '__setitem__',\n",
       " '__sizeof__',\n",
       " '__str__',\n",
       " '__subclasshook__',\n",
       " '__unicode__',\n",
       " '__weakref__',\n",
       " '_all_strings',\n",
       " '_check_markup_is_url',\n",
       " '_decode_markup',\n",
       " '_feed',\n",
       " '_find_all',\n",
       " '_find_one',\n",
       " '_is_xml',\n",
       " '_lastRecursiveChild',\n",
       " '_last_descendant',\n",
       " '_linkage_fixer',\n",
       " '_most_recent_element',\n",
       " '_namespaces',\n",
       " '_popToTag',\n",
       " '_should_pretty_print',\n",
       " 'append',\n",
       " 'attrs',\n",
       " 'builder',\n",
       " 'can_be_empty_element',\n",
       " 'cdata_list_attributes',\n",
       " 'childGenerator',\n",
       " 'children',\n",
       " 'clear',\n",
       " 'contains_replacement_characters',\n",
       " 'contents',\n",
       " 'currentTag',\n",
       " 'current_data',\n",
       " 'declared_html_encoding',\n",
       " 'decode',\n",
       " 'decode_contents',\n",
       " 'decompose',\n",
       " 'decomposed',\n",
       " 'descendants',\n",
       " 'element_classes',\n",
       " 'encode',\n",
       " 'encode_contents',\n",
       " 'endData',\n",
       " 'extend',\n",
       " 'extract',\n",
       " 'fetchNextSiblings',\n",
       " 'fetchParents',\n",
       " 'fetchPrevious',\n",
       " 'fetchPreviousSiblings',\n",
       " 'find',\n",
       " 'findAll',\n",
       " 'findAllNext',\n",
       " 'findAllPrevious',\n",
       " 'findChild',\n",
       " 'findChildren',\n",
       " 'findNext',\n",
       " 'findNextSibling',\n",
       " 'findNextSiblings',\n",
       " 'findParent',\n",
       " 'findParents',\n",
       " 'findPrevious',\n",
       " 'findPreviousSibling',\n",
       " 'findPreviousSiblings',\n",
       " 'find_all',\n",
       " 'find_all_next',\n",
       " 'find_all_previous',\n",
       " 'find_next',\n",
       " 'find_next_sibling',\n",
       " 'find_next_siblings',\n",
       " 'find_parent',\n",
       " 'find_parents',\n",
       " 'find_previous',\n",
       " 'find_previous_sibling',\n",
       " 'find_previous_siblings',\n",
       " 'format_string',\n",
       " 'formatter_for_name',\n",
       " 'get',\n",
       " 'getText',\n",
       " 'get_attribute_list',\n",
       " 'get_text',\n",
       " 'handle_data',\n",
       " 'handle_endtag',\n",
       " 'handle_starttag',\n",
       " 'has_attr',\n",
       " 'has_key',\n",
       " 'hidden',\n",
       " 'index',\n",
       " 'insert',\n",
       " 'insert_after',\n",
       " 'insert_before',\n",
       " 'isSelfClosing',\n",
       " 'is_empty_element',\n",
       " 'is_xml',\n",
       " 'known_xml',\n",
       " 'markup',\n",
       " 'name',\n",
       " 'namespace',\n",
       " 'new_string',\n",
       " 'new_tag',\n",
       " 'next',\n",
       " 'nextGenerator',\n",
       " 'nextSibling',\n",
       " 'nextSiblingGenerator',\n",
       " 'next_element',\n",
       " 'next_elements',\n",
       " 'next_sibling',\n",
       " 'next_siblings',\n",
       " 'object_was_parsed',\n",
       " 'original_encoding',\n",
       " 'parent',\n",
       " 'parentGenerator',\n",
       " 'parents',\n",
       " 'parse_only',\n",
       " 'parserClass',\n",
       " 'parser_class',\n",
       " 'popTag',\n",
       " 'prefix',\n",
       " 'preserve_whitespace_tag_stack',\n",
       " 'preserve_whitespace_tags',\n",
       " 'prettify',\n",
       " 'previous',\n",
       " 'previousGenerator',\n",
       " 'previousSibling',\n",
       " 'previousSiblingGenerator',\n",
       " 'previous_element',\n",
       " 'previous_elements',\n",
       " 'previous_sibling',\n",
       " 'previous_siblings',\n",
       " 'pushTag',\n",
       " 'recursiveChildGenerator',\n",
       " 'renderContents',\n",
       " 'replaceWith',\n",
       " 'replaceWithChildren',\n",
       " 'replace_with',\n",
       " 'replace_with_children',\n",
       " 'reset',\n",
       " 'select',\n",
       " 'select_one',\n",
       " 'setup',\n",
       " 'smooth',\n",
       " 'string',\n",
       " 'string_container',\n",
       " 'string_container_stack',\n",
       " 'strings',\n",
       " 'stripped_strings',\n",
       " 'tagStack',\n",
       " 'text',\n",
       " 'unwrap',\n",
       " 'wrap']"
      ]
     },
     "execution_count": 22,
     "metadata": {},
     "output_type": "execute_result"
    }
   ],
   "source": [
    "dir(soup)"
   ]
  },
  {
   "cell_type": "code",
   "execution_count": 23,
   "metadata": {},
   "outputs": [
    {
     "data": {
      "text/plain": [
       "<html>\n",
       "<body>\n",
       "<h1> reading web page with python </h1>\n",
       "<p> page analysis </p>\n",
       "<p> page alignment </p>\n",
       "<td>some text</td><td></td><td><p>more text</p></td><td>even <p>more text</p></td>\n",
       "</body>\n",
       "</html>"
      ]
     },
     "execution_count": 23,
     "metadata": {},
     "output_type": "execute_result"
    }
   ],
   "source": [
    "soup.html"
   ]
  },
  {
   "cell_type": "code",
   "execution_count": 24,
   "metadata": {},
   "outputs": [
    {
     "data": {
      "text/plain": [
       "<h1> reading web page with python </h1>"
      ]
     },
     "execution_count": 24,
     "metadata": {},
     "output_type": "execute_result"
    }
   ],
   "source": [
    "soup.h1"
   ]
  },
  {
   "cell_type": "code",
   "execution_count": 25,
   "metadata": {},
   "outputs": [
    {
     "data": {
      "text/plain": [
       "<p> page analysis </p>"
      ]
     },
     "execution_count": 25,
     "metadata": {},
     "output_type": "execute_result"
    }
   ],
   "source": [
    "soup.p"
   ]
  },
  {
   "cell_type": "code",
   "execution_count": 26,
   "metadata": {},
   "outputs": [
    {
     "name": "stdout",
     "output_type": "stream",
     "text": [
      "<p> page analysis </p>\n",
      "<p> page alignment </p>\n"
     ]
    }
   ],
   "source": [
    "print(soup.p)\n",
    "print(soup.p.next_sibling.next_sibling)"
   ]
  },
  {
   "cell_type": "code",
   "execution_count": 27,
   "metadata": {},
   "outputs": [
    {
     "data": {
      "text/plain": [
       "<td>some text</td>"
      ]
     },
     "execution_count": 27,
     "metadata": {},
     "output_type": "execute_result"
    }
   ],
   "source": [
    "soup.td"
   ]
  },
  {
   "cell_type": "code",
   "execution_count": 36,
   "metadata": {},
   "outputs": [
    {
     "name": "stdout",
     "output_type": "stream",
     "text": [
      "some text some text\n"
     ]
    }
   ],
   "source": [
    "print(soup.td.text, soup.td.string)"
   ]
  },
  {
   "cell_type": "code",
   "execution_count": 37,
   "metadata": {},
   "outputs": [],
   "source": [
    "html_text2 = \"\"\"\n",
    "<html>\n",
    "<body>\n",
    "    <h1 id=\"title\"> reading web page with python </h1>\n",
    "        <p id=\"body\"> page analysis </p>\n",
    "        <p> page alignment </p>\n",
    "        <td>some text</td><td></td><td><p>more text</p></td><td>even <p>more text</p></td>\n",
    "        <ul>\n",
    "            <li><a href = \"http://www.naver.com\"> naver</a></li>\n",
    "            <li><a href = \"http://www.daum.net\"> daum</a></li>\n",
    "        </ul>\n",
    "    <div id=\"xxx\">\n",
    "        <h1> Wiki-books store </h1>\n",
    "        <ul class=\"item\">\n",
    "            <li> introduction to game design </li>\n",
    "            <li> introduction to python </li>\n",
    "            <li> introduction to web design </li>\n",
    "        </ul>\n",
    "    </div>\n",
    "</body>\n",
    "</html>\n",
    "\"\"\""
   ]
  },
  {
   "cell_type": "code",
   "execution_count": 30,
   "metadata": {},
   "outputs": [],
   "source": [
    "soup = BeautifulSoup(html_text2, 'html.parser')"
   ]
  },
  {
   "cell_type": "markdown",
   "metadata": {},
   "source": [
    "## access by tags"
   ]
  },
  {
   "cell_type": "code",
   "execution_count": 31,
   "metadata": {},
   "outputs": [
    {
     "data": {
      "text/plain": [
       "<h1 id=\"title\"> reading web page with python </h1>"
      ]
     },
     "execution_count": 31,
     "metadata": {},
     "output_type": "execute_result"
    }
   ],
   "source": [
    "soup.find(id='title')"
   ]
  },
  {
   "cell_type": "code",
   "execution_count": 32,
   "metadata": {},
   "outputs": [
    {
     "data": {
      "text/plain": [
       "<p id=\"body\"> page analysis </p>"
      ]
     },
     "execution_count": 32,
     "metadata": {},
     "output_type": "execute_result"
    }
   ],
   "source": [
    "soup.find(id='body')"
   ]
  },
  {
   "cell_type": "code",
   "execution_count": 33,
   "metadata": {},
   "outputs": [
    {
     "data": {
      "text/plain": [
       "' page analysis '"
      ]
     },
     "execution_count": 33,
     "metadata": {},
     "output_type": "execute_result"
    }
   ],
   "source": [
    "soup.find(id='body').text"
   ]
  },
  {
   "cell_type": "code",
   "execution_count": 34,
   "metadata": {},
   "outputs": [
    {
     "name": "stdout",
     "output_type": "stream",
     "text": [
      "<td>some text</td>\n",
      "[<td>some text</td>, <td></td>, <td><p>more text</p></td>, <td>even <p>more text</p></td>]\n"
     ]
    }
   ],
   "source": [
    "print(soup.find('td'))\n",
    "print(soup.find_all('td'))"
   ]
  },
  {
   "cell_type": "code",
   "execution_count": 38,
   "metadata": {},
   "outputs": [
    {
     "data": {
      "text/plain": [
       "[<p id=\"body\"> page analysis </p>,\n",
       " <p> page alignment </p>,\n",
       " <p>more text</p>,\n",
       " <p>more text</p>]"
      ]
     },
     "execution_count": 38,
     "metadata": {},
     "output_type": "execute_result"
    }
   ],
   "source": [
    "soup.find_all('p')"
   ]
  },
  {
   "cell_type": "code",
   "execution_count": 39,
   "metadata": {},
   "outputs": [
    {
     "data": {
      "text/plain": [
       "[<li><a href=\"http://www.naver.com\"> naver</a></li>,\n",
       " <li><a href=\"http://www.daum.net\"> daum</a></li>,\n",
       " <li> introduction to game design </li>,\n",
       " <li> introduction to python </li>,\n",
       " <li> introduction to web design </li>]"
      ]
     },
     "execution_count": 39,
     "metadata": {},
     "output_type": "execute_result"
    }
   ],
   "source": [
    "soup.find_all('li')"
   ]
  },
  {
   "cell_type": "code",
   "execution_count": 40,
   "metadata": {},
   "outputs": [
    {
     "data": {
      "text/plain": [
       "<li><a href=\"http://www.naver.com\"> naver</a></li>"
      ]
     },
     "execution_count": 40,
     "metadata": {},
     "output_type": "execute_result"
    }
   ],
   "source": [
    "soup.find_all('li')[0]"
   ]
  },
  {
   "cell_type": "code",
   "execution_count": 41,
   "metadata": {},
   "outputs": [
    {
     "data": {
      "text/plain": [
       "' naver'"
      ]
     },
     "execution_count": 41,
     "metadata": {},
     "output_type": "execute_result"
    }
   ],
   "source": [
    "soup.find_all('li')[0].string"
   ]
  },
  {
   "cell_type": "code",
   "execution_count": 42,
   "metadata": {},
   "outputs": [
    {
     "data": {
      "text/plain": [
       "(' naver', {'href': 'http://www.naver.com'})"
      ]
     },
     "execution_count": 42,
     "metadata": {},
     "output_type": "execute_result"
    }
   ],
   "source": [
    "soup.find_all('a')[0].string, soup.find_all('a')[0].attrs"
   ]
  },
  {
   "cell_type": "code",
   "execution_count": 43,
   "metadata": {},
   "outputs": [
    {
     "name": "stdout",
     "output_type": "stream",
     "text": [
      " naver --> http://www.naver.com\n",
      " daum --> http://www.daum.net\n"
     ]
    }
   ],
   "source": [
    "for aa in soup.find_all('a'):\n",
    "    href = aa.attrs['href']\n",
    "    text = aa.text\n",
    "    print(text, '-->', href)"
   ]
  },
  {
   "cell_type": "markdown",
   "metadata": {},
   "source": [
    "## access by regular expression"
   ]
  },
  {
   "cell_type": "code",
   "execution_count": 44,
   "metadata": {},
   "outputs": [
    {
     "data": {
      "text/plain": [
       "[<p id=\"body\"> page analysis </p>,\n",
       " <p> page alignment </p>,\n",
       " <p>more text</p>,\n",
       " <p>more text</p>]"
      ]
     },
     "execution_count": 44,
     "metadata": {},
     "output_type": "execute_result"
    }
   ],
   "source": [
    "import re\n",
    "soup.find_all(re.compile(\"^p\")) # tags starting with a character 'p'"
   ]
  },
  {
   "cell_type": "code",
   "execution_count": 50,
   "metadata": {},
   "outputs": [
    {
     "data": {
      "text/plain": [
       "[<div id=\"xxx\">\n",
       " <h1> Wiki-books store </h1>\n",
       " <ul class=\"item\">\n",
       " <li> introduction to game design </li>\n",
       " <li> introduction to python </li>\n",
       " <li> introduction to web design </li>\n",
       " </ul>\n",
       " </div>]"
      ]
     },
     "execution_count": 50,
     "metadata": {},
     "output_type": "execute_result"
    }
   ],
   "source": [
    "soup.find_all(re.compile(\"div\"))"
   ]
  },
  {
   "cell_type": "code",
   "execution_count": 51,
   "metadata": {},
   "outputs": [
    {
     "data": {
      "text/plain": [
       "[<a href=\"http://www.naver.com\"> naver</a>,\n",
       " <a href=\"http://www.daum.net\"> daum</a>]"
      ]
     },
     "execution_count": 51,
     "metadata": {},
     "output_type": "execute_result"
    }
   ],
   "source": [
    "soup.find_all(href=re.compile(\"^http://\"))"
   ]
  },
  {
   "cell_type": "markdown",
   "metadata": {},
   "source": [
    "## access by css selector"
   ]
  },
  {
   "cell_type": "code",
   "execution_count": 52,
   "metadata": {},
   "outputs": [
    {
     "data": {
      "text/plain": [
       "[<h1 id=\"title\"> reading web page with python </h1>,\n",
       " <h1> Wiki-books store </h1>]"
      ]
     },
     "execution_count": 52,
     "metadata": {},
     "output_type": "execute_result"
    }
   ],
   "source": [
    "soup.select('h1')   # by tags"
   ]
  },
  {
   "cell_type": "code",
   "execution_count": 53,
   "metadata": {},
   "outputs": [
    {
     "data": {
      "text/plain": [
       "[<div id=\"xxx\">\n",
       " <h1> Wiki-books store </h1>\n",
       " <ul class=\"item\">\n",
       " <li> introduction to game design </li>\n",
       " <li> introduction to python </li>\n",
       " <li> introduction to web design </li>\n",
       " </ul>\n",
       " </div>]"
      ]
     },
     "execution_count": 53,
     "metadata": {},
     "output_type": "execute_result"
    }
   ],
   "source": [
    "soup.select('#xxx') # by id"
   ]
  },
  {
   "cell_type": "code",
   "execution_count": 54,
   "metadata": {},
   "outputs": [
    {
     "data": {
      "text/plain": [
       "[<ul class=\"item\">\n",
       " <li> introduction to game design </li>\n",
       " <li> introduction to python </li>\n",
       " <li> introduction to web design </li>\n",
       " </ul>]"
      ]
     },
     "execution_count": 54,
     "metadata": {},
     "output_type": "execute_result"
    }
   ],
   "source": [
    "soup.select('.item') # by class name"
   ]
  },
  {
   "cell_type": "code",
   "execution_count": 58,
   "metadata": {},
   "outputs": [
    {
     "data": {
      "text/plain": [
       "[<ul class=\"item\">\n",
       " <li> introduction to game design </li>\n",
       " <li> introduction to python </li>\n",
       " <li> introduction to web design </li>\n",
       " </ul>]"
      ]
     },
     "execution_count": 58,
     "metadata": {},
     "output_type": "execute_result"
    }
   ],
   "source": [
    "soup.select('div .item') # multi-components(tag=div, class=item)"
   ]
  },
  {
   "cell_type": "code",
   "execution_count": 59,
   "metadata": {},
   "outputs": [
    {
     "data": {
      "text/plain": [
       "[<li> introduction to game design </li>,\n",
       " <li> introduction to python </li>,\n",
       " <li> introduction to web design </li>]"
      ]
     },
     "execution_count": 59,
     "metadata": {},
     "output_type": "execute_result"
    }
   ],
   "source": [
    "soup.select('#xxx > ul > li') # hierarchy (child)"
   ]
  },
  {
   "cell_type": "code",
   "execution_count": 60,
   "metadata": {},
   "outputs": [
    {
     "data": {
      "text/plain": [
       "<li> introduction to game design </li>"
      ]
     },
     "execution_count": 60,
     "metadata": {},
     "output_type": "execute_result"
    }
   ],
   "source": [
    "soup.select_one('#xxx > ul > li') # hierarchy (child)"
   ]
  },
  {
   "cell_type": "code",
   "execution_count": 61,
   "metadata": {},
   "outputs": [
    {
     "data": {
      "text/plain": [
       "[<li> introduction to game design </li>,\n",
       " <li> introduction to python </li>,\n",
       " <li> introduction to web design </li>]"
      ]
     },
     "execution_count": 61,
     "metadata": {},
     "output_type": "execute_result"
    }
   ],
   "source": [
    "soup.select('div li')  # hierarchy (div tag >>> ul tag)  (descendants)"
   ]
  },
  {
   "cell_type": "code",
   "execution_count": 62,
   "metadata": {},
   "outputs": [
    {
     "data": {
      "text/plain": [
       "[]"
      ]
     },
     "execution_count": 62,
     "metadata": {},
     "output_type": "execute_result"
    }
   ],
   "source": [
    "soup.find_all('div li')  "
   ]
  },
  {
   "cell_type": "code",
   "execution_count": 65,
   "metadata": {},
   "outputs": [
    {
     "data": {
      "text/plain": [
       "[<p class=\"body strikeout\"></p>]"
      ]
     },
     "execution_count": 65,
     "metadata": {},
     "output_type": "execute_result"
    }
   ],
   "source": [
    "text = '<p class=\"body strikeout\"></p>'\n",
    "\n",
    "css_soup = BeautifulSoup(text,'html.parser')\n",
    "css_soup.find_all(\"p\", class_=\"strikeout\")  # 다 쓰지 않아도 찾을 수 있다."
   ]
  },
  {
   "cell_type": "code",
   "execution_count": 67,
   "metadata": {},
   "outputs": [
    {
     "data": {
      "text/plain": [
       "[<p class=\"body strikeout\"></p>]"
      ]
     },
     "execution_count": 67,
     "metadata": {},
     "output_type": "execute_result"
    }
   ],
   "source": [
    "css_soup.find_all(\"p\", class_=\"body\")  # 다 쓰지 않아도 찾을 수 있다."
   ]
  },
  {
   "cell_type": "code",
   "execution_count": 68,
   "metadata": {},
   "outputs": [
    {
     "data": {
      "text/plain": [
       "[<p class=\"body strikeout\"></p>]"
      ]
     },
     "execution_count": 68,
     "metadata": {},
     "output_type": "execute_result"
    }
   ],
   "source": [
    "css_soup.select('p')"
   ]
  }
 ],
 "metadata": {
  "kernelspec": {
   "display_name": "Python 3",
   "language": "python",
   "name": "python3"
  },
  "language_info": {
   "codemirror_mode": {
    "name": "ipython",
    "version": 3
   },
   "file_extension": ".py",
   "mimetype": "text/x-python",
   "name": "python",
   "nbconvert_exporter": "python",
   "pygments_lexer": "ipython3",
   "version": "3.8.3"
  }
 },
 "nbformat": 4,
 "nbformat_minor": 4
}
