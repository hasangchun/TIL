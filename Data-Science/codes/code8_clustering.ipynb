{
 "cells": [
  {
   "cell_type": "markdown",
   "metadata": {
    "id": "Qet5-7QImPh1"
   },
   "source": [
    "# Clustering (군집화)\n",
    "- data from 전력거래소\n",
    "- 전력판매량(시도별/용도별) 액셀 파일 https://goo.gl/Cx8Rzw"
   ]
  },
  {
   "cell_type": "code",
   "execution_count": 1,
   "metadata": {
    "id": "LXiyWd8EmPh4"
   },
   "outputs": [],
   "source": [
    "import pandas as pd\n",
    "import numpy as np\n",
    "import matplotlib.pyplot as plt\n",
    "%matplotlib inline"
   ]
  },
  {
   "cell_type": "markdown",
   "metadata": {
    "id": "UJYmluUhmPh8"
   },
   "source": [
    "### data read"
   ]
  },
  {
   "cell_type": "code",
   "execution_count": 2,
   "metadata": {
    "scrolled": true
   },
   "outputs": [
    {
     "name": "stderr",
     "output_type": "stream",
     "text": [
      "  % Total    % Received % Xferd  Average Speed   Time    Time     Time  Current\n",
      "                                 Dload  Upload   Total   Spent    Left  Speed\n",
      "\n",
      "  0     0    0     0    0     0      0      0 --:--:-- --:--:-- --:--:--     0\n",
      "  0     0    0     0    0     0      0      0 --:--:-- --:--:-- --:--:--     0\n",
      "  0     0    0     0    0     0      0      0 --:--:-- --:--:-- --:--:--     0\n",
      "\n",
      "  0     0    0     0    0     0      0      0 --:--:--  0:00:01 --:--:--     0\n",
      "  0     0    0     0    0     0      0      0 --:--:--  0:00:01 --:--:--     0\n",
      "\n",
      "  0     0    0     0    0     0      0      0 --:--:--  0:00:01 --:--:--     0\n",
      "\n",
      "100   990    0   990    0     0    499      0 --:--:--  0:00:01 --:--:--   499\n",
      "\n",
      "  0     0    0     0    0     0      0      0 --:--:--  0:00:02 --:--:--     0\n",
      "100 17920  100 17920    0     0   7377      0  0:00:02  0:00:02 --:--:--  416k\n"
     ]
    }
   ],
   "source": [
    "!curl -L \"https://goo.gl/Cx8Rzw\" -o power_data.xls"
   ]
  },
  {
   "cell_type": "code",
   "execution_count": 3,
   "metadata": {
    "id": "Trnrg9-pmPh8",
    "outputId": "f4ff45d0-08f6-48c1-f032-29d0a347f107"
   },
   "outputs": [
    {
     "name": "stdout",
     "output_type": "stream",
     "text": [
      "(19, 28)\n"
     ]
    }
   ],
   "source": [
    "df = pd.read_excel('power_data.xls')\n",
    "print(df.shape)"
   ]
  },
  {
   "cell_type": "code",
   "execution_count": 4,
   "metadata": {
    "id": "wdbpLmnGmPiA",
    "outputId": "98d88f37-6cb1-4f2e-ba2f-7bacd150d5c6"
   },
   "outputs": [
    {
     "name": "stdout",
     "output_type": "stream",
     "text": [
      "Index(['구분', '주거용', '공공용', '서비스업', '업무용합계', '농림어업', '광업', '제조업', '식료품제조',\n",
      "       '섬유,의류', '목재,나무', '펄프,종이', '출판,인쇄', '석유,화확', '의료,광학', '요업', '1차금속',\n",
      "       '조립금속', '기타기계', '사무기기', '전기기기', '영상,음향', '자동차', '기타운송', '가구및기타', '재생재료',\n",
      "       '산업용합계', '합계'],\n",
      "      dtype='object')\n",
      "RangeIndex(start=0, stop=19, step=1)\n"
     ]
    }
   ],
   "source": [
    "print(df.columns)\n",
    "print(df.index)"
   ]
  },
  {
   "cell_type": "code",
   "execution_count": 5,
   "metadata": {},
   "outputs": [
    {
     "name": "stdout",
     "output_type": "stream",
     "text": [
      "<class 'pandas.core.frame.DataFrame'>\n",
      "RangeIndex: 19 entries, 0 to 18\n",
      "Data columns (total 28 columns):\n",
      " #   Column  Non-Null Count  Dtype \n",
      "---  ------  --------------  ----- \n",
      " 0   구분      19 non-null     object\n",
      " 1   주거용     19 non-null     int64 \n",
      " 2   공공용     19 non-null     int64 \n",
      " 3   서비스업    19 non-null     int64 \n",
      " 4   업무용합계   19 non-null     int64 \n",
      " 5   농림어업    19 non-null     int64 \n",
      " 6   광업      19 non-null     int64 \n",
      " 7   제조업     19 non-null     int64 \n",
      " 8   식료품제조   19 non-null     int64 \n",
      " 9   섬유,의류   19 non-null     int64 \n",
      " 10  목재,나무   19 non-null     int64 \n",
      " 11  펄프,종이   19 non-null     int64 \n",
      " 12  출판,인쇄   19 non-null     int64 \n",
      " 13  석유,화확   19 non-null     int64 \n",
      " 14  의료,광학   19 non-null     int64 \n",
      " 15  요업      19 non-null     int64 \n",
      " 16  1차금속    19 non-null     int64 \n",
      " 17  조립금속    19 non-null     int64 \n",
      " 18  기타기계    19 non-null     int64 \n",
      " 19  사무기기    19 non-null     int64 \n",
      " 20  전기기기    19 non-null     int64 \n",
      " 21  영상,음향   19 non-null     int64 \n",
      " 22  자동차     19 non-null     int64 \n",
      " 23  기타운송    19 non-null     int64 \n",
      " 24  가구및기타   19 non-null     int64 \n",
      " 25  재생재료    19 non-null     int64 \n",
      " 26  산업용합계   19 non-null     int64 \n",
      " 27  합계      19 non-null     int64 \n",
      "dtypes: int64(27), object(1)\n",
      "memory usage: 4.3+ KB\n"
     ]
    }
   ],
   "source": [
    "df.info()"
   ]
  },
  {
   "cell_type": "code",
   "execution_count": 5,
   "metadata": {},
   "outputs": [
    {
     "data": {
      "text/html": [
       "<div>\n",
       "<style scoped>\n",
       "    .dataframe tbody tr th:only-of-type {\n",
       "        vertical-align: middle;\n",
       "    }\n",
       "\n",
       "    .dataframe tbody tr th {\n",
       "        vertical-align: top;\n",
       "    }\n",
       "\n",
       "    .dataframe thead th {\n",
       "        text-align: right;\n",
       "    }\n",
       "</style>\n",
       "<table border=\"1\" class=\"dataframe\">\n",
       "  <thead>\n",
       "    <tr style=\"text-align: right;\">\n",
       "      <th></th>\n",
       "      <th>주거용</th>\n",
       "      <th>공공용</th>\n",
       "      <th>서비스업</th>\n",
       "      <th>업무용합계</th>\n",
       "      <th>농림어업</th>\n",
       "      <th>광업</th>\n",
       "      <th>제조업</th>\n",
       "      <th>식료품제조</th>\n",
       "      <th>섬유,의류</th>\n",
       "      <th>목재,나무</th>\n",
       "      <th>...</th>\n",
       "      <th>기타기계</th>\n",
       "      <th>사무기기</th>\n",
       "      <th>전기기기</th>\n",
       "      <th>영상,음향</th>\n",
       "      <th>자동차</th>\n",
       "      <th>기타운송</th>\n",
       "      <th>가구및기타</th>\n",
       "      <th>재생재료</th>\n",
       "      <th>산업용합계</th>\n",
       "      <th>합계</th>\n",
       "    </tr>\n",
       "  </thead>\n",
       "  <tbody>\n",
       "    <tr>\n",
       "      <th>count</th>\n",
       "      <td>1.900000e+01</td>\n",
       "      <td>1.900000e+01</td>\n",
       "      <td>1.900000e+01</td>\n",
       "      <td>1.900000e+01</td>\n",
       "      <td>1.900000e+01</td>\n",
       "      <td>1.900000e+01</td>\n",
       "      <td>1.900000e+01</td>\n",
       "      <td>1.900000e+01</td>\n",
       "      <td>1.900000e+01</td>\n",
       "      <td>1.900000e+01</td>\n",
       "      <td>...</td>\n",
       "      <td>1.900000e+01</td>\n",
       "      <td>19.000000</td>\n",
       "      <td>1.900000e+01</td>\n",
       "      <td>1.900000e+01</td>\n",
       "      <td>1.900000e+01</td>\n",
       "      <td>1.900000e+01</td>\n",
       "      <td>1.900000e+01</td>\n",
       "      <td>19.000000</td>\n",
       "      <td>1.900000e+01</td>\n",
       "      <td>1.900000e+01</td>\n",
       "    </tr>\n",
       "    <tr>\n",
       "      <th>mean</th>\n",
       "      <td>6.899673e+06</td>\n",
       "      <td>2.410981e+06</td>\n",
       "      <td>1.451057e+07</td>\n",
       "      <td>1.692155e+07</td>\n",
       "      <td>1.650270e+06</td>\n",
       "      <td>1.628526e+05</td>\n",
       "      <td>2.694144e+07</td>\n",
       "      <td>1.158857e+06</td>\n",
       "      <td>1.184641e+06</td>\n",
       "      <td>2.016269e+05</td>\n",
       "      <td>...</td>\n",
       "      <td>1.107597e+06</td>\n",
       "      <td>51397.000000</td>\n",
       "      <td>6.087239e+05</td>\n",
       "      <td>5.018716e+06</td>\n",
       "      <td>1.878618e+06</td>\n",
       "      <td>4.595993e+05</td>\n",
       "      <td>3.581517e+05</td>\n",
       "      <td>59117.789474</td>\n",
       "      <td>2.875456e+07</td>\n",
       "      <td>5.257579e+07</td>\n",
       "    </tr>\n",
       "    <tr>\n",
       "      <th>std</th>\n",
       "      <td>1.457381e+07</td>\n",
       "      <td>4.957221e+06</td>\n",
       "      <td>3.031208e+07</td>\n",
       "      <td>3.526148e+07</td>\n",
       "      <td>3.464035e+06</td>\n",
       "      <td>3.102484e+05</td>\n",
       "      <td>5.669154e+07</td>\n",
       "      <td>2.399623e+06</td>\n",
       "      <td>2.604338e+06</td>\n",
       "      <td>4.514169e+05</td>\n",
       "      <td>...</td>\n",
       "      <td>2.437518e+06</td>\n",
       "      <td>127516.047494</td>\n",
       "      <td>1.300814e+06</td>\n",
       "      <td>1.190370e+07</td>\n",
       "      <td>3.981244e+06</td>\n",
       "      <td>1.058183e+06</td>\n",
       "      <td>8.481672e+05</td>\n",
       "      <td>126709.246048</td>\n",
       "      <td>6.037040e+07</td>\n",
       "      <td>1.092609e+08</td>\n",
       "    </tr>\n",
       "    <tr>\n",
       "      <th>min</th>\n",
       "      <td>0.000000e+00</td>\n",
       "      <td>0.000000e+00</td>\n",
       "      <td>0.000000e+00</td>\n",
       "      <td>0.000000e+00</td>\n",
       "      <td>0.000000e+00</td>\n",
       "      <td>0.000000e+00</td>\n",
       "      <td>0.000000e+00</td>\n",
       "      <td>0.000000e+00</td>\n",
       "      <td>0.000000e+00</td>\n",
       "      <td>0.000000e+00</td>\n",
       "      <td>...</td>\n",
       "      <td>0.000000e+00</td>\n",
       "      <td>0.000000</td>\n",
       "      <td>0.000000e+00</td>\n",
       "      <td>0.000000e+00</td>\n",
       "      <td>0.000000e+00</td>\n",
       "      <td>0.000000e+00</td>\n",
       "      <td>0.000000e+00</td>\n",
       "      <td>0.000000</td>\n",
       "      <td>0.000000e+00</td>\n",
       "      <td>0.000000e+00</td>\n",
       "    </tr>\n",
       "    <tr>\n",
       "      <th>25%</th>\n",
       "      <td>1.906912e+06</td>\n",
       "      <td>6.959615e+05</td>\n",
       "      <td>3.802654e+06</td>\n",
       "      <td>4.524926e+06</td>\n",
       "      <td>7.203850e+04</td>\n",
       "      <td>9.938500e+03</td>\n",
       "      <td>2.759556e+06</td>\n",
       "      <td>1.959545e+05</td>\n",
       "      <td>7.325600e+04</td>\n",
       "      <td>5.590500e+03</td>\n",
       "      <td>...</td>\n",
       "      <td>7.220050e+04</td>\n",
       "      <td>3672.000000</td>\n",
       "      <td>6.083550e+04</td>\n",
       "      <td>4.510550e+04</td>\n",
       "      <td>9.622850e+04</td>\n",
       "      <td>1.154750e+04</td>\n",
       "      <td>1.313200e+04</td>\n",
       "      <td>2739.000000</td>\n",
       "      <td>2.814293e+06</td>\n",
       "      <td>1.240509e+07</td>\n",
       "    </tr>\n",
       "    <tr>\n",
       "      <th>50%</th>\n",
       "      <td>2.326183e+06</td>\n",
       "      <td>1.089613e+06</td>\n",
       "      <td>5.690659e+06</td>\n",
       "      <td>6.654683e+06</td>\n",
       "      <td>6.071390e+05</td>\n",
       "      <td>7.152900e+04</td>\n",
       "      <td>1.236782e+07</td>\n",
       "      <td>5.329430e+05</td>\n",
       "      <td>3.338460e+05</td>\n",
       "      <td>2.799800e+04</td>\n",
       "      <td>...</td>\n",
       "      <td>1.988470e+05</td>\n",
       "      <td>7240.000000</td>\n",
       "      <td>1.785020e+05</td>\n",
       "      <td>4.200050e+05</td>\n",
       "      <td>6.128980e+05</td>\n",
       "      <td>6.812700e+04</td>\n",
       "      <td>4.181400e+04</td>\n",
       "      <td>19725.000000</td>\n",
       "      <td>1.258230e+07</td>\n",
       "      <td>2.451531e+07</td>\n",
       "    </tr>\n",
       "    <tr>\n",
       "      <th>75%</th>\n",
       "      <td>4.058920e+06</td>\n",
       "      <td>1.413990e+06</td>\n",
       "      <td>8.034786e+06</td>\n",
       "      <td>9.476781e+06</td>\n",
       "      <td>1.837764e+06</td>\n",
       "      <td>1.822120e+05</td>\n",
       "      <td>2.366853e+07</td>\n",
       "      <td>1.034889e+06</td>\n",
       "      <td>8.374750e+05</td>\n",
       "      <td>1.033945e+05</td>\n",
       "      <td>...</td>\n",
       "      <td>8.433595e+05</td>\n",
       "      <td>14393.500000</td>\n",
       "      <td>5.898460e+05</td>\n",
       "      <td>2.614198e+06</td>\n",
       "      <td>2.256474e+06</td>\n",
       "      <td>1.775380e+05</td>\n",
       "      <td>1.976150e+05</td>\n",
       "      <td>46850.000000</td>\n",
       "      <td>2.530336e+07</td>\n",
       "      <td>4.005174e+07</td>\n",
       "    </tr>\n",
       "    <tr>\n",
       "      <th>max</th>\n",
       "      <td>6.457642e+07</td>\n",
       "      <td>2.220411e+07</td>\n",
       "      <td>1.347485e+08</td>\n",
       "      <td>1.569527e+08</td>\n",
       "      <td>1.537399e+07</td>\n",
       "      <td>1.347957e+06</td>\n",
       "      <td>2.529425e+08</td>\n",
       "      <td>1.073583e+07</td>\n",
       "      <td>1.124758e+07</td>\n",
       "      <td>1.905882e+06</td>\n",
       "      <td>...</td>\n",
       "      <td>1.050464e+07</td>\n",
       "      <td>487262.000000</td>\n",
       "      <td>5.763846e+06</td>\n",
       "      <td>4.765581e+07</td>\n",
       "      <td>1.779015e+07</td>\n",
       "      <td>4.311878e+06</td>\n",
       "      <td>3.396006e+06</td>\n",
       "      <td>559909.000000</td>\n",
       "      <td>2.696645e+08</td>\n",
       "      <td>4.911936e+08</td>\n",
       "    </tr>\n",
       "  </tbody>\n",
       "</table>\n",
       "<p>8 rows × 27 columns</p>\n",
       "</div>"
      ],
      "text/plain": [
       "                주거용           공공용          서비스업         업무용합계          농림어업  \\\n",
       "count  1.900000e+01  1.900000e+01  1.900000e+01  1.900000e+01  1.900000e+01   \n",
       "mean   6.899673e+06  2.410981e+06  1.451057e+07  1.692155e+07  1.650270e+06   \n",
       "std    1.457381e+07  4.957221e+06  3.031208e+07  3.526148e+07  3.464035e+06   \n",
       "min    0.000000e+00  0.000000e+00  0.000000e+00  0.000000e+00  0.000000e+00   \n",
       "25%    1.906912e+06  6.959615e+05  3.802654e+06  4.524926e+06  7.203850e+04   \n",
       "50%    2.326183e+06  1.089613e+06  5.690659e+06  6.654683e+06  6.071390e+05   \n",
       "75%    4.058920e+06  1.413990e+06  8.034786e+06  9.476781e+06  1.837764e+06   \n",
       "max    6.457642e+07  2.220411e+07  1.347485e+08  1.569527e+08  1.537399e+07   \n",
       "\n",
       "                 광업           제조업         식료품제조         섬유,의류         목재,나무  \\\n",
       "count  1.900000e+01  1.900000e+01  1.900000e+01  1.900000e+01  1.900000e+01   \n",
       "mean   1.628526e+05  2.694144e+07  1.158857e+06  1.184641e+06  2.016269e+05   \n",
       "std    3.102484e+05  5.669154e+07  2.399623e+06  2.604338e+06  4.514169e+05   \n",
       "min    0.000000e+00  0.000000e+00  0.000000e+00  0.000000e+00  0.000000e+00   \n",
       "25%    9.938500e+03  2.759556e+06  1.959545e+05  7.325600e+04  5.590500e+03   \n",
       "50%    7.152900e+04  1.236782e+07  5.329430e+05  3.338460e+05  2.799800e+04   \n",
       "75%    1.822120e+05  2.366853e+07  1.034889e+06  8.374750e+05  1.033945e+05   \n",
       "max    1.347957e+06  2.529425e+08  1.073583e+07  1.124758e+07  1.905882e+06   \n",
       "\n",
       "       ...          기타기계           사무기기          전기기기         영상,음향  \\\n",
       "count  ...  1.900000e+01      19.000000  1.900000e+01  1.900000e+01   \n",
       "mean   ...  1.107597e+06   51397.000000  6.087239e+05  5.018716e+06   \n",
       "std    ...  2.437518e+06  127516.047494  1.300814e+06  1.190370e+07   \n",
       "min    ...  0.000000e+00       0.000000  0.000000e+00  0.000000e+00   \n",
       "25%    ...  7.220050e+04    3672.000000  6.083550e+04  4.510550e+04   \n",
       "50%    ...  1.988470e+05    7240.000000  1.785020e+05  4.200050e+05   \n",
       "75%    ...  8.433595e+05   14393.500000  5.898460e+05  2.614198e+06   \n",
       "max    ...  1.050464e+07  487262.000000  5.763846e+06  4.765581e+07   \n",
       "\n",
       "                자동차          기타운송         가구및기타           재생재료         산업용합계  \\\n",
       "count  1.900000e+01  1.900000e+01  1.900000e+01      19.000000  1.900000e+01   \n",
       "mean   1.878618e+06  4.595993e+05  3.581517e+05   59117.789474  2.875456e+07   \n",
       "std    3.981244e+06  1.058183e+06  8.481672e+05  126709.246048  6.037040e+07   \n",
       "min    0.000000e+00  0.000000e+00  0.000000e+00       0.000000  0.000000e+00   \n",
       "25%    9.622850e+04  1.154750e+04  1.313200e+04    2739.000000  2.814293e+06   \n",
       "50%    6.128980e+05  6.812700e+04  4.181400e+04   19725.000000  1.258230e+07   \n",
       "75%    2.256474e+06  1.775380e+05  1.976150e+05   46850.000000  2.530336e+07   \n",
       "max    1.779015e+07  4.311878e+06  3.396006e+06  559909.000000  2.696645e+08   \n",
       "\n",
       "                 합계  \n",
       "count  1.900000e+01  \n",
       "mean   5.257579e+07  \n",
       "std    1.092609e+08  \n",
       "min    0.000000e+00  \n",
       "25%    1.240509e+07  \n",
       "50%    2.451531e+07  \n",
       "75%    4.005174e+07  \n",
       "max    4.911936e+08  \n",
       "\n",
       "[8 rows x 27 columns]"
      ]
     },
     "execution_count": 5,
     "metadata": {},
     "output_type": "execute_result"
    }
   ],
   "source": [
    "df.describe()"
   ]
  },
  {
   "cell_type": "code",
   "execution_count": 6,
   "metadata": {
    "id": "Oe8tN2HPmPiE"
   },
   "outputs": [
    {
     "data": {
      "text/plain": [
       "(17, 27)"
      ]
     },
     "execution_count": 6,
     "metadata": {},
     "output_type": "execute_result"
    }
   ],
   "source": [
    "df = df.set_index('구분')\n",
    "df = df.drop(['합계', '개성'], errors='ignore')\n",
    "df.shape"
   ]
  },
  {
   "cell_type": "markdown",
   "metadata": {
    "id": "1F9orsoZmPiJ"
   },
   "source": [
    "### Fonts for Korean Letters (한글폰트) "
   ]
  },
  {
   "cell_type": "code",
   "execution_count": 9,
   "metadata": {
    "id": "orYa2eEMmPiJ"
   },
   "outputs": [],
   "source": [
    "import platform\n",
    "import matplotlib\n",
    "from matplotlib import font_manager, rc\n",
    "\n",
    "# '-' 기호 보이게 하기\n",
    "matplotlib.rcParams['axes.unicode_minus'] = False\n",
    "\n",
    "# 운영 체제마다 한글이 보이게 하는 설정\n",
    "if platform.system() == 'Windows':\n",
    "    path = \"c:\\Windows\\Fonts\\malgun.ttf\"\n",
    "    font_name = font_manager.FontProperties(fname=path).get_name()\n",
    "    rc('font', family=font_name)\n",
    "elif platform.system() == 'Darwin':\n",
    "    rc('font', family='AppleGothic')\n",
    "elif platform.system() == 'Linux':\n",
    "    rc('font', family='NanumBarunGothic')"
   ]
  },
  {
   "cell_type": "code",
   "execution_count": 8,
   "metadata": {},
   "outputs": [
    {
     "data": {
      "text/plain": [
       "<matplotlib.axes._subplots.AxesSubplot at 0x248ac651730>"
      ]
     },
     "execution_count": 8,
     "metadata": {},
     "output_type": "execute_result"
    },
    {
     "data": {
      "image/png": "[encoded data removed]",
      "text/plain": [
       "<Figure size 720x432 with 1 Axes>"
      ]
     },
     "metadata": {
      "needs_background": "light"
     },
     "output_type": "display_data"
    }
   ],
   "source": [
    "df.plot(kind='barh', figsize=(10,6), stacked=True)"
   ]
  },
  {
   "cell_type": "code",
   "execution_count": 10,
   "metadata": {
    "id": "3x35y_e7mPiM",
    "outputId": "8f93c45a-74be-4f31-bd5d-463b7af8ca12"
   },
   "outputs": [
    {
     "data": {
      "text/plain": [
       "<matplotlib.axes._subplots.AxesSubplot at 0x248ad41dcd0>"
      ]
     },
     "execution_count": 10,
     "metadata": {},
     "output_type": "execute_result"
    },
    {
     "data": {
      "image/png": "[encoded data removed]",
      "text/plain": [
       "<Figure size 720x432 with 1 Axes>"
      ]
     },
     "metadata": {
      "needs_background": "light"
     },
     "output_type": "display_data"
    }
   ],
   "source": [
    "see_c = ['서비스업','제조업']\n",
    "df[see_c].plot(kind='barh', figsize=(10,6), stacked=True)"
   ]
  },
  {
   "cell_type": "code",
   "execution_count": 11,
   "metadata": {
    "id": "n8EoArkimPiO",
    "outputId": "996f30ba-c2f3-4715-e006-06dea86193ad",
    "scrolled": false
   },
   "outputs": [
    {
     "data": {
      "text/html": [
       "<div>\n",
       "<style scoped>\n",
       "    .dataframe tbody tr th:only-of-type {\n",
       "        vertical-align: middle;\n",
       "    }\n",
       "\n",
       "    .dataframe tbody tr th {\n",
       "        vertical-align: top;\n",
       "    }\n",
       "\n",
       "    .dataframe thead th {\n",
       "        text-align: right;\n",
       "    }\n",
       "</style>\n",
       "<table border=\"1\" class=\"dataframe\">\n",
       "  <thead>\n",
       "    <tr style=\"text-align: right;\">\n",
       "      <th></th>\n",
       "      <th>서비스업</th>\n",
       "      <th>제조업</th>\n",
       "    </tr>\n",
       "    <tr>\n",
       "      <th>구분</th>\n",
       "      <th></th>\n",
       "      <th></th>\n",
       "    </tr>\n",
       "  </thead>\n",
       "  <tbody>\n",
       "    <tr>\n",
       "      <th>강원</th>\n",
       "      <td>6203749</td>\n",
       "      <td>6002286</td>\n",
       "    </tr>\n",
       "    <tr>\n",
       "      <th>경기</th>\n",
       "      <td>33434551</td>\n",
       "      <td>56603327</td>\n",
       "    </tr>\n",
       "    <tr>\n",
       "      <th>경남</th>\n",
       "      <td>8667737</td>\n",
       "      <td>18053778</td>\n",
       "    </tr>\n",
       "    <tr>\n",
       "      <th>경북</th>\n",
       "      <td>8487402</td>\n",
       "      <td>30115601</td>\n",
       "    </tr>\n",
       "    <tr>\n",
       "      <th>광주</th>\n",
       "      <td>3174973</td>\n",
       "      <td>2910768</td>\n",
       "    </tr>\n",
       "  </tbody>\n",
       "</table>\n",
       "</div>"
      ],
      "text/plain": [
       "        서비스업       제조업\n",
       "구분                    \n",
       "강원   6203749   6002286\n",
       "경기  33434551  56603327\n",
       "경남   8667737  18053778\n",
       "경북   8487402  30115601\n",
       "광주   3174973   2910768"
      ]
     },
     "execution_count": 11,
     "metadata": {},
     "output_type": "execute_result"
    }
   ],
   "source": [
    "df2 = df[see_c]\n",
    "df2.head(5)"
   ]
  },
  {
   "cell_type": "markdown",
   "metadata": {
    "id": "F-WeHz3PmPiT"
   },
   "source": [
    "### scatter plot"
   ]
  },
  {
   "cell_type": "code",
   "execution_count": 12,
   "metadata": {
    "id": "44VvZX-gmPiT",
    "outputId": "66707fe7-b2c5-4e21-f42c-ac9f104cbd8f"
   },
   "outputs": [
    {
     "data": {
      "image/png": "[encoded data removed]",
      "text/plain": [
       "<Figure size 432x432 with 1 Axes>"
      ]
     },
     "metadata": {
      "needs_background": "light"
     },
     "output_type": "display_data"
    }
   ],
   "source": [
    "plt.figure(figsize=(6,6))\n",
    "plt.scatter(df2['서비스업'], df2['제조업'],c='k',marker='o')\n",
    "plt.xlabel('서비스업')\n",
    "plt.ylabel('제조업')\n",
    "\n",
    "for n in range(df2.shape[0]):\n",
    "    plt.text(df2['서비스업'][n]*1.03, df2['제조업'][n]*0.98, df2.index[n])"
   ]
  },
  {
   "cell_type": "code",
   "execution_count": 13,
   "metadata": {
    "id": "Btgs59xHmPiW",
    "outputId": "6a2206b9-c94b-472b-d934-4dcfed9fb1fb"
   },
   "outputs": [
    {
     "data": {
      "text/plain": [
       "(15, 2)"
      ]
     },
     "execution_count": 13,
     "metadata": {},
     "output_type": "execute_result"
    }
   ],
   "source": [
    "df2 = df2.drop(['경기', '서울'])\n",
    "df2.shape"
   ]
  },
  {
   "cell_type": "markdown",
   "metadata": {
    "id": "hk99jB6rmPic"
   },
   "source": [
    "### Agglomerative clustering (Hierarchical) and Dendrogram"
   ]
  },
  {
   "cell_type": "code",
   "execution_count": 14,
   "metadata": {
    "id": "wtguZVoNmPic",
    "outputId": "c9da4128-b79c-4111-8311-c1e016c225c9"
   },
   "outputs": [
    {
     "data": {
      "image/png": "[encoded data removed]",
      "text/plain": [
       "<Figure size 720x360 with 1 Axes>"
      ]
     },
     "metadata": {
      "needs_background": "light"
     },
     "output_type": "display_data"
    }
   ],
   "source": [
    "from scipy.cluster.hierarchy import dendrogram, linkage\n",
    "\n",
    "plt.figure(figsize=(10, 5))\n",
    "link_dist = linkage(df2, metric='euclidean', method='centroid')\n",
    "link_dist\n",
    "# method = ward, median, centroid, average, weightd, complete, single\n",
    "dendrogram(link_dist, labels=list(df2.index))\n",
    "plt.show()"
   ]
  },
  {
   "cell_type": "markdown",
   "metadata": {
    "id": "HwNfwTZImPig"
   },
   "source": [
    "### KMeans\n",
    "Animation to explain algo - http://tech.nitoyon.com/en/blog/2013/11/07/k-means/"
   ]
  },
  {
   "cell_type": "code",
   "execution_count": 15,
   "metadata": {
    "id": "PxeM4-5amPig",
    "outputId": "52125dce-52ff-4120-9017-fa1b85b7c736"
   },
   "outputs": [
    {
     "name": "stdout",
     "output_type": "stream",
     "text": [
      "4\n"
     ]
    }
   ],
   "source": [
    "from sklearn.cluster import KMeans\n",
    "\n",
    "km = KMeans(n_clusters = 4).fit(df2)\n",
    "print(km.n_clusters)"
   ]
  },
  {
   "cell_type": "code",
   "execution_count": 16,
   "metadata": {
    "id": "76fHUUgYmPii",
    "outputId": "4c0e1721-2553-4dba-b38d-9aa2c22fc484"
   },
   "outputs": [
    {
     "data": {
      "text/plain": [
       "(array([1, 0, 2, 1, 1, 1, 1, 1, 3, 0, 3, 0, 1, 2, 0]),\n",
       " array([[ 6384277.25      , 14817729.25      ],\n",
       "        [ 4191629.42857143,  3805868.14285714],\n",
       "        [ 7825920.5       , 33586778.        ],\n",
       "        [ 4670022.5       , 23668529.        ]]))"
      ]
     },
     "execution_count": 16,
     "metadata": {},
     "output_type": "execute_result"
    }
   ],
   "source": [
    "km.labels_, km.cluster_centers_"
   ]
  },
  {
   "cell_type": "code",
   "execution_count": 17,
   "metadata": {},
   "outputs": [],
   "source": [
    "km_labels_two = km.labels_       # for compare later on"
   ]
  },
  {
   "cell_type": "code",
   "execution_count": 18,
   "metadata": {
    "id": "RRTMqrYfmPim",
    "outputId": "283bbc10-ae73-4240-a04c-62364f7f504d"
   },
   "outputs": [
    {
     "data": {
      "text/html": [
       "<div>\n",
       "<style scoped>\n",
       "    .dataframe tbody tr th:only-of-type {\n",
       "        vertical-align: middle;\n",
       "    }\n",
       "\n",
       "    .dataframe tbody tr th {\n",
       "        vertical-align: top;\n",
       "    }\n",
       "\n",
       "    .dataframe thead th {\n",
       "        text-align: right;\n",
       "    }\n",
       "</style>\n",
       "<table border=\"1\" class=\"dataframe\">\n",
       "  <thead>\n",
       "    <tr style=\"text-align: right;\">\n",
       "      <th></th>\n",
       "      <th>서비스업</th>\n",
       "      <th>제조업</th>\n",
       "      <th>클러스터</th>\n",
       "    </tr>\n",
       "    <tr>\n",
       "      <th>구분</th>\n",
       "      <th></th>\n",
       "      <th></th>\n",
       "      <th></th>\n",
       "    </tr>\n",
       "  </thead>\n",
       "  <tbody>\n",
       "    <tr>\n",
       "      <th>강원</th>\n",
       "      <td>6203749</td>\n",
       "      <td>6002286</td>\n",
       "      <td>1</td>\n",
       "    </tr>\n",
       "    <tr>\n",
       "      <th>경남</th>\n",
       "      <td>8667737</td>\n",
       "      <td>18053778</td>\n",
       "      <td>0</td>\n",
       "    </tr>\n",
       "    <tr>\n",
       "      <th>경북</th>\n",
       "      <td>8487402</td>\n",
       "      <td>30115601</td>\n",
       "      <td>2</td>\n",
       "    </tr>\n",
       "    <tr>\n",
       "      <th>광주</th>\n",
       "      <td>3174973</td>\n",
       "      <td>2910768</td>\n",
       "      <td>1</td>\n",
       "    </tr>\n",
       "    <tr>\n",
       "      <th>대구</th>\n",
       "      <td>5470438</td>\n",
       "      <td>5862633</td>\n",
       "      <td>1</td>\n",
       "    </tr>\n",
       "    <tr>\n",
       "      <th>대전</th>\n",
       "      <td>3955921</td>\n",
       "      <td>2608343</td>\n",
       "      <td>1</td>\n",
       "    </tr>\n",
       "    <tr>\n",
       "      <th>부산</th>\n",
       "      <td>7582169</td>\n",
       "      <td>7512588</td>\n",
       "      <td>1</td>\n",
       "    </tr>\n",
       "    <tr>\n",
       "      <th>세종</th>\n",
       "      <td>645424</td>\n",
       "      <td>1502922</td>\n",
       "      <td>1</td>\n",
       "    </tr>\n",
       "    <tr>\n",
       "      <th>울산</th>\n",
       "      <td>3649386</td>\n",
       "      <td>25883132</td>\n",
       "      <td>3</td>\n",
       "    </tr>\n",
       "    <tr>\n",
       "      <th>인천</th>\n",
       "      <td>7154416</td>\n",
       "      <td>12367816</td>\n",
       "      <td>0</td>\n",
       "    </tr>\n",
       "    <tr>\n",
       "      <th>전남</th>\n",
       "      <td>5690659</td>\n",
       "      <td>21453926</td>\n",
       "      <td>3</td>\n",
       "    </tr>\n",
       "    <tr>\n",
       "      <th>전북</th>\n",
       "      <td>4910318</td>\n",
       "      <td>12965875</td>\n",
       "      <td>0</td>\n",
       "    </tr>\n",
       "    <tr>\n",
       "      <th>제주</th>\n",
       "      <td>2308732</td>\n",
       "      <td>241537</td>\n",
       "      <td>1</td>\n",
       "    </tr>\n",
       "    <tr>\n",
       "      <th>충남</th>\n",
       "      <td>7164439</td>\n",
       "      <td>37057955</td>\n",
       "      <td>2</td>\n",
       "    </tr>\n",
       "    <tr>\n",
       "      <th>충북</th>\n",
       "      <td>4804638</td>\n",
       "      <td>15883448</td>\n",
       "      <td>0</td>\n",
       "    </tr>\n",
       "  </tbody>\n",
       "</table>\n",
       "</div>"
      ],
      "text/plain": [
       "       서비스업       제조업  클러스터\n",
       "구분                         \n",
       "강원  6203749   6002286     1\n",
       "경남  8667737  18053778     0\n",
       "경북  8487402  30115601     2\n",
       "광주  3174973   2910768     1\n",
       "대구  5470438   5862633     1\n",
       "대전  3955921   2608343     1\n",
       "부산  7582169   7512588     1\n",
       "세종   645424   1502922     1\n",
       "울산  3649386  25883132     3\n",
       "인천  7154416  12367816     0\n",
       "전남  5690659  21453926     3\n",
       "전북  4910318  12965875     0\n",
       "제주  2308732    241537     1\n",
       "충남  7164439  37057955     2\n",
       "충북  4804638  15883448     0"
      ]
     },
     "execution_count": 18,
     "metadata": {},
     "output_type": "execute_result"
    }
   ],
   "source": [
    "df2['클러스터'] = km.labels_\n",
    "df2"
   ]
  },
  {
   "cell_type": "code",
   "execution_count": 19,
   "metadata": {
    "id": "QIR_JsRLmPio",
    "outputId": "a74cd2bd-be4c-4281-a043-5538388045b3"
   },
   "outputs": [
    {
     "data": {
      "text/html": [
       "<div>\n",
       "<style scoped>\n",
       "    .dataframe tbody tr th:only-of-type {\n",
       "        vertical-align: middle;\n",
       "    }\n",
       "\n",
       "    .dataframe tbody tr th {\n",
       "        vertical-align: top;\n",
       "    }\n",
       "\n",
       "    .dataframe thead th {\n",
       "        text-align: right;\n",
       "    }\n",
       "</style>\n",
       "<table border=\"1\" class=\"dataframe\">\n",
       "  <thead>\n",
       "    <tr style=\"text-align: right;\">\n",
       "      <th></th>\n",
       "      <th>서비스업</th>\n",
       "      <th>제조업</th>\n",
       "    </tr>\n",
       "    <tr>\n",
       "      <th>구분</th>\n",
       "      <th></th>\n",
       "      <th></th>\n",
       "    </tr>\n",
       "  </thead>\n",
       "  <tbody>\n",
       "    <tr>\n",
       "      <th>강원</th>\n",
       "      <td>6203749</td>\n",
       "      <td>6002286</td>\n",
       "    </tr>\n",
       "    <tr>\n",
       "      <th>경남</th>\n",
       "      <td>8667737</td>\n",
       "      <td>18053778</td>\n",
       "    </tr>\n",
       "    <tr>\n",
       "      <th>경북</th>\n",
       "      <td>8487402</td>\n",
       "      <td>30115601</td>\n",
       "    </tr>\n",
       "    <tr>\n",
       "      <th>광주</th>\n",
       "      <td>3174973</td>\n",
       "      <td>2910768</td>\n",
       "    </tr>\n",
       "    <tr>\n",
       "      <th>대구</th>\n",
       "      <td>5470438</td>\n",
       "      <td>5862633</td>\n",
       "    </tr>\n",
       "  </tbody>\n",
       "</table>\n",
       "</div>"
      ],
      "text/plain": [
       "       서비스업       제조업\n",
       "구분                   \n",
       "강원  6203749   6002286\n",
       "경남  8667737  18053778\n",
       "경북  8487402  30115601\n",
       "광주  3174973   2910768\n",
       "대구  5470438   5862633"
      ]
     },
     "execution_count": 19,
     "metadata": {},
     "output_type": "execute_result"
    }
   ],
   "source": [
    "df2.drop('클러스터', axis = 1, inplace=True) ; df2.head()"
   ]
  },
  {
   "cell_type": "code",
   "execution_count": 20,
   "metadata": {
    "id": "F3a5v0DamPir",
    "outputId": "df78de49-59e7-45eb-95be-c6ab43907bd2",
    "scrolled": true
   },
   "outputs": [
    {
     "data": {
      "text/plain": [
       "array([[ 6384277.25      , 14817729.25      ],\n",
       "       [ 4191629.42857143,  3805868.14285714],\n",
       "       [ 7825920.5       , 33586778.        ],\n",
       "       [ 4670022.5       , 23668529.        ]])"
      ]
     },
     "execution_count": 20,
     "metadata": {},
     "output_type": "execute_result"
    }
   ],
   "source": [
    "centers = km.cluster_centers_; \n",
    "centers"
   ]
  },
  {
   "cell_type": "code",
   "execution_count": 21,
   "metadata": {
    "id": "fbEQXCynmPiv",
    "outputId": "8ca41dee-e376-4874-bb72-99a3160fc401"
   },
   "outputs": [
    {
     "data": {
      "image/png": "[encoded data removed]",
      "text/plain": [
       "<Figure size 720x576 with 1 Axes>"
      ]
     },
     "metadata": {
      "needs_background": "light"
     },
     "output_type": "display_data"
    }
   ],
   "source": [
    "my_markers=['*','^', 'o','^','.',',','1','2']\n",
    "my_color =['r','c','g','b','g','k','r','y']\n",
    "\n",
    "plt.figure(figsize=(10, 8))\n",
    "plt.xlabel('서비스업')\n",
    "plt.ylabel('제조업')\n",
    "for n in range(df2.shape[0]):\n",
    "    label = km.labels_[n]\n",
    "    plt.scatter(df2['서비스업'][n], df2['제조업'][n], c=my_color[label], marker=my_markers[label], s=100)\n",
    "    plt.text(df2['서비스업'][n]*1.03, df2['제조업'][n]*0.98, df2.index[n])\n",
    "    \n",
    "for i in range(km.n_clusters):\n",
    "    plt.scatter(centers[i][0], centers[i][1], c = 'b', s= 50)"
   ]
  },
  {
   "cell_type": "markdown",
   "metadata": {
    "id": "2k00w8PrmPiz"
   },
   "source": [
    "### Scaling (don't forget !)"
   ]
  },
  {
   "cell_type": "code",
   "execution_count": 22,
   "metadata": {
    "id": "rMpKWL_hmPi0",
    "outputId": "4f0358f7-f154-4627-fc98-f7ff83e91ac7"
   },
   "outputs": [
    {
     "data": {
      "text/html": [
       "<div>\n",
       "<style scoped>\n",
       "    .dataframe tbody tr th:only-of-type {\n",
       "        vertical-align: middle;\n",
       "    }\n",
       "\n",
       "    .dataframe tbody tr th {\n",
       "        vertical-align: top;\n",
       "    }\n",
       "\n",
       "    .dataframe thead th {\n",
       "        text-align: right;\n",
       "    }\n",
       "</style>\n",
       "<table border=\"1\" class=\"dataframe\">\n",
       "  <thead>\n",
       "    <tr style=\"text-align: right;\">\n",
       "      <th></th>\n",
       "      <th>서비스업</th>\n",
       "      <th>제조업</th>\n",
       "    </tr>\n",
       "    <tr>\n",
       "      <th>구분</th>\n",
       "      <th></th>\n",
       "      <th></th>\n",
       "    </tr>\n",
       "  </thead>\n",
       "  <tbody>\n",
       "    <tr>\n",
       "      <th>강원</th>\n",
       "      <td>0.393992</td>\n",
       "      <td>-0.676282</td>\n",
       "    </tr>\n",
       "    <tr>\n",
       "      <th>경남</th>\n",
       "      <td>1.498349</td>\n",
       "      <td>0.431200</td>\n",
       "    </tr>\n",
       "    <tr>\n",
       "      <th>경북</th>\n",
       "      <td>1.417523</td>\n",
       "      <td>1.539632</td>\n",
       "    </tr>\n",
       "  </tbody>\n",
       "</table>\n",
       "</div>"
      ],
      "text/plain": [
       "        서비스업       제조업\n",
       "구분                    \n",
       "강원  0.393992 -0.676282\n",
       "경남  1.498349  0.431200\n",
       "경북  1.417523  1.539632"
      ]
     },
     "execution_count": 22,
     "metadata": {},
     "output_type": "execute_result"
    }
   ],
   "source": [
    "from sklearn.preprocessing import StandardScaler\n",
    "scaler = StandardScaler()\n",
    "df2[['서비스업', '제조업']] = scaler.fit_transform(df2[['서비스업', '제조업']])\n",
    "df2.head(3)"
   ]
  },
  {
   "cell_type": "markdown",
   "metadata": {
    "id": "4_HHzzP9mPi3"
   },
   "source": [
    "### Clustering after Scaling"
   ]
  },
  {
   "cell_type": "code",
   "execution_count": 23,
   "metadata": {
    "id": "eSeNbEr-mPi3",
    "outputId": "df0a6413-d532-4a02-bc68-9a68e0167310",
    "scrolled": true
   },
   "outputs": [
    {
     "data": {
      "image/png": "[encoded data removed]",
      "text/plain": [
       "<Figure size 720x360 with 1 Axes>"
      ]
     },
     "metadata": {
      "needs_background": "light"
     },
     "output_type": "display_data"
    }
   ],
   "source": [
    "Z = linkage(df2, metric='euclidean', method='centroid')\n",
    "plt.figure(figsize=(10, 5))\n",
    "plt.title('Dendrogram')\n",
    "dendrogram(Z, labels=df2.index)\n",
    "plt.show()"
   ]
  },
  {
   "cell_type": "code",
   "execution_count": 27,
   "metadata": {
    "id": "dSgX_6KemPi7"
   },
   "outputs": [],
   "source": [
    "km = KMeans(n_clusters= 4).fit(df2)"
   ]
  },
  {
   "cell_type": "code",
   "execution_count": 28,
   "metadata": {
    "id": "s7aldx6MmPi9"
   },
   "outputs": [],
   "source": [
    "centers = km.cluster_centers_\n",
    "km_labels_two_scaled = km.labels_        # for compare later on"
   ]
  },
  {
   "cell_type": "code",
   "execution_count": 29,
   "metadata": {
    "id": "BRDRvLBCmPi_",
    "outputId": "db8e49f2-fd5b-4971-a672-cbc714021dd0"
   },
   "outputs": [
    {
     "data": {
      "text/plain": [
       "<Figure size 432x288 with 0 Axes>"
      ]
     },
     "metadata": {},
     "output_type": "display_data"
    },
    {
     "data": {
      "image/png": "[encoded data removed]",
      "text/plain": [
       "<Figure size 576x432 with 1 Axes>"
      ]
     },
     "metadata": {
      "needs_background": "light"
     },
     "output_type": "display_data"
    }
   ],
   "source": [
    "plt.clf()\n",
    "plt.figure(figsize=(8, 6))\n",
    "plt.xlabel('서비스업')\n",
    "plt.ylabel('제조업')\n",
    "\n",
    "for n in range(df2.shape[0]):\n",
    "    label = km.labels_[n]\n",
    "    plt.scatter(df2['서비스업'][n], df2['제조업'][n], c=my_color[label], marker=my_markers[label], s=100)\n",
    "    plt.text(df2['서비스업'][n]*1.05, df2['제조업'][n]*0.99, df2.index[n])\n",
    "    \n",
    "for i in range(km.n_clusters):\n",
    "    plt.scatter(centers[i][0], centers[i][1], c = 'k', s= 50)"
   ]
  },
  {
   "cell_type": "markdown",
   "metadata": {
    "id": "4jcn-NQpmPjC"
   },
   "source": [
    "### Let's use all features for clustering (instead of two)"
   ]
  },
  {
   "cell_type": "code",
   "execution_count": 30,
   "metadata": {
    "id": "ee1ywusOmPjD",
    "outputId": "7787485f-6c3a-4fb7-b6a1-4b1c6116e4b5"
   },
   "outputs": [
    {
     "data": {
      "text/html": [
       "<div>\n",
       "<style scoped>\n",
       "    .dataframe tbody tr th:only-of-type {\n",
       "        vertical-align: middle;\n",
       "    }\n",
       "\n",
       "    .dataframe tbody tr th {\n",
       "        vertical-align: top;\n",
       "    }\n",
       "\n",
       "    .dataframe thead th {\n",
       "        text-align: right;\n",
       "    }\n",
       "</style>\n",
       "<table border=\"1\" class=\"dataframe\">\n",
       "  <thead>\n",
       "    <tr style=\"text-align: right;\">\n",
       "      <th>구분</th>\n",
       "      <th>강원</th>\n",
       "      <th>경기</th>\n",
       "      <th>경남</th>\n",
       "      <th>경북</th>\n",
       "      <th>광주</th>\n",
       "    </tr>\n",
       "  </thead>\n",
       "  <tbody>\n",
       "    <tr>\n",
       "      <th>주거용</th>\n",
       "      <td>1940933</td>\n",
       "      <td>16587710</td>\n",
       "      <td>4260988</td>\n",
       "      <td>3302463</td>\n",
       "      <td>1954876</td>\n",
       "    </tr>\n",
       "    <tr>\n",
       "      <th>공공용</th>\n",
       "      <td>1400421</td>\n",
       "      <td>5533662</td>\n",
       "      <td>1427560</td>\n",
       "      <td>1578115</td>\n",
       "      <td>565527</td>\n",
       "    </tr>\n",
       "    <tr>\n",
       "      <th>서비스업</th>\n",
       "      <td>6203749</td>\n",
       "      <td>33434551</td>\n",
       "      <td>8667737</td>\n",
       "      <td>8487402</td>\n",
       "      <td>3174973</td>\n",
       "    </tr>\n",
       "    <tr>\n",
       "      <th>업무용합계</th>\n",
       "      <td>7604170</td>\n",
       "      <td>38968213</td>\n",
       "      <td>10095297</td>\n",
       "      <td>10065517</td>\n",
       "      <td>3740500</td>\n",
       "    </tr>\n",
       "    <tr>\n",
       "      <th>농림어업</th>\n",
       "      <td>607139</td>\n",
       "      <td>2371347</td>\n",
       "      <td>2141813</td>\n",
       "      <td>1747462</td>\n",
       "      <td>74608</td>\n",
       "    </tr>\n",
       "    <tr>\n",
       "      <th>광업</th>\n",
       "      <td>398287</td>\n",
       "      <td>317263</td>\n",
       "      <td>95989</td>\n",
       "      <td>224568</td>\n",
       "      <td>2898</td>\n",
       "    </tr>\n",
       "    <tr>\n",
       "      <th>제조업</th>\n",
       "      <td>6002286</td>\n",
       "      <td>56603327</td>\n",
       "      <td>18053778</td>\n",
       "      <td>30115601</td>\n",
       "      <td>2910768</td>\n",
       "    </tr>\n",
       "    <tr>\n",
       "      <th>식료품제조</th>\n",
       "      <td>546621</td>\n",
       "      <td>2544420</td>\n",
       "      <td>932743</td>\n",
       "      <td>566071</td>\n",
       "      <td>161072</td>\n",
       "    </tr>\n",
       "    <tr>\n",
       "      <th>섬유,의류</th>\n",
       "      <td>13027</td>\n",
       "      <td>2109963</td>\n",
       "      <td>346974</td>\n",
       "      <td>3780171</td>\n",
       "      <td>295922</td>\n",
       "    </tr>\n",
       "    <tr>\n",
       "      <th>목재,나무</th>\n",
       "      <td>19147</td>\n",
       "      <td>529274</td>\n",
       "      <td>60160</td>\n",
       "      <td>72680</td>\n",
       "      <td>6782</td>\n",
       "    </tr>\n",
       "    <tr>\n",
       "      <th>펄프,종이</th>\n",
       "      <td>24382</td>\n",
       "      <td>1917458</td>\n",
       "      <td>817685</td>\n",
       "      <td>361772</td>\n",
       "      <td>41827</td>\n",
       "    </tr>\n",
       "    <tr>\n",
       "      <th>출판,인쇄</th>\n",
       "      <td>7727</td>\n",
       "      <td>731348</td>\n",
       "      <td>28486</td>\n",
       "      <td>44402</td>\n",
       "      <td>22038</td>\n",
       "    </tr>\n",
       "    <tr>\n",
       "      <th>석유,화확</th>\n",
       "      <td>175323</td>\n",
       "      <td>6881775</td>\n",
       "      <td>1865583</td>\n",
       "      <td>3653665</td>\n",
       "      <td>391151</td>\n",
       "    </tr>\n",
       "    <tr>\n",
       "      <th>의료,광학</th>\n",
       "      <td>84397</td>\n",
       "      <td>1336390</td>\n",
       "      <td>178498</td>\n",
       "      <td>217771</td>\n",
       "      <td>27221</td>\n",
       "    </tr>\n",
       "    <tr>\n",
       "      <th>요업</th>\n",
       "      <td>3695776</td>\n",
       "      <td>1728379</td>\n",
       "      <td>429920</td>\n",
       "      <td>1269917</td>\n",
       "      <td>20728</td>\n",
       "    </tr>\n",
       "    <tr>\n",
       "      <th>1차금속</th>\n",
       "      <td>1038913</td>\n",
       "      <td>2020196</td>\n",
       "      <td>3809547</td>\n",
       "      <td>10874970</td>\n",
       "      <td>75702</td>\n",
       "    </tr>\n",
       "    <tr>\n",
       "      <th>조립금속</th>\n",
       "      <td>39477</td>\n",
       "      <td>2302355</td>\n",
       "      <td>1699879</td>\n",
       "      <td>933178</td>\n",
       "      <td>156396</td>\n",
       "    </tr>\n",
       "    <tr>\n",
       "      <th>기타기계</th>\n",
       "      <td>35063</td>\n",
       "      <td>3613798</td>\n",
       "      <td>1902913</td>\n",
       "      <td>782570</td>\n",
       "      <td>198847</td>\n",
       "    </tr>\n",
       "    <tr>\n",
       "      <th>사무기기</th>\n",
       "      <td>2019</td>\n",
       "      <td>317244</td>\n",
       "      <td>8070</td>\n",
       "      <td>14468</td>\n",
       "      <td>5967</td>\n",
       "    </tr>\n",
       "    <tr>\n",
       "      <th>전기기기</th>\n",
       "      <td>38062</td>\n",
       "      <td>1040171</td>\n",
       "      <td>924235</td>\n",
       "      <td>750786</td>\n",
       "      <td>236622</td>\n",
       "    </tr>\n",
       "    <tr>\n",
       "      <th>영상,음향</th>\n",
       "      <td>43986</td>\n",
       "      <td>24519644</td>\n",
       "      <td>534196</td>\n",
       "      <td>4174971</td>\n",
       "      <td>723764</td>\n",
       "    </tr>\n",
       "    <tr>\n",
       "      <th>자동차</th>\n",
       "      <td>113448</td>\n",
       "      <td>2977165</td>\n",
       "      <td>2156059</td>\n",
       "      <td>2356890</td>\n",
       "      <td>512148</td>\n",
       "    </tr>\n",
       "    <tr>\n",
       "      <th>기타운송</th>\n",
       "      <td>108629</td>\n",
       "      <td>67594</td>\n",
       "      <td>2048646</td>\n",
       "      <td>123935</td>\n",
       "      <td>5140</td>\n",
       "    </tr>\n",
       "    <tr>\n",
       "      <th>가구및기타</th>\n",
       "      <td>12872</td>\n",
       "      <td>1833112</td>\n",
       "      <td>262523</td>\n",
       "      <td>60280</td>\n",
       "      <td>13392</td>\n",
       "    </tr>\n",
       "    <tr>\n",
       "      <th>재생재료</th>\n",
       "      <td>3418</td>\n",
       "      <td>133041</td>\n",
       "      <td>47662</td>\n",
       "      <td>77104</td>\n",
       "      <td>16049</td>\n",
       "    </tr>\n",
       "    <tr>\n",
       "      <th>산업용합계</th>\n",
       "      <td>7007712</td>\n",
       "      <td>59291937</td>\n",
       "      <td>20291580</td>\n",
       "      <td>32087631</td>\n",
       "      <td>2988274</td>\n",
       "    </tr>\n",
       "    <tr>\n",
       "      <th>합계</th>\n",
       "      <td>16552816</td>\n",
       "      <td>114847859</td>\n",
       "      <td>34647864</td>\n",
       "      <td>45455611</td>\n",
       "      <td>8683649</td>\n",
       "    </tr>\n",
       "  </tbody>\n",
       "</table>\n",
       "</div>"
      ],
      "text/plain": [
       "구분           강원         경기        경남        경북       광주\n",
       "주거용     1940933   16587710   4260988   3302463  1954876\n",
       "공공용     1400421    5533662   1427560   1578115   565527\n",
       "서비스업    6203749   33434551   8667737   8487402  3174973\n",
       "업무용합계   7604170   38968213  10095297  10065517  3740500\n",
       "농림어업     607139    2371347   2141813   1747462    74608\n",
       "광업       398287     317263     95989    224568     2898\n",
       "제조업     6002286   56603327  18053778  30115601  2910768\n",
       "식료품제조    546621    2544420    932743    566071   161072\n",
       "섬유,의류     13027    2109963    346974   3780171   295922\n",
       "목재,나무     19147     529274     60160     72680     6782\n",
       "펄프,종이     24382    1917458    817685    361772    41827\n",
       "출판,인쇄      7727     731348     28486     44402    22038\n",
       "석유,화확    175323    6881775   1865583   3653665   391151\n",
       "의료,광학     84397    1336390    178498    217771    27221\n",
       "요업      3695776    1728379    429920   1269917    20728\n",
       "1차금속    1038913    2020196   3809547  10874970    75702\n",
       "조립금속      39477    2302355   1699879    933178   156396\n",
       "기타기계      35063    3613798   1902913    782570   198847\n",
       "사무기기       2019     317244      8070     14468     5967\n",
       "전기기기      38062    1040171    924235    750786   236622\n",
       "영상,음향     43986   24519644    534196   4174971   723764\n",
       "자동차      113448    2977165   2156059   2356890   512148\n",
       "기타운송     108629      67594   2048646    123935     5140\n",
       "가구및기타     12872    1833112    262523     60280    13392\n",
       "재생재료       3418     133041     47662     77104    16049\n",
       "산업용합계   7007712   59291937  20291580  32087631  2988274\n",
       "합계     16552816  114847859  34647864  45455611  8683649"
      ]
     },
     "execution_count": 30,
     "metadata": {},
     "output_type": "execute_result"
    }
   ],
   "source": [
    "df.head().T"
   ]
  },
  {
   "cell_type": "code",
   "execution_count": 31,
   "metadata": {
    "id": "JHh1YO0EmPjI"
   },
   "outputs": [],
   "source": [
    "df.drop(['업무용합계', '산업용합계', '합계'], axis=1, inplace=True, errors='ignore')\n",
    "df.drop(['경기','서울'], inplace=True,errors='ignore')"
   ]
  },
  {
   "cell_type": "code",
   "execution_count": 32,
   "metadata": {
    "id": "fSmUGZS5mPjK",
    "outputId": "178af44a-6d02-4603-bffb-f19d8b4f16ec",
    "scrolled": false
   },
   "outputs": [
    {
     "data": {
      "text/html": [
       "<div>\n",
       "<style scoped>\n",
       "    .dataframe tbody tr th:only-of-type {\n",
       "        vertical-align: middle;\n",
       "    }\n",
       "\n",
       "    .dataframe tbody tr th {\n",
       "        vertical-align: top;\n",
       "    }\n",
       "\n",
       "    .dataframe thead th {\n",
       "        text-align: right;\n",
       "    }\n",
       "</style>\n",
       "<table border=\"1\" class=\"dataframe\">\n",
       "  <thead>\n",
       "    <tr style=\"text-align: right;\">\n",
       "      <th></th>\n",
       "      <th>주거용</th>\n",
       "      <th>공공용</th>\n",
       "      <th>서비스업</th>\n",
       "      <th>농림어업</th>\n",
       "      <th>광업</th>\n",
       "      <th>제조업</th>\n",
       "      <th>식료품제조</th>\n",
       "      <th>섬유,의류</th>\n",
       "      <th>목재,나무</th>\n",
       "      <th>펄프,종이</th>\n",
       "      <th>...</th>\n",
       "      <th>1차금속</th>\n",
       "      <th>조립금속</th>\n",
       "      <th>기타기계</th>\n",
       "      <th>사무기기</th>\n",
       "      <th>전기기기</th>\n",
       "      <th>영상,음향</th>\n",
       "      <th>자동차</th>\n",
       "      <th>기타운송</th>\n",
       "      <th>가구및기타</th>\n",
       "      <th>재생재료</th>\n",
       "    </tr>\n",
       "    <tr>\n",
       "      <th>구분</th>\n",
       "      <th></th>\n",
       "      <th></th>\n",
       "      <th></th>\n",
       "      <th></th>\n",
       "      <th></th>\n",
       "      <th></th>\n",
       "      <th></th>\n",
       "      <th></th>\n",
       "      <th></th>\n",
       "      <th></th>\n",
       "      <th></th>\n",
       "      <th></th>\n",
       "      <th></th>\n",
       "      <th></th>\n",
       "      <th></th>\n",
       "      <th></th>\n",
       "      <th></th>\n",
       "      <th></th>\n",
       "      <th></th>\n",
       "      <th></th>\n",
       "      <th></th>\n",
       "    </tr>\n",
       "  </thead>\n",
       "  <tbody>\n",
       "    <tr>\n",
       "      <th>강원</th>\n",
       "      <td>1940933</td>\n",
       "      <td>1400421</td>\n",
       "      <td>6203749</td>\n",
       "      <td>607139</td>\n",
       "      <td>398287</td>\n",
       "      <td>6002286</td>\n",
       "      <td>546621</td>\n",
       "      <td>13027</td>\n",
       "      <td>19147</td>\n",
       "      <td>24382</td>\n",
       "      <td>...</td>\n",
       "      <td>1038913</td>\n",
       "      <td>39477</td>\n",
       "      <td>35063</td>\n",
       "      <td>2019</td>\n",
       "      <td>38062</td>\n",
       "      <td>43986</td>\n",
       "      <td>113448</td>\n",
       "      <td>108629</td>\n",
       "      <td>12872</td>\n",
       "      <td>3418</td>\n",
       "    </tr>\n",
       "    <tr>\n",
       "      <th>경남</th>\n",
       "      <td>4260988</td>\n",
       "      <td>1427560</td>\n",
       "      <td>8667737</td>\n",
       "      <td>2141813</td>\n",
       "      <td>95989</td>\n",
       "      <td>18053778</td>\n",
       "      <td>932743</td>\n",
       "      <td>346974</td>\n",
       "      <td>60160</td>\n",
       "      <td>817685</td>\n",
       "      <td>...</td>\n",
       "      <td>3809547</td>\n",
       "      <td>1699879</td>\n",
       "      <td>1902913</td>\n",
       "      <td>8070</td>\n",
       "      <td>924235</td>\n",
       "      <td>534196</td>\n",
       "      <td>2156059</td>\n",
       "      <td>2048646</td>\n",
       "      <td>262523</td>\n",
       "      <td>47662</td>\n",
       "    </tr>\n",
       "    <tr>\n",
       "      <th>경북</th>\n",
       "      <td>3302463</td>\n",
       "      <td>1578115</td>\n",
       "      <td>8487402</td>\n",
       "      <td>1747462</td>\n",
       "      <td>224568</td>\n",
       "      <td>30115601</td>\n",
       "      <td>566071</td>\n",
       "      <td>3780171</td>\n",
       "      <td>72680</td>\n",
       "      <td>361772</td>\n",
       "      <td>...</td>\n",
       "      <td>10874970</td>\n",
       "      <td>933178</td>\n",
       "      <td>782570</td>\n",
       "      <td>14468</td>\n",
       "      <td>750786</td>\n",
       "      <td>4174971</td>\n",
       "      <td>2356890</td>\n",
       "      <td>123935</td>\n",
       "      <td>60280</td>\n",
       "      <td>77104</td>\n",
       "    </tr>\n",
       "    <tr>\n",
       "      <th>광주</th>\n",
       "      <td>1954876</td>\n",
       "      <td>565527</td>\n",
       "      <td>3174973</td>\n",
       "      <td>74608</td>\n",
       "      <td>2898</td>\n",
       "      <td>2910768</td>\n",
       "      <td>161072</td>\n",
       "      <td>295922</td>\n",
       "      <td>6782</td>\n",
       "      <td>41827</td>\n",
       "      <td>...</td>\n",
       "      <td>75702</td>\n",
       "      <td>156396</td>\n",
       "      <td>198847</td>\n",
       "      <td>5967</td>\n",
       "      <td>236622</td>\n",
       "      <td>723764</td>\n",
       "      <td>512148</td>\n",
       "      <td>5140</td>\n",
       "      <td>13392</td>\n",
       "      <td>16049</td>\n",
       "    </tr>\n",
       "    <tr>\n",
       "      <th>대구</th>\n",
       "      <td>3151904</td>\n",
       "      <td>826396</td>\n",
       "      <td>5470438</td>\n",
       "      <td>69142</td>\n",
       "      <td>5858</td>\n",
       "      <td>5862633</td>\n",
       "      <td>212626</td>\n",
       "      <td>1057342</td>\n",
       "      <td>16215</td>\n",
       "      <td>445646</td>\n",
       "      <td>...</td>\n",
       "      <td>317580</td>\n",
       "      <td>661307</td>\n",
       "      <td>516493</td>\n",
       "      <td>58446</td>\n",
       "      <td>180189</td>\n",
       "      <td>252662</td>\n",
       "      <td>1381273</td>\n",
       "      <td>68127</td>\n",
       "      <td>41814</td>\n",
       "      <td>33616</td>\n",
       "    </tr>\n",
       "  </tbody>\n",
       "</table>\n",
       "<p>5 rows × 24 columns</p>\n",
       "</div>"
      ],
      "text/plain": [
       "        주거용      공공용     서비스업     농림어업      광업       제조업   식료품제조    섬유,의류  \\\n",
       "구분                                                                          \n",
       "강원  1940933  1400421  6203749   607139  398287   6002286  546621    13027   \n",
       "경남  4260988  1427560  8667737  2141813   95989  18053778  932743   346974   \n",
       "경북  3302463  1578115  8487402  1747462  224568  30115601  566071  3780171   \n",
       "광주  1954876   565527  3174973    74608    2898   2910768  161072   295922   \n",
       "대구  3151904   826396  5470438    69142    5858   5862633  212626  1057342   \n",
       "\n",
       "    목재,나무   펄프,종이  ...      1차금속     조립금속     기타기계   사무기기    전기기기    영상,음향  \\\n",
       "구분                 ...                                                       \n",
       "강원  19147   24382  ...   1038913    39477    35063   2019   38062    43986   \n",
       "경남  60160  817685  ...   3809547  1699879  1902913   8070  924235   534196   \n",
       "경북  72680  361772  ...  10874970   933178   782570  14468  750786  4174971   \n",
       "광주   6782   41827  ...     75702   156396   198847   5967  236622   723764   \n",
       "대구  16215  445646  ...    317580   661307   516493  58446  180189   252662   \n",
       "\n",
       "        자동차     기타운송   가구및기타   재생재료  \n",
       "구분                                   \n",
       "강원   113448   108629   12872   3418  \n",
       "경남  2156059  2048646  262523  47662  \n",
       "경북  2356890   123935   60280  77104  \n",
       "광주   512148     5140   13392  16049  \n",
       "대구  1381273    68127   41814  33616  \n",
       "\n",
       "[5 rows x 24 columns]"
      ]
     },
     "execution_count": 32,
     "metadata": {},
     "output_type": "execute_result"
    }
   ],
   "source": [
    "df.head()"
   ]
  },
  {
   "cell_type": "code",
   "execution_count": 33,
   "metadata": {
    "id": "od0HDg2omPjN"
   },
   "outputs": [],
   "source": [
    "index_ = df.index\n",
    "column_ = df.columns"
   ]
  },
  {
   "cell_type": "code",
   "execution_count": 34,
   "metadata": {
    "id": "x5L7apTAmPjR",
    "outputId": "39599c8f-23fa-4c69-ad1f-3ccac9ae9499",
    "scrolled": true
   },
   "outputs": [
    {
     "data": {
      "text/plain": [
       "Index(['강원', '경남', '경북', '광주', '대구', '대전', '부산', '세종', '울산', '인천', '전남', '전북',\n",
       "       '제주', '충남', '충북'],\n",
       "      dtype='object', name='구분')"
      ]
     },
     "execution_count": 34,
     "metadata": {},
     "output_type": "execute_result"
    }
   ],
   "source": [
    "index_"
   ]
  },
  {
   "cell_type": "code",
   "execution_count": 35,
   "metadata": {
    "id": "wVL9zlGQmPjU",
    "outputId": "c69cc246-d06a-47e9-a072-637fc257bac7"
   },
   "outputs": [
    {
     "data": {
      "text/plain": [
       "Index(['주거용', '공공용', '서비스업', '농림어업', '광업', '제조업', '식료품제조', '섬유,의류', '목재,나무',\n",
       "       '펄프,종이', '출판,인쇄', '석유,화확', '의료,광학', '요업', '1차금속', '조립금속', '기타기계',\n",
       "       '사무기기', '전기기기', '영상,음향', '자동차', '기타운송', '가구및기타', '재생재료'],\n",
       "      dtype='object')"
      ]
     },
     "execution_count": 35,
     "metadata": {},
     "output_type": "execute_result"
    }
   ],
   "source": [
    "column_"
   ]
  },
  {
   "cell_type": "code",
   "execution_count": 36,
   "metadata": {
    "id": "IWd8r8DsmPjY",
    "outputId": "5bad8063-4ebd-467a-eebf-f71e2761ae7c"
   },
   "outputs": [
    {
     "data": {
      "text/plain": [
       "['주거용',\n",
       " '공공용',\n",
       " '서비스업',\n",
       " '농림어업',\n",
       " '광업',\n",
       " '제조업',\n",
       " '식료품제조',\n",
       " '섬유,의류',\n",
       " '목재,나무',\n",
       " '펄프,종이',\n",
       " '출판,인쇄',\n",
       " '석유,화확',\n",
       " '의료,광학',\n",
       " '요업',\n",
       " '1차금속',\n",
       " '조립금속',\n",
       " '기타기계',\n",
       " '사무기기',\n",
       " '전기기기',\n",
       " '영상,음향',\n",
       " '자동차',\n",
       " '기타운송',\n",
       " '가구및기타',\n",
       " '재생재료']"
      ]
     },
     "execution_count": 36,
     "metadata": {},
     "output_type": "execute_result"
    }
   ],
   "source": [
    "list(column_)"
   ]
  },
  {
   "cell_type": "code",
   "execution_count": 37,
   "metadata": {
    "id": "HEQ-3paMmPjb",
    "outputId": "698e3778-46dd-4022-c82d-dcce69b58fc6"
   },
   "outputs": [
    {
     "data": {
      "text/plain": [
       "(5, 2)"
      ]
     },
     "execution_count": 37,
     "metadata": {},
     "output_type": "execute_result"
    }
   ],
   "source": [
    "list(column_).index('제조업'), list(column_).index('서비스업')"
   ]
  },
  {
   "cell_type": "code",
   "execution_count": 44,
   "metadata": {
    "id": "x1_vu4cgmPjk"
   },
   "outputs": [],
   "source": [
    "from sklearn.preprocessing import StandardScaler\n",
    "scaler = StandardScaler()\n",
    "df_scaled = scaler.fit_transform(df)    # returns an array (not dataframe)"
   ]
  },
  {
   "cell_type": "code",
   "execution_count": 42,
   "metadata": {
    "id": "-txdrcZNmPjm",
    "outputId": "cf311c03-48fe-4e10-c826-9ce34c836f7a"
   },
   "outputs": [
    {
     "name": "stdout",
     "output_type": "stream",
     "text": [
      "<class 'pandas.core.frame.DataFrame'> <class 'numpy.ndarray'>\n"
     ]
    }
   ],
   "source": [
    "print(type(df), type(df_scaled))"
   ]
  },
  {
   "cell_type": "code",
   "execution_count": 45,
   "metadata": {
    "id": "luxR8xHZmPjo",
    "outputId": "e1ee7b79-a501-4313-c0cd-01fd7107899b"
   },
   "outputs": [
    {
     "data": {
      "image/png": "[encoded data removed]",
      "text/plain": [
       "<Figure size 720x360 with 1 Axes>"
      ]
     },
     "metadata": {
      "needs_background": "light"
     },
     "output_type": "display_data"
    }
   ],
   "source": [
    "Z = linkage(df_scaled, metric='euclidean', method='centroid')\n",
    "plt.figure(figsize=(10, 5))\n",
    "plt.title('Dendrogram for all features (scaled)')\n",
    "dendrogram(Z, labels=index_)\n",
    "plt.show()"
   ]
  },
  {
   "cell_type": "code",
   "execution_count": 46,
   "metadata": {
    "id": "Ee-Nx-lZmPjq"
   },
   "outputs": [
    {
     "name": "stdout",
     "output_type": "stream",
     "text": [
      "[[ 0.4729556   0.40306446  0.1645775  -0.34662592 -0.2795791  -0.25780202\n",
      "   0.65916942  0.09398825  0.06221433  0.60925874  0.19533248 -0.34711442\n",
      "  -0.17724648  0.07354951 -0.45566631  0.27209702  0.0717554   0.87796971\n",
      "   0.2062967  -0.11452091 -0.02332097 -0.32768875  0.39456053  0.6871642 ]\n",
      " [-0.80670038 -0.65022296 -0.74554771 -0.15444205 -0.1766458  -0.43227338\n",
      "  -0.72564872 -0.39191158 -0.50458273 -0.47379294 -0.79242599  0.16406657\n",
      "  -0.45929592 -0.02806164 -0.39192638 -0.78715114 -0.73512937 -0.48012602\n",
      "  -0.5501468  -0.46830075 -0.56935008 -0.10680832 -0.56171066 -0.71096136]\n",
      " [ 0.84303539  1.01732643  1.24681469  1.09142754  0.85567359  1.38281262\n",
      "   0.75471995  0.97169617 -0.0231458   0.62012258  0.822395    0.1868858\n",
      "   0.15404283  0.1465468   1.57519337  1.2762759   1.29264761  0.02910641\n",
      "   1.14583779  1.29438622  1.50037953  0.83199499  0.19581729  0.69505906]\n",
      " [ 1.22597407 -0.11267642  0.82007991 -0.80668462 -0.21218376 -0.09131611\n",
      "   0.17870352 -0.54766041  3.3526592  -0.9808521   2.29846704 -0.32066576\n",
      "   3.46192889 -0.53740701 -0.15943021  0.59284218  0.9809411  -0.23831592\n",
      "  -0.41167255 -0.14696976 -0.42240416 -0.43757173  1.76628061  0.14289558]]\n",
      "[1 2 2 1 0 1 0 1 1 3 1 0 1 2 0]\n"
     ]
    }
   ],
   "source": [
    "km = KMeans(n_clusters=4).fit(df_scaled)\n",
    "print(km.cluster_centers_)\n",
    "print(km.labels_)"
   ]
  },
  {
   "cell_type": "code",
   "execution_count": 47,
   "metadata": {},
   "outputs": [
    {
     "name": "stdout",
     "output_type": "stream",
     "text": [
      "all features, scaled:  [1 2 2 1 0 1 0 1 1 3 1 0 1 2 0]\n",
      "two features:          [1 0 2 1 1 1 1 1 3 0 3 0 1 2 0]\n",
      "two features, scaled:  [3 3 0 2 3 2 3 2 1 3 1 1 2 0 1]\n"
     ]
    }
   ],
   "source": [
    "print(\"all features, scaled: \", km.labels_)\n",
    "print(\"two features:         \", km_labels_two)\n",
    "print(\"two features, scaled: \", km_labels_two_scaled)"
   ]
  },
  {
   "cell_type": "markdown",
   "metadata": {
    "id": "p5pDSHt4mPjw"
   },
   "source": [
    "## DBSCAN(eps=, min_samples=,metric=) \n",
    "- eps: The maximum distance between two samples for one to be considered as in the neighborhood of the other. This is the most important DBSCAN parameter to choose appropriately for your data set and distance function.\n",
    "- min_samples: The number of samples (or total weight) in a neighborhood for a point to be considered as a core point. This includes the point itself.\n",
    "- metric: The metric to use when calculating distance between instances in a feature array. "
   ]
  },
  {
   "cell_type": "code",
   "execution_count": 48,
   "metadata": {
    "colab": {
     "base_uri": "https://localhost:8080/",
     "height": 212
    },
    "executionInfo": {
     "elapsed": 1891,
     "status": "error",
     "timestamp": 1603693818168,
     "user": {
      "displayName": "Yongjin Jeong",
      "photoUrl": "",
      "userId": "03658406798560557048"
     },
     "user_tz": -540
    },
    "id": "hPmjkKcxmPjx",
    "outputId": "f80629ff-22a3-4029-fa82-49df1bed63ff"
   },
   "outputs": [
    {
     "data": {
      "text/plain": [
       "(array([[ 0.09999454, -0.06140157],\n",
       "        [-0.84634104,  0.72976933],\n",
       "        [-0.22592098,  0.99424568],\n",
       "        [ 1.2646073 , -0.39786026],\n",
       "        [ 0.98061929,  0.19150151]]),\n",
       " array([1, 0, 0, 1, 0], dtype=int64))"
      ]
     },
     "execution_count": 48,
     "metadata": {},
     "output_type": "execute_result"
    }
   ],
   "source": [
    "from sklearn.datasets import make_moons\n",
    "from sklearn.cluster import DBSCAN\n",
    "X, y = make_moons(n_samples=300, noise=0.05, random_state=11)   # X :samples, y: label\n",
    "\n",
    "X[:5],y[:5]"
   ]
  },
  {
   "cell_type": "code",
   "execution_count": 49,
   "metadata": {
    "colab": {
     "base_uri": "https://localhost:8080/",
     "height": 212
    },
    "executionInfo": {
     "elapsed": 1891,
     "status": "error",
     "timestamp": 1603693818168,
     "user": {
      "displayName": "Yongjin Jeong",
      "photoUrl": "",
      "userId": "03658406798560557048"
     },
     "user_tz": -540
    },
    "id": "hPmjkKcxmPjx",
    "outputId": "f80629ff-22a3-4029-fa82-49df1bed63ff"
   },
   "outputs": [
    {
     "data": {
      "image/png": "[encoded data removed]",
      "text/plain": [
       "<Figure size 432x288 with 1 Axes>"
      ]
     },
     "metadata": {
      "needs_background": "light"
     },
     "output_type": "display_data"
    }
   ],
   "source": [
    "plt.scatter(X[:,0], X[:,1], c='b')\n",
    "plt.show()"
   ]
  },
  {
   "cell_type": "code",
   "execution_count": 51,
   "metadata": {
    "executionInfo": {
     "elapsed": 1873,
     "status": "aborted",
     "timestamp": 1603693818160,
     "user": {
      "displayName": "Yongjin Jeong",
      "photoUrl": "",
      "userId": "03658406798560557048"
     },
     "user_tz": -540
    },
    "id": "dzaKCjbNmPjz"
   },
   "outputs": [
    {
     "data": {
      "text/plain": [
       "array([1, 1, 1, 0, 0, 0, 0, 1, 0, 1, 1, 0, 1, 0, 1, 0, 1, 0, 1, 0, 0, 0,\n",
       "       0, 1, 0, 1, 0, 0, 1, 1, 0, 1, 1, 0, 1, 0, 1, 0, 0, 0, 1, 0, 1, 1,\n",
       "       0, 0, 1, 1, 0, 1, 0, 1, 0, 1, 1, 1, 1, 1, 0, 1, 0, 1, 0, 0, 0, 0,\n",
       "       0, 1, 1, 0, 1, 1, 0, 1, 0, 0, 1, 1, 1, 0, 0, 0, 0, 0, 0, 0, 1, 0,\n",
       "       1, 1, 0, 0, 0, 1, 1, 1, 1, 0, 1, 0, 0, 0, 1, 1, 0, 1, 1, 0, 0, 0,\n",
       "       1, 0, 0, 1, 1, 1, 1, 1, 0, 1, 1, 0, 0, 1, 0, 1, 1, 1, 0, 0, 0, 1,\n",
       "       0, 1, 0, 0, 1, 1, 0, 1, 0, 1, 0, 1, 1, 0, 1, 1, 0, 0, 1, 0, 0, 0,\n",
       "       1, 0, 0, 1, 1, 0, 1, 0, 0, 0, 1, 0, 0, 1, 0, 0, 0, 0, 0, 0, 1, 0,\n",
       "       0, 0, 0, 1, 0, 0, 0, 0, 0, 0, 1, 1, 0, 0, 0, 1, 1, 0, 1, 0, 0, 1,\n",
       "       0, 1, 1, 0, 0, 1, 1, 1, 1, 1, 1, 0, 0, 1, 1, 0, 1, 1, 0, 0, 1, 1,\n",
       "       1, 0, 0, 1, 1, 1, 1, 0, 1, 0, 0, 0, 1, 1, 0, 1, 1, 0, 1, 0, 1, 0,\n",
       "       0, 1, 1, 1, 1, 0, 1, 1, 1, 1, 1, 0, 0, 1, 1, 0, 1, 0, 1, 1, 1, 0,\n",
       "       0, 1, 0, 1, 0, 0, 1, 1, 0, 1, 1, 0, 0, 0, 1, 1, 1, 0, 1, 0, 1, 1,\n",
       "       0, 1, 0, 0, 1, 1, 1, 0, 1, 1, 0, 1, 1, 0])"
      ]
     },
     "execution_count": 51,
     "metadata": {},
     "output_type": "execute_result"
    }
   ],
   "source": [
    "kmeans = KMeans(n_clusters=2)\n",
    "predict = kmeans.fit_predict(X)   # returns a predicted array\n",
    "\n",
    "predict"
   ]
  },
  {
   "cell_type": "code",
   "execution_count": 52,
   "metadata": {
    "executionInfo": {
     "elapsed": 1866,
     "status": "aborted",
     "timestamp": 1603693818161,
     "user": {
      "displayName": "Yongjin Jeong",
      "photoUrl": "",
      "userId": "03658406798560557048"
     },
     "user_tz": -540
    },
    "id": "KeY7WRz9mPj3"
   },
   "outputs": [
    {
     "data": {
      "text/plain": [
       "<matplotlib.collections.PathCollection at 0x248b67006a0>"
      ]
     },
     "execution_count": 52,
     "metadata": {},
     "output_type": "execute_result"
    },
    {
     "data": {
      "image/png": "[encoded data removed]",
      "text/plain": [
       "<Figure size 432x288 with 1 Axes>"
      ]
     },
     "metadata": {
      "needs_background": "light"
     },
     "output_type": "display_data"
    }
   ],
   "source": [
    "plt.scatter(X[:,0], X[:,1],c=predict)"
   ]
  },
  {
   "cell_type": "code",
   "execution_count": 53,
   "metadata": {
    "executionInfo": {
     "elapsed": 1861,
     "status": "aborted",
     "timestamp": 1603693818163,
     "user": {
      "displayName": "Yongjin Jeong",
      "photoUrl": "",
      "userId": "03658406798560557048"
     },
     "user_tz": -540
    },
    "id": "xYZvqP1ZmPj6",
    "scrolled": true
   },
   "outputs": [
    {
     "data": {
      "text/plain": [
       "<matplotlib.collections.PathCollection at 0x248b66b3040>"
      ]
     },
     "execution_count": 53,
     "metadata": {},
     "output_type": "execute_result"
    },
    {
     "data": {
      "image/png": "[encoded data removed]",
      "text/plain": [
       "<Figure size 432x288 with 1 Axes>"
      ]
     },
     "metadata": {
      "needs_background": "light"
     },
     "output_type": "display_data"
    }
   ],
   "source": [
    "dbscan = DBSCAN(eps=0.2, min_samples=10, metric='euclidean')\n",
    "predict = dbscan.fit_predict(X)\n",
    "plt.scatter(X[:,0], X[:,1],c=predict)"
   ]
  },
  {
   "cell_type": "code",
   "execution_count": 54,
   "metadata": {
    "executionInfo": {
     "elapsed": 1855,
     "status": "aborted",
     "timestamp": 1603693818164,
     "user": {
      "displayName": "Yongjin Jeong",
      "photoUrl": "",
      "userId": "03658406798560557048"
     },
     "user_tz": -540
    },
    "id": "1B5Np9vfmPj9"
   },
   "outputs": [
    {
     "data": {
      "text/plain": [
       "<matplotlib.collections.PathCollection at 0x248b60869d0>"
      ]
     },
     "execution_count": 54,
     "metadata": {},
     "output_type": "execute_result"
    },
    {
     "data": {
      "image/png": "[encoded data removed]",
      "text/plain": [
       "<Figure size 432x288 with 1 Axes>"
      ]
     },
     "metadata": {
      "needs_background": "light"
     },
     "output_type": "display_data"
    }
   ],
   "source": [
    "dbscan = DBSCAN(eps=0.1, min_samples=5, metric='euclidean')\n",
    "predict = dbscan.fit_predict(X)\n",
    "plt.scatter(X[:,0], X[:,1],c=predict)"
   ]
  },
  {
   "cell_type": "code",
   "execution_count": 56,
   "metadata": {
    "executionInfo": {
     "elapsed": 1847,
     "status": "aborted",
     "timestamp": 1603693818164,
     "user": {
      "displayName": "Yongjin Jeong",
      "photoUrl": "",
      "userId": "03658406798560557048"
     },
     "user_tz": -540
    },
    "id": "UGi1Soz_mPj_"
   },
   "outputs": [
    {
     "name": "stdout",
     "output_type": "stream",
     "text": [
      "[-1 -1 -1  4 -1 -1 -1 -1  1 -1 -1 -1  2 -1 -1 -1  2  0 -1  7 -1 -1 -1 -1\n",
      " -1  2 -1 -1 -1 -1  5 -1 -1  7 -1  7 -1  0  1 -1 -1  4 -1  9 -1 -1  3 -1\n",
      "  1 -1  0 -1 -1  2 -1 -1 -1 -1  5 -1  0 -1 -1  8 -1 -1 -1 -1  2  7  3  3\n",
      " -1 -1 -1 -1  6  6  3 -1 -1  8 -1  7 -1  4 -1  7 -1 -1  0 -1  7 -1 -1 -1\n",
      " -1  4 -1  8  4  5 -1 -1  0 -1 -1  4  4 -1 -1 -1 -1  3  2  9  3 -1  1  9\n",
      "  6 -1  5 -1  0  3 -1  6 -1  5  5 -1  1 -1  8 -1 -1  6  4 -1 -1  2 -1 -1\n",
      " -1 -1 -1  9  1 -1 -1  0  0  4 -1  8 -1 -1  3  4 -1 -1 -1  4 -1 -1 -1 -1\n",
      "  0  1  1 -1  4 -1 -1 -1  1 -1 -1 -1 -1 -1 -1 -1  1  1 -1  3  0 -1 -1 -1\n",
      " -1 -1  9 -1 -1 -1  5  3 -1  5  4 -1  6 -1 -1  2  3  0 -1 -1 -1 -1 -1 -1\n",
      "  0 -1  9 -1  9 -1 -1 -1 -1 -1  3 -1  2  5  1 -1 -1 -1 -1 -1 -1 -1 -1  7\n",
      " -1  7 -1 -1 -1 -1 -1  7  9 -1 -1 -1 -1 -1  0  2  2 -1  6 -1  6  6  2  0\n",
      " -1 -1 -1 -1  4  8  2 -1  8  3  9 -1  1  4 -1 -1 -1  5 -1 -1 -1 -1 -1 -1\n",
      "  4 -1  6 -1 -1 -1 -1 -1 -1 -1  9 -1]\n"
     ]
    },
    {
     "data": {
      "text/plain": [
       "<matplotlib.collections.PathCollection at 0x248b5db6130>"
      ]
     },
     "execution_count": 56,
     "metadata": {},
     "output_type": "execute_result"
    },
    {
     "data": {
      "image/png": "[encoded data removed]",
      "text/plain": [
       "<Figure size 432x288 with 1 Axes>"
      ]
     },
     "metadata": {
      "needs_background": "light"
     },
     "output_type": "display_data"
    }
   ],
   "source": [
    "dbscan = DBSCAN(eps=0.1, min_samples=10, metric='euclidean')\n",
    "predict = dbscan.fit_predict(X)\n",
    "print(predict)\n",
    "plt.scatter(X[:,0], X[:,1],c=predict)"
   ]
  },
  {
   "cell_type": "code",
   "execution_count": 57,
   "metadata": {
    "executionInfo": {
     "elapsed": 1841,
     "status": "aborted",
     "timestamp": 1603693818165,
     "user": {
      "displayName": "Yongjin Jeong",
      "photoUrl": "",
      "userId": "03658406798560557048"
     },
     "user_tz": -540
    },
    "id": "I0J8CiwemPkB"
   },
   "outputs": [
    {
     "data": {
      "text/plain": [
       "<matplotlib.collections.PathCollection at 0x248b5d49e20>"
      ]
     },
     "execution_count": 57,
     "metadata": {},
     "output_type": "execute_result"
    },
    {
     "data": {
      "image/png": "[encoded data removed]",
      "text/plain": [
       "<Figure size 432x288 with 1 Axes>"
      ]
     },
     "metadata": {
      "needs_background": "light"
     },
     "output_type": "display_data"
    }
   ],
   "source": [
    "dbscan = DBSCAN(eps=0.5, min_samples=10, metric='euclidean')\n",
    "predict = dbscan.fit_predict(X)\n",
    "plt.scatter(X[:,0], X[:,1],c=predict)"
   ]
  },
  {
   "cell_type": "code",
   "execution_count": 58,
   "metadata": {
    "executionInfo": {
     "elapsed": 1835,
     "status": "aborted",
     "timestamp": 1603693818166,
     "user": {
      "displayName": "Yongjin Jeong",
      "photoUrl": "",
      "userId": "03658406798560557048"
     },
     "user_tz": -540
    },
    "id": "OI2XqZ4imPkD"
   },
   "outputs": [
    {
     "data": {
      "text/plain": [
       "<matplotlib.collections.PathCollection at 0x248b667fd90>"
      ]
     },
     "execution_count": 58,
     "metadata": {},
     "output_type": "execute_result"
    },
    {
     "data": {
      "image/png": "[encoded data removed]",
      "text/plain": [
       "<Figure size 432x288 with 1 Axes>"
      ]
     },
     "metadata": {
      "needs_background": "light"
     },
     "output_type": "display_data"
    }
   ],
   "source": [
    "dbscan = DBSCAN(eps=0.2, min_samples=6, metric='euclidean')\n",
    "predict = dbscan.fit_predict(X)\n",
    "plt.scatter(X[:,0], X[:,1],c=predict)"
   ]
  },
  {
   "cell_type": "code",
   "execution_count": 59,
   "metadata": {
    "executionInfo": {
     "elapsed": 1826,
     "status": "aborted",
     "timestamp": 1603693818166,
     "user": {
      "displayName": "Yongjin Jeong",
      "photoUrl": "",
      "userId": "03658406798560557048"
     },
     "user_tz": -540
    },
    "id": "fS0lTY_ymPkE",
    "scrolled": false
   },
   "outputs": [
    {
     "data": {
      "text/plain": [
       "<matplotlib.collections.PathCollection at 0x248b5d4fe50>"
      ]
     },
     "execution_count": 59,
     "metadata": {},
     "output_type": "execute_result"
    },
    {
     "data": {
      "image/png": "[encoded data removed]",
      "text/plain": [
       "<Figure size 432x288 with 1 Axes>"
      ]
     },
     "metadata": {
      "needs_background": "light"
     },
     "output_type": "display_data"
    }
   ],
   "source": [
    "dbscan = DBSCAN(eps=0.2, min_samples=15, metric='euclidean')\n",
    "predict = dbscan.fit_predict(X)\n",
    "plt.scatter(X[:,0], X[:,1],c=predict)"
   ]
  },
  {
   "cell_type": "markdown",
   "metadata": {},
   "source": [
    "# more on clustering"
   ]
  },
  {
   "cell_type": "code",
   "execution_count": 60,
   "metadata": {},
   "outputs": [
    {
     "name": "stdout",
     "output_type": "stream",
     "text": [
      "[[0. 1.]\n",
      " [1. 0.]]\n",
      "[[1.        ]\n",
      " [1.41421356]]\n",
      "[[0.         0.29289322]\n",
      " [0.29289322 0.        ]]\n",
      "[[1.]\n",
      " [2.]]\n"
     ]
    }
   ],
   "source": [
    "from sklearn.metrics.pairwise import euclidean_distances,cosine_distances,manhattan_distances\n",
    "\n",
    "X = [[0, 1], [1, 1]]\n",
    "print(euclidean_distances(X, X))\n",
    "print(euclidean_distances(X, [[0,0]]))\n",
    "print(cosine_distances(X,X))       # defined as 1 - cos_similarity\n",
    "print(manhattan_distances(X,[[0,0]]))"
   ]
  },
  {
   "cell_type": "code",
   "execution_count": 61,
   "metadata": {
    "scrolled": true
   },
   "outputs": [
    {
     "data": {
      "text/plain": [
       "<matplotlib.collections.PathCollection at 0x248b5dee100>"
      ]
     },
     "execution_count": 61,
     "metadata": {},
     "output_type": "execute_result"
    },
    {
     "data": {
      "image/png": "[encoded data removed]",
      "text/plain": [
       "<Figure size 432x288 with 1 Axes>"
      ]
     },
     "metadata": {
      "needs_background": "light"
     },
     "output_type": "display_data"
    }
   ],
   "source": [
    "from sklearn.datasets import make_blobs\n",
    "\n",
    "X,y = make_blobs(n_features=2, n_samples=1000, centers=5, cluster_std=1, random_state=3)    \n",
    "plt.scatter(X[:,0], X[:,1], s=5, alpha=.5)"
   ]
  },
  {
   "cell_type": "markdown",
   "metadata": {},
   "source": [
    "##### KMeans Algorithm\n",
    "1. Initialize k centroids.\n",
    "2. Assign each data to the nearest centroid, these step will create clusters.\n",
    "3. Recalculate centroid - which is mean of all data belonging to same cluster.\n",
    "4. Repeat steps 2 & 3, till there is no data to reassign a different centroid.\n",
    "\n",
    "Animation to explain algo - http://tech.nitoyon.com/en/blog/2013/11/07/k-means/"
   ]
  }
 ],
 "metadata": {
  "colab": {
   "name": "gg-27-전력클러스터링_rev1.ipynb",
   "provenance": []
  },
  "kernelspec": {
   "display_name": "Python 3",
   "language": "python",
   "name": "python3"
  },
  "language_info": {
   "codemirror_mode": {
    "name": "ipython",
    "version": 3
   },
   "file_extension": ".py",
   "mimetype": "text/x-python",
   "name": "python",
   "nbconvert_exporter": "python",
   "pygments_lexer": "ipython3",
   "version": "3.8.3"
  }
 },
 "nbformat": 4,
 "nbformat_minor": 1
}
